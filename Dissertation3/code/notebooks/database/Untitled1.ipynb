{
 "cells": [
  {
   "cell_type": "code",
   "execution_count": 63,
   "id": "50170f41",
   "metadata": {},
   "outputs": [],
   "source": [
    "import recursive as sv\n",
    "from importlib import reload\n",
    "reload(sv);"
   ]
  },
  {
   "cell_type": "code",
   "execution_count": 44,
   "id": "7c785ca8",
   "metadata": {},
   "outputs": [],
   "source": [
    "data = sv.list_store([\n",
    "    sv.dict_store({'nom': \"Johnny\", 'id': i})\n",
    "    for i in range(10)])\n"
   ]
  },
  {
   "cell_type": "code",
   "execution_count": 45,
   "id": "7887a59d",
   "metadata": {},
   "outputs": [
    {
     "data": {
      "text/plain": [
       "list_store (dict_store {}\n",
       ", dict_store {}\n",
       ", dict_store {}\n",
       ", dict_store {}\n",
       ", dict_store {}\n",
       ", dict_store {}\n",
       ", dict_store {}\n",
       ", dict_store {}\n",
       ", dict_store {}\n",
       ", dict_store {}\n",
       ")"
      ]
     },
     "execution_count": 45,
     "metadata": {},
     "output_type": "execute_result"
    }
   ],
   "source": [
    "data.name"
   ]
  },
  {
   "cell_type": "code",
   "execution_count": 46,
   "id": "c0bf9505",
   "metadata": {},
   "outputs": [
    {
     "data": {
      "text/plain": [
       "list_store (0, 1, 2, 3, 4, 5, 6, 7, 8, 9)"
      ]
     },
     "execution_count": 46,
     "metadata": {},
     "output_type": "execute_result"
    }
   ],
   "source": [
    "data.id"
   ]
  },
  {
   "cell_type": "code",
   "execution_count": 47,
   "id": "da5533c0",
   "metadata": {},
   "outputs": [
    {
     "data": {
      "text/plain": [
       "list_store ('Johnny', 'Johnny', 'Johnny', 'Johnny', 'Johnny', 'Johnny', 'Johnny', 'Johnny', 'Johnny', 'Johnny')"
      ]
     },
     "execution_count": 47,
     "metadata": {},
     "output_type": "execute_result"
    }
   ],
   "source": [
    "data.nom"
   ]
  },
  {
   "cell_type": "code",
   "execution_count": 48,
   "id": "a0da0744",
   "metadata": {},
   "outputs": [
    {
     "data": {
      "text/plain": [
       "dict_store {'nom': 'Johnny', 'id': 5}"
      ]
     },
     "execution_count": 48,
     "metadata": {},
     "output_type": "execute_result"
    }
   ],
   "source": [
    "data[5]"
   ]
  },
  {
   "cell_type": "code",
   "execution_count": 60,
   "id": "3c14b6ae",
   "metadata": {},
   "outputs": [
    {
     "data": {
      "text/plain": [
       "list_store (dict_store {}\n",
       ", dict_store {}\n",
       ", dict_store {}\n",
       ", dict_store {}\n",
       ", dict_store {}\n",
       ", dict_store {}\n",
       ", dict_store {}\n",
       ", dict_store {}\n",
       ", dict_store {}\n",
       ", dict_store {}\n",
       ")"
      ]
     },
     "execution_count": 60,
     "metadata": {},
     "output_type": "execute_result"
    }
   ],
   "source": [
    "data.klj"
   ]
  },
  {
   "cell_type": "code",
   "execution_count": 61,
   "id": "ae98d5ab",
   "metadata": {},
   "outputs": [
    {
     "data": {
      "text/plain": [
       "0"
      ]
     },
     "execution_count": 61,
     "metadata": {},
     "output_type": "execute_result"
    }
   ],
   "source": [
    "data[0].id"
   ]
  },
  {
   "cell_type": "code",
   "execution_count": 62,
   "id": "4f9e46fd",
   "metadata": {},
   "outputs": [
    {
     "data": {
      "text/plain": [
       "'dict'"
      ]
     },
     "execution_count": 62,
     "metadata": {},
     "output_type": "execute_result"
    }
   ],
   "source": [
    "getattr(sv.dict_store({}),'_subtype',None)"
   ]
  },
  {
   "cell_type": "code",
   "execution_count": 57,
   "id": "7681084d",
   "metadata": {},
   "outputs": [
    {
     "name": "stdout",
     "output_type": "stream",
     "text": [
      "contains\n"
     ]
    },
    {
     "data": {
      "text/plain": [
       "True"
      ]
     },
     "execution_count": 57,
     "metadata": {},
     "output_type": "execute_result"
    }
   ],
   "source": [
    "'a' in sv.dict_store({})"
   ]
  },
  {
   "cell_type": "code",
   "execution_count": 58,
   "id": "c19e6434",
   "metadata": {},
   "outputs": [
    {
     "data": {
      "text/plain": [
       "dict_store {}"
      ]
     },
     "execution_count": 58,
     "metadata": {},
     "output_type": "execute_result"
    }
   ],
   "source": [
    "getattr(sv.dict_store({}),'a')"
   ]
  },
  {
   "cell_type": "code",
   "execution_count": 59,
   "id": "e7dde06a",
   "metadata": {},
   "outputs": [
    {
     "data": {
      "text/plain": [
       "True"
      ]
     },
     "execution_count": 59,
     "metadata": {},
     "output_type": "execute_result"
    }
   ],
   "source": [
    "not not sv.dict_store({})"
   ]
  },
  {
   "cell_type": "code",
   "execution_count": null,
   "id": "65335f74",
   "metadata": {},
   "outputs": [],
   "source": []
  }
 ],
 "metadata": {
  "kernelspec": {
   "display_name": "Python 3.7.4 64-bit ('base': conda)",
   "language": "python",
   "name": "python37464bitbaseconda865b03b3ea5d4f4bb8519af201560b69"
  },
  "language_info": {
   "codemirror_mode": {
    "name": "ipython",
    "version": 3
   },
   "file_extension": ".py",
   "mimetype": "text/x-python",
   "name": "python",
   "nbconvert_exporter": "python",
   "pygments_lexer": "ipython3",
   "version": "3.7.9"
  }
 },
 "nbformat": 4,
 "nbformat_minor": 5
}
