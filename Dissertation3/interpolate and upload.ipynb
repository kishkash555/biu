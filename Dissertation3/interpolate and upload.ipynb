{
 "cells": [
  {
   "cell_type": "code",
   "execution_count": 1,
   "metadata": {},
   "outputs": [],
   "source": [
    "import sqlalchemy as sql\n",
    "import pandas as pd\n",
    "import glob\n",
    "from os import path, sep\n",
    "import numpy as np\n",
    "import matplotlib.pyplot as plt\n",
    "from numpy.fft import fft, fftshift\n",
    "from scipy.signal import oaconvolve\n",
    "from scipy.signal import remez\n",
    "\n",
    "import decimate as d\n",
    "from importlib import reload\n",
    "reload(d);"
   ]
  },
  {
   "cell_type": "code",
   "execution_count": 2,
   "metadata": {},
   "outputs": [],
   "source": [
    "server = \"thesis.ca6j6heoraog.eu-central-1.rds.amazonaws.com\"\n",
    "engine = sql.create_engine(f\"mysql+pymysql://admin:FphvsYQek4@{server}/thesis_db\")"
   ]
  },
  {
   "cell_type": "code",
   "execution_count": 3,
   "metadata": {},
   "outputs": [],
   "source": [
    "con = engine.connect()"
   ]
  },
  {
   "cell_type": "markdown",
   "metadata": {},
   "source": [
    "```SQL\n",
    "create table interpolation_types (\n",
    "\tid int(11) NOT NULL PRIMARY KEY AUTO_INCREMENT,\n",
    "    interp_algo varchar(45),\n",
    "    algo_version varchar(20),\n",
    "    notebook_name varchar(45)\n",
    "    )\n",
    "```"
   ]
  },
  {
   "cell_type": "code",
   "execution_count": null,
   "metadata": {},
   "outputs": [],
   "source": [
    "\n",
    "stmnt =\"\"\"\n",
    "INSERT INTO interpolation_types\n",
    "values ( \n",
    "    (NULL, \"legacy\", \"\", NULL),\n",
    "    (Null, \"p\")\n",
    ")\n",
    "\"\"\""
   ]
  }
 ],
 "metadata": {
  "kernelspec": {
   "display_name": "Python 3.7.4 64-bit ('base': conda)",
   "language": "python",
   "name": "python37464bitbaseconda865b03b3ea5d4f4bb8519af201560b69"
  },
  "language_info": {
   "codemirror_mode": {
    "name": "ipython",
    "version": 3
   },
   "file_extension": ".py",
   "mimetype": "text/x-python",
   "name": "python",
   "nbconvert_exporter": "python",
   "pygments_lexer": "ipython3",
   "version": "3.7.4"
  }
 },
 "nbformat": 4,
 "nbformat_minor": 4
}
