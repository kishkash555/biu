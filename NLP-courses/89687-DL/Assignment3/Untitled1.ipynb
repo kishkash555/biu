{
 "cells": [
  {
   "cell_type": "code",
   "execution_count": 1,
   "metadata": {},
   "outputs": [
    {
     "ename": "ModuleNotFoundError",
     "evalue": "No module named 'seaborn'",
     "output_type": "error",
     "traceback": [
      "\u001b[1;31m---------------------------------------------------------------------------\u001b[0m",
      "\u001b[1;31mModuleNotFoundError\u001b[0m                       Traceback (most recent call last)",
      "\u001b[1;32m<ipython-input-1-a84c0541e888>\u001b[0m in \u001b[0;36m<module>\u001b[1;34m\u001b[0m\n\u001b[1;32m----> 1\u001b[1;33m \u001b[1;32mimport\u001b[0m \u001b[0mseaborn\u001b[0m \u001b[1;32mas\u001b[0m \u001b[0msns\u001b[0m\u001b[1;33m\u001b[0m\u001b[0m\n\u001b[0m",
      "\u001b[1;31mModuleNotFoundError\u001b[0m: No module named 'seaborn'"
     ]
    }
   ],
   "source": [
    "import seaborn as sns"
   ]
  },
  {
   "cell_type": "code",
   "execution_count": 3,
   "metadata": {},
   "outputs": [],
   "source": [
    "import matplotlib.pyplot as plt\n",
    "%matplotlib inline"
   ]
  },
  {
   "cell_type": "code",
   "execution_count": 6,
   "metadata": {},
   "outputs": [
    {
     "name": "stdout",
     "output_type": "stream",
     "text": [
      " Volume in drive C is OS\n",
      " Volume Serial Number is 5E5B-021C\n",
      "\n",
      " Directory of C:\\Shahar\\BarIlan\\NLP-courses\\89687-DL\\Assignment3\\code\n",
      "\n",
      "12/16/2018  15:22 PM    <DIR>          .\n",
      "12/16/2018  15:22 PM    <DIR>          ..\n",
      "12/16/2018  15:13 PM        90,536,006 .._379396.dy.data\n",
      "12/16/2018  15:13 PM               411 .._379396.dy.meta\n",
      "12/16/2018  14:20 PM         1,614,733 .._trainwords.pickle\n",
      "12/16/2018  15:18 PM               704 best_accuracies.txt\n",
      "12/11/2018  16:36 PM             3,708 bilstm-example.py\n",
      "12/16/2018  11:52 AM             2,143 bilstmPredict.py\n",
      "12/16/2018  13:10 PM             9,494 bilstmTrain.py\n",
      "12/16/2018  13:12 PM            10,270 bilstmTrain.pyc\n",
      "12/10/2018  17:01 PM             4,030 dev\n",
      "12/11/2018  09:38 AM             2,398 dev1\n",
      "12/11/2018  14:07 PM             8,252 dev2\n",
      "12/11/2018  14:09 PM            12,292 dev3\n",
      "12/11/2018  14:17 PM            19,887 dev4\n",
      "12/16/2018  15:22 PM             2,553 even_dev\n",
      "12/16/2018  15:22 PM            25,469 even_train\n",
      "12/16/2018  16:18 PM             4,414 experiment.py\n",
      "12/16/2018  16:08 PM             5,707 gen_examples.py\n",
      "12/11/2018  15:31 PM             1,160 mono_dev\n",
      "12/11/2018  15:08 PM             1,144 mono_dev1\n",
      "12/11/2018  15:33 PM            12,344 mono_train\n",
      "12/11/2018  15:22 PM            12,224 mono_train1\n",
      "12/16/2018  16:15 PM            11,565 mult_dev\n",
      "12/16/2018  16:09 PM           374,365 mult_train\n",
      "12/16/2018  14:54 PM         2,055,806 ner_16121.dy.data\n",
      "12/16/2018  14:54 PM               491 ner_16121.dy.meta\n",
      "12/12/2018  22:28 PM        50,577,702 ner_329753.dy\n",
      "12/16/2018  15:12 PM        50,593,862 ner_424991.dy.data\n",
      "12/16/2018  15:12 PM               411 ner_424991.dy.meta\n",
      "12/13/2018  22:21 PM         2,055,806 ner_549013.dy\n",
      "12/12/2018  22:54 PM        17,122,052 ner_637086.dy\n",
      "12/13/2018  18:10 PM         2,055,806 ner_92864.dy\n",
      "12/12/2018  13:09 PM        50,577,702 ner_987126.dy\n",
      "12/16/2018  15:00 PM           858,344 ner_trainwords.pickle\n",
      "12/16/2018  14:20 PM             6,139 network_structure.py\n",
      "12/16/2018  14:20 PM             8,042 network_structure.pyc\n",
      "12/11/2018  14:50 PM             1,315 number_dev1\n",
      "12/11/2018  14:55 PM            12,931 number_train1\n",
      "12/11/2018  18:46 PM            79,043 part2_results.txt\n",
      "12/16/2018  13:14 PM                 0 pos_136836.dy.data\n",
      "12/16/2018  13:14 PM                 0 pos_136836.dy.meta\n",
      "12/13/2018  23:59 PM         2,055,166 pos_148571.dy\n",
      "12/12/2018  12:42 PM        90,519,846 pos_360597.dy\n",
      "12/12/2018  12:54 PM        90,519,846 pos_606727.dy\n",
      "12/16/2018  14:23 PM         2,055,166 pos_805363.dy.data\n",
      "12/16/2018  14:23 PM               491 pos_805363.dy.meta\n",
      "12/14/2018  04:19 AM         2,055,166 pos_821732.dy\n",
      "12/12/2018  12:31 PM        90,519,846 pos_885986.dy\n",
      "12/13/2018  23:37 PM        90,536,006 pos_963312.dy\n",
      "12/16/2018  13:14 PM         1,614,733 pos_trainwords.pickle\n",
      "12/16/2018  15:18 PM           317,919 report.json\n",
      "12/10/2018  17:01 PM             4,297 train\n",
      "12/11/2018  09:17 AM            24,092 train1\n",
      "12/11/2018  14:00 PM            83,867 train2\n",
      "12/11/2018  14:08 PM           124,083 train3\n",
      "12/11/2018  14:18 PM           202,757 train4\n",
      "              55 File(s)    639,314,006 bytes\n",
      "               2 Dir(s)  54,251,188,224 bytes free\n"
     ]
    }
   ],
   "source": [
    "from os import path\n",
    "!dir code\n"
   ]
  },
  {
   "cell_type": "code",
   "execution_count": 7,
   "metadata": {},
   "outputs": [],
   "source": [
    "import json"
   ]
  },
  {
   "cell_type": "code",
   "execution_count": 9,
   "metadata": {},
   "outputs": [],
   "source": [
    "all_runs = []\n",
    "with open('code/report.json', 'rt') as a:\n",
    "    for line in a:\n",
    "        try:\n",
    "            run = json.loads(line.strip())\n",
    "        except:\n",
    "            pass\n",
    "        all_runs.append(run)"
   ]
  },
  {
   "cell_type": "code",
   "execution_count": 13,
   "metadata": {},
   "outputs": [],
   "source": [
    "my_run = [run for run in all_runs if run[0].get('run_id')=='379396'] "
   ]
  },
  {
   "cell_type": "code",
   "execution_count": 11,
   "metadata": {},
   "outputs": [
    {
     "data": {
      "text/plain": [
       "[{'best_acc_ex0': '0.655',\n",
       "  'run_id': '630344',\n",
       "  'input_dir': 'ner',\n",
       "  'when': '2018-12-13 09:55:31',\n",
       "  'best_acc': '0.941',\n",
       "  'network type': 'b'}]"
      ]
     },
     "execution_count": 11,
     "metadata": {},
     "output_type": "execute_result"
    }
   ],
   "source": [
    "all_runs[0]"
   ]
  },
  {
   "cell_type": "code",
   "execution_count": 16,
   "metadata": {},
   "outputs": [
    {
     "data": {
      "text/plain": [
       "379"
      ]
     },
     "execution_count": 16,
     "metadata": {},
     "output_type": "execute_result"
    }
   ],
   "source": [
    "len(my_run[1])"
   ]
  },
  {
   "cell_type": "code",
   "execution_count": 20,
   "metadata": {},
   "outputs": [],
   "source": [
    "x_y = [(t['cycles'], t['dev_accuracy']) for t in my_run[1][1:]]"
   ]
  },
  {
   "cell_type": "code",
   "execution_count": 19,
   "metadata": {},
   "outputs": [
    {
     "data": {
      "text/plain": [
       "{'best_acc_ex0': '0.955',\n",
       " 'run_id': '379396',\n",
       " 'input_dir': '..',\n",
       " 'when': '2018-12-16 15:14:59',\n",
       " 'best_acc': '0.961',\n",
       " 'network type': 'a'}"
      ]
     },
     "execution_count": 19,
     "metadata": {},
     "output_type": "execute_result"
    }
   ],
   "source": [
    "my_run[1][0]"
   ]
  },
  {
   "cell_type": "code",
   "execution_count": 21,
   "metadata": {},
   "outputs": [],
   "source": [
    "x,y = zip(*x_y)"
   ]
  },
  {
   "cell_type": "code",
   "execution_count": 22,
   "metadata": {},
   "outputs": [
    {
     "data": {
      "text/plain": [
       "[<matplotlib.lines.Line2D at 0x181a3191a90>]"
      ]
     },
     "execution_count": 22,
     "metadata": {},
     "output_type": "execute_result"
    },
    {
     "data": {
      "image/png": "[encoded data removed]",
      "text/plain": [
       "<Figure size 432x288 with 1 Axes>"
      ]
     },
     "metadata": {
      "needs_background": "light"
     },
     "output_type": "display_data"
    }
   ],
   "source": [
    "plt.plot(x,y)"
   ]
  },
  {
   "cell_type": "code",
   "execution_count": null,
   "metadata": {},
   "outputs": [],
   "source": []
  }
 ],
 "metadata": {
  "kernelspec": {
   "display_name": "bari_env",
   "language": "python",
   "name": "bari_env"
  },
  "language_info": {
   "codemirror_mode": {
    "name": "ipython",
    "version": 3
   },
   "file_extension": ".py",
   "mimetype": "text/x-python",
   "name": "python",
   "nbconvert_exporter": "python",
   "pygments_lexer": "ipython3",
   "version": "3.6.6"
  }
 },
 "nbformat": 4,
 "nbformat_minor": 2
}
