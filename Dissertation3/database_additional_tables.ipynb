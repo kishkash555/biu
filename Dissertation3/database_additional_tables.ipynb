{
 "cells": [
  {
   "cell_type": "markdown",
   "metadata": {},
   "source": [
    "The below queries were used to create and populate\n",
    "* participants\n",
    "* group_lists\n"
   ]
  },
  {
   "cell_type": "markdown",
   "metadata": {},
   "source": [
    "```sql\n",
    "create table participants (\n",
    "participant_id int(6) not null primary key,\n",
    "group_id int(6) not null);\n",
    "\n",
    "```"
   ]
  },
  {
   "cell_type": "markdown",
   "metadata": {},
   "source": [
    "```sql\n",
    "insert into participants\n",
    "select distinct participant_id, group_id\n",
    "from raw_interval_data;\n",
    "```\n"
   ]
  },
  {
   "cell_type": "markdown",
   "metadata": {},
   "source": [
    "```sql\n",
    "create table group_lists\n",
    "( id int(10) not null auto_increment primary key,\n",
    "list_id int(6) not null,\n",
    "group_id int(6) not null,\n",
    "unique key (list_id, group_id));\n",
    "```"
   ]
  },
  {
   "cell_type": "markdown",
   "metadata": {},
   "source": [
    "```sql\n",
    "insert ignore into group_lists (list_id, group_id)\n",
    "VALUES \n",
    "(1,1002),(1,1005),(1,1008),\n",
    "(1,1011),(1,1014),(1,1016),\n",
    "(1,1022),(1,1025),(1,1028),\n",
    "(1,1031),(1,1034),(1,1037),\n",
    "(1,1040),(1,1043),(1,1046),\n",
    "(1,1049)\n",
    "```"
   ]
  },
  {
   "cell_type": "code",
   "execution_count": null,
   "metadata": {},
   "outputs": [],
   "source": []
  }
 ],
 "metadata": {
  "kernelspec": {
   "display_name": "Python 3.7.4 64-bit ('base': conda)",
   "language": "python",
   "name": "python37464bitbaseconda865b03b3ea5d4f4bb8519af201560b69"
  },
  "language_info": {
   "codemirror_mode": {
    "name": "ipython",
    "version": 3
   },
   "file_extension": ".py",
   "mimetype": "text/x-python",
   "name": "python",
   "nbconvert_exporter": "python",
   "pygments_lexer": "ipython3",
   "version": "3.7.4"
  }
 },
 "nbformat": 4,
 "nbformat_minor": 4
}
