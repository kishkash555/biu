{
 "cells": [
  {
   "cell_type": "code",
   "execution_count": 22,
   "metadata": {},
   "outputs": [],
   "source": [
    "execfile('Dec13class.py')"
   ]
  },
  {
   "cell_type": "code",
   "execution_count": 23,
   "metadata": {},
   "outputs": [
    {
     "name": "stdout",
     "output_type": "stream",
     "text": [
      "6561\n",
      "10000 2\n",
      "10001 73\n",
      "10002 2\n",
      "10003 7\n",
      "10004 2\n",
      "10005 3\n",
      "10006 2\n",
      "10007 10007\n"
     ]
    }
   ],
   "source": [
    "# encoding numbers 0 to 9\n",
    "print pow(9,4) # 6561\n",
    "from math import sqrt\n",
    "def is_prime(n):\n",
    "    for d in range(2, int(sqrt(n))):\n",
    "        if n % d ==0:\n",
    "            return d\n",
    "    return n\n",
    "\n",
    "n = 10000\n",
    "a= 0 \n",
    "while a<n-1:\n",
    "    a = is_prime(n)\n",
    "    print n, a\n",
    "    n += 1\n",
    "\n",
    "del a, n"
   ]
  },
  {
   "cell_type": "code",
   "execution_count": 24,
   "metadata": {},
   "outputs": [],
   "source": [
    "rk = rk_hash(10,10007)"
   ]
  },
  {
   "cell_type": "code",
   "execution_count": 25,
   "metadata": {},
   "outputs": [
    {
     "name": "stdout",
     "output_type": "stream",
     "text": [
      "3\n",
      "30\n",
      "300\n",
      "3002\n",
      "5\n"
     ]
    }
   ],
   "source": [
    "for c in [3, 0, 0, 2, 6]:\n",
    "    print rk.add_char(c)\n",
    "    "
   ]
  },
  {
   "cell_type": "code",
   "execution_count": 27,
   "metadata": {},
   "outputs": [
    {
     "data": {
      "text/plain": [
       "26"
      ]
     },
     "execution_count": 27,
     "metadata": {},
     "output_type": "execute_result"
    }
   ],
   "source": [
    "rk.remove_first()"
   ]
  },
  {
   "cell_type": "code",
   "execution_count": 28,
   "metadata": {},
   "outputs": [
    {
     "name": "stdout",
     "output_type": "stream",
     "text": [
      "0\n",
      "0\n",
      "2\n",
      "26\n"
     ]
    }
   ],
   "source": [
    "rk2 = rk_hash(10,10007)\n",
    "for c in [0, 0, 2, 6]:\n",
    "    print rk2.add_char(c)"
   ]
  },
  {
   "cell_type": "code",
   "execution_count": 33,
   "metadata": {},
   "outputs": [
    {
     "name": "stdout",
     "output_type": "stream",
     "text": [
      "7\n",
      "72\n",
      "727\n",
      "7272\n",
      "2678\n",
      "6768\n",
      "7645\n",
      "6403\n",
      "3995\n",
      "9931\n",
      "9254\n",
      "2479\n",
      "4783\n",
      "7804\n",
      "7998\n",
      "9933\n",
      "9274\n",
      "2679\n",
      "6783\n",
      "7790\n",
      "rolling\n",
      "5423\n",
      "7790\n",
      "5423\n",
      "7790\n",
      "5423\n",
      "7790\n"
     ]
    }
   ],
   "source": [
    "rk3 = rk_hash(10, 10007)\n",
    "for c in range(10):\n",
    "    print rk3.add_char(7)\n",
    "    print rk3.add_char(2)\n",
    "print \"rolling\"\n",
    "print rk3.roll_char(7)\n",
    "print rk3.roll_char(2)\n",
    "print rk3.roll_char(7)\n",
    "print rk3.roll_char(2)\n",
    "print rk3.roll_char(7)\n",
    "print rk3.roll_char(2)"
   ]
  },
  {
   "cell_type": "code",
   "execution_count": 34,
   "metadata": {},
   "outputs": [
    {
     "data": {
      "text/plain": [
       "4"
      ]
     },
     "execution_count": 34,
     "metadata": {},
     "output_type": "execute_result"
    }
   ],
   "source": [
    "range(5).pop()"
   ]
  },
  {
   "cell_type": "code",
   "execution_count": null,
   "metadata": {},
   "outputs": [],
   "source": []
  }
 ],
 "metadata": {
  "kernelspec": {
   "display_name": "Python 2",
   "language": "python",
   "name": "python2"
  },
  "language_info": {
   "codemirror_mode": {
    "name": "ipython",
    "version": 2
   },
   "file_extension": ".py",
   "mimetype": "text/x-python",
   "name": "python",
   "nbconvert_exporter": "python",
   "pygments_lexer": "ipython2",
   "version": "2.7.15rc1"
  }
 },
 "nbformat": 4,
 "nbformat_minor": 2
}
