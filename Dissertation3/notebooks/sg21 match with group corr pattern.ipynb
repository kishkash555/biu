{
 "cells": [
  {
   "cell_type": "code",
   "execution_count": 11,
   "metadata": {},
   "outputs": [],
   "source": [
    "import smooth_component_analysis as sca\n",
    "from importlib import reload\n",
    "reload(sca)\n",
    "import numpy as np\n",
    "import pandas as pd\n",
    "import get_db_data as gdd\n",
    "\n",
    "from scipy.stats import zscore\n",
    "import matplotlib.pyplot as plt\n",
    "\n",
    "import seaborn as sns\n",
    "\n",
    "from sklearn.decomposition import FastICA, PCA"
   ]
  },
  {
   "cell_type": "code",
   "execution_count": 12,
   "metadata": {},
   "outputs": [],
   "source": [
    "sago = sca.savitzky_golay([1001, 1004, 1006, 1007, 1008, 1009, 1010, 1011, 1012, 1013,\n",
    "                          1042, 1043, 1044, 1045, 1046, 1047, 1048, 1049, 1050, 1051],\n",
    "                          21,11,2,3)"
   ]
  },
  {
   "cell_type": "code",
   "execution_count": 5,
   "metadata": {},
   "outputs": [
    {
     "name": "stdout",
     "output_type": "stream",
     "text": [
      "x range: 4.0 222.0\n"
     ]
    }
   ],
   "source": [
    "df = sago.get_aligned_signal_componets()"
   ]
  },
  {
   "cell_type": "code",
   "execution_count": 13,
   "metadata": {},
   "outputs": [
    {
     "name": "stdout",
     "output_type": "stream",
     "text": [
      "x range: 4.0 222.0\n",
      "(1001, 'Sg_101') (1001, 'Sg_102')\n",
      "(1001, 'Sg_101') (1001, 'Sg_103')\n",
      "(1001, 'Sg_102') (1001, 'Sg_103')\n",
      "(1004, 'Sg_110') (1004, 'Sg_111')\n",
      "(1004, 'Sg_110') (1004, 'Sg_112')\n",
      "(1004, 'Sg_111') (1004, 'Sg_112')\n",
      "(1006, 'Sg_116') (1006, 'Sg_117')\n",
      "(1006, 'Sg_116') (1006, 'Sg_118')\n",
      "(1006, 'Sg_117') (1006, 'Sg_118')\n",
      "(1007, 'Sg_119') (1007, 'Sg_120')\n",
      "(1007, 'Sg_119') (1007, 'Sg_121')\n",
      "(1007, 'Sg_120') (1007, 'Sg_121')\n",
      "(1008, 'Sg_122') (1008, 'Sg_123')\n",
      "(1008, 'Sg_122') (1008, 'Sg_124')\n",
      "(1008, 'Sg_123') (1008, 'Sg_124')\n",
      "(1009, 'Sg_125') (1009, 'Sg_126')\n",
      "(1009, 'Sg_125') (1009, 'Sg_127')\n",
      "(1009, 'Sg_126') (1009, 'Sg_127')\n",
      "(1010, 'Sg_128') (1010, 'Sg_129')\n",
      "(1010, 'Sg_128') (1010, 'Sg_130')\n",
      "(1010, 'Sg_129') (1010, 'Sg_130')\n",
      "(1011, 'Sg_131') (1011, 'Sg_132')\n",
      "(1011, 'Sg_131') (1011, 'Sg_133')\n",
      "(1011, 'Sg_132') (1011, 'Sg_133')\n",
      "(1012, 'Sg_134') (1012, 'Sg_135')\n",
      "(1012, 'Sg_134') (1012, 'Sg_136')\n",
      "(1012, 'Sg_135') (1012, 'Sg_136')\n",
      "(1013, 'Sg_137') (1013, 'Sg_138')\n",
      "(1013, 'Sg_137') (1013, 'Sg_139')\n",
      "(1013, 'Sg_138') (1013, 'Sg_139')\n",
      "(1042, 'Sg_227') (1042, 'Sg_228')\n",
      "(1042, 'Sg_227') (1042, 'Sg_229')\n",
      "(1042, 'Sg_228') (1042, 'Sg_229')\n",
      "(1043, 'Sg_230') (1043, 'Sg_231')\n",
      "(1043, 'Sg_230') (1043, 'Sg_232')\n",
      "(1043, 'Sg_231') (1043, 'Sg_232')\n",
      "(1044, 'Sg_233') (1044, 'Sg_234')\n",
      "(1044, 'Sg_233') (1044, 'Sg_235')\n",
      "(1044, 'Sg_234') (1044, 'Sg_235')\n",
      "(1045, 'Sg_236') (1045, 'Sg_237')\n",
      "(1045, 'Sg_236') (1045, 'Sg_238')\n",
      "(1045, 'Sg_237') (1045, 'Sg_238')\n",
      "(1046, 'Sg_239') (1046, 'Sg_240')\n",
      "(1046, 'Sg_239') (1046, 'Sg_241')\n",
      "(1046, 'Sg_240') (1046, 'Sg_241')\n",
      "(1047, 'Sg_242') (1047, 'Sg_243')\n",
      "(1047, 'Sg_242') (1047, 'Sg_244')\n",
      "(1047, 'Sg_243') (1047, 'Sg_244')\n",
      "(1048, 'Sg_245') (1048, 'Sg_246')\n",
      "(1048, 'Sg_245') (1048, 'Sg_247')\n",
      "(1048, 'Sg_246') (1048, 'Sg_247')\n",
      "(1049, 'Sg_248') (1049, 'Sg_249')\n",
      "(1049, 'Sg_248') (1049, 'Sg_250')\n",
      "(1049, 'Sg_249') (1049, 'Sg_250')\n",
      "(1050, 'Sg_251') (1050, 'Sg_252')\n",
      "(1050, 'Sg_251') (1050, 'Sg_253')\n",
      "(1050, 'Sg_252') (1050, 'Sg_253')\n",
      "(1051, 'Sg_254') (1051, 'Sg_255')\n",
      "(1051, 'Sg_254') (1051, 'Sg_256')\n",
      "(1051, 'Sg_255') (1051, 'Sg_256')\n"
     ]
    },
    {
     "data": {
      "text/plain": [
       "[(((1001, 'Sg_101'), (1001, 'Sg_102')), -0.3221172917590262),\n",
       " (((1001, 'Sg_101'), (1001, 'Sg_103')), 0.435369198101477),\n",
       " (((1001, 'Sg_102'), (1001, 'Sg_103')), -0.03154686382966967),\n",
       " (((1004, 'Sg_110'), (1004, 'Sg_111')), 0.17948198900697235),\n",
       " (((1004, 'Sg_110'), (1004, 'Sg_112')), 0.204201914511971)]"
      ]
     },
     "execution_count": 13,
     "metadata": {},
     "output_type": "execute_result"
    }
   ],
   "source": [
    "corrs = list(sago.yield_crossgroup_corr(True,'Sg_',True))\n",
    "\n",
    "corrs[:5]"
   ]
  },
  {
   "cell_type": "code",
   "execution_count": 22,
   "metadata": {},
   "outputs": [
    {
     "data": {
      "text/plain": [
       "{1001: [-0.3221172917590262, 0.435369198101477, -0.03154686382966967],\n",
       " 1004: [0.17948198900697235, 0.204201914511971, 0.3769278863013425],\n",
       " 1006: [-0.041804923188305455, 0.5737352455565293, 0.3943595414602932],\n",
       " 1007: [0.5718471653464967, 0.4766143982811945, 0.78700993661428],\n",
       " 1008: [0.4613692824571757, 0.27447013674934545, 0.37983317236229547],\n",
       " 1009: [0.040970668854306946, -0.12059499678511541, 0.10791163630749007],\n",
       " 1010: [0.4265640223527466, 0.18769709184329952, 0.5595337904063685],\n",
       " 1011: [0.5211308299685861, 0.2728207192482553, 0.04204736921011438],\n",
       " 1012: [-0.05039922244734468, -0.06391627989619508, -0.1766878126153445],\n",
       " 1013: [0.3435635329270653, 0.21428234760802722, 0.25329970971319127],\n",
       " 1042: [-0.6936865442925318, -0.49181105530045804, 0.5231238213979716],\n",
       " 1043: [0.023466618682222475, 0.5630107918134668, -0.4349280022038616],\n",
       " 1044: [0.1102034588236227, 0.24782280253600975, 0.20210307976782022],\n",
       " 1045: [0.2445575899703615, 0.20513025437519813, 0.3436238306226076],\n",
       " 1046: [0.0511304893196789, 0.26956577838276674, 0.013389143657223745],\n",
       " 1047: [0.18443866417223181, 0.2368364277922509, -0.1461444130079979],\n",
       " 1048: [0.5028560959906209, -0.002613351249992264, -0.0954109850291842],\n",
       " 1049: [0.11713150893040358, -0.13887862643524929, 0.5359424454838668],\n",
       " 1050: [0.2555799380548741, 0.2332698736758487, 0.029895011006692708],\n",
       " 1051: [0.34199887004641494, 0.18403895815622962, 0.5459667077379247]}"
      ]
     },
     "execution_count": 22,
     "metadata": {},
     "output_type": "execute_result"
    }
   ],
   "source": [
    "group_corrs = {}\n",
    "for o, item in enumerate(corrs):\n",
    "    group_corrs[item[0][0][0]] = group_corrs.get(item[0][0][0],[])+ [item[1]]\n",
    "#    if o == 29: \n",
    "#        break\n",
    "group_corrs"
   ]
  },
  {
   "cell_type": "code",
   "execution_count": 27,
   "metadata": {},
   "outputs": [],
   "source": [
    "group_corr_dir = { k: tuple(sorted([ c < -0.15 and -1 or (c > 0.15) and 1 or 0 for c in v])) for k, v in group_corrs.items()}"
   ]
  },
  {
   "cell_type": "code",
   "execution_count": 28,
   "metadata": {},
   "outputs": [
    {
     "data": {
      "text/plain": [
       "[((1, 1, 1), 7),\n",
       " ((0, 1, 1), 5),\n",
       " ((0, 0, 1), 3),\n",
       " ((-1, 0, 1), 2),\n",
       " ((0, 0, 0), 1),\n",
       " ((-1, 0, 0), 1),\n",
       " ((-1, -1, 1), 1)]"
      ]
     },
     "execution_count": 28,
     "metadata": {},
     "output_type": "execute_result"
    }
   ],
   "source": [
    "from collections import Counter\n",
    "Counter(group_corr_dir.values()).most_common()"
   ]
  },
  {
   "cell_type": "code",
   "execution_count": 29,
   "metadata": {},
   "outputs": [],
   "source": [
    "data = gdd.get_db_data()\n",
    "patric = data.get_participants(True, True)"
   ]
  },
  {
   "cell_type": "code",
   "execution_count": 32,
   "metadata": {},
   "outputs": [
    {
     "data": {
      "text/plain": [
       "[(1001, 101, Decimal('4.25000')),\n",
       " (1001, 102, Decimal('5.00000')),\n",
       " (1001, 103, Decimal('5.25000')),\n",
       " (1003, 108, Decimal('4.00000')),\n",
       " (1003, 109, Decimal('1.50000')),\n",
       " (1004, 110, Decimal('3.50000')),\n",
       " (1004, 111, Decimal('2.75000')),\n",
       " (1004, 112, Decimal('3.75000')),\n",
       " (1006, 116, Decimal('4.00000')),\n",
       " (1006, 117, Decimal('4.75000')),\n",
       " (1006, 118, Decimal('3.25000')),\n",
       " (1007, 119, Decimal('3.25000')),\n",
       " (1007, 120, Decimal('5.00000')),\n",
       " (1007, 121, Decimal('4.75000')),\n",
       " (1008, 122, Decimal('6.00000')),\n",
       " (1008, 123, Decimal('6.00000')),\n",
       " (1008, 124, Decimal('4.75000')),\n",
       " (1009, 125, Decimal('5.50000')),\n",
       " (1009, 126, Decimal('5.00000')),\n",
       " (1009, 127, Decimal('4.00000')),\n",
       " (1010, 128, Decimal('4.75000')),\n",
       " (1010, 129, Decimal('3.75000')),\n",
       " (1010, 130, Decimal('3.25000')),\n",
       " (1011, 131, Decimal('5.00000')),\n",
       " (1011, 132, Decimal('4.25000')),\n",
       " (1011, 133, Decimal('6.00000')),\n",
       " (1012, 134, Decimal('1.00000')),\n",
       " (1012, 135, Decimal('2.00000')),\n",
       " (1012, 136, Decimal('4.25000')),\n",
       " (1013, 137, Decimal('3.75000')),\n",
       " (1013, 138, Decimal('4.50000')),\n",
       " (1013, 139, Decimal('4.25000')),\n",
       " (1014, 140, Decimal('3.00000')),\n",
       " (1014, 141, Decimal('4.25000')),\n",
       " (1014, 142, Decimal('5.00000')),\n",
       " (1015, 144, Decimal('2.75000')),\n",
       " (1015, 145, Decimal('2.25000')),\n",
       " (1016, 146, Decimal('3.75000')),\n",
       " (1016, 147, Decimal('2.75000')),\n",
       " (1016, 148, Decimal('2.50000')),\n",
       " (1017, 149, Decimal('3.25000')),\n",
       " (1017, 151, Decimal('3.75000')),\n",
       " (1019, 155, Decimal('5.00000')),\n",
       " (1019, 156, Decimal('4.00000')),\n",
       " (1019, 157, Decimal('2.00000')),\n",
       " (1020, 158, Decimal('2.25000')),\n",
       " (1020, 159, Decimal('4.00000')),\n",
       " (1020, 160, Decimal('4.00000')),\n",
       " (1022, 164, Decimal('3.75000')),\n",
       " (1022, 165, Decimal('4.50000')),\n",
       " (1022, 166, Decimal('4.75000')),\n",
       " (1023, 167, Decimal('4.50000')),\n",
       " (1023, 168, Decimal('5.00000')),\n",
       " (1023, 169, Decimal('5.50000')),\n",
       " (1024, 170, Decimal('5.00000')),\n",
       " (1024, 171, Decimal('5.00000')),\n",
       " (1024, 172, Decimal('4.00000')),\n",
       " (1025, 173, Decimal('4.75000')),\n",
       " (1025, 174, Decimal('4.75000')),\n",
       " (1025, 175, Decimal('4.25000')),\n",
       " (1026, 176, Decimal('5.00000')),\n",
       " (1026, 177, Decimal('4.00000')),\n",
       " (1026, 178, Decimal('5.00000')),\n",
       " (1027, 179, Decimal('4.00000')),\n",
       " (1027, 180, Decimal('2.75000')),\n",
       " (1027, 181, Decimal('2.00000')),\n",
       " (1028, 182, Decimal('4.00000')),\n",
       " (1028, 183, Decimal('2.75000')),\n",
       " (1029, 185, Decimal('4.50000')),\n",
       " (1029, 186, Decimal('5.25000')),\n",
       " (1029, 187, Decimal('4.25000')),\n",
       " (1030, 188, Decimal('4.25000')),\n",
       " (1030, 189, Decimal('4.25000')),\n",
       " (1030, 190, Decimal('4.75000')),\n",
       " (1031, 191, Decimal('1.25000')),\n",
       " (1031, 192, Decimal('3.50000')),\n",
       " (1031, 193, Decimal('3.75000')),\n",
       " (1032, 194, Decimal('5.00000')),\n",
       " (1032, 195, Decimal('5.25000')),\n",
       " (1032, 196, Decimal('3.50000')),\n",
       " (1033, 200, Decimal('5.00000')),\n",
       " (1033, 201, Decimal('4.00000')),\n",
       " (1033, 202, Decimal('4.50000')),\n",
       " (1034, 203, Decimal('3.00000')),\n",
       " (1034, 204, Decimal('1.00000')),\n",
       " (1034, 205, Decimal('3.25000')),\n",
       " (1035, 206, Decimal('5.00000')),\n",
       " (1035, 207, Decimal('3.00000')),\n",
       " (1035, 208, Decimal('5.75000')),\n",
       " (1036, 209, Decimal('4.25000')),\n",
       " (1036, 210, Decimal('3.75000')),\n",
       " (1036, 211, Decimal('4.25000')),\n",
       " (1037, 212, Decimal('3.25000')),\n",
       " (1037, 213, Decimal('5.50000')),\n",
       " (1037, 214, Decimal('3.75000')),\n",
       " (1038, 215, Decimal('3.25000')),\n",
       " (1038, 216, Decimal('4.75000')),\n",
       " (1038, 217, Decimal('4.50000')),\n",
       " (1039, 218, Decimal('3.75000')),\n",
       " (1039, 219, Decimal('3.50000')),\n",
       " (1039, 220, Decimal('6.00000')),\n",
       " (1040, 221, Decimal('3.50000')),\n",
       " (1040, 222, Decimal('1.25000')),\n",
       " (1040, 223, Decimal('2.75000')),\n",
       " (1041, 224, Decimal('4.25000')),\n",
       " (1041, 225, Decimal('2.75000')),\n",
       " (1041, 226, Decimal('5.50000')),\n",
       " (1042, 227, Decimal('4.25000')),\n",
       " (1042, 228, Decimal('3.75000')),\n",
       " (1042, 229, Decimal('2.00000')),\n",
       " (1043, 230, Decimal('4.00000')),\n",
       " (1043, 231, Decimal('5.25000')),\n",
       " (1043, 232, Decimal('4.00000')),\n",
       " (1044, 233, Decimal('4.50000')),\n",
       " (1044, 234, Decimal('5.00000')),\n",
       " (1044, 235, Decimal('4.00000')),\n",
       " (1045, 236, Decimal('6.00000')),\n",
       " (1045, 237, Decimal('5.00000')),\n",
       " (1045, 238, Decimal('5.75000')),\n",
       " (1046, 239, Decimal('4.00000')),\n",
       " (1046, 240, Decimal('3.00000')),\n",
       " (1046, 241, Decimal('3.25000')),\n",
       " (1047, 242, Decimal('4.75000')),\n",
       " (1047, 243, Decimal('5.00000')),\n",
       " (1047, 244, Decimal('4.75000')),\n",
       " (1048, 245, Decimal('4.00000')),\n",
       " (1048, 246, Decimal('4.00000')),\n",
       " (1048, 247, Decimal('5.00000')),\n",
       " (1049, 248, Decimal('4.50000')),\n",
       " (1049, 249, Decimal('5.00000')),\n",
       " (1049, 250, Decimal('4.50000')),\n",
       " (1050, 251, Decimal('4.25000')),\n",
       " (1050, 252, Decimal('4.50000')),\n",
       " (1050, 253, Decimal('2.50000')),\n",
       " (1051, 254, Decimal('3.75000')),\n",
       " (1051, 255, Decimal('4.00000')),\n",
       " (1051, 256, Decimal('4.50000'))]"
      ]
     },
     "execution_count": 32,
     "metadata": {},
     "output_type": "execute_result"
    }
   ],
   "source": [
    "patric = data.participants\n",
    "patric"
   ]
  },
  {
   "cell_type": "code",
   "execution_count": 33,
   "metadata": {},
   "outputs": [
    {
     "data": {
      "text/plain": [
       "{1001: [4.25, 5.0, 5.25],\n",
       " 1003: [4.0, 1.5],\n",
       " 1004: [3.5, 2.75, 3.75],\n",
       " 1006: [4.0, 4.75, 3.25],\n",
       " 1007: [3.25, 5.0, 4.75],\n",
       " 1008: [6.0, 6.0, 4.75],\n",
       " 1009: [5.5, 5.0, 4.0],\n",
       " 1010: [4.75, 3.75, 3.25],\n",
       " 1011: [5.0, 4.25, 6.0],\n",
       " 1012: [1.0, 2.0, 4.25],\n",
       " 1013: [3.75, 4.5, 4.25],\n",
       " 1014: [3.0, 4.25, 5.0],\n",
       " 1015: [2.75, 2.25],\n",
       " 1016: [3.75, 2.75, 2.5],\n",
       " 1017: [3.25, 3.75],\n",
       " 1019: [5.0, 4.0, 2.0],\n",
       " 1020: [2.25, 4.0, 4.0],\n",
       " 1022: [3.75, 4.5, 4.75],\n",
       " 1023: [4.5, 5.0, 5.5],\n",
       " 1024: [5.0, 5.0, 4.0],\n",
       " 1025: [4.75, 4.75, 4.25],\n",
       " 1026: [5.0, 4.0, 5.0],\n",
       " 1027: [4.0, 2.75, 2.0],\n",
       " 1028: [4.0, 2.75],\n",
       " 1029: [4.5, 5.25, 4.25],\n",
       " 1030: [4.25, 4.25, 4.75],\n",
       " 1031: [1.25, 3.5, 3.75],\n",
       " 1032: [5.0, 5.25, 3.5],\n",
       " 1033: [5.0, 4.0, 4.5],\n",
       " 1034: [3.0, 1.0, 3.25],\n",
       " 1035: [5.0, 3.0, 5.75],\n",
       " 1036: [4.25, 3.75, 4.25],\n",
       " 1037: [3.25, 5.5, 3.75],\n",
       " 1038: [3.25, 4.75, 4.5],\n",
       " 1039: [3.75, 3.5, 6.0],\n",
       " 1040: [3.5, 1.25, 2.75],\n",
       " 1041: [4.25, 2.75, 5.5],\n",
       " 1042: [4.25, 3.75, 2.0],\n",
       " 1043: [4.0, 5.25, 4.0],\n",
       " 1044: [4.5, 5.0, 4.0],\n",
       " 1045: [6.0, 5.0, 5.75],\n",
       " 1046: [4.0, 3.0, 3.25],\n",
       " 1047: [4.75, 5.0, 4.75],\n",
       " 1048: [4.0, 4.0, 5.0],\n",
       " 1049: [4.5, 5.0, 4.5],\n",
       " 1050: [4.25, 4.5, 2.5],\n",
       " 1051: [3.75, 4.0, 4.5]}"
      ]
     },
     "execution_count": 33,
     "metadata": {},
     "output_type": "execute_result"
    }
   ],
   "source": [
    "group_cohes = {}\n",
    "for item in patric:\n",
    "    group_cohes[item[0]] = group_cohes.get(item[0],[]) + [float(item[2])]\n",
    "group_cohes"
   ]
  },
  {
   "cell_type": "code",
   "execution_count": 34,
   "metadata": {},
   "outputs": [
    {
     "data": {
      "text/plain": [
       "{1001: (-1, 0, 1),\n",
       " 1004: (1, 1, 1),\n",
       " 1006: (0, 1, 1),\n",
       " 1007: (1, 1, 1),\n",
       " 1008: (1, 1, 1),\n",
       " 1009: (0, 0, 0),\n",
       " 1010: (1, 1, 1),\n",
       " 1011: (0, 1, 1),\n",
       " 1012: (-1, 0, 0),\n",
       " 1013: (1, 1, 1),\n",
       " 1042: (-1, -1, 1),\n",
       " 1043: (-1, 0, 1),\n",
       " 1044: (0, 1, 1),\n",
       " 1045: (1, 1, 1),\n",
       " 1046: (0, 0, 1),\n",
       " 1047: (0, 1, 1),\n",
       " 1048: (0, 0, 1),\n",
       " 1049: (0, 0, 1),\n",
       " 1050: (0, 1, 1),\n",
       " 1051: (1, 1, 1)}"
      ]
     },
     "execution_count": 34,
     "metadata": {},
     "output_type": "execute_result"
    }
   ],
   "source": [
    "group_corr_dir"
   ]
  },
  {
   "cell_type": "code",
   "execution_count": 43,
   "metadata": {},
   "outputs": [
    {
     "data": {
      "text/plain": [
       "[((1, 1, 1), 6.0),\n",
       " ((0, 1, 1), 6.0),\n",
       " ((0, 0, 1), 5.0),\n",
       " ((0, 0, 0), 5.5),\n",
       " ((-1, 0, 1), 5.25),\n",
       " ((-1, 0, 0), 4.25),\n",
       " ((-1, -1, 1), 4.25)]"
      ]
     },
     "execution_count": 43,
     "metadata": {},
     "output_type": "execute_result"
    }
   ],
   "source": [
    "corr_dir_cohes = {}\n",
    "for gr, sgn in group_corr_dir.items():\n",
    "    corr_dir_cohes[sgn] = corr_dir_cohes.get(sgn,[])+group_cohes[gr]\n",
    "\n",
    "sorted([(k, (np.array(v)).max()) for k, v in corr_dir_cohes.items()], key=lambda x: x[0], reverse=True)"
   ]
  },
  {
   "cell_type": "code",
   "execution_count": 44,
   "metadata": {},
   "outputs": [
    {
     "data": {
      "text/plain": [
       "[((1, 1, 1), 2.75),\n",
       " ((0, 1, 1), 2.5),\n",
       " ((0, 0, 1), 3.0),\n",
       " ((0, 0, 0), 4.0),\n",
       " ((-1, 0, 1), 4.0),\n",
       " ((-1, 0, 0), 1.0),\n",
       " ((-1, -1, 1), 2.0)]"
      ]
     },
     "execution_count": 44,
     "metadata": {},
     "output_type": "execute_result"
    }
   ],
   "source": [
    "sorted([(k, (np.array(v)).min()) for k, v in corr_dir_cohes.items()], key=lambda x: x[0], reverse=True)"
   ]
  },
  {
   "cell_type": "code",
   "execution_count": 45,
   "metadata": {},
   "outputs": [
    {
     "data": {
      "text/html": [
       "<div>\n",
       "<style scoped>\n",
       "    .dataframe tbody tr th:only-of-type {\n",
       "        vertical-align: middle;\n",
       "    }\n",
       "\n",
       "    .dataframe tbody tr th {\n",
       "        vertical-align: top;\n",
       "    }\n",
       "\n",
       "    .dataframe thead th {\n",
       "        text-align: right;\n",
       "    }\n",
       "</style>\n",
       "<table border=\"1\" class=\"dataframe\">\n",
       "  <thead>\n",
       "    <tr style=\"text-align: right;\">\n",
       "      <th></th>\n",
       "      <th>GroupId</th>\n",
       "      <th>all</th>\n",
       "    </tr>\n",
       "  </thead>\n",
       "  <tbody>\n",
       "    <tr>\n",
       "      <th>0</th>\n",
       "      <td>1001</td>\n",
       "      <td>[4.25, 5.0, 5.25]</td>\n",
       "    </tr>\n",
       "    <tr>\n",
       "      <th>1</th>\n",
       "      <td>1003</td>\n",
       "      <td>[4.0, 1.5]</td>\n",
       "    </tr>\n",
       "    <tr>\n",
       "      <th>2</th>\n",
       "      <td>1004</td>\n",
       "      <td>[3.5, 2.75, 3.75]</td>\n",
       "    </tr>\n",
       "    <tr>\n",
       "      <th>3</th>\n",
       "      <td>1006</td>\n",
       "      <td>[4.0, 4.75, 3.25]</td>\n",
       "    </tr>\n",
       "    <tr>\n",
       "      <th>4</th>\n",
       "      <td>1007</td>\n",
       "      <td>[3.25, 5.0, 4.75]</td>\n",
       "    </tr>\n",
       "  </tbody>\n",
       "</table>\n",
       "</div>"
      ],
      "text/plain": [
       "   GroupId                all\n",
       "0     1001  [4.25, 5.0, 5.25]\n",
       "1     1003         [4.0, 1.5]\n",
       "2     1004  [3.5, 2.75, 3.75]\n",
       "3     1006  [4.0, 4.75, 3.25]\n",
       "4     1007  [3.25, 5.0, 4.75]"
      ]
     },
     "execution_count": 45,
     "metadata": {},
     "output_type": "execute_result"
    }
   ],
   "source": [
    "group_cohes_df = pd.DataFrame(data=group_cohes.items(), columns = ['GroupId','all'])\n",
    "group_cohes_df.head()"
   ]
  },
  {
   "cell_type": "code",
   "execution_count": 54,
   "metadata": {},
   "outputs": [
    {
     "data": {
      "text/html": [
       "<div>\n",
       "<style scoped>\n",
       "    .dataframe tbody tr th:only-of-type {\n",
       "        vertical-align: middle;\n",
       "    }\n",
       "\n",
       "    .dataframe tbody tr th {\n",
       "        vertical-align: top;\n",
       "    }\n",
       "\n",
       "    .dataframe thead th {\n",
       "        text-align: right;\n",
       "    }\n",
       "</style>\n",
       "<table border=\"1\" class=\"dataframe\">\n",
       "  <thead>\n",
       "    <tr style=\"text-align: right;\">\n",
       "      <th></th>\n",
       "      <th>GroupId</th>\n",
       "      <th>all</th>\n",
       "      <th>Coher</th>\n",
       "      <th>MinCoh</th>\n",
       "      <th>MidCoh</th>\n",
       "      <th>MaxCoh</th>\n",
       "      <th>CorrDir</th>\n",
       "    </tr>\n",
       "  </thead>\n",
       "  <tbody>\n",
       "    <tr>\n",
       "      <th>0</th>\n",
       "      <td>1001</td>\n",
       "      <td>[4.25, 5.0, 5.25]</td>\n",
       "      <td>[4.25, 5.0, 5.25]</td>\n",
       "      <td>4.25</td>\n",
       "      <td>5.00</td>\n",
       "      <td>5.25</td>\n",
       "      <td>(-1, 0, 1)</td>\n",
       "    </tr>\n",
       "    <tr>\n",
       "      <th>1</th>\n",
       "      <td>1003</td>\n",
       "      <td>[4.0, 1.5]</td>\n",
       "      <td>[4.0, 1.5]</td>\n",
       "      <td>1.50</td>\n",
       "      <td>4.00</td>\n",
       "      <td>4.00</td>\n",
       "      <td>None</td>\n",
       "    </tr>\n",
       "    <tr>\n",
       "      <th>2</th>\n",
       "      <td>1004</td>\n",
       "      <td>[3.5, 2.75, 3.75]</td>\n",
       "      <td>[3.5, 2.75, 3.75]</td>\n",
       "      <td>2.75</td>\n",
       "      <td>3.50</td>\n",
       "      <td>3.75</td>\n",
       "      <td>(1, 1, 1)</td>\n",
       "    </tr>\n",
       "    <tr>\n",
       "      <th>3</th>\n",
       "      <td>1006</td>\n",
       "      <td>[4.0, 4.75, 3.25]</td>\n",
       "      <td>[4.0, 4.75, 3.25]</td>\n",
       "      <td>3.25</td>\n",
       "      <td>4.00</td>\n",
       "      <td>4.75</td>\n",
       "      <td>(0, 1, 1)</td>\n",
       "    </tr>\n",
       "    <tr>\n",
       "      <th>4</th>\n",
       "      <td>1007</td>\n",
       "      <td>[3.25, 5.0, 4.75]</td>\n",
       "      <td>[3.25, 5.0, 4.75]</td>\n",
       "      <td>3.25</td>\n",
       "      <td>4.75</td>\n",
       "      <td>5.00</td>\n",
       "      <td>(1, 1, 1)</td>\n",
       "    </tr>\n",
       "  </tbody>\n",
       "</table>\n",
       "</div>"
      ],
      "text/plain": [
       "   GroupId                all              Coher  MinCoh  MidCoh  MaxCoh  \\\n",
       "0     1001  [4.25, 5.0, 5.25]  [4.25, 5.0, 5.25]    4.25    5.00    5.25   \n",
       "1     1003         [4.0, 1.5]         [4.0, 1.5]    1.50    4.00    4.00   \n",
       "2     1004  [3.5, 2.75, 3.75]  [3.5, 2.75, 3.75]    2.75    3.50    3.75   \n",
       "3     1006  [4.0, 4.75, 3.25]  [4.0, 4.75, 3.25]    3.25    4.00    4.75   \n",
       "4     1007  [3.25, 5.0, 4.75]  [3.25, 5.0, 4.75]    3.25    4.75    5.00   \n",
       "\n",
       "      CorrDir  \n",
       "0  (-1, 0, 1)  \n",
       "1        None  \n",
       "2   (1, 1, 1)  \n",
       "3   (0, 1, 1)  \n",
       "4   (1, 1, 1)  "
      ]
     },
     "execution_count": 54,
     "metadata": {},
     "output_type": "execute_result"
    }
   ],
   "source": [
    "group_cohes_df = pd.DataFrame(data=group_cohes.items(), columns = ['GroupId','all'])\n",
    "\n",
    "group_cohes_df['Coher'] = group_cohes_df['all'].map(np.array)\n",
    "group_cohes_df['MinCoh'] =group_cohes_df['all'].map(np.min)\n",
    "group_cohes_df['MidCoh'] =group_cohes_df['all'].map(lambda v: np.sort(v)[1])\n",
    "group_cohes_df['MaxCoh'] =group_cohes_df['all'].map(np.max)\n",
    "\n",
    "group_cohes_df['CorrDir'] = group_cohes_df.apply(lambda r: group_corr_dir.get(r[0]), axis=1)\n",
    "group_cohes_df.head()"
   ]
  },
  {
   "cell_type": "code",
   "execution_count": 55,
   "metadata": {},
   "outputs": [
    {
     "data": {
      "text/plain": [
       "CorrDir\n",
       "(-1, -1, 1)    4.250000\n",
       "(-1, 0, 0)     4.250000\n",
       "(-1, 0, 1)     5.250000\n",
       "(0, 0, 0)      5.500000\n",
       "(0, 0, 1)      4.666667\n",
       "(0, 1, 1)      5.050000\n",
       "(1, 1, 1)      4.928571\n",
       "Name: MaxCoh, dtype: float64"
      ]
     },
     "execution_count": 55,
     "metadata": {},
     "output_type": "execute_result"
    }
   ],
   "source": [
    "group_cohes_df.groupby('CorrDir')['MaxCoh'].mean()"
   ]
  },
  {
   "cell_type": "code",
   "execution_count": 56,
   "metadata": {},
   "outputs": [
    {
     "data": {
      "text/plain": [
       "CorrDir\n",
       "(-1, -1, 1)    2.000000\n",
       "(-1, 0, 0)     1.000000\n",
       "(-1, 0, 1)     4.125000\n",
       "(0, 0, 0)      4.000000\n",
       "(0, 0, 1)      3.833333\n",
       "(0, 1, 1)      3.750000\n",
       "(1, 1, 1)      3.785714\n",
       "Name: MinCoh, dtype: float64"
      ]
     },
     "execution_count": 56,
     "metadata": {},
     "output_type": "execute_result"
    }
   ],
   "source": [
    "group_cohes_df.groupby('CorrDir')['MinCoh'].mean()"
   ]
  },
  {
   "cell_type": "code",
   "execution_count": 57,
   "metadata": {},
   "outputs": [
    {
     "data": {
      "text/plain": [
       "CorrDir\n",
       "(-1, -1, 1)    3.750000\n",
       "(-1, 0, 0)     2.000000\n",
       "(-1, 0, 1)     4.500000\n",
       "(0, 0, 0)      5.000000\n",
       "(0, 0, 1)      3.916667\n",
       "(0, 1, 1)      4.500000\n",
       "(1, 1, 1)      4.571429\n",
       "Name: MidCoh, dtype: float64"
      ]
     },
     "execution_count": 57,
     "metadata": {},
     "output_type": "execute_result"
    }
   ],
   "source": [
    "group_cohes_df.groupby('CorrDir')['MidCoh'].mean() "
   ]
  },
  {
   "cell_type": "code",
   "execution_count": 58,
   "metadata": {},
   "outputs": [
    {
     "data": {
      "text/plain": [
       "{1001: (-1, 0, 1),\n",
       " 1004: (1, 1, 1),\n",
       " 1006: (0, 1, 1),\n",
       " 1007: (1, 1, 1),\n",
       " 1008: (1, 1, 1),\n",
       " 1009: (0, 0, 0),\n",
       " 1010: (1, 1, 1),\n",
       " 1011: (0, 1, 1),\n",
       " 1012: (-1, 0, 0),\n",
       " 1013: (1, 1, 1),\n",
       " 1042: (-1, -1, 1),\n",
       " 1043: (-1, 0, 1),\n",
       " 1044: (0, 1, 1),\n",
       " 1045: (1, 1, 1),\n",
       " 1046: (0, 0, 1),\n",
       " 1047: (0, 1, 1),\n",
       " 1048: (0, 0, 1),\n",
       " 1049: (0, 0, 1),\n",
       " 1050: (0, 1, 1),\n",
       " 1051: (1, 1, 1)}"
      ]
     },
     "execution_count": 58,
     "metadata": {},
     "output_type": "execute_result"
    }
   ],
   "source": [
    "group_corr_dir"
   ]
  },
  {
   "cell_type": "code",
   "execution_count": 60,
   "metadata": {},
   "outputs": [],
   "source": [
    "group_sg = lambda g:  [a for a in df.columns if a[0]==g and a[1].startswith('Sg_')]"
   ]
  },
  {
   "cell_type": "code",
   "execution_count": 62,
   "metadata": {},
   "outputs": [
    {
     "data": {
      "text/plain": [
       "<matplotlib.legend.Legend at 0x7f887db7d850>"
      ]
     },
     "execution_count": 62,
     "metadata": {},
     "output_type": "execute_result"
    },
    {
     "data": {
      "image/png": "[encoded data removed]",
      "text/plain": [
       "<Figure size 432x288 with 1 Axes>"
      ]
     },
     "metadata": {
      "needs_background": "light"
     },
     "output_type": "display_data"
    }
   ],
   "source": [
    "cols = group_sg(1010)\n",
    "for col in cols:\n",
    "    plt.plot(df[col])\n",
    "    \n",
    "plt.legend(cols)"
   ]
  },
  {
   "cell_type": "code",
   "execution_count": null,
   "metadata": {},
   "outputs": [],
   "source": []
  }
 ],
 "metadata": {
  "kernelspec": {
   "display_name": "Python 3.7.4 64-bit ('base': conda)",
   "language": "python",
   "name": "python37464bitbaseconda865b03b3ea5d4f4bb8519af201560b69"
  },
  "language_info": {
   "codemirror_mode": {
    "name": "ipython",
    "version": 3
   },
   "file_extension": ".py",
   "mimetype": "text/x-python",
   "name": "python",
   "nbconvert_exporter": "python",
   "pygments_lexer": "ipython3",
   "version": "3.7.9"
  }
 },
 "nbformat": 4,
 "nbformat_minor": 4
}
