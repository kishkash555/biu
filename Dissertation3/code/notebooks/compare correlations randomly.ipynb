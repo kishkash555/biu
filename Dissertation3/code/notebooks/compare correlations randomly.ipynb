{
 "cells": [
  {
   "cell_type": "code",
   "execution_count": 1,
   "metadata": {},
   "outputs": [],
   "source": [
    "import sqlalchemy as sql\n",
    "import pandas as pd\n",
    "import glob\n",
    "from os import path, sep\n",
    "import numpy as np\n",
    "import matplotlib.pyplot as plt"
   ]
  },
  {
   "cell_type": "code",
   "execution_count": 2,
   "metadata": {},
   "outputs": [],
   "source": [
    "server = \"thesis.ca6j6heoraog.eu-central-1.rds.amazonaws.com\"\n",
    "engine = sql.create_engine(f\"mysql+pymysql://admin:FphvsYQek4@{server}/thesis_db\")\n",
    "con = engine.connect()"
   ]
  },
  {
   "cell_type": "code",
   "execution_count": 3,
   "metadata": {},
   "outputs": [],
   "source": [
    "query_text = sql.text(\"\"\"\n",
    "select data_ordinal, \n",
    "\ta_value, \n",
    "    group_concat(b_value ORDER BY event_start_time) b_values,\n",
    "    group_concat(\n",
    "\t\tcast( 100*(\n",
    "\t\t\tevent_end_time-event_start_time)/(a_end_time-a_start_time) \n",
    "            as decimal(4,2) \n",
    "            ) ORDER BY event_start_time\n",
    "\t\t) p\n",
    "\n",
    "from (\n",
    "select a.data_ordinal, a.start_time a_start_time, a.end_time a_end_time, greatest(a.start_time,b.start_time) event_start_time, least(a.end_time, b.end_time) event_end_time, a.data_time_diff a_value, b.data_time_diff b_value\n",
    "from \n",
    "( select data_ordinal, data_time-data_time_diff start_time, data_time end_time, data_time_diff\n",
    "from raw_interval_data\n",
    "where participant_id = :par1\n",
    "and series_type_id= 1 ) a\n",
    "inner join\n",
    "(select data_time-data_time_diff start_time, data_time end_time, data_time_diff\n",
    "from raw_interval_data\n",
    "where participant_id = :par2\n",
    "and series_type_id = 1 ) b\n",
    "on (a.start_time <= b.start_time and a.end_time >= b.start_time or a.start_time <= b.end_time and a.end_time >= b.end_time)\n",
    ") c\n",
    "group by data_ordinal\n",
    "\"\"\")"
   ]
  },
  {
   "cell_type": "code",
   "execution_count": 4,
   "metadata": {},
   "outputs": [],
   "source": [
    "partid_query = \"\"\"\n",
    "SELECT DISTINCT participant_id\n",
    "FROM raw_interval_data\n",
    "\"\"\"\n",
    "participants = [a[0] for a in con.execute(partid_query)]\n"
   ]
  },
  {
   "cell_type": "code",
   "execution_count": 5,
   "metadata": {},
   "outputs": [
    {
     "data": {
      "text/plain": [
       "[101,\n",
       " 102,\n",
       " 103,\n",
       " 108,\n",
       " 109,\n",
       " 110,\n",
       " 111,\n",
       " 112,\n",
       " 113,\n",
       " 114,\n",
       " 115,\n",
       " 116,\n",
       " 117,\n",
       " 118,\n",
       " 119,\n",
       " 120,\n",
       " 121,\n",
       " 122,\n",
       " 123,\n",
       " 124,\n",
       " 125,\n",
       " 126,\n",
       " 127,\n",
       " 128,\n",
       " 129,\n",
       " 130,\n",
       " 131,\n",
       " 132,\n",
       " 133,\n",
       " 134,\n",
       " 135,\n",
       " 136,\n",
       " 137,\n",
       " 138,\n",
       " 139,\n",
       " 140,\n",
       " 141,\n",
       " 142,\n",
       " 144,\n",
       " 145,\n",
       " 146,\n",
       " 147,\n",
       " 148,\n",
       " 149,\n",
       " 151,\n",
       " 155,\n",
       " 156,\n",
       " 157,\n",
       " 158,\n",
       " 159,\n",
       " 160,\n",
       " 164,\n",
       " 165,\n",
       " 166,\n",
       " 167,\n",
       " 168,\n",
       " 169,\n",
       " 170,\n",
       " 171,\n",
       " 172,\n",
       " 173,\n",
       " 174,\n",
       " 175,\n",
       " 176,\n",
       " 177,\n",
       " 178,\n",
       " 179,\n",
       " 180,\n",
       " 181,\n",
       " 182,\n",
       " 183,\n",
       " 184,\n",
       " 185,\n",
       " 186,\n",
       " 187,\n",
       " 188,\n",
       " 189,\n",
       " 190,\n",
       " 191,\n",
       " 192,\n",
       " 193,\n",
       " 194,\n",
       " 195,\n",
       " 196,\n",
       " 200,\n",
       " 201,\n",
       " 202,\n",
       " 203,\n",
       " 204,\n",
       " 205,\n",
       " 206,\n",
       " 207,\n",
       " 208,\n",
       " 209,\n",
       " 210,\n",
       " 211,\n",
       " 212,\n",
       " 213,\n",
       " 214,\n",
       " 215,\n",
       " 216,\n",
       " 217,\n",
       " 218,\n",
       " 219,\n",
       " 220,\n",
       " 221,\n",
       " 222,\n",
       " 223,\n",
       " 224,\n",
       " 225,\n",
       " 226,\n",
       " 227,\n",
       " 228,\n",
       " 229,\n",
       " 230,\n",
       " 231,\n",
       " 232,\n",
       " 233,\n",
       " 234,\n",
       " 235,\n",
       " 236,\n",
       " 237,\n",
       " 238,\n",
       " 239,\n",
       " 240,\n",
       " 241,\n",
       " 242,\n",
       " 243,\n",
       " 244,\n",
       " 245,\n",
       " 246,\n",
       " 247,\n",
       " 248,\n",
       " 249,\n",
       " 250,\n",
       " 251,\n",
       " 252,\n",
       " 253,\n",
       " 254,\n",
       " 255,\n",
       " 256]"
      ]
     },
     "execution_count": 5,
     "metadata": {},
     "output_type": "execute_result"
    }
   ],
   "source": [
    "participants"
   ]
  },
  {
   "cell_type": "code",
   "execution_count": 6,
   "metadata": {},
   "outputs": [],
   "source": [
    "np.random.shuffle(participants)"
   ]
  },
  {
   "cell_type": "code",
   "execution_count": 96,
   "metadata": {},
   "outputs": [],
   "source": [
    "def get_xy_from_raw_times_query(r):\n",
    "    for row in r:\n",
    "        row = dict(row)\n",
    "        a_value = row['a_value']\n",
    "        try: \n",
    "            b_value_list = np.array([float(x) for x in row['b_values'].split(',')])\n",
    "            p_value_list = np.array([float(x) for x in row['p'].split(',')])\n",
    "            b_mean = np.dot(b_value_list, p_value_list)*0.01\n",
    "            yield [a_value, b_mean]\n",
    "        except:\n",
    "            yield [np.nan, np.nan]"
   ]
  },
  {
   "cell_type": "code",
   "execution_count": 97,
   "metadata": {},
   "outputs": [],
   "source": [
    "def get_corrcoeff_for_participant_pair(participants, qt):\n",
    "    for a in range(len(participants)-1):\n",
    "        r = con.execute(qt,par1=participants[a],par2=participants[a+1])\n",
    "        all_values = np.array(list(get_xy_from_raw_times_query(r)),dtype=float)\n",
    "        #print(all_values.shape)\n",
    "        c = np.corrcoef(all_values.T)\n",
    "        yield {'par1': participants[a], 'par2': participants[a+1], 'corr': c[1,0]}\n",
    "    \n",
    "    \n",
    "    \n",
    "\n",
    "        #     df = pd.DataFrame(r.fetchall())\n",
    "#     df.columns = df.keys()\n",
    "#     df['b_value_list'] = df.b_values.map(lambda v: [float(x) for x in v.split(',')])\n",
    "#     df['p_value_list'] = df.p.map(lambda v: [float(x) for x in v.split(',')])\n",
    "\n",
    "#     df['b_value_list'] = df.b_value_list.map(lambda v: np.array(v))\n",
    "#     df['p_value_list'] = df.p_value_list.map(lambda v: np.array(v))\n",
    "\n",
    "#     df['b_mean'] = df.apply(lambda r: np.array(r[4]).dot(np.array(r[5]))*0.01,axis=1)\n"
   ]
  },
  {
   "cell_type": "code",
   "execution_count": 98,
   "metadata": {},
   "outputs": [],
   "source": [
    "y = get_corrcoeff_for_participant_pair(participants, query_text)\n"
   ]
  },
  {
   "cell_type": "code",
   "execution_count": 99,
   "metadata": {},
   "outputs": [
    {
     "data": {
      "text/html": [
       "<div>\n",
       "<style scoped>\n",
       "    .dataframe tbody tr th:only-of-type {\n",
       "        vertical-align: middle;\n",
       "    }\n",
       "\n",
       "    .dataframe tbody tr th {\n",
       "        vertical-align: top;\n",
       "    }\n",
       "\n",
       "    .dataframe thead th {\n",
       "        text-align: right;\n",
       "    }\n",
       "</style>\n",
       "<table border=\"1\" class=\"dataframe\">\n",
       "  <thead>\n",
       "    <tr style=\"text-align: right;\">\n",
       "      <th></th>\n",
       "      <th>par1</th>\n",
       "      <th>par2</th>\n",
       "      <th>corr</th>\n",
       "    </tr>\n",
       "  </thead>\n",
       "  <tbody>\n",
       "    <tr>\n",
       "      <th>0</th>\n",
       "      <td>145</td>\n",
       "      <td>160</td>\n",
       "      <td>-0.080739</td>\n",
       "    </tr>\n",
       "    <tr>\n",
       "      <th>1</th>\n",
       "      <td>160</td>\n",
       "      <td>109</td>\n",
       "      <td>-0.072028</td>\n",
       "    </tr>\n",
       "    <tr>\n",
       "      <th>2</th>\n",
       "      <td>109</td>\n",
       "      <td>110</td>\n",
       "      <td>-0.051455</td>\n",
       "    </tr>\n",
       "    <tr>\n",
       "      <th>3</th>\n",
       "      <td>110</td>\n",
       "      <td>112</td>\n",
       "      <td>0.173066</td>\n",
       "    </tr>\n",
       "    <tr>\n",
       "      <th>4</th>\n",
       "      <td>112</td>\n",
       "      <td>156</td>\n",
       "      <td>-0.045935</td>\n",
       "    </tr>\n",
       "    <tr>\n",
       "      <th>...</th>\n",
       "      <td>...</td>\n",
       "      <td>...</td>\n",
       "      <td>...</td>\n",
       "    </tr>\n",
       "    <tr>\n",
       "      <th>135</th>\n",
       "      <td>108</td>\n",
       "      <td>170</td>\n",
       "      <td>0.089581</td>\n",
       "    </tr>\n",
       "    <tr>\n",
       "      <th>136</th>\n",
       "      <td>170</td>\n",
       "      <td>123</td>\n",
       "      <td>0.173476</td>\n",
       "    </tr>\n",
       "    <tr>\n",
       "      <th>137</th>\n",
       "      <td>123</td>\n",
       "      <td>135</td>\n",
       "      <td>-0.157171</td>\n",
       "    </tr>\n",
       "    <tr>\n",
       "      <th>138</th>\n",
       "      <td>135</td>\n",
       "      <td>235</td>\n",
       "      <td>NaN</td>\n",
       "    </tr>\n",
       "    <tr>\n",
       "      <th>139</th>\n",
       "      <td>235</td>\n",
       "      <td>180</td>\n",
       "      <td>NaN</td>\n",
       "    </tr>\n",
       "  </tbody>\n",
       "</table>\n",
       "<p>140 rows × 3 columns</p>\n",
       "</div>"
      ],
      "text/plain": [
       "     par1  par2      corr\n",
       "0     145   160 -0.080739\n",
       "1     160   109 -0.072028\n",
       "2     109   110 -0.051455\n",
       "3     110   112  0.173066\n",
       "4     112   156 -0.045935\n",
       "..    ...   ...       ...\n",
       "135   108   170  0.089581\n",
       "136   170   123  0.173476\n",
       "137   123   135 -0.157171\n",
       "138   135   235       NaN\n",
       "139   235   180       NaN\n",
       "\n",
       "[140 rows x 3 columns]"
      ]
     },
     "execution_count": 99,
     "metadata": {},
     "output_type": "execute_result"
    }
   ],
   "source": [
    "df= pd.DataFrame(y)\n",
    "df"
   ]
  },
  {
   "cell_type": "code",
   "execution_count": 100,
   "metadata": {},
   "outputs": [
    {
     "data": {
      "text/plain": [
       "106"
      ]
     },
     "execution_count": 100,
     "metadata": {},
     "output_type": "execute_result"
    }
   ],
   "source": [
    "len(df.dropna().index)"
   ]
  },
  {
   "cell_type": "code",
   "execution_count": 55,
   "metadata": {},
   "outputs": [],
   "source": [
    "get_interpolated_series_text = sql.text(\"\"\"\n",
    "select data_time, a.data_value par1_val, b.data_value par2_val\n",
    "from interpolated_interval_data a\n",
    "inner join interpolated_interval_data b using(data_time, interpolation_series_id, series_type_id)\n",
    "where a.participant_id = :par1\n",
    "and b.participant_id = :par2\n",
    "and interpolation_series_id = 3\n",
    "and series_type_id = 1\n",
    "and a.data_value is not null\n",
    "and b.data_value is not null\n",
    "\"\"\")"
   ]
  },
  {
   "cell_type": "code",
   "execution_count": 103,
   "metadata": {},
   "outputs": [],
   "source": [
    "def correlate_from_interpolated(participants,qt):     \n",
    "    for a in range(len(participants)-1):\n",
    "        r = con.execute(qt, par1 = participants[a], par2=participants[a+1])\n",
    "        df = pd.DataFrame(r.fetchall())\n",
    "        df.columns = r.keys()\n",
    "        c = np.corrcoef(df.par1_val.to_numpy().astype(float),df.par2_val.to_numpy().astype(float))[1,0]\n",
    "        yield c"
   ]
  },
  {
   "cell_type": "code",
   "execution_count": 104,
   "metadata": {},
   "outputs": [],
   "source": [
    "a= pd.Series(correlate_from_interpolated(participants, get_interpolated_series_text))\n",
    "\n",
    "#y = correlate_from_interpolated(participants, get_interpolated_series_text)                        "
   ]
  },
  {
   "cell_type": "code",
   "execution_count": 105,
   "metadata": {},
   "outputs": [
    {
     "data": {
      "text/plain": [
       "140"
      ]
     },
     "execution_count": 105,
     "metadata": {},
     "output_type": "execute_result"
    }
   ],
   "source": [
    "len(a)"
   ]
  },
  {
   "cell_type": "code",
   "execution_count": 106,
   "metadata": {},
   "outputs": [
    {
     "data": {
      "text/html": [
       "<div>\n",
       "<style scoped>\n",
       "    .dataframe tbody tr th:only-of-type {\n",
       "        vertical-align: middle;\n",
       "    }\n",
       "\n",
       "    .dataframe tbody tr th {\n",
       "        vertical-align: top;\n",
       "    }\n",
       "\n",
       "    .dataframe thead th {\n",
       "        text-align: right;\n",
       "    }\n",
       "</style>\n",
       "<table border=\"1\" class=\"dataframe\">\n",
       "  <thead>\n",
       "    <tr style=\"text-align: right;\">\n",
       "      <th></th>\n",
       "      <th>par1</th>\n",
       "      <th>par2</th>\n",
       "      <th>corr</th>\n",
       "      <th>interp_corr</th>\n",
       "    </tr>\n",
       "  </thead>\n",
       "  <tbody>\n",
       "    <tr>\n",
       "      <th>0</th>\n",
       "      <td>145</td>\n",
       "      <td>160</td>\n",
       "      <td>-0.080739</td>\n",
       "      <td>-0.051749</td>\n",
       "    </tr>\n",
       "    <tr>\n",
       "      <th>1</th>\n",
       "      <td>160</td>\n",
       "      <td>109</td>\n",
       "      <td>-0.072028</td>\n",
       "      <td>-0.131698</td>\n",
       "    </tr>\n",
       "    <tr>\n",
       "      <th>2</th>\n",
       "      <td>109</td>\n",
       "      <td>110</td>\n",
       "      <td>-0.051455</td>\n",
       "      <td>-0.050501</td>\n",
       "    </tr>\n",
       "    <tr>\n",
       "      <th>3</th>\n",
       "      <td>110</td>\n",
       "      <td>112</td>\n",
       "      <td>0.173066</td>\n",
       "      <td>0.164344</td>\n",
       "    </tr>\n",
       "    <tr>\n",
       "      <th>4</th>\n",
       "      <td>112</td>\n",
       "      <td>156</td>\n",
       "      <td>-0.045935</td>\n",
       "      <td>-0.078066</td>\n",
       "    </tr>\n",
       "    <tr>\n",
       "      <th>...</th>\n",
       "      <td>...</td>\n",
       "      <td>...</td>\n",
       "      <td>...</td>\n",
       "      <td>...</td>\n",
       "    </tr>\n",
       "    <tr>\n",
       "      <th>135</th>\n",
       "      <td>108</td>\n",
       "      <td>170</td>\n",
       "      <td>0.089581</td>\n",
       "      <td>0.047660</td>\n",
       "    </tr>\n",
       "    <tr>\n",
       "      <th>136</th>\n",
       "      <td>170</td>\n",
       "      <td>123</td>\n",
       "      <td>0.173476</td>\n",
       "      <td>0.135527</td>\n",
       "    </tr>\n",
       "    <tr>\n",
       "      <th>137</th>\n",
       "      <td>123</td>\n",
       "      <td>135</td>\n",
       "      <td>-0.157171</td>\n",
       "      <td>-0.208813</td>\n",
       "    </tr>\n",
       "    <tr>\n",
       "      <th>138</th>\n",
       "      <td>135</td>\n",
       "      <td>235</td>\n",
       "      <td>NaN</td>\n",
       "      <td>-0.208952</td>\n",
       "    </tr>\n",
       "    <tr>\n",
       "      <th>139</th>\n",
       "      <td>235</td>\n",
       "      <td>180</td>\n",
       "      <td>NaN</td>\n",
       "      <td>-0.027597</td>\n",
       "    </tr>\n",
       "  </tbody>\n",
       "</table>\n",
       "<p>140 rows × 4 columns</p>\n",
       "</div>"
      ],
      "text/plain": [
       "     par1  par2      corr  interp_corr\n",
       "0     145   160 -0.080739    -0.051749\n",
       "1     160   109 -0.072028    -0.131698\n",
       "2     109   110 -0.051455    -0.050501\n",
       "3     110   112  0.173066     0.164344\n",
       "4     112   156 -0.045935    -0.078066\n",
       "..    ...   ...       ...          ...\n",
       "135   108   170  0.089581     0.047660\n",
       "136   170   123  0.173476     0.135527\n",
       "137   123   135 -0.157171    -0.208813\n",
       "138   135   235       NaN    -0.208952\n",
       "139   235   180       NaN    -0.027597\n",
       "\n",
       "[140 rows x 4 columns]"
      ]
     },
     "execution_count": 106,
     "metadata": {},
     "output_type": "execute_result"
    }
   ],
   "source": [
    "df['interp_corr'] = a\n",
    "df"
   ]
  },
  {
   "cell_type": "code",
   "execution_count": 112,
   "metadata": {},
   "outputs": [
    {
     "data": {
      "text/plain": [
       "[<matplotlib.lines.Line2D at 0x7f41872ecd10>]"
      ]
     },
     "execution_count": 112,
     "metadata": {},
     "output_type": "execute_result"
    },
    {
     "data": {
      "image/png": "[encoded data removed]",
      "text/plain": [
       "<Figure size 432x288 with 1 Axes>"
      ]
     },
     "metadata": {
      "needs_background": "light"
     },
     "output_type": "display_data"
    }
   ],
   "source": [
    "plt.plot(df['corr'],df.interp_corr,'.')\n",
    "plt.plot([-0.3, 0.3], [-0.3, 0.3], 'y-')"
   ]
  },
  {
   "cell_type": "code",
   "execution_count": 113,
   "metadata": {},
   "outputs": [
    {
     "data": {
      "text/plain": [
       "True"
      ]
     },
     "execution_count": 113,
     "metadata": {},
     "output_type": "execute_result"
    }
   ],
   "source": [
    "con.close()\n",
    "con.closed"
   ]
  },
  {
   "cell_type": "code",
   "execution_count": 68,
   "metadata": {},
   "outputs": [
    {
     "data": {
      "text/plain": [
       "-0.05174903051967282"
      ]
     },
     "execution_count": 68,
     "metadata": {},
     "output_type": "execute_result"
    }
   ],
   "source": [
    "np.corrcoef(tmp.par1_val.to_numpy().astype(float),tmp.par2_val.to_numpy().astype(float))[1,0]"
   ]
  },
  {
   "cell_type": "code",
   "execution_count": 18,
   "metadata": {},
   "outputs": [
    {
     "data": {
      "text/plain": [
       "{'data_ordinal': 6,\n",
       " 'a_value': Decimal('0.96200'),\n",
       " 'b_values': '1.12800,1.15200',\n",
       " 'p': '62.58,37.42'}"
      ]
     },
     "execution_count": 18,
     "metadata": {},
     "output_type": "execute_result"
    }
   ],
   "source": [
    "from collections import namedtuple\n",
    "dict(next(r))"
   ]
  }
 ],
 "metadata": {
  "kernelspec": {
   "display_name": "Python 3.7.4 64-bit ('base': conda)",
   "language": "python",
   "name": "python37464bitbaseconda865b03b3ea5d4f4bb8519af201560b69"
  },
  "language_info": {
   "codemirror_mode": {
    "name": "ipython",
    "version": 3
   },
   "file_extension": ".py",
   "mimetype": "text/x-python",
   "name": "python",
   "nbconvert_exporter": "python",
   "pygments_lexer": "ipython3",
   "version": "3.7.4"
  }
 },
 "nbformat": 4,
 "nbformat_minor": 4
}
