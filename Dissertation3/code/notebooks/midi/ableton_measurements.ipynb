{
 "cells": [
  {
   "cell_type": "raw",
   "id": "official-height",
   "metadata": {},
   "source": [
    "freestyle 1001 80\n",
    "predictable 1001 80\n",
    "\n",
    "fs 1002 80\n",
    "np1002 148.45 \n",
    "\n",
    "fs1003 80\n",
    "np1003 148.45 1st 2.647 lst 4:49.214\n",
    "\n",
    "fs1004 80\n",
    "pd1004 80 1st 25.487 lst 4:09.367\n",
    "\n",
    "\n",
    "fs1005 80\n",
    "np1005 148.45 1st 0.821 lst 4:49.489\n",
    "\n",
    "fs1006 80\n",
    "pd1006 80 1st 25.426 lst 4:10.205\n",
    "\n",
    "\n",
    "fs1007 80 1st 10.890 lst 4:50.160\n",
    "pd1007 80 1st 25.057 lst 4:11.191\n",
    "\n",
    "fs1008 80 1st 7.699 lst 4:17.915\n",
    "np1008 148.45 1st 1.164 lst 5:21.580\n",
    "\n",
    "fs1009 80 1st 7.699 lst 5:53.575\n",
    "pd1009 80 1st 13.500 lst 4:24.900\n",
    "\n",
    "\n",
    "fs1010 80 1st 10.513 lst 4:24.850\n",
    "np1010 148.45  1st 1.636 lst 4:49.512\n",
    "\n",
    "fs1011 80 1st 2.635 lst 4:31.716\n",
    "pd1011 80 1st 27.075 lst 4:11.167\n",
    "\n",
    "fs1012 80 \n",
    "np1012 148.45 1st 2.775 lst 4:49.287\n",
    "\n",
    "\n",
    "\n"
   ]
  },
  {
   "cell_type": "code",
   "execution_count": null,
   "id": "acting-sessions",
   "metadata": {},
   "outputs": [],
   "source": [
    "'''\n",
    "1003 Freestyle 2.765 3:55.6\n",
    "1003 Interaction 1.729 3:34.8\n",
    "fs1003 80\n",
    "np1003 148.45 1st 2.647 lst 4:49.214\n",
    "\n",
    "1004 Freestyle 2.204 4:19.1\n",
    "1004 Interaction 25.553 4:8.6\n",
    "\n",
    "1005 Freestyle 1.978 4:14.1\n",
    "1005 Interaction 0.462 3:35.1\n",
    "\n",
    "1006 Freestyle 9.899 4:36.0\n",
    "1006 Interaction 25.389 4:9.31\n",
    "\n",
    "1007 Freestyle 10.841 4:49.2\n",
    "1007 Interaction 25.016 4:10.4\n",
    "fs1007 80 1st 10.890 lst 4:50.160\n",
    "pd1007 80 1st 25.057 lst 4:11.191\n",
    "\n",
    "1008 Freestyle 7.804 4:17.1\n",
    "1008 Interaction 0.634 4:7.2\n",
    "fs1008 80 1st 7.699 lst 4:17.915\n",
    "np1008 148.45 1st 1.164 lst 5:21.580\n",
    "\n",
    "\n",
    "1009 Freestyle 7.889 5:52.4\n",
    "1009 Interaction 13.497 4:24.0\n",
    "fs1009 80 1st 7.699 lst 5:53.575\n",
    "pd1009 80 1st 13.500 lst 4:24.900\n",
    "\n",
    "\n",
    "1010 Freestyle 10.288 4:24.0\n",
    "1010 Interaction 0.97 3:43.6\n",
    "fs1010 80 1st 10.513 lst 4:24.850\n",
    "np1010 148.45  1st 1.636 lst 4:49.512\n",
    "\n",
    "\n",
    "1011 Freestyle 2.632 4:30.8\n",
    "1011 Interaction 26.994 4:10.3\n",
    "fs1011 80 1st 2.635 lst 4:31.716\n",
    "pd1011 80 1st 27.075 lst 4:11.167\n",
    "\n",
    "\n",
    "1012 Freestyle 2.266 4:25.1\n",
    "1012 Interaction 1.771 3:35.0\n",
    "\n",
    "fs1012 80 \n",
    "np1012 148.45 1st 2.775 lst 4:49.287\n"
   ]
  },
  {
   "cell_type": "code",
   "execution_count": 1,
   "id": "demanding-wyoming",
   "metadata": {},
   "outputs": [
    {
     "data": {
      "text/plain": [
       "1.070110701107011"
      ]
     },
     "execution_count": 1,
     "metadata": {},
     "output_type": "execute_result"
    }
   ],
   "source": [
    "(240+50)/(240+31)"
   ]
  },
  {
   "cell_type": "code",
   "execution_count": 2,
   "id": "subjective-rochester",
   "metadata": {},
   "outputs": [
    {
     "data": {
      "text/plain": [
       "1.0677290836653386"
      ]
     },
     "execution_count": 2,
     "metadata": {},
     "output_type": "execute_result"
    }
   ],
   "source": [
    "(240+28)/(240+11)"
   ]
  },
  {
   "cell_type": "code",
   "execution_count": 3,
   "id": "separate-debate",
   "metadata": {},
   "outputs": [
    {
     "data": {
      "text/plain": [
       "1.344186046511628"
      ]
     },
     "execution_count": 3,
     "metadata": {},
     "output_type": "execute_result"
    }
   ],
   "source": [
    "(240+49)/(180+35)"
   ]
  },
  {
   "cell_type": "code",
   "execution_count": 5,
   "id": "oriented-messenger",
   "metadata": {},
   "outputs": [
    {
     "data": {
      "text/plain": [
       "1.2490272373540856"
      ]
     },
     "execution_count": 5,
     "metadata": {},
     "output_type": "execute_result"
    }
   ],
   "source": [
    "(300+21)/(240+17)"
   ]
  },
  {
   "cell_type": "code",
   "execution_count": null,
   "id": "unnecessary-steal",
   "metadata": {},
   "outputs": [],
   "source": []
  }
 ],
 "metadata": {
  "kernelspec": {
   "display_name": "Python 3.7.4 64-bit ('base': conda)",
   "language": "python",
   "name": "python37464bitbaseconda865b03b3ea5d4f4bb8519af201560b69"
  },
  "language_info": {
   "codemirror_mode": {
    "name": "ipython",
    "version": 3
   },
   "file_extension": ".py",
   "mimetype": "text/x-python",
   "name": "python",
   "nbconvert_exporter": "python",
   "pygments_lexer": "ipython3",
   "version": "3.7.9"
  }
 },
 "nbformat": 4,
 "nbformat_minor": 5
}
