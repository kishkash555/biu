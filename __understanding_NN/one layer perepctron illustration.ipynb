{
 "cells": [
  {
   "cell_type": "code",
   "execution_count": 1,
   "metadata": {},
   "outputs": [],
   "source": [
    "import dynet as dy\n",
    "import seaborn\n",
    "import numpy as np\n",
    "import matplotlib.pyplot as plt\n",
    "from random import shuffle"
   ]
  },
  {
   "cell_type": "code",
   "execution_count": 2,
   "metadata": {},
   "outputs": [],
   "source": [
    "seaborn.set()\n",
    "#dy.init()"
   ]
  },
  {
   "cell_type": "code",
   "execution_count": 3,
   "metadata": {},
   "outputs": [],
   "source": [
    "# creating test cases\n",
    "def circle_iid(radius, n_points):\n",
    "    \"\"\"\n",
    "    draw points unifrom within a circle in the 2D plane\n",
    "    \"\"\"\n",
    "    radii = np.sqrt(np.random.uniform(high=radius ** 2, size=n_points))\n",
    "    phi = np.random.uniform(high=2 * np.pi, size=n_points)\n",
    "    return np.array([radii*np.cos(phi),radii * np.sin(phi)])"
   ]
  },
  {
   "cell_type": "code",
   "execution_count": 4,
   "metadata": {
    "scrolled": true
   },
   "outputs": [
    {
     "data": {
      "text/plain": [
       "<matplotlib.axes._subplots.AxesSubplot at 0x7fee8e3e10d0>"
      ]
     },
     "execution_count": 4,
     "metadata": {},
     "output_type": "execute_result"
    },
    {
     "data": {
      "image/png": "[encoded data removed]",
      "text/plain": [
       "<Figure size 432x288 with 1 Axes>"
      ]
     },
     "metadata": {},
     "output_type": "display_data"
    }
   ],
   "source": [
    "points = circle_iid(0.1, 30)\n",
    "x = points[0,:]\n",
    "y = points[1,:]\n",
    "\n",
    "seaborn.scatterplot(x,y)"
   ]
  },
  {
   "cell_type": "markdown",
   "metadata": {},
   "source": [
    "### training the network"
   ]
  },
  {
   "cell_type": "code",
   "execution_count": 63,
   "metadata": {},
   "outputs": [],
   "source": [
    "\n",
    "def create_network():\n",
    "    dy.renew_cg()\n",
    "    pc = dy.ParameterCollection()\n",
    "    W = pc.add_parameters((2,2),name='W')\n",
    "    b = pc.add_parameters(2, name='b')\n",
    "    \n",
    "    return pc, {\"W\": W, \"b\": b,}\n",
    "    \n",
    "def evaluate_network(params, t, bias = True):\n",
    "    dy.renew_cg()\n",
    "    W = params[\"W\"]\n",
    "    b = params[\"b\"]\n",
    "    x = dy.vecInput(2)\n",
    "    # b = dy.vecInput(2)\n",
    "    x.set(t)\n",
    "    # b.set(np.array([0.1, 0.2]))\n",
    "    if bias:\n",
    "        lin_out = W * (x + b)\n",
    "    else:\n",
    "        lin_out = W * x\n",
    "    output = -dy.rectify(-dy.rectify(lin_out + 1)+2)+1\n",
    "    return output\n",
    "   \n",
    "\n",
    "EPOCHS = 100\n",
    "def train_network(pc, params, train_data):\n",
    "    trainer = dy.SimpleSGDTrainer(pc) \n",
    "\n",
    "    #W = params[\"W\"]\n",
    "   \n",
    "    i = 0 \n",
    "    for e in range(EPOCHS):\n",
    "        mloss = 0.\n",
    "        goods = 0.\n",
    "        shuffle(train_data)\n",
    "        for x, y in train_data:\n",
    "            i = i + 1\n",
    "            y_vec = np.zeros(2, np.double)\n",
    "            y_vec[y] = 1\n",
    "            output = evaluate_network(params, x)\n",
    "            y_param = dy.vecInput(2)\n",
    "            y_param.set(y_vec)\n",
    "            #loss = -dy.log (dy.pick(output,y))\n",
    "            loss = dy.squared_distance(output,y_param)\n",
    "            good = y == np.argmax(output.npvalue())\n",
    "            mloss += loss.value()\n",
    "            goods += int(good)\n",
    "            loss.backward()\n",
    "            trainer.update()\n",
    "            #print W.npvalue()[0,0]\n",
    "            \n",
    "        print(\"average loss: {} acc: {}\".format(mloss/len(train_data), goods/len(train_data)))\n",
    "        "
   ]
  },
  {
   "cell_type": "markdown",
   "metadata": {},
   "source": [
    "### the box function as a combination of ReLUs"
   ]
  },
  {
   "cell_type": "code",
   "execution_count": 7,
   "metadata": {},
   "outputs": [],
   "source": [
    "def relu(x):\n",
    "    return np.maximum(0,x)\n",
    "    \n",
    "def drel(x):\n",
    "    return -relu(-relu(x+1)+2)+1"
   ]
  },
  {
   "cell_type": "code",
   "execution_count": 8,
   "metadata": {},
   "outputs": [
    {
     "data": {
      "text/plain": [
       "[<matplotlib.lines.Line2D at 0x7fee8c1f4290>]"
      ]
     },
     "execution_count": 8,
     "metadata": {},
     "output_type": "execute_result"
    },
    {
     "data": {
      "image/png": "[encoded data removed]",
      "text/plain": [
       "<Figure size 432x288 with 1 Axes>"
      ]
     },
     "metadata": {},
     "output_type": "display_data"
    }
   ],
   "source": [
    "x = np.arange(-2,2,0.2)\n",
    "plt.plot(x, drel(x))\n"
   ]
  },
  {
   "cell_type": "markdown",
   "metadata": {},
   "source": [
    "### creating a test set and training"
   ]
  },
  {
   "cell_type": "code",
   "execution_count": 23,
   "metadata": {},
   "outputs": [],
   "source": [
    "def create_train_x(centroids, noise, count):\n",
    "    coord = []\n",
    "    for i in range(centroids.shape[1]):\n",
    "        coord.append(circle_iid(noise, count) + centroids[:,i, np.newaxis])\n",
    "    return np.concatenate(coord, axis=1)\n",
    "\n",
    "def create_train_data(z_centroids, o_centroids, noise, count):\n",
    "    train_data = []\n",
    "    z = create_train_x(z_centroids, noise, count)\n",
    "    o = create_train_x(o_centroids, noise, count)\n",
    "    print o.shape\n",
    "    for i in range(z.shape[1]):\n",
    "        train_data.append((z[:,i], 0))\n",
    "    for i in range(o.shape[1]):\n",
    "        train_data.append((o[:,i], 1))\n",
    "    return train_data"
   ]
  },
  {
   "cell_type": "code",
   "execution_count": 44,
   "metadata": {},
   "outputs": [
    {
     "name": "stdout",
     "output_type": "stream",
     "text": [
      "(2, 90)\n",
      "120\n"
     ]
    }
   ],
   "source": [
    "z_centroids = np.array([[0.5*np.cos(np.pi/6),0.5*np.sin(np.pi/6)]]).T\n",
    "o_centroids = np.array([\n",
    "    [0.5*np.cos(np.pi/3),0.5*np.sin(np.pi/3)],\n",
    "    [0.1*np.cos(np.pi/3),0.1*np.sin(np.pi/3)],\n",
    "    [0.1*np.cos(np.pi/6),0.1*np.sin(np.pi/6)],\n",
    "]).T\n",
    "\n",
    "train_data = create_train_data(z_centroids, o_centroids, 0.02, 30)\n",
    "train_data[0][0]\n",
    "print len(train_data)\n"
   ]
  },
  {
   "cell_type": "code",
   "execution_count": 52,
   "metadata": {},
   "outputs": [
    {
     "data": {
      "text/plain": [
       "2"
      ]
     },
     "execution_count": 52,
     "metadata": {},
     "output_type": "execute_result"
    }
   ],
   "source": [
    "pc, params = create_network()\n",
    "len(params)"
   ]
  },
  {
   "cell_type": "code",
   "execution_count": 53,
   "metadata": {},
   "outputs": [
    {
     "name": "stdout",
     "output_type": "stream",
     "text": [
      "average loss: 0.450076700466 acc: 0.725\n",
      "average loss: 0.258346707832 acc: 0.825\n",
      "average loss: 0.288403035926 acc: 0.708333333333\n",
      "average loss: 0.286007032481 acc: 0.716666666667\n",
      "average loss: 0.285100731054 acc: 0.783333333333\n",
      "average loss: 0.288639921454 acc: 0.75\n",
      "average loss: 0.278354103882 acc: 0.8\n",
      "average loss: 0.287126122342 acc: 0.733333333333\n",
      "average loss: 0.299014383047 acc: 0.683333333333\n",
      "average loss: 0.237585854038 acc: 0.8\n",
      "average loss: 0.289179743855 acc: 0.766666666667\n",
      "average loss: 0.276287023494 acc: 0.775\n",
      "average loss: 0.300502625621 acc: 0.8\n",
      "average loss: 0.263906972377 acc: 0.816666666667\n",
      "average loss: 0.254951616927 acc: 0.783333333333\n",
      "average loss: 0.278746741238 acc: 0.808333333333\n",
      "average loss: 0.288470625653 acc: 0.758333333333\n",
      "average loss: 0.266678840717 acc: 0.741666666667\n",
      "average loss: 0.273418355772 acc: 0.758333333333\n",
      "average loss: 0.267273532796 acc: 0.766666666667\n",
      "average loss: 0.25622216837 acc: 0.8\n",
      "average loss: 0.265734520027 acc: 0.783333333333\n",
      "average loss: 0.240010645068 acc: 0.833333333333\n",
      "average loss: 0.22071556711 acc: 0.808333333333\n",
      "average loss: 0.259319973279 acc: 0.783333333333\n",
      "average loss: 0.291545239132 acc: 0.733333333333\n",
      "average loss: 0.275558064886 acc: 0.775\n",
      "average loss: 0.255048490753 acc: 0.808333333333\n",
      "average loss: 0.272474397753 acc: 0.783333333333\n",
      "average loss: 0.264255405897 acc: 0.783333333333\n",
      "average loss: 0.240515447339 acc: 0.833333333333\n",
      "average loss: 0.277842031366 acc: 0.808333333333\n",
      "average loss: 0.275123366696 acc: 0.775\n",
      "average loss: 0.275462142563 acc: 0.791666666667\n",
      "average loss: 0.277329028721 acc: 0.75\n",
      "average loss: 0.265498591974 acc: 0.766666666667\n",
      "average loss: 0.287527580683 acc: 0.725\n",
      "average loss: 0.291632722794 acc: 0.766666666667\n",
      "average loss: 0.261884920772 acc: 0.75\n",
      "average loss: 0.283720498836 acc: 0.766666666667\n",
      "average loss: 0.267589143889 acc: 0.8\n",
      "average loss: 0.27366509112 acc: 0.775\n",
      "average loss: 0.289031022968 acc: 0.8\n",
      "average loss: 0.260539935777 acc: 0.775\n",
      "average loss: 0.275785684439 acc: 0.791666666667\n",
      "average loss: 0.239503315943 acc: 0.825\n",
      "average loss: 0.262761553357 acc: 0.8\n",
      "average loss: 0.258047594768 acc: 0.833333333333\n",
      "average loss: 0.277631437449 acc: 0.791666666667\n",
      "average loss: 0.264698489902 acc: 0.8\n",
      "average loss: 0.255065169261 acc: 0.791666666667\n",
      "average loss: 0.275167242106 acc: 0.775\n",
      "average loss: 0.281874184689 acc: 0.766666666667\n",
      "average loss: 0.260925081203 acc: 0.783333333333\n",
      "average loss: 0.28791366537 acc: 0.741666666667\n",
      "average loss: 0.294874406761 acc: 0.733333333333\n",
      "average loss: 0.268281445503 acc: 0.758333333333\n",
      "average loss: 0.294541718893 acc: 0.741666666667\n",
      "average loss: 0.294872288249 acc: 0.766666666667\n",
      "average loss: 0.268160278173 acc: 0.791666666667\n",
      "average loss: 0.304730032901 acc: 0.733333333333\n",
      "average loss: 0.270880608772 acc: 0.75\n",
      "average loss: 0.249617351501 acc: 0.808333333333\n",
      "average loss: 0.280731666709 acc: 0.75\n",
      "average loss: 0.280139355107 acc: 0.741666666667\n",
      "average loss: 0.281465499849 acc: 0.791666666667\n",
      "average loss: 0.269029357805 acc: 0.766666666667\n",
      "average loss: 0.271577530774 acc: 0.758333333333\n",
      "average loss: 0.250245898841 acc: 0.783333333333\n",
      "average loss: 0.286766174728 acc: 0.758333333333\n",
      "average loss: 0.246472808538 acc: 0.833333333333\n",
      "average loss: 0.269882721989 acc: 0.725\n",
      "average loss: 0.246337244233 acc: 0.766666666667\n",
      "average loss: 0.269561898375 acc: 0.766666666667\n",
      "average loss: 0.268007041353 acc: 0.791666666667\n",
      "average loss: 0.241802138753 acc: 0.8\n",
      "average loss: 0.254761475098 acc: 0.791666666667\n",
      "average loss: 0.276173863138 acc: 0.775\n",
      "average loss: 0.265537211286 acc: 0.783333333333\n",
      "average loss: 0.288862762064 acc: 0.725\n",
      "average loss: 0.28932376275 acc: 0.766666666667\n",
      "average loss: 0.282533790458 acc: 0.775\n",
      "average loss: 0.243351319301 acc: 0.783333333333\n",
      "average loss: 0.273837669352 acc: 0.75\n",
      "average loss: 0.273897084154 acc: 0.775\n",
      "average loss: 0.292994101376 acc: 0.733333333333\n",
      "average loss: 0.278735056583 acc: 0.733333333333\n",
      "average loss: 0.260204434717 acc: 0.783333333333\n",
      "average loss: 0.25895701506 acc: 0.766666666667\n",
      "average loss: 0.292253092842 acc: 0.741666666667\n",
      "average loss: 0.266291280353 acc: 0.741666666667\n",
      "average loss: 0.293878948682 acc: 0.7\n",
      "average loss: 0.280220486016 acc: 0.733333333333\n",
      "average loss: 0.244311661559 acc: 0.783333333333\n",
      "average loss: 0.256451409689 acc: 0.808333333333\n",
      "average loss: 0.251690536242 acc: 0.775\n",
      "average loss: 0.272063243361 acc: 0.758333333333\n",
      "average loss: 0.280964991081 acc: 0.75\n",
      "average loss: 0.27541810741 acc: 0.8\n",
      "average loss: 0.251090182031 acc: 0.783333333333\n"
     ]
    }
   ],
   "source": [
    "train_network(pc, params, train_data)"
   ]
  },
  {
   "cell_type": "code",
   "execution_count": 65,
   "metadata": {},
   "outputs": [
    {
     "name": "stdout",
     "output_type": "stream",
     "text": [
      "[[ 0.90010798  0.60404181]\n",
      " [-1.63285172  0.70906824]]\n",
      "[-0.11022964  0.50808841]\n",
      "\n",
      "[[ 0.4364709  -0.3718213 ]\n",
      " [ 1.00511097  0.55406648]]\n",
      "0.39460911898845\n"
     ]
    }
   ],
   "source": [
    "print params[\"W\"].npvalue()\n",
    "if \"b\" in params: print params[\"b\"].npvalue()\n",
    "print\n",
    "\n",
    "w = params[\"W\"].npvalue()\n",
    "b = params[\"b\"].npvalue()\n",
    "w_inv = np.linalg.inv(w)\n",
    "\n",
    "print w_inv\n",
    "print w_inv[:,0].dot(w_inv[:,1])"
   ]
  },
  {
   "cell_type": "markdown",
   "metadata": {},
   "source": [
    "### plot the transfromation on the original axes"
   ]
  },
  {
   "cell_type": "code",
   "execution_count": 60,
   "metadata": {},
   "outputs": [
    {
     "data": {
      "text/plain": [
       "[<matplotlib.lines.Line2D at 0x7fee8be34710>,\n",
       " <matplotlib.lines.Line2D at 0x7fee8bd83910>]"
      ]
     },
     "execution_count": 60,
     "metadata": {},
     "output_type": "execute_result"
    },
    {
     "data": {
      "image/png": "[encoded data removed]",
      "text/plain": [
       "<Figure size 432x288 with 1 Axes>"
      ]
     },
     "metadata": {},
     "output_type": "display_data"
    }
   ],
   "source": [
    "\n",
    "#b = np.array([0.1, 0.2])\n",
    "#b_inv = w_inv.dot(b)\n",
    "b_inv = np.array([0,0])\n",
    "plt.plot([t[0] for t, c in train_data if c ==0], \n",
    "         [t[1] for t, c in train_data if c ==0], 'r.',\n",
    "         [t[0] for t, c in train_data if c ==1],\n",
    "         [t[1] for t, c in train_data if c ==1], 'b.'\n",
    "        )\n",
    "\n",
    "#ft = w_inv.dot(b)\n",
    "plt.plot([-b[0],  w_inv[0,0]-b[0]],[-b[1], w_inv[1,0]-b[1]], 'k-',\n",
    "        [-b[0],  w_inv[0,1]-b[0]],[-b[1], w_inv[1,1]-b[1]], 'k--')"
   ]
  },
  {
   "cell_type": "markdown",
   "metadata": {},
   "source": [
    "### plot the transformed points"
   ]
  },
  {
   "cell_type": "code",
   "execution_count": 62,
   "metadata": {},
   "outputs": [
    {
     "data": {
      "text/plain": [
       "[<matplotlib.lines.Line2D at 0x7fee8b98cf10>,\n",
       " <matplotlib.lines.Line2D at 0x7fee8b98cf90>]"
      ]
     },
     "execution_count": 62,
     "metadata": {},
     "output_type": "execute_result"
    },
    {
     "data": {
      "image/png": "[encoded data removed]",
      "text/plain": [
       "<Figure size 432x288 with 1 Axes>"
      ]
     },
     "metadata": {},
     "output_type": "display_data"
    }
   ],
   "source": [
    "pos = (list(), list())\n",
    "neg = (list(), list())\n",
    "for x, y in train_data:\n",
    "    y_hat =evaluate_network(params, x).value()\n",
    "    if y:\n",
    "        add_to= pos\n",
    "    else:\n",
    "        add_to = neg\n",
    "    add_to[0].append(y_hat[0])\n",
    "    add_to[1].append(y_hat[1])\n",
    "\n",
    "\n",
    "plt.plot(pos[0], pos[1], 'b.',\n",
    "        neg[0],neg[1], 'r.')"
   ]
  },
  {
   "cell_type": "code",
   "execution_count": 64,
   "metadata": {},
   "outputs": [
    {
     "data": {
      "text/plain": [
       "array([[0.25      , 0.05      , 0.08660254],\n",
       "       [0.4330127 , 0.08660254, 0.05      ]])"
      ]
     },
     "execution_count": 64,
     "metadata": {},
     "output_type": "execute_result"
    }
   ],
   "source": [
    "o_centroids\n"
   ]
  },
  {
   "cell_type": "code",
   "execution_count": 17,
   "metadata": {},
   "outputs": [
    {
     "name": "stdout",
     "output_type": "stream",
     "text": [
      "[1.00263127]\n",
      "\n",
      "[-0.00089475]\n"
     ]
    }
   ],
   "source": [
    "w = params[\"W\"].npvalue()\n",
    "#b = params[\"b\"].npvalue()[:,np.newaxis]\n",
    "#print z_centroids\n",
    "print w[0,:].dot(z_centroids)\n",
    "print\n",
    "print w[0,:].dot(o_centroids)"
   ]
  },
  {
   "cell_type": "code",
   "execution_count": 121,
   "metadata": {},
   "outputs": [
    {
     "name": "stdout",
     "output_type": "stream",
     "text": [
      "[[ 2.21601057 -3.18235779]\n",
      " [-1.92577684  3.48091888]]\n",
      "[[2.19582791 2.00749005]\n",
      " [1.21481559 1.39790039]]\n",
      "\n"
     ]
    }
   ],
   "source": [
    "print w\n",
    "print np.linalg.inv(w)\n",
    "print\n",
    "#print w_inv.dot(b)"
   ]
  },
  {
   "cell_type": "markdown",
   "metadata": {},
   "source": [
    "### sandbox"
   ]
  },
  {
   "cell_type": "code",
   "execution_count": 28,
   "metadata": {},
   "outputs": [
    {
     "name": "stdout",
     "output_type": "stream",
     "text": [
      "[[-0.10226798]\n",
      " [ 0.80071885]]\n",
      "\n",
      "[[ 0.90278422]\n",
      " [-0.20350841]]\n"
     ]
    }
   ],
   "source": [
    "print w.dot(o_centroids)\n",
    "print\n",
    "print w.dot(z_centroids)"
   ]
  },
  {
   "cell_type": "code",
   "execution_count": 32,
   "metadata": {},
   "outputs": [
    {
     "data": {
      "text/plain": [
       "array([[0.4330127],\n",
       "       [0.25     ]])"
      ]
     },
     "execution_count": 32,
     "metadata": {},
     "output_type": "execute_result"
    }
   ],
   "source": [
    "z_centroids"
   ]
  },
  {
   "cell_type": "code",
   "execution_count": null,
   "metadata": {},
   "outputs": [],
   "source": [
    "a = np.array([[1,2,3],[1,2,3]])\n",
    "b = np.array([[4],[5]])\n",
    "a+b"
   ]
  },
  {
   "cell_type": "code",
   "execution_count": null,
   "metadata": {},
   "outputs": [],
   "source": [
    "a[:,1].shape"
   ]
  },
  {
   "cell_type": "code",
   "execution_count": 66,
   "metadata": {},
   "outputs": [],
   "source": [
    "p = np.array([\n",
    "    [0,1,0,0,0],\n",
    "    [0,0,1,0,0],\n",
    "    [0,0,0,1,0],\n",
    "    [0,0,0,0,1],\n",
    "    [0.25, 0.25, 0.25,0.25,0]\n",
    "])"
   ]
  },
  {
   "cell_type": "code",
   "execution_count": 67,
   "metadata": {},
   "outputs": [
    {
     "data": {
      "text/plain": [
       "array([1., 1., 1., 1., 1.])"
      ]
     },
     "execution_count": 67,
     "metadata": {},
     "output_type": "execute_result"
    }
   ],
   "source": [
    "p.sum(axis=1)"
   ]
  },
  {
   "cell_type": "code",
   "execution_count": 93,
   "metadata": {},
   "outputs": [
    {
     "name": "stdout",
     "output_type": "stream",
     "text": [
      "1\n",
      "[[0.   0.   1.   0.   0.  ]\n",
      " [0.   0.   0.   1.   0.  ]\n",
      " [0.   0.   0.   0.   1.  ]\n",
      " [0.25 0.25 0.25 0.25 0.  ]\n",
      " [0.   0.25 0.25 0.25 0.25]]\n",
      "2\n",
      "[[0.     0.     0.     1.     0.    ]\n",
      " [0.     0.     0.     0.     1.    ]\n",
      " [0.25   0.25   0.25   0.25   0.    ]\n",
      " [0.     0.25   0.25   0.25   0.25  ]\n",
      " [0.0625 0.0625 0.3125 0.3125 0.25  ]]\n",
      "3\n",
      "[[0.     0.     0.     0.     1.    ]\n",
      " [0.25   0.25   0.25   0.25   0.    ]\n",
      " [0.     0.25   0.25   0.25   0.25  ]\n",
      " [0.0625 0.0625 0.3125 0.3125 0.25  ]\n",
      " [0.0625 0.125  0.125  0.375  0.3125]]\n",
      "4\n",
      "[[0.25     0.25     0.25     0.25     0.      ]\n",
      " [0.       0.25     0.25     0.25     0.25    ]\n",
      " [0.0625   0.0625   0.3125   0.3125   0.25    ]\n",
      " [0.0625   0.125    0.125    0.375    0.3125  ]\n",
      " [0.078125 0.140625 0.203125 0.203125 0.375   ]]\n",
      "5\n",
      "[[0.       0.25     0.25     0.25     0.25    ]\n",
      " [0.0625   0.0625   0.3125   0.3125   0.25    ]\n",
      " [0.0625   0.125    0.125    0.375    0.3125  ]\n",
      " [0.078125 0.140625 0.203125 0.203125 0.375   ]\n",
      " [0.09375  0.171875 0.234375 0.296875 0.203125]]\n",
      "6\n",
      "[[0.0625     0.0625     0.3125     0.3125     0.25      ]\n",
      " [0.0625     0.125      0.125      0.375      0.3125    ]\n",
      " [0.078125   0.140625   0.203125   0.203125   0.375     ]\n",
      " [0.09375    0.171875   0.234375   0.296875   0.203125  ]\n",
      " [0.05078125 0.14453125 0.22265625 0.28515625 0.296875  ]]\n",
      "7\n",
      "[[0.0625     0.125      0.125      0.375      0.3125    ]\n",
      " [0.078125   0.140625   0.203125   0.203125   0.375     ]\n",
      " [0.09375    0.171875   0.234375   0.296875   0.203125  ]\n",
      " [0.05078125 0.14453125 0.22265625 0.28515625 0.296875  ]\n",
      " [0.07421875 0.125      0.21875    0.296875   0.28515625]]\n",
      "8\n",
      "[[0.078125   0.140625   0.203125   0.203125   0.375     ]\n",
      " [0.09375    0.171875   0.234375   0.296875   0.203125  ]\n",
      " [0.05078125 0.14453125 0.22265625 0.28515625 0.296875  ]\n",
      " [0.07421875 0.125      0.21875    0.296875   0.28515625]\n",
      " [0.07128906 0.14550781 0.19628906 0.29003906 0.296875  ]]\n",
      "9\n",
      "[[0.09375    0.171875   0.234375   0.296875   0.203125  ]\n",
      " [0.05078125 0.14453125 0.22265625 0.28515625 0.296875  ]\n",
      " [0.07421875 0.125      0.21875    0.296875   0.28515625]\n",
      " [0.07128906 0.14550781 0.19628906 0.29003906 0.296875  ]\n",
      " [0.07421875 0.14550781 0.21972656 0.27050781 0.29003906]]\n",
      "\n"
     ]
    }
   ],
   "source": [
    "p1 = p #np.array([1,0,0,0,0])\n",
    "for r in range(1,10):\n",
    "    p1 = p1.dot(p)\n",
    "    print r\n",
    "    print p1\n",
    "print "
   ]
  },
  {
   "cell_type": "code",
   "execution_count": 72,
   "metadata": {},
   "outputs": [],
   "source": [
    "from scipy.linalg import eig"
   ]
  },
  {
   "cell_type": "code",
   "execution_count": 77,
   "metadata": {},
   "outputs": [
    {
     "name": "stdout",
     "output_type": "stream",
     "text": [
      "[-0.60355339+0.36840644j -0.60355339-0.36840644j  0.10355339+0.69948316j\n",
      "  0.10355339-0.69948316j  1.        +0.j        ]\n"
     ]
    }
   ],
   "source": [
    "w, vl = eig(p.T);\n",
    "print w"
   ]
  },
  {
   "cell_type": "code",
   "execution_count": 78,
   "metadata": {},
   "outputs": [
    {
     "name": "stdout",
     "output_type": "stream",
     "text": [
      "[[-0.21913684-0.1337602j  -0.21913684+0.1337602j   0.03208862-0.21675246j\n",
      "   0.03208862+0.21675246j  0.14744196+0.j        ]\n",
      " [-0.05317151+0.18916549j -0.05317151-0.18916549j -0.26449499-0.30653426j\n",
      "  -0.26449499+0.30653426j  0.29488391+0.j        ]\n",
      " [-0.01557358-0.32292569j -0.01557358+0.32292569j -0.45152119+0.08978181j\n",
      "  -0.45152119-0.08978181j  0.44232587+0.j        ]\n",
      " [-0.43827367+0.2675204j  -0.43827367-0.2675204j   0.06417725+0.43350491j\n",
      "   0.06417725-0.43350491j  0.58976782+0.j        ]\n",
      " [ 0.7261556 +0.j          0.7261556 -0.j          0.61975031+0.j\n",
      "   0.61975031-0.j          0.58976782+0.j        ]]\n"
     ]
    }
   ],
   "source": [
    "print vl"
   ]
  },
  {
   "cell_type": "code",
   "execution_count": 83,
   "metadata": {},
   "outputs": [],
   "source": [
    "ep = np.real(vl[:,4])"
   ]
  },
  {
   "cell_type": "code",
   "execution_count": 85,
   "metadata": {},
   "outputs": [
    {
     "name": "stdout",
     "output_type": "stream",
     "text": [
      "[-1.11022302e-16  1.11022302e-16  5.55111512e-17  0.00000000e+00\n",
      "  0.00000000e+00]\n"
     ]
    }
   ],
   "source": [
    "print ep -ep.dot(p)"
   ]
  },
  {
   "cell_type": "code",
   "execution_count": 92,
   "metadata": {},
   "outputs": [
    {
     "name": "stdout",
     "output_type": "stream",
     "text": [
      "[0.07142857 0.14285714 0.21428571 0.28571429 0.28571429]\n"
     ]
    }
   ],
   "source": [
    "print ep/ep.sum()"
   ]
  },
  {
   "cell_type": "code",
   "execution_count": 90,
   "metadata": {},
   "outputs": [
    {
     "data": {
      "text/plain": [
       "0.14285714285714285"
      ]
     },
     "execution_count": 90,
     "metadata": {},
     "output_type": "execute_result"
    }
   ],
   "source": [
    "1./7"
   ]
  },
  {
   "cell_type": "code",
   "execution_count": 91,
   "metadata": {},
   "outputs": [
    {
     "data": {
      "text/plain": [
       "3.09628107925284"
      ]
     },
     "execution_count": 91,
     "metadata": {},
     "output_type": "execute_result"
    }
   ],
   "source": [
    "ep[2]*7"
   ]
  },
  {
   "cell_type": "code",
   "execution_count": 97,
   "metadata": {},
   "outputs": [],
   "source": [
    "a= np.array([[6,6],[7,7]])"
   ]
  },
  {
   "cell_type": "code",
   "execution_count": 98,
   "metadata": {},
   "outputs": [
    {
     "data": {
      "text/plain": [
       "(2, 2)"
      ]
     },
     "execution_count": 98,
     "metadata": {},
     "output_type": "execute_result"
    }
   ],
   "source": [
    "a.shape"
   ]
  },
  {
   "cell_type": "code",
   "execution_count": 101,
   "metadata": {},
   "outputs": [
    {
     "data": {
      "text/plain": [
       "True"
      ]
     },
     "execution_count": 101,
     "metadata": {},
     "output_type": "execute_result"
    }
   ],
   "source": [
    "np.diff(a.shape)[0] ==0"
   ]
  },
  {
   "cell_type": "code",
   "execution_count": null,
   "metadata": {},
   "outputs": [],
   "source": [
    "np.linalg.in"
   ]
  }
 ],
 "metadata": {
  "kernelspec": {
   "display_name": "Python 2",
   "language": "python",
   "name": "python2"
  },
  "language_info": {
   "codemirror_mode": {
    "name": "ipython",
    "version": 2
   },
   "file_extension": ".py",
   "mimetype": "text/x-python",
   "name": "python",
   "nbconvert_exporter": "python",
   "pygments_lexer": "ipython2",
   "version": "2.7.15rc1"
  }
 },
 "nbformat": 4,
 "nbformat_minor": 2
}
