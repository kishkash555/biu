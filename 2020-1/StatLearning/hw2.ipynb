{
 "cells": [
  {
   "cell_type": "code",
   "execution_count": 1,
   "metadata": {},
   "outputs": [],
   "source": [
    "import numpy as np\n",
    "import pandas as pd"
   ]
  },
  {
   "cell_type": "code",
   "execution_count": 2,
   "metadata": {},
   "outputs": [],
   "source": [
    "\n",
    "emit = pd.DataFrame([\n",
    "    {\"State\": \"A\", \"output\":0, \"probability\": 0.8},\n",
    "    {\"State\": \"A\", \"output\":1, \"probability\": 0.2},\n",
    "    {\"State\": \"B\", \"output\":0, \"probability\": 0.7},\n",
    "    {\"State\": \"B\", \"output\":1, \"probability\": 0.3},\n",
    "])\n",
    "\n",
    "transit = pd.DataFrame([\n",
    "    {\"from\": \"A\", \"to\": \"A\", \"probability\": 0.2},\n",
    "    {\"from\": \"A\", \"to\": \"B\", \"probability\": 0.8},\n",
    "    {\"from\": \"B\", \"to\": \"A\", \"probability\": 0.1},\n",
    "    {\"from\": \"B\", \"to\": \"B\", \"probability\": 0.9},\n",
    "])\n",
    "\n",
    "init = {\"A\": 0.5, \"B\": 0.5}\n",
    "states = [\"A\", \"B\"]\n",
    "\n",
    "class hmm:\n",
    "    def __init__(self, states, outputs, init, emit, transit):\n",
    "        self.states = states\n",
    "        self.outputs = outputs\n",
    "        self.init = init\n",
    "        self.emit = emit\n",
    "        self.transit = transit\n",
    "    def get_transit(self, prev,current):\n",
    "        return self.transit[np.logical_and(self.transit[\"from\"]==prev, self.transit[\"to\"]==current)][\"probability\"].iloc[0]\n",
    "    def get_emit(self, current):\n",
    "        a = self.emit[self.emit[\"State\"]==current]\n",
    "        return { o: p for o,p in zip(a[\"output\"], a[\"probability\"]) }"
   ]
  },
  {
   "cell_type": "code",
   "execution_count": 10,
   "metadata": {},
   "outputs": [],
   "source": [
    "def forward(x_list):\n",
    "    for \n",
    "def z_given_x(x_list, state_list):\n",
    "    for x in x_list:\n",
    "        curr =[]\n",
    "        for state in state_list:\n",
    "            if len(curr)==0:\n",
    "                p = init[state]\n",
    "            else:\n",
    "                p = p*get_transit[curr[-1],state]\n",
    "            curr.append(state)\n",
    "            \n",
    "        \n"
   ]
  },
  {
   "cell_type": "code",
   "execution_count": 11,
   "metadata": {},
   "outputs": [
    {
     "data": {
      "text/plain": [
       "0.8"
      ]
     },
     "execution_count": 11,
     "metadata": {},
     "output_type": "execute_result"
    }
   ],
   "source": [
    "get_transit(\"A\",\"B\")"
   ]
  },
  {
   "cell_type": "code",
   "execution_count": 9,
   "metadata": {},
   "outputs": [
    {
     "name": "stdout",
     "output_type": "stream",
     "text": [
      "0.37125 0.3520000000000001\n",
      "0.38925000000000004 0.3340000000000001\n",
      "ab1A\n",
      "ab2A\n",
      "[0.10125 0.27    0.288   0.064  ] 2\n"
     ]
    }
   ],
   "source": [
    "ea0=0.9\n",
    "eb0=0.8\n",
    "\n",
    "Taa = 0.25\n",
    "Tbb = 0.2\n",
    "\n",
    "ab1_A = 0.5*ea0*(ea0*Taa+eb0*(1-Taa))\n",
    "ab1_B = 0.5*eb0*(ea0*(1-Tbb)+eb0*Tbb)\n",
    "print(ab1_A, ab1_B)\n",
    "\n",
    "ab2_A = 0.5*ea0*(Taa*ea0+(1-Tbb)*eb0)\n",
    "ab2_B = 0.5*eb0*((1-Taa)*ea0+Tbb*eb0)\n",
    "print(ab2_A, ab2_B)\n",
    "\n",
    "y_AA = ea0*Taa*0.5*ea0\n",
    "y_BA = ea0*(1-Tbb)*0.5*eb0\n",
    "\n",
    "y_AB = eb0*(1-Taa)*0.5*ea0\n",
    "y_BB = eb0*Tbb*0.5*eb0\n",
    "\n",
    "if ab1_A > ab1_B: print(\"ab1A\"); \n",
    "else: print(\"ab1B\")\n",
    "\n",
    "if ab2_A > ab2_B: print(\"ab2A\"); \n",
    "else: print(\"ab2B\")\n",
    "        \n",
    "vit = np.array([y_AA, y_AB, y_BA, y_BB])\n",
    "print(vit, np.argmax(vit))\n",
    "    "
   ]
  },
  {
   "cell_type": "code",
   "execution_count": null,
   "metadata": {},
   "outputs": [],
   "source": [
    "\n",
    "\n"
   ]
  }
 ],
 "metadata": {
  "kernelspec": {
   "display_name": "Python 3",
   "language": "python",
   "name": "python3"
  },
  "language_info": {
   "codemirror_mode": {
    "name": "ipython",
    "version": 3
   },
   "file_extension": ".py",
   "mimetype": "text/x-python",
   "name": "python",
   "nbconvert_exporter": "python",
   "pygments_lexer": "ipython3",
   "version": "3.7.3"
  }
 },
 "nbformat": 4,
 "nbformat_minor": 2
}
