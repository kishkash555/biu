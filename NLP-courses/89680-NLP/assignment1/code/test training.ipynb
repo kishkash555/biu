{
 "cells": [
  {
   "cell_type": "code",
   "execution_count": 6,
   "metadata": {},
   "outputs": [],
   "source": [
    "\n",
    "from importlib import reload\n",
    "import numpy as np\n",
    "from collections import Counter"
   ]
  },
  {
   "cell_type": "markdown",
   "metadata": {},
   "source": [
    "### Testing the processing of the input\n",
    "from the text file to countrs"
   ]
  },
  {
   "cell_type": "code",
   "execution_count": 59,
   "metadata": {},
   "outputs": [
    {
     "data": {
      "text/plain": [
       "<module 'training' from 'C:\\\\Shahar\\\\BarIlan\\\\NLP-courses\\\\89680-NLP\\\\assignment1\\\\code\\\\training.py'>"
      ]
     },
     "execution_count": 59,
     "metadata": {},
     "output_type": "execute_result"
    }
   ],
   "source": [
    "import training\n",
    "reload(training)"
   ]
  },
  {
   "cell_type": "code",
   "execution_count": 60,
   "metadata": {},
   "outputs": [
    {
     "name": "stdout",
     "output_type": "stream",
     "text": [
      "string length: 8237657 words:950028 \n"
     ]
    }
   ],
   "source": [
    "train_data = training.read_input('..\\\\data\\\\ass1-tagger-train')"
   ]
  },
  {
   "cell_type": "code",
   "execution_count": 35,
   "metadata": {},
   "outputs": [
    {
     "data": {
      "text/plain": [
       "array([[16252, 35541,  1307, ...,     0,     7,     0],\n",
       "       [11424,  2232, 15763, ...,     2,     2,     1],\n",
       "       [ 5344,  3889, 34528, ...,     0,     3,     0],\n",
       "       ...,\n",
       "       [    2,     7,     0, ...,     3,     0,     0],\n",
       "       [    4,     2,     3, ...,     0,     0,     0],\n",
       "       [    0,     0,     0, ...,     0,     0,     0]])"
      ]
     },
     "execution_count": 35,
     "metadata": {},
     "output_type": "execute_result"
    }
   ],
   "source": [
    "train_data.pos_counter1"
   ]
  },
  {
   "cell_type": "code",
   "execution_count": 12,
   "metadata": {},
   "outputs": [
    {
     "data": {
      "text/plain": [
       "16252"
      ]
     },
     "execution_count": 12,
     "metadata": {},
     "output_type": "execute_result"
    }
   ],
   "source": [
    "train_data.pos_counter1[0,0]\n"
   ]
  },
  {
   "cell_type": "code",
   "execution_count": 15,
   "metadata": {},
   "outputs": [],
   "source": [
    "with open('..\\\\data\\\\ass1-tagger-train','rt',encoding='utf8') as a:\n",
    "        file_as_string = a.read()\n",
    "\n",
    "    # single counters\n",
    "word_pos_pairs = [w.rsplit(\"/\",1) for w in file_as_string.split()] #rsplit(\"/\",1): split on the first slash from the right\n",
    "   "
   ]
  },
  {
   "cell_type": "code",
   "execution_count": 20,
   "metadata": {},
   "outputs": [
    {
     "name": "stdout",
     "output_type": "stream",
     "text": [
      "1307\n"
     ]
    }
   ],
   "source": [
    "c = 0\n",
    "prev = False\n",
    "for p in word_pos_pairs:\n",
    "    if p[1]=='NNP':\n",
    "        if prev:\n",
    "            c +=1\n",
    "    if p[1]=='NN':\n",
    "        prev=True\n",
    "    else:\n",
    "        prev=False\n",
    "print(c)"
   ]
  },
  {
   "cell_type": "code",
   "execution_count": 16,
   "metadata": {},
   "outputs": [
    {
     "data": {
      "text/plain": [
       "{'NN': 0,\n",
       " 'IN': 1,\n",
       " 'NNP': 2,\n",
       " 'DT': 3,\n",
       " 'JJ': 4,\n",
       " 'NNS': 5,\n",
       " ',': 6,\n",
       " '.': 7,\n",
       " 'CD': 8,\n",
       " 'RB': 9,\n",
       " 'VBD': 10,\n",
       " 'VB': 11,\n",
       " 'CC': 12,\n",
       " 'VBZ': 13,\n",
       " 'VBN': 14,\n",
       " 'PRP': 15,\n",
       " 'VBG': 16,\n",
       " 'TO': 17,\n",
       " 'VBP': 18,\n",
       " 'MD': 19,\n",
       " 'POS': 20,\n",
       " 'PRP$': 21,\n",
       " '$': 22,\n",
       " '``': 23,\n",
       " \"''\": 24,\n",
       " ':': 25,\n",
       " 'WDT': 26,\n",
       " 'JJR': 27,\n",
       " 'NNPS': 28,\n",
       " 'RP': 29,\n",
       " 'WP': 30,\n",
       " 'WRB': 31,\n",
       " 'JJS': 32,\n",
       " 'RBR': 33,\n",
       " ')': 34,\n",
       " '(': 35,\n",
       " 'EX': 36,\n",
       " 'RBS': 37,\n",
       " 'PDT': 38,\n",
       " 'FW': 39,\n",
       " 'WP$': 40,\n",
       " '#': 41,\n",
       " 'UH': 42,\n",
       " 'SYM': 43,\n",
       " 'LS': 44}"
      ]
     },
     "execution_count": 16,
     "metadata": {},
     "output_type": "execute_result"
    }
   ],
   "source": [
    "train_data.pos_items"
   ]
  },
  {
   "cell_type": "code",
   "execution_count": 44,
   "metadata": {},
   "outputs": [
    {
     "data": {
      "text/plain": [
       "[(('IN', 'DT', 'NN'), 15800),\n",
       " (('DT', 'JJ', 'NN'), 12188),\n",
       " (('DT', 'NN', 'IN'), 11674),\n",
       " (('NN', 'IN', 'DT'), 11498),\n",
       " (('NNP', 'NNP', 'NNP'), 9212),\n",
       " (('IN', 'DT', 'JJ'), 8086),\n",
       " (('JJ', 'NN', 'IN'), 7652),\n",
       " (('NNP', 'NNP', ','), 6971),\n",
       " (('IN', 'NNP', 'NNP'), 6242),\n",
       " (('NN', 'IN', 'NNP'), 6046)]"
      ]
     },
     "execution_count": 44,
     "metadata": {},
     "output_type": "execute_result"
    }
   ],
   "source": [
    "train_data.pos_counter2.most_common(10)"
   ]
  },
  {
   "cell_type": "code",
   "execution_count": 47,
   "metadata": {},
   "outputs": [
    {
     "name": "stdout",
     "output_type": "stream",
     "text": [
      "6971\n"
     ]
    }
   ],
   "source": [
    "c = 0\n",
    "prev = ['start']*3\n",
    "for p in word_pos_pairs:\n",
    "    prev.append(p[1])\n",
    "    prev = prev[1:]\n",
    "    if all([x==y for x,y in zip(prev, ['NNP','NNP',','])]):\n",
    "            c +=1\n",
    "print(c)"
   ]
  },
  {
   "cell_type": "code",
   "execution_count": 61,
   "metadata": {},
   "outputs": [
    {
     "name": "stdout",
     "output_type": "stream",
     "text": [
      "(',', array([    0,     0,     0,     0,     0,     0, 48723,     0,     0,\n",
      "           0,     0,     0,     0,     0,     0,     0,     0,     0,\n",
      "           0,     0,     0,     0,     0,     0,     0,     0,     0,\n",
      "           0,     0,     0,     0,     0,     0,     0,     0,     0,\n",
      "           0,     0,     0,     0,     0,     0,     0,     0,     0]))\n",
      "('the', array([    1,     0,     5, 41098,     2,     0,     0,     0,     0,\n",
      "           0,     0,     0,     0,     0,     0,     0,     0,     0,\n",
      "           1,     0,     0,     0,     0,     0,     0,     0,     0,\n",
      "           0,     0,     0,     0,     0,     0,     0,     0,     0,\n",
      "           0,     0,     0,     0,     0,     0,     0,     0,     0]))\n",
      "('.', array([    0,     0,     0,     0,     0,     0,     0, 39020,     0,\n",
      "           0,     0,     0,     0,     0,     0,     0,     0,     0,\n",
      "           0,     0,     0,     0,     0,     0,     0,     0,     0,\n",
      "           0,     0,     0,     0,     0,     0,     0,     0,     0,\n",
      "           0,     0,     0,     0,     0,     0,     0,     0,     0]))\n",
      "('of', array([    0, 22925,     0,     0,     0,     0,     0,     0,     0,\n",
      "           2,     0,     0,     0,     0,     0,     0,     0,     0,\n",
      "           0,     0,     0,     0,     0,     0,     0,     0,     0,\n",
      "           0,     0,     2,     0,     0,     0,     0,     0,     0,\n",
      "           0,     0,     0,     0,     0,     0,     0,     0,     0]))\n",
      "('a', array([    0,     0,     2, 19264,     0,     0,     0,     0,     0,\n",
      "           0,     0,     0,     0,     0,     0,     0,     0,     0,\n",
      "           0,     0,     0,     0,     0,     0,     0,     0,     0,\n",
      "           0,     0,     0,     0,     0,     0,     0,     0,     0,\n",
      "           0,     0,     0,     7,     0,     0,     0,    10,     1]))\n"
     ]
    }
   ],
   "source": [
    "a=iter(train_data.word_counts.items())\n",
    "print(next(a))\n",
    "print(next(a))\n",
    "print(next(a))\n",
    "print(next(a))\n",
    "print(next(a))\n"
   ]
  },
  {
   "cell_type": "code",
   "execution_count": 64,
   "metadata": {},
   "outputs": [
    {
     "name": "stdout",
     "output_type": "stream",
     "text": [
      "('for', array([   0, 7971,    0,    0,    0,    0,    0,    0,    0,    1,    0,\n",
      "          0,    0,    0,    0,    0,    0,    0,    0,    0,    0,    0,\n",
      "          0,    0,    0,    0,    0,    0,    0,    4,    0,    0,    0,\n",
      "          0,    0,    0,    0,    0,    0,    0,    0,    0,    0,    0,\n",
      "          0]))\n",
      "('$', array([   0,    0,    0,    0,    0,    0,    0,    0,    0,    0,    0,\n",
      "          0,    0,    0,    0,    0,    0,    0,    0,    0,    0,    0,\n",
      "       7184,    0,    0,    0,    0,    0,    0,    0,    0,    0,    0,\n",
      "          0,    0,    0,    0,    0,    0,    0,    0,    0,    0,    0,\n",
      "          0]))\n",
      "('``', array([   0,    0,    0,    0,    0,    0,    0,    0,    0,    0,    0,\n",
      "          0,    0,    0,    0,    0,    0,    0,    0,    0,    0,    0,\n",
      "          0, 6967,    0,    0,    0,    0,    0,    0,    0,    0,    0,\n",
      "          0,    0,    0,    0,    0,    0,    0,    0,    0,    0,    0,\n",
      "          0]))\n",
      "('is', array([   0,    0,    0,    0,    0,    2,    0,    0,    0,    0,    0,\n",
      "          0,    0, 6936,    0,    0,    0,    0,    0,    0,    0,    0,\n",
      "          0,    0,    0,    0,    0,    0,    0,    0,    0,    0,    0,\n",
      "          0,    0,    0,    0,    0,    0,    0,    0,    0,    0,    0,\n",
      "          0]))\n"
     ]
    }
   ],
   "source": [
    "print(next(a))\n",
    "print(next(a))\n",
    "print(next(a))\n",
    "print(next(a))"
   ]
  },
  {
   "cell_type": "markdown",
   "metadata": {},
   "source": [
    "### testing getQ"
   ]
  },
  {
   "cell_type": "code",
   "execution_count": 77,
   "metadata": {},
   "outputs": [
    {
     "data": {
      "text/plain": [
       "<module 'config' from 'C:\\\\Shahar\\\\BarIlan\\\\NLP-courses\\\\89680-NLP\\\\assignment1\\\\code\\\\config.py'>"
      ]
     },
     "execution_count": 77,
     "metadata": {},
     "output_type": "execute_result"
    }
   ],
   "source": [
    "import training\n",
    "import config\n",
    "reload(training)\n",
    "reload(config)"
   ]
  },
  {
   "cell_type": "code",
   "execution_count": 78,
   "metadata": {},
   "outputs": [
    {
     "name": "stdout",
     "output_type": "stream",
     "text": [
      "count_abc: 1880\t count_ab: 34528\n",
      "count_bc: 3889\tcount_b:91466\n",
      "count_c:107862\tnumwods:950028\n",
      "ret:0.06031972574374116\n"
     ]
    },
    {
     "data": {
      "text/plain": [
       "array([0.05444856, 0.04251853, 0.1135356 ])"
      ]
     },
     "execution_count": 78,
     "metadata": {},
     "output_type": "execute_result"
    }
   ],
   "source": [
    "training.getQ(('NNP', 'NNP', 'IN'),train_data)"
   ]
  },
  {
   "cell_type": "code",
   "execution_count": 79,
   "metadata": {},
   "outputs": [
    {
     "data": {
      "text/plain": [
       "0.06031972333333333"
      ]
     },
     "execution_count": 79,
     "metadata": {},
     "output_type": "execute_result"
    }
   ],
   "source": [
    "np.array([0.05444856, 0.04251853, 0.1135356 ]).dot(np.array([3,2,1]))/(6)"
   ]
  },
  {
   "cell_type": "code",
   "execution_count": 85,
   "metadata": {},
   "outputs": [
    {
     "data": {
      "text/plain": [
       "array([[0.488167  , 0.72041033, 0.69743804],\n",
       "       [0.40514067, 0.59788459, 0.57881937],\n",
       "       [0.03069406, 0.04529662, 0.04385221]])"
      ]
     },
     "execution_count": 85,
     "metadata": {},
     "output_type": "execute_result"
    }
   ],
   "source": [
    "v = np.outer(np.random.rand(3),np.random.rand(3))\n",
    "v"
   ]
  },
  {
   "cell_type": "code",
   "execution_count": 92,
   "metadata": {},
   "outputs": [
    {
     "name": "stdout",
     "output_type": "stream",
     "text": [
      "[0.03069406 0.04529662 0.04385221]\n",
      "[[0.03069406 0.04529662 0.04385221]\n",
      " [0.03069406 0.04529662 0.04385221]\n",
      " [0.03069406 0.04529662 0.04385221]\n",
      " [0.03069406 0.04529662 0.04385221]\n",
      " [0.03069406 0.04529662 0.04385221]]\n"
     ]
    }
   ],
   "source": [
    "e=np.min(v,axis=0)\n",
    "print(e.T)\n",
    "print(np.tile(e,(5,1)))"
   ]
  },
  {
   "cell_type": "code",
   "execution_count": null,
   "metadata": {},
   "outputs": [],
   "source": []
  },
  {
   "cell_type": "code",
   "execution_count": null,
   "metadata": {},
   "outputs": [],
   "source": []
  }
 ],
 "metadata": {
  "kernelspec": {
   "display_name": "bari_env",
   "language": "python",
   "name": "bari_env"
  },
  "language_info": {
   "codemirror_mode": {
    "name": "ipython",
    "version": 3
   },
   "file_extension": ".py",
   "mimetype": "text/x-python",
   "name": "python",
   "nbconvert_exporter": "python",
   "pygments_lexer": "ipython3",
   "version": "3.6.6"
  }
 },
 "nbformat": 4,
 "nbformat_minor": 2
}
