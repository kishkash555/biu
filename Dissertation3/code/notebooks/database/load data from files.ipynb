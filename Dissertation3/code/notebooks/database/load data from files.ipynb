{
 "cells": [
  {
   "cell_type": "code",
   "execution_count": 13,
   "id": "emerging-comparative",
   "metadata": {},
   "outputs": [],
   "source": [
    "from glob import glob\n",
    "import pandas as pd\n",
    "from os import path\n",
    "import numpy as np"
   ]
  },
  {
   "cell_type": "code",
   "execution_count": 2,
   "id": "limiting-pulse",
   "metadata": {},
   "outputs": [],
   "source": [
    "%config Completer.use_jedi=False\n"
   ]
  },
  {
   "cell_type": "code",
   "execution_count": 3,
   "id": "mental-wright",
   "metadata": {},
   "outputs": [
    {
     "data": {
      "text/plain": [
       "'/home/siegman/Documents/Shahar/BarIlan/Dissertation3/code/notebooks/database'"
      ]
     },
     "execution_count": 3,
     "metadata": {},
     "output_type": "execute_result"
    }
   ],
   "source": [
    "pwd"
   ]
  },
  {
   "cell_type": "code",
   "execution_count": 4,
   "id": "recreational-material",
   "metadata": {},
   "outputs": [],
   "source": [
    "hrv_files = sorted(glob('../../../data/Time_Series_Individuals/Music_final_MW_HRV*.xlsx'))"
   ]
  },
  {
   "cell_type": "code",
   "execution_count": 5,
   "id": "pressing-carnival",
   "metadata": {},
   "outputs": [
    {
     "data": {
      "text/plain": [
       "['../../../data/Time_Series_Individuals/Music_final_MW_HRV_1001_101_BL_C_Time_Series.xlsx',\n",
       " '../../../data/Time_Series_Individuals/Music_final_MW_HRV_1001_101_FS_C_Time_Series.xlsx',\n",
       " '../../../data/Time_Series_Individuals/Music_final_MW_HRV_1001_101_I_C_Time_Series.xlsx',\n",
       " '../../../data/Time_Series_Individuals/Music_final_MW_HRV_1001_102_BL_C_Time_Series.xlsx']"
      ]
     },
     "execution_count": 5,
     "metadata": {},
     "output_type": "execute_result"
    }
   ],
   "source": [
    "hrv_files[:4]"
   ]
  },
  {
   "cell_type": "code",
   "execution_count": 6,
   "id": "assigned-robertson",
   "metadata": {},
   "outputs": [],
   "source": [
    "def fname_to_struct(orig_fname):\n",
    "    fname = path.basename(orig_fname)\n",
    "    common_start = 'Music_final_MW_HRV_'\n",
    "    common_end = '_C_Time_Series.xlsx'\n",
    "    if not (fname.startswith(common_start) and fname.endswith(common_end)):\n",
    "        raise ValueError(f'Interesting name: {fname}')\n",
    "    fname = fname[len(common_start):-len(common_end)]\n",
    "    return dict(zip(['group','participant','session','path'],fname.split('_')+[orig_fname]))"
   ]
  },
  {
   "cell_type": "code",
   "execution_count": 7,
   "id": "convertible-multiple",
   "metadata": {},
   "outputs": [],
   "source": [
    "all_files = pd.DataFrame([fname_to_struct(f) for f in hrv_files])"
   ]
  },
  {
   "cell_type": "code",
   "execution_count": 8,
   "id": "hindu-group",
   "metadata": {},
   "outputs": [
    {
     "data": {
      "text/html": [
       "<div>\n",
       "<style scoped>\n",
       "    .dataframe tbody tr th:only-of-type {\n",
       "        vertical-align: middle;\n",
       "    }\n",
       "\n",
       "    .dataframe tbody tr th {\n",
       "        vertical-align: top;\n",
       "    }\n",
       "\n",
       "    .dataframe thead th {\n",
       "        text-align: right;\n",
       "    }\n",
       "</style>\n",
       "<table border=\"1\" class=\"dataframe\">\n",
       "  <thead>\n",
       "    <tr style=\"text-align: right;\">\n",
       "      <th></th>\n",
       "      <th>group</th>\n",
       "      <th>participant</th>\n",
       "      <th>session</th>\n",
       "      <th>path</th>\n",
       "    </tr>\n",
       "  </thead>\n",
       "  <tbody>\n",
       "    <tr>\n",
       "      <th>0</th>\n",
       "      <td>1001</td>\n",
       "      <td>101</td>\n",
       "      <td>BL</td>\n",
       "      <td>../../../data/Time_Series_Individuals/Music_fi...</td>\n",
       "    </tr>\n",
       "    <tr>\n",
       "      <th>1</th>\n",
       "      <td>1001</td>\n",
       "      <td>101</td>\n",
       "      <td>FS</td>\n",
       "      <td>../../../data/Time_Series_Individuals/Music_fi...</td>\n",
       "    </tr>\n",
       "    <tr>\n",
       "      <th>2</th>\n",
       "      <td>1001</td>\n",
       "      <td>101</td>\n",
       "      <td>I</td>\n",
       "      <td>../../../data/Time_Series_Individuals/Music_fi...</td>\n",
       "    </tr>\n",
       "    <tr>\n",
       "      <th>3</th>\n",
       "      <td>1001</td>\n",
       "      <td>102</td>\n",
       "      <td>BL</td>\n",
       "      <td>../../../data/Time_Series_Individuals/Music_fi...</td>\n",
       "    </tr>\n",
       "    <tr>\n",
       "      <th>4</th>\n",
       "      <td>1001</td>\n",
       "      <td>102</td>\n",
       "      <td>FS</td>\n",
       "      <td>../../../data/Time_Series_Individuals/Music_fi...</td>\n",
       "    </tr>\n",
       "    <tr>\n",
       "      <th>...</th>\n",
       "      <td>...</td>\n",
       "      <td>...</td>\n",
       "      <td>...</td>\n",
       "      <td>...</td>\n",
       "    </tr>\n",
       "    <tr>\n",
       "      <th>554</th>\n",
       "      <td>1051</td>\n",
       "      <td>255</td>\n",
       "      <td>I</td>\n",
       "      <td>../../../data/Time_Series_Individuals/Music_fi...</td>\n",
       "    </tr>\n",
       "    <tr>\n",
       "      <th>555</th>\n",
       "      <td>1051</td>\n",
       "      <td>256</td>\n",
       "      <td>BLE</td>\n",
       "      <td>../../../data/Time_Series_Individuals/Music_fi...</td>\n",
       "    </tr>\n",
       "    <tr>\n",
       "      <th>556</th>\n",
       "      <td>1051</td>\n",
       "      <td>256</td>\n",
       "      <td>BL</td>\n",
       "      <td>../../../data/Time_Series_Individuals/Music_fi...</td>\n",
       "    </tr>\n",
       "    <tr>\n",
       "      <th>557</th>\n",
       "      <td>1051</td>\n",
       "      <td>256</td>\n",
       "      <td>FS</td>\n",
       "      <td>../../../data/Time_Series_Individuals/Music_fi...</td>\n",
       "    </tr>\n",
       "    <tr>\n",
       "      <th>558</th>\n",
       "      <td>1051</td>\n",
       "      <td>256</td>\n",
       "      <td>I</td>\n",
       "      <td>../../../data/Time_Series_Individuals/Music_fi...</td>\n",
       "    </tr>\n",
       "  </tbody>\n",
       "</table>\n",
       "<p>559 rows × 4 columns</p>\n",
       "</div>"
      ],
      "text/plain": [
       "    group participant session  \\\n",
       "0    1001         101      BL   \n",
       "1    1001         101      FS   \n",
       "2    1001         101       I   \n",
       "3    1001         102      BL   \n",
       "4    1001         102      FS   \n",
       "..    ...         ...     ...   \n",
       "554  1051         255       I   \n",
       "555  1051         256     BLE   \n",
       "556  1051         256      BL   \n",
       "557  1051         256      FS   \n",
       "558  1051         256       I   \n",
       "\n",
       "                                                  path  \n",
       "0    ../../../data/Time_Series_Individuals/Music_fi...  \n",
       "1    ../../../data/Time_Series_Individuals/Music_fi...  \n",
       "2    ../../../data/Time_Series_Individuals/Music_fi...  \n",
       "3    ../../../data/Time_Series_Individuals/Music_fi...  \n",
       "4    ../../../data/Time_Series_Individuals/Music_fi...  \n",
       "..                                                 ...  \n",
       "554  ../../../data/Time_Series_Individuals/Music_fi...  \n",
       "555  ../../../data/Time_Series_Individuals/Music_fi...  \n",
       "556  ../../../data/Time_Series_Individuals/Music_fi...  \n",
       "557  ../../../data/Time_Series_Individuals/Music_fi...  \n",
       "558  ../../../data/Time_Series_Individuals/Music_fi...  \n",
       "\n",
       "[559 rows x 4 columns]"
      ]
     },
     "execution_count": 8,
     "metadata": {},
     "output_type": "execute_result"
    }
   ],
   "source": [
    "all_files"
   ]
  },
  {
   "cell_type": "code",
   "execution_count": 9,
   "id": "minute-salad",
   "metadata": {},
   "outputs": [
    {
     "data": {
      "text/plain": [
       "array([[  0.874     ,   1.374     ,   1.874     , ..., 321.374     ,\n",
       "        321.874     , 322.374     ],\n",
       "       [  0.738     ,   0.71568639,   0.73296834, ...,   0.91034616,\n",
       "          0.909948  ,   0.91492877]])"
      ]
     },
     "execution_count": 9,
     "metadata": {},
     "output_type": "execute_result"
    }
   ],
   "source": [
    "pd.read_excel(hrv_files[0],header=None).values.T"
   ]
  },
  {
   "cell_type": "code",
   "execution_count": 10,
   "id": "vertical-raise",
   "metadata": {},
   "outputs": [],
   "source": [
    "def load_file(fname):\n",
    "    return pd.read_excel(fname,header=None).values.T"
   ]
  },
  {
   "cell_type": "code",
   "execution_count": 17,
   "id": "geological-illness",
   "metadata": {},
   "outputs": [
    {
     "ename": "ValueError",
     "evalue": "all the input array dimensions for the concatenation axis must match exactly, but along dimension 1, the array at index 0 has size 644 and the array at index 1 has size 516",
     "output_type": "error",
     "traceback": [
      "\u001b[0;31m---------------------------------------------------------------------------\u001b[0m",
      "\u001b[0;31mValueError\u001b[0m                                Traceback (most recent call last)",
      "\u001b[0;32m<ipython-input-17-67de50ef351f>\u001b[0m in \u001b[0;36m<module>\u001b[0;34m\u001b[0m\n\u001b[0;32m----> 1\u001b[0;31m \u001b[0mdata_mat\u001b[0m \u001b[0;34m=\u001b[0m \u001b[0mnp\u001b[0m\u001b[0;34m.\u001b[0m\u001b[0mconcatenate\u001b[0m\u001b[0;34m(\u001b[0m\u001b[0mall_files\u001b[0m\u001b[0;34m[\u001b[0m\u001b[0;34m:\u001b[0m\u001b[0;36m3\u001b[0m\u001b[0;34m]\u001b[0m\u001b[0;34m.\u001b[0m\u001b[0mpath\u001b[0m\u001b[0;34m.\u001b[0m\u001b[0mmap\u001b[0m\u001b[0;34m(\u001b[0m\u001b[0mload_file\u001b[0m\u001b[0;34m)\u001b[0m\u001b[0;34m,\u001b[0m \u001b[0maxis\u001b[0m\u001b[0;34m=\u001b[0m\u001b[0;36m0\u001b[0m\u001b[0;34m)\u001b[0m\u001b[0;34m\u001b[0m\u001b[0;34m\u001b[0m\u001b[0m\n\u001b[0m",
      "\u001b[0;32m<__array_function__ internals>\u001b[0m in \u001b[0;36mconcatenate\u001b[0;34m(*args, **kwargs)\u001b[0m\n",
      "\u001b[0;31mValueError\u001b[0m: all the input array dimensions for the concatenation axis must match exactly, but along dimension 1, the array at index 0 has size 644 and the array at index 1 has size 516"
     ]
    }
   ],
   "source": [
    "data_mat = np.concatenate(all_files[:3].path.map(load_file), axis=0)"
   ]
  },
  {
   "cell_type": "code",
   "execution_count": 18,
   "id": "exotic-persian",
   "metadata": {},
   "outputs": [
    {
     "data": {
      "text/plain": [
       "(2, 1633)"
      ]
     },
     "execution_count": 18,
     "metadata": {},
     "output_type": "execute_result"
    }
   ],
   "source": [
    "data_mat.shape"
   ]
  },
  {
   "cell_type": "code",
   "execution_count": 12,
   "id": "attached-overview",
   "metadata": {},
   "outputs": [],
   "source": [
    "with open('../../../data/all_hrv_data.json','wt') as a:\n",
    "    all_files[:5].to_json(a)"
   ]
  },
  {
   "cell_type": "code",
   "execution_count": 30,
   "id": "mechanical-charm",
   "metadata": {
    "scrolled": true
   },
   "outputs": [
    {
     "data": {
      "text/html": [
       "<div>\n",
       "<style scoped>\n",
       "    .dataframe tbody tr th:only-of-type {\n",
       "        vertical-align: middle;\n",
       "    }\n",
       "\n",
       "    .dataframe tbody tr th {\n",
       "        vertical-align: top;\n",
       "    }\n",
       "\n",
       "    .dataframe thead th {\n",
       "        text-align: right;\n",
       "    }\n",
       "</style>\n",
       "<table border=\"1\" class=\"dataframe\">\n",
       "  <thead>\n",
       "    <tr style=\"text-align: right;\">\n",
       "      <th></th>\n",
       "      <th>group</th>\n",
       "      <th>participant</th>\n",
       "      <th>session</th>\n",
       "      <th>path</th>\n",
       "      <th>data</th>\n",
       "    </tr>\n",
       "  </thead>\n",
       "  <tbody>\n",
       "    <tr>\n",
       "      <th>0</th>\n",
       "      <td>1001</td>\n",
       "      <td>101</td>\n",
       "      <td>BL</td>\n",
       "      <td>../../../data/Time_Series_Individuals/Music_fi...</td>\n",
       "      <td>[[0.874, 1.374, 1.874, 2.374, 2.874, 3.374, 3....</td>\n",
       "    </tr>\n",
       "    <tr>\n",
       "      <th>1</th>\n",
       "      <td>1001</td>\n",
       "      <td>101</td>\n",
       "      <td>FS</td>\n",
       "      <td>../../../data/Time_Series_Individuals/Music_fi...</td>\n",
       "      <td>[[1.1560000000000001, 1.6560000000000001, 2.15...</td>\n",
       "    </tr>\n",
       "    <tr>\n",
       "      <th>2</th>\n",
       "      <td>1001</td>\n",
       "      <td>101</td>\n",
       "      <td>I</td>\n",
       "      <td>../../../data/Time_Series_Individuals/Music_fi...</td>\n",
       "      <td>[[1.35, 1.85, 2.35, 2.85, 3.35, 3.85, 4.35, 4....</td>\n",
       "    </tr>\n",
       "    <tr>\n",
       "      <th>3</th>\n",
       "      <td>1001</td>\n",
       "      <td>102</td>\n",
       "      <td>BL</td>\n",
       "      <td>../../../data/Time_Series_Individuals/Music_fi...</td>\n",
       "      <td>[[0.996, 1.496, 1.996, 2.496, 2.996, 3.496, 3....</td>\n",
       "    </tr>\n",
       "    <tr>\n",
       "      <th>4</th>\n",
       "      <td>1001</td>\n",
       "      <td>102</td>\n",
       "      <td>FS</td>\n",
       "      <td>../../../data/Time_Series_Individuals/Music_fi...</td>\n",
       "      <td>[[1.332, 1.832, 2.332, 2.832, 3.332, 3.832, 4....</td>\n",
       "    </tr>\n",
       "  </tbody>\n",
       "</table>\n",
       "</div>"
      ],
      "text/plain": [
       "  group participant session  \\\n",
       "0  1001         101      BL   \n",
       "1  1001         101      FS   \n",
       "2  1001         101       I   \n",
       "3  1001         102      BL   \n",
       "4  1001         102      FS   \n",
       "\n",
       "                                                path  \\\n",
       "0  ../../../data/Time_Series_Individuals/Music_fi...   \n",
       "1  ../../../data/Time_Series_Individuals/Music_fi...   \n",
       "2  ../../../data/Time_Series_Individuals/Music_fi...   \n",
       "3  ../../../data/Time_Series_Individuals/Music_fi...   \n",
       "4  ../../../data/Time_Series_Individuals/Music_fi...   \n",
       "\n",
       "                                                data  \n",
       "0  [[0.874, 1.374, 1.874, 2.374, 2.874, 3.374, 3....  \n",
       "1  [[1.1560000000000001, 1.6560000000000001, 2.15...  \n",
       "2  [[1.35, 1.85, 2.35, 2.85, 3.35, 3.85, 4.35, 4....  \n",
       "3  [[0.996, 1.496, 1.996, 2.496, 2.996, 3.496, 3....  \n",
       "4  [[1.332, 1.832, 2.332, 2.832, 3.332, 3.832, 4....  "
      ]
     },
     "execution_count": 30,
     "metadata": {},
     "output_type": "execute_result"
    }
   ],
   "source": [
    "all_files[:5]"
   ]
  },
  {
   "cell_type": "code",
   "execution_count": 21,
   "id": "million-sapphire",
   "metadata": {},
   "outputs": [],
   "source": [
    "import json"
   ]
  },
  {
   "cell_type": "code",
   "execution_count": 24,
   "id": "political-caribbean",
   "metadata": {},
   "outputs": [
    {
     "data": {
      "text/plain": [
       "28080"
      ]
     },
     "execution_count": 24,
     "metadata": {},
     "output_type": "execute_result"
    }
   ],
   "source": [
    "len(str(all_files['data'][0].tobytes()))"
   ]
  },
  {
   "cell_type": "code",
   "execution_count": 25,
   "id": "current-brazil",
   "metadata": {},
   "outputs": [
    {
     "data": {
      "text/plain": [
       "(2, 644)"
      ]
     },
     "execution_count": 25,
     "metadata": {},
     "output_type": "execute_result"
    }
   ],
   "source": [
    "all_files['data'][0].shape"
   ]
  },
  {
   "cell_type": "code",
   "execution_count": 27,
   "id": "expensive-journal",
   "metadata": {},
   "outputs": [
    {
     "data": {
      "text/plain": [
       "299"
      ]
     },
     "execution_count": 27,
     "metadata": {},
     "output_type": "execute_result"
    }
   ],
   "source": [
    "min(all_files.data.map(lambda a: a.shape[1]))"
   ]
  },
  {
   "cell_type": "code",
   "execution_count": 28,
   "id": "likely-score",
   "metadata": {},
   "outputs": [
    {
     "data": {
      "text/plain": [
       "752414"
      ]
     },
     "execution_count": 28,
     "metadata": {},
     "output_type": "execute_result"
    }
   ],
   "source": [
    "673*2*559"
   ]
  },
  {
   "cell_type": "code",
   "execution_count": 29,
   "id": "amateur-oliver",
   "metadata": {},
   "outputs": [
    {
     "data": {
      "text/plain": [
       "array([[  1.156     ,   1.656     ,   2.156     , ..., 257.656     ,\n",
       "        258.156     , 258.656     ],\n",
       "       [  0.902     ,   0.93266272,   0.93780025, ...,   0.89739622,\n",
       "          0.91704889,   0.91593803]])"
      ]
     },
     "execution_count": 29,
     "metadata": {},
     "output_type": "execute_result"
    }
   ],
   "source": [
    "all_files.iloc[1,-1]"
   ]
  },
  {
   "cell_type": "code",
   "execution_count": null,
   "id": "ranging-relative",
   "metadata": {},
   "outputs": [],
   "source": []
  },
  {
   "cell_type": "code",
   "execution_count": 34,
   "id": "inside-vaccine",
   "metadata": {},
   "outputs": [],
   "source": [
    "all_files.to_json('test_hrv.json')"
   ]
  },
  {
   "cell_type": "code",
   "execution_count": 35,
   "id": "future-franchise",
   "metadata": {},
   "outputs": [],
   "source": [
    "ret  = pd.read_json('test_json.zip', compression='infer')"
   ]
  },
  {
   "cell_type": "code",
   "execution_count": 36,
   "id": "fixed-layer",
   "metadata": {},
   "outputs": [
    {
     "data": {
      "text/html": [
       "<div>\n",
       "<style scoped>\n",
       "    .dataframe tbody tr th:only-of-type {\n",
       "        vertical-align: middle;\n",
       "    }\n",
       "\n",
       "    .dataframe tbody tr th {\n",
       "        vertical-align: top;\n",
       "    }\n",
       "\n",
       "    .dataframe thead th {\n",
       "        text-align: right;\n",
       "    }\n",
       "</style>\n",
       "<table border=\"1\" class=\"dataframe\">\n",
       "  <thead>\n",
       "    <tr style=\"text-align: right;\">\n",
       "      <th></th>\n",
       "      <th>group</th>\n",
       "      <th>participant</th>\n",
       "      <th>session</th>\n",
       "      <th>path</th>\n",
       "      <th>data</th>\n",
       "    </tr>\n",
       "  </thead>\n",
       "  <tbody>\n",
       "    <tr>\n",
       "      <th>0</th>\n",
       "      <td>1001</td>\n",
       "      <td>101</td>\n",
       "      <td>BL</td>\n",
       "      <td>../../../data/Time_Series_Individuals/Music_fi...</td>\n",
       "      <td>[[0.874, 1.374, 1.874, 2.374, 2.874, 3.374, 3....</td>\n",
       "    </tr>\n",
       "    <tr>\n",
       "      <th>1</th>\n",
       "      <td>1001</td>\n",
       "      <td>101</td>\n",
       "      <td>FS</td>\n",
       "      <td>../../../data/Time_Series_Individuals/Music_fi...</td>\n",
       "      <td>[[1.156, 1.6560000000000001, 2.156, 2.656, 3.1...</td>\n",
       "    </tr>\n",
       "    <tr>\n",
       "      <th>2</th>\n",
       "      <td>1001</td>\n",
       "      <td>101</td>\n",
       "      <td>I</td>\n",
       "      <td>../../../data/Time_Series_Individuals/Music_fi...</td>\n",
       "      <td>[[1.35, 1.85, 2.35, 2.85, 3.35, 3.85, 4.35, 4....</td>\n",
       "    </tr>\n",
       "    <tr>\n",
       "      <th>3</th>\n",
       "      <td>1001</td>\n",
       "      <td>102</td>\n",
       "      <td>BL</td>\n",
       "      <td>../../../data/Time_Series_Individuals/Music_fi...</td>\n",
       "      <td>[[0.996, 1.496, 1.996, 2.496, 2.996, 3.496, 3....</td>\n",
       "    </tr>\n",
       "    <tr>\n",
       "      <th>4</th>\n",
       "      <td>1001</td>\n",
       "      <td>102</td>\n",
       "      <td>FS</td>\n",
       "      <td>../../../data/Time_Series_Individuals/Music_fi...</td>\n",
       "      <td>[[1.332, 1.832, 2.332, 2.832, 3.332, 3.832, 4....</td>\n",
       "    </tr>\n",
       "  </tbody>\n",
       "</table>\n",
       "</div>"
      ],
      "text/plain": [
       "   group  participant session  \\\n",
       "0   1001          101      BL   \n",
       "1   1001          101      FS   \n",
       "2   1001          101       I   \n",
       "3   1001          102      BL   \n",
       "4   1001          102      FS   \n",
       "\n",
       "                                                path  \\\n",
       "0  ../../../data/Time_Series_Individuals/Music_fi...   \n",
       "1  ../../../data/Time_Series_Individuals/Music_fi...   \n",
       "2  ../../../data/Time_Series_Individuals/Music_fi...   \n",
       "3  ../../../data/Time_Series_Individuals/Music_fi...   \n",
       "4  ../../../data/Time_Series_Individuals/Music_fi...   \n",
       "\n",
       "                                                data  \n",
       "0  [[0.874, 1.374, 1.874, 2.374, 2.874, 3.374, 3....  \n",
       "1  [[1.156, 1.6560000000000001, 2.156, 2.656, 3.1...  \n",
       "2  [[1.35, 1.85, 2.35, 2.85, 3.35, 3.85, 4.35, 4....  \n",
       "3  [[0.996, 1.496, 1.996, 2.496, 2.996, 3.496, 3....  \n",
       "4  [[1.332, 1.832, 2.332, 2.832, 3.332, 3.832, 4....  "
      ]
     },
     "execution_count": 36,
     "metadata": {},
     "output_type": "execute_result"
    }
   ],
   "source": [
    "ret.head()"
   ]
  },
  {
   "cell_type": "code",
   "execution_count": 44,
   "id": "another-melbourne",
   "metadata": {},
   "outputs": [],
   "source": [
    "ret['one']=1"
   ]
  },
  {
   "cell_type": "code",
   "execution_count": 38,
   "id": "portuguese-chase",
   "metadata": {},
   "outputs": [
    {
     "data": {
      "text/plain": [
       "list"
      ]
     },
     "execution_count": 38,
     "metadata": {},
     "output_type": "execute_result"
    }
   ],
   "source": [
    "type(ret.iloc[0,-1])"
   ]
  },
  {
   "cell_type": "code",
   "execution_count": 47,
   "id": "challenging-uganda",
   "metadata": {},
   "outputs": [],
   "source": [
    "ret.pivot(index=['group','participant'], columns='session', values='one').to_excel('has_data.xlsx')"
   ]
  },
  {
   "cell_type": "code",
   "execution_count": 72,
   "id": "executed-words",
   "metadata": {},
   "outputs": [],
   "source": [
    "data_lengths = all_files[(all_files.session=='FS')][['group','data']].groupby('group')['data'].apply(list).map(lambda l: [len(k[0]) for k in l]).reset_index()\n",
    "data_firsts = all_files[(all_files.session=='FS')][['group','data']].groupby('group')['data'].apply(list).map(lambda l: [k[0][0] for k in l]).reset_index()"
   ]
  },
  {
   "cell_type": "code",
   "execution_count": 73,
   "id": "handy-aviation",
   "metadata": {},
   "outputs": [
    {
     "data": {
      "text/plain": [
       "1     24\n",
       "2     13\n",
       "0      6\n",
       "3      2\n",
       "4      1\n",
       "5      1\n",
       "49     1\n",
       "Name: data, dtype: int64"
      ]
     },
     "execution_count": 73,
     "metadata": {},
     "output_type": "execute_result"
    }
   ],
   "source": [
    "data_lengths['data'].map(lambda x: max(x)-min(x)).value_counts()"
   ]
  },
  {
   "cell_type": "code",
   "execution_count": 78,
   "id": "offensive-stone",
   "metadata": {},
   "outputs": [],
   "source": [
    "import matplotlib.pyplot as plt"
   ]
  },
  {
   "cell_type": "code",
   "execution_count": 82,
   "id": "permanent-puzzle",
   "metadata": {},
   "outputs": [
    {
     "data": {
      "text/plain": [
       "[<matplotlib.lines.Line2D at 0x7f541dac1790>]"
      ]
     },
     "execution_count": 82,
     "metadata": {},
     "output_type": "execute_result"
    },
    {
     "data": {
      "image/png": "[encoded data removed]",
      "text/plain": [
       "<Figure size 432x288 with 1 Axes>"
      ]
     },
     "metadata": {
      "needs_background": "light"
     },
     "output_type": "display_data"
    }
   ],
   "source": [
    "plt.plot(data_firsts['data'].map(lambda x: (max(x)-min(x)) % 0.5).sort_values().reset_index(drop=True))"
   ]
  },
  {
   "cell_type": "markdown",
   "id": "fossil-lunch",
   "metadata": {},
   "source": [
    "## heart rate features\n",
    "\n",
    "group\n",
    "participant\n",
    "session\n",
    "filter\n",
    "time \n",
    "values\n",
    "\n",
    "## heart rate coupling features\n",
    "\n",
    "group\n",
    "participant pair\n",
    "filter\n",
    "coupling strength - no shift\n",
    "coupling strength - max (with shift)\n",
    "\n",
    "\n",
    "## drumming coupling features\n"
   ]
  },
  {
   "cell_type": "markdown",
   "id": "similar-longitude",
   "metadata": {},
   "source": [
    "- create a dataframe with the heart rate signals after all processing - avoid the need to re-process from the database\n",
    "- create a dataframe with the heart rate coupling "
   ]
  }
 ],
 "metadata": {
  "kernelspec": {
   "display_name": "Python 3.7.4 64-bit ('base': conda)",
   "language": "python",
   "name": "python37464bitbaseconda865b03b3ea5d4f4bb8519af201560b69"
  },
  "language_info": {
   "codemirror_mode": {
    "name": "ipython",
    "version": 3
   },
   "file_extension": ".py",
   "mimetype": "text/x-python",
   "name": "python",
   "nbconvert_exporter": "python",
   "pygments_lexer": "ipython3",
   "version": "3.7.9"
  }
 },
 "nbformat": 4,
 "nbformat_minor": 5
}
