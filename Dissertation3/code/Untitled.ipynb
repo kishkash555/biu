{
 "cells": [
  {
   "cell_type": "code",
   "execution_count": 1,
   "metadata": {},
   "outputs": [],
   "source": [
    "import torch\n",
    "import torch.nn as nn"
   ]
  },
  {
   "cell_type": "code",
   "execution_count": 7,
   "metadata": {},
   "outputs": [],
   "source": [
    "lst = nn.LSTM(input_size=10,hidden_size=7,num_layers=2)"
   ]
  },
  {
   "cell_type": "code",
   "execution_count": 15,
   "metadata": {},
   "outputs": [],
   "source": [
    "h1=torch.zeros(2,1,7)\n",
    "c1 = torch.zeros(2,1,7)\n",
    "inp1 = torch.zeros(10)"
   ]
  },
  {
   "cell_type": "code",
   "execution_count": 16,
   "metadata": {},
   "outputs": [
    {
     "data": {
      "text/plain": [
       "(tensor([[[ 0.0182, -0.0071, -0.0539, -0.1354, -0.1810, -0.0242,  0.0352]]],\n",
       "        grad_fn=<StackBackward>),\n",
       " (tensor([[[ 0.0879, -0.0532,  0.0011, -0.0076,  0.0607,  0.0591,  0.0433]],\n",
       "  \n",
       "          [[ 0.0182, -0.0071, -0.0539, -0.1354, -0.1810, -0.0242,  0.0352]]],\n",
       "         grad_fn=<StackBackward>),\n",
       "  tensor([[[ 0.1734, -0.1076,  0.0026, -0.0126,  0.1419,  0.1131,  0.1039]],\n",
       "  \n",
       "          [[ 0.0360, -0.0135, -0.1093, -0.2361, -0.2879, -0.0679,  0.0791]]],\n",
       "         grad_fn=<StackBackward>)))"
      ]
     },
     "execution_count": 16,
     "metadata": {},
     "output_type": "execute_result"
    }
   ],
   "source": [
    "lst(inp1.view(1,1,10),(h1,c1))"
   ]
  },
  {
   "cell_type": "code",
   "execution_count": 26,
   "metadata": {},
   "outputs": [],
   "source": [
    "a =torch.cat([torch.randn(1,1,7), torch.randn(1,1,7)])"
   ]
  },
  {
   "cell_type": "code",
   "execution_count": 27,
   "metadata": {},
   "outputs": [
    {
     "data": {
      "text/plain": [
       "tensor([[[-0.1422, -0.3848,  0.2625, -0.0748,  0.5658,  0.0145,  0.2287]],\n",
       "\n",
       "        [[ 0.1479,  0.2877, -0.8007,  0.0406,  2.0156, -0.6418,  0.6649]]])"
      ]
     },
     "execution_count": 27,
     "metadata": {},
     "output_type": "execute_result"
    }
   ],
   "source": [
    "a"
   ]
  },
  {
   "cell_type": "code",
   "execution_count": 28,
   "metadata": {},
   "outputs": [
    {
     "data": {
      "text/plain": [
       "tensor([[-0.1422, -0.3848,  0.2625, -0.0748,  0.5658,  0.0145,  0.2287]])"
      ]
     },
     "execution_count": 28,
     "metadata": {},
     "output_type": "execute_result"
    }
   ],
   "source": [
    "\n",
    "a[0,:,:]"
   ]
  },
  {
   "cell_type": "code",
   "execution_count": 29,
   "metadata": {},
   "outputs": [
    {
     "data": {
      "text/plain": [
       "tensor([[ 0.1479,  0.2877, -0.8007,  0.0406,  2.0156, -0.6418,  0.6649]])"
      ]
     },
     "execution_count": 29,
     "metadata": {},
     "output_type": "execute_result"
    }
   ],
   "source": [
    "a[1,:,:]"
   ]
  },
  {
   "cell_type": "code",
   "execution_count": null,
   "metadata": {},
   "outputs": [],
   "source": []
  }
 ],
 "metadata": {
  "kernelspec": {
   "display_name": "Python 3.7.4 64-bit ('base': conda)",
   "language": "python",
   "name": "python37464bitbaseconda865b03b3ea5d4f4bb8519af201560b69"
  },
  "language_info": {
   "codemirror_mode": {
    "name": "ipython",
    "version": 3
   },
   "file_extension": ".py",
   "mimetype": "text/x-python",
   "name": "python",
   "nbconvert_exporter": "python",
   "pygments_lexer": "ipython3",
   "version": "3.7.7"
  }
 },
 "nbformat": 4,
 "nbformat_minor": 4
}
