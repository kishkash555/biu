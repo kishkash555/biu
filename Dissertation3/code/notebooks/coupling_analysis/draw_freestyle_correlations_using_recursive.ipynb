{
 "cells": [
  {
   "cell_type": "markdown",
   "id": "14c042e1",
   "metadata": {},
   "source": [
    "# Description\n",
    "\n",
    "## This file contains the 2D HR synchrony plot for the _Freestyle_ session\n",
    "\n",
    "### previous notebook:?\n",
    "### next notebook: http://localhost:8888/notebooks/coupling_analysis/draw_interaction_correlations_using_recursive.ipynb"
   ]
  },
  {
   "cell_type": "code",
   "execution_count": 1,
   "id": "a9fdf9dd",
   "metadata": {},
   "outputs": [],
   "source": [
    "import recursive as sv\n",
    "import pickle\n",
    "from os import path\n",
    "import numpy as np\n",
    "from scipy.stats import zscore\n",
    "import pandas as pd\n",
    "import matplotlib.pyplot as plt"
   ]
  },
  {
   "cell_type": "code",
   "execution_count": 2,
   "id": "5772bfb9",
   "metadata": {},
   "outputs": [
    {
     "data": {
      "text/plain": [
       "<module 'recursive' from '/home/siegman/packages/recursive_store/recursive.py'>"
      ]
     },
     "execution_count": 2,
     "metadata": {},
     "output_type": "execute_result"
    }
   ],
   "source": [
    "from importlib import reload\n",
    "reload(sv)"
   ]
  },
  {
   "cell_type": "code",
   "execution_count": 3,
   "id": "ed171e95",
   "metadata": {},
   "outputs": [],
   "source": [
    "np.set_printoptions(precision=3, suppress=True)\n",
    "np.set_string_function(None)"
   ]
  },
  {
   "cell_type": "code",
   "execution_count": 4,
   "id": "d23f1172",
   "metadata": {},
   "outputs": [
    {
     "data": {
      "text/plain": [
       "True"
      ]
     },
     "execution_count": 4,
     "metadata": {},
     "output_type": "execute_result"
    }
   ],
   "source": [
    "data_dir = path.join(*(['..']*3+['data','time_series_linear_interpolations']))\n",
    "path.exists(data_dir)"
   ]
  },
  {
   "cell_type": "markdown",
   "id": "25c5db5a",
   "metadata": {},
   "source": [
    "### Load `svdata`"
   ]
  },
  {
   "cell_type": "code",
   "execution_count": 5,
   "id": "56416821",
   "metadata": {},
   "outputs": [],
   "source": [
    "with open(path.join(data_dir,'olap2.pickle'),'rb') as a:\n",
    "    svdata = pickle.load(a)"
   ]
  },
  {
   "cell_type": "code",
   "execution_count": 6,
   "id": "979281b6",
   "metadata": {},
   "outputs": [],
   "source": [
    "np.set_string_function(lambda arr: '\\n'.join(arr.__str__().split('\\n')[:4]))"
   ]
  },
  {
   "cell_type": "code",
   "execution_count": 7,
   "id": "2bd4c9ff",
   "metadata": {},
   "outputs": [
    {
     "data": {
      "text/plain": [
       "list_store (1001, 1003, 1004, 1005, 1006, 1007, 1008, 1009, 1010, 1011, 1012, 1013, 1014, 1015, 1016, 1017, 1019, 1020, 1022, 1023, 1024, 1025, 1026, 1027, 1028, 1029, 1030, 1031, 1032, 1033, 1034, 1035, 1036, 1037, 1038, 1039, 1040, 1041, 1042, 1043, 1044, 1045, 1046, 1047, 1048, 1049, 1050, 1051)"
      ]
     },
     "execution_count": 7,
     "metadata": {},
     "output_type": "execute_result"
    }
   ],
   "source": [
    "svdata.group_id"
   ]
  },
  {
   "cell_type": "markdown",
   "id": "212c1700",
   "metadata": {},
   "source": [
    "### Extract the Freestyle session (which has index 3)"
   ]
  },
  {
   "cell_type": "code",
   "execution_count": 8,
   "id": "4c17b9b0",
   "metadata": {},
   "outputs": [
    {
     "data": {
      "text/plain": [
       "48"
      ]
     },
     "execution_count": 8,
     "metadata": {},
     "output_type": "execute_result"
    }
   ],
   "source": [
    "# work on all pairs and append to svdata\n",
    "list_by_group = sv.list_store(svdata.sessions.sample(3)).hr.tolist()\n",
    "len(list_by_group)"
   ]
  },
  {
   "cell_type": "code",
   "execution_count": 9,
   "id": "c7a265f2",
   "metadata": {},
   "outputs": [
    {
     "data": {
      "text/plain": [
       "[([137.75    0.752], [73.901  0.092]),\n",
       " ([137.75    0.822], [73.901  0.086]),\n",
       " ([137.75    0.801], [73.901  0.063])]"
      ]
     },
     "execution_count": 9,
     "metadata": {},
     "output_type": "execute_result"
    }
   ],
   "source": [
    "list(map(lambda arr: (arr.mean(axis=0),arr.std(axis=0)),list_by_group[5].remez))"
   ]
  },
  {
   "cell_type": "markdown",
   "id": "ae2593ec",
   "metadata": {},
   "source": [
    "### Define a cross-correlation function\n",
    "\n",
    "the normalization is performed for each shift separately, to avoid giving the shifts an unfair start due to bias from normal "
   ]
  },
  {
   "cell_type": "code",
   "execution_count": 10,
   "id": "6e660f02",
   "metadata": {},
   "outputs": [],
   "source": [
    "def correlate_signals(signal1, signal2,max_shift,output_shift=True):\n",
    "    ls = len(signal1)\n",
    "    result_by_shift = \\\n",
    "        [np.dot(zscore(signal1[i:]),zscore(signal2[:-i]))/(ls-i) for i in range(max_shift+1,1,-1)] +\\\n",
    "        [np.dot(zscore(signal1),zscore(signal2))/ls] + \\\n",
    "        [np.dot(zscore(signal2[i:]),zscore(signal1[:-i]))/(ls-i) for i in range(1,max_shift+1)]\n",
    "    return np.array(result_by_shift)"
   ]
  },
  {
   "cell_type": "code",
   "execution_count": 11,
   "id": "f2e61004",
   "metadata": {},
   "outputs": [],
   "source": [
    "from itertools import combinations"
   ]
  },
  {
   "cell_type": "markdown",
   "id": "ff9829aa",
   "metadata": {},
   "source": [
    "### Calculate the per-shift correlations\n",
    "\n",
    "* The output_shift parameters is set to 6 (on either side).\n",
    "* This is equivalent to &pm;3 seconds for a sampling rate of 3 Hz "
   ]
  },
  {
   "cell_type": "code",
   "execution_count": 12,
   "id": "69c9a87e",
   "metadata": {},
   "outputs": [],
   "source": [
    "all_group_corr_by_shift= []\n",
    "    \n",
    "for gr_id,hr in zip(svdata.group_id.tolist(),list_by_group):\n",
    "    participant_ids = hr.participant_id.tolist()\n",
    "    signals = hr.remez.tolist()\n",
    "    for (p1,s1),(p2,s2) in combinations(zip(participant_ids,signals),2):\n",
    "        all_group_corr_by_shift.append({\n",
    "            'group_id': gr_id, \n",
    "            'participants': (p1,p2), \n",
    "            'correls': correlate_signals(s1[:,1],s2[:,1],6)\n",
    "        })\n"
   ]
  },
  {
   "cell_type": "code",
   "execution_count": 13,
   "id": "b62754f9",
   "metadata": {},
   "outputs": [
    {
     "data": {
      "text/plain": [
       "[{'group_id': 1001,\n",
       "  'participants': (101, 102),\n",
       "  'correls': [ 0.087  0.077  0.062  0.043  0.022 -0.001 -0.047 -0.064 -0.079 -0.092\n",
       "   -0.101 -0.108 -0.111]},\n",
       " {'group_id': 1001,\n",
       "  'participants': (101, 103),\n",
       "  'correls': [ 0.065  0.058  0.052  0.045  0.039  0.034  0.02   0.013  0.004 -0.009\n",
       "   -0.026 -0.046 -0.07 ]},\n",
       " {'group_id': 1001,\n",
       "  'participants': (102, 103),\n",
       "  'correls': [0.356 0.395 0.434 0.472 0.506 0.533 0.566 0.562 0.55  0.529 0.5   0.466\n",
       "   0.427]},\n",
       " {'group_id': 1003,\n",
       "  'participants': (108, 109),\n",
       "  'correls': [0.209 0.231 0.258 0.288 0.321 0.356 0.426 0.459 0.488 0.512 0.529 0.539\n",
       "   0.541]},\n",
       " {'group_id': 1004,\n",
       "  'participants': (110, 111),\n",
       "  'correls': [0.341 0.327 0.304 0.275 0.243 0.212 0.157 0.14  0.127 0.118 0.114 0.114\n",
       "   0.116]},\n",
       " {'group_id': 1004,\n",
       "  'participants': (110, 112),\n",
       "  'correls': [-0.066 -0.075 -0.078 -0.074 -0.065 -0.05  -0.006  0.02   0.048  0.075\n",
       "    0.1    0.123  0.142]},\n",
       " {'group_id': 1004,\n",
       "  'participants': (111, 112),\n",
       "  'correls': [0.072 0.073 0.072 0.07  0.07  0.071 0.084 0.097 0.113 0.129 0.145 0.157\n",
       "   0.166]},\n",
       " {'group_id': 1005,\n",
       "  'participants': (113, 114),\n",
       "  'correls': [0.307 0.34  0.372 0.402 0.429 0.452 0.475 0.474 0.463 0.44  0.407 0.362\n",
       "   0.307]},\n",
       " {'group_id': 1005,\n",
       "  'participants': (113, 115),\n",
       "  'correls': [0.285 0.298 0.308 0.316 0.32  0.321 0.314 0.304 0.29  0.273 0.253 0.231\n",
       "   0.205]},\n",
       " {'group_id': 1005,\n",
       "  'participants': (114, 115),\n",
       "  'correls': [0.422 0.425 0.425 0.423 0.42  0.416 0.41  0.409 0.407 0.405 0.402 0.397\n",
       "   0.39 ]},\n",
       " {'group_id': 1006,\n",
       "  'participants': (116, 117),\n",
       "  'correls': [-0.028 -0.018 -0.015 -0.02  -0.033 -0.053 -0.108 -0.139 -0.166 -0.188\n",
       "   -0.203 -0.21  -0.211]},\n",
       " {'group_id': 1006,\n",
       "  'participants': (116, 118),\n",
       "  'correls': [ 0.073  0.065  0.05   0.026 -0.007 -0.047 -0.138 -0.184 -0.225 -0.256\n",
       "   -0.275 -0.281 -0.272]},\n",
       " {'group_id': 1006,\n",
       "  'participants': (117, 118),\n",
       "  'correls': [0.214 0.254 0.289 0.313 0.325 0.325 0.29  0.257 0.217 0.174 0.131 0.091\n",
       "   0.056]},\n",
       " {'group_id': 1007,\n",
       "  'participants': (119, 120),\n",
       "  'correls': [0.189 0.21  0.236 0.265 0.297 0.33  0.396 0.424 0.447 0.462 0.467 0.462\n",
       "   0.446]},\n",
       " {'group_id': 1007,\n",
       "  'participants': (119, 121),\n",
       "  'correls': [0.413 0.437 0.453 0.46  0.458 0.446 0.395 0.356 0.31  0.259 0.205 0.151\n",
       "   0.1  ]},\n",
       " {'group_id': 1007,\n",
       "  'participants': (120, 121),\n",
       "  'correls': [0.562 0.583 0.593 0.591 0.578 0.554 0.479 0.431 0.381 0.331 0.282 0.238\n",
       "   0.198]},\n",
       " {'group_id': 1008,\n",
       "  'participants': (122, 123),\n",
       "  'correls': [0.071 0.117 0.159 0.194 0.22  0.236 0.236 0.223 0.206 0.186 0.168 0.155\n",
       "   0.148]},\n",
       " {'group_id': 1008,\n",
       "  'participants': (122, 124),\n",
       "  'correls': [0.089 0.107 0.122 0.135 0.145 0.15  0.147 0.138 0.125 0.109 0.091 0.072\n",
       "   0.054]},\n",
       " {'group_id': 1008,\n",
       "  'participants': (123, 124),\n",
       "  'correls': [0.102 0.118 0.14  0.166 0.194 0.224 0.278 0.301 0.318 0.33  0.334 0.331\n",
       "   0.321]},\n",
       " {'group_id': 1009,\n",
       "  'participants': (125, 126),\n",
       "  'correls': [0.29  0.295 0.301 0.309 0.316 0.323 0.33  0.326 0.318 0.307 0.291 0.273\n",
       "   0.251]},\n",
       " {'group_id': 1009,\n",
       "  'participants': (125, 127),\n",
       "  'correls': [ 0.067  0.057  0.047  0.036  0.027  0.018  0.003  0.001 -0.    -0.001\n",
       "   -0.002 -0.003 -0.005]},\n",
       " {'group_id': 1009,\n",
       "  'participants': (126, 127),\n",
       "  'correls': [-0.121 -0.123 -0.127 -0.131 -0.137 -0.144 -0.159 -0.162 -0.164 -0.165\n",
       "   -0.166 -0.166 -0.166]},\n",
       " {'group_id': 1010,\n",
       "  'participants': (128, 129),\n",
       "  'correls': [-0.164 -0.138 -0.098 -0.046  0.016  0.081  0.205  0.256  0.293  0.316\n",
       "    0.322  0.312  0.289]},\n",
       " {'group_id': 1010,\n",
       "  'participants': (128, 130),\n",
       "  'correls': [-0.262 -0.238 -0.201 -0.157 -0.107 -0.056  0.037  0.077  0.107  0.126\n",
       "    0.136  0.135  0.126]},\n",
       " {'group_id': 1010,\n",
       "  'participants': (129, 130),\n",
       "  'correls': [0.426 0.463 0.497 0.529 0.556 0.577 0.602 0.606 0.604 0.597 0.586 0.57\n",
       "   0.552]},\n",
       " {'group_id': 1011,\n",
       "  'participants': (131, 132),\n",
       "  'correls': [0.494 0.508 0.516 0.517 0.511 0.5   0.464 0.442 0.419 0.397 0.376 0.359\n",
       "   0.345]},\n",
       " {'group_id': 1011,\n",
       "  'participants': (131, 133),\n",
       "  'correls': [0.381 0.416 0.451 0.483 0.511 0.531 0.54  0.526 0.501 0.465 0.421 0.372\n",
       "   0.32 ]},\n",
       " {'group_id': 1011,\n",
       "  'participants': (132, 133),\n",
       "  'correls': [0.233 0.257 0.284 0.311 0.339 0.367 0.415 0.433 0.446 0.453 0.453 0.446\n",
       "   0.432]},\n",
       " {'group_id': 1012,\n",
       "  'participants': (134, 135),\n",
       "  'correls': [-0.11  -0.109 -0.103 -0.093 -0.081 -0.066 -0.034 -0.019 -0.006  0.004\n",
       "    0.01   0.011  0.007]},\n",
       " {'group_id': 1012,\n",
       "  'participants': (134, 136),\n",
       "  'correls': [0.032 0.05  0.07  0.089 0.107 0.123 0.149 0.159 0.167 0.173 0.177 0.179\n",
       "   0.18 ]},\n",
       " {'group_id': 1012,\n",
       "  'participants': (135, 136),\n",
       "  'correls': [0.257 0.27  0.283 0.296 0.306 0.312 0.306 0.293 0.272 0.245 0.214 0.179\n",
       "   0.143]},\n",
       " {'group_id': 1013,\n",
       "  'participants': (137, 138),\n",
       "  'correls': [-0.004  0.012  0.03   0.05   0.069  0.087  0.112  0.118  0.119  0.116\n",
       "    0.11   0.101  0.09 ]},\n",
       " {'group_id': 1013,\n",
       "  'participants': (137, 139),\n",
       "  'correls': [-0.249 -0.231 -0.213 -0.198 -0.186 -0.178 -0.173 -0.179 -0.187 -0.198\n",
       "   -0.209 -0.221 -0.233]},\n",
       " {'group_id': 1013,\n",
       "  'participants': (138, 139),\n",
       "  'correls': [0.23  0.242 0.252 0.258 0.26  0.257 0.233 0.216 0.195 0.174 0.152 0.131\n",
       "   0.112]},\n",
       " {'group_id': 1014,\n",
       "  'participants': (140, 141),\n",
       "  'correls': [-0.194 -0.168 -0.135 -0.097 -0.054 -0.006  0.097  0.156  0.214  0.269\n",
       "    0.319  0.362  0.397]},\n",
       " {'group_id': 1014,\n",
       "  'participants': (140, 142),\n",
       "  'correls': [-0.152 -0.173 -0.194 -0.212 -0.227 -0.24  -0.258 -0.258 -0.257 -0.257\n",
       "   -0.258 -0.259 -0.261]},\n",
       " {'group_id': 1014,\n",
       "  'participants': (141, 142),\n",
       "  'correls': [0.18  0.186 0.192 0.197 0.202 0.206 0.213 0.215 0.216 0.216 0.216 0.215\n",
       "   0.214]},\n",
       " {'group_id': 1015,\n",
       "  'participants': (144, 145),\n",
       "  'correls': [0.37  0.366 0.362 0.359 0.356 0.353 0.347 0.344 0.339 0.334 0.328 0.321\n",
       "   0.313]},\n",
       " {'group_id': 1016,\n",
       "  'participants': (146, 147),\n",
       "  'correls': [0.117 0.129 0.138 0.144 0.148 0.149 0.144 0.139 0.13  0.118 0.102 0.083\n",
       "   0.062]},\n",
       " {'group_id': 1016,\n",
       "  'participants': (146, 148),\n",
       "  'correls': [-0.067 -0.085 -0.106 -0.128 -0.15  -0.171 -0.207 -0.22  -0.228 -0.232\n",
       "   -0.232 -0.227 -0.218]},\n",
       " {'group_id': 1016,\n",
       "  'participants': (147, 148),\n",
       "  'correls': [-0.098 -0.068 -0.037 -0.006  0.021  0.041  0.056  0.045  0.022 -0.014\n",
       "   -0.06  -0.113 -0.17 ]},\n",
       " {'group_id': 1017,\n",
       "  'participants': (149, 151),\n",
       "  'correls': [-0.378 -0.368 -0.351 -0.327 -0.298 -0.265 -0.192 -0.158 -0.126 -0.098\n",
       "   -0.075 -0.059 -0.049]},\n",
       " {'group_id': 1019,\n",
       "  'participants': (155, 156),\n",
       "  'correls': [-0.019  0.037  0.091  0.143  0.19   0.231  0.29   0.309  0.322  0.328\n",
       "    0.328  0.323  0.315]},\n",
       " {'group_id': 1019,\n",
       "  'participants': (155, 157),\n",
       "  'correls': [-0.127 -0.063  0.006  0.079  0.154  0.227  0.359  0.417  0.465  0.501\n",
       "    0.523  0.531  0.526]},\n",
       " {'group_id': 1019,\n",
       "  'participants': (156, 157),\n",
       "  'correls': [0.386 0.432 0.478 0.521 0.559 0.591 0.63  0.635 0.63  0.615 0.591 0.557\n",
       "   0.517]},\n",
       " {'group_id': 1020,\n",
       "  'participants': (158, 159),\n",
       "  'correls': [-0.268 -0.253 -0.242 -0.233 -0.225 -0.219 -0.209 -0.2   -0.191 -0.18\n",
       "   -0.169 -0.157 -0.146]},\n",
       " {'group_id': 1020,\n",
       "  'participants': (158, 160),\n",
       "  'correls': [0.507 0.502 0.495 0.487 0.48  0.473 0.467 0.469 0.471 0.473 0.474 0.473\n",
       "   0.471]},\n",
       " {'group_id': 1020,\n",
       "  'participants': (159, 160),\n",
       "  'correls': [0.044 0.062 0.076 0.087 0.094 0.097 0.098 0.099 0.1   0.1   0.099 0.097\n",
       "   0.093]},\n",
       " {'group_id': 1022,\n",
       "  'participants': (164, 165),\n",
       "  'correls': [0.284 0.285 0.287 0.29  0.293 0.295 0.296 0.291 0.284 0.275 0.265 0.255\n",
       "   0.245]},\n",
       " {'group_id': 1022,\n",
       "  'participants': (164, 166),\n",
       "  'correls': [0.123 0.135 0.149 0.162 0.174 0.186 0.205 0.206 0.203 0.197 0.189 0.177\n",
       "   0.164]},\n",
       " {'group_id': 1022,\n",
       "  'participants': (165, 166),\n",
       "  'correls': [0.086 0.114 0.14  0.163 0.183 0.201 0.231 0.242 0.251 0.256 0.26  0.26\n",
       "   0.255]},\n",
       " {'group_id': 1023,\n",
       "  'participants': (167, 169),\n",
       "  'correls': [0.197 0.222 0.246 0.266 0.283 0.298 0.319 0.329 0.337 0.343 0.348 0.353\n",
       "   0.357]},\n",
       " {'group_id': 1024,\n",
       "  'participants': (170, 171),\n",
       "  'correls': [-0.185 -0.182 -0.18  -0.176 -0.17  -0.16  -0.123 -0.094 -0.06  -0.021\n",
       "    0.022  0.066  0.11 ]},\n",
       " {'group_id': 1024,\n",
       "  'participants': (170, 172),\n",
       "  'correls': [0.106 0.116 0.128 0.144 0.162 0.182 0.214 0.224 0.227 0.221 0.208 0.186\n",
       "   0.159]},\n",
       " {'group_id': 1024,\n",
       "  'participants': (171, 172),\n",
       "  'correls': [0.457 0.46  0.46  0.455 0.446 0.434 0.403 0.386 0.368 0.351 0.335 0.32\n",
       "   0.307]},\n",
       " {'group_id': 1025,\n",
       "  'participants': (173, 174),\n",
       "  'correls': [-0.133 -0.111 -0.09  -0.07  -0.051 -0.035 -0.007  0.004  0.013  0.023\n",
       "    0.032  0.042  0.052]},\n",
       " {'group_id': 1025,\n",
       "  'participants': (173, 175),\n",
       "  'correls': [ 0.132  0.149  0.16   0.164  0.16   0.148  0.101  0.07   0.036  0.001\n",
       "   -0.033 -0.062 -0.087]},\n",
       " {'group_id': 1025,\n",
       "  'participants': (174, 175),\n",
       "  'correls': [0.295 0.307 0.319 0.33  0.338 0.341 0.33  0.316 0.297 0.274 0.247 0.22\n",
       "   0.193]},\n",
       " {'group_id': 1026,\n",
       "  'participants': (176, 177),\n",
       "  'correls': [-0.036  0.061  0.153  0.235  0.304  0.355  0.399  0.392  0.367  0.326\n",
       "    0.273  0.211  0.147]},\n",
       " {'group_id': 1026,\n",
       "  'participants': (176, 178),\n",
       "  'correls': [0.071 0.156 0.242 0.327 0.406 0.475 0.569 0.595 0.601 0.588 0.557 0.51\n",
       "   0.451]},\n",
       " {'group_id': 1026,\n",
       "  'participants': (177, 178),\n",
       "  'correls': [0.116 0.18  0.249 0.317 0.382 0.44  0.521 0.54  0.542 0.527 0.496 0.45\n",
       "   0.393]},\n",
       " {'group_id': 1027,\n",
       "  'participants': (179, 180),\n",
       "  'correls': [0.093 0.139 0.18  0.212 0.233 0.242 0.228 0.207 0.178 0.145 0.11  0.078\n",
       "   0.05 ]},\n",
       " {'group_id': 1027,\n",
       "  'participants': (179, 181),\n",
       "  'correls': [0.168 0.169 0.167 0.162 0.153 0.141 0.114 0.101 0.089 0.08  0.075 0.074\n",
       "   0.078]},\n",
       " {'group_id': 1027,\n",
       "  'participants': (180, 181),\n",
       "  'correls': [0.575 0.594 0.613 0.63  0.645 0.657 0.67  0.668 0.662 0.65  0.633 0.613\n",
       "   0.59 ]},\n",
       " {'group_id': 1028,\n",
       "  'participants': (182, 183),\n",
       "  'correls': [-0.035 -0.049 -0.063 -0.076 -0.088 -0.098 -0.112 -0.12  -0.126 -0.128\n",
       "   -0.126 -0.122 -0.116]},\n",
       " {'group_id': 1028,\n",
       "  'participants': (182, 184),\n",
       "  'correls': [0.43  0.427 0.425 0.426 0.428 0.43  0.436 0.445 0.453 0.459 0.462 0.462\n",
       "   0.459]},\n",
       " {'group_id': 1028,\n",
       "  'participants': (183, 184),\n",
       "  'correls': [-0.077 -0.051 -0.023  0.005  0.031  0.054  0.088  0.095  0.099  0.102\n",
       "    0.103  0.104  0.102]},\n",
       " {'group_id': 1029,\n",
       "  'participants': (185, 186),\n",
       "  'correls': [0.085 0.128 0.169 0.204 0.231 0.249 0.249 0.235 0.212 0.183 0.151 0.121\n",
       "   0.094]},\n",
       " {'group_id': 1029,\n",
       "  'participants': (185, 187),\n",
       "  'correls': [ 0.035  0.04   0.046  0.052  0.056  0.058  0.049  0.037  0.021 -0.\n",
       "   -0.025 -0.053 -0.082]},\n",
       " {'group_id': 1029,\n",
       "  'participants': (186, 187),\n",
       "  'correls': [ 0.139  0.137  0.135  0.133  0.131  0.127  0.113  0.101  0.084  0.063\n",
       "    0.037  0.009 -0.023]},\n",
       " {'group_id': 1030,\n",
       "  'participants': (188, 189),\n",
       "  'correls': [-0.039 -0.02   0.011  0.053  0.103  0.156  0.262  0.307  0.345  0.373\n",
       "    0.391  0.398  0.397]},\n",
       " {'group_id': 1030,\n",
       "  'participants': (188, 190),\n",
       "  'correls': [-0.137 -0.116 -0.096 -0.077 -0.06  -0.046 -0.03  -0.027 -0.027 -0.03\n",
       "   -0.035 -0.04  -0.045]},\n",
       " {'group_id': 1030,\n",
       "  'participants': (189, 190),\n",
       "  'correls': [-0.174 -0.168 -0.16  -0.152 -0.144 -0.138 -0.131 -0.134 -0.139 -0.145\n",
       "   -0.153 -0.159 -0.165]},\n",
       " {'group_id': 1031,\n",
       "  'participants': (191, 192),\n",
       "  'correls': [-0.004  0.034  0.076  0.119  0.16   0.194  0.235  0.246  0.245  0.233\n",
       "    0.21   0.18   0.145]},\n",
       " {'group_id': 1031,\n",
       "  'participants': (191, 193),\n",
       "  'correls': [0.282 0.32  0.361 0.401 0.438 0.469 0.501 0.501 0.489 0.465 0.431 0.389\n",
       "   0.341]},\n",
       " {'group_id': 1031,\n",
       "  'participants': (192, 193),\n",
       "  'correls': [0.217 0.249 0.281 0.308 0.33  0.344 0.342 0.324 0.296 0.261 0.22  0.175\n",
       "   0.129]},\n",
       " {'group_id': 1032,\n",
       "  'participants': (194, 195),\n",
       "  'correls': [0.19  0.222 0.252 0.277 0.298 0.312 0.319 0.312 0.298 0.276 0.248 0.216\n",
       "   0.181]},\n",
       " {'group_id': 1032,\n",
       "  'participants': (194, 196),\n",
       "  'correls': [0.278 0.284 0.287 0.289 0.288 0.286 0.279 0.273 0.265 0.258 0.252 0.248\n",
       "   0.245]},\n",
       " {'group_id': 1032,\n",
       "  'participants': (195, 196),\n",
       "  'correls': [0.499 0.503 0.503 0.498 0.488 0.473 0.433 0.417 0.4   0.381 0.362 0.344\n",
       "   0.326]},\n",
       " {'group_id': 1033,\n",
       "  'participants': (200, 201),\n",
       "  'correls': [ 0.457  0.46   0.446  0.414  0.367  0.309  0.177  0.12   0.07   0.029\n",
       "   -0.001 -0.018 -0.023]},\n",
       " {'group_id': 1033,\n",
       "  'participants': (200, 202),\n",
       "  'correls': [ 0.433  0.433  0.415  0.38   0.328  0.263  0.111  0.039 -0.026 -0.08\n",
       "   -0.12  -0.145 -0.152]},\n",
       " {'group_id': 1033,\n",
       "  'participants': (201, 202),\n",
       "  'correls': [0.269 0.298 0.327 0.353 0.376 0.394 0.411 0.401 0.385 0.362 0.335 0.306\n",
       "   0.275]},\n",
       " {'group_id': 1034,\n",
       "  'participants': (203, 204),\n",
       "  'correls': [-0.286 -0.266 -0.243 -0.219 -0.196 -0.176 -0.144 -0.137 -0.136 -0.141\n",
       "   -0.15  -0.163 -0.177]},\n",
       " {'group_id': 1034,\n",
       "  'participants': (203, 205),\n",
       "  'correls': [-0.172 -0.201 -0.231 -0.259 -0.283 -0.302 -0.317 -0.311 -0.3   -0.282\n",
       "   -0.259 -0.233 -0.205]},\n",
       " {'group_id': 1034,\n",
       "  'participants': (204, 205),\n",
       "  'correls': [0.284 0.281 0.278 0.274 0.268 0.263 0.25  0.241 0.231 0.221 0.212 0.204\n",
       "   0.199]},\n",
       " {'group_id': 1035,\n",
       "  'participants': (206, 207),\n",
       "  'correls': [0.445 0.442 0.436 0.426 0.414 0.4   0.365 0.345 0.322 0.297 0.269 0.239\n",
       "   0.207]},\n",
       " {'group_id': 1035,\n",
       "  'participants': (206, 208),\n",
       "  'correls': [0.285 0.304 0.319 0.33  0.335 0.336 0.322 0.306 0.285 0.258 0.227 0.192\n",
       "   0.154]},\n",
       " {'group_id': 1035,\n",
       "  'participants': (207, 208),\n",
       "  'correls': [0.095 0.174 0.251 0.324 0.389 0.442 0.51  0.522 0.519 0.502 0.473 0.434\n",
       "   0.387]},\n",
       " {'group_id': 1036,\n",
       "  'participants': (209, 210),\n",
       "  'correls': [0.583 0.588 0.593 0.598 0.602 0.604 0.602 0.595 0.585 0.571 0.553 0.534\n",
       "   0.513]},\n",
       " {'group_id': 1036,\n",
       "  'participants': (209, 211),\n",
       "  'correls': [0.276 0.292 0.308 0.322 0.334 0.343 0.352 0.353 0.351 0.348 0.344 0.339\n",
       "   0.334]},\n",
       " {'group_id': 1036,\n",
       "  'participants': (210, 211),\n",
       "  'correls': [0.066 0.076 0.092 0.113 0.141 0.174 0.252 0.293 0.333 0.37  0.403 0.429\n",
       "   0.448]},\n",
       " {'group_id': 1037,\n",
       "  'participants': (212, 213),\n",
       "  'correls': [ 0.043  0.035  0.026  0.017  0.006 -0.005 -0.032 -0.054 -0.077 -0.1\n",
       "   -0.124 -0.147 -0.167]},\n",
       " {'group_id': 1037,\n",
       "  'participants': (212, 214),\n",
       "  'correls': [0.572 0.581 0.587 0.59  0.591 0.589 0.578 0.569 0.56  0.552 0.544 0.537\n",
       "   0.532]},\n",
       " {'group_id': 1037,\n",
       "  'participants': (213, 214),\n",
       "  'correls': [ 0.081  0.064  0.041  0.016 -0.011 -0.038 -0.084 -0.103 -0.117 -0.123\n",
       "   -0.123 -0.117 -0.105]},\n",
       " {'group_id': 1038,\n",
       "  'participants': (215, 216),\n",
       "  'correls': [-0.025  0.042  0.111  0.178  0.239  0.291  0.352  0.36   0.351  0.326\n",
       "    0.287  0.238  0.181]},\n",
       " {'group_id': 1038,\n",
       "  'participants': (215, 217),\n",
       "  'correls': [-0.108 -0.046  0.022  0.094  0.164  0.228  0.325  0.351  0.361  0.354\n",
       "    0.331  0.293  0.243]},\n",
       " {'group_id': 1038,\n",
       "  'participants': (216, 217),\n",
       "  'correls': [0.13  0.181 0.23  0.277 0.318 0.352 0.395 0.403 0.401 0.388 0.366 0.336\n",
       "   0.3  ]},\n",
       " {'group_id': 1039,\n",
       "  'participants': (218, 219),\n",
       "  'correls': [-0.02  -0.002  0.018  0.037  0.056  0.073  0.098  0.11   0.117  0.117\n",
       "    0.11   0.098  0.081]},\n",
       " {'group_id': 1039,\n",
       "  'participants': (218, 220),\n",
       "  'correls': [0.349 0.372 0.385 0.387 0.381 0.366 0.319 0.292 0.266 0.246 0.233 0.228\n",
       "   0.233]},\n",
       " {'group_id': 1039,\n",
       "  'participants': (219, 220),\n",
       "  'correls': [-0.077 -0.045 -0.019 -0.001  0.008  0.006 -0.028 -0.055 -0.089 -0.127\n",
       "   -0.166 -0.204 -0.237]},\n",
       " {'group_id': 1040,\n",
       "  'participants': (221, 222),\n",
       "  'correls': [-0.047 -0.071 -0.087 -0.096 -0.098 -0.093 -0.067 -0.049 -0.032 -0.017\n",
       "   -0.007 -0.003 -0.004]},\n",
       " {'group_id': 1040,\n",
       "  'participants': (221, 223),\n",
       "  'correls': [ 0.181  0.156  0.131  0.109  0.089  0.071  0.04   0.026  0.012 -0.002\n",
       "   -0.017 -0.033 -0.049]},\n",
       " {'group_id': 1040,\n",
       "  'participants': (222, 223),\n",
       "  'correls': [0.323 0.324 0.326 0.328 0.332 0.336 0.349 0.363 0.377 0.391 0.404 0.414\n",
       "   0.42 ]},\n",
       " {'group_id': 1041,\n",
       "  'participants': (224, 225),\n",
       "  'correls': [0.252 0.279 0.304 0.325 0.343 0.357 0.372 0.374 0.371 0.365 0.356 0.345\n",
       "   0.332]},\n",
       " {'group_id': 1041,\n",
       "  'participants': (224, 226),\n",
       "  'correls': [0.277 0.252 0.224 0.194 0.164 0.135 0.092 0.08  0.076 0.08  0.091 0.109\n",
       "   0.133]},\n",
       " {'group_id': 1041,\n",
       "  'participants': (225, 226),\n",
       "  'correls': [0.508 0.518 0.523 0.524 0.521 0.513 0.484 0.466 0.444 0.422 0.398 0.374\n",
       "   0.351]},\n",
       " {'group_id': 1042,\n",
       "  'participants': (227, 228),\n",
       "  'correls': [ 0.014 -0.017 -0.047 -0.076 -0.102 -0.125 -0.158 -0.17  -0.178 -0.184\n",
       "   -0.189 -0.194 -0.2  ]},\n",
       " {'group_id': 1042,\n",
       "  'participants': (227, 229),\n",
       "  'correls': [0.054 0.069 0.081 0.09  0.095 0.097 0.093 0.096 0.097 0.096 0.092 0.087\n",
       "   0.08 ]},\n",
       " {'group_id': 1042,\n",
       "  'participants': (228, 229),\n",
       "  'correls': [-0.136 -0.127 -0.112 -0.092 -0.067 -0.039  0.024  0.058  0.091  0.122\n",
       "    0.151  0.175  0.195]},\n",
       " {'group_id': 1043,\n",
       "  'participants': (230, 231),\n",
       "  'correls': [-0.069 -0.032  0.007  0.047  0.086  0.122  0.178  0.195  0.205  0.207\n",
       "    0.203  0.192  0.175]},\n",
       " {'group_id': 1043,\n",
       "  'participants': (230, 232),\n",
       "  'correls': [0.063 0.043 0.033 0.032 0.041 0.058 0.113 0.145 0.177 0.208 0.236 0.258\n",
       "   0.273]},\n",
       " {'group_id': 1043,\n",
       "  'participants': (231, 232),\n",
       "  'correls': [-0.281 -0.297 -0.314 -0.33  -0.344 -0.357 -0.374 -0.382 -0.388 -0.392\n",
       "   -0.394 -0.394 -0.393]},\n",
       " {'group_id': 1044,\n",
       "  'participants': (233, 234),\n",
       "  'correls': [0.25  0.257 0.259 0.257 0.25  0.241 0.218 0.204 0.193 0.187 0.186 0.191\n",
       "   0.2  ]},\n",
       " {'group_id': 1044,\n",
       "  'participants': (233, 235),\n",
       "  'correls': [0.182 0.198 0.212 0.225 0.236 0.244 0.249 0.241 0.23  0.217 0.201 0.183\n",
       "   0.163]},\n",
       " {'group_id': 1044,\n",
       "  'participants': (234, 235),\n",
       "  'correls': [0.387 0.387 0.385 0.382 0.377 0.371 0.354 0.338 0.319 0.297 0.273 0.245\n",
       "   0.216]},\n",
       " {'group_id': 1045,\n",
       "  'participants': (236, 237),\n",
       "  'correls': [-0.159 -0.144 -0.133 -0.126 -0.126 -0.133 -0.17  -0.201 -0.237 -0.274\n",
       "   -0.312 -0.347 -0.378]},\n",
       " {'group_id': 1045,\n",
       "  'participants': (236, 238),\n",
       "  'correls': [ 0.17   0.158  0.148  0.139  0.13   0.12   0.094  0.085  0.071  0.052\n",
       "    0.033  0.013 -0.004]},\n",
       " {'group_id': 1045,\n",
       "  'participants': (237, 238),\n",
       "  'correls': [-0.117 -0.135 -0.146 -0.152 -0.155 -0.157 -0.164 -0.165 -0.17  -0.182\n",
       "   -0.198 -0.219 -0.244]},\n",
       " {'group_id': 1046,\n",
       "  'participants': (239, 240),\n",
       "  'correls': [0.196 0.191 0.188 0.186 0.186 0.186 0.184 0.173 0.16  0.143 0.123 0.099\n",
       "   0.073]},\n",
       " {'group_id': 1046,\n",
       "  'participants': (239, 241),\n",
       "  'correls': [0.008 0.037 0.067 0.095 0.123 0.149 0.195 0.213 0.231 0.25  0.268 0.287\n",
       "   0.307]},\n",
       " {'group_id': 1046,\n",
       "  'participants': (240, 241),\n",
       "  'correls': [0.28  0.261 0.243 0.228 0.216 0.207 0.199 0.197 0.198 0.202 0.208 0.216\n",
       "   0.225]},\n",
       " {'group_id': 1047,\n",
       "  'participants': (242, 243),\n",
       "  'correls': [0.041 0.095 0.147 0.192 0.229 0.256 0.28  0.27  0.255 0.235 0.213 0.191\n",
       "   0.17 ]},\n",
       " {'group_id': 1047,\n",
       "  'participants': (242, 244),\n",
       "  'correls': [ 0.075  0.054  0.032  0.011 -0.01  -0.027 -0.051 -0.059 -0.065 -0.067\n",
       "   -0.067 -0.065 -0.064]},\n",
       " {'group_id': 1047,\n",
       "  'participants': (243, 244),\n",
       "  'correls': [-0.114 -0.115 -0.117 -0.119 -0.123 -0.126 -0.134 -0.138 -0.142 -0.147\n",
       "   -0.153 -0.16  -0.17 ]},\n",
       " {'group_id': 1048,\n",
       "  'participants': (245, 246),\n",
       "  'correls': [-0.036 -0.022 -0.011 -0.004  0.     0.002  0.004  0.011  0.019  0.029\n",
       "    0.04   0.051  0.064]},\n",
       " {'group_id': 1048,\n",
       "  'participants': (245, 247),\n",
       "  'correls': [0.058 0.075 0.092 0.109 0.123 0.133 0.144 0.14  0.133 0.125 0.114 0.104\n",
       "   0.094]},\n",
       " {'group_id': 1048,\n",
       "  'participants': (246, 247),\n",
       "  'correls': [0.299 0.29  0.28  0.268 0.255 0.24  0.201 0.186 0.167 0.146 0.121 0.094\n",
       "   0.064]},\n",
       " {'group_id': 1049,\n",
       "  'participants': (248, 249),\n",
       "  'correls': [0.565 0.591 0.611 0.624 0.627 0.621 0.578 0.544 0.501 0.45  0.391 0.326\n",
       "   0.258]},\n",
       " {'group_id': 1049,\n",
       "  'participants': (248, 250),\n",
       "  'correls': [-0.047 -0.013  0.015  0.038  0.055  0.065  0.068  0.06   0.048  0.032\n",
       "    0.015 -0.003 -0.021]},\n",
       " {'group_id': 1049,\n",
       "  'participants': (249, 250),\n",
       "  'correls': [-0.171 -0.164 -0.157 -0.15  -0.144 -0.137 -0.124 -0.114 -0.104 -0.096\n",
       "   -0.091 -0.089 -0.09 ]},\n",
       " {'group_id': 1050,\n",
       "  'participants': (251, 252),\n",
       "  'correls': [0.187 0.2   0.222 0.252 0.288 0.328 0.411 0.443 0.472 0.494 0.508 0.513\n",
       "   0.507]},\n",
       " {'group_id': 1050,\n",
       "  'participants': (251, 253),\n",
       "  'correls': [0.486 0.515 0.543 0.567 0.588 0.604 0.618 0.607 0.589 0.566 0.538 0.507\n",
       "   0.475]},\n",
       " {'group_id': 1050,\n",
       "  'participants': (252, 253),\n",
       "  'correls': [0.478 0.5   0.513 0.517 0.511 0.497 0.445 0.407 0.364 0.321 0.28  0.241\n",
       "   0.208]},\n",
       " {'group_id': 1051,\n",
       "  'participants': (254, 255),\n",
       "  'correls': [-0.208 -0.199 -0.192 -0.185 -0.178 -0.171 -0.155 -0.136 -0.116 -0.096\n",
       "   -0.077 -0.059 -0.042]},\n",
       " {'group_id': 1051,\n",
       "  'participants': (254, 256),\n",
       "  'correls': [-0.185 -0.161 -0.135 -0.107 -0.081 -0.057 -0.02  -0.009 -0.003 -0.001\n",
       "   -0.     0.001  0.003]},\n",
       " {'group_id': 1051,\n",
       "  'participants': (255, 256),\n",
       "  'correls': [0.451 0.451 0.448 0.441 0.432 0.422 0.402 0.396 0.391 0.387 0.385 0.382\n",
       "   0.379]}]"
      ]
     },
     "execution_count": 13,
     "metadata": {},
     "output_type": "execute_result"
    }
   ],
   "source": [
    "all_group_corr_by_shift"
   ]
  },
  {
   "cell_type": "code",
   "execution_count": 14,
   "id": "8311a872",
   "metadata": {},
   "outputs": [
    {
     "data": {
      "text/html": [
       "<div>\n",
       "<style scoped>\n",
       "    .dataframe tbody tr th:only-of-type {\n",
       "        vertical-align: middle;\n",
       "    }\n",
       "\n",
       "    .dataframe tbody tr th {\n",
       "        vertical-align: top;\n",
       "    }\n",
       "\n",
       "    .dataframe thead th {\n",
       "        text-align: right;\n",
       "    }\n",
       "</style>\n",
       "<table border=\"1\" class=\"dataframe\">\n",
       "  <thead>\n",
       "    <tr style=\"text-align: right;\">\n",
       "      <th></th>\n",
       "      <th>group_id</th>\n",
       "      <th>participants</th>\n",
       "      <th>correls</th>\n",
       "    </tr>\n",
       "  </thead>\n",
       "  <tbody>\n",
       "    <tr>\n",
       "      <th>0</th>\n",
       "      <td>1001</td>\n",
       "      <td>(101, 102)</td>\n",
       "      <td>[0.08740515216328137, 0.07726138809928158, 0.0...</td>\n",
       "    </tr>\n",
       "    <tr>\n",
       "      <th>1</th>\n",
       "      <td>1001</td>\n",
       "      <td>(101, 103)</td>\n",
       "      <td>[0.06500906746950207, 0.05836652607097073, 0.0...</td>\n",
       "    </tr>\n",
       "    <tr>\n",
       "      <th>2</th>\n",
       "      <td>1001</td>\n",
       "      <td>(102, 103)</td>\n",
       "      <td>[0.3556510192024015, 0.3946855491381653, 0.434...</td>\n",
       "    </tr>\n",
       "    <tr>\n",
       "      <th>3</th>\n",
       "      <td>1003</td>\n",
       "      <td>(108, 109)</td>\n",
       "      <td>[0.20853386220095635, 0.23099337671915723, 0.2...</td>\n",
       "    </tr>\n",
       "    <tr>\n",
       "      <th>4</th>\n",
       "      <td>1004</td>\n",
       "      <td>(110, 111)</td>\n",
       "      <td>[0.3405549383995132, 0.32652707996449926, 0.30...</td>\n",
       "    </tr>\n",
       "    <tr>\n",
       "      <th>...</th>\n",
       "      <td>...</td>\n",
       "      <td>...</td>\n",
       "      <td>...</td>\n",
       "    </tr>\n",
       "    <tr>\n",
       "      <th>131</th>\n",
       "      <td>1050</td>\n",
       "      <td>(251, 253)</td>\n",
       "      <td>[0.4861148220491436, 0.5146960999987675, 0.542...</td>\n",
       "    </tr>\n",
       "    <tr>\n",
       "      <th>132</th>\n",
       "      <td>1050</td>\n",
       "      <td>(252, 253)</td>\n",
       "      <td>[0.47779075900495904, 0.49951819919058343, 0.5...</td>\n",
       "    </tr>\n",
       "    <tr>\n",
       "      <th>133</th>\n",
       "      <td>1051</td>\n",
       "      <td>(254, 255)</td>\n",
       "      <td>[-0.20762939341129533, -0.19922516273625474, -...</td>\n",
       "    </tr>\n",
       "    <tr>\n",
       "      <th>134</th>\n",
       "      <td>1051</td>\n",
       "      <td>(254, 256)</td>\n",
       "      <td>[-0.1854391423311854, -0.16146914879349283, -0...</td>\n",
       "    </tr>\n",
       "    <tr>\n",
       "      <th>135</th>\n",
       "      <td>1051</td>\n",
       "      <td>(255, 256)</td>\n",
       "      <td>[0.45088025781703067, 0.45137881431799304, 0.4...</td>\n",
       "    </tr>\n",
       "  </tbody>\n",
       "</table>\n",
       "<p>136 rows × 3 columns</p>\n",
       "</div>"
      ],
      "text/plain": [
       "     group_id participants                                            correls\n",
       "0        1001   (101, 102)  [0.08740515216328137, 0.07726138809928158, 0.0...\n",
       "1        1001   (101, 103)  [0.06500906746950207, 0.05836652607097073, 0.0...\n",
       "2        1001   (102, 103)  [0.3556510192024015, 0.3946855491381653, 0.434...\n",
       "3        1003   (108, 109)  [0.20853386220095635, 0.23099337671915723, 0.2...\n",
       "4        1004   (110, 111)  [0.3405549383995132, 0.32652707996449926, 0.30...\n",
       "..        ...          ...                                                ...\n",
       "131      1050   (251, 253)  [0.4861148220491436, 0.5146960999987675, 0.542...\n",
       "132      1050   (252, 253)  [0.47779075900495904, 0.49951819919058343, 0.5...\n",
       "133      1051   (254, 255)  [-0.20762939341129533, -0.19922516273625474, -...\n",
       "134      1051   (254, 256)  [-0.1854391423311854, -0.16146914879349283, -0...\n",
       "135      1051   (255, 256)  [0.45088025781703067, 0.45137881431799304, 0.4...\n",
       "\n",
       "[136 rows x 3 columns]"
      ]
     },
     "execution_count": 14,
     "metadata": {},
     "output_type": "execute_result"
    }
   ],
   "source": [
    "df = pd.DataFrame(all_group_corr_by_shift)\n",
    "df"
   ]
  },
  {
   "cell_type": "markdown",
   "id": "08182057",
   "metadata": {},
   "source": [
    "### Show how the correlations with shift relate to the main correlation\n",
    "\n",
    "The graph shows a random-walk pattern starting from the no-shift state when progressing to the lateral shift states"
   ]
  },
  {
   "cell_type": "code",
   "execution_count": 15,
   "id": "3b9e699d",
   "metadata": {},
   "outputs": [
    {
     "data": {
      "image/png": "[encoded data removed]",
      "text/plain": [
       "<Figure size 432x288 with 1 Axes>"
      ]
     },
     "metadata": {
      "needs_background": "light"
     },
     "output_type": "display_data"
    }
   ],
   "source": [
    "plt.plot(np.vstack(df.correls.map(lambda v: v-v[6])).T);"
   ]
  },
  {
   "cell_type": "markdown",
   "id": "f9d7fb8a",
   "metadata": {},
   "source": [
    "### The correlation histogram\n",
    "\n",
    "This is the \"classic\" historgram which we saw over and over"
   ]
  },
  {
   "cell_type": "code",
   "execution_count": 16,
   "id": "a1061dc3",
   "metadata": {},
   "outputs": [
    {
     "data": {
      "image/png": "[encoded data removed]",
      "text/plain": [
       "<Figure size 432x288 with 1 Axes>"
      ]
     },
     "metadata": {
      "needs_background": "light"
     },
     "output_type": "display_data"
    }
   ],
   "source": [
    "plt.hist(df.correls.map(lambda v: v[6]));"
   ]
  },
  {
   "cell_type": "markdown",
   "id": "6cc0d433",
   "metadata": {},
   "source": [
    "### Check the relation of the extremes to the central correlation\n",
    "\n",
    "We see that there is strong coherence, i.e. correlations at the extremes are highly correlated with central correlations. Additionally, in this resolution, no central tendency can be observed"
   ]
  },
  {
   "cell_type": "code",
   "execution_count": 17,
   "id": "514130c0",
   "metadata": {},
   "outputs": [
    {
     "data": {
      "image/png": "[encoded data removed]",
      "text/plain": [
       "<Figure size 432x288 with 1 Axes>"
      ]
     },
     "metadata": {
      "needs_background": "light"
     },
     "output_type": "display_data"
    }
   ],
   "source": [
    "plt.hist2d(df.correls.map(lambda v: v[6]),df.correls.map(lambda v: v[0]));"
   ]
  },
  {
   "cell_type": "code",
   "execution_count": 18,
   "id": "48c9afef",
   "metadata": {},
   "outputs": [
    {
     "data": {
      "image/png": "[encoded data removed]",
      "text/plain": [
       "<Figure size 432x288 with 1 Axes>"
      ]
     },
     "metadata": {
      "needs_background": "light"
     },
     "output_type": "display_data"
    }
   ],
   "source": [
    "plt.hist2d(df.correls.map(lambda v: v[6]),df.correls.map(lambda v: v[12]));"
   ]
  },
  {
   "cell_type": "code",
   "execution_count": 19,
   "id": "13352a54",
   "metadata": {},
   "outputs": [],
   "source": [
    "list_by_group[5].participant_ida\n"
   ]
  },
  {
   "cell_type": "code",
   "execution_count": 20,
   "id": "4029c035",
   "metadata": {},
   "outputs": [
    {
     "data": {
      "text/plain": [
       "[ 0.087  0.077  0.062  0.043  0.022 -0.001 -0.047 -0.064 -0.079 -0.092\n",
       " -0.101 -0.108 -0.111]"
      ]
     },
     "execution_count": 20,
     "metadata": {},
     "output_type": "execute_result"
    }
   ],
   "source": [
    "all_group_corr_by_shift[0]['correls']"
   ]
  },
  {
   "cell_type": "markdown",
   "id": "c3fe6e5d",
   "metadata": {},
   "source": [
    "### Recreate the traingle plot"
   ]
  },
  {
   "cell_type": "code",
   "execution_count": 21,
   "id": "15e2b62a",
   "metadata": {},
   "outputs": [],
   "source": [
    "df['max_correl']=df.correls.map(np.max)\n",
    "df['ptp_angular_dist'] = df.max_correl.map(lambda c: np.arccos(c)/np.pi)"
   ]
  },
  {
   "cell_type": "raw",
   "id": "7f7a7a29",
   "metadata": {},
   "source": [
    "global yyy\n",
    "yyy =0 \n",
    "def debug_agg(dists):\n",
    "    global yyy\n",
    "    yyy +=1\n",
    "    print(\"enter\")\n",
    "    print(type(dists))\n",
    "    print(dists)\n",
    "    if yyy==4:\n",
    "        raise ValueError\n",
    "\n",
    "df.groupby('group_id').agg({'ptp_angular_dist':debug_agg},axis=1)\n"
   ]
  },
  {
   "cell_type": "code",
   "execution_count": 22,
   "id": "c6738953",
   "metadata": {},
   "outputs": [],
   "source": [
    "def traingle_2d_repr(dists):\n",
    "    if len(dists)<3: \n",
    "        return np.nan\n",
    "    x = min(dists)\n",
    "    y = (sum(dists)-x)/(2*x)\n",
    "    ret = np.array([x,y])\n",
    "    return [x,y]"
   ]
  },
  {
   "cell_type": "code",
   "execution_count": 23,
   "id": "2571f881",
   "metadata": {},
   "outputs": [
    {
     "data": {
      "text/html": [
       "<div>\n",
       "<style scoped>\n",
       "    .dataframe tbody tr th:only-of-type {\n",
       "        vertical-align: middle;\n",
       "    }\n",
       "\n",
       "    .dataframe tbody tr th {\n",
       "        vertical-align: top;\n",
       "    }\n",
       "\n",
       "    .dataframe thead th {\n",
       "        text-align: right;\n",
       "    }\n",
       "</style>\n",
       "<table border=\"1\" class=\"dataframe\">\n",
       "  <thead>\n",
       "    <tr style=\"text-align: right;\">\n",
       "      <th></th>\n",
       "      <th>ptp_angular_dist</th>\n",
       "    </tr>\n",
       "    <tr>\n",
       "      <th>group_id</th>\n",
       "      <th></th>\n",
       "    </tr>\n",
       "  </thead>\n",
       "  <tbody>\n",
       "    <tr>\n",
       "      <th>1001</th>\n",
       "      <td>[0.30865236229458465, 1.5412726626724513]</td>\n",
       "    </tr>\n",
       "    <tr>\n",
       "      <th>1004</th>\n",
       "      <td>[0.3893850693685441, 1.1577598096672328]</td>\n",
       "    </tr>\n",
       "    <tr>\n",
       "      <th>1005</th>\n",
       "      <td>[0.3424978648894185, 1.1037369607361516]</td>\n",
       "    </tr>\n",
       "    <tr>\n",
       "      <th>1006</th>\n",
       "      <td>[0.3945180155242411, 1.2437782157349861]</td>\n",
       "    </tr>\n",
       "    <tr>\n",
       "      <th>1007</th>\n",
       "      <td>[0.2979630279257565, 1.1628519166274291]</td>\n",
       "    </tr>\n",
       "    <tr>\n",
       "      <th>1008</th>\n",
       "      <td>[0.3915674530079116, 1.1189302316724807]</td>\n",
       "    </tr>\n",
       "    <tr>\n",
       "      <th>1009</th>\n",
       "      <td>[0.3930193615969861, 1.294322822987879]</td>\n",
       "    </tr>\n",
       "    <tr>\n",
       "      <th>1010</th>\n",
       "      <td>[0.29278804249664886, 1.4555415137744683]</td>\n",
       "    </tr>\n",
       "    <tr>\n",
       "      <th>1011</th>\n",
       "      <td>[0.3185629772561582, 1.0635898335619067]</td>\n",
       "    </tr>\n",
       "    <tr>\n",
       "      <th>1012</th>\n",
       "      <td>[0.39893728434650777, 1.176954052774006]</td>\n",
       "    </tr>\n",
       "    <tr>\n",
       "      <th>1013</th>\n",
       "      <td>[0.4162681354446837, 1.2219992050232475]</td>\n",
       "    </tr>\n",
       "    <tr>\n",
       "      <th>1014</th>\n",
       "      <td>[0.3699871670707527, 1.323087139852277]</td>\n",
       "    </tr>\n",
       "    <tr>\n",
       "      <th>1016</th>\n",
       "      <td>[0.4522486537248075, 1.1094872650374792]</td>\n",
       "    </tr>\n",
       "    <tr>\n",
       "      <th>1019</th>\n",
       "      <td>[0.2809548583232515, 1.273065641340394]</td>\n",
       "    </tr>\n",
       "    <tr>\n",
       "      <th>1020</th>\n",
       "      <td>[0.3308167999248434, 1.5337586141964188]</td>\n",
       "    </tr>\n",
       "    <tr>\n",
       "      <th>1022</th>\n",
       "      <td>[0.40419680085315657, 1.0516814368091714]</td>\n",
       "    </tr>\n",
       "    <tr>\n",
       "      <th>1024</th>\n",
       "      <td>[0.3477106582758595, 1.2827065126790764]</td>\n",
       "    </tr>\n",
       "    <tr>\n",
       "      <th>1025</th>\n",
       "      <td>[0.3892527667120892, 1.1960744998899828]</td>\n",
       "    </tr>\n",
       "    <tr>\n",
       "      <th>1026</th>\n",
       "      <td>[0.2948224447756941, 1.1651451009468259]</td>\n",
       "    </tr>\n",
       "    <tr>\n",
       "      <th>1027</th>\n",
       "      <td>[0.2662609791574173, 1.6298716446543782]</td>\n",
       "    </tr>\n",
       "    <tr>\n",
       "      <th>1028</th>\n",
       "      <td>[0.3472018954665032, 1.4085986262851842]</td>\n",
       "    </tr>\n",
       "    <tr>\n",
       "      <th>1029</th>\n",
       "      <td>[0.4198623842650901, 1.115864101127419]</td>\n",
       "    </tr>\n",
       "    <tr>\n",
       "      <th>1030</th>\n",
       "      <td>[0.3695317575059872, 1.4211927289444082]</td>\n",
       "    </tr>\n",
       "    <tr>\n",
       "      <th>1031</th>\n",
       "      <td>[0.3328175295443733, 1.2155591055279984]</td>\n",
       "    </tr>\n",
       "    <tr>\n",
       "      <th>1032</th>\n",
       "      <td>[0.33208128765519995, 1.2094851733936445]</td>\n",
       "    </tr>\n",
       "    <tr>\n",
       "      <th>1033</th>\n",
       "      <td>[0.34767081056749266, 1.0394731152705052]</td>\n",
       "    </tr>\n",
       "    <tr>\n",
       "      <th>1034</th>\n",
       "      <td>[0.4083810088830889, 1.3446450705626984]</td>\n",
       "    </tr>\n",
       "    <tr>\n",
       "      <th>1035</th>\n",
       "      <td>[0.3251957795484266, 1.143972600912142]</td>\n",
       "    </tr>\n",
       "    <tr>\n",
       "      <th>1036</th>\n",
       "      <td>[0.29338478612385815, 1.2566146738340673]</td>\n",
       "    </tr>\n",
       "    <tr>\n",
       "      <th>1037</th>\n",
       "      <td>[0.29860106664940134, 1.6084757325869257]</td>\n",
       "    </tr>\n",
       "    <tr>\n",
       "      <th>1038</th>\n",
       "      <td>[0.3679504566725743, 1.0398570530611246]</td>\n",
       "    </tr>\n",
       "    <tr>\n",
       "      <th>1039</th>\n",
       "      <td>[0.37337810538862515, 1.2858490491098793]</td>\n",
       "    </tr>\n",
       "    <tr>\n",
       "      <th>1040</th>\n",
       "      <td>[0.36191454489500496, 1.30239009408975]</td>\n",
       "    </tr>\n",
       "    <tr>\n",
       "      <th>1041</th>\n",
       "      <td>[0.3242695314474899, 1.2164073785705674]</td>\n",
       "    </tr>\n",
       "    <tr>\n",
       "      <th>1042</th>\n",
       "      <td>[0.437451196968142, 1.102556909804223]</td>\n",
       "    </tr>\n",
       "    <tr>\n",
       "      <th>1043</th>\n",
       "      <td>[0.4119074957510476, 1.2431072148998228]</td>\n",
       "    </tr>\n",
       "    <tr>\n",
       "      <th>1044</th>\n",
       "      <td>[0.37346099242311126, 1.1197397811863425]</td>\n",
       "    </tr>\n",
       "    <tr>\n",
       "      <th>1045</th>\n",
       "      <td>[0.44553171757494375, 1.2092488285868854]</td>\n",
       "    </tr>\n",
       "    <tr>\n",
       "      <th>1046</th>\n",
       "      <td>[0.40062952586544126, 1.0565793997716868]</td>\n",
       "    </tr>\n",
       "    <tr>\n",
       "      <th>1047</th>\n",
       "      <td>[0.40980835499724266, 1.235309461490013]</td>\n",
       "    </tr>\n",
       "    <tr>\n",
       "      <th>1048</th>\n",
       "      <td>[0.4032673852996489, 1.1576767587332648]</td>\n",
       "    </tr>\n",
       "    <tr>\n",
       "      <th>1049</th>\n",
       "      <td>[0.28409843993164974, 1.7712982275786633]</td>\n",
       "    </tr>\n",
       "    <tr>\n",
       "      <th>1050</th>\n",
       "      <td>[0.28776959070985336, 1.13944555059661]</td>\n",
       "    </tr>\n",
       "    <tr>\n",
       "      <th>1051</th>\n",
       "      <td>[0.35093232382202344, 1.442302612723677]</td>\n",
       "    </tr>\n",
       "  </tbody>\n",
       "</table>\n",
       "</div>"
      ],
      "text/plain": [
       "                                   ptp_angular_dist\n",
       "group_id                                           \n",
       "1001      [0.30865236229458465, 1.5412726626724513]\n",
       "1004       [0.3893850693685441, 1.1577598096672328]\n",
       "1005       [0.3424978648894185, 1.1037369607361516]\n",
       "1006       [0.3945180155242411, 1.2437782157349861]\n",
       "1007       [0.2979630279257565, 1.1628519166274291]\n",
       "1008       [0.3915674530079116, 1.1189302316724807]\n",
       "1009        [0.3930193615969861, 1.294322822987879]\n",
       "1010      [0.29278804249664886, 1.4555415137744683]\n",
       "1011       [0.3185629772561582, 1.0635898335619067]\n",
       "1012       [0.39893728434650777, 1.176954052774006]\n",
       "1013       [0.4162681354446837, 1.2219992050232475]\n",
       "1014        [0.3699871670707527, 1.323087139852277]\n",
       "1016       [0.4522486537248075, 1.1094872650374792]\n",
       "1019        [0.2809548583232515, 1.273065641340394]\n",
       "1020       [0.3308167999248434, 1.5337586141964188]\n",
       "1022      [0.40419680085315657, 1.0516814368091714]\n",
       "1024       [0.3477106582758595, 1.2827065126790764]\n",
       "1025       [0.3892527667120892, 1.1960744998899828]\n",
       "1026       [0.2948224447756941, 1.1651451009468259]\n",
       "1027       [0.2662609791574173, 1.6298716446543782]\n",
       "1028       [0.3472018954665032, 1.4085986262851842]\n",
       "1029        [0.4198623842650901, 1.115864101127419]\n",
       "1030       [0.3695317575059872, 1.4211927289444082]\n",
       "1031       [0.3328175295443733, 1.2155591055279984]\n",
       "1032      [0.33208128765519995, 1.2094851733936445]\n",
       "1033      [0.34767081056749266, 1.0394731152705052]\n",
       "1034       [0.4083810088830889, 1.3446450705626984]\n",
       "1035        [0.3251957795484266, 1.143972600912142]\n",
       "1036      [0.29338478612385815, 1.2566146738340673]\n",
       "1037      [0.29860106664940134, 1.6084757325869257]\n",
       "1038       [0.3679504566725743, 1.0398570530611246]\n",
       "1039      [0.37337810538862515, 1.2858490491098793]\n",
       "1040        [0.36191454489500496, 1.30239009408975]\n",
       "1041       [0.3242695314474899, 1.2164073785705674]\n",
       "1042         [0.437451196968142, 1.102556909804223]\n",
       "1043       [0.4119074957510476, 1.2431072148998228]\n",
       "1044      [0.37346099242311126, 1.1197397811863425]\n",
       "1045      [0.44553171757494375, 1.2092488285868854]\n",
       "1046      [0.40062952586544126, 1.0565793997716868]\n",
       "1047       [0.40980835499724266, 1.235309461490013]\n",
       "1048       [0.4032673852996489, 1.1576767587332648]\n",
       "1049      [0.28409843993164974, 1.7712982275786633]\n",
       "1050        [0.28776959070985336, 1.13944555059661]\n",
       "1051       [0.35093232382202344, 1.442302612723677]"
      ]
     },
     "execution_count": 23,
     "metadata": {},
     "output_type": "execute_result"
    }
   ],
   "source": [
    "dist_points = df.groupby('group_id').agg({'ptp_angular_dist': traingle_2d_repr}).dropna()\n",
    "dist_points    "
   ]
  },
  {
   "cell_type": "code",
   "execution_count": 24,
   "id": "1758dd87",
   "metadata": {},
   "outputs": [
    {
     "data": {
      "image/png": "[encoded data removed]",
      "text/plain": [
       "<Figure size 864x576 with 1 Axes>"
      ]
     },
     "metadata": {
      "needs_background": "light"
     },
     "output_type": "display_data"
    }
   ],
   "source": [
    "fig = plt.figure(figsize=(12,8))\n",
    "plt.plot(*zip(*dist_points.ptp_angular_dist),'.b');\n",
    "plt.title('Freestyle session HR distances by group',fontsize=32)\n",
    "plt.xlabel('Shortest angular distance', fontsize='xx-large')\n",
    "plt.ylabel('Average long/short ratio', fontsize='xx-large')\n",
    "for gr_id, xy in dist_points.iterrows():\n",
    "    xy=xy[0]\n",
    "    plt.text(xy[0],xy[1]+0.01,str(gr_id),fontdict={'color':'black', 'fontsize':'large'})\n",
    "    \n",
    "    \n",
    "fig.savefig('freestyle_session_HR_distances_by_group.png')"
   ]
  },
  {
   "cell_type": "raw",
   "id": "3ee342a8",
   "metadata": {},
   "source": [
    "# unstyled version\n",
    "plt.figure(figsize=(12,12))\n",
    "plt.scatter(*zip(*dist_points.ptp_angular_dist));\n",
    "\n",
    "for gr_id, xy in dist_points.iterrows():\n",
    "    xy=xy[0]\n",
    "    plt.text(xy[0],xy[1]+0.01,str(gr_id))"
   ]
  },
  {
   "cell_type": "code",
   "execution_count": 26,
   "id": "d41353dc",
   "metadata": {},
   "outputs": [
    {
     "name": "stdout",
     "output_type": "stream",
     "text": [
      "(list_store (dict_store {'session': 'BL', 'hr': list_store (dict_store {'participant_id': 101, 'spline_interp': [[0.874, 1.374, 1.874, 2.374, 2.874, 3.3..., 'signal_2hz': [[  3.5     0.928]\n",
      " [  4.      0.951]\n",
      " [  4.5     0.952]\n",
      " ..., 'remez': [[  9.5     0.903]\n",
      " [ 10.      0.907]\n",
      " [ 10.5     0.912]\n",
      " ...}\n",
      ", dict_store {'participant_id': 102, 'spline_interp': [[0.996, 1.496, 1.996, 2.496, 2.996, 3.4..., 'signal_2hz': [[  3.5     0.783]\n",
      " [  4.      0.791]\n",
      " [  4.5     0.78 ]\n",
      " ..., 'remez': [[  9.5     0.771]\n",
      " [ 10.      0.764]\n",
      " [ 10.5     0.758]\n",
      " ...}\n",
      ", dict_store {'participant_id': 103, 'spline_interp': [[0.97, 1.47, 1.97, 2.47, 2.969999999999..., 'signal_2hz': [[  3.5     0.686]\n",
      " [  4.      0.698]\n",
      " [  4.5     0.702]\n",
      " ..., 'remez': [[  9.5     0.747]\n",
      " [ 10.      0.755]\n",
      " [ 10.5     0.762]\n",
      " ...}\n",
      ")\n",
      "}\n",
      ", dict_store {'session': 'I', 'hr': list_store (dict_store {'participant_id': 101, 'spline_interp': [[1.35, 1.85, 2.35, 2.85, 3.35, 3.85, 4...., 'signal_2hz': [[  3.5     0.783]\n",
      " [  4.      0.77\n"
     ]
    }
   ],
   "source": [
    "print(svdata.sessions._data.__repr__()[:1000])"
   ]
  },
  {
   "cell_type": "code",
   "execution_count": 27,
   "id": "b3d57041",
   "metadata": {},
   "outputs": [
    {
     "data": {
      "text/plain": [
       "1001"
      ]
     },
     "execution_count": 27,
     "metadata": {},
     "output_type": "execute_result"
    }
   ],
   "source": [
    "svdata._data[0]._data['group_id']\n",
    "\n",
    "#svdata._data[0]._data['sessions'][3]._data['coupling']"
   ]
  },
  {
   "cell_type": "code",
   "execution_count": 28,
   "id": "459d64fe",
   "metadata": {},
   "outputs": [
    {
     "data": {
      "text/plain": [
       "'../../../data/time_series_linear_interpolations'"
      ]
     },
     "execution_count": 28,
     "metadata": {},
     "output_type": "execute_result"
    }
   ],
   "source": [
    "data_dir"
   ]
  },
  {
   "cell_type": "code",
   "execution_count": 29,
   "id": "9c264c12",
   "metadata": {},
   "outputs": [
    {
     "name": "stdout",
     "output_type": "stream",
     "text": [
      "coupling 2d already exists for freestyle session\n"
     ]
    }
   ],
   "source": [
    "\n",
    "if sv.list_store(svdata.sessions.sample(3)).coupling_2d is None:\n",
    "    for gr in svdata._data:\n",
    "        group_id = gr._data['group_id']\n",
    "        fs_sess = gr._data['sessions']._data[3]._data\n",
    "        try:\n",
    "            fs_sess['coupling_2d'] = sv.dict_store(\n",
    "               { 'remez': dist_points.loc[group_id].tolist()[0]})\n",
    "        except KeyError:\n",
    "            pass\n",
    "    with open(path.join(data_dir,'olap2.pickle'),'wb') as a:\n",
    "        pickle.dump(svdata,a)\n",
    "else:\n",
    "    print(\"coupling 2d already exists for freestyle session\")\n"
   ]
  },
  {
   "cell_type": "code",
   "execution_count": 36,
   "id": "7cce2f0d",
   "metadata": {},
   "outputs": [
    {
     "data": {
      "text/plain": [
       "dict_store {'session': 'I', 'hr': list_store (dict_store {'participant_id': 101, 'spline_interp': [[1.35, 1.85, 2.35, 2.85, 3.35, 3.85, 4...., 'signal_2hz': [[  3.5     0.783]\n",
       " [  4.      0.772]\n",
       " [  4.5     0.791]\n",
       " [  5.      0.831], 'remez': [[  9.5     1.04 ]\n",
       " [ 10.      1.035]\n",
       " [ 10.5     1.024]\n",
       " [ 11.      1.009]}\n",
       ", dict_store {'participant_id': 102, 'spline_interp': [[1.076, 1.576, 2.076, 2.576, 3.076, 3.5..., 'signal_2hz': [[  3.5     0.638]\n",
       " [  4.      0.644]\n",
       " [  4.5     0.665]\n",
       " [  5.      0.73 ], 'remez': [[  9.5     0.954]\n",
       " [ 10.      0.941]\n",
       " [ 10.5     0.924]\n",
       " [ 11.      0.901]}\n",
       ", dict_store {'participant_id': 103, 'spline_interp': [[0.8280000000000001, 1.328, 1.828, 2.32..., 'signal_2hz': [[  3.5     0.548]\n",
       " [  4.      0.537]\n",
       " [  4.5     0.531]\n",
       " [  5.      0.535], 'remez': [[  9.5     0.742]\n",
       " [ 10.      0.731]\n",
       " [ 10.5     0.717]\n",
       " [ 11.      0.698]}\n",
       ")\n",
       ", 'drumming': list_store (dict_store {'drummer': 43, 'participant_id': 103, 'signal_4hz': [[0.0, 0.25, 0.5, 0.75, 1.0, 1.25, 1.5, ...}\n",
       ", dict_store {'drummer': 45, 'participant_id': 102, 'signal_4hz': [[0.0, 0.25, 0.5, 0.75, 1.0, 1.25, 1.5, ...}\n",
       ", dict_store {'drummer': 48, 'participant_id': 101, 'signal_4hz': [[0.0, 0.25, 0.5, 0.75, 1.0, 1.25, 1.5, ...}\n",
       ")\n",
       ", 'coupling_2d': dict_store {'remez': [0.3352266190463019, 1.47206166533493]}\n",
       "}"
      ]
     },
     "execution_count": 36,
     "metadata": {},
     "output_type": "execute_result"
    }
   ],
   "source": [
    "svdata[0].sessions[1].hr"
   ]
  },
  {
   "cell_type": "code",
   "execution_count": null,
   "id": "553b2d4c",
   "metadata": {},
   "outputs": [],
   "source": []
  }
 ],
 "metadata": {
  "kernelspec": {
   "display_name": "Python 3.7.4 64-bit ('base': conda)",
   "language": "python",
   "name": "python37464bitbaseconda865b03b3ea5d4f4bb8519af201560b69"
  },
  "language_info": {
   "codemirror_mode": {
    "name": "ipython",
    "version": 3
   },
   "file_extension": ".py",
   "mimetype": "text/x-python",
   "name": "python",
   "nbconvert_exporter": "python",
   "pygments_lexer": "ipython3",
   "version": "3.7.10"
  }
 },
 "nbformat": 4,
 "nbformat_minor": 5
}
