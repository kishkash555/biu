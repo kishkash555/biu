{
 "cells": [
  {
   "cell_type": "code",
   "execution_count": 2,
   "metadata": {},
   "outputs": [],
   "source": [
    "import importlib\n",
    "import numpy as np"
   ]
  },
  {
   "cell_type": "code",
   "execution_count": 3,
   "metadata": {},
   "outputs": [
    {
     "name": "stdout",
     "output_type": "stream",
     "text": [
      "['', 'C:\\\\Shahar\\\\BarIlan\\\\NLP-courses\\\\89687-DL\\\\Assignment1\\\\code', 'C:\\\\Shahar\\\\BarIlan\\\\NLP-courses\\\\89687-DL\\\\Assignment1', 'C:\\\\ProgramData\\\\Anaconda3\\\\envs\\\\bari_env\\\\python36.zip', 'C:\\\\ProgramData\\\\Anaconda3\\\\envs\\\\bari_env\\\\DLLs', 'C:\\\\ProgramData\\\\Anaconda3\\\\envs\\\\bari_env\\\\lib', 'C:\\\\ProgramData\\\\Anaconda3\\\\envs\\\\bari_env', 'C:\\\\ProgramData\\\\Anaconda3\\\\envs\\\\bari_env\\\\lib\\\\site-packages', 'C:\\\\ProgramData\\\\Anaconda3\\\\envs\\\\bari_env\\\\lib\\\\site-packages\\\\IPython\\\\extensions', 'C:\\\\Users\\\\Shahar\\\\.ipython']\n"
     ]
    }
   ],
   "source": [
    "import sys\n",
    "print(sys.path)"
   ]
  },
  {
   "cell_type": "code",
   "execution_count": 4,
   "metadata": {},
   "outputs": [],
   "source": [
    "sys.path.append('C:\\\\Shahar\\\\BarIlan\\\\NLP-courses\\\\89687-DL\\\\Assignment1\\\\code')"
   ]
  },
  {
   "cell_type": "code",
   "execution_count": 4,
   "metadata": {},
   "outputs": [
    {
     "name": "stdout",
     "output_type": "stream",
     "text": [
      "['', 'C:\\\\Shahar\\\\BarIlan\\\\NLP-courses\\\\89687-DL\\\\Assignment1\\\\code', 'C:\\\\Shahar\\\\BarIlan\\\\NLP-courses\\\\89687-DL\\\\Assignment1', 'C:\\\\ProgramData\\\\Anaconda3\\\\envs\\\\bari_env\\\\python36.zip', 'C:\\\\ProgramData\\\\Anaconda3\\\\envs\\\\bari_env\\\\DLLs', 'C:\\\\ProgramData\\\\Anaconda3\\\\envs\\\\bari_env\\\\lib', 'C:\\\\ProgramData\\\\Anaconda3\\\\envs\\\\bari_env', 'C:\\\\ProgramData\\\\Anaconda3\\\\envs\\\\bari_env\\\\lib\\\\site-packages', 'C:\\\\ProgramData\\\\Anaconda3\\\\envs\\\\bari_env\\\\lib\\\\site-packages\\\\IPython\\\\extensions', 'C:\\\\Users\\\\Shahar\\\\.ipython', 'C:\\\\Shahar\\\\BarIlan\\\\NLP-courses\\\\89687-DL\\\\Assignment1\\\\code']\n"
     ]
    }
   ],
   "source": [
    "print(sys.path)"
   ]
  },
  {
   "cell_type": "code",
   "execution_count": 119,
   "metadata": {},
   "outputs": [
    {
     "data": {
      "text/plain": [
       "<module 'grad_check' from 'C:\\\\Shahar\\\\BarIlan\\\\NLP-courses\\\\89687-DL\\\\Assignment1\\\\code\\\\grad_check.py'>"
      ]
     },
     "execution_count": 119,
     "metadata": {},
     "output_type": "execute_result"
    }
   ],
   "source": [
    "import testing\n",
    "importlib.reload(testing)\n",
    "import loglinear\n",
    "importlib.reload(loglinear)\n",
    "import grad_check\n",
    "importlib.reload(grad_check)\n"
   ]
  },
  {
   "cell_type": "code",
   "execution_count": 120,
   "metadata": {},
   "outputs": [
    {
     "name": "stdout",
     "output_type": "stream",
     "text": [
      "Gradient check passed!\n",
      "Gradient check passed!\n",
      "Gradient check passed!\n",
      "Gradient check passed!\n",
      "Gradient check passed!\n",
      "Gradient check passed!\n",
      "Gradient check passed!\n",
      "Gradient check passed!\n",
      "Gradient check passed!\n",
      "Gradient check passed!\n",
      "Gradient check passed!\n",
      "Gradient check passed!\n",
      "Gradient check passed!\n",
      "Gradient check passed!\n",
      "Gradient check passed!\n",
      "Gradient check passed!\n",
      "Gradient check passed!\n",
      "Gradient check passed!\n",
      "Gradient check passed!\n",
      "Gradient check passed!\n"
     ]
    },
    {
     "ename": "AttributeError",
     "evalue": "module 'testing' has no attribute 'create_classifier'",
     "output_type": "error",
     "traceback": [
      "\u001b[1;31m---------------------------------------------------------------------------\u001b[0m",
      "\u001b[1;31mAttributeError\u001b[0m                            Traceback (most recent call last)",
      "\u001b[1;32m<ipython-input-120-14e6c2fb670c>\u001b[0m in \u001b[0;36m<module>\u001b[1;34m\u001b[0m\n\u001b[0;32m      1\u001b[0m \u001b[0mloss_gb\u001b[0m \u001b[1;33m=\u001b[0m \u001b[0mtesting\u001b[0m\u001b[1;33m.\u001b[0m\u001b[0mgrad_sanity\u001b[0m\u001b[1;33m(\u001b[0m\u001b[1;33m)\u001b[0m\u001b[1;33m\u001b[0m\u001b[0m\n\u001b[1;32m----> 2\u001b[1;33m \u001b[0mW\u001b[0m\u001b[1;33m,\u001b[0m\u001b[0mb\u001b[0m \u001b[1;33m=\u001b[0m \u001b[0mtesting\u001b[0m\u001b[1;33m.\u001b[0m\u001b[0mcreate_classifier\u001b[0m\u001b[1;33m(\u001b[0m\u001b[1;36m3\u001b[0m\u001b[1;33m,\u001b[0m\u001b[1;36m6\u001b[0m\u001b[1;33m)\u001b[0m\u001b[1;33m\u001b[0m\u001b[0m\n\u001b[0m\u001b[0;32m      3\u001b[0m \u001b[0mprint\u001b[0m\u001b[1;33m(\u001b[0m\u001b[0mW\u001b[0m\u001b[1;33m)\u001b[0m\u001b[1;33m\u001b[0m\u001b[0m\n",
      "\u001b[1;31mAttributeError\u001b[0m: module 'testing' has no attribute 'create_classifier'"
     ]
    }
   ],
   "source": [
    "loss_gb = testing.grad_sanity()\n",
    "W,b = testing.create_classifier(3,6)\n",
    "print(W)\n"
   ]
  },
  {
   "cell_type": "code",
   "execution_count": 10,
   "metadata": {},
   "outputs": [
    {
     "data": {
      "text/plain": [
       "0.8363249502362733"
      ]
     },
     "execution_count": 10,
     "metadata": {},
     "output_type": "execute_result"
    }
   ],
   "source": [
    "loglinear.logloss(np.array([0,1,0]),np.array([0.333333,0.4333,0.2333]))"
   ]
  },
  {
   "cell_type": "code",
   "execution_count": 12,
   "metadata": {},
   "outputs": [
    {
     "name": "stdout",
     "output_type": "stream",
     "text": [
      "Gradient check passed!\n",
      "Gradient check passed!\n",
      "Gradient check passed!\n",
      "Gradient check passed!\n",
      "Gradient check passed!\n",
      "Gradient check passed!\n",
      "Gradient check passed!\n",
      "Gradient check passed!\n",
      "Gradient check passed!\n",
      "Gradient check passed!\n",
      "Gradient check passed!\n",
      "Gradient check passed!\n",
      "Gradient check passed!\n",
      "Gradient check passed!\n",
      "Gradient check passed!\n",
      "Gradient check passed!\n",
      "Gradient check passed!\n",
      "Gradient check passed!\n",
      "Gradient check passed!\n",
      "Gradient check passed!\n"
     ]
    }
   ],
   "source": [
    "importlib.reload(testing)\n",
    "#importlib.reload(loglinear)\n",
    "#importlib.reload(grad_check)\n",
    "p = testing.grad_sanity()"
   ]
  },
  {
   "cell_type": "code",
   "execution_count": null,
   "metadata": {},
   "outputs": [],
   "source": []
  },
  {
   "cell_type": "code",
   "execution_count": null,
   "metadata": {},
   "outputs": [],
   "source": []
  },
  {
   "cell_type": "code",
   "execution_count": 13,
   "metadata": {},
   "outputs": [
    {
     "data": {
      "text/plain": [
       "<module 'config' from 'C:\\\\Shahar\\\\BarIlan\\\\NLP-courses\\\\89687-DL\\\\Assignment1\\\\code\\\\config.py'>"
      ]
     },
     "execution_count": 13,
     "metadata": {},
     "output_type": "execute_result"
    }
   ],
   "source": [
    "import utils\n",
    "import config\n",
    "importlib.reload(utils)\n",
    "importlib.reload(config)"
   ]
  },
  {
   "cell_type": "code",
   "execution_count": 107,
   "metadata": {},
   "outputs": [],
   "source": [
    "a=utils.read_data(config.filename_dev)"
   ]
  },
  {
   "cell_type": "code",
   "execution_count": 109,
   "metadata": {},
   "outputs": [
    {
     "data": {
      "text/plain": [
       "[('it', '@_marrymezayn sì, perché non suoni abbastanza con lui çç (?)'),\n",
       " ('nl', 'sooo ik heb ook lang niet meer met @yordyadacruz getakkie'),\n",
       " ('es', 'desde arriba se ve todo mejor  http://t.co/cwogyapy'),\n",
       " ('de', 'lieder. erinnerungen. freude & wehmut.'),\n",
       " ('nl',\n",
       "  '@debatop2 dat is tevens ook de kracht van het #cda dat het een middenpartij is, gewoon 1 cda houden dus!'),\n",
       " ('nl',\n",
       "  'rt @tienerhumor_: beste gangsters, als jullie je broek eens omhoog zouden trekken zouden jullie harder weg kunnen rennen voor de politie ...'),\n",
       " ('it',\n",
       "  '@klairehumanoid oddio mi dispiace, io ho visto mia madre per un periodo, per fortuna è passato'),\n",
       " ('de',\n",
       "  '@yini78 das ist aber in ganz de so. im winter werden die gräber fast überall mit tanne abgedeckt. wohnst du in finsterwalde? :))'),\n",
       " ('nl', '@talkrih_hirtalk had het over mensen van me klas'),\n",
       " ('it', \"ok prossima missione:comprare sorrisi e canzoni :')\")]"
      ]
     },
     "execution_count": 109,
     "metadata": {},
     "output_type": "execute_result"
    }
   ],
   "source": [
    "a[:10]"
   ]
  },
  {
   "cell_type": "code",
   "execution_count": 110,
   "metadata": {},
   "outputs": [
    {
     "data": {
      "text/plain": [
       "['@_',\n",
       " '_m',\n",
       " 'ma',\n",
       " 'ar',\n",
       " 'rr',\n",
       " 'ry',\n",
       " 'ym',\n",
       " 'me',\n",
       " 'ez',\n",
       " 'za',\n",
       " 'ay',\n",
       " 'yn',\n",
       " 'n ',\n",
       " ' s',\n",
       " 'sì',\n",
       " 'ì,',\n",
       " ', ',\n",
       " ' p',\n",
       " 'pe',\n",
       " 'er',\n",
       " 'rc',\n",
       " 'ch',\n",
       " 'hé',\n",
       " 'é ',\n",
       " ' n',\n",
       " 'no',\n",
       " 'on',\n",
       " 'n ',\n",
       " ' s',\n",
       " 'su',\n",
       " 'uo',\n",
       " 'on',\n",
       " 'ni',\n",
       " 'i ',\n",
       " ' a',\n",
       " 'ab',\n",
       " 'bb',\n",
       " 'ba',\n",
       " 'as',\n",
       " 'st',\n",
       " 'ta',\n",
       " 'an',\n",
       " 'nz',\n",
       " 'za',\n",
       " 'a ',\n",
       " ' c',\n",
       " 'co',\n",
       " 'on',\n",
       " 'n ',\n",
       " ' l',\n",
       " 'lu',\n",
       " 'ui',\n",
       " 'i ',\n",
       " ' ç',\n",
       " 'çç',\n",
       " 'ç ',\n",
       " ' (',\n",
       " '(?',\n",
       " '?)']"
      ]
     },
     "execution_count": 110,
     "metadata": {},
     "output_type": "execute_result"
    }
   ],
   "source": [
    "utils.text_to_bigrams(a[0][1])"
   ]
  },
  {
   "cell_type": "code",
   "execution_count": 117,
   "metadata": {},
   "outputs": [
    {
     "name": "stdout",
     "output_type": "stream",
     "text": [
      "Counter({'a': 2, 'b': 1, 'c': 1, 'd': 1, 'x': 1})\n"
     ]
    }
   ],
   "source": [
    "from collections import Counter\n",
    "f=Counter()\n",
    "f.update(['a','b','c'])\n",
    "f.update(['a','d','x'])\n",
    "print(f)"
   ]
  },
  {
   "cell_type": "code",
   "execution_count": 116,
   "metadata": {},
   "outputs": [
    {
     "data": {
      "text/plain": [
       "{0: 'a', 1: 'c', 2: 'x', 3: 'b', 4: 'd'}"
      ]
     },
     "execution_count": 116,
     "metadata": {},
     "output_type": "execute_result"
    }
   ],
   "source": [
    "{i:x for i,x in enumerate(f)}"
   ]
  },
  {
   "cell_type": "code",
   "execution_count": 119,
   "metadata": {},
   "outputs": [
    {
     "data": {
      "text/plain": [
       "{'a': 2}"
      ]
     },
     "execution_count": 119,
     "metadata": {},
     "output_type": "execute_result"
    }
   ],
   "source": [
    "{x:y for x,y in f.most_common(1)}"
   ]
  },
  {
   "cell_type": "code",
   "execution_count": 120,
   "metadata": {},
   "outputs": [
    {
     "data": {
      "text/plain": [
       "array([0., 0., 0., 0., 0.])"
      ]
     },
     "execution_count": 120,
     "metadata": {},
     "output_type": "execute_result"
    }
   ],
   "source": [
    "np.zeros(5, np.double)"
   ]
  },
  {
   "cell_type": "code",
   "execution_count": 212,
   "metadata": {},
   "outputs": [
    {
     "data": {
      "text/plain": [
       "<module 'loglinear' from 'C:\\\\Shahar\\\\BarIlan\\\\NLP-courses\\\\89687-DL\\\\Assignment1\\\\code\\\\loglinear.py'>"
      ]
     },
     "execution_count": 212,
     "metadata": {},
     "output_type": "execute_result"
    }
   ],
   "source": [
    "import utils\n",
    "import train_loglin as tl\n",
    "import config\n",
    "import loglinear as ll\n",
    "importlib.reload(utils)\n",
    "importlib.reload(tl)\n",
    "importlib.reload(config)\n",
    "importlib.reload(ll)"
   ]
  },
  {
   "cell_type": "code",
   "execution_count": 213,
   "metadata": {},
   "outputs": [
    {
     "name": "stdout",
     "output_type": "stream",
     "text": [
      "problem dimensions are: (600, 6)\n"
     ]
    }
   ],
   "source": [
    "train_data = utils.read_data(config.filename_train)\n",
    "symbol_dict = tl.initialize_symbol_dict(train_data)\n",
    "label_dict = tl.initialize_label_dict(train_data)\n",
    "xy_train = list(tl.xy_generator(train_data, utils.text_to_bigrams, symbol_dict, label_dict))\n",
    "\n",
    "dev_data = utils.read_data(config.filename_dev)\n",
    "xy_dev = list(tl.xy_generator(dev_data, utils.text_to_bigrams, symbol_dict, label_dict))\n",
    "in_dim = min(config.max_count, len(symbol_dict))\n",
    "out_dim = len(label_dict)\n",
    "print(\"problem dimensions are: {}\".format((in_dim, out_dim)))\n"
   ]
  },
  {
   "cell_type": "code",
   "execution_count": 214,
   "metadata": {},
   "outputs": [
    {
     "name": "stdout",
     "output_type": "stream",
     "text": [
      "yhat counter: Counter({4: 417, 3: 394, 5: 387, 0: 382, 1: 382, 2: 372})\n",
      "yhat counter: Counter({2: 56, 1: 51, 3: 50, 4: 49, 0: 47, 5: 47})\n",
      "I 0, train_loss [[0.177866]], train_accuracy 0.9451585261353899, dev_accuracy 0.8666666666666667, grads [[ 0.01268527 -0.16294542  0.00279707  0.12843345  0.00060814  0.01842149]]\n",
      "yhat counter: Counter({0: 396, 3: 394, 1: 393, 2: 389, 5: 384, 4: 378})\n",
      "yhat counter: Counter({1: 60, 2: 55, 0: 50, 3: 48, 5: 45, 4: 42})\n",
      "I 1, train_loss [[0.17209816]], train_accuracy 0.967866323907455, dev_accuracy 0.8433333333333334, grads [[ 0.00601897  0.00272223  0.1094102   0.0261935   0.01375858 -0.15810347]]\n",
      "yhat counter: Counter({5: 402, 3: 396, 4: 392, 0: 390, 2: 383, 1: 371})\n",
      "yhat counter: Counter({2: 53, 5: 53, 1: 51, 3: 50, 0: 48, 4: 45})\n",
      "I 2, train_loss [[0.02091245]], train_accuracy 0.9772922022279349, dev_accuracy 0.84, grads [[ 1.55871821e-06  6.76082927e-08  2.03227678e-02  2.96948030e-05\n",
      "  -2.06953056e-02  3.41216600e-04]]\n",
      "yhat counter: Counter({5: 408, 1: 390, 4: 386, 3: 385, 2: 385, 0: 380})\n",
      "yhat counter: Counter({2: 56, 5: 55, 1: 53, 0: 46, 3: 46, 4: 44})\n",
      "I 3, train_loss [[0.01099574]], train_accuracy 0.9832904884318766, dev_accuracy 0.8633333333333333, grads [[ 0.00813365  0.00034547  0.00057817  0.0002781  -0.0109355   0.00160012]]\n",
      "yhat counter: Counter({0: 396, 5: 394, 3: 393, 2: 387, 4: 385, 1: 379})\n",
      "yhat counter: Counter({1: 56, 2: 53, 0: 53, 3: 49, 5: 45, 4: 44})\n",
      "I 4, train_loss [[0.00121073]], train_accuracy 0.9892887746358183, dev_accuracy 0.8466666666666667, grads [[ 1.62394535e-04  2.76757063e-05 -1.20999841e-03  7.57682301e-04\n",
      "   7.73394985e-07  2.61472471e-04]]\n",
      "yhat counter: Counter({3: 397, 5: 392, 0: 390, 1: 388, 4: 384, 2: 383})\n",
      "yhat counter: Counter({1: 57, 2: 53, 0: 53, 3: 48, 5: 45, 4: 44})\n",
      "I 5, train_loss [[4.77992963e-08]], train_accuracy 0.9940017137960583, dev_accuracy 0.8533333333333334, grads [[ 4.75615338e-08  1.16224302e-10  4.83261369e-13  1.21912403e-11\n",
      "   1.08862616e-10 -4.77992952e-08]]\n",
      "yhat counter: Counter({5: 393, 3: 393, 0: 388, 1: 388, 2: 387, 4: 385})\n",
      "yhat counter: Counter({1: 56, 2: 54, 0: 51, 5: 48, 3: 48, 4: 43})\n",
      "I 6, train_loss [[1.33594025e-10]], train_accuracy 0.9961439588688946, dev_accuracy 0.8533333333333334, grads [[ 9.45689739e-11  3.78977037e-11  1.93333824e-13  9.21447566e-13\n",
      "   1.25621071e-14 -1.33594025e-10]]\n",
      "yhat counter: Counter({5: 393, 3: 391, 2: 389, 1: 388, 0: 388, 4: 385})\n",
      "yhat counter: Counter({1: 57, 2: 56, 0: 53, 3: 47, 5: 46, 4: 41})\n",
      "I 7, train_loss [[0.00071513]], train_accuracy 0.9970008568980291, dev_accuracy 0.84, grads [[-7.14872205e-04  3.10652740e-09  3.81228096e-06  1.88700350e-07\n",
      "   1.06362765e-05  7.00231841e-04]]\n",
      "yhat counter: Counter({3: 393, 5: 392, 2: 390, 0: 389, 1: 386, 4: 384})\n",
      "yhat counter: Counter({2: 56, 1: 55, 0: 52, 5: 49, 3: 46, 4: 42})\n",
      "I 8, train_loss [[7.17253789e-05]], train_accuracy 0.998286203941731, dev_accuracy 0.8566666666666667, grads [[-7.17228067e-05  7.05727948e-05  8.52828331e-08  1.03860945e-08\n",
      "   2.22721492e-09  1.05211571e-06]]\n",
      "yhat counter: Counter({5: 393, 3: 392, 0: 389, 2: 389, 1: 386, 4: 385})\n",
      "yhat counter: Counter({2: 58, 1: 57, 0: 51, 5: 47, 3: 45, 4: 42})\n",
      "I 9, train_loss [[0.00187934]], train_accuracy 0.9991431019708654, dev_accuracy 0.85, grads [[-1.87757126e-03  1.85115329e-03  4.48005951e-06  8.57782899e-06\n",
      "   1.07875262e-08  1.33492885e-05]]\n",
      "yhat counter: Counter({5: 394, 2: 392, 3: 392, 0: 389, 4: 385, 1: 382})\n",
      "yhat counter: Counter({1: 56, 2: 56, 0: 50, 5: 49, 3: 46, 4: 43})\n",
      "I 10, train_loss [[1.76537859e-05]], train_accuracy 0.9978577549271637, dev_accuracy 0.85, grads [[ 7.30210455e-12  4.81580787e-06  9.65581671e-06 -1.76536301e-05\n",
      "   3.03328995e-06  1.48708226e-07]]\n",
      "yhat counter: Counter({5: 393, 3: 392, 0: 389, 2: 389, 1: 386, 4: 385})\n",
      "yhat counter: Counter({1: 59, 2: 58, 0: 49, 3: 47, 5: 45, 4: 42})\n",
      "I 11, train_loss [[0.01944857]], train_accuracy 0.9991431019708654, dev_accuracy 0.8466666666666667, grads [[ 2.85314738e-04  1.17663852e-02  9.31651646e-06  7.19565519e-03\n",
      "   3.99029472e-06 -1.92606620e-02]]\n",
      "yhat counter: Counter({5: 394, 3: 392, 2: 389, 0: 389, 1: 385, 4: 385})\n",
      "yhat counter: Counter({1: 57, 2: 57, 0: 51, 3: 47, 5: 46, 4: 42})\n",
      "I 12, train_loss [[0.00454801]], train_accuracy 0.9995715509854327, dev_accuracy 0.8433333333333334, grads [[ 0.00192498 -0.00453769  0.00021625  0.00040415  0.00015803  0.00183428]]\n",
      "yhat counter: Counter({5: 394, 3: 392, 2: 389, 0: 389, 4: 385, 1: 385})\n",
      "yhat counter: Counter({1: 58, 2: 58, 0: 50, 5: 47, 3: 45, 4: 42})\n",
      "I 13, train_loss [[4.57162469e-07]], train_accuracy 0.9995715509854327, dev_accuracy 0.8533333333333334, grads [[ 4.57154544e-07 -4.57162365e-07  6.57824633e-18  7.82096206e-12\n",
      "   1.00668797e-20  9.11018718e-17]]\n",
      "yhat counter: Counter({5: 394, 3: 392, 0: 389, 2: 389, 1: 385, 4: 385})\n",
      "yhat counter: Counter({1: 58, 2: 57, 0: 50, 5: 47, 3: 46, 4: 42})\n",
      "I 14, train_loss [[0.02580197]], train_accuracy 0.9995715509854327, dev_accuracy 0.85, grads [[ 4.11451710e-06  2.28010644e-02 -2.54719423e-02  3.90336240e-04\n",
      "   2.20459814e-03  7.18290247e-05]]\n",
      "yhat counter: Counter({5: 394, 3: 392, 2: 389, 0: 389, 4: 385, 1: 385})\n",
      "yhat counter: Counter({1: 58, 2: 57, 0: 50, 5: 47, 3: 45, 4: 43})\n",
      "I 15, train_loss [[1.22973762e-06]], train_accuracy 0.9995715509854327, dev_accuracy 0.8566666666666667, grads [[-1.22973686e-06  9.47230197e-07  2.31765924e-07  4.92872857e-08\n",
      "   9.53426342e-11  1.35811312e-09]]\n",
      "yhat counter: Counter({5: 394, 3: 392, 2: 389, 0: 389, 1: 385, 4: 385})\n",
      "yhat counter: Counter({1: 58, 2: 57, 0: 50, 5: 47, 3: 46, 4: 42})\n",
      "I 16, train_loss [[0.0323805]], train_accuracy 0.9995715509854327, dev_accuracy 0.85, grads [[ 0.0124781  -0.03186187  0.00114228  0.0085078   0.00143623  0.00829746]]\n",
      "yhat counter: Counter({5: 394, 3: 392, 0: 389, 2: 389, 1: 385, 4: 385})\n",
      "yhat counter: Counter({1: 58, 2: 57, 0: 50, 5: 47, 3: 45, 4: 43})\n",
      "I 17, train_loss [[0.46560835]], train_accuracy 0.9995715509854327, dev_accuracy 0.8566666666666667, grads [[-3.72246904e-01  3.40440649e-01  2.53042859e-02  3.02989404e-04\n",
      "   2.39408354e-04  5.95957158e-03]]\n",
      "yhat counter: Counter({5: 394, 3: 392, 2: 389, 0: 389, 1: 385, 4: 385})\n",
      "yhat counter: Counter({1: 58, 2: 58, 0: 50, 5: 47, 3: 45, 4: 42})\n",
      "I 18, train_loss [[3.43836071e-13]], train_accuracy 0.9995715509854327, dev_accuracy 0.8533333333333334, grads [[ 4.88389995e-22  7.98207319e-16  3.25630770e-13 -3.43836071e-13\n",
      "   3.46507979e-20  1.72899552e-14]]\n",
      "yhat counter: Counter({5: 394, 3: 392, 0: 389, 2: 389, 4: 385, 1: 385})\n",
      "yhat counter: Counter({1: 58, 2: 57, 0: 50, 5: 47, 3: 46, 4: 42})\n",
      "I 19, train_loss [[0.01109219]], train_accuracy 0.9995715509854327, dev_accuracy 0.85, grads [[ 5.06556359e-07  1.03617998e-02  1.18789131e-04 -1.10308965e-02\n",
      "   9.36467698e-05  4.56154284e-04]]\n"
     ]
    }
   ],
   "source": [
    "params = ll.create_classifier(in_dim, out_dim)\n",
    "trained_params = tl.train_classifier(xy_train, xy_dev, config.num_iterations, config.learning_rate, params)\n"
   ]
  },
  {
   "cell_type": "code",
   "execution_count": 141,
   "metadata": {},
   "outputs": [
    {
     "data": {
      "text/plain": [
       "2"
      ]
     },
     "execution_count": 141,
     "metadata": {},
     "output_type": "execute_result"
    }
   ],
   "source": [
    "len({'a':1,'b':2})"
   ]
  },
  {
   "cell_type": "code",
   "execution_count": 144,
   "metadata": {},
   "outputs": [
    {
     "data": {
      "text/plain": [
       "0"
      ]
     },
     "execution_count": 144,
     "metadata": {},
     "output_type": "execute_result"
    }
   ],
   "source": [
    "len(Counter(\"\").most_common())"
   ]
  },
  {
   "cell_type": "code",
   "execution_count": 150,
   "metadata": {},
   "outputs": [],
   "source": [
    "def stx():\n",
    "    yield \"a\"\n",
    "    yield \"ababcbc\"\n",
    "    yield \"uioij;km\"\n",
    "\n",
    "importlib.reload(utils)\n",
    "\n",
    "utils.save_strings_to_file(\"test.txt\",stx())"
   ]
  },
  {
   "cell_type": "code",
   "execution_count": 163,
   "metadata": {},
   "outputs": [
    {
     "name": "stdout",
     "output_type": "stream",
     "text": [
      "['rt @nieciebell04: why do i apologize to heartless people.', '@jespejo89 poco a poco :)', '@fabypederivapyp xq no le gusto q lo allan mandado a la la placa con agustina q es su mejor compania y esta muy enojado', 'je bois un blue lagoon dans mon bar coucou @kekettebleue', 'urban flash hot bars (sea... http://t.co/gostn938 via @urbanflash', 'rt @donporfiriodiaz: buenos días, hijos del plan de san luis.', \"ça fait longtemps que j'ai pas parler a @anaisecker trop longtemps !\", '@chocolatebiotch yesssssss and the instruments they use while they dance', 'on dirait que votre vie tourne autour de justin bieber ...', 'so... you like cosplays? http://t.co/jtokubmw via @9gag']\n"
     ]
    }
   ],
   "source": [
    "from os import path\n",
    "import train_loglin as tl\n",
    "importlib.reload(tl)\n",
    "cp = tl.load_test_corpus(path.join('code','test'))\n",
    "print(cp[:10])"
   ]
  },
  {
   "cell_type": "code",
   "execution_count": 156,
   "metadata": {},
   "outputs": [
    {
     "data": {
      "text/plain": [
       "'C:\\\\Shahar\\\\BarIlan\\\\NLP-courses\\\\89687-DL\\\\Assignment1'"
      ]
     },
     "execution_count": 156,
     "metadata": {},
     "output_type": "execute_result"
    }
   ],
   "source": [
    "pwd()"
   ]
  },
  {
   "cell_type": "code",
   "execution_count": 123,
   "metadata": {},
   "outputs": [
    {
     "data": {
      "text/plain": [
       "['a', '', 'b', '', '', 'c']"
      ]
     },
     "execution_count": 123,
     "metadata": {},
     "output_type": "execute_result"
    }
   ],
   "source": [
    "\"a  b   c\".split(\" \")"
   ]
  },
  {
   "cell_type": "code",
   "execution_count": 127,
   "metadata": {},
   "outputs": [
    {
     "data": {
      "text/plain": [
       "4"
      ]
     },
     "execution_count": 127,
     "metadata": {},
     "output_type": "execute_result"
    }
   ],
   "source": [
    "from collections import Counter\n",
    "Counter(\"aabbbiuuuajffa\").most_common(1)[0][1]"
   ]
  },
  {
   "cell_type": "code",
   "execution_count": 128,
   "metadata": {},
   "outputs": [],
   "source": [
    "dt = utils.read_data(config.filename_train)"
   ]
  },
  {
   "cell_type": "code",
   "execution_count": 139,
   "metadata": {},
   "outputs": [
    {
     "data": {
      "text/plain": [
       "[('voglio cantare anche io: \"celerino, figlio di putt**a!\" (acab docet)',\n",
       "  'voglio cantare anche io: \"celerino, figlio di putt**a!\" (acab docet)'),\n",
       " ('rt @canalfootclub: ne manquez pas le multiplex de la 23ème journée de premier league ce soir en direct sur canal+sport. en attendant...  ...',\n",
       "  'rt ne manquez pas le multiplex de la 23ème journée de premier league ce soir en direct sur canal+sport. en attendant... ...'),\n",
       " ('rt @nainalein: hab grad gekotzt und @sangxroyal sagt mir einfach mal so, dass meine haare toll sind.',\n",
       "  'rt hab grad gekotzt und sagt mir einfach mal so, dass meine haare toll sind.'),\n",
       " ('(19:00) heute: wolkig -- morgen: leichter regen -- übermorgen: leichter regen -- mehr: http://t.co/ytaorwsl webcam: http://t.co/2tglor19',\n",
       "  '(19:00) heute: wolkig -- morgen: leichter regen -- übermorgen: leichter regen -- mehr: webcam:'),\n",
       " ('het is ook echt om verdrietig/moe/boos van te worden!',\n",
       "  'het is ook echt om verdrietig/moe/boos van te worden!'),\n",
       " ('na ja wie bei jedem erst lernt man was mit abschluss und nach jahren hat man keinen bock mehr drauf und im mom...',\n",
       "  'na ja wie bei jedem erst lernt man was mit abschluss und nach jahren hat man keinen bock mehr drauf und im mom...'),\n",
       " ('rt @marinosinibaldi: \"il sorriso dell\\'ignoto marinaio\" tra i romanzi piu grandi del dopoguerra come lo sguardo mite e aspro, poetico e c ...',\n",
       "  'rt \"il sorriso dell\\'ignoto marinaio\" tra i romanzi piu grandi del dopoguerra come lo sguardo mite e aspro, poetico e c ...'),\n",
       " ('till brönner schmeißt juroren-job hin http://t.co/mi6v6qly  :-) gute idee',\n",
       "  'till brönner schmeißt juroren-job hin :-) gute idee'),\n",
       " (\"c'est partout le même topo  kool shen ft. jeff le nerf - les yeux dans la banlieue: http://t.co/igffthuh via @youtube\",\n",
       "  \"c'est partout le même topo kool shen ft. jeff le nerf - les yeux dans la banlieue: via\"),\n",
       " ('alexandre est celui qui a écrit la chanson: tu veux mon zizi.',\n",
       "  'alexandre est celui qui a écrit la chanson: tu veux mon zizi.'),\n",
       " (\"si possible longtemps avant ou longtemps après le tokyo dome ... histoire que ça tombe pas dans mes partiels x')\",\n",
       "  \"si possible longtemps avant ou longtemps après le tokyo dome ... histoire que ça tombe pas dans mes partiels x')\"),\n",
       " ('#batreslarespuesta por su gran trabajo y decision',\n",
       "  '#batreslarespuesta por su gran trabajo y decision'),\n",
       " ('@xrozemaarijn neej ik doe het gwn in mijn schrift hoorw. ik zeg wel dat ik geen blaadjes had ;)',\n",
       "  'neej ik doe het gwn in mijn schrift hoorw. ik zeg wel dat ik geen blaadjes had ;)'),\n",
       " ('@benzakabbalah nesia tova!! a col tov!!', 'nesia tova!! a col tov!!'),\n",
       " ('une alternative sympa à meetic ou http://t.co/igbotihk http://t.co/59bm5dj4 #rencontre #meetic #rencontreenligne',\n",
       "  'une alternative sympa à meetic ou #rencontre #meetic #rencontreenligne'),\n",
       " ('ff miky pingen', 'ff miky pingen'),\n",
       " ('@lovealisonking alis bday xx', 'alis bday xx'),\n",
       " (\"rt @one_trippynigga: i'm not ah asshole. i just don't give ah fuck a lot.\",\n",
       "  \"rt i'm not ah asshole. i just don't give ah fuck a lot.\"),\n",
       " ('@tr4nt0r kurzbeschreibung via dm.', 'kurzbeschreibung via dm.'),\n",
       " ('schönes wochenende an das @domain team :d',\n",
       "  'schönes wochenende an das team :d'),\n",
       " ('@llcool_carl im puttin this in my favorites!',\n",
       "  'im puttin this in my favorites!'),\n",
       " ('@dolafor benvenuto e benvenuti a tutti quelli che non ho potuto contattare',\n",
       "  'benvenuto e benvenuti a tutti quelli che non ho potuto contattare'),\n",
       " ('@bengui_boyka conard !enfin javoue  jsui pa nn plus une fille tre sérieuse ac les boy enfin sa depd ki apre tt je sui 1 mec en fille ahaaha',\n",
       "  'conard !enfin javoue jsui pa nn plus une fille tre sérieuse ac les boy enfin sa depd ki apre tt je sui 1 mec en fille ahaaha'),\n",
       " ('@detherion was ist das denn?', 'was ist das denn?'),\n",
       " ('lady gaga is so cool x', 'lady gaga is so cool x'),\n",
       " ('@andreaalvigini1 onorevole ma de che?', 'onorevole ma de che?'),\n",
       " ('@alebinni @late_show @raicinque ottima idea, adesso mi sposto su letterman xché mi son fuso il cervello...',\n",
       "  'ottima idea, adesso mi sposto su letterman xché mi son fuso il cervello...'),\n",
       " ('@pevixx wtf vandaag toch ook of nie', 'wtf vandaag toch ook of nie'),\n",
       " ('@enr1qu3_ @diego_arria eso, eso, eso (el chavo)',\n",
       "  'eso, eso, eso (el chavo)'),\n",
       " (\"@antonella_carra -.-'\", \"-.-'\"),\n",
       " ('iemand had in ze naam: @ politcie beuro wuahahah',\n",
       "  'iemand had in ze naam: politcie beuro wuahahah'),\n",
       " (\"@hiitchen c'est sur !!!\", \"c'est sur !!!\"),\n",
       " ('swear they have a day for anything . national peanut butter & jelly day ? #doingtoomuch',\n",
       "  'swear they have a day for anything . national peanut butter & jelly day ? #doingtoomuch'),\n",
       " (\"@soskl j'aime quand la vérité sort de la bouche d'une demoiselle\",\n",
       "  \"j'aime quand la vérité sort de la bouche d'une demoiselle\"),\n",
       " (\"je déteste quand mes parents ont les nerfs après ma sœur qui est en australie au passage et qu'ils passent leurs nerfs sur moi.\",\n",
       "  \"je déteste quand mes parents ont les nerfs après ma sœur qui est en australie au passage et qu'ils passent leurs nerfs sur moi.\"),\n",
       " (\"je comprends même pas que les snsd n'ai pas eu de bonsang oo\",\n",
       "  \"je comprends même pas que les snsd n'ai pas eu de bonsang oo\"),\n",
       " ('@theflowerfloow ah les nerfs.', 'ah les nerfs.'),\n",
       " ('rt @keeesderuiter: net met @ninowizk gefietst', 'rt net met gefietst'),\n",
       " ('(22:30) heute: wolkig -- morgen: leichter regen -- übermorgen: leichter regen -- mehr: http://t.co/ytaorwsl webcam: http://t.co/2tglor19',\n",
       "  '(22:30) heute: wolkig -- morgen: leichter regen -- übermorgen: leichter regen -- mehr: webcam:'),\n",
       " ('i just saw a commercial for a \"solar charger\".....im all set',\n",
       "  'i just saw a commercial for a \"solar all set'),\n",
       " (\"j'ai eu un hongpao de mon tuteur de stage :d\",\n",
       "  \"j'ai eu un hongpao de mon tuteur de stage :d\"),\n",
       " ('@gillibean97 try and find some wifi der :-)',\n",
       "  'try and find some wifi der :-)'),\n",
       " ('@tlemcanisarah @lemetteilelora  yacine  aparament  ryan lui a donner un coup dans la crane en fourbe  azdine il a di ke c t une bagare pouri',\n",
       "  'yacine aparament ryan lui a donner un coup dans la crane en fourbe azdine il a di ke c t une bagare pouri'),\n",
       " ('\"@daphneroorda: haha ik zat vandaag bij guy barzily van tvoh in trein\" nooo heb je zn handtekeing??',\n",
       "  '\"@daphneroorda: haha ik zat vandaag bij guy barzily van tvoh in trein\" nooo heb je zn handtekeing??'),\n",
       " (\"l'agusta conquista il mercato  le vendite registrano il +12% - il giorno - varese http://t.co/hxa2vzte\",\n",
       "  \"l'agusta conquista il mercato le vendite registrano il +12% - il giorno - varese\"),\n",
       " (\"tuve q  artar kemado --'\", \"tuve q artar kemado --'\"),\n",
       " ('@lagioiaincucina non posso.', 'non posso.'),\n",
       " ('rt @samypluas: @miwelastudillo con ud me siento tan yo :) gracias por aceptarme asi mi vida!',\n",
       "  'rt con ud me siento tan yo :) gracias por aceptarme asi mi vida!'),\n",
       " ('@leonherrera :) ya quiero que lo veas jejeje',\n",
       "  ':) ya quiero que lo veas jejeje'),\n",
       " ('incautan importante cargamento de madera preciosa http://t.co/arosobhs',\n",
       "  'incautan importante cargamento de madera preciosa'),\n",
       " ('straks stad', 'straks stad'),\n",
       " ('je sais que mon coeur ne pourra jamais te remplacer g tant voulu tenlever de mes penser * je chante &jpense à un homme* #teamzouk',\n",
       "  'je sais que mon coeur ne pourra jamais te remplacer g tant voulu tenlever de mes penser * je chante &jpense à un homme* #teamzouk'),\n",
       " ('rt @marlyn_monroe: if she is responsible for your smile, be responsible with her heart. #marlynmonroe',\n",
       "  'rt if she is responsible for your smile, be responsible with her heart. #marlynmonroe'),\n",
       " ('zij maakt grote kanss', 'zij maakt grote kanss'),\n",
       " ('@mvds_ doe maaar hihi.', 'doe maaar hihi.'),\n",
       " ('rt @lostwordss_____: who wantss myy 9oooth tweet ?? : )',\n",
       "  'rt who wantss myy 9oooth tweet ?? : )'),\n",
       " ('por si ayer no lo oísteis: http://t.co/eingr1qw #twitteroff ya hombre. que estoy ajkghjkf. nas noites.',\n",
       "  'por si ayer no lo oísteis: #twitteroff ya hombre. que estoy ajkghjkf. nas noites.'),\n",
       " ('@mrobin032009 agreed and after the day i had on friday, i should get an extra day. :/ cc @jgatzke',\n",
       "  'agreed and after the day i had on friday, i should get an extra day. :/ cc'),\n",
       " ('@frederics nicht für deutschland und nicht wegen der kälte. sonst ja :)',\n",
       "  'nicht für deutschland und nicht wegen der kälte. sonst ja :)'),\n",
       " ('rt @retweettweets__: retweet als je een litteken hebt!',\n",
       "  'rt retweet als je een litteken hebt!'),\n",
       " ('rt @that_crazy_1: @rumiko_yagami mary q sta muy loca. a mi solo me puedes azotar con tangas de elefantitos (?) lol',\n",
       "  'rt mary q sta muy loca. a mi solo me puedes azotar con tangas de elefantitos (?) lol'),\n",
       " ('@andtrap vabè, avrai almeno dato il primo bacio, su! /@tommyonweb',\n",
       "  'vabè, avrai almeno dato il primo bacio, su! /@tommyonweb'),\n",
       " ('ich hätte nie gedacht das soviel alkohol morgens an autobahnraststätten konsumiert wird.... (at raststätte hardtwald) — http://t.co/wgdytsfb',\n",
       "  'ich hätte nie gedacht das soviel alkohol morgens an konsumiert wird.... (at raststätte hardtwald) —'),\n",
       " ('daniel te nep hoor', 'daniel te nep hoor'),\n",
       " (\"@dreamsofmartina @lamarsi nooo, maaa quanto puo' essere epico questo video??? -&gt; http://t.co/aicygnz4\",\n",
       "  \"nooo, maaa quanto puo' essere epico questo video??? -&gt;\"),\n",
       " ('rt @teefor_tiana: gettin dressed i will never go to sleep at 1 ...',\n",
       "  'rt gettin dressed i will never go to sleep at 1 ...'),\n",
       " ('ist schreiben eine persönliche therapie? sind interne konflikte eine kreative antriebskraft?',\n",
       "  'ist schreiben eine persönliche therapie? sind interne konflikte eine kreative antriebskraft?'),\n",
       " (\"hahaha nou zo'n avond heb ik nog nooit meegemaakt hoor!\",\n",
       "  \"hahaha nou zo'n avond heb ik nog nooit meegemaakt hoor!\"),\n",
       " (\"@deyyateyya dan neh bung :p seriously, i'm not sure of going to the big match even. second shy gets priority.\",\n",
       "  \"dan neh bung :p seriously, i'm not sure of going to the big match even. second shy gets priority.\"),\n",
       " ('@diondewaal.    wat kijk je nu ?', 'wat kijk je nu ?'),\n",
       " ('what would you do. if you were blamed for something you had completely no idea about. and not given a chance to explain.',\n",
       "  'what would you do. if you were blamed for something you had completely no idea about. and not given a chance to explain.'),\n",
       " ('25 ans je crois pas ^^  (@stuffweallget_ live on http://t.co/enmhmpxq)',\n",
       "  '25 ans je crois pas ^^ (@stuffweallget_ live on'),\n",
       " ('@cristiamm17 ma freco????? oh god x_x jajaja i like it :p y @jennmatos_ si vete a acota :p',\n",
       "  'ma oh god x_x jajaja i like it :p y si vete a acota :p'),\n",
       " ('top - forum sucht eure unterstützung -&gt; http://t.co/0btemelw &lt;- interessante story und nette player + admins erwarten euch ;',\n",
       "  'top - forum sucht eure unterstützung -&gt; &lt;- interessante story und nette player + admins erwarten euch ;'),\n",
       " ('goodmorning (: . . . my night &gt;&gt;&gt;&gt; &lt;3',\n",
       "  'goodmorning (: . . . my night &gt;&gt;&gt;&gt; &lt;3'),\n",
       " ('@esme__x doet raar', 'doet raar'),\n",
       " ('babywiege stubenbett kinderbett inkl. zubehör gelb: unsere babywiege, der ort für ruhe, geborgenheit und den erh... http://t.co/lgmubv1y',\n",
       "  'babywiege stubenbett kinderbett inkl. zubehör gelb: unsere babywiege, der ort für ruhe, geborgenheit und den erh...'),\n",
       " ('going back to sleep busy day lolz', 'going back to sleep busy day lolz'),\n",
       " ('#weltknuddeltag ? dann muss das kind wohl heute dran glauben...',\n",
       "  '#weltknuddeltag ? dann muss das kind wohl heute dran glauben...'),\n",
       " ('ik haat uien snijden', 'ik haat uien snijden'),\n",
       " (\"rt @henrikaufman: les pub tv pendant le superbowl d'hier soir. certaines ont atteint des score faramineux ! http://t.co/hrihwe1g\",\n",
       "  \"rt les pub tv pendant le superbowl d'hier soir. certaines ont atteint des score faramineux !\"),\n",
       " ('rt @mariocalabresi: la lega fa la sua terza capriola in un anno su #cosentino: prima da difendere, ieri da arrestare, oggi per #bossi di ...',\n",
       "  'rt la lega fa la sua terza capriola in un anno su #cosentino: prima da difendere, ieri da arrestare, oggi per #bossi di ...'),\n",
       " ('i dnt have to talk about you , you jst bein youself says every thing bitch !',\n",
       "  'i dnt have to talk about you , you jst bein youself says every thing bitch !'),\n",
       " ('poinx - offerta palermo - pizzerie: menù pizza a 11.00 eur invece di 22.00 #di #il #euro #+ #pizza /',\n",
       "  'poinx - offerta palermo - pizzerie: menù pizza a 11.00 eur invece di 22.00 #di #il #euro #+ #pizza /'),\n",
       " ('mélodie : aujourd\\'hui sur paris on m\\'a reconnue quand on a dit \"melodimoitout\" . mon heure de gloire',\n",
       "  'mélodie : aujourd\\'hui sur paris on m\\'a reconnue quand on a dit \"melodimoitout\" . mon heure de gloire'),\n",
       " ('@chiccasoloxpoki (te lo dico sottovoce: sto cazzo..)',\n",
       "  '(te lo dico sottovoce: sto cazzo..)'),\n",
       " ('rt @amber_wise5: fox report: rams to hire jeff fisher as coach http://t.co/zuxwmuhe',\n",
       "  'rt fox report: rams to hire jeff fisher as coach'),\n",
       " (\"@sheisunbroken_ oddio quella scena çç quel telefilm rimarrà nella storia :')\",\n",
       "  \"oddio quella scena çç quel telefilm rimarrà nella storia :')\"),\n",
       " (\"devo dire che mr fantastic ha un sacco di parole eh :')\",\n",
       "  \"devo dire che mr fantastic ha un sacco di parole eh :')\"),\n",
       " ('rt @nicolechanelb: @ilusso ay :$ yo hice eso una vez y fue bacaaan .b',\n",
       "  'rt ay :$ yo hice eso una vez y fue bacaaan .b'),\n",
       " ('2x14 recupero! #pll http://t.co/wpebzqbi @getglue @abcfpll',\n",
       "  '2x14 recupero! #pll'),\n",
       " ('@frederics damals, ja damals, im wahlkampf 83, war es noch viel kälter und heraus kam kohl!',\n",
       "  'damals, ja damals, im wahlkampf 83, war es noch viel kälter und heraus kam kohl!'),\n",
       " ('@fuckmepumps_ grave!!!!! en plus de tomber que sur des bâtards! #teamtoutseul',\n",
       "  'en plus de tomber que sur des bâtards! #teamtoutseul'),\n",
       " ('@lemetteilelora pourri alors moi je veu le vrai kfc',\n",
       "  'pourri alors moi je veu le vrai kfc'),\n",
       " ('a thought since ihs and know its gone i said it',\n",
       "  'a thought since ihs and know its gone i said it'),\n",
       " ('@__roger_smith__ @denismartins09 : \"on va taxer les riches !\" quel programme ! moi je préfère faire plus de riches et moins de pauvres !',\n",
       "  ': \"on va taxer les riches !\" quel programme ! moi je préfère faire plus de riches et moins de pauvres !'),\n",
       " ('http://t.co/mdrngpnj - chaudtentation hei? weiber | geile fotzen... #sexcam #ficken',\n",
       "  '- chaudtentation hei? weiber | geile fotzen... #sexcam #ficken'),\n",
       " ('podes la 94.3 en http://t.co/af97fyhx', 'podes la 94.3 en'),\n",
       " ('i have to change the news channel ...',\n",
       "  'i have to change the news channel ...'),\n",
       " ('#thingsiheareveryday omg your feet are so tiny is that like a 2 ?? .... uh no its a 3 thank you !',\n",
       "  '#thingsiheareveryday omg your feet are so tiny is that like a 2 ?? .... uh no its a 3 thank you !'),\n",
       " ('“@dame_da_great1 dear magic,  your play by play analysis is terrible!!! that is all. sincerely, the management”... ctfu',\n",
       "  '“@dame_da_great1 dear magic, your play by play analysis is terrible!!! that is all. sincerely, the management”... ctfu'),\n",
       " (\"@cynthiagaza alors la tradition veut qu'on partage 3joints de weed ensemble\",\n",
       "  \"alors la tradition veut qu'on partage 3joints de weed ensemble\"),\n",
       " ('@sheyra_ mdrrrr dis lui ! bientôt va y avoir des \"tchiip\" pour embiancer ses sons ! *rom tchip tchip tchip* nouveau concept. #bailsdeniafs',\n",
       "  'mdrrrr dis lui ! bientôt va y avoir des \"tchiip\" pour embiancer ses sons ! *rom tchip tchip tchip* nouveau concept. #bailsdeniafs'),\n",
       " ('vanavond vroegg slapen', 'vanavond vroegg slapen'),\n",
       " ('damn.', ''),\n",
       " ('rt @youreporter: #incidente a milano: vigile travolto e ucciso da suv http://t.co/prvay7vi',\n",
       "  'rt #incidente a milano: vigile travolto e ucciso da suv'),\n",
       " ('wieder mal geil 1: komm knete meine titten http://t.co/r5lrv6hm',\n",
       "  'wieder mal geil 1: komm knete meine titten'),\n",
       " (\"rt @don_carita: yo' me seguire dando a respetar me vale verga lo qe piensen .l.\",\n",
       "  \"rt yo' me seguire dando a respetar me vale verga lo qe piensen .l.\"),\n",
       " ('@marieladeaza bien lo dijo sabina: \"19 días y 500 noches\"',\n",
       "  'bien lo dijo sabina: \"19 días y 500 noches\"'),\n",
       " ('¿algún follower sabe de lo lógica? exactamente sobre juicios tradicionales .-.',\n",
       "  '¿algún follower sabe de lo lógica? exactamente sobre juicios tradicionales .-.'),\n",
       " ('s/o to the sex, the weed, the alcohol, all this money for school.... and ehmm, my followers too :-)',\n",
       "  's/o to the sex, the weed, the alcohol, all this money for school.... and ehmm, my followers too :-)'),\n",
       " ('on est samedi, il fait -10, on fait quoi ?',\n",
       "  'on est samedi, il fait -10, on fait quoi ?'),\n",
       " ('domandare è lecito, rispondere è cortesia... ma a volte mandare a fare in culo è una soddisfazione!!!',\n",
       "  'domandare è lecito, rispondere è cortesia... ma a volte mandare a fare in culo è una soddisfazione!!!'),\n",
       " (\"i'm getting tired a wittle bit lol\", \"i'm getting tired a wittle bit lol\"),\n",
       " ('je mange du gâteau. ( cc @mael_v )', 'je mange du gâteau. ( cc )'),\n",
       " (\"rt @francobechis: monti sta facendo aspettare la merkel che e' li' come uno stoccafisso davanti al tappeto rosso. le farà cucù all'impro ...\",\n",
       "  \"rt monti sta facendo aspettare la merkel che e' li' come uno stoccafisso davanti al tappeto rosso. le farà cucù all'impro ...\"),\n",
       " ('whatsapp y @whygarcia no dejando que me vaya a dormir porque no te sé.',\n",
       "  'whatsapp y no dejando que me vaya a dormir porque no te sé.'),\n",
       " ('mt-online :: hille: überfall auf np-markt - mann droht mitarbeitern mit waffe und fesselt sie http://t.co/ciyf1jwx #mt #owl',\n",
       "  'mt-online :: hille: überfall auf np-markt - mann droht mitarbeitern mit waffe und fesselt sie #mt #owl'),\n",
       " ('singing in different languages is cool as fuck either way.',\n",
       "  'singing in different languages is cool as fuck either way.'),\n",
       " ('i need a new app cuz dis 1 is mad late on shxt',\n",
       "  'i need a new app cuz dis 1 is mad late on shxt'),\n",
       " ('wanna play kirby or s/t', 'wanna play kirby or s/t'),\n",
       " ('never hurts to be polite or speak your mind',\n",
       "  'never hurts to be polite or speak your mind'),\n",
       " ('mein erstes fick-video für euch: ich hatte kein geld meinen kameramann zu bezahlen. also bo... http://t.co/kqzggf0f http://t.co/yzox8iy0',\n",
       "  'mein erstes fick-video für euch: ich hatte kein geld meinen kameramann zu bezahlen. also bo...'),\n",
       " ('ik kan veel meer alleen tweet niet meer zoveel',\n",
       "  'ik kan veel meer alleen tweet niet meer zoveel'),\n",
       " ('ff brood maken voor school', 'ff brood maken voor school'),\n",
       " ('\"@linkdedownie: wie heeft duidelijk nog nooit gehoord van deodorant? #linkdedownie\" @mereltwitterloos',\n",
       "  '\"@linkdedownie: wie heeft duidelijk nog nooit gehoord van deodorant? #linkdedownie\"'),\n",
       " ('@bbeii_u les partiels ca a ete ?', 'les partiels ca a ete ?'),\n",
       " (\"@xnikkkiix  nee man ik bedoel ik maar ik typte 2 kk's #datzalikechtnooitdoen\",\n",
       "  \"nee man ik bedoel ik maar ik typte 2 kk's #datzalikechtnooitdoen\"),\n",
       " ('je commence a êtres malade ces pas bon signe tout sa...',\n",
       "  'je commence a êtres malade ces pas bon signe tout sa...'),\n",
       " ('@nerorimmel ci son giorni così, ti capisco eccome :(',\n",
       "  'ci son giorni così, ti capisco eccome :('),\n",
       " ('@xrozemaarijn met de trein maar het klonk wel goed dus ik denk wel dat het mag ;)',\n",
       "  'met de trein maar het klonk wel goed dus ik denk wel dat het mag ;)'),\n",
       " ('pap maakt popcorn :) #ilike', 'pap maakt popcorn :) #ilike'),\n",
       " ('heh, en nu heb ik weer de normale twiiter ?;o',\n",
       "  'heh, en nu heb ik weer de normale twiiter ?;o'),\n",
       " (\"hè le bayern là, vous faite quoi? vous vous prenez pour l'équipe de france de hand ou quoi ! azy marqué là !!!\",\n",
       "  \"hè le bayern là, vous faite quoi? vous vous prenez pour l'équipe de france de hand ou quoi ! azy marqué là !!!\"),\n",
       " ('rt @obeymywords_: \"gast, ze noemde je net blind!\" \"echt? waar is ze?!\"',\n",
       "  'rt \"gast, ze noemde je net blind!\" \"echt? waar is ze?!\"'),\n",
       " ('ya mejor me relajo, si al final voy a apoyar a #colocolo hasta el día de mi muerte ;)',\n",
       "  'ya mejor me relajo, si al final voy a apoyar a #colocolo hasta el día de mi muerte ;)'),\n",
       " (\"la prochaine tc d'etwaal faudra qu'elle parle en espagnol en vrai.. jsuis sur elle est trop sexy en parlant ! mddr\",\n",
       "  \"la prochaine tc d'etwaal faudra qu'elle parle en espagnol en vrai.. jsuis sur elle est trop sexy en parlant ! mddr\"),\n",
       " ('un motivo per non guardare #serviziopubblico ? la presenza di persone inguardabili/inascoltabili. come la #santanché',\n",
       "  'un motivo per non guardare #serviziopubblico ? la presenza di persone come la #santanché'),\n",
       " ('je dois dire que j\\'en connais quelques-unes..... si si... “@carinejallamion: \"j\\'aime les filles intellectuelles\".”',\n",
       "  'je dois dire que j\\'en connais si si... “@carinejallamion: \"j\\'aime les filles intellectuelles\".”'),\n",
       " ('benedetta sta ridendo! dovreste vederla! hahahahahah (@xsweetstyles_ live on http://t.co/6ctd0jyf)',\n",
       "  'benedetta sta ridendo! dovreste vederla! (@xsweetstyles_ live on'),\n",
       " ('rt @bengui_boyka: je casse les yeuk mais ils ont quoi de ouf les forfait free jai pas eu le temps de consulter ca moi.',\n",
       "  'rt je casse les yeuk mais ils ont quoi de ouf les forfait free jai pas eu le temps de consulter ca moi.'),\n",
       " (\"sinon j'ai remarqué que mon twitter a unfollow des gens gratos!! je reviens vite les gens, je vous retrouverai!!\",\n",
       "  \"sinon j'ai remarqué que mon twitter a unfollow des gens gratos!! je reviens vite les gens, je vous retrouverai!!\"),\n",
       " ('oh putain la couverture du canapé déchire lol #ci',\n",
       "  'oh putain la couverture du canapé déchire lol #ci'),\n",
       " ('me duele el corazon, regresa por favor, porque si tu no estas, me duele el corazon! bendito corazon jeje buena cancion para dedicar!',\n",
       "  'me duele el corazon, regresa por favor, porque si tu no estas, me duele el corazon! bendito corazon jeje buena cancion para dedicar!'),\n",
       " ('omg moet ik de muziek zachter gaan zetten omdat de kindjes liggen te slapen ;s',\n",
       "  'omg moet ik de muziek zachter gaan zetten omdat de kindjes liggen te slapen ;s'),\n",
       " ('rt @retweettweets__: retweet als je wel eens in het ziekenhuis hebt gelegen!',\n",
       "  'rt retweet als je wel eens in het ziekenhuis hebt gelegen!'),\n",
       " ('@reydepilos me hace acordar a la coca sarli,cuando se la trncaban sobre una media res \"carne sobre carne \" (que de carne)',\n",
       "  'me hace acordar a la coca sarli,cuando se la trncaban sobre una media res \"carne sobre carne \" (que de carne)'),\n",
       " ('@46rossina sera a te!!;-)', 'sera a te!!;-)'),\n",
       " ('@alexandernoyes mi vengono così tante cose da dirti, una di queste è che sei fantastico.',\n",
       "  'mi vengono così tante cose da dirti, una di queste è che sei fantastico.'),\n",
       " ('@malikafc allegri a dit que ça allait être finalement compliqué pour récupérer aquilani, pato et kpb de notre côté..',\n",
       "  'allegri a dit que ça allait être finalement compliqué pour récupérer aquilani, pato et kpb de notre côté..'),\n",
       " ('@queenii_gal kw3 .. !! wo p3 den wo ha ? &gt;̴̴̴̴̴͡.̮ơ͡',\n",
       "  'kw3 .. !! wo p3 den wo ha ?'),\n",
       " ('rt @__renejevi: ace ventura se quedo pendejo con el poco de animales que ella tiene.',\n",
       "  'rt ace ventura se quedo pendejo con el poco de animales que ella tiene.'),\n",
       " ('@alfredo_aldaz cerradisimoo', 'cerradisimoo'),\n",
       " ('@giorgiabbasso per così poco! ;) guardati su internet gli spezzoni di #serviziopubblico senza la #santanché',\n",
       "  'per così poco! ;) guardati su internet gli spezzoni di #serviziopubblico senza la #santanché'),\n",
       " ('meekijken met me vader #vi', 'meekijken met me vader #vi'),\n",
       " ('@_lovec lmao! that made my day!!', 'lmao! that made my day!!'),\n",
       " ('“@imvryrare_bitch: now im jus sittn on da toilet lbvs”lmao take yo ass to bed.',\n",
       "  '“@imvryrare_bitch: now im jus sittn on da toilet lbvs”lmao take yo ass to bed.'),\n",
       " (\"@sheyra_ bah attend, quand meme ! mais recupere ca vite, parce que quand j'mange avec la cuillère, ca part vite ! mdr\",\n",
       "  \"bah attend, quand meme ! mais recupere ca vite, parce que quand j'mange avec la cuillère, ca part vite ! mdr\"),\n",
       " ('oggi per la prima volta ho bevuto un infuso, ma per renderlo accettabile ho dovuto inondarlo di zucchero.',\n",
       "  'oggi per la prima volta ho bevuto un infuso, ma per renderlo accettabile ho dovuto inondarlo di zucchero.'),\n",
       " ('@angiecabria mmm esta bien, espero que la acepten en usac, de que cole salio usted?',\n",
       "  'mmm esta bien, espero que la acepten en usac, de que cole salio usted?'),\n",
       " (\"rt @trueleofacts: #leo's have so much warmth in their heart; and they will do anything to help a friend.\",\n",
       "  \"rt #leo's have so much warmth in their heart; and they will do anything to help a friend.\"),\n",
       " ('@marti_heart ti capisco bene, era successa la stessa cosa a me alle medie, quello che ti posso dire è che i prof spesso sono dei coglioni -',\n",
       "  'ti capisco bene, era successa la stessa cosa a me alle medie, quello che ti posso dire è che i prof spesso sono dei coglioni -'),\n",
       " ('@kellyhulleman ik ook amper', 'ik ook amper'),\n",
       " ('hollywood ist undemokratisch! #sopa #drm #dradio',\n",
       "  'hollywood ist undemokratisch! #sopa #drm #dradio'),\n",
       " ('rt @_shesnobody: @xdeadly95 ma io ho sempre fame trololol',\n",
       "  'rt ma io ho sempre fame trololol'),\n",
       " ('rt @iphrasesdiarias: nada me reconforta más que pensar en ti cuando me siento sólo.',\n",
       "  'rt nada me reconforta más que pensar en ti cuando me siento sólo.'),\n",
       " ('ich glaub ich bewerb mich auch mal bei so eimem bitch-fight #derbachelor',\n",
       "  'ich glaub ich bewerb mich auch mal bei so eimem bitch-fight #derbachelor'),\n",
       " ('@__breathtaking wie kommts? ;d', 'wie kommts? ;d'),\n",
       " ('wanna take control ? aint nothinn wrong with that :)',\n",
       "  'wanna take control ? aint nothinn wrong with that :)'),\n",
       " ('leute die um punkt 12:00uhr mittag essen...',\n",
       "  'leute die um punkt 12:00uhr mittag essen...'),\n",
       " ('@funsize_abie mornin abie', 'mornin abie'),\n",
       " ('rt @oliverdasgupta: marcel reich-ranicki spricht im bundestag anlässlich des holocaust-gedenktages. .@sz-kollege .@thodenk twittert aus  ...',\n",
       "  'rt marcel reich-ranicki spricht im bundestag anlässlich des holocaust-gedenktages. .@sz-kollege .@thodenk twittert aus ...'),\n",
       " ('omg wrm belt die gast me telkens terug #eng',\n",
       "  'omg wrm belt die gast me telkens terug #eng'),\n",
       " ('slapen #doeii #welterusten #gn #gaaaap',\n",
       "  'slapen #doeii #welterusten #gn #gaaaap'),\n",
       " (\"les gens changent... d'autres évoluent...et d'autres restent des merdes sans interêts... #cestçalavie\",\n",
       "  \"les gens changent... d'autres évoluent...et d'autres restent des merdes sans interêts... #cestçalavie\"),\n",
       " ('@iamhodgy lol yeah i knw you are !', 'lol yeah i knw you are !'),\n",
       " ('@karlitafb4 hahaha en este caso cyber risa & cybermanos yey:d!!okno hahaha ya dormire o empezare a decir incoherencias haha te amo amiga!',\n",
       "  'hahaha en este caso cyber risa & cybermanos yey:d!!okno hahaha ya dormire o empezare a decir incoherencias haha te amo amiga!'),\n",
       " ('@cleo_nick no me acuerdo de ningún turro (a)',\n",
       "  'no me acuerdo de ningún turro (a)'),\n",
       " ('@sunlight2811 hattest du mich wegen dem auge verlassen?ich bin eigentlich ein lieber manchmal verrueckt aber lieb :-)',\n",
       "  'hattest du mich wegen dem auge verlassen?ich bin eigentlich ein lieber manchmal verrueckt aber lieb :-)'),\n",
       " (\"@karimweldorff non mais c'est trop laid comment t'écris rolalala.. oui ils sont toujours ensemble t'es loin\",\n",
       "  \"non mais c'est trop laid comment t'écris rolalala.. oui ils sont toujours ensemble t'es loin\"),\n",
       " (\"i currently have 15 twitter names jotted down cause they want to be involved in ali's bday card anyone else????\",\n",
       "  \"i currently have 15 twitter names jotted down cause they want to be involved in ali's bday card anyone else????\"),\n",
       " ('j\\'ai combien de sosie ?! t.t\"', 'j\\'ai combien de sosie ?! t.t\"'),\n",
       " ('casi 2000 directioners mirando zayn arco iris malik xd',\n",
       "  'casi 2000 directioners mirando zayn arco iris malik xd'),\n",
       " ('rt \"@fleurrpluk: echt blij voor schatje @celineheijden hahaa :)\" echt super blij! hahaha',\n",
       "  'rt \"@fleurrpluk: echt blij voor schatje hahaa :)\" echt super blij! hahaha'),\n",
       " (\"500 fans whaouh merciiiiiiiiiiiii &lt;3 &lt;3 de la part de toute l'équipe des admins &lt;3 vous êtes géniaux &lt;3 alex http://t.co/wy6gms7u\",\n",
       "  \"500 fans whaouh &lt;3 &lt;3 de la part de toute l'équipe des admins &lt;3 vous êtes géniaux &lt;3 alex\"),\n",
       " ('bijna vrijheid! vast inpakken enzo...',\n",
       "  'bijna vrijheid! vast inpakken enzo...'),\n",
       " (\"à tout ce qui m'ont unfollow merci.\",\n",
       "  \"à tout ce qui m'ont unfollow merci.\"),\n",
       " ('@mamzelmaysi @jackyt91 aaaah go checker sur facebook! le plagiat nourrituriel...',\n",
       "  'aaaah go checker sur facebook! le plagiat nourrituriel...'),\n",
       " (\"@deborah_om_ c'est sur c'est dur ... surtout que c'est du 3x500 :p\",\n",
       "  \"c'est sur c'est dur ... surtout que c'est du 3x500 :p\"),\n",
       " ('pasaron pariendo y con el gol mas mierdero que he visto en mi vida. rt @meridianotv #copadelrey: real madrid 1 - 0 málaga / (final)',\n",
       "  'pasaron pariendo y con el gol mas mierdero que he visto en mi vida. rt #copadelrey: real madrid 1 - 0 málaga / (final)'),\n",
       " ('rt @lynzway: flat tire. wolves and limbs are a hot topic at my art studio. the b is angry and fat and im loving it. she is becoming a sa ...',\n",
       "  'rt flat tire. wolves and limbs are a hot topic at my art studio. the b is angry and fat and im loving it. she is becoming a sa ...'),\n",
       " ('slam fm luisteren!', 'slam fm luisteren!'),\n",
       " ('@shadamk @belencita33 @natiufan totalmente de acuerdo ahora q somos libres...',\n",
       "  'totalmente de acuerdo ahora q somos libres...'),\n",
       " ('@awa_ wena po! ya entendiste la wea entonce',\n",
       "  'wena po! ya entendiste la wea entonce'),\n",
       " ('@thyss5 ja okay das waar, maar bij de dokter is wel kut! waar ga je trouwens?',\n",
       "  'ja okay das waar, maar bij de dokter is wel kut! waar ga je trouwens?'),\n",
       " ('después me estaré quejan do por tanta tarea☺ #ironico',\n",
       "  'después me estaré quejan do por tanta tarea☺ #ironico'),\n",
       " ('@phosphatstange das \"desfischersfrau-syndrom\"',\n",
       "  'das \"desfischersfrau-syndrom\"'),\n",
       " ('rt @makkagnom: @valepmeyer guardare le tue foto profilo nuoce alla salute #sallo :d',\n",
       "  'rt guardare le tue foto profilo nuoce alla salute #sallo :d'),\n",
       " (\"papa smurf stop giving me missions you controlling fuck, can't even harvest my crops in peace\",\n",
       "  \"papa smurf stop giving me missions you controlling fuck, can't even harvest my crops in peace\"),\n",
       " ('battlestar galactica multiplayer space-game http://t.co/eksdqjh1 das multiplayer space-game battlestar galactica spielt in einer  #3d-grafik',\n",
       "  'battlestar galactica multiplayer space-game das multiplayer space-game battlestar galactica spielt in einer #3d-grafik'),\n",
       " ('@lovatoshair chiedigliela! e.e (?)', 'chiedigliela! e.e (?)'),\n",
       " (\"vado sul sito dell'inter\", \"vado sul sito dell'inter\"),\n",
       " ('@france2tv laurent voulzy aurait du dédicacé ses photos au bord de la voulzie à provins ! est-ce de là que vient son probable pseudo ?',\n",
       "  'laurent voulzy aurait du dédicacé ses photos au bord de la voulzie à provins ! est-ce de là que vient son probable pseudo ?'),\n",
       " (\"trust me .. u dun wanna knw .. rt @l_kutho: @soulpee bahaahaaa... and what's the hard way?\",\n",
       "  \"trust me .. u dun wanna knw .. rt and what's the hard way?\"),\n",
       " ('@jkleceleste @kershouw ptdrrrrrrr tkt sa reste entre nous',\n",
       "  'tkt sa reste entre nous'),\n",
       " ('@xkusjeqina hahah iik kom gelykkgelykk !☺',\n",
       "  'hahah iik kom gelykkgelykk !☺'),\n",
       " (', yo shyheim getting unfollowed :-)',\n",
       "  ', yo shyheim getting unfollowed :-)'),\n",
       " (\"@minnie_bg be uno che ci ama già c'è..... l'unica luce... non so cosa voglio in verità, forse solo cose che ho perso da piccolo\",\n",
       "  \"be uno che ci ama già l'unica luce... non so cosa voglio in verità, forse solo cose che ho perso da piccolo\"),\n",
       " (\"l'aspetto potrebbe essere non dei migliori, ma ciò che conta è il gusto, il sapore... http://t.co/5momugzv\",\n",
       "  \"l'aspetto potrebbe essere non dei migliori, ma ciò che conta è il gusto, il sapore...\"),\n",
       " ('“@sofiayounusi14: @iriskooke -.-” :0 ?', '“@sofiayounusi14: -.-” :0 ?'),\n",
       " (\"versione studentessa disperata -.-''  hehe (con tanto di felpone universitario). http://t.co/jb86rbhx\",\n",
       "  \"versione studentessa disperata -.-'' hehe (con tanto di felpone universitario).\"),\n",
       " (\"aaaah mais qu'est ce que j'aime quand il y a plein de noms de connecté sur le forum *o*\",\n",
       "  \"aaaah mais qu'est ce que j'aime quand il y a plein de noms de connecté sur le forum *o*\"),\n",
       " (\"@villapiano82 mbe' si, lo tenuto nei dm un paio di giorni pensavo che una volti ci eri andato, poi l'ho cancellato. . .\",\n",
       "  \"mbe' si, lo tenuto nei dm un paio di giorni pensavo che una volti ci eri andato, poi l'ho cancellato. . .\"),\n",
       " ('@angiecabria :$ ok ya me convencio! pero tendria que ver como se xivea ntt haha! le confieso algo?',\n",
       "  ':$ ok ya me convencio! pero tendria que ver como se xivea ntt haha! le confieso algo?'),\n",
       " (\"una buona applicazione iphone per gestire l'iscrizione ai gruppi usenet?\",\n",
       "  \"una buona applicazione iphone per gestire l'iscrizione ai gruppi usenet?\"),\n",
       " (\"a città è cupa ma non è questo che mi preoccupa, c'e un spirito che si aggira pronto a scatenare la sua ira! #raprobamia\",\n",
       "  \"a città è cupa ma non è questo che mi preoccupa, c'e un spirito che si aggira pronto a scatenare la sua ira! #raprobamia\"),\n",
       " ('rt@___ley faye need to hmu.', 'rt@___ley faye need to hmu.'),\n",
       " ('@_rafa_garcia pompi!:o ya todo un quinceañero baby:3 felicidades tequiero demasiado♥',\n",
       "  'pompi!:o ya todo un quinceañero baby:3 felicidades tequiero demasiado♥'),\n",
       " (\"whatever happened yesterday forget about it its in the past..today's a new day make it count!\",\n",
       "  \"whatever happened yesterday forget about it its in the past..today's a new day make it count!\"),\n",
       " (\"when someone calls u & u missed they call then u call thm right back & they don't answer -___-\",\n",
       "  \"when someone calls u & u missed they call then u call thm right back & they don't answer -___-\"),\n",
       " ('mes articulations au niveau des épaules sont bloquées . #aiie',\n",
       "  'mes articulations au niveau des épaules sont bloquées . #aiie'),\n",
       " ('morgen naar uden #winkelen', 'morgen naar uden #winkelen'),\n",
       " ('@gladbachermadl die haben halt keine \"persönliche bf\" ;)',\n",
       "  'die haben halt keine \"persönliche bf\" ;)'),\n",
       " ('@loxo74 ich mag meine follower ;) außer die bots ^^ die die ich habe wissen mich zu schätzen und das reicht :)',\n",
       "  'ich mag meine follower ;) außer die bots ^^ die die ich habe wissen mich zu schätzen und das reicht :)'),\n",
       " ('#twitter è impazzito! mi si è impallato anche il pc! #sticazzi',\n",
       "  '#twitter è impazzito! mi si è impallato anche il pc! #sticazzi'),\n",
       " ('that shit crayy (x lol', 'that shit crayy (x lol'),\n",
       " ('@saveumfootball lockhart following me too. #canesfam',\n",
       "  'lockhart following me too. #canesfam'),\n",
       " (\"@giacomoghezzo http://t.co/yqnkqkp9 :'(\", \":'(\"),\n",
       " ('@andtrap (tu mi turbi) e comunque io e @tommyonweb eravamo dei piccoli pargoli!  :d',\n",
       "  '(tu mi turbi) e comunque io e eravamo dei piccoli pargoli! :d'),\n",
       " (\"@villepin les réalités quotidiennes que vivent les français, c'est : ras-le-bol l'euro, et ras-le-bol l'invasion d'immigrés !\",\n",
       "  \"les réalités quotidiennes que vivent les français, c'est : ras-le-bol l'euro, et ras-le-bol l'invasion d'immigrés !\"),\n",
       " (\"rt @claudiovelardi: con la piazza e con monti, contro l'art.18 e pro-camionisti. gli italiani nei fantasiosi sondaggi di rep. e corr. so ...\",\n",
       "  \"rt con la piazza e con monti, contro l'art.18 e pro-camionisti. gli italiani nei fantasiosi sondaggi di rep. e corr. so ...\"),\n",
       " ('das einzige was ich fürchte ist deine reaktion.',\n",
       "  'das einzige was ich fürchte ist deine reaktion.'),\n",
       " ('solo el me hace reir de la manera en que me hizo carcajear hace rato:)',\n",
       "  'solo el me hace reir de la manera en que me hizo carcajear hace rato:)'),\n",
       " ('@scrubsita coooome vuoi u.u', 'coooome vuoi u.u'),\n",
       " ('oha nog halve taart over #wiewil', 'oha nog halve taart over #wiewil'),\n",
       " ('mongol', ''),\n",
       " ('hahahaha dayum rt @buttapecan1913 oomf is dumber than he thinks he is.',\n",
       "  'hahahaha dayum rt oomf is dumber than he thinks he is.'),\n",
       " ('live a little , dream a lot', 'live a little , dream a lot'),\n",
       " ('1800 ste tweet is voor me pop @kayleetogh. en @kyaragillissen omdat ze grapig is en @nino930 omdat hij cool is xx',\n",
       "  '1800 ste tweet is voor me pop en omdat ze grapig is en omdat hij cool is xx'),\n",
       " (\"@anyafemaletyga t'en demande trop toi\", \"t'en demande trop toi\"),\n",
       " ('thats gon forever be my celebrity crush',\n",
       "  'thats gon forever be my celebrity crush'),\n",
       " ('se me fue una h de mas pero #portami',\n",
       "  'se me fue una h de mas pero #portami'),\n",
       " ('ouff dieu merci mon portefeuille était bien à la poste :d',\n",
       "  'ouff dieu merci mon portefeuille était bien à la poste :d'),\n",
       " ('rt @djrocj: rendez-vous sur http://t.co/6hgqe73z le 2 mars - exclu @13orghettoyouss  feat @general_mactyer  - hardcore est le réseau !!!',\n",
       "  'rt rendez-vous sur le 2 mars - exclu feat - hardcore est le réseau !!!'),\n",
       " ('@epifancev_jr geben sie uns ein interview? asking for an interview. click: http://t.co/h4nc97c6',\n",
       "  'geben sie uns ein interview? asking for an interview. click:'),\n",
       " ('que sepa bailar salsa #noporquemeenamoro',\n",
       "  'que sepa bailar salsa #noporquemeenamoro'),\n",
       " ('79-porti gli occhiali da vista?  sì :)',\n",
       "  '79-porti gli occhiali da vista? sì :)'),\n",
       " ('[goor] bestuurder ongeval gezocht http://t.co/c0qdujfj',\n",
       "  '[goor] bestuurder ongeval gezocht'),\n",
       " ('@sasith90 certo, a domani! *-*', 'certo, a domani! *-*'),\n",
       " ('rt @hazscurly1d: rt @swagzinnetjes: mag je eindelijk een keer muziek luisteren in de les maar dan heb je geen oordopjes mee..',\n",
       "  'rt rt mag je eindelijk een keer muziek luisteren in de les maar dan heb je geen oordopjes mee..'),\n",
       " ('la felicidad es algo que no depende de la posición, si no de la disposición.',\n",
       "  'la felicidad es algo que no depende de la posición, si no de la disposición.'),\n",
       " ('@samypluas jajajaja ciertooo era bebé! jejejeje ;)',\n",
       "  'jajajaja ciertooo era bebé! jejejeje ;)'),\n",
       " ('@xclaudiaa1 jewel want je moet het allemaal af hebben in de les',\n",
       "  'jewel want je moet het allemaal af hebben in de les'),\n",
       " (\"don't be fooled\", \"don't be fooled\"),\n",
       " (\"rt @rainarolle: i wish people would start changing for the better, and stop thinking that they don't need to change... #naive\",\n",
       "  \"rt i wish people would start changing for the better, and stop thinking that they don't need to change... #naive\"),\n",
       " ('gino pietermaai - ik ben terug #np', 'gino pietermaai - ik ben terug #np'),\n",
       " ('rt @freshkidrauhl: bieber haters are such huge fans. they take their time to watch videos, comment, edit pictures, read his tweets, etc. ...',\n",
       "  'rt bieber haters are such huge fans. they take their time to watch videos, comment, edit pictures, read his tweets, etc. ...'),\n",
       " ('milly carlucci ha lo stesso guardaroba dal 1991.',\n",
       "  'milly carlucci ha lo stesso guardaroba dal 1991.'),\n",
       " ('@mdavid_d hahahhahaha', ''),\n",
       " (\"@kscouilles mdddr! tu m'a bien fais rire laa! ahaha\",\n",
       "  \"mdddr! tu m'a bien fais rire laa! ahaha\"),\n",
       " (\"@anaisdesperate aurai le choix. j'ai fait du mal. je suis jugé. une fois reincarné, mon âme aura conscience de la réincarnation, ce qui fai\",\n",
       "  \"aurai le choix. j'ai fait du mal. je suis jugé. une fois reincarné, mon âme aura conscience de la réincarnation, ce qui fai\"),\n",
       " ('pistoia ovest affittasi ampio bilocale mq 50 arredato.  550€  50 m²  2 locali http://t.co/ceku1ipp #affitto #casa #firenze',\n",
       "  'pistoia ovest affittasi ampio bilocale mq 50 arredato. 550€ 50 m² 2 locali #affitto #casa #firenze'),\n",
       " ('@sattamelissa hai capito chi è il vero principe?? #diegoalbertomilito',\n",
       "  'hai capito chi è il vero principe?? #diegoalbertomilito'),\n",
       " ('money is the motive people :)', 'money is the motive people :)'),\n",
       " (\"@duckie0_0 bin le concours fini un lundi et on aura jusqu'a la fin de la semaine pour delibéré et dimanche soir on élira la meilleur fic\",\n",
       "  \"bin le concours fini un lundi et on aura jusqu'a la fin de la semaine pour delibéré et dimanche soir on élira la meilleur fic\"),\n",
       " ('wie sie durch facebook, twitter, youtube und ihrem eigenen blog große massen an kostenlosen besuchern anziehen: http://t.co/dockcyfm',\n",
       "  'wie sie durch facebook, twitter, youtube und ihrem eigenen blog große massen an kostenlosen besuchern anziehen:'),\n",
       " ('rt @hartcontact: gisteren zag ik sneeuwklokjes, crocussen,  narcissen en bloesems...heerlijk #alles te gelijk laten #bloeien #hangtindelucht',\n",
       "  'rt gisteren zag ik sneeuwklokjes, crocussen, narcissen en bloesems...heerlijk #alles te gelijk laten #bloeien #hangtindelucht'),\n",
       " ('poi non mi dispiace poi tanto restarmene ancora un pò da sola, tutto sommato, adesso che ho superato la prima \"botta\". mi capita smpr.così.',\n",
       "  'poi non mi dispiace poi tanto restarmene ancora un pò da sola, tutto sommato, adesso che ho superato la prima \"botta\". mi capita smpr.così.'),\n",
       " ('rt @xhartjedidi: @miike_010 gennnaro . « #liiefderuziie',\n",
       "  'rt gennnaro . « #liiefderuziie'),\n",
       " ('el que mas habla es el que menos siente, #solamente',\n",
       "  'el que mas habla es el que menos siente, #solamente'),\n",
       " ('justin italy is near to france almeno al primo posto di quelli italianii çç',\n",
       "  'justin italy is near to france almeno al primo posto di quelli italianii çç'),\n",
       " ('engel set: weiß wie die unschuld...! wunderschönes engel-set in weißer transparenz mit strassverzierung und fede... http://t.co/ixrj1zey',\n",
       "  'engel set: weiß wie die unschuld...! wunderschönes engel-set in weißer transparenz mit strassverzierung und fede...'),\n",
       " ('neuer queensland-katalog mit fokus auf mietwagen-touren im reisebuero erhaeltlich -  http://t.co/mbpdpgws #pressemitteilung',\n",
       "  'neuer queensland-katalog mit fokus auf mietwagen-touren im reisebuero erhaeltlich - #pressemitteilung'),\n",
       " ('#unapersonaqueamo mi amor por vos no me lo cambia nadie. @rochi_ig ocupadas una partecita especial en mi corazón ♥',\n",
       "  '#unapersonaqueamo mi amor por vos no me lo cambia nadie. ocupadas una partecita especial en mi corazón ♥'),\n",
       " ('@lilgucci2 i said the same smdh', 'i said the same smdh'),\n",
       " ('poinx - offerta roma - centro estetico: trattamenti viso a 14.00 eur invece di 50.00 #di #+ #viso #euro #a /',\n",
       "  'poinx - offerta roma - centro estetico: trattamenti viso a 14.00 eur invece di 50.00 #di #+ #viso #euro #a /'),\n",
       " ('@kmthx 12mn ht-ht? hahahah', '12mn ht-ht? hahahah'),\n",
       " (\"hahahaha 'me tranen gingen de toetsen indrukken' nee oum dat zei je niet whaahahhahaahahah\",\n",
       "  \"hahahaha 'me tranen gingen de toetsen indrukken' nee oum dat zei je niet\"),\n",
       " ('gaaaaaaaaams ! yees ! le voilà le but pour la confiance.',\n",
       "  '! yees ! le voilà le but pour la confiance.'),\n",
       " (\"well i'm all packed my room is clean!! took me all freaking day!\",\n",
       "  \"well i'm all packed my room is clean!! took me all freaking day!\"),\n",
       " ('why ?', ''),\n",
       " ('@kathrinwinter mach des :d was macht ihr so ((:',\n",
       "  'mach des :d was macht ihr so ((:'),\n",
       " ('gente que se tatua mierda,mirarme me voy a tatuar una puta esvastica en la frente asi sere como vosotros,un gilipollas mas',\n",
       "  'gente que se tatua mierda,mirarme me voy a tatuar una puta esvastica en la frente asi sere como vosotros,un gilipollas mas'),\n",
       " ('rt @kershouw: qui veu un bebe les femmes ??',\n",
       "  'rt qui veu un bebe les femmes ??'),\n",
       " ('@jjehanne siehe den tweet zuvor (: also ich lebe sie aus noch viel mehr gründen, aber oke x3',\n",
       "  'siehe den tweet zuvor (: also ich lebe sie aus noch viel mehr gründen, aber oke x3'),\n",
       " ('@rtc_tele_liege réginal goreux, philosophe du foot: \"on aurait préféré gagner et très mal jouer qu\\'avoir une défaite et en plus mal jouer\"',\n",
       "  'réginal goreux, philosophe du foot: \"on aurait préféré gagner et très mal jouer qu\\'avoir une défaite et en plus mal jouer\"'),\n",
       " ('@pretty__ree -____-', '-____-'),\n",
       " ('- how could i forget about the undefeated crew?',\n",
       "  '- how could i forget about the undefeated crew?'),\n",
       " ('slapen x', 'slapen x'),\n",
       " ('goedkope winterkleding bij plutosport http://t.co/eomw2fbt',\n",
       "  'goedkope winterkleding bij plutosport'),\n",
       " ('verveling..', 'verveling..'),\n",
       " ('@goon_dizzy my phone messing up i got it wet.',\n",
       "  'my phone messing up i got it wet.'),\n",
       " ('dschungarische hamster baby s abzugeben: berlin | hallo,  aus meiner hobbyzucht suchen noch 3 dsungarische zwerg... http://t.co/mgkswnc0',\n",
       "  'dschungarische hamster baby s abzugeben: berlin | hallo, aus meiner hobbyzucht suchen noch 3 dsungarische zwerg...'),\n",
       " ('musik voll aufdrehn und ab gehen', 'musik voll aufdrehn und ab gehen'),\n",
       " ('@yorina_ es ist kostbar. den wir haben nur eines davon. und in endeffekt kommt es darauf an was wir daraus machen.',\n",
       "  'es ist kostbar. den wir haben nur eines davon. und in endeffekt kommt es darauf an was wir daraus machen.'),\n",
       " ('rt @somons g1 de barge pour la finale de la #shoutcast :o stephano qui gagne à un poil de _cul_ http://t.co/x00dlj8e http://t.co/cppav1as',\n",
       "  'rt g1 de barge pour la finale de la #shoutcast :o stephano qui gagne à un poil de _cul_'),\n",
       " ('werde gleich ein \"orientalisches hamam bad\" genießen.',\n",
       "  'werde gleich ein \"orientalisches hamam bad\" genießen.'),\n",
       " (\"i don't know who to trust\", \"i don't know who to trust\"),\n",
       " ('m0263n. hab ich ne geile laune :)) [ironie an dieser stelle bitte einfügen.danke.] wünsch euch trotzdem n schönen tag.mfg,die krisenleitung',\n",
       "  'm0263n. hab ich ne geile laune :)) [ironie an dieser stelle bitte einfügen.danke.] wünsch euch trotzdem n schönen tag.mfg,die krisenleitung'),\n",
       " ('@nimoub :( &lt;/3', ':( &lt;/3'),\n",
       " ('@taniamartines2 esq no me havia dado cuenta ya todo paso mi vida apenas empieza! oh si (:',\n",
       "  'esq no me havia dado cuenta ya todo paso mi vida apenas empieza! oh si (:'),\n",
       " (\"andiamo a sfogarci un po' e a fare un po' il cretino......che mi viene sempre bn....tiro giù la palestra stasera.....\",\n",
       "  \"andiamo a sfogarci un po' e a fare un po' il mi viene sempre bn....tiro giù la palestra\"),\n",
       " ('¿les gusta mi nuevo nombre? más ad hoc.',\n",
       "  '¿les gusta mi nuevo nombre? más ad hoc.'),\n",
       " ('@unquinario anche quello estivo ormai. era più divertente quando le squadre si indebitavano fino al buco del culo per amoroso e mendieta',\n",
       "  'anche quello estivo ormai. era più divertente quando le squadre si indebitavano fino al buco del culo per amoroso e mendieta'),\n",
       " ('@michielbakkerr haha maak dan een nieuwe a. ik heb ook speciaal een pic gemaakt xd',\n",
       "  'haha maak dan een nieuwe a. ik heb ook speciaal een pic gemaakt xd'),\n",
       " ('@liberoilverso puahhhh nooooooo allora bloccati :-))))',\n",
       "  'puahhhh allora bloccati :-))))'),\n",
       " ('ce moment genant quand une rage dent viens pourrir ton week end',\n",
       "  'ce moment genant quand une rage dent viens pourrir ton week end'),\n",
       " ('@takemoneyc_note goodmorning bestfrandddd !', 'goodmorning bestfrandddd !'),\n",
       " (\"je t'aime *\", \"je t'aime *\"),\n",
       " ('@aimar_hh es ist die frage, inwieweit man da regelungen durchsetzen kann.',\n",
       "  'es ist die frage, inwieweit man da regelungen durchsetzen kann.'),\n",
       " ('jaahoor , moet ik weer in dit pooepweer tennissen ;s',\n",
       "  'jaahoor , moet ik weer in dit pooepweer tennissen ;s'),\n",
       " ('habe vergessen brot auf zu tauen, so ein mist',\n",
       "  'habe vergessen brot auf zu tauen, so ein mist'),\n",
       " ('i dislike seeing this bitch tweets let me go unfollow her real quick',\n",
       "  'i dislike seeing this bitch tweets let me go unfollow her real quick'),\n",
       " ('habe schon ca 10 mal angefangen ,weiss aber immer noch nicht wo drum es bei walküre geht. #hörbuch',\n",
       "  'habe schon ca 10 mal angefangen ,weiss aber immer noch nicht wo drum es bei walküre geht. #hörbuch'),\n",
       " ('@lottelangwerden hihi lotje heeft twitter', 'hihi lotje heeft twitter'),\n",
       " ('drawing mentor 14, fantasy drawing: drawing mentor 14, fantasy drawing   anyone can draw; all it takes is a penc... http://t.co/qca0yivs',\n",
       "  'drawing mentor 14, fantasy drawing: drawing mentor 14, fantasy drawing anyone can draw; all it takes is a penc...'),\n",
       " ('@donlars bei rucksäcken hab ich mir den hier mal rausgeguckt http://t.co/z53rzzbu . oder hast vllt andere/bessere vorschläge?',\n",
       "  'bei rucksäcken hab ich mir den hier mal rausgeguckt . oder hast vllt vorschläge?'),\n",
       " ('rt @mafialalistica: \"por lo que leo reaparecierón \"los muertos vivos ;) \" aah eran lali y el mono..\"// te rajaria tres tiros en el orto',\n",
       "  'rt \"por lo que leo reaparecierón \"los muertos vivos ;) \" aah eran lali y el mono..\"// te rajaria tres tiros en el orto'),\n",
       " ('@lauraterschure ik weet niet of ik er ben want me paardje.is ziek dus dat bekijken we.morgen even. ik sms het je wel even xx',\n",
       "  'ik weet niet of ik er ben want me paardje.is ziek dus dat bekijken we.morgen even. ik sms het je wel even xx'),\n",
       " ('speriamo in un pizzico di fortuna nel compito di inglese di domani..',\n",
       "  'speriamo in un pizzico di fortuna nel compito di inglese di domani..'),\n",
       " ('rt @misonrisalali: amar a alguien que no siente lo mismo es como usar un lápiz blanco sobre un papel blanco. prácticamente invisible.',\n",
       "  'rt amar a alguien que no siente lo mismo es como usar un lápiz blanco sobre un papel blanco. prácticamente invisible.'),\n",
       " ('@bettoalfie pon de avatar la que nos tomamos en dibujo.',\n",
       "  'pon de avatar la que nos tomamos en dibujo.'),\n",
       " ('this thing stay dead ... uhmm this is makin mhe',\n",
       "  'this thing stay dead ... uhmm this is makin mhe'),\n",
       " ('@its_janelle_ why?', 'why?'),\n",
       " (\"#everybodywantstobe perfectly flawless .... but i'm so happy to be perfectly flawed .\",\n",
       "  \"#everybodywantstobe perfectly flawless .... but i'm so happy to be perfectly flawed .\"),\n",
       " ('@amiga_1200 kann ich am handy grad leider nich viel größer machen^^',\n",
       "  'kann ich am handy grad leider nich viel größer machen^^'),\n",
       " ('pasa a manos puertorriqueñas el observatorio de arecibo. ahora se jode eso ahí, de hospitalillo de drogas termina...',\n",
       "  'pasa a manos puertorriqueñas el observatorio de arecibo. ahora se jode eso ahí, de hospitalillo de drogas termina...'),\n",
       " ('rt @maguiscattini: @lolirozas ese es el motivo por el cual no quiero la timeline, me voy a tener que poner a borrar cosas de mi oscuro p ...',\n",
       "  'rt ese es el motivo por el cual no quiero la timeline, me voy a tener que poner a borrar cosas de mi oscuro p ...'),\n",
       " ('@simo_tritacarne capisco!!! io sono cresciuta in campagna con aia, giardini, orti... vivere in 100mq mi angustia, idem ufficio!! ^_^',\n",
       "  'capisco!!! io sono cresciuta in campagna con aia, giardini, orti... vivere in 100mq mi angustia, idem ufficio!! ^_^'),\n",
       " ('@blondmokkeltje zwanger', 'zwanger'),\n",
       " ('au, fucking buikpijn.. #pijn', 'au, fucking buikpijn.. #pijn'),\n",
       " (\"@fgerschel la mère carla bruni qui a vendu la maison familiale à un arabe en italie, ce n'est pas forcément soeur emmanuelle !\",\n",
       "  \"la mère carla bruni qui a vendu la maison familiale à un arabe en italie, ce n'est pas forcément soeur emmanuelle !\"),\n",
       " ('temp: 2.1 c; wind/boe: 1.0/2.4 km/h, aus:so; regen gesamt: 2.5 mm; luftfeuchtigkeit: 99 %; luftdruck 972.9 hpa',\n",
       "  'temp: 2.1 c; wind/boe: 1.0/2.4 km/h, aus:so; regen gesamt: 2.5 mm; luftfeuchtigkeit: 99 %; luftdruck 972.9 hpa'),\n",
       " ('@yoena74 si lo vi!! pero tomalo de quien viene, de un programa q se ve en el canal 45 de mi tele!! y de quien  lo conduce el amargado!',\n",
       "  'si lo vi!! pero tomalo de quien viene, de un programa q se ve en el canal 45 de mi tele!! y de quien lo conduce el amargado!'),\n",
       " ('http://t.co/zyewpa1r - geil gefickt beim strip-poker | nackte frauen - st... #sexvideo #bumsen',\n",
       "  '- geil gefickt beim strip-poker | nackte frauen - st... #sexvideo #bumsen'),\n",
       " ('rt @bhohlmann: do. ist @drs2 tag! erst #grundeinkommen mit d. häni, anschliessend #fairtrade & #kaffee mit bertschi. http://t.co/3xfzkuuh',\n",
       "  'rt do. ist tag! erst #grundeinkommen mit d. häni, anschliessend #fairtrade & #kaffee mit bertschi.'),\n",
       " (\"rt @katt__williams: bae = that's my love . main = you ain't the only one but you're my #1 . boo = we ain't together but you're mine. kno ...\",\n",
       "  \"rt bae = that's my love . main = you ain't the only one but you're my #1 . boo = we ain't together but you're mine. kno ...\"),\n",
       " ('rt @saralannot: @catalinainsua @lolirozas estoy orgullosa de haber descubierto esa foto(l)(l)................es hermosoooo. pd. tweet 18 ...',\n",
       "  'rt estoy orgullosa de haber descubierto esa pd. tweet 18 ...'),\n",
       " ('ya quiero verlo *-*', 'ya quiero verlo *-*'),\n",
       " ('misaki damenarmreif sterling-silber 925 qcubfresh:  http://t.co/pim01l0d',\n",
       "  'misaki damenarmreif sterling-silber 925 qcubfresh:'),\n",
       " ('rt @jk_lance: #cogeríacontigopero prefieres ver telenovelas',\n",
       "  'rt #cogeríacontigopero prefieres ver telenovelas'),\n",
       " ('ojaa staken, gaan er op koning nog docenten staken?',\n",
       "  'ojaa staken, gaan er op koning nog docenten staken?'),\n",
       " ('rt @imfree81: alemanno \"uscire solo con le catene\". no,non voi di casa pound.',\n",
       "  'rt alemanno \"uscire solo con le catene\". no,non voi di casa pound.'),\n",
       " (\"hahah mama gelooft me nie dat ik altyd 'sochtend bigtime  rush kijk\",\n",
       "  \"hahah mama gelooft me nie dat ik altyd 'sochtend bigtime rush kijk\"),\n",
       " ('@jecomommy vielen lieben dank.', 'vielen lieben dank.'),\n",
       " ('“@jazzshortcake10: #everybodyfromthehoodknowsomebodynamed pee wee” -- lol',\n",
       "  '“@jazzshortcake10: pee wee” -- lol'),\n",
       " ('vroeger op basisschool met carnaval: \"wat ben jij lelijk aan\" \" ik heb hetzelfd eaan\" \"maar dat van mij is mooier\" haha- @joelle_xo',\n",
       "  'vroeger op basisschool met carnaval: \"wat ben jij lelijk aan\" \" ik heb hetzelfd eaan\" \"maar dat van mij is mooier\" haha-'),\n",
       " ('cazzo gem, hai spaccato come al solito. oh signore! big up! @thetruegemitaiz http://t.co/kikuhhe3',\n",
       "  'cazzo gem, hai spaccato come al solito. oh signore! big up!'),\n",
       " ('happy birthday @ohyeahlisa !', 'happy birthday !'),\n",
       " ('pauzzee', ''),\n",
       " (\"@thebanana_alien alors en faite non apparemment ils sont bien 12c'est le dernier teaser qui à  crée des doutes\",\n",
       "  \"alors en faite non apparemment ils sont bien 12c'est le dernier teaser qui à crée des doutes\"),\n",
       " ('roma, luis enrique: “voglio una reazione. de rossi…”: oggi è intervenuto in conferenza stampa dal centro tecnico... http://t.co/ikbrfgkn',\n",
       "  'roma, luis enrique: “voglio una reazione. de rossi…”: oggi è intervenuto in conferenza stampa dal centro tecnico...'),\n",
       " ('while we dance with headbands on made from figs and moss...around a camp fire, singing corinne bailey rae songs...',\n",
       "  'while we dance with headbands on made from figs and moss...around a camp fire, singing corinne bailey rae songs...'),\n",
       " ('@valegiovati ah no hai ragione avrai letto :)',\n",
       "  'ah no hai ragione avrai letto :)'),\n",
       " ('me dijeron que soy machito (h) xddskads',\n",
       "  'me dijeron que soy machito (h) xddskads'),\n",
       " ('@giovannamari1 che cell è?', 'che cell è?'),\n",
       " ('non nevica volete la neve. nevia non volete la neve. #coerenza',\n",
       "  'non nevica volete la neve. nevia non volete la neve. #coerenza'),\n",
       " ('françois #hollande et son sparring-partner alain #juppé http://t.co/5ywwcuea',\n",
       "  'françois #hollande et son sparring-partner alain #juppé'),\n",
       " ('odio que el fb de mi novio sea el centro de comentarios argg!',\n",
       "  'odio que el fb de mi novio sea el centro de comentarios argg!'),\n",
       " ('i miei mi vogliono far fare per forza segnare alla classe in francese! cazzo sono negata e decido io cosa cazzo voglio fare!',\n",
       "  'i miei mi vogliono far fare per forza segnare alla classe in francese! cazzo sono negata e decido io cosa cazzo voglio fare!'),\n",
       " ('dann musst du ehr ins bettchen :d ich bin aber auch müde :d ich hör musik (((: &lt;3',\n",
       "  'dann musst du ehr ins bettchen :d ich bin aber auch müde :d ich hör musik (((: &lt;3'),\n",
       " ('veronica 23enne completissima lato a-b-c ... - donna cerca uomo vicenza - http://t.co/5e5megld',\n",
       "  'veronica 23enne completissima lato a-b-c ... - donna cerca uomo vicenza -'),\n",
       " (\"@ansook_ si ma mi ha registrato la traccia difettata! non solo l'ho pagata profumatamente, ma mi da anche qualcosa di difettato!\",\n",
       "  \"si ma mi ha registrato la traccia difettata! non solo l'ho pagata profumatamente, ma mi da anche qualcosa di difettato!\"),\n",
       " ('@kike118 es que es diferente s:', 'es que es diferente s:'),\n",
       " ('also leute die ihre tochter aysche nennen, gehören erschossen! #domian',\n",
       "  'also leute die ihre tochter aysche nennen, gehören erschossen! #domian'),\n",
       " ('quando si chiede il verde pubblico “@milano_24h: milano: aggredita mentre fa jogging studentessa sfugge allo stupro http://t.co/qwnvv4bq”',\n",
       "  'quando si chiede il verde pubblico “@milano_24h: milano: aggredita mentre fa jogging studentessa sfugge allo stupro'),\n",
       " ('@iviaggidimaya @guglielmoscilla lol', 'lol'),\n",
       " ('@laly_chamo no puedo escucharlosss @laclavefolclore :-(',\n",
       "  'no puedo escucharlosss :-('),\n",
       " ('http://t.co/v3jkwfxl mini-usb-turbo-computer-staubsauger für pc / laptop',\n",
       "  'für pc / laptop'),\n",
       " ('@karoline_taylor @luisacedeno01 @juancitoperezrd gracias', 'gracias'),\n",
       " ('estabilidad del gobierno permite a empresarios la construcción de carreteras y viviendas http://t.co/zp3zwunl',\n",
       "  'estabilidad del gobierno permite a empresarios la construcción de carreteras y viviendas'),\n",
       " ('@brand0nnx moeilijk !?', 'moeilijk !?'),\n",
       " ('y ese quien es o-o', 'y ese quien es o-o'),\n",
       " ('#np hustler - soulja', '#np hustler - soulja'),\n",
       " ('nu nog gs leren.', 'nu nog gs leren.'),\n",
       " ('ima go out and party with guys when i have a boyfriend #dumbbitches',\n",
       "  'ima go out and party with guys when i have a boyfriend #dumbbitches'),\n",
       " ('@scontender well thts fine', 'well thts fine'),\n",
       " (\"rt @ladydodo2: les politiciens pro euro flippent la fin de l'euro les enverrait au chômage http://t.co/sjn3kjy3\",\n",
       "  \"rt les politiciens pro euro flippent la fin de l'euro les enverrait au chômage\"),\n",
       " (\"matter fact i'm finna call her.\", \"matter fact i'm finna call her.\"),\n",
       " ('@sheyra_ swayne mais appelle moi guillaume #willsmithvoice',\n",
       "  'swayne mais appelle moi guillaume #willsmithvoice'),\n",
       " (\"je m'ennuie.\", \"je m'ennuie.\"),\n",
       " ('@stini76 buonasera! :d', 'buonasera! :d'),\n",
       " ('@agustinpinpin el unico comentario decente', 'el unico comentario decente'),\n",
       " ('@akutoubita me van a comer la hierba.', 'me van a comer la hierba.'),\n",
       " ('ancient singer found in egypt tomb http://t.co/k63xaepk',\n",
       "  'ancient singer found in egypt tomb'),\n",
       " ('rt @carleny_oficial: lo que paso paso !', 'rt lo que paso paso !'),\n",
       " ('@shana_dgaf ask my mama , not me :)', 'ask my mama , not me :)'),\n",
       " ('@joeeuy_     @tamaralovex  maaakt je wel lekker warm x',\n",
       "  'maaakt je wel lekker warm x'),\n",
       " ('@mehdibaud tu manques !!!!', 'tu manques !!!!'),\n",
       " ('rt @dimegarcia_: a la mierda la universidad ... !yo quiero ser un power ranger!',\n",
       "  'rt a la mierda la universidad ... !yo quiero ser un power ranger!'),\n",
       " ('@foreveryoung16_ pero si no te qedaste -.-', 'pero si no te qedaste -.-'),\n",
       " ('rt @paardenfeit: retweet als je gek op paarden bent. #gekvanpaarden',\n",
       "  'rt retweet als je gek op paarden bent. #gekvanpaarden'),\n",
       " ('bon je vous dit a ce soir.. je vais aller travailler... #bbl',\n",
       "  'bon je vous dit a ce soir.. je vais aller travailler... #bbl'),\n",
       " ('@maramoschino morale: le porsche non sono comode',\n",
       "  'morale: le porsche non sono comode'),\n",
       " ('@prettilittlered call me now.', 'call me now.'),\n",
       " ('ein neues werbenetzwerk, das garantiert mehr traffic auf ihre webseiten lenkt, voll automatisch! http://t.co/czifx6ur',\n",
       "  'ein neues werbenetzwerk, das garantiert mehr traffic auf ihre webseiten lenkt, voll automatisch!'),\n",
       " ('61- menziona una persona di cui adori i tweet:  @guglielmoscilla',\n",
       "  '61- menziona una persona di cui adori i tweet:'),\n",
       " ('bath pillow-terry covered,natural – 1 – pillow:  http://t.co/r9qdfdrk',\n",
       "  'bath pillow-terry covered,natural – 1 – pillow:'),\n",
       " ('rt @pacmandacoolest: my nigga toriq lol', 'rt my nigga toriq lol'),\n",
       " (\"bernie's nuts rt @berniecrowsheet: crowsheet studios: crazy uncle ronny http://t.co/swbhqvgi\",\n",
       "  \"bernie's nuts rt crowsheet studios: crazy uncle ronny\"),\n",
       " (\"ots.video: jan boehmermann 'testet' produkte und dienstleistungen fuer ral guetezeichen -  http://t.co/xr2ndvzg #pressemitteilung\",\n",
       "  \"ots.video: jan boehmermann 'testet' produkte und dienstleistungen fuer ral guetezeichen - #pressemitteilung\"),\n",
       " ('und ich hatte schon angst, die @eternalreplica bemerkt es gar nicht mehr, dass ich nachts immer mit nem laken durch ihre wohnung laufe',\n",
       "  'und ich hatte schon angst, die bemerkt es gar nicht mehr, dass ich nachts immer mit nem laken durch ihre wohnung laufe'),\n",
       " ('@iz_wolf mw3 ofzoo.', 'mw3 ofzoo.'),\n",
       " ('suche mobilfunkanbieter mit allnet/sms airbag so wie bei o2 und internet-flat :)',\n",
       "  'suche mobilfunkanbieter mit allnet/sms airbag so wie bei o2 und internet-flat :)'),\n",
       " ('@robymora fai da sola? attenta alle agenzie di noleggio, quelle low budget poi diventano una noia, non fanno manco una deviazione di 10 km..',\n",
       "  'fai da sola? attenta alle agenzie di noleggio, quelle low budget poi diventano una noia, non fanno manco una deviazione di 10 km..'),\n",
       " ('però i pinguini che mi facevano compagnia la mattina mi mancano un pò. d:',\n",
       "  'però i pinguini che mi facevano compagnia la mattina mi mancano un pò. d:'),\n",
       " ('@jecomommy freunde erzählten mir davon. :d',\n",
       "  'freunde erzählten mir davon. :d'),\n",
       " ('rt @diezerbrochene: wie ich grad alles hasse. menschen. leben. mich.',\n",
       "  'rt wie ich grad alles hasse. menschen. leben. mich.'),\n",
       " (\"rt @estupidaenvidia: sólo falta que zayn diga 'what is arco iris?'. ahí me meo.\",\n",
       "  \"rt sólo falta que zayn diga 'what is arco iris?'. ahí me meo.\"),\n",
       " ('@jadebluete ja, genauso steht es bei mir drin',\n",
       "  'ja, genauso steht es bei mir drin'),\n",
       " ('in meinem bett herrschen ganz besondere anziehungskräfte.',\n",
       "  'in meinem bett herrschen ganz besondere anziehungskräfte.'),\n",
       " ('i miei mi stanno mandando a calci in culo a scuola!',\n",
       "  'i miei mi stanno mandando a calci in culo a scuola!'),\n",
       " ('@mr_timal un peu :p', 'un peu :p'),\n",
       " ('@dizaines la 317e section', 'la 317e section'),\n",
       " (\"@paradefrance aaaaah mais c'est trop bien :d c'est absolument génial que le nombre de fans françaises augmente :')\",\n",
       "  \"mais c'est trop bien :d c'est absolument génial que le nombre de fans françaises augmente :')\"),\n",
       " ('#1thingifindsexy su mirada *w*', '#1thingifindsexy su mirada *w*'),\n",
       " ('je sens plus ma gencive...', 'je sens plus ma gencive...'),\n",
       " ('@lexi_2412 @somerholic_1986 @dani23_10 awwwwwwwwwww *sabber* jetz hab ich wieder hunger -.-',\n",
       "  '*sabber* jetz hab ich wieder hunger -.-'),\n",
       " ('rt @carvalladolid: ¡no hay quien te entienda! ¡primero dices que no quieres salir y ahora que te quieres quedar en casa!',\n",
       "  'rt ¡no hay quien te entienda! ¡primero dices que no quieres salir y ahora que te quieres quedar en casa!'),\n",
       " ('swtor: hochaufgelöste texturen, mittlere grafikoptionen und mehr - bioware schafft klarheit: die grafik von s... http://t.co/ih8omixp rt',\n",
       "  'swtor: hochaufgelöste texturen, mittlere grafikoptionen und mehr - bioware schafft klarheit: die grafik von s... rt'),\n",
       " ('@geordnet &lt;333', '&lt;333'),\n",
       " ('@rebecajimenz pero cuesta ): mejor mañana lo juego en tu iphone jajajaja',\n",
       "  'pero cuesta ): mejor mañana lo juego en tu iphone jajajaja'),\n",
       " (\"rt @giu_carliter: @carlottaloveu si...si chiama come ha detto @ludovicaferlito ma io ho sritto l'altro ed è venuto lo stesso!!!! ;)\",\n",
       "  \"rt si...si chiama come ha detto ma io ho sritto l'altro ed è venuto lo stesso!!!! ;)\"),\n",
       " ('1414ste tweet gaat naar: @dalitlebitch & @isabellekemens',\n",
       "  '1414ste tweet gaat naar: &'),\n",
       " ('rt @giocosporco: #ff a @lilliput_x @marialessiam @simonagav_ @lisy382 @quilila89  @karolb1994 meravigliose :)',\n",
       "  'rt #ff a meravigliose :)'),\n",
       " ('@hansedog ich hoffe wirklich!! dir kann geholfen werden!',\n",
       "  'ich hoffe wirklich!! dir kann geholfen werden!'),\n",
       " ('zo gaan, wss geen verbinding buiten dus no twitter, doei x',\n",
       "  'zo gaan, wss geen verbinding buiten dus no twitter, doei x'),\n",
       " ('olvidame tu!....que a mi me da hueva.',\n",
       "  'olvidame tu!....que a mi me da hueva.'),\n",
       " ('rt @soychistes: -mi amor, mataron al cura que nos caso -ya vez, yo te lo dije ¡en esta vida todo se paga! #chistes',\n",
       "  'rt -mi amor, mataron al cura que nos caso -ya vez, yo te lo dije ¡en esta vida todo se paga! #chistes'),\n",
       " ('bonne semaine #tontonmusic @rimkofficiel #portraitrobot :)',\n",
       "  'bonne semaine #tontonmusic #portraitrobot :)'),\n",
       " ('@slinkyna non è stato bellisimo, no, ma più che altro avevo paura che mi crollasse il letto o.o',\n",
       "  'non è stato bellisimo, no, ma più che altro avevo paura che mi crollasse il letto o.o'),\n",
       " ('lz-online :: banken und sparkassen bereiten weg für \"kontaktloses bezahlen\" http://t.co/evecpqwt #lippe #owl',\n",
       "  'lz-online :: banken und sparkassen bereiten weg für \"kontaktloses bezahlen\" #lippe #owl'),\n",
       " ('rt @chuck_n0rriz: ernesto che guevara partecipava ai cortei con la maglietta di chuck norris.',\n",
       "  'rt ernesto che guevara partecipava ai cortei con la maglietta di chuck norris.'),\n",
       " ('@speedtutorial leider noch nicht. braucht sie denn ein bestimmtes format? sonst könnte ich morgen drehen.',\n",
       "  'leider noch nicht. braucht sie denn ein bestimmtes format? sonst könnte ich morgen drehen.'),\n",
       " ('antes http://t.co/ellzqf3n', 'antes'),\n",
       " ('42- parola/frase preferita? quella della domanda 26',\n",
       "  '42- parola/frase preferita? quella della domanda 26'),\n",
       " ('vacilaaa tu 07 xd', 'vacilaaa tu 07 xd'),\n",
       " ('@akutoubita o_________________o ? porque quieres verlo ?:o',\n",
       "  '? porque quieres verlo ?:o'),\n",
       " ('rt @rtl_tvoh: dit was het tweede seizoen van #tvoh. namens alle crew, talenten en coaches: bedankt!',\n",
       "  'rt dit was het tweede seizoen van #tvoh. namens alle crew, talenten en coaches: bedankt!'),\n",
       " ('@alexalltimelow do you like oreos?', 'do you like oreos?'),\n",
       " (\"i'm gonna try & tweet until i fall asleep. lol\",\n",
       "  \"i'm gonna try & tweet until i fall asleep. lol\"),\n",
       " ('@carlosteran01 gracias chamo ! nadie me habia dicho lo del evento ; )',\n",
       "  'gracias chamo ! nadie me habia dicho lo del evento ; )'),\n",
       " ('@antonellacir recupererò!', 'recupererò!'),\n",
       " ('@siebter_sinn auch dir einen guten morgen.',\n",
       "  'auch dir einen guten morgen.'),\n",
       " ('“@cjmilly: @kitty_loveit&gt;&gt;&gt;&gt; pretty eyes”thank you',\n",
       "  '“@cjmilly: pretty eyes”thank you'),\n",
       " ('@gerardocafarell @rita3870 ... in corner!!', '... in corner!!'),\n",
       " ('@gir_savonarola allora si..', 'allora si..'),\n",
       " ('@emmaloeffenx hahaha jaa moeten we doen #geweldig , volgens mij heb ik daar foto van maar ik zou niet weten waar ...',\n",
       "  'hahaha jaa moeten we doen #geweldig , volgens mij heb ik daar foto van maar ik zou niet weten waar ...'),\n",
       " (\"@shaabiidy ptdr! c'est moi qui est le plus important!\",\n",
       "  \"ptdr! c'est moi qui est le plus important!\"),\n",
       " ('nf @tofukinpretty', 'nf'),\n",
       " ('@we_love_kayble , text me .', ', text me .'),\n",
       " (\"@patrickverdoorn waaronder jijzelf? nee hoor grapje (aa')\",\n",
       "  \"waaronder jijzelf? nee hoor grapje (aa')\"),\n",
       " ('@emilevoignier mdrrrrr', ''),\n",
       " ('thats my shit!!', 'thats my shit!!'),\n",
       " ('#np french montana - closer than most',\n",
       "  '#np french montana - closer than most'),\n",
       " ('@joooshi_ haha nein spaß :d  so eine codecsammlung für quicktime und so. :d',\n",
       "  'haha nein spaß :d so eine codecsammlung für quicktime und so. :d'),\n",
       " (\"a regarder d'urgence!!!!! sa prend 5minutes et ce sont 5 minutes de plaisir!!!!\",\n",
       "  'a regarder sa prend 5minutes et ce sont 5 minutes de plaisir!!!!'),\n",
       " ('@tonnerre schaue gerade, kann aber noch keine expliziten finden.',\n",
       "  'schaue gerade, kann aber noch keine expliziten finden.'),\n",
       " ('maja wird schmutzig: meine frau wird dreckig mehr http://t.co/bchcrhcq http://t.co/yzox8iy0',\n",
       "  'maja wird schmutzig: meine frau wird dreckig mehr'),\n",
       " ('2x15 a me #pll http://t.co/iuhoy3nv @getglue @abcfpll', '2x15 a me #pll'),\n",
       " (\"@jkordoba @g_barrot qq mois après la sortie de l'ipad, ils avaient tombé une tablette windows à 80 €, si mes souvenirs sont bons\",\n",
       "  \"qq mois après la sortie de l'ipad, ils avaient tombé une tablette windows à 80 €, si mes souvenirs sont bons\"),\n",
       " ('@queenofevilness lief die op denn gut?', 'lief die op denn gut?'),\n",
       " ('ma chissa chi ha ragione! @patriziadd  - @taniatasca3',\n",
       "  'ma chissa chi ha ragione! -'),\n",
       " ('@chaos_schwester na, wenn ich da mal hingehe brauch ich ja ne simkarte. ich dachte du hättest aufgepasst. ;) #einsfestival',\n",
       "  'na, wenn ich da mal hingehe brauch ich ja ne simkarte. ich dachte du hättest aufgepasst. ;) #einsfestival'),\n",
       " ('23:32 - di pietro:monti? aspettiamo i fatti message',\n",
       "  '23:32 - di pietro:monti? aspettiamo i fatti message'),\n",
       " (\"oke, nu naar muziek enzoo' xxxx #twexitt.\",\n",
       "  \"oke, nu naar muziek enzoo' xxxx #twexitt.\"),\n",
       " ('@yordan_pumasfc ah bueno', 'ah bueno'),\n",
       " ('@yvarpaperchaser  huh ? hoe bedoel je', 'huh ? hoe bedoel je'),\n",
       " (\"et @__cycyy tu évitera de perdre ton natel vu que c'est un peu chacun son tour la ... aha @yannfavre\",\n",
       "  \"et tu évitera de perdre ton natel vu que c'est un peu chacun son tour la ... aha\"),\n",
       " ('rt @catalinahquez: @danilomedina juramenta hoy a felipa gomez @_agrupate_  #pontepatupais',\n",
       "  'rt juramenta hoy a felipa gomez #pontepatupais'),\n",
       " ('“@frankfbn: overschakeld op twit voor ifoon”',\n",
       "  '“@frankfbn: overschakeld op twit voor ifoon”'),\n",
       " ('@yvi_vendrell heeeey! necesito tu ayuda ahora!!! s:',\n",
       "  'heeeey! necesito tu ayuda ahora!!! s:'),\n",
       " ('ich wuerde sie nicht fragen wollen, ob ihre firma eine firmenphilosophie hat ...  http://t.co/lrqzdppl',\n",
       "  'ich wuerde sie nicht fragen wollen, ob ihre firma eine firmenphilosophie hat ...'),\n",
       " ('rt @magachadice: soy una persona tengo mis momentos de inseguridad. de llanto. de cabreadera. de joda. cometo errores o acaso tu no?',\n",
       "  'rt soy una persona tengo mis momentos de inseguridad. de llanto. de cabreadera. de joda. cometo errores o acaso tu no?'),\n",
       " ('@sheisasound mi scusi per il problema tecnico di questa mattina, mamma ha provato a far muovere la macchina, ma slittava troppo! loveu',\n",
       "  'mi scusi per il problema tecnico di questa mattina, mamma ha provato a far muovere la macchina, ma slittava troppo! loveu'),\n",
       " ('@rossbrescia usa il phon!.. :)', 'usa il phon!.. :)'),\n",
       " (\"rt @ladydodo2: l'argentine a pris la «voie de sortie», adoptant la thérapie radicale de retrouver et dévaluer sa monnaie http://t.co/tzl ...\",\n",
       "  \"rt l'argentine a pris la «voie de sortie», adoptant la thérapie radicale de retrouver et dévaluer sa monnaie ...\"),\n",
       " ('brilla sin querer opacar a nadie, enseña sin querer cambiar a nadie y aprende sin querer culpar a nadie.',\n",
       "  'brilla sin querer opacar a nadie, enseña sin querer cambiar a nadie y aprende sin querer culpar a nadie.'),\n",
       " ('@keepinupkarina te vas a reir cuando te cuente este gossip (: & mas de quien es hahahaha',\n",
       "  'te vas a reir cuando te cuente este gossip (: & mas de quien es hahahaha'),\n",
       " (\"@meliissahood mdr j'aime bien ta fausse réponse\",\n",
       "  \"mdr j'aime bien ta fausse réponse\"),\n",
       " ('@maikelovesmusic magst du musik?', 'magst du musik?'),\n",
       " ('rt @iamtravisporter: shoutouts to the ladies who can make a $5 outfit look like a $500 outfit! #thatsabadbitch',\n",
       "  'rt shoutouts to the ladies who can make a $5 outfit look like a $500 outfit! #thatsabadbitch'),\n",
       " ('“@kusvaleriex: hmm iets klopt daar niet aan”',\n",
       "  '“@kusvaleriex: hmm iets klopt daar niet aan”'),\n",
       " (\"@thisisadina i think i'll jpsae into mass comm.~ it's where my passion is, or fsv.\",\n",
       "  \"i think i'll jpsae into mass comm.~ it's where my passion is, or fsv.\"),\n",
       " ('swag ou pas swag???? lol http://t.co/zz4pik5x', 'swag ou pas swag???? lol'),\n",
       " ('cherish the people that are still in your life, because alot of people dont have many of their loved ones #thingsivelearned',\n",
       "  'cherish the people that are still in your life, because alot of people dont have many of their loved ones #thingsivelearned'),\n",
       " ('rt @martinacarletti: niente inseguimenti, ti lasci prendere, e portare in posti che non hai mai visto ma che forse, erano ad un solo pas ...',\n",
       "  'rt niente inseguimenti, ti lasci prendere, e portare in posti che non hai mai visto ma che forse, erano ad un solo pas ...'),\n",
       " ('@fakekake du ahst es doch noch nie gezockt :d',\n",
       "  'du ahst es doch noch nie gezockt :d'),\n",
       " (\"@wherethekushat where at ? they don't drop to the 4th lol\",\n",
       "  \"where at ? they don't drop to the 4th lol\"),\n",
       " ('1400 tweet voor: @giorrii , @iamloydrv_ & @isabellekemens',\n",
       "  '1400 tweet voor: , &'),\n",
       " ('tengo que dejar de decir cosas como: añuñuñu, muakata o ñakañaka',\n",
       "  'tengo que dejar de decir cosas como: añuñuñu, muakata o ñakañaka'),\n",
       " ('raus, rein, raus rein hahahaha ok.#sv',\n",
       "  'raus, rein, raus rein hahahaha ok.#sv'),\n",
       " ('rt @negricola_: típico que digan típico. rt @carmenmrg: sera q  pueden dejar de ser copias , y dejar de decir la puta palabra \"tipico\"?? ...',\n",
       "  'rt típico que digan típico. rt sera q pueden dejar de ser copias , y dejar de decir la puta palabra \"tipico\"?? ...'),\n",
       " (\"i'm drunk. ya quierooo estar en df... ay!!! ;)\",\n",
       "  \"i'm drunk. ya quierooo estar en df... ay!!! ;)\"),\n",
       " ('rt @coen09: @floorhoevers beterschap!♥', 'rt beterschap!♥'),\n",
       " ('#5yearsofkidrauhl  imagine if that account never excited :( but it has been 5 years bitches i love him ♥ :)',\n",
       "  '#5yearsofkidrauhl imagine if that account never excited :( but it has been 5 years bitches i love him ♥ :)'),\n",
       " ('spielte: wir lassen uns das singen nicht verbieten von tina york. itunes: http://t.co/kbix841z',\n",
       "  'spielte: wir lassen uns das singen nicht verbieten von tina york. itunes:'),\n",
       " ('deen confirms diabetes, partners with drugmaker http://t.co/bgp7safv',\n",
       "  'deen confirms diabetes, partners with drugmaker'),\n",
       " ('spielte: ob es so oder so oder anders kommt von lena valaitis. itunes: http://t.co/68bympfa',\n",
       "  'spielte: ob es so oder so oder anders kommt von lena valaitis. itunes:'),\n",
       " ('kun jij dit weekend logeren schat? @verhoeveniris',\n",
       "  'kun jij dit weekend logeren schat?'),\n",
       " ('@doctorina46 mamma mia anche da me!!!:-(', 'mamma mia anche da me!!!:-('),\n",
       " ('@jandeboer1996 dat hou je bij?', 'dat hou je bij?'),\n",
       " ('@joeyvinke rt @joeyvinke ja jezus ! focking kwaad eh.... kut facking facking schooll =s &gt;&gt; egt he ze hebben morgen boxem ook maar die 1/2',\n",
       "  'rt ja jezus ! focking kwaad eh.... kut facking facking schooll =s &gt;&gt; egt he ze hebben morgen boxem ook maar die 1/2'),\n",
       " ('@muriismallz hahah.. meiner wird wick medinight heißen',\n",
       "  'hahah.. meiner wird wick medinight heißen'),\n",
       " ('@nachtgedacht grosse worte :-) bin meist auch ein nachtschwaermer bin voller neugier :-)',\n",
       "  'grosse worte :-) bin meist auch ein nachtschwaermer bin voller neugier :-)'),\n",
       " ('@_livingalie ahahahaha', ''),\n",
       " ('@inexttojustin que putada :s yo no podria vivir sin playa en verano :b',\n",
       "  'que putada :s yo no podria vivir sin playa en verano :b'),\n",
       " ('@maurizioponte maurizio, sei un simpaticone tu, ti fai perdonare tutto: balckberry, pc... la tua macgirl indispettita.',\n",
       "  'maurizio, sei un simpaticone tu, ti fai perdonare tutto: balckberry, pc... la tua macgirl indispettita.'),\n",
       " ('rt @tiboraisse: titre fâcheux du jour rt@patthomas \"haute-saône, agression d\\'un couple à la hache : le tribunal ne tranche pas\" http://t ...',\n",
       "  'rt titre fâcheux du jour rt@patthomas \"haute-saône, agression d\\'un couple à la hache : le tribunal ne tranche pas\" ...'),\n",
       " (\"@benildelm c'est s'que j'ai entendu mais j'y crois pas du tout #intox\",\n",
       "  \"c'est s'que j'ai entendu mais j'y crois pas du tout #intox\"),\n",
       " (\"@manisabella hey tu m'envois ls photos sur on face stplai, je veux voir a quoi cela ressemble\",\n",
       "  \"hey tu m'envois ls photos sur on face stplai, je veux voir a quoi cela ressemble\"),\n",
       " ('the grind never stops! #nodayzoff', 'the grind never stops! #nodayzoff'),\n",
       " ('rt @fortichiari: metodo #monti: con una mano ti dà il veleno, con l\\'altra la (pseudo)medicina. risultato: il malato schiatta e la \"stabi ...',\n",
       "  'rt metodo #monti: con una mano ti dà il veleno, con l\\'altra la (pseudo)medicina. risultato: il malato schiatta e la \"stabi ...'),\n",
       " ('http://t.co/zyewpa1r - hast du augenmerk nach z?lichkeiten. | harter tran... #erotik #sexcam',\n",
       "  '- hast du augenmerk nach z?lichkeiten. | harter tran... #erotik #sexcam'),\n",
       " (\"@donlars ja richtig, in der näheren umgebung gibt's außer wuppertal keine großstadt. und wuppertal ist hässlich.\",\n",
       "  \"ja richtig, in der näheren umgebung gibt's außer wuppertal keine großstadt. und wuppertal ist hässlich.\"),\n",
       " ('@dictvm die antwort steht im mietvertrag :)',\n",
       "  'die antwort steht im mietvertrag :)'),\n",
       " ('who eva sed dat gals r trustworthy must b a gal ... for sure ..',\n",
       "  'who eva sed dat gals r trustworthy must b a gal ... for sure ..'),\n",
       " (\"@ivytohhh i don't want the i love greyson huiyi!\",\n",
       "  \"i don't want the i love greyson huiyi!\"),\n",
       " ('i just want to listen to \"tv eye\" by the stooges on repeat and look at kinky shit all day. #feedingthemuse',\n",
       "  'i just want to listen to \"tv eye\" by the stooges on repeat and look at kinky shit all day. #feedingthemuse'),\n",
       " ('rt @menschwerdung: meine geheime superkraft: so richtig megaschaurigschiefschlecht zu geilen liedern mitsingen.',\n",
       "  'rt meine geheime superkraft: so richtig megaschaurigschiefschlecht zu geilen liedern mitsingen.'),\n",
       " ('*sigh* i need a vacation.', '*sigh* i need a vacation.'),\n",
       " (\"j'avais oubliée j'étais la nouvelle violeuse de negro :/ mon planning est trop chargé j'ai pas eu le temps #sorry !\",\n",
       "  \"j'avais oubliée j'étais la nouvelle violeuse de negro :/ mon planning est trop chargé j'ai pas eu le temps #sorry !\"),\n",
       " ('@usaisararte guarda, queste cose mi fanno imbestialire!!! :((',\n",
       "  'guarda, queste cose mi fanno imbestialire!!! :(('),\n",
       " ('rt @maylia0fficiel: @mpofficial une tuerie !!!! ;)',\n",
       "  'rt une tuerie !!!! ;)'),\n",
       " ('@xiagio ooookkkkkk!!!:***', ''),\n",
       " ('alleen in de aula :s', 'alleen in de aula :s'),\n",
       " ('kraftfahrer', 'kraftfahrer'),\n",
       " ('entsäuern-entschlacken-entgiften-entfetten mehr dazu auf  http://t.co/jd6ejhkp',\n",
       "  'mehr dazu auf'),\n",
       " ('rt @spainjustbieber: 26. quiero saber que se siente al contar los días que te faltan para ir a un concierto de justin. #30thingsaboutme',\n",
       "  'rt 26. quiero saber que se siente al contar los días que te faltan para ir a un concierto de justin. #30thingsaboutme'),\n",
       " ('rt @boysengirls: rt als je nog nooit één van je botten hebt gebroken #boysengirls',\n",
       "  'rt rt als je nog nooit één van je botten hebt gebroken #boysengirls'),\n",
       " ('hey guys :)', 'hey guys :)'),\n",
       " ('rt @ciro_delsorbo: un pensiero per paolo borsellino nel giorno del suo compleanno. http://t.co/ot4slahs',\n",
       "  'rt un pensiero per paolo borsellino nel giorno del suo compleanno.'),\n",
       " ('#bachelor aus hamburg... tja kein kommentar ;)',\n",
       "  '#bachelor aus hamburg... tja kein kommentar ;)'),\n",
       " ('moin aus friesland: moin ihr alle,freue mich sehr, hier mit machen zu dürfen.habe vorher schon einige zeit hier ... http://t.co/z18uwwal',\n",
       "  'moin aus friesland: moin ihr alle,freue mich sehr, hier mit machen zu dürfen.habe vorher schon einige zeit hier ...'),\n",
       " ('\"@rons180: @_jaimyd  komt nog maar waar blijven mijn kamelen ??? hahahaha\" hahahahha',\n",
       "  '\"@rons180: komt nog maar waar blijven mijn kamelen ??? hahahaha\"'),\n",
       " ('@swarnellaplubel aucalme', 'aucalme'),\n",
       " ('gomez... à défaut de compter, il prends un 2... way to go scott !!!! out pour 2 min !! trop cool !',\n",
       "  'gomez... à défaut de compter, il prends un 2... way to go scott !!!! out pour 2 min !! trop cool !'),\n",
       " ('gotta do what u gotta do', 'gotta do what u gotta do'),\n",
       " ('@sandlablonde master pissed\\xa0?', 'master pissed\\xa0?'),\n",
       " ('ok ahora si las dejo uff.. espero les haya gustads todos los nuevos capis :) ...! besitos ya hora si me voy antes de que me maten',\n",
       "  'ok ahora si las dejo uff.. espero les haya gustads todos los nuevos capis :) ...! besitos ya hora si me voy antes de que me maten'),\n",
       " ('@xkusjerooos thahahah;p', 'thahahah;p'),\n",
       " ('#agenceweb #oléron paranello: economisez 65% sur un étendoir\\xa0chauffant http://t.co/ldama9tw',\n",
       "  '#agenceweb #oléron paranello: economisez 65% sur un étendoir\\xa0chauffant'),\n",
       " ('druk aan het werk #ahum', 'druk aan het werk #ahum'),\n",
       " ('@kneusjedaan @gerjanvstralen @mitchelsip @mathijs613 we hebben mirgen geen trainen :(((',\n",
       "  'we hebben mirgen geen trainen :((('),\n",
       " ('#ilovebieberconda.... wuajajajjajajajajajajajajajajajajajajajajajajajajajaja!!',\n",
       "  '#ilovebieberconda....'),\n",
       " ('salut chris :p ^^ ouè je suis la moi ^^ je vais etre jaloux ! grrrr (@stuffweallget_ live on http://t.co/enmhmpxq)',\n",
       "  'salut chris :p ^^ ouè je suis la moi ^^ je vais etre jaloux ! grrrr (@stuffweallget_ live on'),\n",
       " (\"rt @randicecilia: i'm wearing pink on national wear red day. #thuglife\",\n",
       "  \"rt i'm wearing pink on national wear red day. #thuglife\"),\n",
       " ('joder con la niña pija de los huevos xdd',\n",
       "  'joder con la niña pija de los huevos xdd'),\n",
       " ('vanbinnen is ze stil..', 'vanbinnen is ze stil..'),\n",
       " (\"rt @alfierimarco: dopo il salvataggio di #cosentino è ormai evidente che l'asse del nord, bossi-berlusconi, da politico è diventato solo ...\",\n",
       "  \"rt dopo il salvataggio di #cosentino è ormai evidente che l'asse del nord, bossi-berlusconi, da politico è diventato solo ...\"),\n",
       " (\"my body temperature keep droppin' 1st im freezing now its hot in here; maybe its cause of this cold\",\n",
       "  \"my body temperature keep droppin' 1st im freezing now its hot in here; maybe its cause of this cold\"),\n",
       " ('wishin i woulda tried more, he wanted the truth..truthfully i wish i lied more. cause when i was true ? all i heard was \"bye\" more',\n",
       "  'wishin i woulda tried more, he wanted the truth..truthfully i wish i lied more. cause when i was true ? all i heard was \"bye\" more'),\n",
       " ('@shainy7m ma quanti anni ha?? o.o volevo vedere se ti mostrava le pistole nn da delle immagini ma dal vivo auahauah',\n",
       "  'ma quanti anni ha?? o.o volevo vedere se ti mostrava le pistole nn da delle immagini ma dal vivo auahauah'),\n",
       " ('réveil difficile.', 'réveil difficile.'),\n",
       " ('@leichenwagen hey... also... ne, mach mir keine angst... das ist ja horror... naja damit kennst du dich ja aus.',\n",
       "  'hey... also... ne, mach mir keine angst... das ist ja horror... naja damit kennst du dich ja aus.'),\n",
       " (\"solo a roma l'essere vicino alla metro è un asset per le case...\",\n",
       "  \"solo a roma l'essere vicino alla metro è un asset per le case...\"),\n",
       " ('@xtrevi @charlygs78 tenemos memoria no a #bejarano no #mancera http://t.co/ovmyciqs',\n",
       "  'tenemos memoria no a #bejarano no #mancera'),\n",
       " (\"@msaudreyy moi au moins je sais que j'en ai deux ;p\",\n",
       "  \"moi au moins je sais que j'en ai deux ;p\"),\n",
       " ('@hahallejulia @maatish ich hab aufgehört, als der flaschenboden kam.',\n",
       "  'ich hab aufgehört, als der flaschenboden kam.'),\n",
       " ('@canellargentina ;) calor o traés un pokito de fresco?',\n",
       "  ';) calor o traés un pokito de fresco?'),\n",
       " (\"@abbierubiee i'm going to brewsters with my nephew so ill reply later x\",\n",
       "  \"i'm going to brewsters with my nephew so ill reply later x\"),\n",
       " ('@marcolinorules ma chi ha scritto tutto ciò? laura freddi?',\n",
       "  'ma chi ha scritto tutto ciò? laura freddi?'),\n",
       " ('@marysorrentino_ sto scaldando i frjarielli che non mi sono mangiato prima. vuoi?',\n",
       "  'sto scaldando i frjarielli che non mi sono mangiato prima. vuoi?'),\n",
       " ('@martimacetta come (poche volte) facciamo noi.',\n",
       "  'come (poche volte) facciamo noi.'),\n",
       " (\"trouvé l'erreur... http://t.co/mac7ud9s\", \"trouvé l'erreur...\"),\n",
       " (\"@kevfenty ces cheveux. ce rouge à lèvres. ce combo jean + veste en jean. c'est moche.\",\n",
       "  \"ces cheveux. ce rouge à lèvres. ce combo jean + veste en jean. c'est moche.\"),\n",
       " ('#cervicalgia a letto #twittoff, ciao amici cari.... sempre nel #cuore',\n",
       "  '#cervicalgia a letto #twittoff, ciao amici cari.... sempre nel #cuore'),\n",
       " ('dont fucking killl me http://t.co/ybecfsfz', 'dont fucking killl me'),\n",
       " ('golden corral is not appetizing to me.....had it once and i was like yuckkkk #myopinion',\n",
       "  'golden corral is not appetizing to it once and i was like yuckkkk #myopinion'),\n",
       " ('rt @misterphrases: la persona a la que más quieres, en ocasiones es quien te hace sentir más triste',\n",
       "  'rt la persona a la que más quieres, en ocasiones es quien te hace sentir más triste'),\n",
       " ('rt @buttchinbaby: when stop laughing, you start growing old.',\n",
       "  'rt when stop laughing, you start growing old.'),\n",
       " ('envie de zoukééééé', 'envie de'),\n",
       " ('temp: 5.5 c; wind/boe: 1.0/2.0 km/h, aus:so; regen gesamt: 6.0 mm; luftfeuchtigkeit: 99 %; luftdruck 965.7 hpa',\n",
       "  'temp: 5.5 c; wind/boe: 1.0/2.0 km/h, aus:so; regen gesamt: 6.0 mm; luftfeuchtigkeit: 99 %; luftdruck 965.7 hpa'),\n",
       " (\"viens on s'assoit et tu m'explique a quoi ça sert la team rep a ca. a clasher ? intéressant.\",\n",
       "  \"viens on s'assoit et tu m'explique a quoi ça sert la team rep a ca. a clasher ? intéressant.\"),\n",
       " ('netter mann gesucht: münster, westfalen | ich bin eine attraktive, sympathische, natürliche frau von 21 jahren u... http://t.co/m3fn2rub',\n",
       "  'netter mann gesucht: münster, westfalen | ich bin eine attraktive, sympathische, natürliche frau von 21 jahren u...'),\n",
       " ('@reynaldo_sq lastima ! yo no veo ninguna flaquita friki por aqui :/ si no inn 8-)',\n",
       "  'lastima ! yo no veo ninguna flaquita friki por aqui :/ si no inn 8-)'),\n",
       " (':o pensé en ella y me mandó un mensaje.. luego pensé en él y también me mandó un mensaje... #aynanita d:',\n",
       "  ':o pensé en ella y me mandó un mensaje.. luego pensé en él y también me mandó un mensaje... #aynanita d:'),\n",
       " (\"if you don't accomplish goals you've set for yourself you're not going to go far in life\",\n",
       "  \"if you don't accomplish goals you've set for yourself you're not going to go far in life\"),\n",
       " ('@doanmetslo griendsveen', 'griendsveen'),\n",
       " (\"@kingofthehoes91 on your mac? wth, macs aren't suppose to get viruses lol\",\n",
       "  \"on your mac? wth, macs aren't suppose to get viruses lol\"),\n",
       " ('rt @46chespettacolo: ragazzi aiutatemi a twittarla a vale che adesso è su twitter!!! http://t.co/qkhodn4d',\n",
       "  'rt ragazzi aiutatemi a twittarla a vale che adesso è su twitter!!!'),\n",
       " (\"@tatasabrina1 oui il me reste 2 nouvelles paire à montrer après niveau jordan je serai obligé d'en racheter pour faire un nouveau #jordanday\",\n",
       "  \"oui il me reste 2 nouvelles paire à montrer après niveau jordan je serai obligé d'en racheter pour faire un nouveau #jordanday\"),\n",
       " ('@vincent_collin @verokoros ou alors, la nuit je mens.',\n",
       "  'ou alors, la nuit je mens.'),\n",
       " ('@scheiin0403 trotzdem ... ich hab ja schon einen normalen ds (;',\n",
       "  'trotzdem ... ich hab ja schon einen normalen ds (;'),\n",
       " ('verkaufe hp deskjet  b 45 c drucker.  der drucker: graz | verkaufe hp deskjet  b 45 c drucker.  der drucker funk... http://t.co/1nqydxf6',\n",
       "  'verkaufe hp deskjet b 45 c drucker. der drucker: graz | verkaufe hp deskjet b 45 c drucker. der drucker funk...'),\n",
       " (\"17-bin laden e' vivo o morto? morto..\",\n",
       "  \"17-bin laden e' vivo o morto? morto..\"),\n",
       " ('tablet pc mit windows 8 ?: hallo leute ich wollte mal wissen, gibt es schon einen tablett pc mit windo... http://t.co/gtduaogn #computer',\n",
       "  'tablet pc mit windows 8 ?: hallo leute ich wollte mal wissen, gibt es schon einen tablett pc mit windo... #computer'),\n",
       " ('@germanocaperna ma poi si stacca? #gulp', 'ma poi si stacca? #gulp'),\n",
       " ('#np @chip216 - #tellyafriends', '#np - #tellyafriends'),\n",
       " ('@sextateenangels sisisi lastima qe vivis lejos pero posta no tengo con nadie con quien quedarme alla..',\n",
       "  'sisisi lastima qe vivis lejos pero posta no tengo con nadie con quien quedarme alla..'),\n",
       " ('@leila_bent thanks', 'thanks'),\n",
       " (\"@chiarea a cos'era riferita questa risposta? non me lo ricordo ahahahhahah.\",\n",
       "  \"a cos'era riferita questa risposta? non me lo ricordo\"),\n",
       " ('rt @xbananasmile98: @carlottaloveu ciao tessssoro la canzone è http://t.co/qhhu8zi7 :3',\n",
       "  'rt ciao tessssoro la canzone è :3'),\n",
       " ('i want some sour candy. like right now.',\n",
       "  'i want some sour candy. like right now.'),\n",
       " ('rt @agronota: rt @amarioluis: \"si la educación no es capaz de dar calidad en sus productos... la sociedad (cont) http://t.co/rmllz18e',\n",
       "  'rt rt \"si la educación no es capaz de dar calidad en sus productos... la sociedad (cont)'),\n",
       " ('@frafacchinetti se non ti conoscessimo ti potremmo prendere per un milanista ù.ù ahahahahaha',\n",
       "  'se non ti conoscessimo ti potremmo prendere per un milanista ù.ù'),\n",
       " ('rt @barreto670: @elquicky @mariovipr y @elcoyotetheshow son los mas fueltes de la calle. montandola dia a dia por @lanuevecuatro',\n",
       "  'rt y son los mas fueltes de la calle. montandola dia a dia por'),\n",
       " ('@appelo_  hahahaha', 'hahahaha'),\n",
       " ('en venezuela hablan mucho de política pero pocos saben de política, este sr. @mansuetialberto está claro http://t.co/4fwdjoqb',\n",
       "  'en venezuela hablan mucho de política pero pocos saben de política, este sr. está claro'),\n",
       " (\"i can't stand some of my teachers :\",\n",
       "  \"i can't stand some of my teachers :\"),\n",
       " ('naar etos met mama x', 'naar etos met mama x'),\n",
       " ('@mondbluemchen08 aber wenn man sie 100x liest prägt man sich es besser ein *lach* aber ich glaube dann wird man verrückt^^',\n",
       "  'aber wenn man sie 100x liest prägt man sich es besser ein *lach* aber ich glaube dann wird man verrückt^^'),\n",
       " ('@mauritss_  shaddap', 'shaddap'),\n",
       " ('rt @mkytaylor: je voulais faire une blague pour les chauves mais elle un peu trop tiré par les cheveux ! #blague',\n",
       "  'rt je voulais faire une blague pour les chauves mais elle un peu trop tiré par les cheveux ! #blague'),\n",
       " ('22-fai tu la prima mossa o aspetti che siano gli altri? dipende',\n",
       "  '22-fai tu la prima mossa o aspetti che siano gli altri? dipende'),\n",
       " ('@giu_carliter va bene ma bastano anche 7 secondi,il tempo di augurarle buon compleanno :3',\n",
       "  'va bene ma bastano anche 7 secondi,il tempo di augurarle buon compleanno :3'),\n",
       " ('#yonoquierometercasquillopero no te conformes con ser el segundo plato',\n",
       "  'no te conformes con ser el segundo plato'),\n",
       " ('@kingcp83 ci devo ancora arrivare ..in attesa delle colleghe ..ufff',\n",
       "  'ci devo ancora arrivare ..in attesa delle colleghe ..ufff'),\n",
       " ('pero lo importante es internet', 'pero lo importante es internet'),\n",
       " ('@xxdjvalexx @charlyrazo el #srdelasligas detras de #mancera http://t.co/j1nyscpo',\n",
       "  'el #srdelasligas detras de #mancera'),\n",
       " ('sondern: in-dash dvd players : http://t.co/mhusm7k8 http://t.co/lk4kvej0',\n",
       "  'sondern: in-dash dvd players :'),\n",
       " ('llegamos donde @ania_uribe ! sal de fruta eno, omeprazol y ranitidina por si acaso nos afecta el almuerzo xd',\n",
       "  'llegamos donde ! sal de fruta eno, omeprazol y ranitidina por si acaso nos afecta el almuerzo xd'),\n",
       " ('rt @mistervonline: pour les présidentielles, un tout nouveau type de débat fait apparition, le rap contenders politique ! http://t.co/tj ...',\n",
       "  'rt pour les présidentielles, un tout nouveau type de débat fait apparition, le rap contenders politique ! ...'),\n",
       " ('rt @sheed_rip_rafiq: rugby ralph lauren &gt;&gt;&gt;',\n",
       "  'rt rugby ralph lauren &gt;&gt;&gt;'),\n",
       " ('rt @robdelaney: just got back from salsa class. why are all my neighbors yelling at their tvs?',\n",
       "  'rt just got back from salsa class. why are all my neighbors yelling at their tvs?'),\n",
       " (\"la connessione dell'@univaq fa' schifo. . .\",\n",
       "  \"la connessione dell'@univaq fa' schifo. . .\"),\n",
       " ('rt @martyiawrence: #youknowyoughettowhen your middle name on facebook is just as long as this trending topic..',\n",
       "  'rt #youknowyoughettowhen your middle name on facebook is just as long as this trending topic..'),\n",
       " ('rt @linguereya: oh election yi rissmoone djiiiz na mdrr il ne manke plus que ca!!!!  god please save my country #sunu2012#',\n",
       "  'rt oh election yi rissmoone djiiiz na mdrr il ne manke plus que ca!!!! god please save my country #sunu2012#'),\n",
       " ('39- quanti idoli hai?  6! *-*', '39- quanti idoli hai? 6! *-*'),\n",
       " ('@ohno_itzdom :(..i want to be there...i hav no way of reachin mandeville tho :|',\n",
       "  ':(..i want to be there...i hav no way of reachin mandeville tho :|'),\n",
       " ('@_livingalie &gt; e lei ha postato stop the world di demi che si dice che forse è dedicata a noyes ahhahahahahahhaha',\n",
       "  '&gt; e lei ha postato stop the world di demi che si dice che forse è dedicata a noyes'),\n",
       " ('zow, kindjes op school, omgekleed, mini naar oma en ik kan gaan buitenspelen! #hardlopen weer lekker in de korte broek... #happytweet',\n",
       "  'zow, kindjes op school, omgekleed, mini naar oma en ik kan gaan buitenspelen! #hardlopen weer lekker in de korte broek... #happytweet'),\n",
       " ('die kostbarkeit des augenblicks. gedanken - erinnerungen.:  http://t.co/ikkhtmju',\n",
       "  'die kostbarkeit des augenblicks. gedanken - erinnerungen.:'),\n",
       " ('@trueffi um 19:22 uhr würde ich eher den arbeitsvertrag hinterfragen...',\n",
       "  'um 19:22 uhr würde ich eher den arbeitsvertrag hinterfragen...'),\n",
       " ('rt @lastiigmeiisje_: echt lekker dat we donderdag vrij hebben ☺ !',\n",
       "  'rt echt lekker dat we donderdag vrij hebben ☺ !'),\n",
       " ('derstandard| eib: rating-agentur senkt ausblick f&uuml;r eu-hausbank http://t.co/wdwxgu1d',\n",
       "  'derstandard| eib: rating-agentur senkt ausblick f&uuml;r eu-hausbank'),\n",
       " ('poinx - offerta milano - bar: colazione a 6.00 eur invece di 15.30 #di #+ #invece #euro /',\n",
       "  'poinx - offerta milano - bar: colazione a 6.00 eur invece di 15.30 #di #+ #invece #euro /'),\n",
       " ('imagine how that feels', 'imagine how that feels'),\n",
       " ('@lorehuana ha-ha-ha no ps que chevere si no te da la gana no vayas mas entonces :)',\n",
       "  'ha-ha-ha no ps que chevere si no te da la gana no vayas mas entonces :)'),\n",
       " ('fiesole colonica indipendente su due livelli ristrutturata  2.200€  170 m²  5 locali http://t.co/s20nvtrl #affitto #casa #firenze',\n",
       "  'fiesole colonica indipendente su due livelli ristrutturata 2.200€ 170 m² 5 locali #affitto #casa #firenze'),\n",
       " ('@riverblog hai visto bonolis dal vivo? :o',\n",
       "  'hai visto bonolis dal vivo? :o'),\n",
       " ('@roosjedoosje_ dankje &lt;3', 'dankje &lt;3'),\n",
       " ('@lamarsi eh già é tutto diverso ora! comunque mi sa che hurricane non la sentiremo! ho sentito (cont) http://t.co/pz2awquv',\n",
       "  'eh già é tutto diverso ora! comunque mi sa che hurricane non la sentiremo! ho sentito (cont)'),\n",
       " ('that tweet &gt;', 'that tweet &gt;'),\n",
       " ('motorola xoom 2 bereits für 539€ in deutschland erhältlich http://t.co/8cqywqez',\n",
       "  'motorola xoom 2 bereits für 539€ in deutschland erhältlich'),\n",
       " ('my aunt snapping she angry lol about a soda',\n",
       "  'my aunt snapping she angry lol about a soda'),\n",
       " ('my last tweet  drank up in my cup - dj screw',\n",
       "  'my last tweet drank up in my cup - dj screw'),\n",
       " ('@mizz_zaty done your turn (:', 'done your turn (:'),\n",
       " ('@lisaxxloveyou jaaaa wat is je nummer xx', 'jaaaa wat is je nummer xx'),\n",
       " ('@valeriehutten hihi okee is goed! slaaplekker',\n",
       "  'hihi okee is goed! slaaplekker'),\n",
       " (\"rt @maxy_joke: #megaupload fermé pour non respects des droits d'auteur ? qu'ils ferment les sites pédophile d'abord, ça serait plus inte ...\",\n",
       "  \"rt #megaupload fermé pour non respects des droits d'auteur ? qu'ils ferment les sites pédophile d'abord, ça serait plus inte ...\"),\n",
       " ('yeaah papa geeft toe dat ik de beter ben dan hem #heujj',\n",
       "  'yeaah papa geeft toe dat ik de beter ben dan hem #heujj'),\n",
       " ('@chuuwe chouette, pas de photo :d', 'chouette, pas de photo :d'),\n",
       " (\"@sergiio_hamlets mjm'\", \"mjm'\"),\n",
       " ('http://t.co/sbom1j1b granate einzigartiges design 2.0usb usb u festplatte flash-speicher festplatte 8gb',\n",
       "  'granate einzigartiges design 2.0usb usb u festplatte flash-speicher festplatte 8gb'),\n",
       " ('si cree que la pregunta no tiene respuesta, cambie la pregunta.',\n",
       "  'si cree que la pregunta no tiene respuesta, cambie la pregunta.'),\n",
       " ('when i said about coppers i meant they were filming on a saturday night in town and i was out just to clarify lmao',\n",
       "  'when i said about coppers i meant they were filming on a saturday night in town and i was out just to clarify lmao'),\n",
       " (\"@zenildaflow @nadounadia78 @cooumbiis je me suis dit: elle s'en foutent! j'avais raison ^^\",\n",
       "  \"je me suis dit: elle s'en foutent! j'avais raison ^^\"),\n",
       " ('rt @zeropregi: ma se invece de scrive #parolecomepietre cominciassimo a tirà #pietrecomepietre? secondo me, è più incisivo.',\n",
       "  'rt ma se invece de scrive #parolecomepietre cominciassimo a tirà secondo me, è più incisivo.'),\n",
       " ('rt @ciropellegrino: #occupyscampia rt @ciropellegrino: su scampia bisogna rompere il coprifuoco culturale http://t.co/w8olj4sr',\n",
       "  'rt #occupyscampia rt su scampia bisogna rompere il coprifuoco culturale'),\n",
       " ('@melanysamoy le copain de ma mère fait de la concurrence à ta belle mère !',\n",
       "  'le copain de ma mère fait de la concurrence à ta belle mère !'),\n",
       " ('rt @boysengirls: als je mij negeert, negeer ik jou. als jij het gesprek niet begint, gaan we niet praten. als jij niets doet, waarom zou ...',\n",
       "  'rt als je mij negeert, negeer ik jou. als jij het gesprek niet begint, gaan we niet praten. als jij niets doet, waarom zou ...'),\n",
       " ('after all this whole thing was my fault',\n",
       "  'after all this whole thing was my fault'),\n",
       " ('@shutupg es gibt gar keine mafia.', 'es gibt gar keine mafia.'),\n",
       " ('@missfumble geben sie uns ein interview? we would like to interview you. click: http://t.co/zpge8nyo',\n",
       "  'geben sie uns ein interview? we would like to interview you. click:'),\n",
       " ('i wanna know if some of my followers tall or not',\n",
       "  'i wanna know if some of my followers tall or not'),\n",
       " ('@rebecajimenz ¿cual?', '¿cual?'),\n",
       " ('aller faire les soldes ou attendre de voir les tweets des suju apparaitre ....',\n",
       "  'aller faire les soldes ou attendre de voir les tweets des suju apparaitre ....'),\n",
       " ('no se que tiene celia, pero que cada vez que habla me da sueño.',\n",
       "  'no se que tiene celia, pero que cada vez que habla me da sueño.'),\n",
       " ('rt @aokitheninja: lol @goombaboyul go read a book',\n",
       "  'rt lol go read a book'),\n",
       " (\"ineed some new ink b...it's been to long\",\n",
       "  \"ineed some new ink b...it's been to long\"),\n",
       " ('-como estas?       -sin ti pero ya me acostumbre☺',\n",
       "  '-como estas? -sin ti pero ya me acostumbre☺'),\n",
       " ('rt @igorsalomone: questo governo è talmente tecnico che per leggere il giornale mi faccio aiutare dal commercialista #monti',\n",
       "  'rt questo governo è talmente tecnico che per leggere il giornale mi faccio aiutare dal commercialista #monti'),\n",
       " ('@germanocaperna poliglotta...', 'poliglotta...'),\n",
       " ('pff hoofdpijn', 'pff hoofdpijn'),\n",
       " (\"@liliepinto ces règles c'est un peu comme la pilule !!\",\n",
       "  \"ces règles c'est un peu comme la pilule !!\"),\n",
       " ('leggo news monti su la7: \"colpiti i poteri forti. art.18? ne parlerà la fornero\" -video: roma - il governo aprir... http://t.co/uymwdqzj',\n",
       "  'leggo news monti su la7: \"colpiti i poteri forti. art.18? ne parlerà la fornero\" -video: roma - il governo aprir...'),\n",
       " (\"@fashionlife - don't be one of those niggas!\",\n",
       "  \"- don't be one of those niggas!\"),\n",
       " ('rt @tienersonline: true: relaties duren langer als niet iedereen zich ermee bemoeit #tienersonline',\n",
       "  'rt true: relaties duren langer als niet iedereen zich ermee bemoeit #tienersonline'),\n",
       " ('“@wtfuckfacts: every second 28,258 internet users are viewing porn.”',\n",
       "  '“@wtfuckfacts: every second 28,258 internet users are viewing porn.”'),\n",
       " ('@chiccasoloxpoki a me sto plurale disturba!  ahaah',\n",
       "  'a me sto plurale disturba! ahaah'),\n",
       " ('rt @marthamacht hat jemand zufälligerweise ein ungeliebtes exemplar des catrice eyeliners aus der vegas le? suche ihn händeringend!!!',\n",
       "  'rt hat jemand zufälligerweise ein ungeliebtes exemplar des catrice eyeliners aus der vegas le? suche ihn händeringend!!!'),\n",
       " ('@madecon @ibmlahamad @princesitamia_ uh... paz descanse...',\n",
       "  'uh... paz descanse...'),\n",
       " ('kriege heute gefühlte eine million mails, dass am 14. februar valentinstag ist.... hallo? das weiß ich auch so *grummel*',\n",
       "  'kriege heute gefühlte eine million mails, dass am 14. februar valentinstag ist.... hallo? das weiß ich auch so *grummel*'),\n",
       " (\"mettersi a studiare per distrarsi dall'ansia #fatto\",\n",
       "  \"mettersi a studiare per distrarsi dall'ansia #fatto\"),\n",
       " ('@marcdreinull ja in dem zug von stolberg. ^^',\n",
       "  'ja in dem zug von stolberg. ^^'),\n",
       " ('wa is dit krijge horror en bloeed in zn reclaame hhaha #kuttoetsenbord :)',\n",
       "  'wa is dit krijge horror en bloeed in zn reclaame hhaha #kuttoetsenbord :)'),\n",
       " ('@koyv @danepersoon @bboukje @dddnni @freek1010 @jjooepp @freddddderieke @timmbosch @tjerkhofland @guy_1997 en rest, het was gewoon kanon! &lt;3',\n",
       "  'en rest, het was gewoon kanon! &lt;3'),\n",
       " ('@markusraum zum wochenende hin? unter der woche wärs fast stress. schreiben uns einfach nochmal.',\n",
       "  'zum wochenende hin? unter der woche wärs fast stress. schreiben uns einfach nochmal.'),\n",
       " ('pathetischen vortrag über die pietas-programmatik des augustus gehalten. studenten in verzückung und leichter langeweile zurückgelassen.',\n",
       "  'pathetischen vortrag über die pietas-programmatik des augustus gehalten. studenten in verzückung und leichter langeweile zurückgelassen.'),\n",
       " ('rauchen fetisch !: rauchen fetisch ! http://t.co/uucy55y0',\n",
       "  'rauchen fetisch !: rauchen fetisch !'),\n",
       " ('zometeen met huiswerk beziggg..', 'zometeen met huiswerk beziggg..'),\n",
       " ('@dani23_10 @somerholic_1986 quatsch xd das war sie sicher auch schon vorher ich hab sie nur auf den gedanken gebracht xd',\n",
       "  'quatsch xd das war sie sicher auch schon vorher ich hab sie nur auf den gedanken gebracht xd'),\n",
       " ('*yumi rico!!! rt @nickt_linares: rt @anaismc te amo!!!! heheheheheh----* y yo a ti nenita &lt;3 !! #besosalivoso',\n",
       "  '*yumi rico!!! rt rt te amo!!!! y yo a ti nenita &lt;3 !! #besosalivoso'),\n",
       " (\"u can't be #selfmade with out being #selfpaid @weareselfpaid @iamselfpaidace @1yayorobinson dl now! http://t.co/gt9mr7ma\",\n",
       "  \"u can't be #selfmade with out being #selfpaid dl now!\"),\n",
       " ('#agenceweb #oléron lady fitness: economisez 75% à lille métropole http://t.co/9g7uhneb',\n",
       "  '#agenceweb #oléron lady fitness: economisez 75% à lille métropole'),\n",
       " (\"@romistefi jajajajaja!!! es que te juro que voy a botar esta wuevada porque para mii ya no vale! y no voy a tener mas! bb!! xq' v_v!!\",\n",
       "  \"es que te juro que voy a botar esta wuevada porque para mii ya no vale! y no voy a tener mas! bb!! xq' v_v!!\"),\n",
       " ('justin italy is near to france  aiutateci non fate le cazzimmose!',\n",
       "  'justin italy is near to france aiutateci non fate le cazzimmose!'),\n",
       " ('over 10 min. gaan naar @asja_asatrian :)', 'over 10 min. gaan naar :)'),\n",
       " ('\"@linkdedownie: wie heeft het wiskundige talent van een pinda? (via @rvecactueel) #linkdedownie\" @pkwaker',\n",
       "  '\"@linkdedownie: wie heeft het wiskundige talent van een pinda? (via #linkdedownie\"'),\n",
       " (\"lollll just talked to @justpurrrrrfect's daddy 0.0\",\n",
       "  'just talked to daddy 0.0'),\n",
       " ('oddio su real time si parla di vagine...vagine..vagine...',\n",
       "  'oddio su real time si parla di'),\n",
       " ('- milieu', '- milieu'),\n",
       " ('rt @quimichela: @ric_puglisi tutto questo potrà essere usato contro di te, non dire più niente.',\n",
       "  'rt tutto questo potrà essere usato contro di te, non dire più niente.'),\n",
       " ('@lexi_2412 @dani23_10 @somerholic_1986 hahahaha stimmt lol sag mal mom er sitzt doch sicher grad neben dir also frag ihn einfach mal lol',\n",
       "  'hahahaha stimmt lol sag mal mom er sitzt doch sicher grad neben dir also frag ihn einfach mal lol'),\n",
       " ('sanitärinstallateur/in: mitarbeiter (m/w) für die branche heizung- /sanitär-/klimatechnik - sofortige festanstel... http://t.co/hw0afowr',\n",
       "  'sanitärinstallateur/in: mitarbeiter (m/w) für die branche heizung- /sanitär-/klimatechnik - sofortige festanstel...'),\n",
       " ('el desprecio que siento por los humanos que saben que algo esta mal y aun asi lo hacen si pensar en a quien van a erir ellos me dan asco!',\n",
       "  'el desprecio que siento por los humanos que saben que algo esta mal y aun asi lo hacen si pensar en a quien van a erir ellos me dan asco!'),\n",
       " ('@nino930 nino me broetje xxx', 'nino me broetje xxx'),\n",
       " ('@rajae_m_ ouftirelipimpon sur le chihuahua, tirelipimpon avec la tête avec les bras\\xa0? (pardon.)',\n",
       "  'ouftirelipimpon sur le chihuahua, tirelipimpon avec la tête avec les bras\\xa0? (pardon.)'),\n",
       " ('@msaudreyy mais comme je suis galant , je te laisse la réchauffer ;)',\n",
       "  'mais comme je suis galant , je te laisse la réchauffer ;)'),\n",
       " ('@nikibow1 yo gimme ur pin fool ..', 'yo gimme ur pin fool ..'),\n",
       " ('pooch hall from the game fine af too though',\n",
       "  'pooch hall from the game fine af too though'),\n",
       " ('ma trattenendo troppo risposte acide (anche se se le cercano) imploderò?',\n",
       "  'ma trattenendo troppo risposte acide (anche se se le cercano) imploderò?'),\n",
       " ('juste parce que elle est jolie... http://t.co/pg9lhhhc',\n",
       "  'juste parce que elle est jolie...'),\n",
       " ('rt @macetaminofen: estoy loco que sea el 14 de febrero pa ver la cantidad de papelones que se van a tirar en fb.',\n",
       "  'rt estoy loco que sea el 14 de febrero pa ver la cantidad de papelones que se van a tirar en fb.'),\n",
       " ('hay gente mierda #yvos', 'hay gente mierda #yvos'),\n",
       " ('galaxy tab 10.1: apple verliert in den niederlanden erneut gegen samsung http://t.co/afegwy4o',\n",
       "  'galaxy tab 10.1: apple verliert in den niederlanden erneut gegen samsung'),\n",
       " ('@nickt_linares jajajaja necesito bajar de peso para que sea sepsi xd',\n",
       "  'jajajaja necesito bajar de peso para que sea sepsi xd'),\n",
       " ('@jiimm25 start here http://t.co/qjcqakte', 'start here'),\n",
       " ('@whit3sh3ph3rd wie immer!', 'wie immer!'),\n",
       " ('urban rivals das sammelkartenspiel im browser http://t.co/qtungypt das browsergame urban rivals ist ein kostenloses multiplayer #browsergame',\n",
       "  'urban rivals das sammelkartenspiel im browser das browsergame urban rivals ist ein kostenloses multiplayer #browsergame'),\n",
       " (\"@duckie0_0 aprés les autre en font qu'un  ya herotic, tite hae, mawi et boonie =d mais herotic est pas sure de continuer\",\n",
       "  \"aprés les autre en font qu'un ya herotic, tite hae, mawi et boonie =d mais herotic est pas sure de continuer\"),\n",
       " (\"@b7105_yahoo_it requisiti base da definizione, come per tutto (non credo valga più l'attitudine che l'esperienza) @verdun75\",\n",
       "  \"requisiti base da definizione, come per tutto (non credo valga più l'attitudine che l'esperienza)\"),\n",
       " ('@_4cibeles merci.. ♥', 'merci.. ♥'),\n",
       " ('rt @caseychristophe: td broncos!!!!!! :)', 'rt td :)'),\n",
       " ('@aleer12 pues vamos!!', 'pues vamos!!'),\n",
       " (\"rt @marialatella: sul tg sky il presidente dei notai di milano dice che la loro non e'una professione ereditaria. tutti noi potremmo sme ...\",\n",
       "  \"rt sul tg sky il presidente dei notai di milano dice che la loro non e'una professione ereditaria. tutti noi potremmo sme ...\"),\n",
       " ('einen wunderbaren guten morgen, nette tl. genießt den tag. er liegt noch bor euch.',\n",
       "  'einen wunderbaren guten morgen, nette tl. genießt den tag. er liegt noch bor euch.'),\n",
       " ('leichte kost für die zugfahrt http://t.co/qvhtp4ck',\n",
       "  'leichte kost für die zugfahrt'),\n",
       " ('@gioiacorazza secondo me il cinismo è come una pelliccia (vera o sintetica) dentro la quale molte di noi si rifugiano per difesa.',\n",
       "  'secondo me il cinismo è come una pelliccia (vera o sintetica) dentro la quale molte di noi si rifugiano per difesa.'),\n",
       " ('leggo news costa, aperti altri varchi sul ponte 5. bertolaso: \"bastava una app da 2 euro\": grosseto - i palombar... http://t.co/5fipg5xc',\n",
       "  'leggo news costa, aperti altri varchi sul ponte 5. bertolaso: \"bastava una app da 2 euro\": grosseto - i palombar...'),\n",
       " ('rt @wtfuckfacts: black women are 50 percent more likely to reach orgasm during sex than white women.',\n",
       "  'rt black women are 50 percent more likely to reach orgasm during sex than white women.'),\n",
       " ('meine namen sind marie und ich bin 25 jahre alt suchen ein leben lang.: hilden | meine namen sind marie und ich ... http://t.co/f7bhamar',\n",
       "  'meine namen sind marie und ich bin 25 jahre alt suchen ein leben lang.: hilden | meine namen sind marie und ich ...'),\n",
       " ('chris is zo good', 'chris is zo good'),\n",
       " ('neumarkt 06:58h / aachener str./gü. 07:08h / junkersdorf 07:15h +++ wir bitten um verständnis. #kvb',\n",
       "  'neumarkt 06:58h / aachener str./gü. 07:08h / junkersdorf 07:15h +++ wir bitten um verständnis. #kvb'),\n",
       " ('craving pizza', 'craving pizza'),\n",
       " (\"@biebermysoul_c ma c'è justin *^* prima è uscito era stupendo hgjklò\",\n",
       "  \"ma c'è justin *^* prima è uscito era stupendo hgjklò\"),\n",
       " ('@dopegirlgang me eitherr lmao', 'me eitherr lmao'),\n",
       " ('i never have service in baybrooke .',\n",
       "  'i never have service in baybrooke .'),\n",
       " ('rt @1dhoroscopes: #pisces - harry will buy you this dress http://t.co/mmjqu5mg',\n",
       "  'rt #pisces - harry will buy you this dress'),\n",
       " ('verkaufe einen hp drucker/kopierer/scanner er fun: ebersdorf | verkaufe einen hp drucker/kopierer/scanner er fun... http://t.co/qfjduo1j',\n",
       "  'verkaufe einen hp er fun: ebersdorf | verkaufe einen hp er fun...'),\n",
       " ('glennis grace bij sportgala 2011', 'glennis grace bij sportgala 2011'),\n",
       " ('@fckn_rolemodel bis 1 denk ich :d', 'bis 1 denk ich :d'),\n",
       " ('rt @kushovahoes_: waken up tew sum good head &gt;&gt;&gt;&gt;&gt;&gt;',\n",
       "  'rt waken up tew sum good head'),\n",
       " ('theoretisch kann jede/r staatsbürger bundespräsident werden, sofern er mindestens 40 jahre alt ist. also los...   bananenrepublik2011: nat',\n",
       "  'theoretisch kann jede/r staatsbürger bundespräsident werden, sofern er mindestens 40 jahre alt ist. also los... bananenrepublik2011: nat'),\n",
       " ('rt @marissamcmillen: \"@officialkendric: shout out to everyone who keeps there socks on during sex.\" oh helllll no hahaha',\n",
       "  'rt \"@officialkendric: shout out to everyone who keeps there socks on during sex.\" oh no hahaha'),\n",
       " ('fußball derbystar brillant aps (stück): offizieller spielball der 1. liga in den niederlanden, top-wettspielball... http://t.co/xz266b3j',\n",
       "  'fußball derbystar brillant aps (stück): offizieller spielball der 1. liga in den niederlanden, top-wettspielball...'),\n",
       " ('el cut up tiene alguna cancion que es realmente bonita a mi parecer vamos',\n",
       "  'el cut up tiene alguna cancion que es realmente bonita a mi parecer vamos'),\n",
       " ('funkmasterflex', 'funkmasterflex'),\n",
       " ('\"non è vero che non credi all’amore. ci credi tanto da straziarti perché ne vedi così poco e perché quello che vedi non è mai perfetto\".',\n",
       "  '\"non è vero che non credi all’amore. ci credi tanto da straziarti perché ne vedi così poco e perché quello che vedi non è mai perfetto\".'),\n",
       " ('rt @yanfry: conferenza 2011 @nexacenter su internet & società dati aperti su una rete aperta - tutti i #video  http://t.co/wcimtksu',\n",
       "  'rt conferenza 2011 su internet & società dati aperti su una rete aperta - tutti i #video'),\n",
       " ('ofzo iets .. hahahahaha.', 'ofzo iets ..'),\n",
       " ('if i had the secret? the secret to your love',\n",
       "  'if i had the secret? the secret to your love'),\n",
       " ('@magalipiris chamberlein', 'chamberlein'),\n",
       " ('@lottelangwerden okii lief slaap lekker xxxxx', 'okii lief slaap lekker'),\n",
       " ('thuis van school, thuis van @lonneke_1997 even warme chocomelk gedronken :)',\n",
       "  'thuis van school, thuis van even warme chocomelk gedronken :)'),\n",
       " (\"rt @drivinmecaccese: i'm breaking down i just can't take it anymore\",\n",
       "  \"rt i'm breaking down i just can't take it anymore\"),\n",
       " ('rt @xdesitroumpas: rt @niiekkk_: rt @xdesitroumpas: @niiekkk_ hahahahah serieus? - jaa.. door een auto nogwel • lol - nee..',\n",
       "  'rt rt rt serieus? - jaa.. door een auto nogwel • lol - nee..'),\n",
       " ('come vorrei andare in una scuola come quelle in america **',\n",
       "  'come vorrei andare in una scuola come quelle in america **'),\n",
       " ('rt @fearlesswords_: ich überlege manchmal echt, meinen account privat zu machen...',\n",
       "  'rt ich überlege manchmal echt, meinen account privat zu machen...'),\n",
       " ('hola raspones en la pierna. digo, hola fut.',\n",
       "  'hola raspones en la pierna. digo, hola fut.'),\n",
       " ('@samypluas y para miii lo es!! (: saber que estoy con una personaa tan especiial, e importante #enmivida ♥  ;)',\n",
       "  'y para miii lo es!! (: saber que estoy con una personaa tan especiial, e importante #enmivida ♥ ;)'),\n",
       " ('@queentjee hahahahaha', ''),\n",
       " ('@powapanda ssiiii :)) ...è che nn ero certa di cosa fosse!!!! ;d',\n",
       "  'ssiiii :)) ...è che nn ero certa di cosa fosse!!!! ;d'),\n",
       " ('@lucasofri non a caso tra poco arrivano i \"giorni della merla\". che prenderanno il posto di questi: i giorni della merda.',\n",
       "  'non a caso tra poco arrivano i \"giorni della merla\". che prenderanno il posto di questi: i giorni della merda.'),\n",
       " ('nuclear demi ariel y @hicksjenni en la #943 !!! http://t.co/n5nrawh0',\n",
       "  'nuclear demi ariel y en la #943 !!!'),\n",
       " (\"@negyas je peux pas j'ai pas l'ordi avec moi j'suis sur mon tel la :s\",\n",
       "  \"je peux pas j'ai pas l'ordi avec moi j'suis sur mon tel la :s\"),\n",
       " ('arias cañete dice que las renovables ya sufrían una \"moratoria  encubierta\" http://t.co/s2jda4hk',\n",
       "  'arias cañete dice que las renovables ya sufrían una \"moratoria encubierta\"'),\n",
       " ('rt @victorlvidal: \"@ktyespinoza: no me he bañado ._.\" apestas pues fuchi',\n",
       "  'rt \"@ktyespinoza: no me he bañado ._.\" apestas pues fuchi'),\n",
       " ('bah eet met je mond dicht', 'bah eet met je mond dicht'),\n",
       " ('@rvc_tox dat zyn dr veel ;p haha grapje man',\n",
       "  'dat zyn dr veel ;p haha grapje man'),\n",
       " ('vanavond naar sporttalent van het jaar #vanbryan',\n",
       "  'vanavond naar sporttalent van het jaar #vanbryan'),\n",
       " ('@karimweldorff il faut, fait moi une jolie phrase sans faute !',\n",
       "  'il faut, fait moi une jolie phrase sans faute !'),\n",
       " (\"m'n nieuwe tv is echt chill met #fifa enzo .. mawfockah baas.\",\n",
       "  \"m'n nieuwe tv is echt chill met #fifa enzo .. mawfockah baas.\"),\n",
       " ('@jordyveerbeek wel wat beter..!', 'wel wat beter..!'),\n",
       " ('ein penner macht urlaub. bester spruch des films. #rtl2 #firststrike.',\n",
       "  'ein penner macht urlaub. bester spruch des films. #rtl2 #firststrike.'),\n",
       " ('pedigree riesenknochen mini rind 4er pack: mit antioxidanzien und konservierungsstoffen (eg zusatzstoffe). http://t.co/v7gztl9e',\n",
       "  'pedigree riesenknochen mini rind 4er pack: mit antioxidanzien und konservierungsstoffen (eg zusatzstoffe).'),\n",
       " ('rt @siimooneeex: @chaarmaiineex waaar ? «« achter ons huis xd',\n",
       "  'rt waaar ? «« achter ons huis xd'),\n",
       " ('trouvé le point rouge... http://t.co/fpgsllfx', 'trouvé le point rouge...'),\n",
       " ('@divanna2007 buon appetito anna!!!:)', 'buon appetito anna!!!:)'),\n",
       " ('alexandre parle de kiki noooormal !',\n",
       "  'alexandre parle de kiki noooormal !'),\n",
       " ('@esteladuran eres un ejemplo de mujer! :d y para los futuros psicólogos también lo eres como yo continua así un abrazo! =)',\n",
       "  'eres un ejemplo de mujer! :d y para los futuros psicólogos también lo eres como yo continua así un abrazo! =)'),\n",
       " ('pauze #gtst', 'pauze #gtst'),\n",
       " ('si yo almuero en la noche por si no sabían,',\n",
       "  'si yo almuero en la noche por si no sabían,'),\n",
       " ('rt @patinhopotatosk: fa freddo porca troiazza!',\n",
       "  'rt fa freddo porca troiazza!'),\n",
       " ('@infachtechnik ich glaube 0,79 €', 'ich glaube 0,79 €'),\n",
       " (\"stoppez donc tout débat sur l'utilité de leurs actions et continuez vos existences. ciao.\",\n",
       "  \"stoppez donc tout débat sur l'utilité de leurs actions et continuez vos existences. ciao.\"),\n",
       " ('buongiorno a tutti pure agli spaccalegna..',\n",
       "  'buongiorno a tutti pure agli spaccalegna..'),\n",
       " ('rt @lloraderisa: el éxito de twitter viene porque el 95% de las personas escriben lo que no se atreven a decir hablando.',\n",
       "  'rt el éxito de twitter viene porque el 95% de las personas escriben lo que no se atreven a decir hablando.'),\n",
       " ('@x_rooomy_x haha kwas aan t wachten op rick en milo',\n",
       "  'haha kwas aan t wachten op rick en milo'),\n",
       " ('rt als je zin in warme chocomelk heb met slagroom',\n",
       "  'rt als je zin in warme chocomelk heb met slagroom'),\n",
       " ('guten morgen!', 'guten morgen!'),\n",
       " (\"a little #bartledoo n #maltlicky won't hurt  http://t.co/wqddh4ox\",\n",
       "  \"a little #bartledoo n #maltlicky won't hurt\"),\n",
       " ('superba dolcissima veramente meravigliosa... - donna cerca uomo bergamo - http://t.co/4aw3uarn',\n",
       "  'superba dolcissima veramente meravigliosa... - donna cerca uomo bergamo -'),\n",
       " ('spielte: irgendwann bleib i dann dort von sts. itunes: http://t.co/73cznr83',\n",
       "  'spielte: irgendwann bleib i dann dort von sts. itunes:'),\n",
       " ('wonder who gonna be my valentine this year ? : /',\n",
       "  'wonder who gonna be my valentine this year ? : /'),\n",
       " ('wäre gebrochenes herz eine todesursache,  wäre ich schon längst tot.',\n",
       "  'wäre gebrochenes herz eine todesursache, wäre ich schon längst tot.'),\n",
       " ('@nataliacavalli mi si bruciava il piano del tavolo.',\n",
       "  'mi si bruciava il piano del tavolo.'),\n",
       " ('wird es dir auch manchmal zuviel ? /hh/wien: hamburg | wird es dir auch manchmal zuviel ? /hh/wien  wenn ich mei... http://t.co/p3qvqkst',\n",
       "  'wird es dir auch manchmal zuviel ? /hh/wien: hamburg | wird es dir auch manchmal zuviel ? /hh/wien wenn ich mei...'),\n",
       " (\"@victorlekhal   wesh enfoiré c'est quand tu joue la coupe de france\",\n",
       "  \"wesh enfoiré c'est quand tu joue la coupe de france\"),\n",
       " ('@im_keelly :33 mano tengoo novio en el colegio :33 & tiene 8 años pero esta chulito',\n",
       "  ':33 mano tengoo novio en el colegio :33 & tiene 8 años pero esta chulito'),\n",
       " ('elefteriaaaaa, ella', 'ella'),\n",
       " (\"@benildelm oui mais bon les paparazi ils aiment trop les trucs croustillant comme ça! tant que y'a pas de preuves j'y croirais pas.\",\n",
       "  \"oui mais bon les paparazi ils aiment trop les trucs croustillant comme ça! tant que y'a pas de preuves j'y croirais pas.\"),\n",
       " ('das volk amüsiert sich bei brot und speile oder wie der lateiner sagt \"penis er circensis\"',\n",
       "  'das volk amüsiert sich bei brot und speile oder wie der lateiner sagt \"penis er circensis\"'),\n",
       " ('@ikhouvanjexa ik stuur wel ff via privebericht mn nummer @ twitter (:',\n",
       "  'ik stuur wel ff via privebericht mn nummer twitter (:'),\n",
       " ('rt @bonitadeeuge: si buscas resultados distintos, no hagas siempre lo mismo.',\n",
       "  'rt si buscas resultados distintos, no hagas siempre lo mismo.'),\n",
       " ('toch maar weer een andere ava.', 'toch maar weer een andere ava.'),\n",
       " ('patat etenn.', 'patat etenn.'),\n",
       " ('rt @chaos_schwester: \"jammer nicht so rum. den kindern in afrika gehts noch viel schlimmer.\" ist das meine schuld oder was?',\n",
       "  'rt \"jammer nicht so rum. den kindern in afrika gehts noch viel schlimmer.\" ist das meine schuld oder was?'),\n",
       " ('lo deseoort @karepadrino: vicky lo desea rt @vickynog: #nawebonadalodeseo rt @vanessarts: quiero gritarle a tu mamá: holaaa suegraaaaa!!.',\n",
       "  'lo deseoort vicky lo desea rt #nawebonadalodeseo rt quiero gritarle a tu mamá: holaaa'),\n",
       " (\"3-0 c'est quoi cette blague ????\", \"3-0 c'est quoi cette blague ????\"),\n",
       " ('drinken gepakt', 'drinken gepakt'),\n",
       " ('i never pictured you without me or you letting go',\n",
       "  'i never pictured you without me or you letting go'),\n",
       " (\"rt @elisaquinzani: un abbraccio a tutte le famiglie delle vittime e nn dell'affondamento della nave sull'isola del giglio...tragedie ass ...\",\n",
       "  \"rt un abbraccio a tutte le famiglie delle vittime e nn dell'affondamento della nave sull'isola del giglio...tragedie ass ...\"),\n",
       " ('everyone at school thought it was my birthday',\n",
       "  'everyone at school thought it was my birthday'),\n",
       " ('oye @freddychavero y que perdio el real??? ha ha ha',\n",
       "  'oye y que perdio el real??? ha ha ha'),\n",
       " ('@nenita1955 @gungun_candanga @lahojillaentv ¡ que coseche lo que sembró ! ojalá @mariafiuni le tocase ese caso....',\n",
       "  '¡ que coseche lo que sembró ! ojalá le tocase ese caso....'),\n",
       " ('http://t.co/0odrqe5k south african rap mixed with dubstep wooooo',\n",
       "  'south african rap mixed with dubstep'),\n",
       " ('rt @thenolookpass: 0.7 is still plenty of time in nba standards. right, derek fisher?',\n",
       "  'rt 0.7 is still plenty of time in nba standards. right, derek fisher?'),\n",
       " ('rt @luisaaleinn: regalame tu risaaaaaaaaaaaaaaaaaaaaaaaa♥',\n",
       "  'rt regalame tu'),\n",
       " ('@felipe0907 @dieguimi uuu que decepción jaja :p',\n",
       "  'uuu que decepción jaja :p'),\n",
       " ('ik ben een beetje verliefd op nick en simon #thevoiceofkids',\n",
       "  'ik ben een beetje verliefd op nick en simon #thevoiceofkids'),\n",
       " ('@etwaalmdesign mddr vazy jvais tester tout sa',\n",
       "  'mddr vazy jvais tester tout sa'),\n",
       " ('#news schrumpfkurs: usa\\xa0ziehen tausende soldaten aus deutschland ab: us-präsident obama hat dem mil... http://t.co/hs3wtxt7 #nachrichten',\n",
       "  '#news schrumpfkurs: usa\\xa0ziehen tausende soldaten aus deutschland ab: us-präsident obama hat dem mil... #nachrichten'),\n",
       " ('@__missdalmau non solo ti seguirò, ma ti tartasserò di doomaandee uu',\n",
       "  'non solo ti seguirò, ma ti tartasserò di doomaandee uu'),\n",
       " ('@failchul devo farti una domanda...', 'devo farti una domanda...'),\n",
       " ('just ate that whole thing and found this at the bottom http://t.co/xsqv199s',\n",
       "  'just ate that whole thing and found this at the bottom'),\n",
       " ('@lilianaelena soy un heroe!!!! yapayapayuuuuu!!!!', 'soy un heroe!!!!'),\n",
       " (\"rt @sg_gacem: quand mon bbm il déconne j'ai des envie de meurtre !\",\n",
       "  \"rt quand mon bbm il déconne j'ai des envie de meurtre !\"),\n",
       " ('derstandard| ratingagenturen: die staatspleite griechenlands r&uuml;ckt n&auml;her http://t.co/yo1dew7f',\n",
       "  'derstandard| ratingagenturen: die staatspleite griechenlands r&uuml;ckt n&auml;her'),\n",
       " ('gefeliciteerd lief schatje @mirthhhx', 'gefeliciteerd lief schatje'),\n",
       " ('zzzzzzzzz #snoring!', '#snoring!'),\n",
       " (\"mannnnn i'm finna cry dawg\", \"i'm finna cry dawg\"),\n",
       " (\"rt @agnesdu77: @_newy0rk c'est dur il sont tous bien :)\",\n",
       "  \"rt c'est dur il sont tous bien :)\"),\n",
       " ('@scrubsita parliamo dei titoli. (?)', 'parliamo dei titoli. (?)'),\n",
       " ('@alifontenay voilààà :d', 'voilààà :d'),\n",
       " ('@maledita_uvita si quieres envestiga el programa y te lo grabo y te lo paso',\n",
       "  'si quieres envestiga el programa y te lo grabo y te lo paso'),\n",
       " ('recuerden : \" no seas lo que los demas quieres que sea, se quien tu quieres ser. porque al fin y al cabo  las... http://t.co/yxsfxoec',\n",
       "  'recuerden : \" no seas lo que los demas quieres que sea, se quien tu quieres ser. porque al fin y al cabo las...'),\n",
       " ('wir haben es ja noch voll warm. #rtl',\n",
       "  'wir haben es ja noch voll warm. #rtl'),\n",
       " ('rt @pylonc: eine horde 12-14jähriger rennt auf dem rastplatz rum. machen wohl klassenfahrt. oder werden ihr erstes sauf- und gruppensexe ...',\n",
       "  'rt eine horde 12-14jähriger rennt auf dem rastplatz rum. machen wohl klassenfahrt. oder werden ihr erstes sauf- und gruppensexe ...'),\n",
       " ('basta,mi arrendo. lascio il bg bianco tipo paradiso(?)',\n",
       "  'basta,mi arrendo. lascio il bg bianco tipo paradiso(?)'),\n",
       " ('@meerschweinchen @liebenswuerdig will auch!!!!', 'will auch!!!!'),\n",
       " ('i hate liars,thiefs, and cheaters with a passion',\n",
       "  'i hate liars,thiefs, and cheaters with a passion'),\n",
       " ('@2light_ ohje :/ na ich drück dir die daumen, dass es schnell besser wird!',\n",
       "  'ohje :/ na ich drück dir die daumen, dass es schnell besser wird!'),\n",
       " ('@floofrans yeah, ils ont officiellement choisi ma proposition, ce sera #c1chef #almostfamous',\n",
       "  'yeah, ils ont officiellement choisi ma proposition, ce sera #c1chef #almostfamous'),\n",
       " ('@skeezinoh oui à la fin de celle la (: oui jte fais des informages (:',\n",
       "  'oui à la fin de celle la (: oui jte fais des informages (:'),\n",
       " ('señores, el perfume no es suficiente! bañense bien!',\n",
       "  'señores, el perfume no es suficiente! bañense bien!'),\n",
       " ('@manho31 au fait demain oublie pas le livre. moi je finis mon devoir #rash',\n",
       "  'au fait demain oublie pas le livre. moi je finis mon devoir #rash'),\n",
       " ('http://t.co/grzzc4xw non sono una fotografa, ma ci provo.',\n",
       "  'non sono una fotografa, ma ci provo.'),\n",
       " (\"rt @nathaliecartier: 3/ on demande à l'intimé de signifier ses conclusions à la dernière adresse connue. est -ce la procédure? merci\",\n",
       "  \"rt 3/ on demande à l'intimé de signifier ses conclusions à la dernière adresse connue. est -ce la procédure? merci\"),\n",
       " (\"rt @_bto: telling apart marsh and willow tits - and here's the video in twitter, share with your friends! #lookingoutforbirds http://t.c ...\",\n",
       "  \"rt telling apart marsh and willow tits - and here's the video in twitter, share with your friends! #lookingoutforbirds ...\"),\n",
       " ('neue kundin ist über facebook auf uns aufmerksam geworden http://t.co/eluyen4e',\n",
       "  'neue kundin ist über facebook auf uns aufmerksam geworden'),\n",
       " ('todooooo el día junto a tí (:', 'el día junto a tí (:'),\n",
       " ('@leonardoderuite haha toch wel;)', 'haha toch wel;)'),\n",
       " ('@nainalein hahahahahahaha plopo', 'plopo'),\n",
       " ('ma matteo non ha freddo? in ogni video sta sempre a maniche corte.',\n",
       "  'ma matteo non ha freddo? in ogni video sta sempre a maniche corte.'),\n",
       " ('je devrais aller dormir...', 'je devrais aller dormir...'),\n",
       " ('speriamo che continua a nevicare così la scuola sarà chiusa anche lunedì *^*',\n",
       "  'speriamo che continua a nevicare così la scuola sarà chiusa anche lunedì *^*'),\n",
       " ('@verfspetter nee geen vooroordeel maar tzal niet de eerste keer zijn dat t gbeurt?! dat kereltje moet dan hulp krijgen!',\n",
       "  'nee geen vooroordeel maar tzal niet de eerste keer zijn dat t gbeurt?! dat kereltje moet dan hulp krijgen!'),\n",
       " ('“@milanolovesfood: ho appena ricevuto notizia che in june 2012 starbucks comes to italy”yessssssssss',\n",
       "  '“@milanolovesfood: ho appena ricevuto notizia che in june 2012 starbucks comes to'),\n",
       " ('@liefsnina tenminste iedereen denkt dat . en niemand heeft geleerd voor morgen ,',\n",
       "  'tenminste iedereen denkt dat . en niemand heeft geleerd voor morgen ,'),\n",
       " (\"@msaudreyy nan tu te trompes : c'est juste que je vous aime et que je veux que vous soyez heureuses , je suis pas trop chou x)\",\n",
       "  \"nan tu te trompes : c'est juste que je vous aime et que je veux que vous soyez heureuses , je suis pas trop chou x)\"),\n",
       " ('@ikheetsophiex praat hahaxx', 'praat hahaxx'),\n",
       " ('mouahahaha. le rap-jeu est dans mes entrailles.',\n",
       "  'mouahahaha. le rap-jeu est dans mes entrailles.'),\n",
       " (\"espérons qu'elle ait changer de robe !\",\n",
       "  \"espérons qu'elle ait changer de robe !\"),\n",
       " (\"@chuuwe par moi c'est plus compliqué...\",\n",
       "  \"par moi c'est plus compliqué...\"),\n",
       " ('manifiesta correa apoyo de los gobiernos progresistas a los indignados http://t.co/hp28y44v',\n",
       "  'manifiesta correa apoyo de los gobiernos progresistas a los indignados'),\n",
       " (\"man this nigga really just passed me an extension cord..bruh i don't blow like that\",\n",
       "  \"man this nigga really just passed me an extension cord..bruh i don't blow like that\"),\n",
       " ('@joostpiek nee.', 'nee.'),\n",
       " ('@juliacarpio9 estas mojando shuca!', 'estas mojando shuca!'),\n",
       " ('auto elektronik dvd player auto integrierter dvd player http://t.co/nafdyzuz',\n",
       "  'auto elektronik dvd player auto integrierter dvd player'),\n",
       " ('@xnikitaebbersx jaamaatjex.', 'jaamaatjex.'),\n",
       " ('@forummediaset turchese che da ragione ad un uomo?? ma ho sbagliato canale stamani?',\n",
       "  'turchese che da ragione ad un uomo?? ma ho sbagliato canale stamani?'),\n",
       " ('mes horaire de la semaine prochaine sa va êtres dur !',\n",
       "  'mes horaire de la semaine prochaine sa va êtres dur !'),\n",
       " ('rhetorik trainings in #frankfurt 50-150 euro http://t.co/bvj55njn themen http://t.co/9p3vwfwp nutzen http://t.co/oue7wcmu',\n",
       "  'rhetorik trainings in #frankfurt 50-150 euro themen nutzen'),\n",
       " ('rt @vampliars: vous m\\'imaginez dire \"oh j\\'vais mal megaupload a fermé\" les gens vont me prendre pour une folle donc demain je vais me taire.',\n",
       "  'rt vous m\\'imaginez dire \"oh j\\'vais mal megaupload a fermé\" les gens vont me prendre pour une folle donc demain je vais me taire.'),\n",
       " ('@frankfbn kapolemachien? huh? :o', 'kapolemachien? huh? :o'),\n",
       " ('#news zwickauer terrorzelle: ausschuss\\xa0untersucht ermittler-pannen: welche fehler\\xa0machten die behör... http://t.co/svrefjg5 #nachrichten',\n",
       "  '#news zwickauer terrorzelle: ermittler-pannen: welche fehler\\xa0machten die behör... #nachrichten'),\n",
       " (\"@etincelle63 @b_giabiconi oh c'est trop mignon ! j'aimerais voir sa, sa doit être beau ..\",\n",
       "  \"oh c'est trop mignon ! j'aimerais voir sa, sa doit être beau ..\"),\n",
       " (\"@tiwliwla_girl mais bon niveau service rah c pas mal si on nous compare à l'italie ou l'afrique du sud ^^ chez eux ça craint\",\n",
       "  \"mais bon niveau service rah c pas mal si on nous compare à l'italie ou l'afrique du sud ^^ chez eux ça craint\"),\n",
       " ('del tipo sono morta quando logan ha ringraziato tutti per gli auguri che gli avevano fatto, ckjvdjfdojfijfeew troppo dolce.',\n",
       "  'del tipo sono morta quando logan ha ringraziato tutti per gli auguri che gli avevano fatto, ckjvdjfdojfijfeew troppo dolce.'),\n",
       " ('@marijnbieke leuk!~!!', 'leuk!~!!'),\n",
       " ('@mauduranm deberia de dejar de estar asi,pero es imposible porque me importas mauricio marcameee o te vas a aarrepentir t te lo juroo',\n",
       "  'deberia de dejar de estar asi,pero es imposible porque me importas mauricio marcameee o te vas a aarrepentir t te lo juroo'),\n",
       " ('@claudiavalesic meno male!!;-)', 'meno male!!;-)'),\n",
       " ('@_appo volg en rt @watmensenwillen en win een ipad2 of 1 v/d 5 smartphone handschoenen.',\n",
       "  'volg en rt en win een ipad2 of 1 v/d 5 smartphone handschoenen.'),\n",
       " ('@padrideldeserto e noi aspettiamo la tua ispirazione per essere ispirati',\n",
       "  'e noi aspettiamo la tua ispirazione per essere ispirati'),\n",
       " ('sara ti vedo a metà d: (@xsweetstyles_ live on http://t.co/6ctd0jyf)',\n",
       "  'sara ti vedo a metà d: (@xsweetstyles_ live on'),\n",
       " ('slapen #love', 'slapen #love'),\n",
       " ('@hartcontact ook een hele goedemorgen trouwens',\n",
       "  'ook een hele goedemorgen trouwens'),\n",
       " ('@dammandas16013      hahah is goed:$  zal er 5 bewaren of meer haha xd',\n",
       "  'hahah is goed:$ zal er 5 bewaren of meer haha xd'),\n",
       " ('me nd @kaymariie way back! :-) jst found this! http://t.co/acrjeerj',\n",
       "  'me nd way back! :-) jst found this!'),\n",
       " ('looking like a blood n shit... knowing ion wear red like this',\n",
       "  'looking like a blood n shit... knowing ion wear red like this'),\n",
       " ('rt @neykoth_near: tontos: el alcohol no es una solución, es un compuesto.',\n",
       "  'rt tontos: el alcohol no es una solución, es un compuesto.'),\n",
       " ('@frauflauschig es gibt halt erst teil 1 als us-version. rest wird wohl kommen, denke ich.',\n",
       "  'es gibt halt erst teil 1 als us-version. rest wird wohl kommen, denke ich.'),\n",
       " ('@ashwattx your not alone!', 'your not alone!'),\n",
       " ('@sebastiancandy como el que vimos hoy? kp', 'como el que vimos hoy? kp'),\n",
       " ('someone entertain me xc', 'someone entertain me xc'),\n",
       " ('descuida lo que bien se aprende nunca se olvida ... bueno digamos que no lo aprendi del todo bien y que posiblemente ya se me olvido 8-)',\n",
       "  'descuida lo que bien se aprende nunca se olvida ... bueno digamos que no lo aprendi del todo bien y que posiblemente ya se me olvido 8-)'),\n",
       " ('@nicolacalabro oh lo sarà. sono braverrima in queste cose! #quandosidicetalento',\n",
       "  'oh lo sarà. sono braverrima in queste cose! #quandosidicetalento'),\n",
       " (\"sabes lastimosamente te amo --' aunq le pele\",\n",
       "  \"sabes lastimosamente te amo --' aunq le pele\"),\n",
       " ('@fra_gentile resistenza non è favorevole a #occupyscampia',\n",
       "  'resistenza non è favorevole a #occupyscampia'),\n",
       " ('et ni dimanche( mais le soir oui ) ;).',\n",
       "  'et ni dimanche( mais le soir oui ) ;).'),\n",
       " ('lmfao check out @eurofresh xclusive interview with a yung trapper http://t.co/aiwya58w',\n",
       "  'lmfao check out xclusive interview with a yung trapper'),\n",
       " ('@interscope thanks 4 following!', 'thanks 4 following!'),\n",
       " ('@sonosoloio74 se vuoi vengo a curarti', 'se vuoi vengo a curarti'),\n",
       " ('les conté que me invitaron a la chiva del @betovicios & es como alagador?',\n",
       "  'les conté que me invitaron a la chiva del & es como alagador?'),\n",
       " ('rt @lafargegroup: rt @conservationorg fresh post: to alleviate poverty, #biodiversity conservation is critical http://t.co/umueb4xs #lafarge',\n",
       "  'rt rt fresh post: to alleviate poverty, #biodiversity conservation is critical #lafarge'),\n",
       " ('\"@martijnn99: @maxie_girll. nee smiddags gekkie !\"ohhh oke, ja jij doet altijd van die gekke dingen ahahahaha lol',\n",
       "  '\"@martijnn99: nee smiddags gekkie !\"ohhh oke, ja jij doet altijd van die gekke dingen lol'),\n",
       " ('buongiorno con sorriso!! ^_^ http://t.co/uarijq0t',\n",
       "  'buongiorno con sorriso!! ^_^'),\n",
       " ('oh ohohoho ohohohoho mirame mirame mirame *je chante*',\n",
       "  'oh ohohoho mirame mirame mirame *je chante*'),\n",
       " (\"« t'emballes pas meufs quand jt'envoi un &lt;3, t'es pas la seule, c'est comme ça que je gère mes tass' » (8)\",\n",
       "  \"« t'emballes pas meufs quand jt'envoi un &lt;3, t'es pas la seule, c'est comme ça que je gère mes tass' » (8)\"),\n",
       " ('@silvertongue77 buonanotte', 'buonanotte'),\n",
       " ('rt als je het koud hebt', 'rt als je het koud hebt'),\n",
       " ('wie weet nog ff een leuk liedjuuh', 'wie weet nog ff een leuk liedjuuh'),\n",
       " ('koththamalli and more koththamalli. ah!! the agony -.-',\n",
       "  'koththamalli and more koththamalli. ah!! the agony -.-'),\n",
       " ('se le colleghe non soi sbrigano le accidooooo ...io hooooo fameeeeee ....ps.  buon pranzo beddi e bedde ..! @_@',\n",
       "  'se le colleghe non soi sbrigano le ...io buon pranzo beddi e bedde ..!'),\n",
       " ('luxus, design, stil: top 10 der neuen hotels 2012 - ab sofort buchbar bei lastminute.de -  http://t.co/6byx51rh #pressemitteilung',\n",
       "  'luxus, design, stil: top 10 der neuen hotels 2012 - ab sofort buchbar bei lastminute.de - #pressemitteilung'),\n",
       " ('es gibt menschen die koksen, andere die saufen und viele die andere genussmittel konsumieren. ich habe zum glück meine #chickenwings.',\n",
       "  'es gibt menschen die koksen, andere die saufen und viele die andere genussmittel konsumieren. ich habe zum glück meine #chickenwings.'),\n",
       " ('@daburna wat', 'wat'),\n",
       " ('fotobearbeitungsprogramm für webcam: hallo !!! ich suche dringend ein kostenloses fotobearbeitungsprog... http://t.co/y6ncsm7h #computer',\n",
       "  'fotobearbeitungsprogramm für webcam: hallo !!! ich suche dringend ein kostenloses fotobearbeitungsprog... #computer'),\n",
       " ('guantes de seda para no arañarte el corazón...',\n",
       "  'guantes de seda para no arañarte el corazón...'),\n",
       " (\"rt @ispeakfemaie: don't get me wrong...you still mean the world to me, you're just not worth the fight anymore.\",\n",
       "  \"rt don't get me wrong...you still mean the world to me, you're just not worth the fight anymore.\"),\n",
       " ('hoy tengo que dormirme por lo menos como a las 10pm.',\n",
       "  'hoy tengo que dormirme por lo menos como a las 10pm.'),\n",
       " ('top - forum sucht eure unterstützung -&gt; http://t.co/0btemelw &lt;- interessante story und nette player + admins erwarten euch ;).;)',\n",
       "  'top - forum sucht eure unterstützung -&gt; &lt;- interessante story und nette player + admins erwarten euch ;).;)'),\n",
       " ('oggi fa #caldo. d:', 'oggi fa #caldo. d:'),\n",
       " ('@vendommerda è uno dei miei nuovi miti.', 'è uno dei miei nuovi miti.'),\n",
       " ('@un_marocain lol je pense pas psk deja t venu me parler de cette histoire de video la',\n",
       "  'lol je pense pas psk deja t venu me parler de cette histoire de video la'),\n",
       " (\"you fake niggas you'll never get no love from me\",\n",
       "  \"you fake niggas you'll never get no love from me\"),\n",
       " ('@__breathtaking mir is schon wieder langweilig :o :dd',\n",
       "  'mir is schon wieder langweilig :o :dd'),\n",
       " ('cuando escucho  musicas de #arjona me siento en las nubes!',\n",
       "  'cuando escucho musicas de #arjona me siento en las nubes!'),\n",
       " ('bueno chicas me tengo q ir no se qien de las otras admi esta por aqi asi q las dejo con ella bye q tengan una linda noxe by:paauu  :)',\n",
       "  'bueno chicas me tengo q ir no se qien de las otras admi esta por aqi asi q las dejo con ella bye q tengan una linda noxe by:paauu :)'),\n",
       " ('er is ook maar 1 sukkel die gaat bedenken om kwart voor 12 om der haar te stijlen op doordeweekse dag. #juistik',\n",
       "  'er is ook maar 1 sukkel die gaat bedenken om kwart voor 12 om der haar te stijlen op doordeweekse dag. #juistik'),\n",
       " (\"@lashdaniels mdrrr nan j'ai souris parce que j'imaginais ta tronche entrain de rire ! mais j'avais une petite larme nerveuse #javoue\",\n",
       "  \"mdrrr nan j'ai souris parce que j'imaginais ta tronche entrain de rire ! mais j'avais une petite larme nerveuse #javoue\"),\n",
       " ('@karlitatorres_ cual perra? d: contame:$', 'cual perra? d: contame:$'),\n",
       " (\"i've learned to let it go &lt;3\", \"i've learned to let it go &lt;3\"),\n",
       " ('@kimvanderfelz ik ook', 'ik ook'),\n",
       " ('@andreabratelli si dai il peggio dovrebbe essere passato!!! ora piano piano le passa!!!:*',\n",
       "  'si dai il peggio dovrebbe essere passato!!! ora piano piano le passa!!!:*'),\n",
       " ('@__breathtaking kleiner nacht-poet :d', 'kleiner nacht-poet :d'),\n",
       " ('me duele la pata :s', 'me duele la pata :s'),\n",
       " ('@fueledbyaliisa anda, anda, tira, jajajaja', 'anda, anda, tira, jajajaja'),\n",
       " (\"@soleodicaprio 6 agitato?? e' la neve?\", \"6 agitato?? e' la neve?\"),\n",
       " ('4800 @marijnbieke en @ilonaeising xx &lt;3', '4800 en xx &lt;3'),\n",
       " ('@lucilexh euh nan je voulais dire, la tante a momo vient car sinon la mere de momo va se retrouver toute seul',\n",
       "  'euh nan je voulais dire, la tante a momo vient car sinon la mere de momo va se retrouver toute seul'),\n",
       " ('rt @felipe0907: #cojeriacontigopero mejor ve con @tavogom3z el esta mas vivido¡¡¡¡',\n",
       "  'rt #cojeriacontigopero mejor ve con el esta mas vivido¡¡¡¡'),\n",
       " ('@kekeda187 ich geb die hoffnung nicht auf, dass nicht vill doch einer, einen \"großen\" bruder haben mag xd',\n",
       "  'ich geb die hoffnung nicht auf, dass nicht vill doch einer, einen \"großen\" bruder haben mag xd'),\n",
       " ('rt @rrroeell: @timmbosch @freek1010 @niklas_niklas1 @koyv @dddnni @timm1996 @tjerkhofland @bboukje @guy_1997  vroeg ik me af wie rbic ha ...',\n",
       "  'rt vroeg ik me af wie rbic ha ...'),\n",
       " ('@labborra con coretto??? ;d http://t.co/gvr3le0b', 'con coretto??? ;d'),\n",
       " ('nu wiskunde doorlezen #haat', 'nu wiskunde doorlezen #haat'),\n",
       " ('hammertor! #barca', 'hammertor! #barca'),\n",
       " (\"@ingridshanatyer j'croyais t'écouter des music française moi mdr.\",\n",
       "  \"j'croyais t'écouter des music française moi mdr.\"),\n",
       " ('ok. grazie per avermelo detto prima! 2012 | d - la repubblica http://t.co/5tsvn2id via @drepubblicait',\n",
       "  'ok. grazie per avermelo detto prima! 2012 | d - la repubblica via'),\n",
       " ('lao-tse, nagarjuna. zwei asiatische metaphysiker.:  http://t.co/b48etlel',\n",
       "  'lao-tse, nagarjuna. zwei asiatische metaphysiker.:'),\n",
       " (\"amis sdf, pensez aux travailleurs pauvres, évitez d'aller leur piquer leur pitance à la soupe populaire. merci. #noraberration\",\n",
       "  \"amis sdf, pensez aux travailleurs pauvres, évitez d'aller leur piquer leur pitance à la soupe populaire. merci. #noraberration\"),\n",
       " (\"@elyafi_ si dans 10 min tu tweet pas j'ai parlé a #bozyeu tu v\",\n",
       "  \"si dans 10 min tu tweet pas j'ai parlé a #bozyeu tu v\"),\n",
       " ('ya te mande el sponsor @laly_chamo', 'ya te mande el sponsor'),\n",
       " ('rt @reinierkleiman: aaah a a a aaah', 'rt aaah a a a aaah'),\n",
       " ('la scena di ora, mi piace moltissimo!! #iltredicesimoapostolo',\n",
       "  'la scena di ora, mi piace moltissimo!! #iltredicesimoapostolo'),\n",
       " ('@reynaldo_sq 8-) ...', '8-) ...'),\n",
       " ('rt @ladydodo2: grèce : les pédophiles indemnisés car handicapés catégorie \"pervers sexuels\"  http://t.co/ikvofgss',\n",
       "  'rt grèce : les pédophiles indemnisés car handicapés catégorie \"pervers sexuels\"'),\n",
       " ('oui mais moi je veux obama @vinkerjames', 'oui mais moi je veux obama'),\n",
       " ('@mariadelsorbo ok accendo il piumone. bella foto, si, complimenti. si. si, si.',\n",
       "  'ok accendo il piumone. bella foto, si, complimenti. si. si, si.'),\n",
       " ('@tengochicle más vale ser director de prensa.',\n",
       "  'más vale ser director de prensa.'),\n",
       " ('“@tendertray: #questionsihateanswering when people see me with my glasses on and they say \"you wear glasses???\"” - i just say no.',\n",
       "  '“@tendertray: #questionsihateanswering when people see me with my glasses on and they say \"you wear glasses???\"” - i just say no.'),\n",
       " (\"rt @ladylikebhavior: you can't receive his blessings unless you have faith\",\n",
       "  \"rt you can't receive his blessings unless you have faith\"),\n",
       " ('cuando vas a aparecer flaco ya se te extraña muchisimooo !!!! @abelpintos',\n",
       "  'cuando vas a aparecer flaco ya se te extraña muchisimooo !!!!'),\n",
       " (\"i don't understand . . .\", \"i don't understand . . .\"),\n",
       " ('rt @xlizevdhoek: zin om nog even sneeuwballen gevecht te doen buiten!',\n",
       "  'rt zin om nog even sneeuwballen gevecht te doen buiten!'),\n",
       " ('that shit a turn off', 'that shit a turn off'),\n",
       " (\"him cyah play music all day..him parents wont allow it...but what time they reaching in??? :'(\",\n",
       "  \"him cyah play music all day..him parents wont allow it...but what time they reaching in??? :'(\"),\n",
       " ('@tina_borto nein ich mag deine stimme und vor allem dein lachen :3',\n",
       "  'nein ich mag deine stimme und vor allem dein lachen :3'),\n",
       " ('rt @callodehacha: dato: si cierras facebook dejas de cumplir años.',\n",
       "  'rt dato: si cierras facebook dejas de cumplir años.'),\n",
       " ('me sens pas bien. #off', 'me sens pas bien. #off'),\n",
       " (\"t'es bien sapé mais tu pue le cadavre #tespasmonhomme\",\n",
       "  \"t'es bien sapé mais tu pue le cadavre #tespasmonhomme\"),\n",
       " (\"@navepirata la voglia di dare, l'istinto di avere #parolecomepietre\",\n",
       "  \"la voglia di dare, l'istinto di avere #parolecomepietre\"),\n",
       " ('@genevieveb81 faudrait oui.....', 'faudrait'),\n",
       " (\"si raconter n'importe quoi me rapporte des twittos je devrai dire plus souvent nimp . mdr\",\n",
       "  \"si raconter n'importe quoi me rapporte des twittos je devrai dire plus souvent nimp . mdr\"),\n",
       " ('@annnnnnnex krulen is krullen!', 'krulen is krullen!'),\n",
       " (\"rt @lalimiprincesa: leo sobre el personaje de lali & yo quería que sea mala, pero tampoco tanto... 'una de las asesinas en serie mas pel ...\",\n",
       "  \"rt leo sobre el personaje de lali & yo quería que sea mala, pero tampoco tanto... 'una de las asesinas en serie mas pel ...\"),\n",
       " ('@cindy_bledsoe have you heard of the show pretty little liars?',\n",
       "  'have you heard of the show pretty little liars?'),\n",
       " ('rt @oddbal_chic: how to hate', 'rt how to hate'),\n",
       " (\"sorry i haven't been on much. been so damn busy\",\n",
       "  \"sorry i haven't been on much. been so damn busy\"),\n",
       " ('@rietje_xx nee. das niet waarr..', 'nee. das niet waarr..'),\n",
       " ('ils ont dit quoi anonymous ????? que pasa ?',\n",
       "  'ils ont dit quoi anonymous que pasa ?'),\n",
       " (\"@farahvanillaa moi j'me marie avec toi !!! #celibatarrrddee\",\n",
       "  \"moi j'me marie avec toi !!! #celibatarrrddee\"),\n",
       " (\"est ce que quelqu'un aurait les liens pour regarder les golden disk awards ??\",\n",
       "  \"est ce que quelqu'un aurait les liens pour regarder les golden disk awards ??\"),\n",
       " ('dp  cumshot - spiel mit wachs pt4: er fickte meinen arsch und goss dabei das heiße wachs di... http://t.co/dpaec8ey http://t.co/yzox8iy0',\n",
       "  'dp cumshot - spiel mit wachs pt4: er fickte meinen arsch und goss dabei das heiße wachs di...'),\n",
       " ('odio cuando le pregunto a mi madre que hay de cena y me dice-¿ya tienes hambre?- no, mama solo quiero saber que hay de cena joder.',\n",
       "  'odio cuando le pregunto a mi madre que hay de cena y me dice-¿ya tienes hambre?- no, mama solo quiero saber que hay de cena joder.'),\n",
       " ('@iclairex volg en rt @watmensenwillen en win een ipad2 of 1 v/d 5 smartphone handschoenen.',\n",
       "  'volg en rt en win een ipad2 of 1 v/d 5 smartphone handschoenen.'),\n",
       " (\"ain't no bloods over here!! lol it's straight hoover duece!!! lol\",\n",
       "  \"ain't no bloods over here!! lol it's straight hoover duece!!! lol\"),\n",
       " ('nw...that 70s show :d', 'nw...that 70s show :d'),\n",
       " ('@frauflauschig ich ja nicht, daher frag ich! ich hab den aktuellen im kino gesehen',\n",
       "  'ich ja nicht, daher frag ich! ich hab den aktuellen im kino gesehen'),\n",
       " (\"@thasanth_r moi j'te dis que tu riras encore plus si tu laisses aussi @tamaradtraz boire :d\",\n",
       "  \"moi j'te dis que tu riras encore plus si tu laisses aussi boire :d\"),\n",
       " ('@larapetale yeahh haha! its kinda fun though cause loads of people are always there :) xxx',\n",
       "  'yeahh haha! its kinda fun though cause loads of people are always there :) xxx'),\n",
       " ('rt @dafrenchie59: #décristaviesexuelleavecuneemissiondetélé  la france a un incroyable talent!',\n",
       "  'rt la france a un incroyable talent!'),\n",
       " ('rt @musicinknmoney: we drive on parkways and park on driveways....',\n",
       "  'rt we drive on parkways and park on driveways....'),\n",
       " ('poinx - offerta varese - bar: happy hour aperitivi a 6.50 eur invece di 14.00 #a #di #e #euro /',\n",
       "  'poinx - offerta varese - bar: happy hour aperitivi a 6.50 eur invece di 14.00 #a #di #e #euro /'),\n",
       " ('spagetti bolognese wäre jetzt toll :d',\n",
       "  'spagetti bolognese wäre jetzt toll :d'),\n",
       " ('no es de sorprenderse que cierre mi fb, cualquier verga con el.',\n",
       "  'no es de sorprenderse que cierre mi fb, cualquier verga con el.'),\n",
       " (\"@calvinmerrar @drakeswifee apres les gens lui on rep et lui il leur a dis celui qui n'a jamais pêché ici lève la main et puis persone a levé\",\n",
       "  \"apres les gens lui on rep et lui il leur a dis celui qui n'a jamais pêché ici lève la main et puis persone a levé\"),\n",
       " ('çque conversacion chota', 'çque conversacion chota'),\n",
       " ('@ingehoven *ok.', '*ok.'),\n",
       " ('47)chi è il più giocherellone?  louis!',\n",
       "  '47)chi è il più giocherellone? louis!'),\n",
       " ('imaginarse a la gente sin ropa para generar mas confianza.. solo genera mas gente perversa y violadora &gt;;i',\n",
       "  'imaginarse a la gente sin ropa para generar mas confianza.. solo genera mas gente perversa y violadora &gt;;i'),\n",
       " ('@wasd0pe mdr orgasme des pieds. je kiff moi aussi',\n",
       "  'mdr orgasme des pieds. je kiff moi aussi'),\n",
       " ('und immer daran denken : heute bitte nur die 03 wählen ! danke volk ! #ibes',\n",
       "  'und immer daran denken : heute bitte nur die 03 wählen ! danke volk ! #ibes'),\n",
       " ('morgen is lieve @josvanmilligen jarig', 'morgen is lieve jarig'),\n",
       " ('whatsapp è la mia salvezza!', 'whatsapp è la mia salvezza!'),\n",
       " ('@itsourvoxpopuli il mondo intero lo sa ahahahhaahhaha :d',\n",
       "  'il mondo intero lo sa :d'),\n",
       " ('@huggenknubbel ah. er is also gekommen. gut zu wissen... hust',\n",
       "  'ah. er is also gekommen. gut zu wissen... hust'),\n",
       " ('@zitaguero. aime trop faire sa comere hii',\n",
       "  'aime trop faire sa comere hii'),\n",
       " ...]"
      ]
     },
     "execution_count": 139,
     "metadata": {},
     "output_type": "execute_result"
    }
   ],
   "source": [
    "import utils\n",
    "importlib.reload(utils)\n",
    "importlib.reload(config)\n",
    "[(txt, utils.cleanup(txt, config.cleanup_config)) for ln, txt in dt]"
   ]
  },
  {
   "cell_type": "code",
   "execution_count": 134,
   "metadata": {},
   "outputs": [
    {
     "name": "stdout",
     "output_type": "stream",
     "text": [
      "(array([2., 0., 0., 1., 0., 0., 0., 2., 2., 0., 0., 1., 1., 2., 0., 0., 1.,\n",
      "       0., 0., 1., 0., 0., 1., 1., 0., 1., 0., 0., 0., 1., 1., 1., 0., 0.,\n",
      "       0., 0., 0., 0., 0., 0., 1., 0., 0., 0., 0., 0., 1., 0., 0., 0., 0.,\n",
      "       1., 1., 1., 0., 2., 1., 0., 0., 0., 1., 0., 0., 1., 0., 0., 0., 0.,\n",
      "       1., 0., 0., 1., 1., 0., 0., 0., 0., 0., 0., 0., 0., 0., 0., 0., 1.,\n",
      "       0., 0., 0., 0., 2., 0., 0., 0., 0., 0., 0., 0., 1., 0., 0., 0., 0.,\n",
      "       0., 0., 0., 0., 0., 0., 0., 0., 0., 0., 0., 0., 0., 0., 0., 0., 0.,\n",
      "       0., 0., 0., 0., 0., 0., 0., 0., 0., 0., 0., 3., 0., 0., 0., 0., 0.,\n",
      "       1., 0., 0., 0., 2., 0., 0., 0., 0., 0., 0., 1., 0., 0., 0., 0., 0.,\n",
      "       1., 0., 0., 0., 0., 0., 0., 0., 0., 0., 0., 0., 0., 0., 0., 0., 1.,\n",
      "       0., 0., 0., 0., 0., 0., 0., 0., 0., 0., 0., 1., 0., 0., 0., 1., 0.,\n",
      "       0., 0., 0., 0., 0., 0., 0., 0., 0., 0., 1., 0., 0., 0., 0., 0., 0.,\n",
      "       1., 0., 0., 0., 0., 0., 0., 0., 0., 0., 0., 0., 0., 0., 0., 0., 0.,\n",
      "       0., 0., 0., 0., 0., 0., 0., 0., 0., 0., 0., 0., 0., 0., 0., 0., 0.,\n",
      "       0., 0., 0., 0., 0., 0., 0., 0., 0., 0., 0., 0., 0., 0., 0., 0., 0.,\n",
      "       0., 0., 0., 0., 0., 0., 0., 0., 0., 0., 1., 0., 0., 0., 1., 0., 0.,\n",
      "       0., 0., 0., 0., 0., 0., 0., 0., 0., 0., 0., 0., 0., 0., 1., 0., 0.,\n",
      "       2., 0., 0., 0., 0., 0., 0., 0., 0., 0., 0., 1., 0., 0., 0., 0., 0.,\n",
      "       1., 0., 0., 0., 0., 0., 0., 0., 0., 0., 0., 0., 0., 0., 0., 0., 0.,\n",
      "       0., 0., 0., 0., 0., 0., 0., 0., 0., 0., 0., 0., 1., 0., 0., 0., 0.,\n",
      "       0., 0., 0., 0., 0., 0., 0., 0., 0., 0., 0., 0., 0., 0., 0., 0., 0.,\n",
      "       1., 0., 0., 0., 0., 0., 0., 0., 0., 0., 0., 0., 0., 0., 0., 0., 0.,\n",
      "       0., 0., 0., 0., 0., 0., 0., 0., 0., 0., 0., 0., 0., 0., 0., 0., 0.,\n",
      "       0., 0., 1., 0., 0., 0., 0., 0., 0., 0., 0., 0., 0., 0., 0., 0., 0.,\n",
      "       0., 0., 0., 0., 0., 0., 0., 0., 0., 0., 0., 0., 0., 0., 0., 0., 0.,\n",
      "       0., 0., 0., 0., 0., 0., 1., 0., 0., 0., 0., 0., 0., 0., 0., 0., 0.,\n",
      "       0., 0., 0., 0., 0., 0., 0., 0., 0., 0., 0., 0., 0., 0., 0., 0., 0.,\n",
      "       0., 0., 0., 0., 0., 0., 0., 0., 0., 0., 0., 0., 0., 0., 0., 0., 0.,\n",
      "       0., 0., 0., 0., 0., 0., 0., 0., 0., 0., 0., 0., 0., 0., 0., 0., 0.,\n",
      "       0., 0., 0., 0., 0., 0., 0., 0., 0., 0., 0., 0., 0., 0., 0., 0., 0.,\n",
      "       0., 0., 0., 0., 0., 0., 0., 0., 0., 0., 0., 0., 0., 0., 0., 0., 0.,\n",
      "       0., 0., 0., 0., 0., 0., 0., 0., 0., 0., 0., 0., 0., 0., 0., 0., 0.,\n",
      "       0., 0., 0., 0., 0., 0., 0., 0., 0., 0., 0., 0., 0., 0., 0., 0., 0.,\n",
      "       0., 0., 0., 0., 0., 0., 0., 0., 0., 0., 0., 0., 0., 0., 0., 0., 0.,\n",
      "       0., 0., 0., 0., 0., 0., 0., 0., 0., 0., 0., 0., 0., 0., 0., 0., 0.,\n",
      "       0., 0., 0., 0., 0.]), array([0., 0., 0., 0., 1., 0.]))\n"
     ]
    }
   ],
   "source": [
    "x,y=next(xy)\n",
    "print((x,y))a"
   ]
  },
  {
   "cell_type": "code",
   "execution_count": 132,
   "metadata": {},
   "outputs": [
    {
     "data": {
      "text/plain": [
       "('it', 'voglio cantare anche io: \"celerino, figlio di putt**a!\" (acab docet)')"
      ]
     },
     "execution_count": 132,
     "metadata": {},
     "output_type": "execute_result"
    }
   ],
   "source": [
    "train_data[0]"
   ]
  },
  {
   "cell_type": "code",
   "execution_count": 135,
   "metadata": {},
   "outputs": [
    {
     "data": {
      "text/plain": [
       "(array([  0,   3,   7,   8,  11,  12,  13,  16,  19,  22,  23,  25,  29,\n",
       "         30,  31,  40,  46,  51,  52,  53,  55,  56,  60,  63,  68,  71,\n",
       "         72,  84,  89,  97, 130, 136, 140, 147, 153, 169, 181, 185, 197,\n",
       "        204, 265, 269, 286, 289, 300, 306, 335, 357, 393, 431], dtype=int64),)"
      ]
     },
     "execution_count": 135,
     "metadata": {},
     "output_type": "execute_result"
    }
   ],
   "source": [
    "np.where(x)"
   ]
  },
  {
   "cell_type": "code",
   "execution_count": 143,
   "metadata": {},
   "outputs": [
    {
     "data": {
      "text/plain": [
       "[('e ', 0),\n",
       " ('er', 3),\n",
       " ('o ', 7),\n",
       " (' d', 8),\n",
       " ('in', 11),\n",
       " (' a', 12),\n",
       " ('an', 13),\n",
       " ('ch', 16),\n",
       " ('re', 19),\n",
       " (' c', 22),\n",
       " ('i ', 23),\n",
       " ('ar', 25),\n",
       " ('le', 29),\n",
       " ('se', 54)]"
      ]
     },
     "execution_count": 143,
     "metadata": {},
     "output_type": "execute_result"
    }
   ],
   "source": [
    "[(k,v) for k,v in symbol_dict.items() if v in [  0,   3,   7,   8,  11,  12,  13,  16,  19,  22,  23,  25,  29, 54]]"
   ]
  },
  {
   "cell_type": "code",
   "execution_count": 144,
   "metadata": {},
   "outputs": [],
   "source": [
    "big_xy=list(xy)"
   ]
  },
  {
   "cell_type": "code",
   "execution_count": 145,
   "metadata": {},
   "outputs": [
    {
     "data": {
      "text/plain": [
       "2333"
      ]
     },
     "execution_count": 145,
     "metadata": {},
     "output_type": "execute_result"
    }
   ],
   "source": [
    "len(big_xy)"
   ]
  },
  {
   "cell_type": "code",
   "execution_count": 147,
   "metadata": {},
   "outputs": [
    {
     "data": {
      "text/plain": [
       "(array([2., 0., 0., 0., 0., 1., 3., 0., 1., 3., 3., 5., 0., 1., 1., 0., 1.,\n",
       "        0., 1., 1., 0., 0., 0., 0., 1., 1., 0., 2., 0., 1., 0., 0., 0., 0.,\n",
       "        1., 0., 1., 2., 3., 0., 0., 1., 0., 1., 0., 0., 0., 1., 1., 1., 2.,\n",
       "        0., 0., 0., 0., 0., 0., 3., 0., 0., 0., 1., 0., 1., 2., 0., 0., 1.,\n",
       "        0., 0., 0., 1., 0., 0., 1., 1., 0., 0., 0., 0., 2., 2., 1., 0., 0.,\n",
       "        0., 1., 0., 1., 0., 0., 3., 2., 0., 0., 0., 1., 0., 1., 1., 0., 0.,\n",
       "        0., 1., 0., 0., 0., 0., 0., 0., 0., 0., 1., 0., 1., 1., 1., 0., 0.,\n",
       "        0., 0., 0., 2., 0., 0., 0., 0., 0., 0., 0., 0., 0., 0., 0., 0., 0.,\n",
       "        1., 0., 1., 0., 0., 0., 0., 0., 0., 0., 0., 0., 0., 0., 0., 1., 0.,\n",
       "        0., 0., 0., 0., 0., 1., 0., 0., 0., 0., 0., 0., 0., 0., 0., 0., 1.,\n",
       "        0., 0., 0., 0., 1., 0., 0., 0., 0., 0., 0., 0., 0., 0., 1., 0., 0.,\n",
       "        0., 0., 0., 0., 0., 0., 0., 0., 0., 0., 0., 0., 0., 0., 0., 0., 0.,\n",
       "        0., 0., 0., 0., 0., 0., 0., 0., 0., 0., 0., 0., 0., 0., 0., 0., 0.,\n",
       "        0., 0., 1., 0., 0., 0., 0., 0., 0., 0., 0., 0., 0., 0., 0., 1., 0.,\n",
       "        0., 0., 0., 0., 0., 0., 0., 0., 0., 0., 0., 0., 0., 0., 0., 0., 0.,\n",
       "        0., 0., 0., 0., 0., 0., 0., 0., 0., 0., 0., 0., 0., 0., 0., 0., 0.,\n",
       "        0., 0., 0., 0., 0., 0., 0., 0., 0., 0., 0., 0., 0., 0., 1., 0., 1.,\n",
       "        0., 0., 0., 0., 0., 0., 0., 1., 1., 0., 0., 0., 0., 0., 0., 1., 0.,\n",
       "        0., 0., 0., 0., 0., 0., 0., 0., 0., 0., 0., 0., 0., 0., 0., 0., 0.,\n",
       "        0., 0., 0., 0., 0., 0., 0., 0., 0., 0., 0., 0., 0., 0., 0., 0., 0.,\n",
       "        0., 0., 0., 0., 0., 0., 0., 0., 0., 0., 0., 0., 0., 0., 0., 0., 0.,\n",
       "        1., 0., 0., 0., 0., 0., 0., 0., 0., 0., 0., 0., 0., 0., 1., 0., 0.,\n",
       "        0., 0., 0., 0., 0., 1., 0., 0., 0., 0., 0., 0., 0., 0., 0., 0., 0.,\n",
       "        0., 0., 0., 0., 0., 0., 0., 1., 0., 0., 0., 0., 0., 1., 0., 0., 0.,\n",
       "        0., 0., 0., 0., 0., 0., 0., 0., 0., 0., 0., 0., 0., 0., 0., 0., 0.,\n",
       "        0., 0., 0., 0., 0., 0., 0., 0., 0., 0., 0., 0., 0., 0., 0., 0., 0.,\n",
       "        0., 0., 0., 1., 0., 0., 0., 0., 0., 0., 0., 0., 0., 0., 0., 0., 0.,\n",
       "        0., 0., 0., 0., 0., 0., 0., 0., 0., 0., 0., 0., 0., 0., 0., 0., 0.,\n",
       "        0., 0., 0., 0., 0., 0., 0., 0., 0., 0., 0., 0., 0., 0., 0., 0., 0.,\n",
       "        0., 0., 0., 0., 0., 0., 0., 0., 0., 0., 0., 0., 0., 0., 0., 0., 0.,\n",
       "        0., 0., 0., 0., 0., 0., 0., 0., 0., 0., 0., 0., 0., 0., 0., 0., 0.,\n",
       "        0., 1., 0., 0., 0., 0., 0., 0., 0., 0., 0., 0., 0., 0., 0., 0., 0.,\n",
       "        0., 0., 0., 0., 0., 0., 0., 0., 0., 0., 0., 0., 0., 0., 0., 0., 0.,\n",
       "        0., 0., 0., 0., 0., 0., 0., 0., 0., 0., 0., 0., 0., 0., 0., 0., 0.,\n",
       "        0., 0., 0., 0., 0., 0., 0., 0., 0., 0., 0., 0., 0., 0., 0., 0., 0.,\n",
       "        0., 0., 0., 0., 0.]), array([1., 0., 0., 0., 0., 0.]))"
      ]
     },
     "execution_count": 147,
     "metadata": {},
     "output_type": "execute_result"
    }
   ],
   "source": [
    "big_xy[1]"
   ]
  },
  {
   "cell_type": "code",
   "execution_count": 165,
   "metadata": {},
   "outputs": [],
   "source": [
    "x=np.array([1., 2., 3.])"
   ]
  },
  {
   "cell_type": "code",
   "execution_count": 166,
   "metadata": {},
   "outputs": [
    {
     "data": {
      "text/plain": [
       "array([1., 2., 3.])"
      ]
     },
     "execution_count": 166,
     "metadata": {},
     "output_type": "execute_result"
    }
   ],
   "source": [
    "x\n"
   ]
  },
  {
   "cell_type": "code",
   "execution_count": 171,
   "metadata": {},
   "outputs": [
    {
     "data": {
      "text/plain": [
       "array([[1., 2., 3.]])"
      ]
     },
     "execution_count": 171,
     "metadata": {},
     "output_type": "execute_result"
    }
   ],
   "source": [
    "np.array(x,ndmin=2)"
   ]
  },
  {
   "cell_type": "code",
   "execution_count": 179,
   "metadata": {},
   "outputs": [],
   "source": [
    "a=np.array([1,2,3])\n",
    "b=np.array([4,5,6])\n",
    "p=(a,b)"
   ]
  },
  {
   "cell_type": "code",
   "execution_count": 180,
   "metadata": {},
   "outputs": [],
   "source": [
    "for t in p:\n",
    "    t[2]=10"
   ]
  },
  {
   "cell_type": "code",
   "execution_count": 181,
   "metadata": {},
   "outputs": [
    {
     "data": {
      "text/plain": [
       "array([ 1,  2, 10])"
      ]
     },
     "execution_count": 181,
     "metadata": {},
     "output_type": "execute_result"
    }
   ],
   "source": [
    "a"
   ]
  },
  {
   "cell_type": "code",
   "execution_count": 182,
   "metadata": {},
   "outputs": [
    {
     "data": {
      "text/plain": [
       "array([ 4,  5, 10])"
      ]
     },
     "execution_count": 182,
     "metadata": {},
     "output_type": "execute_result"
    }
   ],
   "source": [
    "b"
   ]
  },
  {
   "cell_type": "code",
   "execution_count": 183,
   "metadata": {},
   "outputs": [
    {
     "data": {
      "text/plain": [
       "(array([ 1,  2, 10]), array([ 4,  5, 10]))"
      ]
     },
     "execution_count": 183,
     "metadata": {},
     "output_type": "execute_result"
    }
   ],
   "source": [
    "p\n"
   ]
  },
  {
   "cell_type": "code",
   "execution_count": 186,
   "metadata": {},
   "outputs": [
    {
     "data": {
      "text/plain": [
       "2"
      ]
     },
     "execution_count": 186,
     "metadata": {},
     "output_type": "execute_result"
    }
   ],
   "source": [
    "sum([True, True ,False])"
   ]
  },
  {
   "cell_type": "markdown",
   "metadata": {},
   "source": [
    "#### testing mlp1.py"
   ]
  },
  {
   "cell_type": "code",
   "execution_count": 68,
   "metadata": {},
   "outputs": [
    {
     "data": {
      "text/plain": [
       "<module 'loglinear' from 'C:\\\\Shahar\\\\BarIlan\\\\NLP-courses\\\\89687-DL\\\\Assignment1\\\\code\\\\loglinear.py'>"
      ]
     },
     "execution_count": 68,
     "metadata": {},
     "output_type": "execute_result"
    }
   ],
   "source": [
    "import mlp1\n",
    "importlib.reload(mlp1)\n",
    "import testing\n",
    "importlib.reload(testing)\n",
    "import loglinear as ll\n",
    "importlib.reload(ll)"
   ]
  },
  {
   "cell_type": "code",
   "execution_count": 26,
   "metadata": {},
   "outputs": [],
   "source": [
    "W,b,U, b_tag = mlp1.create_classifier(12,4,6)\n"
   ]
  },
  {
   "cell_type": "code",
   "execution_count": 46,
   "metadata": {},
   "outputs": [],
   "source": [
    "x = np.ones((1,12), np.double)\n",
    "y = 4"
   ]
  },
  {
   "cell_type": "code",
   "execution_count": 56,
   "metadata": {},
   "outputs": [],
   "source": [
    "W = testing.randomize_array(W)\n",
    "b = testing.randomize_array(b)\n",
    "U = testing.randomize_array(U)\n",
    "b_tag = testing.randomize_array(b_tag)"
   ]
  },
  {
   "cell_type": "code",
   "execution_count": 57,
   "metadata": {},
   "outputs": [],
   "source": [
    "y_e, y_hat, loss, y_diff = mlp1.loss_and_gradients(x,y,(W,b,U,b_tag))"
   ]
  },
  {
   "cell_type": "code",
   "execution_count": 58,
   "metadata": {},
   "outputs": [
    {
     "name": "stdout",
     "output_type": "stream",
     "text": [
      "[[0. 0. 0. 0. 1. 0.]]\n",
      "[[0.04327826 0.0152138  0.0089677  0.00102924 0.92939732 0.00211369]]\n",
      "[[0.07321895]]\n",
      "[[ 0.04327826  0.0152138   0.0089677   0.00102924 -0.07060268  0.00211369]]\n"
     ]
    }
   ],
   "source": [
    "print(y_e)\n",
    "print(y_hat)\n",
    "print(loss)\n",
    "print(y_diff)"
   ]
  },
  {
   "cell_type": "code",
   "execution_count": 51,
   "metadata": {},
   "outputs": [
    {
     "data": {
      "text/plain": [
       "array([[7.16703788],\n",
       "       [7.16703788],\n",
       "       [7.16703788],\n",
       "       [7.16703788],\n",
       "       [7.16703788],\n",
       "       [7.16703788]])"
      ]
     },
     "execution_count": 51,
     "metadata": {},
     "output_type": "execute_result"
    }
   ],
   "source": [
    "ll.logloss(y, y_hat)"
   ]
  },
  {
   "cell_type": "code",
   "execution_count": 52,
   "metadata": {},
   "outputs": [
    {
     "name": "stdout",
     "output_type": "stream",
     "text": [
      "4\n",
      "[[0.16666667 0.16666667 0.16666667 0.16666667 0.16666667 0.16666667]]\n"
     ]
    }
   ],
   "source": [
    "print(y)\n",
    "print(y_hat)"
   ]
  },
  {
   "cell_type": "markdown",
   "metadata": {},
   "source": [
    "for small x, with W = I (the unit matrix) and b=0, we expect the result to be the same as for loglinear classifier\n"
   ]
  },
  {
   "cell_type": "code",
   "execution_count": 74,
   "metadata": {},
   "outputs": [
    {
     "name": "stdout",
     "output_type": "stream",
     "text": [
      "v1\n",
      "loss: [[3.32499902]]\n",
      "[[3.32521307]] [[3.32499902]]\n"
     ]
    }
   ],
   "source": [
    "W,b,U, b_tag = mlp1.create_classifier(12,12,6)\n",
    "W = np.eye(12)\n",
    "x = np.random.rand(1,12)*0.1\n",
    "U = testing.randomize_array(U)\n",
    "b_tag = testing.randomize_array(b_tag)\n",
    "loss2 = mlp1.loss_and_gradients(x,4,(W,b,U,b_tag))\n",
    "loss1,_ = ll.loss_and_gradients(x,4,(U,b_tag))\n",
    "print(loss1, loss2)"
   ]
  },
  {
   "cell_type": "code",
   "execution_count": 78,
   "metadata": {},
   "outputs": [
    {
     "data": {
      "text/plain": [
       "array([[ 0., -3., -8.]])"
      ]
     },
     "execution_count": 78,
     "metadata": {},
     "output_type": "execute_result"
    }
   ],
   "source": [
    "1 - np.array([[1.,2.,3.]]) ** 2"
   ]
  },
  {
   "cell_type": "markdown",
   "metadata": {},
   "source": [
    "#### now testing the gradient calculation"
   ]
  },
  {
   "cell_type": "code",
   "execution_count": 125,
   "metadata": {},
   "outputs": [
    {
     "data": {
      "text/plain": [
       "<module 'grad_check' from 'C:\\\\Shahar\\\\BarIlan\\\\NLP-courses\\\\89687-DL\\\\Assignment1\\\\code\\\\grad_check.py'>"
      ]
     },
     "execution_count": 125,
     "metadata": {},
     "output_type": "execute_result"
    }
   ],
   "source": [
    "import testing\n",
    "importlib.reload(testing)\n",
    "import mlp1\n",
    "importlib.reload(mlp1)\n",
    "import loglinear as ll\n",
    "importlib.reload(ll)\n",
    "import grad_check\n",
    "importlib.reload(grad_check)"
   ]
  },
  {
   "cell_type": "code",
   "execution_count": 126,
   "metadata": {},
   "outputs": [
    {
     "name": "stdout",
     "output_type": "stream",
     "text": [
      "b_tag\n",
      "Gradient check complete \n",
      "U:\n",
      "Gradient check complete \n",
      "b:\n",
      "Gradient check complete \n",
      "W:\n",
      "Gradient check complete \n",
      "b_tag\n",
      "Gradient check complete \n",
      "U:\n",
      "Gradient check complete \n",
      "b:\n",
      "Gradient check complete \n",
      "W:\n",
      "Gradient check complete \n",
      "b_tag\n",
      "Gradient check complete \n",
      "U:\n",
      "Gradient check complete \n",
      "b:\n",
      "Gradient check complete \n",
      "W:\n",
      "Gradient check complete \n",
      "b_tag\n",
      "Gradient check complete \n",
      "U:\n",
      "Gradient check complete \n",
      "b:\n",
      "Gradient check complete \n",
      "W:\n",
      "Gradient check complete \n",
      "b_tag\n",
      "Gradient check complete \n",
      "U:\n",
      "Gradient check complete \n",
      "b:\n",
      "Gradient check complete \n",
      "W:\n",
      "Gradient check complete \n",
      "b_tag\n",
      "Gradient check complete \n",
      "U:\n",
      "Gradient check complete \n",
      "b:\n",
      "Gradient check complete \n",
      "W:\n",
      "Gradient check complete \n",
      "b_tag\n",
      "Gradient check complete \n",
      "U:\n",
      "Gradient check complete \n",
      "b:\n",
      "Gradient check complete \n",
      "W:\n",
      "Gradient check complete \n",
      "b_tag\n",
      "Gradient check complete \n",
      "U:\n",
      "Gradient check complete \n",
      "b:\n",
      "Gradient check complete \n",
      "W:\n",
      "Gradient check complete \n",
      "b_tag\n",
      "Gradient check complete \n",
      "U:\n",
      "Gradient check complete \n",
      "b:\n",
      "Gradient check complete \n",
      "W:\n",
      "Gradient check complete \n",
      "b_tag\n",
      "Gradient check complete \n",
      "U:\n",
      "Gradient check complete \n",
      "b:\n",
      "Gradient check complete \n",
      "W:\n",
      "Gradient check complete \n"
     ]
    }
   ],
   "source": [
    "testing.mlp1_grad_sanity()"
   ]
  },
  {
   "cell_type": "code",
   "execution_count": 117,
   "metadata": {},
   "outputs": [
    {
     "data": {
      "text/plain": [
       "array([[-1000,     0,     0],\n",
       "       [    0,     1,     0],\n",
       "       [    0,     0,  1000]])"
      ]
     },
     "execution_count": 117,
     "metadata": {},
     "output_type": "execute_result"
    }
   ],
   "source": [
    "np.diag(np.array([-1000,1\n",
    "                  ,1000]))"
   ]
  },
  {
   "cell_type": "code",
   "execution_count": 33,
   "metadata": {},
   "outputs": [
    {
     "data": {
      "text/plain": [
       "array([[-15.,   0.,   0.,   0.,   0.,   0.],\n",
       "       [  0., -48.,   0.,   0.,   0.,   0.],\n",
       "       [  0.,   0.,   0.,   0.,   0.,   0.],\n",
       "       [  0.,   0.,   0.,   1.,   0.,   0.],\n",
       "       [  0.,   0.,   0.,   0., -63.,   0.],\n",
       "       [  0.,   0.,   0.,   0.,   0., -15.]])"
      ]
     },
     "execution_count": 33,
     "metadata": {},
     "output_type": "execute_result"
    }
   ],
   "source": [
    "np.diag(np.squeeze(1- np.round(a[0]) ** 2))"
   ]
  },
  {
   "cell_type": "code",
   "execution_count": 37,
   "metadata": {},
   "outputs": [
    {
     "data": {
      "text/plain": [
       "(array([[1.79175947]]), [array([[0., 0., 0.],\n",
       "         [0., 0., 0.],\n",
       "         [0., 0., 0.],\n",
       "         [0., 0., 0.],\n",
       "         [0., 0., 0.],\n",
       "         [0., 0., 0.]]),\n",
       "  array([[0., 0., 0., 0., 0., 0.]]),\n",
       "  array([[ 0.82654857,  0.83329157, -0.83333315, -0.61660245, -0.8306838 ,\n",
       "           0.11179183],\n",
       "         [-0.16530971, -0.16665831,  0.16666663,  0.12332049,  0.16613676,\n",
       "          -0.02235837],\n",
       "         [-0.16530971, -0.16665831,  0.16666663,  0.12332049,  0.16613676,\n",
       "          -0.02235837],\n",
       "         [-0.16530971, -0.16665831,  0.16666663,  0.12332049,  0.16613676,\n",
       "          -0.02235837],\n",
       "         [-0.16530971, -0.16665831,  0.16666663,  0.12332049,  0.16613676,\n",
       "          -0.02235837],\n",
       "         [-0.16530971, -0.16665831,  0.16666663,  0.12332049,  0.16613676,\n",
       "          -0.02235837]]),\n",
       "  array([[-0.83333333,  0.16666667,  0.16666667,  0.16666667,  0.16666667,\n",
       "           0.16666667]])])"
      ]
     },
     "execution_count": 37,
     "metadata": {},
     "output_type": "execute_result"
    }
   ],
   "source": [
    "a"
   ]
  },
  {
   "cell_type": "code",
   "execution_count": 18,
   "metadata": {},
   "outputs": [
    {
     "name": "stdout",
     "output_type": "stream",
     "text": [
      "[[-3.58872272 -0.52344462 -1.6341967  -3.80449101  0.22498835 -5.66938495]]\n"
     ]
    },
    {
     "ename": "StopIteration",
     "evalue": "(array([[-3.58872272, -0.52344462, -1.6341967 , -3.80449101,  0.22498835,\n        -5.66938495]]), [0, 0])",
     "output_type": "error",
     "traceback": [
      "\u001b[1;31m---------------------------------------------------------------------------\u001b[0m",
      "\u001b[1;31mStopIteration\u001b[0m                             Traceback (most recent call last)",
      "\u001b[1;32m<ipython-input-18-15841f3f11d4>\u001b[0m in \u001b[0;36m<module>\u001b[1;34m\u001b[0m\n\u001b[1;32m----> 1\u001b[1;33m \u001b[0mnext\u001b[0m\u001b[1;33m(\u001b[0m\u001b[0ma\u001b[0m\u001b[1;33m)\u001b[0m\u001b[1;33m\u001b[0m\u001b[0m\n\u001b[0m",
      "\u001b[1;31mStopIteration\u001b[0m: (array([[-3.58872272, -0.52344462, -1.6341967 , -3.80449101,  0.22498835,\n        -5.66938495]]), [0, 0])"
     ]
    }
   ],
   "source": [
    "next(a)"
   ]
  },
  {
   "cell_type": "code",
   "execution_count": 98,
   "metadata": {},
   "outputs": [
    {
     "data": {
      "text/plain": [
       "array([[1, 2, 3],\n",
       "       [1, 2, 3],\n",
       "       [1, 2, 3]])"
      ]
     },
     "execution_count": 98,
     "metadata": {},
     "output_type": "execute_result"
    }
   ],
   "source": [
    "np.tile(np.array([[1,2,3]]),(3,1))"
   ]
  },
  {
   "cell_type": "code",
   "execution_count": 11,
   "metadata": {},
   "outputs": [
    {
     "ename": "StopIteration",
     "evalue": "a",
     "output_type": "error",
     "traceback": [
      "\u001b[1;31m---------------------------------------------------------------------------\u001b[0m",
      "\u001b[1;31mStopIteration\u001b[0m                             Traceback (most recent call last)",
      "\u001b[1;32m<ipython-input-11-cf9ac561a401>\u001b[0m in \u001b[0;36m<module>\u001b[1;34m\u001b[0m\n\u001b[1;32m----> 1\u001b[1;33m \u001b[0mnext\u001b[0m\u001b[1;33m(\u001b[0m\u001b[0mz\u001b[0m\u001b[1;33m)\u001b[0m\u001b[1;33m\u001b[0m\u001b[0m\n\u001b[0m",
      "\u001b[1;31mStopIteration\u001b[0m: a"
     ]
    }
   ],
   "source": [
    "next(z)"
   ]
  },
  {
   "cell_type": "code",
   "execution_count": 120,
   "metadata": {},
   "outputs": [
    {
     "data": {
      "text/plain": [
       "array([[ 4., 10., 18.]])"
      ]
     },
     "execution_count": 120,
     "metadata": {},
     "output_type": "execute_result"
    }
   ],
   "source": [
    "np.array([[1.,2.,3.]]) * np.array([[4.,5.,6.]])"
   ]
  },
  {
   "cell_type": "markdown",
   "metadata": {},
   "source": [
    "#### training mlp1"
   ]
  },
  {
   "cell_type": "code",
   "execution_count": 160,
   "metadata": {},
   "outputs": [
    {
     "name": "stdout",
     "output_type": "stream",
     "text": [
      "problem dimensions are: (600, 150, 6)\n",
      "yhat counter: Counter({5: 433, 4: 423, 0: 391, 2: 373, 1: 364, 3: 350})\n",
      "yhat counter: Counter({0: 59, 2: 58, 4: 53, 5: 51, 1: 46, 3: 33})\n",
      "I 0, train_loss [[3.76904825]], train_accuracy 0.85690, dev_accuracy 0.71000\n",
      "yhat counter: Counter({2: 430, 3: 413, 1: 400, 4: 394, 0: 349, 5: 348})\n",
      "yhat counter: Counter({2: 61, 3: 58, 1: 49, 4: 48, 0: 43, 5: 41})\n",
      "I 1, train_loss [[0.86920169]], train_accuracy 0.92502, dev_accuracy 0.72333\n",
      "yhat counter: Counter({1: 400, 0: 399, 4: 392, 2: 389, 5: 378, 3: 376})\n",
      "yhat counter: Counter({0: 62, 2: 58, 1: 51, 4: 49, 5: 43, 3: 37})\n",
      "I 2, train_loss [[0.25449428]], train_accuracy 0.97943, dev_accuracy 0.74333\n",
      "yhat counter: Counter({1: 394, 4: 392, 2: 391, 0: 389, 5: 385, 3: 383})\n",
      "yhat counter: Counter({0: 61, 2: 53, 1: 53, 4: 47, 5: 46, 3: 40})\n",
      "I 3, train_loss [[0.07514877]], train_accuracy 0.99786, dev_accuracy 0.75667\n",
      "yhat counter: Counter({1: 395, 4: 393, 2: 389, 0: 389, 3: 384, 5: 384})\n",
      "yhat counter: Counter({0: 58, 2: 53, 1: 50, 4: 49, 5: 48, 3: 42})\n",
      "I 4, train_loss [[0.01851629]], train_accuracy 0.99957, dev_accuracy 0.75667\n",
      "yhat counter: Counter({1: 395, 4: 392, 0: 389, 2: 389, 3: 385, 5: 384})\n",
      "yhat counter: Counter({0: 59, 2: 55, 1: 50, 5: 49, 4: 48, 3: 39})\n",
      "I 5, train_loss [[0.00774729]], train_accuracy 1.00000, dev_accuracy 0.75667\n",
      "yhat counter: Counter({1: 395, 4: 392, 2: 389, 0: 389, 3: 385, 5: 384})\n",
      "yhat counter: Counter({0: 58, 2: 56, 1: 50, 5: 48, 4: 48, 3: 40})\n",
      "I 6, train_loss [[0.00507709]], train_accuracy 1.00000, dev_accuracy 0.76333\n",
      "yhat counter: Counter({1: 395, 4: 392, 0: 389, 2: 389, 3: 385, 5: 384})\n",
      "yhat counter: Counter({0: 58, 2: 56, 1: 50, 5: 48, 4: 48, 3: 40})\n",
      "I 7, train_loss [[0.00420955]], train_accuracy 1.00000, dev_accuracy 0.76333\n",
      "yhat counter: Counter({1: 395, 4: 392, 2: 389, 0: 389, 3: 385, 5: 384})\n",
      "yhat counter: Counter({0: 58, 2: 56, 1: 50, 5: 48, 4: 48, 3: 40})\n",
      "I 8, train_loss [[0.00370323]], train_accuracy 1.00000, dev_accuracy 0.76333\n",
      "yhat counter: Counter({1: 395, 4: 392, 2: 389, 0: 389, 3: 385, 5: 384})\n",
      "yhat counter: Counter({0: 58, 2: 56, 1: 50, 5: 48, 4: 48, 3: 40})\n",
      "I 9, train_loss [[0.00330831]], train_accuracy 1.00000, dev_accuracy 0.76333\n",
      "yhat counter: Counter({1: 395, 4: 392, 2: 389, 0: 389, 3: 385, 5: 384})\n",
      "yhat counter: Counter({0: 58, 2: 56, 1: 50, 5: 48, 4: 48, 3: 40})\n",
      "I 10, train_loss [[0.00301738]], train_accuracy 1.00000, dev_accuracy 0.76333\n",
      "yhat counter: Counter({1: 395, 4: 392, 2: 389, 0: 389, 3: 385, 5: 384})\n",
      "yhat counter: Counter({0: 58, 2: 56, 1: 50, 5: 48, 4: 48, 3: 40})\n",
      "I 11, train_loss [[0.00277281]], train_accuracy 1.00000, dev_accuracy 0.76333\n",
      "yhat counter: Counter({1: 395, 4: 392, 0: 389, 2: 389, 3: 385, 5: 384})\n",
      "yhat counter: Counter({0: 58, 2: 56, 1: 50, 5: 48, 4: 48, 3: 40})\n",
      "I 12, train_loss [[0.00257391]], train_accuracy 1.00000, dev_accuracy 0.76333\n",
      "yhat counter: Counter({1: 395, 4: 392, 0: 389, 2: 389, 3: 385, 5: 384})\n",
      "yhat counter: Counter({0: 58, 2: 56, 1: 50, 5: 48, 4: 48, 3: 40})\n",
      "I 13, train_loss [[0.00240272]], train_accuracy 1.00000, dev_accuracy 0.76333\n",
      "yhat counter: Counter({1: 395, 4: 392, 2: 389, 0: 389, 3: 385, 5: 384})\n",
      "yhat counter: Counter({0: 58, 2: 56, 1: 50, 5: 48, 4: 48, 3: 40})\n",
      "I 14, train_loss [[0.00225773]], train_accuracy 1.00000, dev_accuracy 0.76333\n",
      "yhat counter: Counter({1: 395, 4: 392, 0: 389, 2: 389, 3: 385, 5: 384})\n",
      "yhat counter: Counter({0: 58, 2: 56, 1: 50, 5: 48, 4: 48, 3: 40})\n",
      "I 15, train_loss [[0.00212973]], train_accuracy 1.00000, dev_accuracy 0.76333\n",
      "yhat counter: Counter({1: 395, 4: 392, 0: 389, 2: 389, 3: 385, 5: 384})\n",
      "yhat counter: Counter({0: 58, 2: 56, 1: 50, 5: 48, 4: 48, 3: 40})\n",
      "I 16, train_loss [[0.0020155]], train_accuracy 1.00000, dev_accuracy 0.76333\n",
      "yhat counter: Counter({1: 395, 4: 392, 2: 389, 0: 389, 3: 385, 5: 384})\n",
      "yhat counter: Counter({0: 58, 2: 56, 1: 50, 5: 48, 4: 48, 3: 40})\n",
      "I 17, train_loss [[0.00191683]], train_accuracy 1.00000, dev_accuracy 0.76333\n",
      "yhat counter: Counter({1: 395, 4: 392, 2: 389, 0: 389, 3: 385, 5: 384})\n",
      "yhat counter: Counter({0: 59, 2: 55, 1: 50, 5: 48, 4: 48, 3: 40})\n",
      "I 18, train_loss [[0.00182809]], train_accuracy 1.00000, dev_accuracy 0.76333\n",
      "yhat counter: Counter({1: 395, 4: 392, 2: 389, 0: 389, 3: 385, 5: 384})\n",
      "yhat counter: Counter({0: 60, 2: 55, 1: 50, 5: 48, 4: 48, 3: 39})\n",
      "I 19, train_loss [[0.00174709]], train_accuracy 1.00000, dev_accuracy 0.76000\n"
     ]
    }
   ],
   "source": [
    "import config\n",
    "importlib.reload(config)\n",
    "import train_loglin\n",
    "importlib.reload(train_loglin)\n",
    "import mlp1\n",
    "importlib.reload(mlp1)\n",
    "import train_mlp1\n",
    "importlib.reload(train_mlp1)\n",
    "trained_params = train_mlp1.main()\n"
   ]
  },
  {
   "cell_type": "markdown",
   "metadata": {},
   "source": [
    "##### same thing running the code in train_mlp1 main directly"
   ]
  },
  {
   "cell_type": "code",
   "execution_count": 161,
   "metadata": {},
   "outputs": [
    {
     "name": "stdout",
     "output_type": "stream",
     "text": [
      "problem dimensions are: (600, 150, 6)\n",
      "yhat counter: Counter({0: 493, 2: 465, 5: 419, 1: 331, 4: 326, 3: 300})\n",
      "yhat counter: Counter({0: 67, 5: 62, 2: 58, 4: 44, 1: 40, 3: 29})\n",
      "I 0, train_loss [[4.35594434]], train_accuracy 0.82776, dev_accuracy 0.71333\n",
      "yhat counter: Counter({5: 402, 1: 398, 3: 394, 4: 391, 2: 378, 0: 371})\n",
      "yhat counter: Counter({5: 62, 4: 53, 0: 52, 1: 51, 2: 44, 3: 38})\n",
      "I 1, train_loss [[0.80002854]], train_accuracy 0.94602, dev_accuracy 0.74333\n",
      "yhat counter: Counter({2: 404, 0: 401, 4: 394, 5: 386, 1: 376, 3: 373})\n",
      "yhat counter: Counter({4: 59, 0: 58, 5: 55, 2: 53, 1: 43, 3: 32})\n",
      "I 2, train_loss [[0.28160941]], train_accuracy 0.97558, dev_accuracy 0.75333\n",
      "yhat counter: Counter({1: 395, 4: 392, 2: 388, 5: 388, 0: 386, 3: 385})\n",
      "yhat counter: Counter({5: 57, 4: 56, 0: 55, 1: 52, 2: 45, 3: 35})\n",
      "I 3, train_loss [[0.07914927]], train_accuracy 0.99700, dev_accuracy 0.75667\n",
      "yhat counter: Counter({1: 394, 4: 392, 2: 390, 0: 388, 3: 386, 5: 384})\n",
      "yhat counter: Counter({0: 56, 4: 56, 5: 54, 2: 49, 1: 48, 3: 37})\n",
      "I 4, train_loss [[0.02359066]], train_accuracy 0.99871, dev_accuracy 0.76667\n",
      "yhat counter: Counter({1: 395, 4: 392, 2: 389, 0: 389, 3: 385, 5: 384})\n",
      "yhat counter: Counter({4: 57, 0: 56, 5: 53, 1: 49, 2: 48, 3: 37})\n",
      "I 5, train_loss [[0.01078557]], train_accuracy 1.00000, dev_accuracy 0.76333\n",
      "yhat counter: Counter({1: 395, 4: 392, 2: 389, 0: 389, 3: 385, 5: 384})\n",
      "yhat counter: Counter({0: 56, 4: 56, 5: 53, 1: 51, 2: 47, 3: 37})\n",
      "I 6, train_loss [[0.0059501]], train_accuracy 1.00000, dev_accuracy 0.77000\n",
      "yhat counter: Counter({1: 395, 4: 392, 2: 389, 0: 389, 3: 385, 5: 384})\n",
      "yhat counter: Counter({4: 56, 5: 55, 0: 55, 1: 51, 2: 45, 3: 38})\n",
      "I 7, train_loss [[0.00437489]], train_accuracy 1.00000, dev_accuracy 0.77333\n",
      "yhat counter: Counter({1: 395, 4: 392, 2: 389, 0: 389, 3: 385, 5: 384})\n",
      "yhat counter: Counter({0: 56, 4: 56, 5: 55, 1: 50, 2: 46, 3: 37})\n",
      "I 8, train_loss [[0.00376512]], train_accuracy 1.00000, dev_accuracy 0.77000\n",
      "yhat counter: Counter({1: 395, 4: 392, 0: 389, 2: 389, 3: 385, 5: 384})\n",
      "yhat counter: Counter({0: 56, 4: 56, 5: 54, 1: 51, 2: 46, 3: 37})\n",
      "I 9, train_loss [[0.00333038]], train_accuracy 1.00000, dev_accuracy 0.77333\n",
      "yhat counter: Counter({1: 395, 4: 392, 0: 389, 2: 389, 3: 385, 5: 384})\n",
      "yhat counter: Counter({0: 56, 4: 56, 5: 54, 1: 51, 2: 46, 3: 37})\n",
      "I 10, train_loss [[0.00301303]], train_accuracy 1.00000, dev_accuracy 0.77333\n",
      "yhat counter: Counter({1: 395, 4: 392, 2: 389, 0: 389, 3: 385, 5: 384})\n",
      "yhat counter: Counter({0: 56, 4: 56, 5: 54, 1: 51, 2: 46, 3: 37})\n",
      "I 11, train_loss [[0.00275962]], train_accuracy 1.00000, dev_accuracy 0.77333\n",
      "yhat counter: Counter({1: 395, 4: 392, 0: 389, 2: 389, 3: 385, 5: 384})\n",
      "yhat counter: Counter({0: 56, 4: 56, 5: 54, 1: 51, 2: 46, 3: 37})\n",
      "I 12, train_loss [[0.00254685]], train_accuracy 1.00000, dev_accuracy 0.77333\n",
      "yhat counter: Counter({1: 395, 4: 392, 2: 389, 0: 389, 3: 385, 5: 384})\n",
      "yhat counter: Counter({0: 57, 4: 56, 5: 54, 1: 51, 2: 46, 3: 36})\n",
      "I 13, train_loss [[0.00237108]], train_accuracy 1.00000, dev_accuracy 0.77000\n",
      "yhat counter: Counter({1: 395, 4: 392, 2: 389, 0: 389, 3: 385, 5: 384})\n",
      "yhat counter: Counter({0: 57, 4: 56, 5: 54, 1: 51, 2: 46, 3: 36})\n",
      "I 14, train_loss [[0.00222303]], train_accuracy 1.00000, dev_accuracy 0.77000\n",
      "yhat counter: Counter({1: 395, 4: 392, 0: 389, 2: 389, 3: 385, 5: 384})\n",
      "yhat counter: Counter({0: 57, 4: 56, 5: 54, 1: 51, 2: 46, 3: 36})\n",
      "I 15, train_loss [[0.00209501]], train_accuracy 1.00000, dev_accuracy 0.77000\n",
      "yhat counter: Counter({1: 395, 4: 392, 2: 389, 0: 389, 3: 385, 5: 384})\n",
      "yhat counter: Counter({0: 57, 4: 56, 5: 54, 1: 51, 2: 46, 3: 36})\n",
      "I 16, train_loss [[0.00198138]], train_accuracy 1.00000, dev_accuracy 0.77000\n",
      "yhat counter: Counter({1: 395, 4: 392, 2: 389, 0: 389, 3: 385, 5: 384})\n",
      "yhat counter: Counter({0: 56, 4: 56, 5: 54, 1: 52, 2: 46, 3: 36})\n",
      "I 17, train_loss [[0.00187906]], train_accuracy 1.00000, dev_accuracy 0.77000\n",
      "yhat counter: Counter({1: 395, 4: 392, 0: 389, 2: 389, 3: 385, 5: 384})\n",
      "yhat counter: Counter({0: 56, 4: 56, 5: 54, 1: 52, 2: 46, 3: 36})\n",
      "I 18, train_loss [[0.00179268]], train_accuracy 1.00000, dev_accuracy 0.77000\n",
      "yhat counter: Counter({1: 395, 4: 392, 0: 389, 2: 389, 3: 385, 5: 384})\n",
      "yhat counter: Counter({0: 56, 4: 56, 5: 54, 1: 52, 2: 46, 3: 36})\n",
      "I 19, train_loss [[0.00171148]], train_accuracy 1.00000, dev_accuracy 0.77000\n"
     ]
    }
   ],
   "source": [
    "codepath = 'C:\\\\Shahar\\\\BarIlan\\\\NLP-courses\\\\89687-DL\\\\Assignment1\\\\code'\n",
    "from os import path\n",
    "exec(open(path.join(codepath,'train_mlp1.py')).read())"
   ]
  },
  {
   "cell_type": "markdown",
   "metadata": {},
   "source": [
    "#### testing parts of mlpn"
   ]
  },
  {
   "cell_type": "code",
   "execution_count": 48,
   "metadata": {},
   "outputs": [
    {
     "data": {
      "text/plain": [
       "<module 'grad_check' from 'C:\\\\Shahar\\\\BarIlan\\\\NLP-courses\\\\89687-DL\\\\Assignment1\\\\code\\\\grad_check.py'>"
      ]
     },
     "execution_count": 48,
     "metadata": {},
     "output_type": "execute_result"
    }
   ],
   "source": [
    "import mlpn\n",
    "importlib.reload(mlpn)\n",
    "import testing\n",
    "importlib.reload(testing)\n",
    "import grad_check\n",
    "importlib.reload(grad_check)"
   ]
  },
  {
   "cell_type": "code",
   "execution_count": null,
   "metadata": {},
   "outputs": [],
   "source": []
  },
  {
   "cell_type": "code",
   "execution_count": 166,
   "metadata": {},
   "outputs": [],
   "source": [
    "params = mlpn.create_classifier([5,6,7,8])"
   ]
  },
  {
   "cell_type": "code",
   "execution_count": 167,
   "metadata": {},
   "outputs": [
    {
     "data": {
      "text/plain": [
       "[(5, 6), (1, 6), (6, 7), (1, 7), (7, 8), (1, 8)]"
      ]
     },
     "execution_count": 167,
     "metadata": {},
     "output_type": "execute_result"
    }
   ],
   "source": []
  },
  {
   "cell_type": "code",
   "execution_count": 7,
   "metadata": {},
   "outputs": [
    {
     "data": {
      "text/plain": [
       "[(5, 5), (1, 5), (5, 5), (1, 5), (5, 5), (1, 5)]"
      ]
     },
     "execution_count": 7,
     "metadata": {},
     "output_type": "execute_result"
    }
   ],
   "source": [
    "params = mlpn.create_classifier([5,5,5,5])\n",
    "[p.shape for p in params]"
   ]
  },
  {
   "cell_type": "code",
   "execution_count": 8,
   "metadata": {},
   "outputs": [
    {
     "data": {
      "text/plain": [
       "[(5, 5), (1, 5), (5, 5), (1, 5), (5, 5), (1, 5)]"
      ]
     },
     "execution_count": 8,
     "metadata": {},
     "output_type": "execute_result"
    }
   ],
   "source": [
    "params[::2]=[np.eye(5) for i in range(3)] \n",
    "[p.shape for p in params]"
   ]
  },
  {
   "cell_type": "markdown",
   "metadata": {},
   "source": [
    "###### test feedforward step"
   ]
  },
  {
   "cell_type": "code",
   "execution_count": 5,
   "metadata": {},
   "outputs": [
    {
     "name": "stdout",
     "output_type": "stream",
     "text": [
      "a_in: [[0.  0.1 0.2 0.3 0.4]]\n",
      " z:[[0.  0.1 0.2 0.3 0.4]]\n",
      " a_out: [[0.         0.09966799 0.19737532 0.29131261 0.37994896]]\n"
     ]
    }
   ],
   "source": [
    "W=np.eye(5)\n",
    "b=np.zeros((1,5))\n",
    "a_in = np.array(np.arange(0,0.5,0.1), np.double, ndmin=2)\n",
    "\n",
    "z,a_out = mlpn.layer_ff(a_in,(W,b),np.tanh)\n",
    "\n",
    "print(\"a_in: {}\\n z:{}\\n a_out: {}\".format(a_in, z, a_out))"
   ]
  },
  {
   "cell_type": "code",
   "execution_count": 211,
   "metadata": {},
   "outputs": [
    {
     "data": {
      "text/plain": [
       "numpy.ndarray"
      ]
     },
     "execution_count": 211,
     "metadata": {},
     "output_type": "execute_result"
    }
   ],
   "source": [
    "type(a_in)"
   ]
  },
  {
   "cell_type": "code",
   "execution_count": 218,
   "metadata": {},
   "outputs": [
    {
     "name": "stdout",
     "output_type": "stream",
     "text": [
      "x: [ 0.22510243 -0.07632781  0.14063318 -0.02407293 -0.05131847], \n",
      "softmax: [0.23828267 0.17627186 0.21898176 0.18572783 0.18073589]\n",
      "0\n",
      "a:\n",
      "[[ 0.22510243 -0.07632781  0.14063318 -0.02407293 -0.05131847]]\n",
      "z:\n",
      "[[ 0.22137588 -0.07617993  0.13971332 -0.02406828 -0.05127346]]\n",
      "1\n",
      "a:\n",
      "[[ 0.22137588 -0.07617993  0.13971332 -0.02406828 -0.05127346]]\n",
      "z:\n",
      "[[ 0.21782905 -0.0760329   0.1388113  -0.02406363 -0.05122858]]\n",
      "2\n",
      "a:\n",
      "[[ 0.21782905 -0.0760329   0.1388113  -0.02406363 -0.05122858]]\n",
      "z:\n",
      "[[0.23704307 0.17668702 0.21903338 0.1861121  0.18112443]]\n"
     ]
    },
    {
     "data": {
      "text/plain": [
       "[((1, 5), (1, 5)), ((1, 5), (1, 5)), ((1, 5), (1, 5))]"
      ]
     },
     "execution_count": 218,
     "metadata": {},
     "output_type": "execute_result"
    }
   ],
   "source": [
    "# this tests the feedforward code by building a \n",
    "# network of 3 identity (eye matrix) hidden layers\n",
    "x = np.random.randn(5)*0.1\n",
    "print(\"x: {}, \\nsoftmax: {}\".format(x, ll.softmax(x)))\n",
    "\n",
    "y = mlpn.feedforward_loop(x, params)\n",
    "\n",
    "for i, az in enumerate(y):\n",
    "    a, z = az\n",
    "    print(\"{}\\na:\\n{}\\nz:\\n{}\".format(i,a,z))\n",
    "[(t[0].shape, t[1].shape) for t in y]"
   ]
  },
  {
   "cell_type": "code",
   "execution_count": 221,
   "metadata": {},
   "outputs": [
    {
     "data": {
      "text/plain": [
       "array([[0.23704307, 0.17668702, 0.21903338, 0.1861121 , 0.18112443]])"
      ]
     },
     "execution_count": 221,
     "metadata": {},
     "output_type": "execute_result"
    }
   ],
   "source": [
    "# after seeing the whole feedforward progression, let's check the \n",
    "# small function that gets x and returns the final a\n",
    "mlpn.classifier_output(x,params)"
   ]
  },
  {
   "cell_type": "markdown",
   "metadata": {},
   "source": [
    "##### testing the backpropagation"
   ]
  },
  {
   "cell_type": "code",
   "execution_count": 9,
   "metadata": {},
   "outputs": [
    {
     "data": {
      "text/plain": [
       "array([[0.32206907, 0.16948273, 0.16948273, 0.16948273, 0.16948273]])"
      ]
     },
     "execution_count": 9,
     "metadata": {},
     "output_type": "execute_result"
    }
   ],
   "source": [
    "mlpn.classifier_output(np.array([[1.,0.,0.,0.,0.]]),params)"
   ]
  },
  {
   "cell_type": "code",
   "execution_count": 10,
   "metadata": {},
   "outputs": [
    {
     "name": "stdout",
     "output_type": "stream",
     "text": [
      "len z_and_a: 4\n",
      "layer: 3\n",
      "layer: 2\n",
      "layer: 1\n"
     ]
    },
    {
     "data": {
      "text/plain": [
       "(array([[1.27499765]]),\n",
       " [array([[-0.42649373,  0.16539143,  0.0923642 ,  0.0923642 ,  0.0923642 ],\n",
       "         [-0.42649373,  0.16539143,  0.0923642 ,  0.0923642 ,  0.0923642 ],\n",
       "         [-0.        ,  0.        ,  0.        ,  0.        ,  0.        ],\n",
       "         [-0.        ,  0.        ,  0.        ,  0.        ,  0.        ],\n",
       "         [-0.        ,  0.        ,  0.        ,  0.        ,  0.        ]]),\n",
       "  array([[-0.66430493,  0.25761303,  0.1438661 ,  0.1438661 ,  0.1438661 ]]),\n",
       "  array([[-0.29739457,  0.11532764,  0.10956758,  0.10956758,  0.10956758],\n",
       "         [-0.29739457,  0.11532764,  0.10956758,  0.10956758,  0.10956758],\n",
       "         [-0.        ,  0.        ,  0.        ,  0.        ,  0.        ],\n",
       "         [-0.        ,  0.        ,  0.        ,  0.        ,  0.        ],\n",
       "         [-0.        ,  0.        ,  0.        ,  0.        ,  0.        ]]),\n",
       "  array([[-0.39048957,  0.15142926,  0.1438661 ,  0.1438661 ,  0.1438661 ]]),\n",
       "  array([[-0.1639956,  0.0635964,  0.1438661,  0.1438661,  0.1438661],\n",
       "         [-0.1639956,  0.0635964,  0.1438661,  0.1438661,  0.1438661],\n",
       "         [-0.       ,  0.       ,  0.       ,  0.       ,  0.       ],\n",
       "         [-0.       ,  0.       ,  0.       ,  0.       ,  0.       ],\n",
       "         [-0.       ,  0.       ,  0.       ,  0.       ,  0.       ]]),\n",
       "  array([[-0.1639956,  0.0635964,  0.1438661,  0.1438661,  0.1438661]])])"
      ]
     },
     "execution_count": 10,
     "metadata": {},
     "output_type": "execute_result"
    }
   ],
   "source": [
    "mlpn.loss_and_gradients(np.array([[1.,1.,0.,0.,0.]]),0,params)    "
   ]
  },
  {
   "cell_type": "code",
   "execution_count": 16,
   "metadata": {},
   "outputs": [
    {
     "data": {
      "text/plain": [
       "(1, 4)"
      ]
     },
     "execution_count": 16,
     "metadata": {},
     "output_type": "execute_result"
    }
   ],
   "source": [
    "mlpn.create_classifier([3,4,6])[1].shape"
   ]
  },
  {
   "cell_type": "code",
   "execution_count": 67,
   "metadata": {
    "scrolled": true
   },
   "outputs": [
    {
     "name": "stdout",
     "output_type": "stream",
     "text": [
      "b_tag\n",
      "f1: [[4.39888284]], f2: [[4.39878407]], numeric: [-0.98770833], analytic: -0.9877083296403419, location: (0, 0), \n",
      "f1: [[4.39883345]], f2: [[4.39883346]], numeric: [6.55951649e-05], analytic: 6.559515583729217e-05, location: (0, 1), \n",
      "f1: [[4.39878452]], f2: [[4.39888239]], numeric: [0.97871341], analytic: 0.9787134102581896, location: (0, 2), \n",
      "f1: [[4.39883345]], f2: [[4.39883346]], numeric: [0.0001453], analytic: 0.0001453041786371321, location: (0, 3), \n",
      "f1: [[4.39883329]], f2: [[4.39883362]], numeric: [0.00326432], analytic: 0.003264324120070579, location: (0, 4), \n",
      "f1: [[4.39883318]], f2: [[4.39883373]], numeric: [0.0055197], analytic: 0.00551969592760738, location: (0, 5), \n",
      "Gradient check complete \n",
      "U:\n",
      "f1: [[4.398882]], f2: [[4.3987849]], numeric: [-0.97104817], analytic: -0.971048173253034, location: (0, 0), \n",
      "f1: [[4.39883345]], f2: [[4.39883346]], numeric: [6.44887432e-05], analytic: 6.448873046686217e-05, location: (0, 1), \n",
      "f1: [[4.39878534]], f2: [[4.39888156]], numeric: [0.96220498], analytic: 0.9622049755473127, location: (0, 2), \n",
      "f1: [[4.39883345]], f2: [[4.39883346]], numeric: [0.00014285], analytic: 0.00014285326244337535, location: (0, 3), \n",
      "f1: [[4.39883329]], f2: [[4.39883361]], numeric: [0.00320926], analytic: 0.003209263178791446, location: (0, 4), \n",
      "f1: [[4.39883318]], f2: [[4.39883372]], numeric: [0.00542659], analytic: 0.00542659253401971, location: (0, 5), \n",
      "f1: [[4.3987854]], f2: [[4.39888151]], numeric: [0.96107195], analytic: 0.9610719451381775, location: (1, 0), \n",
      "f1: [[4.39883346]], f2: [[4.39883345]], numeric: [-6.38261977e-05], analytic: -6.382619455598178e-05, location: (1, 1), \n",
      "f1: [[4.39888107]], f2: [[4.39878584]], numeric: [-0.9523196], analytic: -0.9523195995240485, location: (1, 2), \n",
      "f1: [[4.39883346]], f2: [[4.39883345]], numeric: [-0.00014139], analytic: -0.0001413856352212239, location: (1, 3), \n",
      "f1: [[4.39883361]], f2: [[4.39883329]], numeric: [-0.00317629], analytic: -0.003176292269176347, location: (1, 4), \n",
      "f1: [[4.39883372]], f2: [[4.39883318]], numeric: [-0.00537084], analytic: -0.0053708415151754035, location: (1, 5), \n",
      "f1: [[4.39882498]], f2: [[4.39884192]], numeric: [0.1694403], analytic: 0.16944029974615224, location: (2, 0), \n",
      "f1: [[4.39883345]], f2: [[4.39883345]], numeric: [-1.12527765e-05], analytic: -1.125277830856555e-05, location: (2, 1), \n",
      "f1: [[4.39884185]], f2: [[4.39882506]], numeric: [-0.16789723], analytic: -0.16789723101769538, location: (2, 2), \n",
      "f1: [[4.39883345]], f2: [[4.39883345]], numeric: [-2.49267629e-05], analytic: -2.4926775287608667e-05, location: (2, 3), \n",
      "f1: [[4.39883348]], f2: [[4.39883342]], numeric: [-0.00055999], analytic: -0.0005599912856609794, location: (2, 4), \n",
      "f1: [[4.3988335]], f2: [[4.39883341]], numeric: [-0.0009469], analytic: -0.000946897889199709, location: (2, 5), \n",
      "f1: [[4.39887957]], f2: [[4.39878734]], numeric: [-0.92234412], analytic: -0.9223441171743296, location: (3, 0), \n",
      "f1: [[4.39883345]], f2: [[4.39883346]], numeric: [6.12542195e-05], analytic: 6.125422281665924e-05, location: (3, 1), \n",
      "f1: [[4.39878776]], f2: [[4.39887915]], numeric: [0.91394446], analytic: 0.9139444603853598, location: (3, 2), \n",
      "f1: [[4.39883345]], f2: [[4.39883346]], numeric: [0.00013569], analytic: 0.0001356882901003863, location: (3, 3), \n",
      "f1: [[4.3988333]], f2: [[4.3988336]], numeric: [0.0030483], analytic: 0.0030482988331117077, location: (3, 4), \n",
      "f1: [[4.39883319]], f2: [[4.39883371]], numeric: [0.00515442], analytic: 0.005154415442941134, location: (3, 5), \n",
      "Gradient check complete \n",
      "b:\n",
      "f1: [[4.3988302]], f2: [[4.39883671]], numeric: [0.06508991], analytic: 0.06508990787225633, location: (0, 0), \n",
      "f1: [[4.39883254]], f2: [[4.39883437]], numeric: [0.01829158], analytic: 0.018291583728383277, location: (0, 1), \n",
      "f1: [[4.39883825]], f2: [[4.39882865]], numeric: [-0.09602425], analytic: -0.09602425086835198, location: (0, 2), \n",
      "f1: [[4.39882254]], f2: [[4.39884436]], numeric: [0.21821778], analytic: 0.2182177812541565, location: (0, 3), \n",
      "Gradient check complete \n",
      "W:\n",
      "f1: [[4.3988302]], f2: [[4.39883671]], numeric: [0.06508991], analytic: 0.06508990787225633, location: (0, 0), \n",
      "f1: [[4.39883254]], f2: [[4.39883437]], numeric: [0.01829158], analytic: 0.018291583728383277, location: (0, 1), \n",
      "f1: [[4.39883825]], f2: [[4.39882865]], numeric: [-0.09602425], analytic: -0.09602425086835198, location: (0, 2), \n",
      "f1: [[4.39882254]], f2: [[4.39884436]], numeric: [0.21821778], analytic: 0.2182177812541565, location: (0, 3), \n",
      "f1: [[4.39882694]], f2: [[4.39883996]], numeric: [0.13017982], analytic: 0.13017981574451265, location: (1, 0), \n",
      "f1: [[4.39883162]], f2: [[4.39883528]], numeric: [0.03658317], analytic: 0.036583167456766555, location: (1, 1), \n",
      "f1: [[4.39884305]], f2: [[4.39882385]], numeric: [-0.1920485], analytic: -0.19204850173670396, location: (1, 2), \n",
      "f1: [[4.39881163]], f2: [[4.39885527]], numeric: [0.43643556], analytic: 0.436435562508313, location: (1, 3), \n",
      "f1: [[4.39882369]], f2: [[4.39884321]], numeric: [0.19526973], analytic: 0.19526972361676898, location: (2, 0), \n",
      "f1: [[4.39883071]], f2: [[4.3988362]], numeric: [0.05487475], analytic: 0.05487475118514983, location: (2, 1), \n",
      "f1: [[4.39884786]], f2: [[4.39881905]], numeric: [-0.28807275], analytic: -0.28807275260505594, location: (2, 2), \n",
      "f1: [[4.39880072]], f2: [[4.39886618]], numeric: [0.65465335], analytic: 0.6546533437624695, location: (2, 3), \n",
      "Gradient check complete \n"
     ]
    }
   ],
   "source": [
    "import mlpn\n",
    "importlib.reload(mlpn)\n",
    "import testing\n",
    "importlib.reload(testing)\n",
    "import grad_check\n",
    "importlib.reload(grad_check)\n",
    "\n",
    "testing.mlpn_grad_sanity()"
   ]
  },
  {
   "cell_type": "markdown",
   "metadata": {},
   "source": [
    "##### comparing the output of training with mlp1 and mlpn when configured to same topology"
   ]
  },
  {
   "cell_type": "code",
   "execution_count": 94,
   "metadata": {},
   "outputs": [
    {
     "name": "stdout",
     "output_type": "stream",
     "text": [
      "problem dimensions are: [600, 150, 6]\n",
      "yhat counter: Counter({2: 447, 5: 416, 3: 399, 0: 378, 1: 353, 4: 341})\n",
      "yhat counter: Counter({2: 60, 0: 56, 3: 53, 5: 52, 4: 42, 1: 37})\n",
      "I 0, train_loss [[4.05278217]], train_accuracy 0.85604, dev_accuracy 0.69000\n",
      "yhat counter: Counter({5: 416, 0: 404, 2: 394, 3: 391, 4: 369, 1: 360})\n",
      "yhat counter: Counter({5: 60, 3: 54, 4: 52, 2: 50, 0: 47, 1: 37})\n",
      "I 1, train_loss [[0.80940137]], train_accuracy 0.94002, dev_accuracy 0.72667\n",
      "yhat counter: Counter({2: 396, 0: 394, 3: 393, 5: 388, 1: 384, 4: 379})\n",
      "yhat counter: Counter({4: 59, 3: 53, 5: 51, 2: 50, 0: 46, 1: 41})\n",
      "I 2, train_loss [[0.24198536]], train_accuracy 0.98415, dev_accuracy 0.74000\n",
      "yhat counter: Counter({0: 394, 2: 393, 3: 390, 1: 389, 4: 385, 5: 383})\n",
      "yhat counter: Counter({4: 64, 3: 51, 5: 49, 2: 49, 1: 44, 0: 43})\n",
      "I 3, train_loss [[0.06337607]], train_accuracy 0.99614, dev_accuracy 0.74000\n",
      "yhat counter: Counter({0: 394, 2: 393, 3: 389, 5: 389, 1: 385, 4: 384})\n",
      "yhat counter: Counter({4: 61, 5: 52, 3: 52, 2: 49, 1: 43, 0: 43})\n",
      "I 4, train_loss [[0.01527686]], train_accuracy 0.99957, dev_accuracy 0.74000\n"
     ]
    }
   ],
   "source": [
    "import config\n",
    "importlib.reload(config)\n",
    "import train_loglin\n",
    "importlib.reload(train_loglin)\n",
    "import mlpn\n",
    "importlib.reload(mlpn)\n",
    "import train_mlpn\n",
    "importlib.reload(train_mlpn)\n",
    "import utils\n",
    "trained_params = train_mlpn.main(utils.text_to_bigrams)\n"
   ]
  },
  {
   "cell_type": "code",
   "execution_count": 71,
   "metadata": {},
   "outputs": [
    {
     "data": {
      "text/plain": [
       "'1.15.2'"
      ]
     },
     "execution_count": 71,
     "metadata": {},
     "output_type": "execute_result"
    }
   ],
   "source": [
    "np.__version__"
   ]
  },
  {
   "cell_type": "code",
   "execution_count": 110,
   "metadata": {},
   "outputs": [
    {
     "name": "stdout",
     "output_type": "stream",
     "text": [
      "problem dimensions are: [600, 150, 6]\n",
      "yhat counter: Counter({0: 427, 5: 398, 1: 390, 2: 383, 3: 382, 4: 354})\n",
      "yhat counter: Counter({0: 69, 5: 57, 2: 49, 4: 45, 3: 44, 1: 36})\n",
      "I 0, train_loss [[4.05361802]], train_accuracy 0.87489, dev_accuracy 0.66333\n",
      "yhat counter: Counter({0: 407, 5: 403, 1: 393, 4: 380, 2: 376, 3: 375})\n",
      "yhat counter: Counter({0: 63, 5: 59, 4: 51, 2: 50, 1: 41, 3: 36})\n",
      "I 1, train_loss [[0.74939788]], train_accuracy 0.94087, dev_accuracy 0.68000\n",
      "yhat counter: Counter({4: 393, 0: 393, 3: 391, 1: 390, 2: 387, 5: 380})\n",
      "yhat counter: Counter({0: 61, 4: 55, 2: 50, 5: 48, 1: 45, 3: 41})\n",
      "I 2, train_loss [[0.24762683]], train_accuracy 0.98329, dev_accuracy 0.70667\n",
      "yhat counter: Counter({0: 395, 2: 391, 5: 390, 3: 389, 1: 385, 4: 384})\n",
      "yhat counter: Counter({0: 62, 5: 54, 2: 54, 4: 47, 3: 45, 1: 38})\n",
      "I 3, train_loss [[0.06601309]], train_accuracy 0.99786, dev_accuracy 0.69667\n",
      "yhat counter: Counter({0: 395, 2: 392, 3: 389, 5: 388, 1: 385, 4: 385})\n",
      "yhat counter: Counter({0: 62, 4: 51, 2: 51, 1: 47, 5: 47, 3: 42})\n",
      "I 4, train_loss [[0.01587508]], train_accuracy 0.99957, dev_accuracy 0.71000\n"
     ]
    }
   ],
   "source": [
    "importlib.reload(config)\n",
    "importlib.reload(train_mlpn)\n",
    "trained_params = train_mlpn.main(utils.text_to_bigrams)\n"
   ]
  },
  {
   "cell_type": "code",
   "execution_count": 113,
   "metadata": {},
   "outputs": [
    {
     "name": "stdout",
     "output_type": "stream",
     "text": [
      "problem dimensions are: (600, 150, 6)\n",
      "yhat counter: Counter({0: 427, 5: 398, 1: 390, 2: 383, 3: 382, 4: 354})\n",
      "yhat counter: Counter({0: 69, 5: 57, 2: 49, 4: 45, 3: 44, 1: 36})\n",
      "I 0, train_loss [[4.05361802]], train_accuracy 0.87489, dev_accuracy 0.66333\n",
      "yhat counter: Counter({0: 407, 5: 403, 1: 393, 4: 380, 2: 376, 3: 375})\n",
      "yhat counter: Counter({0: 63, 5: 59, 4: 51, 2: 50, 1: 41, 3: 36})\n",
      "I 1, train_loss [[0.74939788]], train_accuracy 0.94087, dev_accuracy 0.68000\n",
      "yhat counter: Counter({4: 393, 0: 393, 3: 391, 1: 390, 2: 387, 5: 380})\n",
      "yhat counter: Counter({0: 61, 4: 55, 2: 50, 5: 48, 1: 45, 3: 41})\n",
      "I 2, train_loss [[0.24762683]], train_accuracy 0.98329, dev_accuracy 0.70667\n",
      "yhat counter: Counter({0: 395, 2: 391, 5: 390, 3: 389, 1: 385, 4: 384})\n",
      "yhat counter: Counter({0: 62, 5: 54, 2: 54, 4: 47, 3: 45, 1: 38})\n",
      "I 3, train_loss [[0.06601309]], train_accuracy 0.99786, dev_accuracy 0.69667\n",
      "yhat counter: Counter({0: 395, 2: 392, 3: 389, 5: 388, 1: 385, 4: 385})\n",
      "yhat counter: Counter({0: 62, 4: 51, 2: 51, 1: 47, 5: 47, 3: 42})\n",
      "I 4, train_loss [[0.01587508]], train_accuracy 0.99957, dev_accuracy 0.71000\n",
      "yhat counter: Counter({0: 395, 2: 392, 5: 389, 3: 389, 1: 385, 4: 384})\n",
      "yhat counter: Counter({0: 63, 2: 54, 5: 52, 4: 50, 3: 42, 1: 39})\n",
      "I 5, train_loss [[0.00625885]], train_accuracy 1.00000, dev_accuracy 0.70000\n",
      "yhat counter: Counter({0: 395, 2: 392, 3: 389, 5: 389, 1: 385, 4: 384})\n",
      "yhat counter: Counter({0: 63, 2: 54, 5: 52, 4: 50, 3: 42, 1: 39})\n",
      "I 6, train_loss [[0.00383696]], train_accuracy 1.00000, dev_accuracy 0.70000\n",
      "yhat counter: Counter({0: 395, 2: 392, 5: 389, 3: 389, 1: 385, 4: 384})\n",
      "yhat counter: Counter({0: 62, 2: 56, 5: 51, 4: 50, 3: 42, 1: 39})\n",
      "I 7, train_loss [[0.00319192]], train_accuracy 1.00000, dev_accuracy 0.70333\n",
      "yhat counter: Counter({0: 395, 2: 392, 5: 389, 3: 389, 1: 385, 4: 384})\n",
      "yhat counter: Counter({0: 62, 2: 55, 5: 52, 4: 50, 3: 42, 1: 39})\n",
      "I 8, train_loss [[0.00279386]], train_accuracy 1.00000, dev_accuracy 0.70333\n"
     ]
    },
    {
     "ename": "KeyboardInterrupt",
     "evalue": "",
     "output_type": "error",
     "traceback": [
      "\u001b[1;31m---------------------------------------------------------------------------\u001b[0m",
      "\u001b[1;31mKeyboardInterrupt\u001b[0m                         Traceback (most recent call last)",
      "\u001b[1;32m<ipython-input-113-c8593439adb1>\u001b[0m in \u001b[0;36m<module>\u001b[1;34m\u001b[0m\n\u001b[0;32m      2\u001b[0m \u001b[1;32mimport\u001b[0m \u001b[0mtrain_mlp1\u001b[0m\u001b[1;33m\u001b[0m\u001b[0m\n\u001b[0;32m      3\u001b[0m \u001b[0mimportlib\u001b[0m\u001b[1;33m.\u001b[0m\u001b[0mreload\u001b[0m\u001b[1;33m(\u001b[0m\u001b[0mtrain_mlp1\u001b[0m\u001b[1;33m)\u001b[0m\u001b[1;33m\u001b[0m\u001b[0m\n\u001b[1;32m----> 4\u001b[1;33m \u001b[0mtrained_params\u001b[0m \u001b[1;33m=\u001b[0m \u001b[0mtrain_mlp1\u001b[0m\u001b[1;33m.\u001b[0m\u001b[0mmain\u001b[0m\u001b[1;33m(\u001b[0m\u001b[0mutils\u001b[0m\u001b[1;33m.\u001b[0m\u001b[0mtext_to_bigrams\u001b[0m\u001b[1;33m)\u001b[0m\u001b[1;33m\u001b[0m\u001b[0m\n\u001b[0m",
      "\u001b[1;32mC:\\Shahar\\BarIlan\\NLP-courses\\89687-DL\\Assignment1\\code\\train_mlp1.py\u001b[0m in \u001b[0;36mmain\u001b[1;34m(text_to_ngram)\u001b[0m\n\u001b[0;32m     64\u001b[0m     \u001b[0mparams\u001b[0m \u001b[1;33m=\u001b[0m \u001b[0mlp\u001b[0m\u001b[1;33m.\u001b[0m\u001b[0mcreate_classifier\u001b[0m\u001b[1;33m(\u001b[0m\u001b[0min_dim\u001b[0m\u001b[1;33m,\u001b[0m \u001b[0mhidden_dim\u001b[0m\u001b[1;33m,\u001b[0m\u001b[0mout_dim\u001b[0m\u001b[1;33m)\u001b[0m\u001b[1;33m\u001b[0m\u001b[0m\n\u001b[0;32m     65\u001b[0m     \u001b[0mparams\u001b[0m \u001b[1;33m=\u001b[0m \u001b[1;33m[\u001b[0m\u001b[0mrandomize_array\u001b[0m\u001b[1;33m(\u001b[0m\u001b[0mp\u001b[0m\u001b[1;33m)\u001b[0m \u001b[1;32mfor\u001b[0m \u001b[0mp\u001b[0m \u001b[1;32min\u001b[0m \u001b[0mparams\u001b[0m\u001b[1;33m]\u001b[0m\u001b[1;33m\u001b[0m\u001b[0m\n\u001b[1;32m---> 66\u001b[1;33m     \u001b[0mtrained_params\u001b[0m \u001b[1;33m=\u001b[0m \u001b[0mtrain_classifier\u001b[0m\u001b[1;33m(\u001b[0m\u001b[0mxy_train\u001b[0m\u001b[1;33m,\u001b[0m \u001b[0mxy_dev\u001b[0m\u001b[1;33m,\u001b[0m \u001b[0mconfig\u001b[0m\u001b[1;33m.\u001b[0m\u001b[0mmlp1\u001b[0m\u001b[1;33m.\u001b[0m\u001b[0mnum_iterations\u001b[0m\u001b[1;33m,\u001b[0m \u001b[0mconfig\u001b[0m\u001b[1;33m.\u001b[0m\u001b[0mmlp1\u001b[0m\u001b[1;33m.\u001b[0m\u001b[0mlearning_rate\u001b[0m\u001b[1;33m,\u001b[0m \u001b[0mparams\u001b[0m\u001b[1;33m)\u001b[0m\u001b[1;33m\u001b[0m\u001b[0m\n\u001b[0m\u001b[0;32m     67\u001b[0m     \u001b[1;32mreturn\u001b[0m \u001b[0mtrained_params\u001b[0m\u001b[1;33m\u001b[0m\u001b[0m\n\u001b[0;32m     68\u001b[0m \u001b[1;33m\u001b[0m\u001b[0m\n",
      "\u001b[1;32mC:\\Shahar\\BarIlan\\NLP-courses\\89687-DL\\Assignment1\\code\\train_mlp1.py\u001b[0m in \u001b[0;36mtrain_classifier\u001b[1;34m(train_data, dev_data, num_iterations, learning_rate, params)\u001b[0m\n\u001b[0;32m     41\u001b[0m \u001b[1;33m\u001b[0m\u001b[0m\n\u001b[0;32m     42\u001b[0m         \u001b[0mtrain_loss\u001b[0m \u001b[1;33m=\u001b[0m \u001b[0mcum_loss\u001b[0m \u001b[1;33m/\u001b[0m \u001b[0mlen\u001b[0m\u001b[1;33m(\u001b[0m\u001b[0mtrain_data\u001b[0m\u001b[1;33m)\u001b[0m\u001b[1;33m\u001b[0m\u001b[0m\n\u001b[1;32m---> 43\u001b[1;33m         \u001b[0mtrain_accuracy\u001b[0m \u001b[1;33m=\u001b[0m \u001b[0maccuracy_on_dataset\u001b[0m\u001b[1;33m(\u001b[0m\u001b[0mtrain_data\u001b[0m\u001b[1;33m,\u001b[0m \u001b[0mparams\u001b[0m\u001b[1;33m)\u001b[0m\u001b[1;33m\u001b[0m\u001b[0m\n\u001b[0m\u001b[0;32m     44\u001b[0m         \u001b[0mdev_accuracy\u001b[0m \u001b[1;33m=\u001b[0m \u001b[0maccuracy_on_dataset\u001b[0m\u001b[1;33m(\u001b[0m\u001b[0mdev_data\u001b[0m\u001b[1;33m,\u001b[0m \u001b[0mparams\u001b[0m\u001b[1;33m)\u001b[0m\u001b[1;33m\u001b[0m\u001b[0m\n\u001b[0;32m     45\u001b[0m         print(\"I {0:}, train_loss {1:}, train_accuracy {2:0.5f}, dev_accuracy {3:0.5f}\"\\\n",
      "\u001b[1;32mC:\\Shahar\\BarIlan\\NLP-courses\\89687-DL\\Assignment1\\code\\train_mlp1.py\u001b[0m in \u001b[0;36maccuracy_on_dataset\u001b[1;34m(dataset, params)\u001b[0m\n\u001b[0;32m     15\u001b[0m \u001b[1;33m\u001b[0m\u001b[0m\n\u001b[0;32m     16\u001b[0m \u001b[1;32mdef\u001b[0m \u001b[0maccuracy_on_dataset\u001b[0m\u001b[1;33m(\u001b[0m\u001b[0mdataset\u001b[0m\u001b[1;33m,\u001b[0m \u001b[0mparams\u001b[0m\u001b[1;33m)\u001b[0m\u001b[1;33m:\u001b[0m\u001b[1;33m\u001b[0m\u001b[0m\n\u001b[1;32m---> 17\u001b[1;33m     \u001b[0my_y_hat\u001b[0m \u001b[1;33m=\u001b[0m \u001b[1;33m[\u001b[0m\u001b[1;33m(\u001b[0m\u001b[0my\u001b[0m\u001b[1;33m,\u001b[0m \u001b[0mlp\u001b[0m\u001b[1;33m.\u001b[0m\u001b[0mpredict\u001b[0m\u001b[1;33m(\u001b[0m\u001b[0mx\u001b[0m\u001b[1;33m,\u001b[0m \u001b[0mparams\u001b[0m\u001b[1;33m)\u001b[0m\u001b[1;33m)\u001b[0m \u001b[1;32mfor\u001b[0m \u001b[0mx\u001b[0m\u001b[1;33m,\u001b[0m\u001b[0my\u001b[0m \u001b[1;32min\u001b[0m \u001b[0mdataset\u001b[0m\u001b[1;33m]\u001b[0m\u001b[1;33m\u001b[0m\u001b[0m\n\u001b[0m\u001b[0;32m     18\u001b[0m     \u001b[0mprint\u001b[0m\u001b[1;33m(\u001b[0m\u001b[1;34m\"yhat counter: {}\"\u001b[0m\u001b[1;33m.\u001b[0m\u001b[0mformat\u001b[0m\u001b[1;33m(\u001b[0m\u001b[0mCounter\u001b[0m\u001b[1;33m(\u001b[0m\u001b[1;33m[\u001b[0m\u001b[0mx\u001b[0m\u001b[1;33m[\u001b[0m\u001b[1;36m1\u001b[0m\u001b[1;33m]\u001b[0m \u001b[1;32mfor\u001b[0m \u001b[0mx\u001b[0m \u001b[1;32min\u001b[0m \u001b[0my_y_hat\u001b[0m\u001b[1;33m]\u001b[0m\u001b[1;33m)\u001b[0m\u001b[1;33m)\u001b[0m\u001b[1;33m)\u001b[0m\u001b[1;33m\u001b[0m\u001b[0m\n\u001b[0;32m     19\u001b[0m     \u001b[0mis_good\u001b[0m \u001b[1;33m=\u001b[0m \u001b[1;33m[\u001b[0m\u001b[0ma\u001b[0m\u001b[1;33m==\u001b[0m\u001b[0mb\u001b[0m \u001b[1;32mfor\u001b[0m \u001b[0ma\u001b[0m\u001b[1;33m,\u001b[0m \u001b[0mb\u001b[0m \u001b[1;32min\u001b[0m \u001b[0my_y_hat\u001b[0m\u001b[1;33m]\u001b[0m\u001b[1;33m\u001b[0m\u001b[0m\n",
      "\u001b[1;32mC:\\Shahar\\BarIlan\\NLP-courses\\89687-DL\\Assignment1\\code\\train_mlp1.py\u001b[0m in \u001b[0;36m<listcomp>\u001b[1;34m(.0)\u001b[0m\n\u001b[0;32m     15\u001b[0m \u001b[1;33m\u001b[0m\u001b[0m\n\u001b[0;32m     16\u001b[0m \u001b[1;32mdef\u001b[0m \u001b[0maccuracy_on_dataset\u001b[0m\u001b[1;33m(\u001b[0m\u001b[0mdataset\u001b[0m\u001b[1;33m,\u001b[0m \u001b[0mparams\u001b[0m\u001b[1;33m)\u001b[0m\u001b[1;33m:\u001b[0m\u001b[1;33m\u001b[0m\u001b[0m\n\u001b[1;32m---> 17\u001b[1;33m     \u001b[0my_y_hat\u001b[0m \u001b[1;33m=\u001b[0m \u001b[1;33m[\u001b[0m\u001b[1;33m(\u001b[0m\u001b[0my\u001b[0m\u001b[1;33m,\u001b[0m \u001b[0mlp\u001b[0m\u001b[1;33m.\u001b[0m\u001b[0mpredict\u001b[0m\u001b[1;33m(\u001b[0m\u001b[0mx\u001b[0m\u001b[1;33m,\u001b[0m \u001b[0mparams\u001b[0m\u001b[1;33m)\u001b[0m\u001b[1;33m)\u001b[0m \u001b[1;32mfor\u001b[0m \u001b[0mx\u001b[0m\u001b[1;33m,\u001b[0m\u001b[0my\u001b[0m \u001b[1;32min\u001b[0m \u001b[0mdataset\u001b[0m\u001b[1;33m]\u001b[0m\u001b[1;33m\u001b[0m\u001b[0m\n\u001b[0m\u001b[0;32m     18\u001b[0m     \u001b[0mprint\u001b[0m\u001b[1;33m(\u001b[0m\u001b[1;34m\"yhat counter: {}\"\u001b[0m\u001b[1;33m.\u001b[0m\u001b[0mformat\u001b[0m\u001b[1;33m(\u001b[0m\u001b[0mCounter\u001b[0m\u001b[1;33m(\u001b[0m\u001b[1;33m[\u001b[0m\u001b[0mx\u001b[0m\u001b[1;33m[\u001b[0m\u001b[1;36m1\u001b[0m\u001b[1;33m]\u001b[0m \u001b[1;32mfor\u001b[0m \u001b[0mx\u001b[0m \u001b[1;32min\u001b[0m \u001b[0my_y_hat\u001b[0m\u001b[1;33m]\u001b[0m\u001b[1;33m)\u001b[0m\u001b[1;33m)\u001b[0m\u001b[1;33m)\u001b[0m\u001b[1;33m\u001b[0m\u001b[0m\n\u001b[0;32m     19\u001b[0m     \u001b[0mis_good\u001b[0m \u001b[1;33m=\u001b[0m \u001b[1;33m[\u001b[0m\u001b[0ma\u001b[0m\u001b[1;33m==\u001b[0m\u001b[0mb\u001b[0m \u001b[1;32mfor\u001b[0m \u001b[0ma\u001b[0m\u001b[1;33m,\u001b[0m \u001b[0mb\u001b[0m \u001b[1;32min\u001b[0m \u001b[0my_y_hat\u001b[0m\u001b[1;33m]\u001b[0m\u001b[1;33m\u001b[0m\u001b[0m\n",
      "\u001b[1;32mC:\\Shahar\\BarIlan\\NLP-courses\\89687-DL\\Assignment1\\code\\mlp1.py\u001b[0m in \u001b[0;36mpredict\u001b[1;34m(x, params)\u001b[0m\n\u001b[0;32m     25\u001b[0m     \u001b[0mparams\u001b[0m\u001b[1;33m:\u001b[0m \u001b[0ma\u001b[0m \u001b[0mlist\u001b[0m \u001b[0mof\u001b[0m \u001b[0mthe\u001b[0m \u001b[0mform\u001b[0m \u001b[1;33m[\u001b[0m\u001b[0mW\u001b[0m\u001b[1;33m,\u001b[0m \u001b[0mb\u001b[0m\u001b[1;33m,\u001b[0m \u001b[0mU\u001b[0m\u001b[1;33m,\u001b[0m \u001b[0mb_tag\u001b[0m\u001b[1;33m]\u001b[0m\u001b[1;33m\u001b[0m\u001b[0m\n\u001b[0;32m     26\u001b[0m     \"\"\"\n\u001b[1;32m---> 27\u001b[1;33m     \u001b[1;32mreturn\u001b[0m \u001b[0mnp\u001b[0m\u001b[1;33m.\u001b[0m\u001b[0margmax\u001b[0m\u001b[1;33m(\u001b[0m\u001b[0mclassifier_output\u001b[0m\u001b[1;33m(\u001b[0m\u001b[0mx\u001b[0m\u001b[1;33m,\u001b[0m \u001b[0mparams\u001b[0m\u001b[1;33m)\u001b[0m\u001b[1;33m)\u001b[0m\u001b[1;33m\u001b[0m\u001b[0m\n\u001b[0m\u001b[0;32m     28\u001b[0m \u001b[1;33m\u001b[0m\u001b[0m\n\u001b[0;32m     29\u001b[0m \u001b[1;32mdef\u001b[0m \u001b[0mloss_and_gradients\u001b[0m\u001b[1;33m(\u001b[0m\u001b[0mx\u001b[0m\u001b[1;33m,\u001b[0m \u001b[0my\u001b[0m\u001b[1;33m,\u001b[0m \u001b[0mparams\u001b[0m\u001b[1;33m)\u001b[0m\u001b[1;33m:\u001b[0m\u001b[1;33m\u001b[0m\u001b[0m\n",
      "\u001b[1;32mC:\\Shahar\\BarIlan\\NLP-courses\\89687-DL\\Assignment1\\code\\mlp1.py\u001b[0m in \u001b[0;36mclassifier_output\u001b[1;34m(x, params)\u001b[0m\n\u001b[0;32m     17\u001b[0m     \u001b[1;31m# then solve x1 with loglinear.predict\u001b[0m\u001b[1;33m\u001b[0m\u001b[1;33m\u001b[0m\u001b[0m\n\u001b[0;32m     18\u001b[0m     \u001b[0mW\u001b[0m\u001b[1;33m,\u001b[0m \u001b[0mb\u001b[0m\u001b[1;33m,\u001b[0m \u001b[0mU\u001b[0m\u001b[1;33m,\u001b[0m \u001b[0mb_prime\u001b[0m \u001b[1;33m=\u001b[0m \u001b[0mparams\u001b[0m\u001b[1;33m\u001b[0m\u001b[0m\n\u001b[1;32m---> 19\u001b[1;33m     \u001b[0mx1\u001b[0m \u001b[1;33m=\u001b[0m \u001b[0mlayer_output\u001b[0m\u001b[1;33m(\u001b[0m\u001b[0mx\u001b[0m\u001b[1;33m,\u001b[0m \u001b[1;33m(\u001b[0m\u001b[0mW\u001b[0m\u001b[1;33m,\u001b[0m\u001b[0mb\u001b[0m\u001b[1;33m)\u001b[0m\u001b[1;33m)\u001b[0m\u001b[1;33m\u001b[0m\u001b[0m\n\u001b[0m\u001b[0;32m     20\u001b[0m     \u001b[0mprobs\u001b[0m \u001b[1;33m=\u001b[0m \u001b[0mll\u001b[0m\u001b[1;33m.\u001b[0m\u001b[0mclassifier_output\u001b[0m\u001b[1;33m(\u001b[0m\u001b[0mx1\u001b[0m\u001b[1;33m,\u001b[0m\u001b[1;33m(\u001b[0m\u001b[0mU\u001b[0m\u001b[1;33m,\u001b[0m\u001b[0mb_prime\u001b[0m\u001b[1;33m)\u001b[0m\u001b[1;33m)\u001b[0m\u001b[1;33m\u001b[0m\u001b[0m\n\u001b[0;32m     21\u001b[0m     \u001b[1;32mreturn\u001b[0m \u001b[0mprobs\u001b[0m\u001b[1;33m\u001b[0m\u001b[0m\n",
      "\u001b[1;32mC:\\Shahar\\BarIlan\\NLP-courses\\89687-DL\\Assignment1\\code\\mlp1.py\u001b[0m in \u001b[0;36mlayer_output\u001b[1;34m(x, params)\u001b[0m\n\u001b[0;32m      9\u001b[0m     \u001b[1;31m# a = tanh(z) = tanh(xW+b)\u001b[0m\u001b[1;33m\u001b[0m\u001b[1;33m\u001b[0m\u001b[0m\n\u001b[0;32m     10\u001b[0m     \u001b[0mW\u001b[0m\u001b[1;33m,\u001b[0m \u001b[0mb\u001b[0m \u001b[1;33m=\u001b[0m \u001b[0mparams\u001b[0m\u001b[1;33m\u001b[0m\u001b[0m\n\u001b[1;32m---> 11\u001b[1;33m     \u001b[0ma\u001b[0m \u001b[1;33m=\u001b[0m \u001b[0mnp\u001b[0m\u001b[1;33m.\u001b[0m\u001b[0mtanh\u001b[0m\u001b[1;33m(\u001b[0m\u001b[0mnp\u001b[0m\u001b[1;33m.\u001b[0m\u001b[0mdot\u001b[0m\u001b[1;33m(\u001b[0m\u001b[0mx\u001b[0m\u001b[1;33m,\u001b[0m\u001b[0mW\u001b[0m\u001b[1;33m)\u001b[0m\u001b[1;33m+\u001b[0m\u001b[0mb\u001b[0m\u001b[1;33m)\u001b[0m\u001b[1;33m\u001b[0m\u001b[0m\n\u001b[0m\u001b[0;32m     12\u001b[0m     \u001b[1;32mreturn\u001b[0m \u001b[0ma\u001b[0m\u001b[1;33m\u001b[0m\u001b[0m\n\u001b[0;32m     13\u001b[0m \u001b[1;33m\u001b[0m\u001b[0m\n",
      "\u001b[1;31mKeyboardInterrupt\u001b[0m: "
     ]
    }
   ],
   "source": [
    "importlib.reload(config)\n",
    "import train_mlp1\n",
    "importlib.reload(train_mlp1)\n",
    "trained_params = train_mlp1.main(utils.text_to_bigrams)\n"
   ]
  },
  {
   "cell_type": "code",
   "execution_count": 95,
   "metadata": {},
   "outputs": [
    {
     "name": "stdout",
     "output_type": "stream",
     "text": [
      "[2 0 3 1 4]\n",
      "[2 1 0 4 3]\n",
      "[4 0 2 1 3]\n",
      "[2 0 3 1 4]\n",
      "[2 1 0 4 3]\n",
      "[4 0 2 1 3]\n",
      "[2 0 3 1 4]\n",
      "[2 1 0 4 3]\n",
      "[4 0 2 1 3]\n",
      "[2 0 3 1 4]\n",
      "[2 1 0 4 3]\n",
      "[4 0 2 1 3]\n",
      "[2 0 3 1 4]\n",
      "[2 1 0 4 3]\n",
      "[4 0 2 1 3]\n"
     ]
    }
   ],
   "source": [
    "for i in range(5):\n",
    "    np.random.seed(335)\n",
    "    x = np.array(range(5))\n",
    "    for j in range(3):\n",
    "        np.random.shuffle(x)\n",
    "        print(x)"
   ]
  },
  {
   "cell_type": "code",
   "execution_count": 106,
   "metadata": {},
   "outputs": [
    {
     "name": "stdout",
     "output_type": "stream",
     "text": [
      "[('k', 7), ('a', 5), ('b', 4)]\n"
     ]
    }
   ],
   "source": [
    "x= [('a',5),('b',4),('k',7)]\n",
    "np.random.shuffle(x)\n",
    "print(x)"
   ]
  },
  {
   "cell_type": "code",
   "execution_count": null,
   "metadata": {},
   "outputs": [],
   "source": []
  },
  {
   "cell_type": "code",
   "execution_count": null,
   "metadata": {},
   "outputs": [],
   "source": []
  }
 ],
 "metadata": {
  "kernelspec": {
   "display_name": "bari_env",
   "language": "python",
   "name": "bari_env"
  },
  "language_info": {
   "codemirror_mode": {
    "name": "ipython",
    "version": 3
   },
   "file_extension": ".py",
   "mimetype": "text/x-python",
   "name": "python",
   "nbconvert_exporter": "python",
   "pygments_lexer": "ipython3",
   "version": "3.6.6"
  }
 },
 "nbformat": 4,
 "nbformat_minor": 2
}
