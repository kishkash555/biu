{
 "cells": [
  {
   "cell_type": "code",
   "execution_count": 6,
   "metadata": {},
   "outputs": [],
   "source": [
    "\n",
    "from importlib import reload\n",
    "import numpy as np\n",
    "from collections import Counter"
   ]
  },
  {
   "cell_type": "code",
   "execution_count": 9,
   "metadata": {},
   "outputs": [
    {
     "data": {
      "text/plain": [
       "<module 'training' from 'C:\\\\Shahar\\\\BarIlan\\\\NLP-courses\\\\89680-NLP\\\\assignment1\\\\code\\\\training.py'>"
      ]
     },
     "execution_count": 9,
     "metadata": {},
     "output_type": "execute_result"
    }
   ],
   "source": [
    "import training\n",
    "reload(training)"
   ]
  },
  {
   "cell_type": "code",
   "execution_count": 10,
   "metadata": {},
   "outputs": [
    {
     "name": "stdout",
     "output_type": "stream",
     "text": [
      "string length: 8237657 words:950028 \n"
     ]
    }
   ],
   "source": [
    "train_data = training.read_input('..\\\\data\\\\ass1-tagger-train')"
   ]
  },
  {
   "cell_type": "code",
   "execution_count": 11,
   "metadata": {},
   "outputs": [
    {
     "data": {
      "text/plain": [
       "array([[16252, 35541,  1307, ...,     0,     7,     0],\n",
       "       [11424,  2232, 15763, ...,     2,     2,     1],\n",
       "       [ 5344,  3889, 34528, ...,     0,     3,     0],\n",
       "       ...,\n",
       "       [    2,     7,     0, ...,     3,     0,     0],\n",
       "       [    4,     2,     3, ...,     0,     0,     0],\n",
       "       [    0,     0,     0, ...,     0,     0,     0]])"
      ]
     },
     "execution_count": 11,
     "metadata": {},
     "output_type": "execute_result"
    }
   ],
   "source": [
    "train_data.pos_counter1"
   ]
  },
  {
   "cell_type": "code",
   "execution_count": 12,
   "metadata": {},
   "outputs": [
    {
     "data": {
      "text/plain": [
       "16252"
      ]
     },
     "execution_count": 12,
     "metadata": {},
     "output_type": "execute_result"
    }
   ],
   "source": [
    "train_data.pos_counter1[0,0]\n"
   ]
  },
  {
   "cell_type": "code",
   "execution_count": 15,
   "metadata": {},
   "outputs": [],
   "source": [
    "with open('..\\\\data\\\\ass1-tagger-train','rt',encoding='utf8') as a:\n",
    "        file_as_string = a.read()\n",
    "\n",
    "    # single counters\n",
    "word_pos_pairs = [w.rsplit(\"/\",1) for w in file_as_string.split()] #rsplit(\"/\",1): split on the first slash from the right\n",
    "   "
   ]
  },
  {
   "cell_type": "code",
   "execution_count": 20,
   "metadata": {},
   "outputs": [
    {
     "name": "stdout",
     "output_type": "stream",
     "text": [
      "1307\n"
     ]
    }
   ],
   "source": [
    "c = 0\n",
    "prev = False\n",
    "for p in word_pos_pairs:\n",
    "    if p[1]=='NNP':\n",
    "        if prev:\n",
    "            c +=1\n",
    "    if p[1]=='NN':\n",
    "        prev=True\n",
    "    else:\n",
    "        prev=False\n",
    "print(c)"
   ]
  },
  {
   "cell_type": "code",
   "execution_count": 16,
   "metadata": {},
   "outputs": [
    {
     "data": {
      "text/plain": [
       "{'NN': 0,\n",
       " 'IN': 1,\n",
       " 'NNP': 2,\n",
       " 'DT': 3,\n",
       " 'JJ': 4,\n",
       " 'NNS': 5,\n",
       " ',': 6,\n",
       " '.': 7,\n",
       " 'CD': 8,\n",
       " 'RB': 9,\n",
       " 'VBD': 10,\n",
       " 'VB': 11,\n",
       " 'CC': 12,\n",
       " 'VBZ': 13,\n",
       " 'VBN': 14,\n",
       " 'PRP': 15,\n",
       " 'VBG': 16,\n",
       " 'TO': 17,\n",
       " 'VBP': 18,\n",
       " 'MD': 19,\n",
       " 'POS': 20,\n",
       " 'PRP$': 21,\n",
       " '$': 22,\n",
       " '``': 23,\n",
       " \"''\": 24,\n",
       " ':': 25,\n",
       " 'WDT': 26,\n",
       " 'JJR': 27,\n",
       " 'NNPS': 28,\n",
       " 'RP': 29,\n",
       " 'WP': 30,\n",
       " 'WRB': 31,\n",
       " 'JJS': 32,\n",
       " 'RBR': 33,\n",
       " ')': 34,\n",
       " '(': 35,\n",
       " 'EX': 36,\n",
       " 'RBS': 37,\n",
       " 'PDT': 38,\n",
       " 'FW': 39,\n",
       " 'WP$': 40,\n",
       " '#': 41,\n",
       " 'UH': 42,\n",
       " 'SYM': 43,\n",
       " 'LS': 44}"
      ]
     },
     "execution_count": 16,
     "metadata": {},
     "output_type": "execute_result"
    }
   ],
   "source": [
    "train_data.pos_items"
   ]
  },
  {
   "cell_type": "code",
   "execution_count": null,
   "metadata": {},
   "outputs": [],
   "source": []
  }
 ],
 "metadata": {
  "kernelspec": {
   "display_name": "bari_env",
   "language": "python",
   "name": "bari_env"
  },
  "language_info": {
   "codemirror_mode": {
    "name": "ipython",
    "version": 3
   },
   "file_extension": ".py",
   "mimetype": "text/x-python",
   "name": "python",
   "nbconvert_exporter": "python",
   "pygments_lexer": "ipython3",
   "version": "3.6.6"
  }
 },
 "nbformat": 4,
 "nbformat_minor": 2
}
