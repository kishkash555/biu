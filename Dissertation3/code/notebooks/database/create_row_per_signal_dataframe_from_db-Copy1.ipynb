{
 "cells": [
  {
   "cell_type": "code",
   "execution_count": 1,
   "id": "several-canada",
   "metadata": {},
   "outputs": [],
   "source": [
    "import sys\n",
    "import os.path as path\n",
    "import matplotlib.pyplot as plt\n",
    "from scipy.signal import remez\n",
    "import numpy as np\n",
    "from scipy.stats import zscore\n",
    "\n",
    "import pandas as pd"
   ]
  },
  {
   "cell_type": "code",
   "execution_count": 2,
   "id": "hungarian-remove",
   "metadata": {},
   "outputs": [],
   "source": [
    "%config Completer.use_jedi=False"
   ]
  },
  {
   "cell_type": "code",
   "execution_count": 3,
   "id": "sixth-bibliography",
   "metadata": {},
   "outputs": [],
   "source": [
    "sys.path.append(path.abspath('../..')) \n",
    "import diss3_code.database.get_db_data as gdd\n",
    "import diss3_code.signal.smooth_component_analysis as sca"
   ]
  },
  {
   "cell_type": "code",
   "execution_count": 4,
   "id": "palestinian-louisville",
   "metadata": {},
   "outputs": [
    {
     "data": {
      "text/plain": [
       "[(1001, 101),\n",
       " (1001, 102),\n",
       " (1001, 103),\n",
       " (1003, 108),\n",
       " (1003, 109),\n",
       " (1004, 110),\n",
       " (1004, 111),\n",
       " (1004, 112),\n",
       " (1005, 113),\n",
       " (1005, 114),\n",
       " (1005, 115),\n",
       " (1006, 116),\n",
       " (1006, 117),\n",
       " (1006, 118),\n",
       " (1007, 119),\n",
       " (1007, 120),\n",
       " (1007, 121),\n",
       " (1008, 122),\n",
       " (1008, 123),\n",
       " (1008, 124),\n",
       " (1009, 125),\n",
       " (1009, 126),\n",
       " (1009, 127),\n",
       " (1010, 128),\n",
       " (1010, 129),\n",
       " (1010, 130),\n",
       " (1011, 131),\n",
       " (1011, 132),\n",
       " (1011, 133),\n",
       " (1012, 134),\n",
       " (1012, 135),\n",
       " (1012, 136),\n",
       " (1013, 137),\n",
       " (1013, 138),\n",
       " (1013, 139),\n",
       " (1014, 140),\n",
       " (1014, 141),\n",
       " (1014, 142),\n",
       " (1015, 144),\n",
       " (1015, 145),\n",
       " (1016, 146),\n",
       " (1016, 147),\n",
       " (1016, 148),\n",
       " (1017, 149),\n",
       " (1017, 151),\n",
       " (1019, 155),\n",
       " (1019, 156),\n",
       " (1019, 157),\n",
       " (1020, 158),\n",
       " (1020, 159),\n",
       " (1020, 160),\n",
       " (1022, 164),\n",
       " (1022, 165),\n",
       " (1022, 166),\n",
       " (1023, 167),\n",
       " (1023, 168),\n",
       " (1023, 169),\n",
       " (1024, 170),\n",
       " (1024, 171),\n",
       " (1024, 172),\n",
       " (1025, 173),\n",
       " (1025, 174),\n",
       " (1025, 175),\n",
       " (1026, 176),\n",
       " (1026, 177),\n",
       " (1026, 178),\n",
       " (1027, 179),\n",
       " (1027, 180),\n",
       " (1027, 181),\n",
       " (1028, 182),\n",
       " (1028, 183),\n",
       " (1028, 184),\n",
       " (1029, 185),\n",
       " (1029, 186),\n",
       " (1029, 187),\n",
       " (1030, 188),\n",
       " (1030, 189),\n",
       " (1030, 190),\n",
       " (1031, 191),\n",
       " (1031, 192),\n",
       " (1031, 193),\n",
       " (1032, 194),\n",
       " (1032, 195),\n",
       " (1032, 196),\n",
       " (1033, 200),\n",
       " (1033, 201),\n",
       " (1033, 202),\n",
       " (1034, 203),\n",
       " (1034, 204),\n",
       " (1034, 205),\n",
       " (1035, 206),\n",
       " (1035, 207),\n",
       " (1035, 208),\n",
       " (1036, 209),\n",
       " (1036, 210),\n",
       " (1036, 211),\n",
       " (1037, 212),\n",
       " (1037, 213),\n",
       " (1037, 214),\n",
       " (1038, 215),\n",
       " (1038, 216),\n",
       " (1038, 217),\n",
       " (1039, 218),\n",
       " (1039, 219),\n",
       " (1039, 220),\n",
       " (1040, 221),\n",
       " (1040, 222),\n",
       " (1040, 223),\n",
       " (1041, 224),\n",
       " (1041, 225),\n",
       " (1041, 226),\n",
       " (1042, 227),\n",
       " (1042, 228),\n",
       " (1042, 229),\n",
       " (1043, 230),\n",
       " (1043, 231),\n",
       " (1043, 232),\n",
       " (1044, 233),\n",
       " (1044, 234),\n",
       " (1044, 235),\n",
       " (1045, 236),\n",
       " (1045, 237),\n",
       " (1045, 238),\n",
       " (1046, 239),\n",
       " (1046, 240),\n",
       " (1046, 241),\n",
       " (1047, 242),\n",
       " (1047, 243),\n",
       " (1047, 244),\n",
       " (1048, 245),\n",
       " (1048, 246),\n",
       " (1048, 247),\n",
       " (1049, 248),\n",
       " (1049, 249),\n",
       " (1049, 250),\n",
       " (1050, 251),\n",
       " (1050, 252),\n",
       " (1050, 253),\n",
       " (1051, 254),\n",
       " (1051, 255),\n",
       " (1051, 256)]"
      ]
     },
     "execution_count": 4,
     "metadata": {},
     "output_type": "execute_result"
    }
   ],
   "source": [
    "\n",
    "data = gdd.get_db_data()\n",
    "data.get_participants()"
   ]
  },
  {
   "cell_type": "code",
   "execution_count": 5,
   "id": "expected-count",
   "metadata": {},
   "outputs": [],
   "source": [
    "file_data  = pd.read_json('test_json.zip', compression='infer')"
   ]
  },
  {
   "cell_type": "code",
   "execution_count": 6,
   "id": "contrary-salad",
   "metadata": {},
   "outputs": [
    {
     "data": {
      "text/plain": [
       "Index(['group', 'participant', 'session', 'path', 'data'], dtype='object')"
      ]
     },
     "execution_count": 6,
     "metadata": {},
     "output_type": "execute_result"
    }
   ],
   "source": [
    "file_data.columns"
   ]
  },
  {
   "cell_type": "markdown",
   "id": "aboriginal-workstation",
   "metadata": {},
   "source": [
    "### verify that all 141 valid participants are available in both forms\n",
    "we still need to verify regarding specific series if we want more than just the FS series"
   ]
  },
  {
   "cell_type": "code",
   "execution_count": 27,
   "id": "external-cleaning",
   "metadata": {},
   "outputs": [
    {
     "data": {
      "text/plain": [
       "(set(), set())"
      ]
     },
     "execution_count": 27,
     "metadata": {},
     "output_type": "execute_result"
    }
   ],
   "source": [
    "db_participants = set(tuple(t) for t in data.get_participants())\n",
    "nir_excel_participants = set(tuple(t) for t in file_data[['group','participant']].itertuples(index=False))\n",
    "                            \n",
    "db_participants - nir_excel_participants, nir_excel_participants - db_participants    "
   ]
  },
  {
   "cell_type": "code",
   "execution_count": 28,
   "id": "employed-toilet",
   "metadata": {},
   "outputs": [
    {
     "data": {
      "text/plain": [
       "(141, 141, 141)"
      ]
     },
     "execution_count": 28,
     "metadata": {},
     "output_type": "execute_result"
    }
   ],
   "source": [
    "len(db_participants), len(nir_excel_participants), len(db_participants & nir_excel_participants)"
   ]
  },
  {
   "cell_type": "code",
   "execution_count": 43,
   "id": "damaged-cloud",
   "metadata": {},
   "outputs": [],
   "source": [
    "groups=set(t[0] for t in db_participants)\n",
    "pars=[t[1] for t in sorted(db_participants)]\n"
   ]
  },
  {
   "cell_type": "code",
   "execution_count": 70,
   "id": "administrative-latex",
   "metadata": {},
   "outputs": [
    {
     "data": {
      "text/plain": [
       "[101, 102, 103]"
      ]
     },
     "execution_count": 70,
     "metadata": {},
     "output_type": "execute_result"
    }
   ],
   "source": [
    "pars[:3]"
   ]
  },
  {
   "cell_type": "code",
   "execution_count": 67,
   "id": "dedicated-quantity",
   "metadata": {},
   "outputs": [
    {
     "data": {
      "text/plain": [
       "(True,\n",
       " '/home/siegman/Documents/Shahar/BarIlan/Dissertation3/data/time_series_linear_interpolations')"
      ]
     },
     "execution_count": 67,
     "metadata": {},
     "output_type": "execute_result"
    }
   ],
   "source": [
    "data_dir = path.abspath('../../../data/time_series_linear_interpolations/')\n",
    "path.exists(data_dir), data_dir"
   ]
  },
  {
   "cell_type": "code",
   "execution_count": 45,
   "id": "broad-grass",
   "metadata": {},
   "outputs": [],
   "source": [
    "freestyle_raw = data.get_signal_by_series_type_and_interp_type(pars, 4,3)\n",
    "next(freestyle_raw)"
   ]
  },
  {
   "cell_type": "code",
   "execution_count": 46,
   "id": "demanding-recorder",
   "metadata": {},
   "outputs": [
    {
     "data": {
      "text/plain": [
       "(101,\n",
       " array([[  4.     ,   0.97448],\n",
       "        [  4.5    ,   0.98139],\n",
       "        [  5.     ,   0.99647],\n",
       "        ...,\n",
       "        [255.     ,   0.91344],\n",
       "        [255.5    ,   0.91352],\n",
       "        [256.     ,   0.89942]]))"
      ]
     },
     "execution_count": 46,
     "metadata": {},
     "output_type": "execute_result"
    }
   ],
   "source": []
  },
  {
   "cell_type": "code",
   "execution_count": 85,
   "id": "norwegian-plymouth",
   "metadata": {},
   "outputs": [],
   "source": [
    "rows = []\n",
    "freestyle_raw_2hz = data.get_signal_by_series_type_and_interp_type(pars, 4,3)\n",
    "\n",
    "for (gr, par1), (par2,ts_2hz) in zip(\n",
    "        sorted(db_participants), \n",
    "        freestyle_raw_2hz, \n",
    "    ):\n",
    "    if par1==par2 :\n",
    "        rows.append([gr, par1, ts_2hz.T])\n",
    "    else:\n",
    "        print(\"skipped {}\".format(par1))\n",
    "        break"
   ]
  },
  {
   "cell_type": "code",
   "execution_count": 86,
   "id": "fitted-matthew",
   "metadata": {},
   "outputs": [],
   "source": [
    "freestyle_raw_df = pd.DataFrame(data=rows,columns='group,participant,signal_2hz'.split(','))"
   ]
  },
  {
   "cell_type": "code",
   "execution_count": 87,
   "id": "capital-distance",
   "metadata": {},
   "outputs": [
    {
     "data": {
      "text/html": [
       "<div>\n",
       "<style scoped>\n",
       "    .dataframe tbody tr th:only-of-type {\n",
       "        vertical-align: middle;\n",
       "    }\n",
       "\n",
       "    .dataframe tbody tr th {\n",
       "        vertical-align: top;\n",
       "    }\n",
       "\n",
       "    .dataframe thead th {\n",
       "        text-align: right;\n",
       "    }\n",
       "</style>\n",
       "<table border=\"1\" class=\"dataframe\">\n",
       "  <thead>\n",
       "    <tr style=\"text-align: right;\">\n",
       "      <th></th>\n",
       "      <th>group</th>\n",
       "      <th>participant</th>\n",
       "      <th>signal_2hz</th>\n",
       "    </tr>\n",
       "  </thead>\n",
       "  <tbody>\n",
       "    <tr>\n",
       "      <th>0</th>\n",
       "      <td>1001</td>\n",
       "      <td>101</td>\n",
       "      <td>[[4.0, 4.5, 5.0, 5.5, 6.0, 6.5, 7.0, 7.5, 8.0,...</td>\n",
       "    </tr>\n",
       "    <tr>\n",
       "      <th>1</th>\n",
       "      <td>1001</td>\n",
       "      <td>102</td>\n",
       "      <td>[[4.0, 4.5, 5.0, 5.5, 6.0, 6.5, 7.0, 7.5, 8.0,...</td>\n",
       "    </tr>\n",
       "    <tr>\n",
       "      <th>2</th>\n",
       "      <td>1001</td>\n",
       "      <td>103</td>\n",
       "      <td>[[4.0, 4.5, 5.0, 5.5, 6.0, 6.5, 7.0, 7.5, 8.0,...</td>\n",
       "    </tr>\n",
       "    <tr>\n",
       "      <th>3</th>\n",
       "      <td>1003</td>\n",
       "      <td>108</td>\n",
       "      <td>[[3.5, 4.0, 4.5, 5.0, 5.5, 6.0, 6.5, 7.0, 7.5,...</td>\n",
       "    </tr>\n",
       "    <tr>\n",
       "      <th>4</th>\n",
       "      <td>1003</td>\n",
       "      <td>109</td>\n",
       "      <td>[[3.5, 4.0, 4.5, 5.0, 5.5, 6.0, 6.5, 7.0, 7.5,...</td>\n",
       "    </tr>\n",
       "  </tbody>\n",
       "</table>\n",
       "</div>"
      ],
      "text/plain": [
       "   group  participant                                         signal_2hz\n",
       "0   1001          101  [[4.0, 4.5, 5.0, 5.5, 6.0, 6.5, 7.0, 7.5, 8.0,...\n",
       "1   1001          102  [[4.0, 4.5, 5.0, 5.5, 6.0, 6.5, 7.0, 7.5, 8.0,...\n",
       "2   1001          103  [[4.0, 4.5, 5.0, 5.5, 6.0, 6.5, 7.0, 7.5, 8.0,...\n",
       "3   1003          108  [[3.5, 4.0, 4.5, 5.0, 5.5, 6.0, 6.5, 7.0, 7.5,...\n",
       "4   1003          109  [[3.5, 4.0, 4.5, 5.0, 5.5, 6.0, 6.5, 7.0, 7.5,..."
      ]
     },
     "execution_count": 87,
     "metadata": {},
     "output_type": "execute_result"
    }
   ],
   "source": [
    "freestyle_raw_df.head()"
   ]
  },
  {
   "cell_type": "code",
   "execution_count": 88,
   "id": "exciting-marshall",
   "metadata": {},
   "outputs": [
    {
     "data": {
      "text/html": [
       "<div>\n",
       "<style scoped>\n",
       "    .dataframe tbody tr th:only-of-type {\n",
       "        vertical-align: middle;\n",
       "    }\n",
       "\n",
       "    .dataframe tbody tr th {\n",
       "        vertical-align: top;\n",
       "    }\n",
       "\n",
       "    .dataframe thead th {\n",
       "        text-align: right;\n",
       "    }\n",
       "</style>\n",
       "<table border=\"1\" class=\"dataframe\">\n",
       "  <thead>\n",
       "    <tr style=\"text-align: right;\">\n",
       "      <th></th>\n",
       "      <th>group</th>\n",
       "      <th>participant</th>\n",
       "      <th>signal_2hz</th>\n",
       "    </tr>\n",
       "  </thead>\n",
       "  <tbody>\n",
       "    <tr>\n",
       "      <th>55</th>\n",
       "      <td>1023</td>\n",
       "      <td>168</td>\n",
       "      <td>[]</td>\n",
       "    </tr>\n",
       "  </tbody>\n",
       "</table>\n",
       "</div>"
      ],
      "text/plain": [
       "    group  participant signal_2hz\n",
       "55   1023          168         []"
      ]
     },
     "execution_count": 88,
     "metadata": {},
     "output_type": "execute_result"
    }
   ],
   "source": [
    "freestyle_raw_df[freestyle_raw_df.signal_2hz.map(lambda l: l.shape[-1]<50)]"
   ]
  },
  {
   "cell_type": "code",
   "execution_count": 91,
   "id": "alpine-cycling",
   "metadata": {},
   "outputs": [
    {
     "data": {
      "text/plain": [
       "(2, 505)"
      ]
     },
     "execution_count": 91,
     "metadata": {},
     "output_type": "execute_result"
    }
   ],
   "source": [
    "t,x =freestyle_raw_df.iloc[0,-1]\n",
    "t.shape, x.shape\n",
    "np.vstack([t,x]).shape"
   ]
  },
  {
   "cell_type": "code",
   "execution_count": 103,
   "id": "floating-adams",
   "metadata": {},
   "outputs": [],
   "source": [
    "h = remez(25, [0., 0.1, 0.15, 1.],[1., 0.],fs =2.)\n",
    "\n",
    "def lowpass(sig):\n",
    "    if sig.ndim < 2:\n",
    "        return np.array([])\n",
    "    t,x = sig\n",
    "    y = np.convolve(x,h, mode='valid')\n",
    "    t = t[12:-12]\n",
    "    return np.vstack([t,y])\n",
    "    "
   ]
  },
  {
   "cell_type": "code",
   "execution_count": 104,
   "id": "otherwise-arrangement",
   "metadata": {},
   "outputs": [],
   "source": [
    "freestyle_raw_df['remez_01_015']=freestyle_raw_df.signal_2hz.map(lowpass)"
   ]
  },
  {
   "cell_type": "code",
   "execution_count": 105,
   "id": "present-gender",
   "metadata": {},
   "outputs": [],
   "source": [
    "freestyle_raw_df.to_json(path.join(data_dir,'freestyle_raw.json'))"
   ]
  },
  {
   "cell_type": "markdown",
   "id": "finnish-driving",
   "metadata": {},
   "source": [
    "## encode baseline signals as dataframe"
   ]
  },
  {
   "cell_type": "code",
   "execution_count": 106,
   "id": "pregnant-glass",
   "metadata": {},
   "outputs": [],
   "source": [
    "rows = []\n",
    "baseline_raw = data.get_signal_by_series_type_and_interp_type(pars, 2,3)\n",
    "for (gr, par1), (par2,ts) in zip(sorted(db_participants), baseline_raw):\n",
    "    if par1==par2:\n",
    "        rows.append([gr, par1, ts.T])\n",
    "    else:\n",
    "        print(\"skipped {}\".format(par1))\n",
    "        break"
   ]
  },
  {
   "cell_type": "code",
   "execution_count": 107,
   "id": "dental-announcement",
   "metadata": {},
   "outputs": [
    {
     "data": {
      "text/html": [
       "<div>\n",
       "<style scoped>\n",
       "    .dataframe tbody tr th:only-of-type {\n",
       "        vertical-align: middle;\n",
       "    }\n",
       "\n",
       "    .dataframe tbody tr th {\n",
       "        vertical-align: top;\n",
       "    }\n",
       "\n",
       "    .dataframe thead th {\n",
       "        text-align: right;\n",
       "    }\n",
       "</style>\n",
       "<table border=\"1\" class=\"dataframe\">\n",
       "  <thead>\n",
       "    <tr style=\"text-align: right;\">\n",
       "      <th></th>\n",
       "      <th>group</th>\n",
       "      <th>participant</th>\n",
       "      <th>signal_2hz</th>\n",
       "    </tr>\n",
       "  </thead>\n",
       "  <tbody>\n",
       "  </tbody>\n",
       "</table>\n",
       "</div>"
      ],
      "text/plain": [
       "Empty DataFrame\n",
       "Columns: [group, participant, signal_2hz]\n",
       "Index: []"
      ]
     },
     "execution_count": 107,
     "metadata": {},
     "output_type": "execute_result"
    }
   ],
   "source": [
    "baseline_raw_df = pd.DataFrame(data=rows,columns='group,participant,signal_2hz'.split(','))\n",
    "\n",
    "\n",
    "baseline_raw_df[baseline_raw_df.signal_2hz.map(lambda l: l.shape[-1]<50)]"
   ]
  },
  {
   "cell_type": "code",
   "execution_count": 108,
   "id": "lesser-exhibition",
   "metadata": {},
   "outputs": [
    {
     "data": {
      "text/html": [
       "<div>\n",
       "<style scoped>\n",
       "    .dataframe tbody tr th:only-of-type {\n",
       "        vertical-align: middle;\n",
       "    }\n",
       "\n",
       "    .dataframe tbody tr th {\n",
       "        vertical-align: top;\n",
       "    }\n",
       "\n",
       "    .dataframe thead th {\n",
       "        text-align: right;\n",
       "    }\n",
       "</style>\n",
       "<table border=\"1\" class=\"dataframe\">\n",
       "  <thead>\n",
       "    <tr style=\"text-align: right;\">\n",
       "      <th></th>\n",
       "      <th>group</th>\n",
       "      <th>participant</th>\n",
       "      <th>signal_2hz</th>\n",
       "    </tr>\n",
       "  </thead>\n",
       "  <tbody>\n",
       "    <tr>\n",
       "      <th>0</th>\n",
       "      <td>1001</td>\n",
       "      <td>101</td>\n",
       "      <td>[[3.5, 4.0, 4.5, 5.0, 5.5, 6.0, 6.5, 7.0, 7.5,...</td>\n",
       "    </tr>\n",
       "    <tr>\n",
       "      <th>1</th>\n",
       "      <td>1001</td>\n",
       "      <td>102</td>\n",
       "      <td>[[3.5, 4.0, 4.5, 5.0, 5.5, 6.0, 6.5, 7.0, 7.5,...</td>\n",
       "    </tr>\n",
       "    <tr>\n",
       "      <th>2</th>\n",
       "      <td>1001</td>\n",
       "      <td>103</td>\n",
       "      <td>[[3.5, 4.0, 4.5, 5.0, 5.5, 6.0, 6.5, 7.0, 7.5,...</td>\n",
       "    </tr>\n",
       "    <tr>\n",
       "      <th>3</th>\n",
       "      <td>1003</td>\n",
       "      <td>108</td>\n",
       "      <td>[[4.0, 4.5, 5.0, 5.5, 6.0, 6.5, 7.0, 7.5, 8.0,...</td>\n",
       "    </tr>\n",
       "    <tr>\n",
       "      <th>4</th>\n",
       "      <td>1003</td>\n",
       "      <td>109</td>\n",
       "      <td>[[4.0, 4.5, 5.0, 5.5, 6.0, 6.5, 7.0, 7.5, 8.0,...</td>\n",
       "    </tr>\n",
       "  </tbody>\n",
       "</table>\n",
       "</div>"
      ],
      "text/plain": [
       "   group  participant                                         signal_2hz\n",
       "0   1001          101  [[3.5, 4.0, 4.5, 5.0, 5.5, 6.0, 6.5, 7.0, 7.5,...\n",
       "1   1001          102  [[3.5, 4.0, 4.5, 5.0, 5.5, 6.0, 6.5, 7.0, 7.5,...\n",
       "2   1001          103  [[3.5, 4.0, 4.5, 5.0, 5.5, 6.0, 6.5, 7.0, 7.5,...\n",
       "3   1003          108  [[4.0, 4.5, 5.0, 5.5, 6.0, 6.5, 7.0, 7.5, 8.0,...\n",
       "4   1003          109  [[4.0, 4.5, 5.0, 5.5, 6.0, 6.5, 7.0, 7.5, 8.0,..."
      ]
     },
     "execution_count": 108,
     "metadata": {},
     "output_type": "execute_result"
    }
   ],
   "source": [
    "baseline_raw_df.head()\n"
   ]
  },
  {
   "cell_type": "code",
   "execution_count": 109,
   "id": "thick-induction",
   "metadata": {},
   "outputs": [],
   "source": [
    "baseline_raw_df['remez_01_015']=baseline_raw_df.signal_2hz.map(lowpass)"
   ]
  },
  {
   "cell_type": "code",
   "execution_count": 110,
   "id": "incorporate-smoke",
   "metadata": {},
   "outputs": [],
   "source": [
    "baseline_raw_df.to_json(path.join(data_dir,'baseline_raw.json'))"
   ]
  },
  {
   "cell_type": "code",
   "execution_count": null,
   "id": "atlantic-video",
   "metadata": {},
   "outputs": [],
   "source": []
  }
 ],
 "metadata": {
  "kernelspec": {
   "display_name": "Python 3.7.4 64-bit ('base': conda)",
   "language": "python",
   "name": "python37464bitbaseconda865b03b3ea5d4f4bb8519af201560b69"
  },
  "language_info": {
   "codemirror_mode": {
    "name": "ipython",
    "version": 3
   },
   "file_extension": ".py",
   "mimetype": "text/x-python",
   "name": "python",
   "nbconvert_exporter": "python",
   "pygments_lexer": "ipython3",
   "version": "3.7.9"
  }
 },
 "nbformat": 4,
 "nbformat_minor": 5
}
