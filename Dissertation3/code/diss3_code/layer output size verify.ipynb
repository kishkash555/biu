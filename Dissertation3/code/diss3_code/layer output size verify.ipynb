{
 "cells": [
  {
   "cell_type": "code",
   "execution_count": 10,
   "metadata": {},
   "outputs": [],
   "source": [
    "import pandas as pd\n",
    "import matplotlib.pyplot as plt\n",
    "import sparse_ae as sae\n",
    "import torch.nn as nn"
   ]
  },
  {
   "cell_type": "code",
   "execution_count": 21,
   "metadata": {},
   "outputs": [],
   "source": [
    "conv_out = lambda lin, conv: {\n",
    "  'effective size': lin+2*conv.padding[0],\n",
    "  'stride=1 output length': lin+2*conv.padding[0]- (conv.kernel_size[0]-1)-1,\n",
    "  'actual output length': (lin+2*conv.padding[0]- (conv.kernel_size[0]-1)-1)//conv.stride[0] + 1,\n",
    "  'leftover length': (lin+2*conv.padding[0]- (conv.kernel_size[0]-1)-1) % conv.stride[0]\n",
    "}\n",
    "\n",
    "get_layer = lambda conv: {\n",
    "    'kernel_size': conv.kernel_size[0],\n",
    "    'padding': conv.padding[0],\n",
    "    'stride': conv.stride[0]\n",
    "}"
   ]
  },
  {
   "cell_type": "code",
   "execution_count": 15,
   "metadata": {},
   "outputs": [],
   "source": []
  },
  {
   "cell_type": "code",
   "execution_count": 16,
   "metadata": {},
   "outputs": [
    {
     "data": {
      "text/plain": [
       "{'kernel_size': 36, 'padding': 9, 'stride': 16}"
      ]
     },
     "execution_count": 16,
     "metadata": {},
     "output_type": "execute_result"
    }
   ],
   "source": [
    "dn = sae.ann_model()\n",
    "get_layer(dn.convE1)"
   ]
  },
  {
   "cell_type": "code",
   "execution_count": 17,
   "metadata": {},
   "outputs": [
    {
     "data": {
      "text/plain": [
       "{'effective size': 418,\n",
       " 'stride=1 output size': 382,\n",
       " 'actual output size': 24,\n",
       " 'leftover length': 14}"
      ]
     },
     "execution_count": 17,
     "metadata": {},
     "output_type": "execute_result"
    }
   ],
   "source": [
    "conv_out(400, dn.convE1)"
   ]
  },
  {
   "cell_type": "code",
   "execution_count": 19,
   "metadata": {},
   "outputs": [
    {
     "data": {
      "text/plain": [
       "{'effective size': 406,\n",
       " 'stride=1 output size': 385,\n",
       " 'actual output size': 78,\n",
       " 'leftover length': 0}"
      ]
     },
     "execution_count": 19,
     "metadata": {},
     "output_type": "execute_result"
    }
   ],
   "source": [
    "lay1 = nn.Conv1d(1,64, 21,5,3)\n",
    "conv_out(400, lay1)"
   ]
  },
  {
   "cell_type": "code",
   "execution_count": 20,
   "metadata": {},
   "outputs": [
    {
     "data": {
      "text/plain": [
       "{'effective size': 88,\n",
       " 'stride=1 output size': 67,\n",
       " 'actual output size': 68,\n",
       " 'leftover length': 0}"
      ]
     },
     "execution_count": 20,
     "metadata": {},
     "output_type": "execute_result"
    }
   ],
   "source": [
    "lay2 = nn.Conv1d(64, 64, 21, 1, 5)\n",
    "conv_out(78,lay2)"
   ]
  },
  {
   "cell_type": "code",
   "execution_count": 26,
   "metadata": {},
   "outputs": [
    {
     "data": {
      "text/plain": [
       "{'effective size': 68,\n",
       " 'stride=1 output length': 62,\n",
       " 'actual output length': 32,\n",
       " 'leftover length': 0}"
      ]
     },
     "execution_count": 26,
     "metadata": {},
     "output_type": "execute_result"
    }
   ],
   "source": [
    "lay3 = nn.Conv1d(64, 128, 6, 2, 0)\n",
    "conv_out(68, lay3)"
   ]
  },
  {
   "cell_type": "code",
   "execution_count": null,
   "metadata": {},
   "outputs": [],
   "source": []
  }
 ],
 "metadata": {
  "kernelspec": {
   "display_name": "Python 3.7.4 64-bit ('base': conda)",
   "language": "python",
   "name": "python37464bitbaseconda865b03b3ea5d4f4bb8519af201560b69"
  },
  "language_info": {
   "codemirror_mode": {
    "name": "ipython",
    "version": 3
   },
   "file_extension": ".py",
   "mimetype": "text/x-python",
   "name": "python",
   "nbconvert_exporter": "python",
   "pygments_lexer": "ipython3",
   "version": "3.7.7"
  }
 },
 "nbformat": 4,
 "nbformat_minor": 4
}
