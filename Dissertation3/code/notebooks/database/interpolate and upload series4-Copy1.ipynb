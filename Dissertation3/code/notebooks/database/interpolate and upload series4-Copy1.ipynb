{
 "cells": [
  {
   "cell_type": "code",
   "execution_count": 14,
   "metadata": {},
   "outputs": [],
   "source": [
    "import sqlalchemy as sql\n",
    "import pandas as pd\n",
    "import glob\n",
    "from os import path, sep\n",
    "import numpy as np\n",
    "import matplotlib.pyplot as plt\n",
    "from numpy.fft import fft, fftshift\n",
    "from scipy.signal import oaconvolve\n",
    "from scipy.signal import remez\n",
    "import time\n",
    "import decimate as d\n",
    "from importlib import reload\n",
    "reload(d);"
   ]
  },
  {
   "cell_type": "code",
   "execution_count": 4,
   "metadata": {},
   "outputs": [
    {
     "data": {
      "text/plain": [
       "36884.366708138"
      ]
     },
     "execution_count": 4,
     "metadata": {},
     "output_type": "execute_result"
    }
   ],
   "source": [
    "time.perf_counter()"
   ]
  },
  {
   "cell_type": "code",
   "execution_count": 5,
   "metadata": {},
   "outputs": [],
   "source": [
    "f3 = remez(2002,[0., 1, 2., 250.],[1.,0.],fs=500)\n",
    "f3 = f3[1:-1]"
   ]
  },
  {
   "cell_type": "code",
   "execution_count": 6,
   "metadata": {
    "collapsed": true
   },
   "outputs": [
    {
     "data": {
      "text/plain": [
       "[<matplotlib.lines.Line2D at 0x7f4d55566c10>]"
      ]
     },
     "execution_count": 6,
     "metadata": {},
     "output_type": "execute_result"
    },
    {
     "data": {
      "image/png": "[encoded data removed]",
      "text/plain": [
       "<Figure size 432x288 with 1 Axes>"
      ]
     },
     "metadata": {
      "needs_background": "light"
     },
     "output_type": "display_data"
    }
   ],
   "source": [
    "plt.plot(f3[250:1750])"
   ]
  },
  {
   "cell_type": "code",
   "execution_count": 7,
   "metadata": {},
   "outputs": [],
   "source": [
    "server = \"thesis.ca6j6heoraog.eu-central-1.rds.amazonaws.com\"\n",
    "engine = sql.create_engine(f\"mysql+pymysql://admin:FphvsYQek4@{server}/thesis_db\")"
   ]
  },
  {
   "cell_type": "code",
   "execution_count": 8,
   "metadata": {},
   "outputs": [],
   "source": [
    "con = engine.connect()"
   ]
  },
  {
   "cell_type": "markdown",
   "metadata": {},
   "source": [
    "```SQL\n",
    "create table interpolation_types (\n",
    "\tid int(11) NOT NULL PRIMARY KEY AUTO_INCREMENT,\n",
    "    interp_algo varchar(45),\n",
    "    algo_version varchar(20),\n",
    "    notebook_name varchar(45),\n",
    "    sampling_rate float(6,4)\n",
    "    )\n",
    "```"
   ]
  },
  {
   "cell_type": "code",
   "execution_count": 13,
   "metadata": {},
   "outputs": [
    {
     "name": "stderr",
     "output_type": "stream",
     "text": [
      "/home/siegman/miniconda3/lib/python3.7/site-packages/pymysql/cursors.py:170: Warning: (1062, \"Duplicate entry '1' for key 'PRIMARY'\")\n",
      "  result = self._query(query)\n",
      "/home/siegman/miniconda3/lib/python3.7/site-packages/pymysql/cursors.py:170: Warning: (1062, \"Duplicate entry '2' for key 'PRIMARY'\")\n",
      "  result = self._query(query)\n",
      "/home/siegman/miniconda3/lib/python3.7/site-packages/pymysql/cursors.py:170: Warning: (1062, \"Duplicate entry '3' for key 'PRIMARY'\")\n",
      "  result = self._query(query)\n"
     ]
    },
    {
     "data": {
      "text/plain": [
       "<sqlalchemy.engine.result.ResultProxy at 0x7f62eaa777d0>"
      ]
     },
     "execution_count": 13,
     "metadata": {},
     "output_type": "execute_result"
    }
   ],
   "source": [
    "\n",
    "stmnt =\"\"\"\n",
    "INSERT IGNORE INTO interpolation_series\n",
    "values \n",
    "    (1, \"legacy\", \"\", NULL, 0.5),\n",
    "    (2, \"piecewise\", \"ec31c78\", \"interpolate and upload\", 0.5),\n",
    "    (3, \"piecewise\", \"716f804\", \"interpolate and upload\", 0.5),\n",
    "    (4, \"piecewise\", \"716f804\", \"interpolate and upload\", 0.25)\n",
    "\n",
    "\"\"\"\n",
    "\n",
    "con.execute(stmnt)"
   ]
  },
  {
   "cell_type": "code",
   "execution_count": 9,
   "metadata": {},
   "outputs": [],
   "source": [
    "stmnt = \"\"\"\n",
    "SELECT DISTINCT series_type_id, group_id, participant_id\n",
    "FROM raw_interval_data\n",
    "\"\"\"\n",
    "\n",
    "raw_series = con.execute(stmnt)"
   ]
  },
  {
   "cell_type": "code",
   "execution_count": 10,
   "metadata": {},
   "outputs": [
    {
     "data": {
      "text/plain": [
       "<sqlalchemy.engine.result.ResultProxy at 0x7f4d58b6f3d0>"
      ]
     },
     "execution_count": 10,
     "metadata": {},
     "output_type": "execute_result"
    }
   ],
   "source": [
    "raw_series"
   ]
  },
  {
   "cell_type": "code",
   "execution_count": 11,
   "metadata": {},
   "outputs": [],
   "source": [
    "get_series = sql.text(\"\"\"\n",
    "SELECT data_time\n",
    "FROM raw_interval_data\n",
    "WHERE series_type_id = :sti\n",
    "AND group_id = :gi\n",
    "AND participant_id = :pi\"\"\")"
   ]
  },
  {
   "cell_type": "code",
   "execution_count": 25,
   "metadata": {},
   "outputs": [
    {
     "name": "stdout",
     "output_type": "stream",
     "text": [
      "3 1007 119 0.0\n"
     ]
    }
   ],
   "source": [
    "tref = time.perf_counter()\n",
    "#for series_type_id, group_id, participant_id in raw_series:\n",
    "series_type_id=3\n",
    "participant_id = 119\n",
    "group_id = 1007\n",
    "print(series_type_id, group_id, participant_id, np.around(time.perf_counter()-tref,2) ) \n",
    "q = con.execute(get_series, sti=series_type_id, gi= group_id, pi=participant_id)\n",
    "t = np.array(q.fetchall()).astype(float).squeeze()\n",
    "x = t[:-1] # don't use the point which marks the end of the experiment\n",
    "y = np.diff(x)\n",
    "x_pw = np.arange(0,t[-1],0.25)\n",
    "y_pw = d.pw_constant_convolve(x[:-1], y, t[-1], f3, 2, 1.5, x_pw)\n",
    "nx = len(x_pw)\n",
    "interpolated_data = pd.DataFrame({\n",
    "    'series_type_id': [series_type_id]*nx,\n",
    "    'interpolation_series_id': [4]*nx,\n",
    "    'group_id': [group_id]*nx,\n",
    "    'participant_id': [participant_id]*nx,\n",
    "    'data_ordinal': range(nx),\n",
    "    'data_time': x_pw,\n",
    "    'data_value': np.around(y_pw,5)\n",
    "})\n",
    "#    interpolated_data.to_sql(name='interpolated_interval_data', con=con, if_exists='append', index=False, method='multi')   \n"
   ]
  },
  {
   "cell_type": "code",
   "execution_count": 21,
   "metadata": {},
   "outputs": [
    {
     "data": {
      "text/plain": [
       "[<matplotlib.lines.Line2D at 0x7f4d54eb57d0>]"
      ]
     },
     "execution_count": 21,
     "metadata": {},
     "output_type": "execute_result"
    },
    {
     "data": {
      "image/png": "[encoded data removed]",
      "text/plain": [
       "<Figure size 432x288 with 1 Axes>"
      ]
     },
     "metadata": {
      "needs_background": "light"
     },
     "output_type": "display_data"
    }
   ],
   "source": [
    "plt.plot(y_pw)"
   ]
  },
  {
   "cell_type": "code",
   "execution_count": null,
   "metadata": {},
   "outputs": [],
   "source": [
    "y_pw = d.pw_constant_convolve(x, y, t[-1], f3, 4, 3, x_pw)\n",
    "nx = len(x_pw)\n",
    "interpolated_data = pd.DataFrame({\n",
    "    'series_type_id': [series_type_id]*nx,\n",
    "    'group_id': [group_id]*nx,\n",
    "    'participant_id': [participant_id]*nx,\n",
    "    'data_ordinal': range(nx),\n",
    "    'data_time': x_pw,\n",
    "    'data_value': np.around(y_pw,5)\n",
    "})\n",
    "interpolated_data.to_sql(name='interpolated_interval_data', con=con, if_exists='append', index=False, method='multi')   \n"
   ]
  },
  {
   "cell_type": "code",
   "execution_count": null,
   "metadata": {},
   "outputs": [],
   "source": [
    "df"
   ]
  },
  {
   "cell_type": "code",
   "execution_count": null,
   "metadata": {},
   "outputs": [],
   "source": [
    "(t[-1], f3, 4, 3, x_pw)"
   ]
  },
  {
   "cell_type": "code",
   "execution_count": null,
   "metadata": {},
   "outputs": [],
   "source": [
    "x"
   ]
  },
  {
   "cell_type": "code",
   "execution_count": null,
   "metadata": {},
   "outputs": [],
   "source": [
    "y"
   ]
  },
  {
   "cell_type": "code",
   "execution_count": null,
   "metadata": {},
   "outputs": [],
   "source": []
  }
 ],
 "metadata": {
  "kernelspec": {
   "display_name": "Python 3.7.4 64-bit ('base': conda)",
   "language": "python",
   "name": "python37464bitbaseconda865b03b3ea5d4f4bb8519af201560b69"
  },
  "language_info": {
   "codemirror_mode": {
    "name": "ipython",
    "version": 3
   },
   "file_extension": ".py",
   "mimetype": "text/x-python",
   "name": "python",
   "nbconvert_exporter": "python",
   "pygments_lexer": "ipython3",
   "version": "3.7.7"
  }
 },
 "nbformat": 4,
 "nbformat_minor": 4
}
