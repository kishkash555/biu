{
 "cells": [
  {
   "cell_type": "code",
   "execution_count": 42,
   "metadata": {},
   "outputs": [],
   "source": [
    "import glob\n",
    "from os import path\n",
    "from os import sep\n",
    "import subprocess"
   ]
  },
  {
   "cell_type": "code",
   "execution_count": 3,
   "metadata": {},
   "outputs": [
    {
     "data": {
      "text/plain": [
       "'/home/siegman/Documents/Shahar/BarIlan/Dissertation3/code/notebooks/midi'"
      ]
     },
     "execution_count": 3,
     "metadata": {},
     "output_type": "execute_result"
    }
   ],
   "source": [
    "pwd"
   ]
  },
  {
   "cell_type": "code",
   "execution_count": 19,
   "metadata": {},
   "outputs": [
    {
     "name": "stdout",
     "output_type": "stream",
     "text": [
      "/home/siegman/Documents/Shahar/BarIlan/Dissertation3/data/Drums/after_converting\n",
      "True\n"
     ]
    }
   ],
   "source": [
    "drumpath = path.abspath(path.join('../../../data/Drums/after_converting'))\n",
    "print(drumpath)\n",
    "print(path.exists(drumpath))"
   ]
  },
  {
   "cell_type": "code",
   "execution_count": 40,
   "metadata": {},
   "outputs": [
    {
     "name": "stdout",
     "output_type": "stream",
     "text": [
      "/home/siegman/Documents/Shahar/BarIlan/Dissertation3/data/MIDI-Interaction\n",
      "True\n"
     ]
    }
   ],
   "source": [
    "target_path = path.abspath(path.join(drumpath,'..','..','MIDI-Interaction'))\n",
    "print(target_path)\n",
    "print(path.exists(target_path))"
   ]
  },
  {
   "cell_type": "code",
   "execution_count": 21,
   "metadata": {},
   "outputs": [
    {
     "name": "stdout",
     "output_type": "stream",
     "text": [
      "['/home/siegman/Documents/Shahar/BarIlan/Dissertation3/data/Drums/after_converting/1018_300518/stimuli.mid', '/home/siegman/Documents/Shahar/BarIlan/Dissertation3/data/Drums/after_converting/1018_300518/1 2-Marimba1 Classic.mid', '/home/siegman/Documents/Shahar/BarIlan/Dissertation3/data/Drums/after_converting/1033_291118/7 2-Marimba1 Classic.mid', '/home/siegman/Documents/Shahar/BarIlan/Dissertation3/data/Drums/after_converting/1019_300518/metronome.mid', '/home/siegman/Documents/Shahar/BarIlan/Dissertation3/data/Drums/after_converting/1019_300518/8 2-Marimba1 Classic.mid', '/home/siegman/Documents/Shahar/BarIlan/Dissertation3/data/Drums/after_converting/1037_061218/7 2-Marimba1 Classic.mid', '/home/siegman/Documents/Shahar/BarIlan/Dissertation3/data/Drums/after_converting/1025_141118/7 2-Marimba1 Classic.mid', '/home/siegman/Documents/Shahar/BarIlan/Dissertation3/data/Drums/after_converting/1040_121218/1 2-Marimba1 Classic.mid', '/home/siegman/Documents/Shahar/BarIlan/Dissertation3/data/Drums/after_converting/1045_191218/7 2-Marimba1 Classic.mid', '/home/siegman/Documents/Shahar/BarIlan/Dissertation3/data/Drums/after_converting/1035_051218/7 2-Marimba1 Classic.mid']\n",
      "80\n"
     ]
    }
   ],
   "source": [
    "midi_files = glob.glob(drumpath+'/**/*.mid',recursive=True)\n",
    "print(midi_files[:10])\n",
    "print(len(midi_files))"
   ]
  },
  {
   "cell_type": "code",
   "execution_count": 24,
   "metadata": {},
   "outputs": [],
   "source": [
    "from collections import Counter"
   ]
  },
  {
   "cell_type": "code",
   "execution_count": 25,
   "metadata": {},
   "outputs": [
    {
     "data": {
      "text/plain": [
       "[('1 2-Marimba1 Classic.mid', 23),\n",
       " ('7 2-Marimba1 Classic.mid', 22),\n",
       " ('stimuli.mid', 3),\n",
       " ('8 2-Marimba1 Classic.mid', 3),\n",
       " ('predictable1001.mid', 2),\n",
       " ('Freestyle1001.mid', 2),\n",
       " ('metronome.mid', 1),\n",
       " ('predictable_1007.mid', 1),\n",
       " ('Freestyle_1007.mid', 1),\n",
       " ('Freestyle_08.mid', 1),\n",
       " ('non-predictable_08.mid', 1),\n",
       " ('Freestyle_1009.mid', 1),\n",
       " ('predictable_1009.mid', 1),\n",
       " ('predictable1001(1).mid', 1),\n",
       " ('predictable1001(3).mid', 1),\n",
       " ('1.mid', 1),\n",
       " ('predictable1001(2).mid', 1),\n",
       " ('Freestyle1001a.mid', 1),\n",
       " ('predictable1001a.mid', 1),\n",
       " ('testingMatan.mid', 1),\n",
       " ('testingSapir.mid', 1),\n",
       " ('testingOr.mid', 1),\n",
       " ('predictable1004.mid', 1),\n",
       " ('Freestyle1004.mid', 1),\n",
       " ('Freestyle1002.mid', 1),\n",
       " ('non-predictable_manipu_1005.mid', 1),\n",
       " ('Freestyle_1005.mid', 1),\n",
       " ('predictable_manipu_1006.mid', 1),\n",
       " ('Freestyle_1006.mid', 1),\n",
       " ('non-predictable1003.mid', 1),\n",
       " ('Freestyle1003.mid', 1)]"
      ]
     },
     "execution_count": 25,
     "metadata": {},
     "output_type": "execute_result"
    }
   ],
   "source": [
    "Counter([path.split(t)[1] for t in als_files]).most_common()"
   ]
  },
  {
   "cell_type": "code",
   "execution_count": null,
   "metadata": {},
   "outputs": [],
   "source": []
  },
  {
   "cell_type": "code",
   "execution_count": 43,
   "metadata": {},
   "outputs": [
    {
     "name": "stdout",
     "output_type": "stream",
     "text": [
      "cp /home/siegman/Documents/Shahar/BarIlan/Dissertation3/data/Drums/after_converting/1018_300518/1 2-Marimba1 Classic.mid /home/siegman/Documents/Shahar/BarIlan/Dissertation3/data/MIDI-Interaction/Interaction_1018.mid\n",
      "cp /home/siegman/Documents/Shahar/BarIlan/Dissertation3/data/Drums/after_converting/1033_291118/7 2-Marimba1 Classic.mid /home/siegman/Documents/Shahar/BarIlan/Dissertation3/data/MIDI-Interaction/Interaction_1033.mid\n",
      "cp /home/siegman/Documents/Shahar/BarIlan/Dissertation3/data/Drums/after_converting/1019_300518/8 2-Marimba1 Classic.mid /home/siegman/Documents/Shahar/BarIlan/Dissertation3/data/MIDI-Interaction/Interaction_1019.mid\n",
      "cp /home/siegman/Documents/Shahar/BarIlan/Dissertation3/data/Drums/after_converting/1037_061218/7 2-Marimba1 Classic.mid /home/siegman/Documents/Shahar/BarIlan/Dissertation3/data/MIDI-Interaction/Interaction_1037.mid\n",
      "cp /home/siegman/Documents/Shahar/BarIlan/Dissertation3/data/Drums/after_converting/1025_141118/7 2-Marimba1 Classic.mid /home/siegman/Documents/Shahar/BarIlan/Dissertation3/data/MIDI-Interaction/Interaction_1025.mid\n",
      "cp /home/siegman/Documents/Shahar/BarIlan/Dissertation3/data/Drums/after_converting/1040_121218/1 2-Marimba1 Classic.mid /home/siegman/Documents/Shahar/BarIlan/Dissertation3/data/MIDI-Interaction/Interaction_1040.mid\n",
      "cp /home/siegman/Documents/Shahar/BarIlan/Dissertation3/data/Drums/after_converting/1045_191218/7 2-Marimba1 Classic.mid /home/siegman/Documents/Shahar/BarIlan/Dissertation3/data/MIDI-Interaction/Interaction_1045.mid\n",
      "cp /home/siegman/Documents/Shahar/BarIlan/Dissertation3/data/Drums/after_converting/1035_051218/7 2-Marimba1 Classic.mid /home/siegman/Documents/Shahar/BarIlan/Dissertation3/data/MIDI-Interaction/Interaction_1035.mid\n",
      "cp /home/siegman/Documents/Shahar/BarIlan/Dissertation3/data/Drums/after_converting/1043_131218/7 2-Marimba1 Classic.mid /home/siegman/Documents/Shahar/BarIlan/Dissertation3/data/MIDI-Interaction/Interaction_1043.mid\n",
      "cp /home/siegman/Documents/Shahar/BarIlan/Dissertation3/data/Drums/after_converting/1007_110418/7 2-Marimba1 Classic.mid /home/siegman/Documents/Shahar/BarIlan/Dissertation3/data/MIDI-Interaction/Interaction_1007.mid\n",
      "cp /home/siegman/Documents/Shahar/BarIlan/Dissertation3/data/Drums/after_converting/1046_191218/1 2-Marimba1 Classic.mid /home/siegman/Documents/Shahar/BarIlan/Dissertation3/data/MIDI-Interaction/Interaction_1046.mid\n",
      "cp /home/siegman/Documents/Shahar/BarIlan/Dissertation3/data/Drums/after_converting/1008_110418/1 2-Marimba1 Classic.mid /home/siegman/Documents/Shahar/BarIlan/Dissertation3/data/MIDI-Interaction/Interaction_1008.mid\n",
      "cp /home/siegman/Documents/Shahar/BarIlan/Dissertation3/data/Drums/after_converting/1038_061218/1 2-Marimba1 Classic.mid /home/siegman/Documents/Shahar/BarIlan/Dissertation3/data/MIDI-Interaction/Interaction_1038.mid\n",
      "cp /home/siegman/Documents/Shahar/BarIlan/Dissertation3/data/Drums/after_converting/1049_261218/7 2-Marimba1 Classic.mid /home/siegman/Documents/Shahar/BarIlan/Dissertation3/data/MIDI-Interaction/Interaction_1049.mid\n",
      "cp /home/siegman/Documents/Shahar/BarIlan/Dissertation3/data/Drums/after_converting/1031_221118/7 2-Marimba1 Classic.mid /home/siegman/Documents/Shahar/BarIlan/Dissertation3/data/MIDI-Interaction/Interaction_1031.mid\n",
      "cp /home/siegman/Documents/Shahar/BarIlan/Dissertation3/data/Drums/after_converting/1009_260418/7 2-Marimba1 Classic.mid /home/siegman/Documents/Shahar/BarIlan/Dissertation3/data/MIDI-Interaction/Interaction_1009.mid\n",
      "cp /home/siegman/Documents/Shahar/BarIlan/Dissertation3/data/Drums/after_converting/1030_221118/1 2-Marimba1 Classic.mid /home/siegman/Documents/Shahar/BarIlan/Dissertation3/data/MIDI-Interaction/Interaction_1030.mid\n",
      "cp /home/siegman/Documents/Shahar/BarIlan/Dissertation3/data/Drums/after_converting/1022_081118/1 2-Marimba1 Classic.mid /home/siegman/Documents/Shahar/BarIlan/Dissertation3/data/MIDI-Interaction/Interaction_1022.mid\n",
      "cp /home/siegman/Documents/Shahar/BarIlan/Dissertation3/data/Drums/after_converting/1001_130318/8 2-Marimba1 Classic.mid /home/siegman/Documents/Shahar/BarIlan/Dissertation3/data/MIDI-Interaction/Interaction_1001.mid\n",
      "cp /home/siegman/Documents/Shahar/BarIlan/Dissertation3/data/Drums/after_converting/1004_210318/7 2-Marimba1 Classic.mid /home/siegman/Documents/Shahar/BarIlan/Dissertation3/data/MIDI-Interaction/Interaction_1004.mid\n",
      "cp /home/siegman/Documents/Shahar/BarIlan/Dissertation3/data/Drums/after_converting/1048_201218/1 2-Marimba1 Classic.mid /home/siegman/Documents/Shahar/BarIlan/Dissertation3/data/MIDI-Interaction/Interaction_1048.mid\n",
      "cp /home/siegman/Documents/Shahar/BarIlan/Dissertation3/data/Drums/after_converting/1010_020518/1 2-Marimba1 Classic.mid /home/siegman/Documents/Shahar/BarIlan/Dissertation3/data/MIDI-Interaction/Interaction_1010.mid\n",
      "cp /home/siegman/Documents/Shahar/BarIlan/Dissertation3/data/Drums/after_converting/1032_281118/1 2-Marimba1 Classic.mid /home/siegman/Documents/Shahar/BarIlan/Dissertation3/data/MIDI-Interaction/Interaction_1032.mid\n",
      "cp /home/siegman/Documents/Shahar/BarIlan/Dissertation3/data/Drums/after_converting/1023_081118/7 2-Marimba1 Classic.mid /home/siegman/Documents/Shahar/BarIlan/Dissertation3/data/MIDI-Interaction/Interaction_1023.mid\n",
      "cp /home/siegman/Documents/Shahar/BarIlan/Dissertation3/data/Drums/after_converting/1050_271218/1 2-Marimba1 Classic.mid /home/siegman/Documents/Shahar/BarIlan/Dissertation3/data/MIDI-Interaction/Interaction_1050.mid\n",
      "cp /home/siegman/Documents/Shahar/BarIlan/Dissertation3/data/Drums/after_converting/1042_131218/1 2-Marimba1 Classic.mid /home/siegman/Documents/Shahar/BarIlan/Dissertation3/data/MIDI-Interaction/Interaction_1042.mid\n",
      "cp /home/siegman/Documents/Shahar/BarIlan/Dissertation3/data/Drums/after_converting/1020_300518/1 2-Marimba1 Classic.mid /home/siegman/Documents/Shahar/BarIlan/Dissertation3/data/MIDI-Interaction/Interaction_1020.mid\n",
      "cp /home/siegman/Documents/Shahar/BarIlan/Dissertation3/data/Drums/after_converting/1012_020518/1 2-Marimba1 Classic.mid /home/siegman/Documents/Shahar/BarIlan/Dissertation3/data/MIDI-Interaction/Interaction_1012.mid\n",
      "cp /home/siegman/Documents/Shahar/BarIlan/Dissertation3/data/Drums/after_converting/1036_051218/1 2-Marimba1 Classic.mid /home/siegman/Documents/Shahar/BarIlan/Dissertation3/data/MIDI-Interaction/Interaction_1036.mid\n",
      "cp /home/siegman/Documents/Shahar/BarIlan/Dissertation3/data/Drums/after_converting/1026_151118/1 2-Marimba1 Classic.mid /home/siegman/Documents/Shahar/BarIlan/Dissertation3/data/MIDI-Interaction/Interaction_1026.mid\n",
      "cp /home/siegman/Documents/Shahar/BarIlan/Dissertation3/data/Drums/after_converting/1044_171218/1 2-Marimba1 Classic.mid /home/siegman/Documents/Shahar/BarIlan/Dissertation3/data/MIDI-Interaction/Interaction_1044.mid\n",
      "cp /home/siegman/Documents/Shahar/BarIlan/Dissertation3/data/Drums/after_converting/1039_121018/7 2-Marimba1 Classic.mid /home/siegman/Documents/Shahar/BarIlan/Dissertation3/data/MIDI-Interaction/Interaction_1039.mid\n",
      "cp /home/siegman/Documents/Shahar/BarIlan/Dissertation3/data/Drums/after_converting/1027_151118/7 2-Marimba1 Classic.mid /home/siegman/Documents/Shahar/BarIlan/Dissertation3/data/MIDI-Interaction/Interaction_1027.mid\n",
      "cp /home/siegman/Documents/Shahar/BarIlan/Dissertation3/data/Drums/after_converting/1015_160518/7 2-Marimba1 Classic.mid /home/siegman/Documents/Shahar/BarIlan/Dissertation3/data/MIDI-Interaction/Interaction_1015.mid\n",
      "cp /home/siegman/Documents/Shahar/BarIlan/Dissertation3/data/Drums/after_converting/1014_090518/1 2-Marimba1 Classic.mid /home/siegman/Documents/Shahar/BarIlan/Dissertation3/data/MIDI-Interaction/Interaction_1014.mid\n",
      "cp /home/siegman/Documents/Shahar/BarIlan/Dissertation3/data/Drums/after_converting/1011_020518/7 2-Marimba1 Classic.mid /home/siegman/Documents/Shahar/BarIlan/Dissertation3/data/MIDI-Interaction/Interaction_1011.mid\n",
      "cp /home/siegman/Documents/Shahar/BarIlan/Dissertation3/data/Drums/after_converting/1024_141118/1 2-Marimba1 Classic.mid /home/siegman/Documents/Shahar/BarIlan/Dissertation3/data/MIDI-Interaction/Interaction_1024.mid\n",
      "cp /home/siegman/Documents/Shahar/BarIlan/Dissertation3/data/Drums/after_converting/1005_250318/1 2-Marimba1 Classic.mid /home/siegman/Documents/Shahar/BarIlan/Dissertation3/data/MIDI-Interaction/Interaction_1005.mid\n",
      "cp /home/siegman/Documents/Shahar/BarIlan/Dissertation3/data/Drums/after_converting/1051_020119/8 2-Marimba1 Classic.mid /home/siegman/Documents/Shahar/BarIlan/Dissertation3/data/MIDI-Interaction/Interaction_1051.mid\n",
      "cp /home/siegman/Documents/Shahar/BarIlan/Dissertation3/data/Drums/after_converting/1047_191218/7 2-Marimba1 Classic.mid /home/siegman/Documents/Shahar/BarIlan/Dissertation3/data/MIDI-Interaction/Interaction_1047.mid\n",
      "cp /home/siegman/Documents/Shahar/BarIlan/Dissertation3/data/Drums/after_converting/1041_121218/7 2-Marimba1 Classic.mid /home/siegman/Documents/Shahar/BarIlan/Dissertation3/data/MIDI-Interaction/Interaction_1041.mid\n",
      "cp /home/siegman/Documents/Shahar/BarIlan/Dissertation3/data/Drums/after_converting/1016_230518/1 2-Marimba1 Classic.mid /home/siegman/Documents/Shahar/BarIlan/Dissertation3/data/MIDI-Interaction/Interaction_1016.mid\n",
      "cp /home/siegman/Documents/Shahar/BarIlan/Dissertation3/data/Drums/after_converting/1006_250318/7 2-Marimba1 Classic.mid /home/siegman/Documents/Shahar/BarIlan/Dissertation3/data/MIDI-Interaction/Interaction_1006.mid\n",
      "cp /home/siegman/Documents/Shahar/BarIlan/Dissertation3/data/Drums/after_converting/1017_230518/7 2-Marimba1 Classic.mid /home/siegman/Documents/Shahar/BarIlan/Dissertation3/data/MIDI-Interaction/Interaction_1017.mid\n",
      "cp /home/siegman/Documents/Shahar/BarIlan/Dissertation3/data/Drums/after_converting/1021_251018/7 2-Marimba1 Classic.mid /home/siegman/Documents/Shahar/BarIlan/Dissertation3/data/MIDI-Interaction/Interaction_1021.mid\n",
      "cp /home/siegman/Documents/Shahar/BarIlan/Dissertation3/data/Drums/after_converting/1034_291118/1 2-Marimba1 Classic.mid /home/siegman/Documents/Shahar/BarIlan/Dissertation3/data/MIDI-Interaction/Interaction_1034.mid\n",
      "cp /home/siegman/Documents/Shahar/BarIlan/Dissertation3/data/Drums/after_converting/1003_210318/1 2-Marimba1 Classic.mid /home/siegman/Documents/Shahar/BarIlan/Dissertation3/data/MIDI-Interaction/Interaction_1003.mid\n",
      "cp /home/siegman/Documents/Shahar/BarIlan/Dissertation3/data/Drums/after_converting/1013_090518/7 2-Marimba1 Classic.mid /home/siegman/Documents/Shahar/BarIlan/Dissertation3/data/MIDI-Interaction/Interaction_1013.mid\n"
     ]
    }
   ],
   "source": [
    "commands = []\n",
    "for fname in midi_files:\n",
    "    fparts = str(fname).split(sep)\n",
    "    if 'Marimba1' in fparts[-1]: # a converted midi file\n",
    "        group_name = fparts[-2].split('_')[0]\n",
    "        try:\n",
    "            if 1000< int(group_name) < 1100:\n",
    "#                print(f'file {fparts[-1]} for group {group_name}')\n",
    "                new_fname = f'Interaction_{group_name}.mid'\n",
    "                commands.append(['cp',fname,path.join(target_path,new_fname)])\n",
    "                print(' '.join(commands[-1]))\n",
    "            else:\n",
    "                print(f'wrong group name {group_name}')\n",
    "        except:\n",
    "            print(f'wrong dir name {group_name}')\n",
    "#     else:\n",
    "#         print(f'skipped {fparts[-1]}')"
   ]
  },
  {
   "cell_type": "code",
   "execution_count": 45,
   "metadata": {},
   "outputs": [],
   "source": [
    "# perform the copy, raising an error and stopping if something is wrong\n",
    "for cm in commands:\n",
    "    try:\n",
    "        subprocess.check_call(cm)\n",
    "    except CalledProcessError as cpe:\n",
    "        print(cpe)"
   ]
  },
  {
   "cell_type": "code",
   "execution_count": null,
   "metadata": {},
   "outputs": [],
   "source": []
  }
 ],
 "metadata": {
  "kernelspec": {
   "display_name": "Python 3.7.4 64-bit ('base': conda)",
   "language": "python",
   "name": "python37464bitbaseconda865b03b3ea5d4f4bb8519af201560b69"
  },
  "language_info": {
   "codemirror_mode": {
    "name": "ipython",
    "version": 3
   },
   "file_extension": ".py",
   "mimetype": "text/x-python",
   "name": "python",
   "nbconvert_exporter": "python",
   "pygments_lexer": "ipython3",
   "version": "3.7.9"
  }
 },
 "nbformat": 4,
 "nbformat_minor": 4
}
