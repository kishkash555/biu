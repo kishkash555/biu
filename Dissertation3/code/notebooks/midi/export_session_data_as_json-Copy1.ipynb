{
 "cells": [
  {
   "cell_type": "code",
   "execution_count": 1,
   "id": "patient-broadcasting",
   "metadata": {},
   "outputs": [],
   "source": [
    "import music21 as m2\n",
    "import glob\n",
    "import matplotlib.pyplot as plt\n",
    "import pandas as pd\n",
    "import seaborn as sns\n",
    "import numpy as np\n",
    "from scipy.signal import windows, oaconvolve"
   ]
  },
  {
   "cell_type": "code",
   "execution_count": 2,
   "id": "bored-habitat",
   "metadata": {},
   "outputs": [
    {
     "name": "stdout",
     "output_type": "stream",
     "text": [
      "/home/siegman/Documents/Shahar/BarIlan/Dissertation3/code/diss3_code/midi True\n"
     ]
    }
   ],
   "source": [
    "import sys\n",
    "from os import path\n",
    "\n",
    "code_path = path.abspath(path.join('..','..','diss3_code','midi'))\n",
    "print(code_path, path.exists(code_path))\n",
    "\n",
    "sys.path.append(code_path)\n",
    "import midi_utils as mu"
   ]
  },
  {
   "cell_type": "code",
   "execution_count": 3,
   "id": "prostate-gossip",
   "metadata": {},
   "outputs": [],
   "source": [
    "ngw = windows.gaussian(2001,200)\n",
    "ngw = ngw/ngw.sum()"
   ]
  },
  {
   "cell_type": "code",
   "execution_count": 4,
   "id": "frequent-night",
   "metadata": {},
   "outputs": [
    {
     "name": "stdout",
     "output_type": "stream",
     "text": [
      "[True, True]\n"
     ]
    },
    {
     "data": {
      "text/plain": [
       "['/home/siegman/Documents/Shahar/BarIlan/Dissertation3/data/MIDI-Interaction/Interaction_1025.mid',\n",
       " '/home/siegman/Documents/Shahar/BarIlan/Dissertation3/data/MIDI-Interaction/Interaction_1026.mid',\n",
       " '/home/siegman/Documents/Shahar/BarIlan/Dissertation3/data/MIDI-Interaction/Interaction_1031.mid',\n",
       " '/home/siegman/Documents/Shahar/BarIlan/Dissertation3/data/MIDI-Interaction/Interaction_1027.mid',\n",
       " '/home/siegman/Documents/Shahar/BarIlan/Dissertation3/data/MIDI-Interaction/Interaction_1046.mid']"
      ]
     },
     "execution_count": 4,
     "metadata": {},
     "output_type": "execute_result"
    }
   ],
   "source": [
    "midi_paths = ['MIDI-Freestyle', 'MIDI-Interaction']\n",
    "midi_paths = [path.abspath(path.join('..','..','..','data',p)) for p in midi_paths]\n",
    "print([path.exists(p) for p in midi_paths])\n",
    "\n",
    "midi_files = sum([glob.glob(path.join(mp,'*.mid')) for mp in midi_paths],[] )\n",
    "midi_files[-5:]"
   ]
  },
  {
   "cell_type": "code",
   "execution_count": 5,
   "id": "fitting-actress",
   "metadata": {},
   "outputs": [],
   "source": [
    "def populate_music_dictionary(midi_files):\n",
    "    all_ticks = {}\n",
    "    for mf in midi_files:\n",
    "        group_num = path.basename(mf).split('_')[1].split('.')[0]\n",
    "        session = path.basename(mf).split('_')[0]\n",
    "        group_ticks = mu.get_drumbeat_ticks_for_midi(mf)\n",
    "        for track, ticks in group_ticks.items():\n",
    "            print((group_num, session, track))\n",
    "            assert (group_num, session, track) not in all_ticks\n",
    "            all_ticks[(group_num, session, track)]= [t[0] for t in ticks if t[1]-t[0]>10] \n",
    "    return all_ticks\n",
    "\n",
    "def get_signals_for_group_session(all_ticks,group,session,kernel):\n",
    "    arrays = [to_dense(np.array(all_ticks[(group,session,par)])) for par in [43,45,48]]\n",
    "    arrays = [oaconvolve(t,kernel) for t in arrays]\n",
    "    la = min([len(a) for a in arrays])\n",
    "    ret = np.zeros((3,la))\n",
    "    for i in range(3):\n",
    "        ret[i,:] =arrays[i][:la]\n",
    "    return ret\n",
    "\n",
    "def export_graphs_to_js_object(all_ticks, groups=None, kernel=ngw):\n",
    "    data_obj = {}\n",
    "    for k, v in all_ticks:\n",
    "        gr = k[0]\n",
    "        if groups is not None and gr not in groups:\n",
    "            continue\n",
    "        data_obj[gr] = data_obj.get(gr,{})\n",
    "        array = np.round(oaconvolve(to_dense(np.array(v)),ngw)*100[::100], 3)\n",
    "        \n",
    "        ss = get_signals_for_group_session(all_ticks,'1009', 'Interaction' ,ngw)\n",
    "        data_obj_k2 = {'Freestyle': 'FS', 'Interaction': 'IN'}[k[1]] \n",
    "        data_obj[gr][data_obj_k2][k[2]] = {'x': list(range(len(array))), 'y':list(array), 'type': 'scatter'}\n",
    "    return data_obj\n",
    "        \n",
    "def get_signals_for_group_session(all_ticks,group,session,kernel):\n",
    "    arrays = [to_dense(np.array(all_ticks[(group,session,par)])) for par in [43,45,48]]\n",
    "    arrays = [oaconvolve(t,kernel) for t in arrays]\n",
    "    la = min([len(a) for a in arrays])\n",
    "    ret = np.zeros((3,la))\n",
    "    for i in range(3):\n",
    "        ret[i,:] =arrays[i][:la]\n",
    "    return ret\n",
    "\n",
    "\n",
    "def to_dense(t,max_len=None):\n",
    "    max_len = max_len or t[-1]\n",
    "    ret = np.zeros(max_len)\n",
    "    max_index_to_include = np.sum(t<max_len).astype(int)\n",
    "    ret[t[:max_index_to_include]]=1.\n",
    "    return ret\n",
    "\n",
    "def as_plotly_obj(all_ticks, group, session, n_points=100, plot_type='scatter'):\n",
    "    kernel = ngw\n",
    "    arrays = [to_dense(np.array(all_ticks[(group,session,par)])) for par in [43,45,48]]\n",
    "    arrays = [oaconvolve(t,kernel) for t in arrays]\n",
    "    shortest = min([len(a) for a in arrays])\n",
    "    sampling_index = np.round(np.linspace(0,shortest-1,n_points)).astype(int)\n",
    "    ret = [{\n",
    "        \"x\": list(range(n_points)),\n",
    "        \"y\": list(np.round(array[sampling_index],4)),\n",
    "        \"type\": plot_type,\n",
    "        \"name\": f\"Participant {i}\"\n",
    "    } for i, array in enumerate(arrays,1)]\n",
    "    return ret\n",
    "    "
   ]
  },
  {
   "cell_type": "code",
   "execution_count": 6,
   "id": "neutral-melbourne",
   "metadata": {},
   "outputs": [
    {
     "name": "stdout",
     "output_type": "stream",
     "text": [
      "('1009', 'Freestyle', 43)\n",
      "('1009', 'Freestyle', 45)\n",
      "('1009', 'Freestyle', 48)\n",
      "('1025', 'Freestyle', 43)\n",
      "('1025', 'Freestyle', 48)\n",
      "('1025', 'Freestyle', 45)\n",
      "('1021', 'Freestyle', 45)\n",
      "('1021', 'Freestyle', 48)\n",
      "('1021', 'Freestyle', 43)\n",
      "('1018', 'Freestyle', 43)\n",
      "('1018', 'Freestyle', 48)\n",
      "('1018', 'Freestyle', 45)\n",
      "('1008', 'Freestyle', 48)\n",
      "('1008', 'Freestyle', 45)\n",
      "('1008', 'Freestyle', 43)\n",
      "('1048', 'Freestyle', 45)\n",
      "('1048', 'Freestyle', 43)\n",
      "('1048', 'Freestyle', 48)\n",
      "('1026', 'Freestyle', 43)\n",
      "('1026', 'Freestyle', 45)\n",
      "('1026', 'Freestyle', 48)\n",
      "('1024', 'Freestyle', 43)\n",
      "('1024', 'Freestyle', 48)\n",
      "('1024', 'Freestyle', 45)\n",
      "('1023', 'Freestyle', 48)\n",
      "('1023', 'Freestyle', 43)\n",
      "('1023', 'Freestyle', 45)\n",
      "('1033', 'Freestyle', 45)\n",
      "('1033', 'Freestyle', 43)\n",
      "('1033', 'Freestyle', 48)\n",
      "('1045', 'Freestyle', 48)\n",
      "('1045', 'Freestyle', 43)\n",
      "('1045', 'Freestyle', 45)\n",
      "('1034', 'Freestyle', 45)\n",
      "('1034', 'Freestyle', 48)\n",
      "('1034', 'Freestyle', 43)\n",
      "('1046', 'Freestyle', 48)\n",
      "('1046', 'Freestyle', 45)\n",
      "('1046', 'Freestyle', 43)\n",
      "('1035', 'Freestyle', 45)\n",
      "('1035', 'Freestyle', 43)\n",
      "('1035', 'Freestyle', 48)\n",
      "('1030', 'Freestyle', 43)\n",
      "('1030', 'Freestyle', 48)\n",
      "('1030', 'Freestyle', 45)\n",
      "('1031', 'Freestyle', 43)\n",
      "('1031', 'Freestyle', 48)\n",
      "('1031', 'Freestyle', 45)\n",
      "('1032', 'Freestyle', 43)\n",
      "('1032', 'Freestyle', 48)\n",
      "('1032', 'Freestyle', 45)\n",
      "('1014', 'Freestyle', 45)\n",
      "('1014', 'Freestyle', 43)\n",
      "('1014', 'Freestyle', 48)\n",
      "('1002', 'Freestyle', 48)\n",
      "('1002', 'Freestyle', 43)\n",
      "('1002', 'Freestyle', 45)\n",
      "('1016', 'Freestyle', 45)\n",
      "('1016', 'Freestyle', 43)\n",
      "('1016', 'Freestyle', 48)\n",
      "('1042', 'Freestyle', 45)\n",
      "('1042', 'Freestyle', 48)\n",
      "('1042', 'Freestyle', 43)\n",
      "('1013', 'Freestyle', 45)\n",
      "('1013', 'Freestyle', 48)\n",
      "('1013', 'Freestyle', 43)\n",
      "('1029', 'Freestyle', 45)\n",
      "('1029', 'Freestyle', 48)\n",
      "('1029', 'Freestyle', 43)\n",
      "('1047', 'Freestyle', 43)\n",
      "('1047', 'Freestyle', 45)\n",
      "('1047', 'Freestyle', 48)\n",
      "('1050', 'Freestyle', 48)\n",
      "('1050', 'Freestyle', 43)\n",
      "('1050', 'Freestyle', 45)\n",
      "('1049', 'Freestyle', 45)\n",
      "('1049', 'Freestyle', 48)\n",
      "('1049', 'Freestyle', 43)\n",
      "('1003', 'Freestyle', 45)\n",
      "('1003', 'Freestyle', 48)\n",
      "('1003', 'Freestyle', 43)\n",
      "('1004', 'Freestyle', 48)\n",
      "('1004', 'Freestyle', 45)\n",
      "('1004', 'Freestyle', 43)\n",
      "('1038', 'Freestyle', 45)\n",
      "('1038', 'Freestyle', 43)\n",
      "('1038', 'Freestyle', 48)\n",
      "('1022', 'Freestyle', 43)\n",
      "('1022', 'Freestyle', 48)\n",
      "('1022', 'Freestyle', 45)\n",
      "('1015', 'Freestyle', 48)\n",
      "('1015', 'Freestyle', 43)\n",
      "('1015', 'Freestyle', 45)\n",
      "('1007', 'Freestyle', 48)\n",
      "('1007', 'Freestyle', 45)\n",
      "('1007', 'Freestyle', 43)\n",
      "('1051', 'Freestyle', 45)\n",
      "('1051', 'Freestyle', 43)\n",
      "('1051', 'Freestyle', 48)\n",
      "('1044', 'Freestyle', 45)\n",
      "('1044', 'Freestyle', 48)\n",
      "('1044', 'Freestyle', 43)\n",
      "('1041', 'Freestyle', 43)\n",
      "('1041', 'Freestyle', 45)\n",
      "('1041', 'Freestyle', 48)\n",
      "('1019', 'Freestyle', 43)\n",
      "('1019', 'Freestyle', 45)\n",
      "('1019', 'Freestyle', 48)\n",
      "('1010', 'Freestyle', 45)\n",
      "('1010', 'Freestyle', 43)\n",
      "('1010', 'Freestyle', 48)\n",
      "('1027', 'Freestyle', 43)\n",
      "('1027', 'Freestyle', 45)\n",
      "('1027', 'Freestyle', 48)\n",
      "('1040', 'Freestyle', 45)\n",
      "('1040', 'Freestyle', 48)\n",
      "('1040', 'Freestyle', 43)\n",
      "('1011', 'Freestyle', 45)\n",
      "('1011', 'Freestyle', 48)\n",
      "('1011', 'Freestyle', 43)\n",
      "('1039', 'Freestyle', 48)\n",
      "('1039', 'Freestyle', 45)\n",
      "('1039', 'Freestyle', 43)\n",
      "('1001', 'Freestyle', 43)\n",
      "('1001', 'Freestyle', 45)\n",
      "('1001', 'Freestyle', 48)\n",
      "('1005', 'Freestyle', 45)\n",
      "('1005', 'Freestyle', 48)\n",
      "('1005', 'Freestyle', 43)\n",
      "('1012', 'Freestyle', 45)\n",
      "('1012', 'Freestyle', 48)\n",
      "('1012', 'Freestyle', 43)\n",
      "('1017', 'Freestyle', 43)\n",
      "('1017', 'Freestyle', 48)\n",
      "('1017', 'Freestyle', 45)\n",
      "('1006', 'Freestyle', 45)\n",
      "('1006', 'Freestyle', 48)\n",
      "('1006', 'Freestyle', 43)\n",
      "('1028', 'Freestyle', 45)\n",
      "('1028', 'Freestyle', 48)\n",
      "('1028', 'Freestyle', 43)\n",
      "('1037', 'Freestyle', 45)\n",
      "('1037', 'Freestyle', 43)\n",
      "('1037', 'Freestyle', 48)\n",
      "('1036', 'Freestyle', 48)\n",
      "('1036', 'Freestyle', 45)\n",
      "('1036', 'Freestyle', 43)\n",
      "('1043', 'Freestyle', 45)\n",
      "('1043', 'Freestyle', 48)\n",
      "('1043', 'Freestyle', 43)\n",
      "('1020', 'Freestyle', 43)\n",
      "('1020', 'Freestyle', 48)\n",
      "('1020', 'Freestyle', 45)\n",
      "('1039', 'Interaction', 43)\n",
      "('1039', 'Interaction', 48)\n",
      "('1039', 'Interaction', 45)\n",
      "('1011', 'Interaction', 43)\n",
      "('1011', 'Interaction', 45)\n",
      "('1011', 'Interaction', 48)\n",
      "('1045', 'Interaction', 43)\n",
      "('1045', 'Interaction', 45)\n",
      "('1045', 'Interaction', 48)\n",
      "('1034', 'Interaction', 43)\n",
      "('1034', 'Interaction', 48)\n",
      "('1034', 'Interaction', 45)\n",
      "('1017', 'Interaction', 45)\n",
      "('1017', 'Interaction', 48)\n",
      "('1017', 'Interaction', 43)\n",
      "('1006', 'Interaction', 43)\n",
      "('1006', 'Interaction', 48)\n",
      "('1006', 'Interaction', 45)\n",
      "('1036', 'Interaction', 48)\n",
      "('1036', 'Interaction', 43)\n",
      "('1036', 'Interaction', 45)\n",
      "('1018', 'Interaction', 45)\n",
      "('1018', 'Interaction', 48)\n",
      "('1018', 'Interaction', 43)\n",
      "('1033', 'Interaction', 48)\n",
      "('1033', 'Interaction', 45)\n",
      "('1033', 'Interaction', 43)\n",
      "('1024', 'Interaction', 48)\n",
      "('1024', 'Interaction', 45)\n",
      "('1024', 'Interaction', 43)\n",
      "('1032', 'Interaction', 43)\n",
      "('1032', 'Interaction', 48)\n",
      "('1032', 'Interaction', 45)\n",
      "('1028', 'Interaction', 43)\n",
      "('1028', 'Interaction', 48)\n",
      "('1028', 'Interaction', 45)\n",
      "('1050', 'Interaction', 45)\n",
      "('1050', 'Interaction', 48)\n",
      "('1050', 'Interaction', 43)\n",
      "('1051', 'Interaction', 45)\n",
      "('1051', 'Interaction', 48)\n",
      "('1051', 'Interaction', 43)\n",
      "('1016', 'Interaction', 45)\n",
      "('1016', 'Interaction', 43)\n",
      "('1016', 'Interaction', 48)\n",
      "('1009', 'Interaction', 45)\n",
      "('1009', 'Interaction', 48)\n",
      "('1009', 'Interaction', 43)\n",
      "('1020', 'Interaction', 43)\n",
      "('1020', 'Interaction', 45)\n",
      "('1020', 'Interaction', 48)\n",
      "('1048', 'Interaction', 48)\n",
      "('1048', 'Interaction', 45)\n",
      "('1048', 'Interaction', 43)\n",
      "('1041', 'Interaction', 43)\n",
      "('1041', 'Interaction', 45)\n",
      "('1041', 'Interaction', 48)\n",
      "('1035', 'Interaction', 43)\n",
      "('1035', 'Interaction', 48)\n",
      "('1035', 'Interaction', 45)\n",
      "('1030', 'Interaction', 48)\n",
      "('1030', 'Interaction', 43)\n",
      "('1030', 'Interaction', 45)\n",
      "('1005', 'Interaction', 43)\n",
      "('1005', 'Interaction', 48)\n",
      "('1005', 'Interaction', 45)\n",
      "('1005', 'Interaction', 51)\n",
      "('1022', 'Interaction', 45)\n",
      "('1022', 'Interaction', 43)\n",
      "('1022', 'Interaction', 48)\n",
      "('1044', 'Interaction', 45)\n",
      "('1044', 'Interaction', 43)\n",
      "('1044', 'Interaction', 48)\n",
      "('1010', 'Interaction', 48)\n",
      "('1010', 'Interaction', 43)\n",
      "('1010', 'Interaction', 45)\n",
      "('1013', 'Interaction', 45)\n",
      "('1013', 'Interaction', 43)\n",
      "('1013', 'Interaction', 48)\n",
      "('1012', 'Interaction', 45)\n",
      "('1012', 'Interaction', 48)\n",
      "('1012', 'Interaction', 43)\n",
      "('1040', 'Interaction', 43)\n",
      "('1040', 'Interaction', 45)\n",
      "('1040', 'Interaction', 48)\n",
      "('1003', 'Interaction', 43)\n",
      "('1003', 'Interaction', 45)\n",
      "('1003', 'Interaction', 48)\n",
      "('1001', 'Interaction', 43)\n",
      "('1001', 'Interaction', 45)\n",
      "('1001', 'Interaction', 48)\n",
      "('1015', 'Interaction', 48)\n",
      "('1015', 'Interaction', 43)\n",
      "('1015', 'Interaction', 45)\n",
      "('1042', 'Interaction', 48)\n",
      "('1042', 'Interaction', 45)\n",
      "('1042', 'Interaction', 43)\n",
      "('1021', 'Interaction', 43)\n",
      "('1021', 'Interaction', 48)\n",
      "('1021', 'Interaction', 45)\n",
      "('1047', 'Interaction', 48)\n",
      "('1047', 'Interaction', 43)\n",
      "('1047', 'Interaction', 45)\n",
      "('1008', 'Interaction', 43)\n",
      "('1008', 'Interaction', 45)\n",
      "('1008', 'Interaction', 48)\n",
      "('1014', 'Interaction', 45)\n",
      "('1014', 'Interaction', 43)\n",
      "('1014', 'Interaction', 48)\n",
      "('1019', 'Interaction', 45)\n",
      "('1019', 'Interaction', 48)\n",
      "('1019', 'Interaction', 43)\n",
      "('1038', 'Interaction', 45)\n",
      "('1038', 'Interaction', 48)\n",
      "('1038', 'Interaction', 43)\n",
      "('1049', 'Interaction', 48)\n",
      "('1049', 'Interaction', 45)\n",
      "('1049', 'Interaction', 43)\n",
      "('1004', 'Interaction', 48)\n",
      "('1004', 'Interaction', 45)\n",
      "('1004', 'Interaction', 43)\n",
      "('1023', 'Interaction', 48)\n",
      "('1023', 'Interaction', 43)\n",
      "('1023', 'Interaction', 45)\n",
      "('1043', 'Interaction', 45)\n",
      "('1043', 'Interaction', 43)\n",
      "('1043', 'Interaction', 48)\n",
      "('1007', 'Interaction', 48)\n",
      "('1007', 'Interaction', 43)\n",
      "('1007', 'Interaction', 45)\n",
      "('1037', 'Interaction', 43)\n",
      "('1037', 'Interaction', 48)\n",
      "('1037', 'Interaction', 45)\n",
      "('1025', 'Interaction', 43)\n",
      "('1025', 'Interaction', 45)\n",
      "('1025', 'Interaction', 48)\n",
      "('1026', 'Interaction', 43)\n",
      "('1026', 'Interaction', 48)\n",
      "('1026', 'Interaction', 45)\n",
      "('1031', 'Interaction', 48)\n",
      "('1031', 'Interaction', 43)\n",
      "('1031', 'Interaction', 45)\n",
      "('1027', 'Interaction', 43)\n",
      "('1027', 'Interaction', 48)\n",
      "('1027', 'Interaction', 45)\n",
      "('1046', 'Interaction', 45)\n",
      "('1046', 'Interaction', 48)\n",
      "('1046', 'Interaction', 43)\n"
     ]
    }
   ],
   "source": [
    "all_ticks = populate_music_dictionary(midi_files)"
   ]
  },
  {
   "cell_type": "code",
   "execution_count": 7,
   "id": "naughty-folder",
   "metadata": {},
   "outputs": [
    {
     "data": {
      "text/plain": [
       "\"{('1009', 'Freestyle', 43): [1013, 1107, 1194, 1295, 1390, 2252, 2566, 2627, 2758, 2822, 2857, 2889, 2956, 3169, 3513, 3574, 3631, 3729, 3815, 3900, 4001, 4136, 5269, 5413, 6155, 6746, 7204, 7287, 7718, 7771, 8595, 8784, 9581, 9762, 9885, 10004, 10103, 10176, 10286, 10386, 10478, 10853, 10951, 11299, 12247, 12655, 12790, 12911, 13030, 13571, 13817, 13846, 13896, 13940, 13991, 14044, 14098, 14154, 14221, 14288, 14343, 14407, 14468, 14563, 14629, 14680, 14783, 14854, 14914, 14988, 15013, 15130, 15\""
      ]
     },
     "execution_count": 7,
     "metadata": {},
     "output_type": "execute_result"
    }
   ],
   "source": [
    "all_ticks.__repr__()[:500]"
   ]
  },
  {
   "cell_type": "code",
   "execution_count": 8,
   "id": "exotic-occupation",
   "metadata": {},
   "outputs": [],
   "source": [
    "condition = {'1001': 1,\n",
    "'1001': 1,\n",
    "'1001': 1,\n",
    "'1002': 2,\n",
    "'1002': 2,\n",
    "'1002': 2,\n",
    "'1003': 2,\n",
    "'1003': 2,\n",
    "'1003': 2,\n",
    "'1004': 1,\n",
    "'1004': 1,\n",
    "'1004': 1,\n",
    "'1005': 2,\n",
    "'1005': 2,\n",
    "'1005': 2,\n",
    "'1006': 1,\n",
    "'1006': 1,\n",
    "'1006': 1,\n",
    "'1007': 1,\n",
    "'1007': 1,\n",
    "'1007': 1,\n",
    "'1008': 2,\n",
    "'1008': 2,\n",
    "'1008': 2,\n",
    "'1009': 1,\n",
    "'1009': 1,\n",
    "'1009': 1,\n",
    "'1010': 2,\n",
    "'1010': 2,\n",
    "'1010': 2,\n",
    "'1011': 1,\n",
    "'1011': 1,\n",
    "'1011': 1,\n",
    "'1012': 2,\n",
    "'1012': 2,\n",
    "'1012': 2,\n",
    "'1013': 1,\n",
    "'1013': 1,\n",
    "'1013': 1,\n",
    "'1014': 2,\n",
    "'1014': 2,\n",
    "'1014': 2,\n",
    "'1015': 1,\n",
    "'1015': 1,\n",
    "'1015': 1,\n",
    "'1016': 2,\n",
    "'1016': 2,\n",
    "'1016': 2,\n",
    "'1017': 1,\n",
    "'1017': 1,\n",
    "'1017': 1,\n",
    "'1018': 2,\n",
    "'1018': 2,\n",
    "'1018': 2,\n",
    "'1019': 1,\n",
    "'1019': 1,\n",
    "'1019': 1,\n",
    "'1020': 2,\n",
    "'1020': 2,\n",
    "'1020': 2,\n",
    "'1021': 1,\n",
    "'1021': 1,\n",
    "'1021': 1,\n",
    "'1021': 1,\n",
    "'1021': 1,\n",
    "'1021': 1,\n",
    "'1022': 2,\n",
    "'1022': 2,\n",
    "'1022': 2,\n",
    "'1023': 1,\n",
    "'1023': 1,\n",
    "'1023': 1,\n",
    "'1024': 2,\n",
    "'1024': 2,\n",
    "'1024': 2,\n",
    "'1025': 1,\n",
    "'1025': 1,\n",
    "'1025': 1,\n",
    "'1026': 2,\n",
    "'1026': 2,\n",
    "'1026': 2,\n",
    "'1027': 1,\n",
    "'1027': 1,\n",
    "'1027': 1,\n",
    "'1028': 2,\n",
    "'1028': 2,\n",
    "'1028': 2,\n",
    "'1028': 2,\n",
    "'1029': 1,\n",
    "'1029': 1,\n",
    "'1029': 1,\n",
    "'1030': 2,\n",
    "'1030': 2,\n",
    "'1030': 2,\n",
    "'1031': 1,\n",
    "'1031': 1,\n",
    "'1031': 1,\n",
    "'1032': 2,\n",
    "'1032': 2,\n",
    "'1032': 2,\n",
    "'1033': 1,\n",
    "'1033': 1,\n",
    "'1033': 1,\n",
    "'1033': 1,\n",
    "'1033': 1,\n",
    "'1033': 1,\n",
    "'1034': 2,\n",
    "'1034': 2,\n",
    "'1034': 2,\n",
    "'1035': 1,\n",
    "'1035': 1,\n",
    "'1035': 1,\n",
    "'1036': 2,\n",
    "'1036': 2,\n",
    "'1036': 2,\n",
    "'1037': 1,\n",
    "'1037': 1,\n",
    "'1037': 1,\n",
    "'1038': 2,\n",
    "'1038': 2,\n",
    "'1038': 2,\n",
    "'1039': 1,\n",
    "'1039': 1,\n",
    "'1039': 1,\n",
    "'1040': 2,\n",
    "'1040': 2,\n",
    "'1040': 2,\n",
    "'1041': 1,\n",
    "'1041': 1,\n",
    "'1041': 1,\n",
    "'1042': 2,\n",
    "'1042': 2,\n",
    "'1042': 2,\n",
    "'1043': 1,\n",
    "'1043': 1,\n",
    "'1043': 1,\n",
    "'1044': 2,\n",
    "'1044': 2,\n",
    "'1044': 2,\n",
    "'1045': 1,\n",
    "'1045': 1,\n",
    "'1045': 1,\n",
    "'1046': 2,\n",
    "'1046': 2,\n",
    "'1046': 2,\n",
    "'1047': 1,\n",
    "'1047': 1,\n",
    "'1047': 1,\n",
    "'1048': 2,\n",
    "'1048': 2,\n",
    "'1048': 2,\n",
    "'1049': 1,\n",
    "'1049': 1,\n",
    "'1049': 1,\n",
    "'1050': 2,\n",
    "'1050': 2,\n",
    "'1050': 2,\n",
    "'1051': 1,\n",
    "'1051': 1,\n",
    "'1051': 1}"
   ]
  },
  {
   "cell_type": "code",
   "execution_count": 40,
   "id": "happy-trout",
   "metadata": {},
   "outputs": [],
   "source": [
    "first  =  {}\n",
    "last  =  {}\n",
    "\n",
    "for k, v in all_ticks.items():\n",
    "    first[(k[0],k[1])] = first.get((k[0],k[1]),[])+[v[0]]\n",
    "    last[(k[0],k[1])] = last.get((k[0],k[1]),[])+[v[-1]]\n",
    "\n",
    "first_last = {k: (min(v), max(last[k])) for k, v in first.items()}"
   ]
  },
  {
   "cell_type": "code",
   "execution_count": 41,
   "id": "occupied-devon",
   "metadata": {},
   "outputs": [
    {
     "data": {
      "text/plain": [
       "{('1009', 'Freestyle'): [1013, 1020, 1117],\n",
       " ('1025', 'Freestyle'): [285, 302, 391],\n",
       " ('1021', 'Freestyle'): [264, 372, 499],\n",
       " ('1018', 'Freestyle'): [72, 112, 190],\n",
       " ('1008', 'Freestyle'): [1002, 1086, 1089],\n",
       " ('1048', 'Freestyle'): [360, 359, 381],\n",
       " ('1026', 'Freestyle'): [91, 193, 265],\n",
       " ('1024', 'Freestyle'): [170, 307, 445],\n",
       " ('1023', 'Freestyle'): [317, 442, 613],\n",
       " ('1033', 'Freestyle'): [542, 894, 2156],\n",
       " ('1045', 'Freestyle'): [18, 18, 43],\n",
       " ('1034', 'Freestyle'): [139, 251, 460],\n",
       " ('1046', 'Freestyle'): [337, 511, 709],\n",
       " ('1035', 'Freestyle'): [167, 176, 363],\n",
       " ('1030', 'Freestyle'): [415, 501, 786],\n",
       " ('1031', 'Freestyle'): [641, 676, 1093],\n",
       " ('1032', 'Freestyle'): [203, 261, 285],\n",
       " ('1014', 'Freestyle'): [228, 270, 2310],\n",
       " ('1002', 'Freestyle'): [2511, 2553, 2924],\n",
       " ('1016', 'Freestyle'): [376, 379, 426],\n",
       " ('1042', 'Freestyle'): [281, 377, 473],\n",
       " ('1013', 'Freestyle'): [696, 727, 776],\n",
       " ('1029', 'Freestyle'): [218, 421, 906],\n",
       " ('1047', 'Freestyle'): [168, 187, 554],\n",
       " ('1050', 'Freestyle'): [702, 771, 1601],\n",
       " ('1049', 'Freestyle'): [561, 737, 821],\n",
       " ('1003', 'Freestyle'): [355, 405, 600],\n",
       " ('1004', 'Freestyle'): [283, 461, 494],\n",
       " ('1038', 'Freestyle'): [330, 441, 441],\n",
       " ('1022', 'Freestyle'): [213, 237, 1216],\n",
       " ('1015', 'Freestyle'): [346, 665, 1044],\n",
       " ('1007', 'Freestyle'): [1392, 1448, 1948],\n",
       " ('1051', 'Freestyle'): [11, 17, 21],\n",
       " ('1044', 'Freestyle'): [458, 481, 581],\n",
       " ('1041', 'Freestyle'): [240, 335, 352],\n",
       " ('1019', 'Freestyle'): [1084, 1468, 2208],\n",
       " ('1010', 'Freestyle'): [1321, 1393, 1618],\n",
       " ('1027', 'Freestyle'): [226, 273, 364],\n",
       " ('1040', 'Freestyle'): [250, 354, 364],\n",
       " ('1011', 'Freestyle'): [338, 359, 564],\n",
       " ('1039', 'Freestyle'): [266, 418, 809],\n",
       " ('1001', 'Freestyle'): [2974, 3050, 3213],\n",
       " ('1005', 'Freestyle'): [254, 603, 1170],\n",
       " ('1012', 'Freestyle'): [291, 508, 689],\n",
       " ('1017', 'Freestyle'): [234, 301, 739],\n",
       " ('1006', 'Freestyle'): [1271, 1450, 1567],\n",
       " ('1028', 'Freestyle'): [315, 395, 585],\n",
       " ('1037', 'Freestyle'): [55, 442, 784],\n",
       " ('1036', 'Freestyle'): [164, 316, 1054],\n",
       " ('1043', 'Freestyle'): [211, 454, 862],\n",
       " ('1020', 'Freestyle'): [994, 997, 1117],\n",
       " ('1039', 'Interaction'): [200, 280, 291],\n",
       " ('1011', 'Interaction'): [3475, 3466, 3480],\n",
       " ('1045', 'Interaction'): [34, 33, 115],\n",
       " ('1034', 'Interaction'): [119, 196, 220],\n",
       " ('1017', 'Interaction'): [3270, 3454, 3551],\n",
       " ('1006', 'Interaction'): [3260, 3276, 3281],\n",
       " ('1036', 'Interaction'): [204, 312, 418],\n",
       " ('1018', 'Interaction'): [221, 310, 436],\n",
       " ('1033', 'Interaction'): [382, 383, 391],\n",
       " ('1024', 'Interaction'): [203, 208, 301],\n",
       " ('1032', 'Interaction'): [129, 132, 208],\n",
       " ('1050', 'Interaction'): [386, 416, 498],\n",
       " ('1051', 'Interaction'): [3178, 3185, 3188],\n",
       " ('1016', 'Interaction'): [75, 188, 260],\n",
       " ('1009', 'Interaction'): [1733, 2479, 3097],\n",
       " ('1020', 'Interaction'): [321, 498, 572],\n",
       " ('1048', 'Interaction'): [122, 226, 343],\n",
       " ('1041', 'Interaction'): [101, 124, 290],\n",
       " ('1035', 'Interaction'): [195, 198, 199],\n",
       " ('1030', 'Interaction'): [117, 113, 323],\n",
       " ('1005', 'Interaction'): [110, 221, 222, 3413],\n",
       " ('1022', 'Interaction'): [189, 195, 205],\n",
       " ('1044', 'Interaction'): [67, 69, 232],\n",
       " ('1010', 'Interaction'): [231, 241, 463],\n",
       " ('1013', 'Interaction'): [3163, 3467, 3470],\n",
       " ('1012', 'Interaction'): [422, 429, 523],\n",
       " ('1040', 'Interaction'): [213, 460, 509],\n",
       " ('1003', 'Interaction'): [412, 782, 782],\n",
       " ('1001', 'Interaction'): [3178, 3205, 3290],\n",
       " ('1015', 'Interaction'): [3271, 3272, 3373],\n",
       " ('1042', 'Interaction'): [200, 212, 320],\n",
       " ('1021', 'Interaction'): [2370, 2394, 2496],\n",
       " ('1047', 'Interaction'): [186, 198, 211],\n",
       " ('1008', 'Interaction'): [151, 227, 241],\n",
       " ('1014', 'Interaction'): [197, 223, 216],\n",
       " ('1019', 'Interaction'): [967, 969, 1055],\n",
       " ('1038', 'Interaction'): [204, 213, 313],\n",
       " ('1049', 'Interaction'): [2505, 2511, 2609],\n",
       " ('1004', 'Interaction'): [3281, 3373, 3469],\n",
       " ('1023', 'Interaction'): [872, 888, 961],\n",
       " ('1043', 'Interaction'): [3265, 3268, 3269],\n",
       " ('1007', 'Interaction'): [3212, 3297, 3479],\n",
       " ('1037', 'Interaction'): [193, 194, 198],\n",
       " ('1025', 'Interaction'): [114, 188, 201],\n",
       " ('1026', 'Interaction'): [136, 225, 240],\n",
       " ('1031', 'Interaction'): [103, 116, 127],\n",
       " ('1027', 'Interaction'): [875, 894, 962],\n",
       " ('1046', 'Interaction'): [214, 205, 223]}"
      ]
     },
     "execution_count": 41,
     "metadata": {},
     "output_type": "execute_result"
    }
   ],
   "source": [
    "first"
   ]
  },
  {
   "cell_type": "code",
   "execution_count": 42,
   "id": "fifty-nebraska",
   "metadata": {},
   "outputs": [
    {
     "data": {
      "text/plain": [
       "{('1009', 'Freestyle'): (1013, 45246),\n",
       " ('1025', 'Freestyle'): (285, 32462),\n",
       " ('1021', 'Freestyle'): (264, 31871),\n",
       " ('1018', 'Freestyle'): (72, 34355),\n",
       " ('1008', 'Freestyle'): (1002, 33007),\n",
       " ('1048', 'Freestyle'): (359, 32839),\n",
       " ('1026', 'Freestyle'): (91, 31966),\n",
       " ('1024', 'Freestyle'): (170, 31799),\n",
       " ('1023', 'Freestyle'): (317, 31826),\n",
       " ('1033', 'Freestyle'): (542, 33042),\n",
       " ('1045', 'Freestyle'): (18, 32437),\n",
       " ('1034', 'Freestyle'): (139, 31980),\n",
       " ('1046', 'Freestyle'): (337, 32550),\n",
       " ('1035', 'Freestyle'): (167, 32177),\n",
       " ('1030', 'Freestyle'): (415, 32305),\n",
       " ('1031', 'Freestyle'): (641, 33247),\n",
       " ('1032', 'Freestyle'): (203, 32425),\n",
       " ('1014', 'Freestyle'): (228, 38653),\n",
       " ('1002', 'Freestyle'): (2511, 36517),\n",
       " ('1016', 'Freestyle'): (376, 32813),\n",
       " ('1042', 'Freestyle'): (281, 31702),\n",
       " ('1013', 'Freestyle'): (696, 33399),\n",
       " ('1029', 'Freestyle'): (218, 30915),\n",
       " ('1047', 'Freestyle'): (168, 30986),\n",
       " ('1050', 'Freestyle'): (702, 33815),\n",
       " ('1049', 'Freestyle'): (561, 32663),\n",
       " ('1003', 'Freestyle'): (355, 30255),\n",
       " ('1004', 'Freestyle'): (283, 33269),\n",
       " ('1038', 'Freestyle'): (330, 32337),\n",
       " ('1022', 'Freestyle'): (213, 31613),\n",
       " ('1015', 'Freestyle'): (346, 36138),\n",
       " ('1007', 'Freestyle'): (1392, 37129),\n",
       " ('1051', 'Freestyle'): (11, 32366),\n",
       " ('1044', 'Freestyle'): (458, 35591),\n",
       " ('1041', 'Freestyle'): (240, 31655),\n",
       " ('1019', 'Freestyle'): (1084, 35848),\n",
       " ('1010', 'Freestyle'): (1321, 33894),\n",
       " ('1027', 'Freestyle'): (226, 31115),\n",
       " ('1040', 'Freestyle'): (250, 31593),\n",
       " ('1011', 'Freestyle'): (338, 34771),\n",
       " ('1039', 'Freestyle'): (266, 32609),\n",
       " ('1001', 'Freestyle'): (2974, 37377),\n",
       " ('1005', 'Freestyle'): (254, 32630),\n",
       " ('1012', 'Freestyle'): (291, 34041),\n",
       " ('1017', 'Freestyle'): (234, 33006),\n",
       " ('1006', 'Freestyle'): (1271, 35437),\n",
       " ('1028', 'Freestyle'): (315, 31632),\n",
       " ('1037', 'Freestyle'): (55, 32227),\n",
       " ('1036', 'Freestyle'): (164, 32371),\n",
       " ('1043', 'Freestyle'): (211, 33188),\n",
       " ('1020', 'Freestyle'): (994, 34071),\n",
       " ('1039', 'Interaction'): (200, 29938),\n",
       " ('1011', 'Interaction'): (3466, 32136),\n",
       " ('1045', 'Interaction'): (33, 28893),\n",
       " ('1034', 'Interaction'): (119, 51184),\n",
       " ('1017', 'Interaction'): (3270, 32042),\n",
       " ('1006', 'Interaction'): (3260, 32011),\n",
       " ('1036', 'Interaction'): (204, 51180),\n",
       " ('1018', 'Interaction'): (221, 69057),\n",
       " ('1033', 'Interaction'): (382, 28857),\n",
       " ('1024', 'Interaction'): (203, 51371),\n",
       " ('1032', 'Interaction'): (129, 51135),\n",
       " ('1050', 'Interaction'): (386, 51172),\n",
       " ('1051', 'Interaction'): (3178, 31916),\n",
       " ('1016', 'Interaction'): (75, 57996),\n",
       " ('1009', 'Interaction'): (1733, 33898),\n",
       " ('1020', 'Interaction'): (321, 51162),\n",
       " ('1048', 'Interaction'): (122, 51267),\n",
       " ('1041', 'Interaction'): (101, 28804),\n",
       " ('1035', 'Interaction'): (195, 30361),\n",
       " ('1030', 'Interaction'): (113, 51509),\n",
       " ('1005', 'Interaction'): (110, 51247),\n",
       " ('1022', 'Interaction'): (189, 51178),\n",
       " ('1044', 'Interaction'): (67, 52366),\n",
       " ('1010', 'Interaction'): (231, 53276),\n",
       " ('1013', 'Interaction'): (3163, 31890),\n",
       " ('1012', 'Interaction'): (422, 51217),\n",
       " ('1040', 'Interaction'): (213, 51125),\n",
       " ('1003', 'Interaction'): (412, 51187),\n",
       " ('1001', 'Interaction'): (3178, 31947),\n",
       " ('1015', 'Interaction'): (3271, 34496),\n",
       " ('1042', 'Interaction'): (200, 51158),\n",
       " ('1021', 'Interaction'): (2370, 31186),\n",
       " ('1047', 'Interaction'): (186, 28815),\n",
       " ('1008', 'Interaction'): (151, 58899),\n",
       " ('1014', 'Interaction'): (197, 53882),\n",
       " ('1019', 'Interaction'): (967, 31862),\n",
       " ('1038', 'Interaction'): (204, 55042),\n",
       " ('1049', 'Interaction'): (2505, 31106),\n",
       " ('1004', 'Interaction'): (3281, 31920),\n",
       " ('1023', 'Interaction'): (872, 31102),\n",
       " ('1043', 'Interaction'): (3265, 31989),\n",
       " ('1007', 'Interaction'): (3212, 32151),\n",
       " ('1037', 'Interaction'): (193, 28829),\n",
       " ('1025', 'Interaction'): (114, 28918),\n",
       " ('1026', 'Interaction'): (136, 51104),\n",
       " ('1031', 'Interaction'): (103, 28907),\n",
       " ('1027', 'Interaction'): (875, 29624),\n",
       " ('1046', 'Interaction'): (205, 51139)}"
      ]
     },
     "execution_count": 42,
     "metadata": {},
     "output_type": "execute_result"
    }
   ],
   "source": [
    "first_last\n"
   ]
  },
  {
   "cell_type": "code",
   "execution_count": 43,
   "id": "instructional-parent",
   "metadata": {},
   "outputs": [
    {
     "data": {
      "text/plain": [
       "[('1003', 'Freestyle'),\n",
       " ('1003', 'Interaction'),\n",
       " ('1004', 'Freestyle'),\n",
       " ('1004', 'Interaction'),\n",
       " ('1005', 'Freestyle'),\n",
       " ('1005', 'Interaction'),\n",
       " ('1006', 'Freestyle'),\n",
       " ('1006', 'Interaction')]"
      ]
     },
     "execution_count": 43,
     "metadata": {},
     "output_type": "execute_result"
    }
   ],
   "source": [
    "from itertools import product\n",
    "my_groups = list(product('1003,1004,1005,1006,1007,1008,1009,1010,1011,1012'.split(','),['Freestyle','Interaction']))\n",
    "\n",
    "my_groups[:8]"
   ]
  },
  {
   "cell_type": "code",
   "execution_count": 44,
   "id": "sweet-creator",
   "metadata": {},
   "outputs": [
    {
     "data": {
      "text/plain": [
       "float"
      ]
     },
     "execution_count": 44,
     "metadata": {},
     "output_type": "execute_result"
    }
   ],
   "source": [
    "type(5.5//2)"
   ]
  },
  {
   "cell_type": "code",
   "execution_count": 75,
   "id": "progressive-workshop",
   "metadata": {},
   "outputs": [],
   "source": [
    "pace = lambda gr, sess, _: (sess=='Freestyle' or condition[gr]==1) and 80 or 148.45/1.35"
   ]
  },
  {
   "cell_type": "code",
   "execution_count": 80,
   "id": "coordinated-antique",
   "metadata": {},
   "outputs": [
    {
     "data": {
      "text/plain": [
       "109.96296296296295"
      ]
     },
     "execution_count": 80,
     "metadata": {},
     "output_type": "execute_result"
    }
   ],
   "source": [
    "(148.45/1.35)\n"
   ]
  },
  {
   "cell_type": "code",
   "execution_count": 76,
   "id": "linear-upset",
   "metadata": {},
   "outputs": [
    {
     "name": "stdout",
     "output_type": "stream",
     "text": [
      "'''\n",
      "1003 Freestyle 2.765 3:55.6\n",
      "1003 Interaction 2.334 4:50.0\n",
      "\n",
      "1004 Freestyle 2.204 4:19.1\n",
      "1004 Interaction 25.553 4:8.6\n",
      "\n",
      "1005 Freestyle 1.978 4:14.1\n",
      "1005 Interaction 0.623 4:50.4\n",
      "\n",
      "1006 Freestyle 9.899 4:36.0\n",
      "1006 Interaction 25.389 4:9.31\n",
      "\n",
      "1007 Freestyle 10.841 4:49.2\n",
      "1007 Interaction 25.016 4:10.4\n",
      "\n",
      "1008 Freestyle 7.804 4:17.1\n",
      "1008 Interaction 0.856 5:33.7\n",
      "\n",
      "1009 Freestyle 7.889 5:52.4\n",
      "1009 Interaction 13.497 4:24.0\n",
      "\n",
      "1010 Freestyle 10.288 4:24.0\n",
      "1010 Interaction 1.309 5:1.86\n",
      "\n",
      "1011 Freestyle 2.632 4:30.8\n",
      "1011 Interaction 26.994 4:10.3\n",
      "\n",
      "1012 Freestyle 2.266 4:25.1\n",
      "1012 Interaction 2.391 4:50.2\n",
      "\n"
     ]
    }
   ],
   "source": [
    "print(\"'''\")\n",
    "i=0\n",
    "for gr, sess in my_groups:\n",
    "    pc = pace(gr,sess,0)*1.5*1.07\n",
    "    fl = first_last[(gr,sess)]\n",
    "    print(gr, sess, round(fl[0]/pc,3), \"{}:{:02.3}\".format(int(fl[1]//(60*pc)), (fl[1]/pc)% 60))\n",
    "    i+=1\n",
    "    if i==2:\n",
    "        print()\n",
    "        i=0\n"
   ]
  },
  {
   "cell_type": "code",
   "execution_count": 58,
   "id": "built-kennedy",
   "metadata": {},
   "outputs": [
    {
     "data": {
      "text/plain": [
       "{'1001': 1,\n",
       " '1002': 2,\n",
       " '1003': 2,\n",
       " '1004': 1,\n",
       " '1005': 2,\n",
       " '1006': 1,\n",
       " '1007': 1,\n",
       " '1008': 2,\n",
       " '1009': 1,\n",
       " '1010': 2,\n",
       " '1011': 1,\n",
       " '1012': 2,\n",
       " '1013': 1,\n",
       " '1014': 2,\n",
       " '1015': 1,\n",
       " '1016': 2,\n",
       " '1017': 1,\n",
       " '1018': 2,\n",
       " '1019': 1,\n",
       " '1020': 2,\n",
       " '1021': 1,\n",
       " '1022': 2,\n",
       " '1023': 1,\n",
       " '1024': 2,\n",
       " '1025': 1,\n",
       " '1026': 2,\n",
       " '1027': 1,\n",
       " '1028': 2,\n",
       " '1029': 1,\n",
       " '1030': 2,\n",
       " '1031': 1,\n",
       " '1032': 2,\n",
       " '1033': 1,\n",
       " '1034': 2,\n",
       " '1035': 1,\n",
       " '1036': 2,\n",
       " '1037': 1,\n",
       " '1038': 2,\n",
       " '1039': 1,\n",
       " '1040': 2,\n",
       " '1041': 1,\n",
       " '1042': 2,\n",
       " '1043': 1,\n",
       " '1044': 2,\n",
       " '1045': 1,\n",
       " '1046': 2,\n",
       " '1047': 1,\n",
       " '1048': 2,\n",
       " '1049': 1,\n",
       " '1050': 2,\n",
       " '1051': 1}"
      ]
     },
     "execution_count": 58,
     "metadata": {},
     "output_type": "execute_result"
    }
   ],
   "source": [
    "condition"
   ]
  },
  {
   "cell_type": "code",
   "execution_count": 54,
   "id": "expected-cache",
   "metadata": {},
   "outputs": [
    {
     "data": {
      "text/plain": [
       "1.3771626297577855"
      ]
     },
     "execution_count": 54,
     "metadata": {},
     "output_type": "execute_result"
    }
   ],
   "source": [
    "(360+38)/(240+49)"
   ]
  },
  {
   "cell_type": "code",
   "execution_count": 14,
   "id": "indirect-isaac",
   "metadata": {},
   "outputs": [
    {
     "data": {
      "text/plain": [
       "array([5])"
      ]
     },
     "execution_count": 14,
     "metadata": {},
     "output_type": "execute_result"
    }
   ],
   "source": [
    "np.array([5.5]).astype(int)"
   ]
  },
  {
   "cell_type": "code",
   "execution_count": 33,
   "id": "forward-amsterdam",
   "metadata": {},
   "outputs": [],
   "source": [
    "groups = ['1001', '1003', '1004', '1005', '1006', '1007', '1008', '1009', '1010', '1011', '1012', '1013', '1014', '1015', '1016', '1017', '1018', '1019', '1020', '1021', '1022', '1023', '1024', '1025', '1026', '1027',  '1030', '1031', '1032', '1033', '1034', '1035', '1036', '1037', '1038', '1039', '1040', '1041', '1042', '1043', '1044', '1045', '1046', '1047', '1048', '1049', '1050', '1051']"
   ]
  },
  {
   "cell_type": "code",
   "execution_count": 45,
   "id": "ready-pricing",
   "metadata": {},
   "outputs": [],
   "source": [
    "all_inter_data = {gr: as_plotly_obj(all_ticks, gr, 'Interaction', 250) for gr in groups}"
   ]
  },
  {
   "cell_type": "code",
   "execution_count": 48,
   "id": "protective-minority",
   "metadata": {},
   "outputs": [],
   "source": [
    "all_frees_data = {gr: as_plotly_obj(all_ticks, gr, 'Freestyle', 250) for gr in groups}"
   ]
  },
  {
   "cell_type": "code",
   "execution_count": 46,
   "id": "sharing-actor",
   "metadata": {},
   "outputs": [],
   "source": [
    "import json"
   ]
  },
  {
   "cell_type": "code",
   "execution_count": 50,
   "id": "aware-wallace",
   "metadata": {},
   "outputs": [],
   "source": [
    "with open('interaction_data_by_group.json','wt') as a:\n",
    "    json.dump(all_inter_data,a)"
   ]
  },
  {
   "cell_type": "code",
   "execution_count": 49,
   "id": "mineral-willow",
   "metadata": {},
   "outputs": [],
   "source": [
    "with open('freestyle_data_by_group.json','wt') as a:\n",
    "    json.dump(all_frees_data,a)"
   ]
  },
  {
   "cell_type": "code",
   "execution_count": null,
   "id": "asian-cylinder",
   "metadata": {},
   "outputs": [],
   "source": []
  },
  {
   "cell_type": "code",
   "execution_count": 40,
   "id": "collect-pledge",
   "metadata": {},
   "outputs": [
    {
     "data": {
      "text/plain": [
       "0.14285714285714285"
      ]
     },
     "execution_count": 40,
     "metadata": {},
     "output_type": "execute_result"
    }
   ],
   "source": [
    "1/7"
   ]
  },
  {
   "cell_type": "code",
   "execution_count": 41,
   "id": "significant-channel",
   "metadata": {},
   "outputs": [
    {
     "data": {
      "text/plain": [
       "0.14"
      ]
     },
     "execution_count": 41,
     "metadata": {},
     "output_type": "execute_result"
    }
   ],
   "source": [
    "np.round(1/7,2)"
   ]
  },
  {
   "cell_type": "code",
   "execution_count": 14,
   "id": "valid-worthy",
   "metadata": {},
   "outputs": [],
   "source": [
    "lt = [all_ticks[('1008','Freestyle',i)] for i in [43,45,48]]"
   ]
  },
  {
   "cell_type": "code",
   "execution_count": 15,
   "id": "37c64ff2",
   "metadata": {},
   "outputs": [
    {
     "data": {
      "text/plain": [
       "(1089, 1086, 1002)"
      ]
     },
     "execution_count": 15,
     "metadata": {},
     "output_type": "execute_result"
    }
   ],
   "source": [
    "lt[0][0],lt[1][0],lt[2][0],"
   ]
  },
  {
   "cell_type": "code",
   "execution_count": 22,
   "id": "750fbccb",
   "metadata": {},
   "outputs": [
    {
     "data": {
      "text/plain": [
       "[<matplotlib.lines.Line2D at 0x7fb4d6ed4c50>]"
      ]
     },
     "execution_count": 22,
     "metadata": {},
     "output_type": "execute_result"
    },
    {
     "data": {
      "image/png": "[encoded data removed]",
      "text/plain": [
       "<Figure size 432x288 with 1 Axes>"
      ]
     },
     "metadata": {
      "image/png": {
       "height": 248,
       "width": 378
      },
      "needs_background": "light"
     },
     "output_type": "display_data"
    }
   ],
   "source": [
    "plt.plot(lt[0][:20], [0]*20,'+')\n",
    "plt.plot(lt[1][:20], [1]*20,'+')\n",
    "plt.plot(lt[2][:20], [2]*20,'+')"
   ]
  },
  {
   "cell_type": "code",
   "execution_count": null,
   "id": "c1208e95",
   "metadata": {},
   "outputs": [],
   "source": []
  }
 ],
 "metadata": {
  "kernelspec": {
   "display_name": "Python 3.7.4 64-bit ('base': conda)",
   "language": "python",
   "name": "python37464bitbaseconda865b03b3ea5d4f4bb8519af201560b69"
  },
  "language_info": {
   "codemirror_mode": {
    "name": "ipython",
    "version": 3
   },
   "file_extension": ".py",
   "mimetype": "text/x-python",
   "name": "python",
   "nbconvert_exporter": "python",
   "pygments_lexer": "ipython3",
   "version": "3.7.10"
  }
 },
 "nbformat": 4,
 "nbformat_minor": 5
}
