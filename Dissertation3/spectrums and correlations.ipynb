{
 "cells": [
  {
   "cell_type": "markdown",
   "metadata": {},
   "source": [
    "## purpose of this notebook\n",
    "* look at several PSDs for each of the series types\n",
    "* find some high-correlation within-group pairs and find out which frequencies contribute to the correlation\n"
   ]
  },
  {
   "cell_type": "code",
   "execution_count": 29,
   "metadata": {},
   "outputs": [],
   "source": [
    "import get_db_data as gdd\n",
    "import analyze_signal as anaz\n",
    "import numpy as np\n",
    "from importlib import reload\n",
    "reload(gdd);"
   ]
  },
  {
   "cell_type": "code",
   "execution_count": 33,
   "metadata": {},
   "outputs": [],
   "source": [
    "con = gdd.get_db_data()"
   ]
  },
  {
   "cell_type": "code",
   "execution_count": 3,
   "metadata": {},
   "outputs": [],
   "source": [
    "part = con.get_participants()"
   ]
  },
  {
   "cell_type": "code",
   "execution_count": 10,
   "metadata": {},
   "outputs": [
    {
     "data": {
      "text/plain": [
       "[(1001, 101),\n",
       " (1001, 102),\n",
       " (1001, 103),\n",
       " (1003, 108),\n",
       " (1003, 109),\n",
       " (1004, 110),\n",
       " (1004, 111),\n",
       " (1004, 112)]"
      ]
     },
     "execution_count": 10,
     "metadata": {},
     "output_type": "execute_result"
    }
   ],
   "source": [
    "con.participants[:8]"
   ]
  },
  {
   "cell_type": "code",
   "execution_count": 5,
   "metadata": {},
   "outputs": [
    {
     "data": {
      "text/plain": [
       "[(1001, 101), (1001, 102), (1001, 103), (1003, 108)]"
      ]
     },
     "execution_count": 5,
     "metadata": {},
     "output_type": "execute_result"
    }
   ],
   "source": [
    "part[:4]"
   ]
  },
  {
   "cell_type": "code",
   "execution_count": 6,
   "metadata": {},
   "outputs": [],
   "source": [
    "gr = {}\n",
    "for p in part:\n",
    "    gr[p[0]] = gr.get(p[0],[])+[p[1]]"
   ]
  },
  {
   "cell_type": "code",
   "execution_count": null,
   "metadata": {},
   "outputs": [],
   "source": []
  },
  {
   "cell_type": "code",
   "execution_count": 35,
   "metadata": {},
   "outputs": [],
   "source": [
    "grk = list(gr.keys())\n",
    "grk1 = grk[::3]\n",
    "bl_signals = dict(zip(grk1, list(con.get_signal_by_series_type_and_interp_type(grk1,1,4))))\n",
    "i_signals = dict(zip(grk1, list(con.get_signal_by_series_type_and_interp_type(grk1,2,4))))\n",
    "\n",
    "#i_signals[k] = list(con.get_signal_by_series_type_and_interp_type(k,2,4))"
   ]
  },
  {
   "cell_type": "code",
   "execution_count": null,
   "metadata": {},
   "outputs": [],
   "source": []
  },
  {
   "cell_type": "code",
   "execution_count": null,
   "metadata": {},
   "outputs": [],
   "source": []
  },
  {
   "cell_type": "code",
   "execution_count": null,
   "metadata": {},
   "outputs": [],
   "source": []
  },
  {
   "cell_type": "code",
   "execution_count": null,
   "metadata": {},
   "outputs": [],
   "source": []
  }
 ],
 "metadata": {
  "kernelspec": {
   "display_name": "Python 3.7.4 64-bit ('base': conda)",
   "language": "python",
   "name": "python37464bitbaseconda865b03b3ea5d4f4bb8519af201560b69"
  },
  "language_info": {
   "codemirror_mode": {
    "name": "ipython",
    "version": 3
   },
   "file_extension": ".py",
   "mimetype": "text/x-python",
   "name": "python",
   "nbconvert_exporter": "python",
   "pygments_lexer": "ipython3",
   "version": "3.7.4"
  }
 },
 "nbformat": 4,
 "nbformat_minor": 4
}
