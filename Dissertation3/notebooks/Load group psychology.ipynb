{
 "cells": [
  {
   "cell_type": "code",
   "execution_count": 41,
   "metadata": {},
   "outputs": [],
   "source": [
    "import pandas as pd\n",
    "import matplotlib.pyplot as plt\n",
    "import seaborn as sns\n",
    "import numpy as np\n",
    "import sqlalchemy as sql\n"
   ]
  },
  {
   "cell_type": "code",
   "execution_count": 7,
   "metadata": {},
   "outputs": [
    {
     "data": {
      "text/html": [
       "<div>\n",
       "<style scoped>\n",
       "    .dataframe tbody tr th:only-of-type {\n",
       "        vertical-align: middle;\n",
       "    }\n",
       "\n",
       "    .dataframe tbody tr th {\n",
       "        vertical-align: top;\n",
       "    }\n",
       "\n",
       "    .dataframe thead th {\n",
       "        text-align: right;\n",
       "    }\n",
       "</style>\n",
       "<table border=\"1\" class=\"dataframe\">\n",
       "  <thead>\n",
       "    <tr style=\"text-align: right;\">\n",
       "      <th></th>\n",
       "      <th>ID</th>\n",
       "      <th>Group number</th>\n",
       "      <th>condition</th>\n",
       "      <th>age</th>\n",
       "      <th>geder</th>\n",
       "      <th>trust</th>\n",
       "      <th>group_efficacy</th>\n",
       "      <th>similarity</th>\n",
       "      <th>group_identification</th>\n",
       "      <th>rapport</th>\n",
       "      <th>NewCohesion</th>\n",
       "    </tr>\n",
       "  </thead>\n",
       "  <tbody>\n",
       "    <tr>\n",
       "      <th>count</th>\n",
       "      <td>150.000000</td>\n",
       "      <td>150.000000</td>\n",
       "      <td>150.000000</td>\n",
       "      <td>149.000000</td>\n",
       "      <td>149.000000</td>\n",
       "      <td>149.000000</td>\n",
       "      <td>149.000000</td>\n",
       "      <td>149.000000</td>\n",
       "      <td>149.000000</td>\n",
       "      <td>149.000000</td>\n",
       "      <td>149.000000</td>\n",
       "    </tr>\n",
       "    <tr>\n",
       "      <th>mean</th>\n",
       "      <td>179.400000</td>\n",
       "      <td>1026.420000</td>\n",
       "      <td>0.480000</td>\n",
       "      <td>22.536913</td>\n",
       "      <td>1.791946</td>\n",
       "      <td>4.970738</td>\n",
       "      <td>4.355705</td>\n",
       "      <td>4.048322</td>\n",
       "      <td>6.257450</td>\n",
       "      <td>6.257450</td>\n",
       "      <td>4.070470</td>\n",
       "    </tr>\n",
       "    <tr>\n",
       "      <th>std</th>\n",
       "      <td>45.065798</td>\n",
       "      <td>14.609122</td>\n",
       "      <td>0.501274</td>\n",
       "      <td>2.083635</td>\n",
       "      <td>0.407284</td>\n",
       "      <td>0.941527</td>\n",
       "      <td>1.004711</td>\n",
       "      <td>0.729921</td>\n",
       "      <td>1.773268</td>\n",
       "      <td>1.773268</td>\n",
       "      <td>1.047471</td>\n",
       "    </tr>\n",
       "    <tr>\n",
       "      <th>min</th>\n",
       "      <td>101.000000</td>\n",
       "      <td>1001.000000</td>\n",
       "      <td>0.000000</td>\n",
       "      <td>18.000000</td>\n",
       "      <td>1.000000</td>\n",
       "      <td>2.110000</td>\n",
       "      <td>2.000000</td>\n",
       "      <td>1.900000</td>\n",
       "      <td>1.000000</td>\n",
       "      <td>1.000000</td>\n",
       "      <td>1.000000</td>\n",
       "    </tr>\n",
       "    <tr>\n",
       "      <th>25%</th>\n",
       "      <td>141.250000</td>\n",
       "      <td>1014.000000</td>\n",
       "      <td>0.000000</td>\n",
       "      <td>21.000000</td>\n",
       "      <td>2.000000</td>\n",
       "      <td>4.330000</td>\n",
       "      <td>3.750000</td>\n",
       "      <td>3.600000</td>\n",
       "      <td>5.000000</td>\n",
       "      <td>5.000000</td>\n",
       "      <td>3.500000</td>\n",
       "    </tr>\n",
       "    <tr>\n",
       "      <th>50%</th>\n",
       "      <td>178.500000</td>\n",
       "      <td>1026.500000</td>\n",
       "      <td>0.000000</td>\n",
       "      <td>22.000000</td>\n",
       "      <td>2.000000</td>\n",
       "      <td>4.890000</td>\n",
       "      <td>4.250000</td>\n",
       "      <td>4.000000</td>\n",
       "      <td>6.330000</td>\n",
       "      <td>6.330000</td>\n",
       "      <td>4.250000</td>\n",
       "    </tr>\n",
       "    <tr>\n",
       "      <th>75%</th>\n",
       "      <td>218.750000</td>\n",
       "      <td>1039.000000</td>\n",
       "      <td>1.000000</td>\n",
       "      <td>24.000000</td>\n",
       "      <td>2.000000</td>\n",
       "      <td>5.670000</td>\n",
       "      <td>5.000000</td>\n",
       "      <td>4.500000</td>\n",
       "      <td>7.670000</td>\n",
       "      <td>7.670000</td>\n",
       "      <td>4.750000</td>\n",
       "    </tr>\n",
       "    <tr>\n",
       "      <th>max</th>\n",
       "      <td>256.000000</td>\n",
       "      <td>1051.000000</td>\n",
       "      <td>1.000000</td>\n",
       "      <td>32.000000</td>\n",
       "      <td>2.000000</td>\n",
       "      <td>7.000000</td>\n",
       "      <td>7.000000</td>\n",
       "      <td>6.000000</td>\n",
       "      <td>9.000000</td>\n",
       "      <td>9.000000</td>\n",
       "      <td>6.000000</td>\n",
       "    </tr>\n",
       "  </tbody>\n",
       "</table>\n",
       "</div>"
      ],
      "text/plain": [
       "               ID  Group number   condition         age       geder  \\\n",
       "count  150.000000    150.000000  150.000000  149.000000  149.000000   \n",
       "mean   179.400000   1026.420000    0.480000   22.536913    1.791946   \n",
       "std     45.065798     14.609122    0.501274    2.083635    0.407284   \n",
       "min    101.000000   1001.000000    0.000000   18.000000    1.000000   \n",
       "25%    141.250000   1014.000000    0.000000   21.000000    2.000000   \n",
       "50%    178.500000   1026.500000    0.000000   22.000000    2.000000   \n",
       "75%    218.750000   1039.000000    1.000000   24.000000    2.000000   \n",
       "max    256.000000   1051.000000    1.000000   32.000000    2.000000   \n",
       "\n",
       "            trust  group_efficacy  similarity  group_identification  \\\n",
       "count  149.000000      149.000000  149.000000            149.000000   \n",
       "mean     4.970738        4.355705    4.048322              6.257450   \n",
       "std      0.941527        1.004711    0.729921              1.773268   \n",
       "min      2.110000        2.000000    1.900000              1.000000   \n",
       "25%      4.330000        3.750000    3.600000              5.000000   \n",
       "50%      4.890000        4.250000    4.000000              6.330000   \n",
       "75%      5.670000        5.000000    4.500000              7.670000   \n",
       "max      7.000000        7.000000    6.000000              9.000000   \n",
       "\n",
       "          rapport  NewCohesion  \n",
       "count  149.000000   149.000000  \n",
       "mean     6.257450     4.070470  \n",
       "std      1.773268     1.047471  \n",
       "min      1.000000     1.000000  \n",
       "25%      5.000000     3.500000  \n",
       "50%      6.330000     4.250000  \n",
       "75%      7.670000     4.750000  \n",
       "max      9.000000     6.000000  "
      ]
     },
     "execution_count": 7,
     "metadata": {},
     "output_type": "execute_result"
    }
   ],
   "source": [
    "tici = pd.read_excel(\"../data/shahar S data 4.3.2020.xlsx\")\n",
    "tici=tici.drop(columns='Unnamed: 5')\n",
    "tici.describe()"
   ]
  },
  {
   "cell_type": "code",
   "execution_count": 10,
   "metadata": {},
   "outputs": [
    {
     "data": {
      "text/plain": [
       "<matplotlib.axes._subplots.AxesSubplot at 0x7f9aab427590>"
      ]
     },
     "execution_count": 10,
     "metadata": {},
     "output_type": "execute_result"
    },
    {
     "data": {
      "image/png": "[encoded data removed]",
      "text/plain": [
       "<Figure size 432x288 with 1 Axes>"
      ]
     },
     "metadata": {
      "needs_background": "light"
     },
     "output_type": "display_data"
    }
   ],
   "source": [
    "sns.scatterplot(data=tici,x='group_efficacy', y='group_identification', hue='condition')"
   ]
  },
  {
   "cell_type": "code",
   "execution_count": 11,
   "metadata": {},
   "outputs": [
    {
     "data": {
      "text/plain": [
       "<matplotlib.axes._subplots.AxesSubplot at 0x7f9aa3729310>"
      ]
     },
     "execution_count": 11,
     "metadata": {},
     "output_type": "execute_result"
    },
    {
     "data": {
      "image/png": "[encoded data removed]",
      "text/plain": [
       "<Figure size 432x288 with 1 Axes>"
      ]
     },
     "metadata": {
      "needs_background": "light"
     },
     "output_type": "display_data"
    }
   ],
   "source": [
    "sns.scatterplot(data=tici,x='similarity', y='group_identification', hue='condition')"
   ]
  },
  {
   "cell_type": "code",
   "execution_count": 14,
   "metadata": {},
   "outputs": [
    {
     "data": {
      "text/plain": [
       "<matplotlib.axes._subplots.AxesSubplot at 0x7f9aa36b1cd0>"
      ]
     },
     "execution_count": 14,
     "metadata": {},
     "output_type": "execute_result"
    },
    {
     "data": {
      "image/png": "[encoded data removed]",
      "text/plain": [
       "<Figure size 432x288 with 1 Axes>"
      ]
     },
     "metadata": {
      "needs_background": "light"
     },
     "output_type": "display_data"
    }
   ],
   "source": [
    "sns.scatterplot(data=tici,x='group_efficacy', y='group_identification', hue='condition')"
   ]
  },
  {
   "cell_type": "code",
   "execution_count": 13,
   "metadata": {},
   "outputs": [
    {
     "data": {
      "text/plain": [
       "<matplotlib.axes._subplots.AxesSubplot at 0x7f9aa36cfb50>"
      ]
     },
     "execution_count": 13,
     "metadata": {},
     "output_type": "execute_result"
    },
    {
     "data": {
      "image/png": "[encoded data removed]",
      "text/plain": [
       "<Figure size 432x288 with 1 Axes>"
      ]
     },
     "metadata": {
      "needs_background": "light"
     },
     "output_type": "display_data"
    }
   ],
   "source": [
    "sns.scatterplot(data=tici,x='rapport', y='NewCohesion', hue='condition')"
   ]
  },
  {
   "cell_type": "code",
   "execution_count": 15,
   "metadata": {},
   "outputs": [
    {
     "data": {
      "text/plain": [
       "<matplotlib.axes._subplots.AxesSubplot at 0x7f9aa3773ad0>"
      ]
     },
     "execution_count": 15,
     "metadata": {},
     "output_type": "execute_result"
    },
    {
     "data": {
      "image/png": "[encoded data removed]",
      "text/plain": [
       "<Figure size 432x288 with 1 Axes>"
      ]
     },
     "metadata": {
      "needs_background": "light"
     },
     "output_type": "display_data"
    }
   ],
   "source": [
    "sns.scatterplot(data=tici,x='group_efficacy', y='rapport', hue='condition')"
   ]
  },
  {
   "cell_type": "code",
   "execution_count": 18,
   "metadata": {},
   "outputs": [
    {
     "data": {
      "text/plain": [
       "array([[<matplotlib.axes._subplots.AxesSubplot object at 0x7f9aa40f4d50>]],\n",
       "      dtype=object)"
      ]
     },
     "execution_count": 18,
     "metadata": {},
     "output_type": "execute_result"
    },
    {
     "data": {
      "image/png": "[encoded data removed]",
      "text/plain": [
       "<Figure size 432x288 with 1 Axes>"
      ]
     },
     "metadata": {
      "needs_background": "light"
     },
     "output_type": "display_data"
    }
   ],
   "source": [
    "tici.hist('group_efficacy',bins=50)"
   ]
  },
  {
   "cell_type": "code",
   "execution_count": 19,
   "metadata": {},
   "outputs": [
    {
     "data": {
      "text/plain": [
       "0    5.25\n",
       "1    5.50\n",
       "2    5.75\n",
       "3    3.25\n",
       "4    3.50\n",
       "Name: group_efficacy, dtype: float64"
      ]
     },
     "execution_count": 19,
     "metadata": {},
     "output_type": "execute_result"
    }
   ],
   "source": [
    "tici.group_efficacy.head()"
   ]
  },
  {
   "cell_type": "code",
   "execution_count": 23,
   "metadata": {},
   "outputs": [
    {
     "data": {
      "text/plain": [
       "0.0    5.25\n",
       "0.0    5.25\n",
       "0.0    5.25\n",
       "0.0    5.25\n",
       "0.0    5.25\n",
       "       ... \n",
       "0.0    5.25\n",
       "0.0    5.25\n",
       "0.0    5.25\n",
       "0.0    5.25\n",
       "0.0    5.25\n",
       "Name: group_efficacy, Length: 150, dtype: float64"
      ]
     },
     "execution_count": 23,
     "metadata": {},
     "output_type": "execute_result"
    }
   ],
   "source": [
    "tici.group_efficacy[np.mod(tici.group_efficacy.values*4,1)]"
   ]
  },
  {
   "cell_type": "code",
   "execution_count": 24,
   "metadata": {},
   "outputs": [
    {
     "data": {
      "text/plain": [
       "array([ 0.,  0.,  0.,  0.,  0.,  0.,  0.,  0.,  0.,  0.,  0.,  0.,  0.,\n",
       "        0.,  0.,  0.,  0.,  0.,  0.,  0.,  0.,  0.,  0.,  0.,  0.,  0.,\n",
       "        0.,  0.,  0.,  0.,  0.,  0.,  0.,  0.,  0.,  0.,  0.,  0.,  0.,\n",
       "        0.,  0.,  0.,  0.,  0.,  0.,  0.,  0.,  0.,  0.,  0.,  0.,  0.,\n",
       "        0.,  0.,  0.,  0.,  0.,  0.,  0.,  0.,  0.,  0.,  0.,  0.,  0.,\n",
       "        0.,  0.,  0.,  0.,  0.,  0.,  0.,  0.,  0.,  0.,  0.,  0.,  0.,\n",
       "        0.,  0., nan,  0.,  0.,  0.,  0.,  0.,  0.,  0.,  0.,  0.,  0.,\n",
       "        0.,  0.,  0.,  0.,  0.,  0.,  0.,  0.,  0.,  0.,  0.,  0.,  0.,\n",
       "        0.,  0.,  0.,  0.,  0.,  0.,  0.,  0.,  0.,  0.,  0.,  0.,  0.,\n",
       "        0.,  0.,  0.,  0.,  0.,  0.,  0.,  0.,  0.,  0.,  0.,  0.,  0.,\n",
       "        0.,  0.,  0.,  0.,  0.,  0.,  0.,  0.,  0.,  0.,  0.,  0.,  0.,\n",
       "        0.,  0.,  0.,  0.,  0.,  0.,  0.])"
      ]
     },
     "execution_count": 24,
     "metadata": {},
     "output_type": "execute_result"
    }
   ],
   "source": [
    "np.mod(tici.group_efficacy.values*4,1)"
   ]
  },
  {
   "cell_type": "code",
   "execution_count": 30,
   "metadata": {},
   "outputs": [
    {
     "data": {
      "text/plain": [
       "array([0, 0, 0, 0, 0, 0, 0, 0, 0, 0, 0, 0, 0, 0, 0, 0, 0, 0, 0, 0, 0, 0,\n",
       "       0, 0, 0, 0, 0, 0, 0, 0, 0, 0, 0, 0, 0, 0, 0, 0, 0, 0, 0, 0, 0, 0,\n",
       "       0, 0, 0, 0, 0, 0, 0, 0, 0, 0, 0, 0, 0, 0, 0, 0, 0, 0, 0, 0, 0, 0,\n",
       "       0, 0, 0, 0, 0, 0, 0, 2, 0, 0, 0, 0, 0, 0, 6, 0, 0, 0, 0, 0, 0, 0,\n",
       "       0, 0, 0, 0, 0, 0, 0, 0, 0, 0, 0, 0, 0, 0, 0, 0, 0, 0, 0, 0, 0, 0,\n",
       "       0, 0, 0, 0, 0, 0, 0, 0, 0, 0, 0, 0, 0, 0, 0, 0, 0, 0, 0, 0, 0, 0,\n",
       "       0, 0, 0, 0, 0, 0, 0, 0, 0, 0, 0, 0, 0, 0, 0, 0, 0, 0])"
      ]
     },
     "execution_count": 30,
     "metadata": {},
     "output_type": "execute_result"
    }
   ],
   "source": [
    "np.arange(150)[np.isnan(tici.values).sum(axis=1)]"
   ]
  },
  {
   "cell_type": "code",
   "execution_count": 35,
   "metadata": {},
   "outputs": [
    {
     "data": {
      "text/plain": [
       "array([73, 80])"
      ]
     },
     "execution_count": 35,
     "metadata": {},
     "output_type": "execute_result"
    }
   ],
   "source": [
    "a=np.arange(150)\n",
    "a[np.isnan(tici.values).sum(axis=1).astype(bool)]\n"
   ]
  },
  {
   "cell_type": "code",
   "execution_count": 36,
   "metadata": {},
   "outputs": [
    {
     "data": {
      "text/plain": [
       "ID                       177.00\n",
       "Group number            1026.00\n",
       "condition                  1.00\n",
       "age                         NaN\n",
       "geder                       NaN\n",
       "trust                      5.56\n",
       "group_efficacy             5.25\n",
       "similarity                 5.30\n",
       "group_identification       8.00\n",
       "rapport                    8.00\n",
       "NewCohesion                4.00\n",
       "Name: 73, dtype: float64"
      ]
     },
     "execution_count": 36,
     "metadata": {},
     "output_type": "execute_result"
    }
   ],
   "source": [
    "tici.iloc[73,:]"
   ]
  },
  {
   "cell_type": "code",
   "execution_count": 37,
   "metadata": {},
   "outputs": [
    {
     "data": {
      "text/plain": [
       "ID                       184.0\n",
       "Group number            1028.0\n",
       "condition                  1.0\n",
       "age                       24.0\n",
       "geder                      2.0\n",
       "trust                      NaN\n",
       "group_efficacy             NaN\n",
       "similarity                 NaN\n",
       "group_identification       NaN\n",
       "rapport                    NaN\n",
       "NewCohesion                NaN\n",
       "Name: 80, dtype: float64"
      ]
     },
     "execution_count": 37,
     "metadata": {},
     "output_type": "execute_result"
    }
   ],
   "source": [
    "tici.iloc[80,:]"
   ]
  },
  {
   "cell_type": "code",
   "execution_count": 39,
   "metadata": {},
   "outputs": [
    {
     "data": {
      "text/plain": [
       "Group number\n",
       "1001    3\n",
       "1002    3\n",
       "1003    3\n",
       "1004    3\n",
       "1006    3\n",
       "1007    3\n",
       "1008    3\n",
       "1009    3\n",
       "1010    3\n",
       "1011    3\n",
       "1012    3\n",
       "1013    3\n",
       "1014    3\n",
       "1015    3\n",
       "1016    3\n",
       "1017    3\n",
       "1018    3\n",
       "1019    3\n",
       "1020    3\n",
       "1021    3\n",
       "1022    3\n",
       "1023    3\n",
       "1024    3\n",
       "1025    3\n",
       "1026    3\n",
       "1027    3\n",
       "1028    3\n",
       "1029    3\n",
       "1030    3\n",
       "1031    3\n",
       "1032    3\n",
       "1033    3\n",
       "1034    3\n",
       "1035    3\n",
       "1036    3\n",
       "1037    3\n",
       "1038    3\n",
       "1039    3\n",
       "1040    3\n",
       "1041    3\n",
       "1042    3\n",
       "1043    3\n",
       "1044    3\n",
       "1045    3\n",
       "1046    3\n",
       "1047    3\n",
       "1048    3\n",
       "1049    3\n",
       "1050    3\n",
       "1051    3\n",
       "Name: ID, dtype: int64"
      ]
     },
     "execution_count": 39,
     "metadata": {},
     "output_type": "execute_result"
    }
   ],
   "source": [
    "tici.groupby('Group number')['ID'].count()"
   ]
  },
  {
   "cell_type": "code",
   "execution_count": 42,
   "metadata": {},
   "outputs": [],
   "source": [
    "server = \"thesis.ca6j6heoraog.eu-central-1.rds.amazonaws.com\"\n",
    "engine = sql.create_engine(f\"mysql+pymysql://admin:FphvsYQek4@{server}/thesis_db\")\n",
    "con = engine.connect()"
   ]
  },
  {
   "cell_type": "markdown",
   "metadata": {},
   "source": [
    "```sql\n",
    "CREATE TABLE \n",
    "```"
   ]
  },
  {
   "cell_type": "code",
   "execution_count": 45,
   "metadata": {},
   "outputs": [
    {
     "data": {
      "text/plain": [
       "[('correlation_data',),\n",
       " ('correlation_series',),\n",
       " ('correlation_series_groups',),\n",
       " ('group_lists',),\n",
       " ('group_series_interpolation_interval',),\n",
       " ('interpolated_interval_data',),\n",
       " ('interpolation_series',),\n",
       " ('participants',),\n",
       " ('raw_interval_data',),\n",
       " ('series_types',),\n",
       " ('tmp_b',)]"
      ]
     },
     "execution_count": 45,
     "metadata": {},
     "output_type": "execute_result"
    }
   ],
   "source": [
    "list(con.execute(\"show tables\"))"
   ]
  },
  {
   "cell_type": "code",
   "execution_count": 46,
   "metadata": {},
   "outputs": [
    {
     "data": {
      "text/plain": [
       "[('participant_id', 'int(6)', 'NO', 'PRI', None, ''),\n",
       " ('group_id', 'int(6)', 'NO', 'MUL', None, '')]"
      ]
     },
     "execution_count": 46,
     "metadata": {},
     "output_type": "execute_result"
    }
   ],
   "source": [
    "list(con.execute(\"describe participants\"))"
   ]
  },
  {
   "cell_type": "code",
   "execution_count": 47,
   "metadata": {},
   "outputs": [],
   "source": [
    "par = pd.read_sql(\"select * from participants\",con)"
   ]
  },
  {
   "cell_type": "code",
   "execution_count": 48,
   "metadata": {},
   "outputs": [
    {
     "data": {
      "text/html": [
       "<div>\n",
       "<style scoped>\n",
       "    .dataframe tbody tr th:only-of-type {\n",
       "        vertical-align: middle;\n",
       "    }\n",
       "\n",
       "    .dataframe tbody tr th {\n",
       "        vertical-align: top;\n",
       "    }\n",
       "\n",
       "    .dataframe thead th {\n",
       "        text-align: right;\n",
       "    }\n",
       "</style>\n",
       "<table border=\"1\" class=\"dataframe\">\n",
       "  <thead>\n",
       "    <tr style=\"text-align: right;\">\n",
       "      <th></th>\n",
       "      <th>participant_id</th>\n",
       "      <th>group_id</th>\n",
       "    </tr>\n",
       "  </thead>\n",
       "  <tbody>\n",
       "    <tr>\n",
       "      <th>0</th>\n",
       "      <td>101</td>\n",
       "      <td>1001</td>\n",
       "    </tr>\n",
       "    <tr>\n",
       "      <th>1</th>\n",
       "      <td>102</td>\n",
       "      <td>1001</td>\n",
       "    </tr>\n",
       "    <tr>\n",
       "      <th>2</th>\n",
       "      <td>103</td>\n",
       "      <td>1001</td>\n",
       "    </tr>\n",
       "    <tr>\n",
       "      <th>3</th>\n",
       "      <td>108</td>\n",
       "      <td>1003</td>\n",
       "    </tr>\n",
       "    <tr>\n",
       "      <th>4</th>\n",
       "      <td>109</td>\n",
       "      <td>1003</td>\n",
       "    </tr>\n",
       "  </tbody>\n",
       "</table>\n",
       "</div>"
      ],
      "text/plain": [
       "   participant_id  group_id\n",
       "0             101      1001\n",
       "1             102      1001\n",
       "2             103      1001\n",
       "3             108      1003\n",
       "4             109      1003"
      ]
     },
     "execution_count": 48,
     "metadata": {},
     "output_type": "execute_result"
    }
   ],
   "source": [
    "par.head()"
   ]
  },
  {
   "cell_type": "code",
   "execution_count": 51,
   "metadata": {},
   "outputs": [],
   "source": [
    "partici = par.merge(tici.rename(columns={'ID':'participant_id', 'Group number': 'group_id'}),how='outer')"
   ]
  },
  {
   "cell_type": "code",
   "execution_count": 53,
   "metadata": {},
   "outputs": [
    {
     "data": {
      "text/plain": [
       "(153, 150, 141)"
      ]
     },
     "execution_count": 53,
     "metadata": {},
     "output_type": "execute_result"
    }
   ],
   "source": [
    "len(partici.index), len(tici.index), len(par.index)"
   ]
  },
  {
   "cell_type": "code",
   "execution_count": 55,
   "metadata": {},
   "outputs": [],
   "source": [
    "partici = par.merge(tici,left_on=['participant_id','group_id'],right_on=['ID','Group number'],how='outer')"
   ]
  },
  {
   "cell_type": "code",
   "execution_count": 56,
   "metadata": {},
   "outputs": [
    {
     "data": {
      "text/plain": [
       "Index(['participant_id', 'group_id', 'ID', 'Group number', 'condition', 'age',\n",
       "       'geder', 'trust', 'group_efficacy', 'similarity',\n",
       "       'group_identification', 'rapport', 'NewCohesion'],\n",
       "      dtype='object')"
      ]
     },
     "execution_count": 56,
     "metadata": {},
     "output_type": "execute_result"
    }
   ],
   "source": [
    "partici.columns"
   ]
  },
  {
   "cell_type": "code",
   "execution_count": 58,
   "metadata": {},
   "outputs": [
    {
     "data": {
      "text/plain": [
       "array([104., 105., 106., 107., 143., 150., 152., 153., 154., 161., 162.,\n",
       "       163.])"
      ]
     },
     "execution_count": 58,
     "metadata": {},
     "output_type": "execute_result"
    }
   ],
   "source": [
    "partici.ID[np.isnan(partici.participant_id)].values"
   ]
  },
  {
   "cell_type": "code",
   "execution_count": 60,
   "metadata": {},
   "outputs": [
    {
     "data": {
      "text/plain": [
       "array([[ 113., 1005.],\n",
       "       [ 114., 1005.],\n",
       "       [ 115., 1005.]])"
      ]
     },
     "execution_count": 60,
     "metadata": {},
     "output_type": "execute_result"
    }
   ],
   "source": [
    "partici[['participant_id','group_id']][np.isnan(partici.ID)].values\n"
   ]
  },
  {
   "cell_type": "code",
   "execution_count": 61,
   "metadata": {},
   "outputs": [
    {
     "data": {
      "text/plain": [
       "Series([], Name: ID, dtype: int64)"
      ]
     },
     "execution_count": 61,
     "metadata": {},
     "output_type": "execute_result"
    }
   ],
   "source": [
    "tici.ID[tici['Group number']==1005]"
   ]
  },
  {
   "cell_type": "code",
   "execution_count": 64,
   "metadata": {},
   "outputs": [
    {
     "data": {
      "text/plain": [
       "Series([], Name: ID, dtype: int64)"
      ]
     },
     "execution_count": 64,
     "metadata": {},
     "output_type": "execute_result"
    }
   ],
   "source": [
    "tici.ID[tici['ID']==113]"
   ]
  },
  {
   "cell_type": "code",
   "execution_count": 62,
   "metadata": {},
   "outputs": [
    {
     "data": {
      "text/plain": [
       "[('id', 'int(6)', 'NO', 'PRI', None, 'auto_increment'),\n",
       " ('series_type_id', 'int(6)', 'NO', 'MUL', None, ''),\n",
       " ('group_id', 'int(6)', 'NO', '', None, ''),\n",
       " ('participant_id', 'int(6)', 'NO', '', None, ''),\n",
       " ('data_ordinal', 'int(6)', 'NO', '', None, ''),\n",
       " ('data_time', 'decimal(11,5)', 'YES', '', None, ''),\n",
       " ('data_time_diff', 'decimal(11,5)', 'YES', '', None, '')]"
      ]
     },
     "execution_count": 62,
     "metadata": {},
     "output_type": "execute_result"
    }
   ],
   "source": [
    "list(con.execute(\"describe raw_interval_data\"))"
   ]
  },
  {
   "cell_type": "code",
   "execution_count": 63,
   "metadata": {},
   "outputs": [
    {
     "data": {
      "text/plain": [
       "[(1001, 101),\n",
       " (1001, 102),\n",
       " (1001, 103),\n",
       " (1003, 108),\n",
       " (1003, 109),\n",
       " (1004, 110),\n",
       " (1004, 111),\n",
       " (1004, 112),\n",
       " (1005, 113),\n",
       " (1005, 114),\n",
       " (1005, 115),\n",
       " (1006, 116),\n",
       " (1006, 117),\n",
       " (1006, 118),\n",
       " (1007, 119),\n",
       " (1007, 120),\n",
       " (1007, 121),\n",
       " (1008, 122),\n",
       " (1008, 123),\n",
       " (1008, 124),\n",
       " (1009, 125),\n",
       " (1009, 126),\n",
       " (1009, 127),\n",
       " (1010, 128),\n",
       " (1010, 129),\n",
       " (1010, 130),\n",
       " (1011, 131),\n",
       " (1011, 132),\n",
       " (1011, 133),\n",
       " (1012, 134),\n",
       " (1012, 135),\n",
       " (1012, 136),\n",
       " (1013, 137),\n",
       " (1013, 138),\n",
       " (1013, 139),\n",
       " (1014, 140),\n",
       " (1014, 141),\n",
       " (1014, 142),\n",
       " (1015, 144),\n",
       " (1015, 145),\n",
       " (1016, 146),\n",
       " (1016, 147),\n",
       " (1016, 148),\n",
       " (1017, 149),\n",
       " (1017, 151),\n",
       " (1019, 155),\n",
       " (1019, 156),\n",
       " (1019, 157),\n",
       " (1020, 158),\n",
       " (1020, 159),\n",
       " (1020, 160),\n",
       " (1022, 164),\n",
       " (1022, 165),\n",
       " (1022, 166),\n",
       " (1023, 167),\n",
       " (1023, 168),\n",
       " (1023, 169),\n",
       " (1024, 170),\n",
       " (1024, 171),\n",
       " (1024, 172),\n",
       " (1025, 173),\n",
       " (1025, 174),\n",
       " (1025, 175),\n",
       " (1026, 176),\n",
       " (1026, 177),\n",
       " (1026, 178),\n",
       " (1027, 179),\n",
       " (1027, 180),\n",
       " (1027, 181),\n",
       " (1028, 182),\n",
       " (1028, 183),\n",
       " (1028, 184),\n",
       " (1029, 185),\n",
       " (1029, 186),\n",
       " (1029, 187),\n",
       " (1030, 188),\n",
       " (1030, 189),\n",
       " (1030, 190),\n",
       " (1031, 191),\n",
       " (1031, 192),\n",
       " (1031, 193),\n",
       " (1032, 194),\n",
       " (1032, 195),\n",
       " (1032, 196),\n",
       " (1033, 200),\n",
       " (1033, 201),\n",
       " (1033, 202),\n",
       " (1034, 203),\n",
       " (1034, 204),\n",
       " (1034, 205),\n",
       " (1035, 206),\n",
       " (1035, 207),\n",
       " (1035, 208),\n",
       " (1036, 209),\n",
       " (1036, 210),\n",
       " (1036, 211),\n",
       " (1037, 212),\n",
       " (1037, 213),\n",
       " (1037, 214),\n",
       " (1038, 215),\n",
       " (1038, 216),\n",
       " (1038, 217),\n",
       " (1039, 218),\n",
       " (1039, 219),\n",
       " (1039, 220),\n",
       " (1040, 221),\n",
       " (1040, 222),\n",
       " (1040, 223),\n",
       " (1041, 224),\n",
       " (1041, 225),\n",
       " (1041, 226),\n",
       " (1042, 227),\n",
       " (1042, 228),\n",
       " (1042, 229),\n",
       " (1043, 230),\n",
       " (1043, 231),\n",
       " (1043, 232),\n",
       " (1044, 233),\n",
       " (1044, 234),\n",
       " (1044, 235),\n",
       " (1045, 236),\n",
       " (1045, 237),\n",
       " (1045, 238),\n",
       " (1046, 239),\n",
       " (1046, 240),\n",
       " (1046, 241),\n",
       " (1047, 242),\n",
       " (1047, 243),\n",
       " (1047, 244),\n",
       " (1048, 245),\n",
       " (1048, 246),\n",
       " (1048, 247),\n",
       " (1049, 248),\n",
       " (1049, 249),\n",
       " (1049, 250),\n",
       " (1050, 251),\n",
       " (1050, 252),\n",
       " (1050, 253),\n",
       " (1051, 254),\n",
       " (1051, 255),\n",
       " (1051, 256)]"
      ]
     },
     "execution_count": 63,
     "metadata": {},
     "output_type": "execute_result"
    }
   ],
   "source": [
    "list(con.execute(\"select distinct group_id, participant_id from raw_interval_data\"))"
   ]
  },
  {
   "cell_type": "code",
   "execution_count": null,
   "metadata": {},
   "outputs": [],
   "source": []
  }
 ],
 "metadata": {
  "kernelspec": {
   "display_name": "Python 3.7.4 64-bit ('base': conda)",
   "language": "python",
   "name": "python37464bitbaseconda865b03b3ea5d4f4bb8519af201560b69"
  },
  "language_info": {
   "codemirror_mode": {
    "name": "ipython",
    "version": 3
   },
   "file_extension": ".py",
   "mimetype": "text/x-python",
   "name": "python",
   "nbconvert_exporter": "python",
   "pygments_lexer": "ipython3",
   "version": "3.7.7"
  }
 },
 "nbformat": 4,
 "nbformat_minor": 4
}
