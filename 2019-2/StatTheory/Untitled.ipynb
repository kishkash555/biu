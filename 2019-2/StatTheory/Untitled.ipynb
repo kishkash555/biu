{
 "cells": [
  {
   "cell_type": "code",
   "execution_count": 29,
   "metadata": {},
   "outputs": [],
   "source": [
    "import numpy as np\n",
    "import matplotlib.pyplot as plt\n",
    "from scipy.special import gamma\n",
    "from matplotlib import cm\n",
    "from mpl_toolkits.mplot3d import Axes3D\n",
    "\n",
    "def bias_mult(n):\n",
    "    return (gamma(n + 1/2)*gamma(n - 1/2))/((gamma(n))**2)\n",
    "\n",
    "def T_variance(n, theta):\n",
    "    return n*theta/((n-1)*bias_mult(n)**2) - theta / bias_mult(n)\n",
    "\n",
    "def best_special_variance(n, theta):\n",
    "    alpha_min = (n-2)/(2*n-2)\n",
    "    return 1/((n-2)*n) * (n*(theta**2)*(alpha_min**2) + (n-2)*(theta**2)*(1-2*alpha_min+alpha_min**2))\n",
    "\n",
    "def main():\n",
    "    ns = np.arange(3, 100)\n",
    "    thetas = np.linspace(3, 10, 30)\n",
    "    #diffs, _ = np.meshgrid(thetas, ns)\n",
    "    is_all_positive = True\n",
    "    is_all_negative = True\n",
    "    for i,n in enumerate(ns):\n",
    "        for j,theta in enumerate(thetas):\n",
    "            diff = T_variance(n, theta) - best_special_variance(n, theta)\n",
    "            diffs[i][j] = diff\n",
    "            if diff < 0:\n",
    "                is_all_positive = False\n",
    "            else:\n",
    "                is_all_negative = False\n",
    "    \n",
    "    \n",
    "    #print(\"Is negative? \" + str(is_all_negative) + \" Is positive? \" + str(is_all_positive))\n",
    "    #fig = plt.figure(figsize=plt.figaspect(0.5))\n",
    "    #ax = fig.add_subplot(1, 2, 1, projection='3d')\n",
    "    #ax.plot_surface(X=ns, Y=thetas, Z=diffs, cmap=cm.coolwarm, linewidth=0, antialiased=False)\n",
    "    #ax.view_init(60,45)\n",
    "    plt.imshow(diffs)\n",
    "    return diffs"
   ]
  },
  {
   "cell_type": "code",
   "execution_count": null,
   "metadata": {},
   "outputs": [],
   "source": [
    "matplotlib.__version__"
   ]
  },
  {
   "cell_type": "code",
   "execution_count": 1,
   "metadata": {},
   "outputs": [
    {
     "data": {
      "text/plain": [
       "'3.1.1'"
      ]
     },
     "execution_count": 1,
     "metadata": {},
     "output_type": "execute_result"
    }
   ],
   "source": [
    "import matplotlib as m\n",
    "m.__version__"
   ]
  },
  {
   "cell_type": "code",
   "execution_count": 30,
   "metadata": {},
   "outputs": [
    {
     "data": {
      "image/png": "[encoded data removed]",
      "text/plain": [
       "<Figure size 432x288 with 1 Axes>"
      ]
     },
     "metadata": {
      "needs_background": "light"
     },
     "output_type": "display_data"
    }
   ],
   "source": [
    "diffs = main()\n"
   ]
  },
  {
   "cell_type": "code",
   "execution_count": 19,
   "metadata": {},
   "outputs": [
    {
     "data": {
      "text/plain": [
       "0"
      ]
     },
     "execution_count": 19,
     "metadata": {},
     "output_type": "execute_result"
    }
   ],
   "source": [
    "sum(sum(np.isnan(diffs)))"
   ]
  },
  {
   "cell_type": "code",
   "execution_count": 20,
   "metadata": {},
   "outputs": [
    {
     "data": {
      "text/plain": [
       "array([[   -1,    -2,    -4, ..., -2320, -2369, -2418],\n",
       "       [    0,    -1,    -3, ..., -1546, -1578, -1611],\n",
       "       [    0,    -1,    -2, ..., -1159, -1183, -1208],\n",
       "       ...,\n",
       "       [    0,     0,     0, ...,   -48,   -49,   -50],\n",
       "       [    0,     0,     0, ...,   -47,   -48,   -49],\n",
       "       [    0,     0,     0, ...,   -47,   -48,   -49]])"
      ]
     },
     "execution_count": 20,
     "metadata": {},
     "output_type": "execute_result"
    }
   ],
   "source": [
    "diffs"
   ]
  },
  {
   "cell_type": "code",
   "execution_count": null,
   "metadata": {},
   "outputs": [],
   "source": []
  }
 ],
 "metadata": {
  "kernelspec": {
   "display_name": "Python 3",
   "language": "python",
   "name": "python3"
  },
  "language_info": {
   "codemirror_mode": {
    "name": "ipython",
    "version": 3
   },
   "file_extension": ".py",
   "mimetype": "text/x-python",
   "name": "python",
   "nbconvert_exporter": "python",
   "pygments_lexer": "ipython3",
   "version": "3.7.3"
  }
 },
 "nbformat": 4,
 "nbformat_minor": 2
}
