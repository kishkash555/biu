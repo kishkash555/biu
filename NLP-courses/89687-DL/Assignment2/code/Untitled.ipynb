{
 "cells": [
  {
   "cell_type": "code",
   "execution_count": 31,
   "metadata": {},
   "outputs": [],
   "source": [
    "import matplotlib.pyplot as plt\n",
    "%matplotlib inline\n",
    "import numpy as np"
   ]
  },
  {
   "cell_type": "code",
   "execution_count": 42,
   "metadata": {},
   "outputs": [
    {
     "name": "stdout",
     "output_type": "stream",
     "text": [
      "['./WordBindings.py 0.18 15 1 0.02\\n', 'iterations\\taccuracy\\tavg_loss\\tsecs_per_1000\\n', '20000\\t0.339881436708\\t0.625134993901\\t0.2109375\\n', '40000\\t0.457747297454\\t0.561557215865\\t0.22890625\\n', '60000\\t0.573520864815\\t0.523037654252\\t0.2234375\\n']\n",
      "['./WordBindings.py 0.15 400 1\\n', 'iterations\\taccuracy\\tavg_loss\\tsecs_per_1000\\n', '20000\\t0.849944663701\\t0.900889198869\\t0.3703125\\n', '40000\\t0.882979389839\\t0.69221594273\\t0.67265625\\n', '60000\\t0.897366827455\\t0.601803308665\\t0.5609375\\n']\n"
     ]
    }
   ],
   "source": [
    "# ner best run in part 1\n",
    "ner_data = open('telem565047.txt','rt')\n",
    "ner_list = list(ner_data)\n",
    "print(ner_list[:5])\n",
    "ner_data.close()\n",
    "\n",
    "pos_data = open('telem713357.txt','rt')\n",
    "pos_list = list(pos_data)\n",
    "print(pos_list[:5])\n",
    "pos_data.close()\n",
    "\n"
   ]
  },
  {
   "cell_type": "code",
   "execution_count": 92,
   "metadata": {},
   "outputs": [
    {
     "name": "stdout",
     "output_type": "stream",
     "text": [
      "['WordBindings.py 0.15 15 1 ner 0.0 True False\\n', 'iterations\\taccuracy\\tavg_loss\\tsecs_per_1000\\n', '20000\\t0.442696876375\\t0.367883288699\\t0.075\\n', '40000\\t0.565348189415\\t0.29695161836\\t0.19609375\\n', '60000\\t0.574233825199\\t0.261298171352\\t0.1671875\\n']\n",
      "['WordBindings.py 0.15 400 1 pos 0.0 True False\\n', 'iterations\\taccuracy\\tavg_loss\\tsecs_per_1000\\n', '20000\\t0.839044456973\\t0.899896555381\\t0.41796875\\n', '40000\\t0.878260143248\\t0.705654710317\\t0.7296875\\n', '60000\\t0.893900478189\\t0.619120419067\\t0.6078125\\n']\n"
     ]
    }
   ],
   "source": [
    "# ner best run in part 3\n",
    "ner_data = open('telem300392.txt','rt')\n",
    "ner_list = list(ner_data)\n",
    "print(ner_list[:5])\n",
    "ner_data.close()\n",
    "\n",
    "pos_data = open('telem564255.txt','rt')\n",
    "pos_list = list(pos_data)\n",
    "print(pos_list[:5])\n",
    "pos_data.close()\n",
    "\n"
   ]
  },
  {
   "cell_type": "code",
   "execution_count": 112,
   "metadata": {},
   "outputs": [
    {
     "name": "stdout",
     "output_type": "stream",
     "text": [
      "['WordBindings.py 0.15 15 1 ner 0.0 False True\\n', 'iterations\\taccuracy\\tavg_loss\\tsecs_per_1000\\n', '20000\\t0.160175155566\\t0.50083501628\\t0.2984375\\n', '40000\\t0.350824587706\\t0.45781360736\\t0.21953125\\n', '60000\\t0.349480203495\\t0.432532634273\\t0.19375\\n']\n",
      "['WordBindings.py 0.15 15 1 pos 0.0 False True\\n', 'iterations\\taccuracy\\tavg_loss\\tsecs_per_1000\\n', '20000\\t0.735701309278\\t1.37379860436\\t0.9359375\\n', '40000\\t0.79473365491\\t1.16925883602\\t0.23671875\\n', '60000\\t0.824427321514\\t1.060502984\\t0.1875\\n']\n"
     ]
    }
   ],
   "source": [
    "# ner best run in part 4 - prefix/suffix only\n",
    "ner_data = open('telem402251.txt','rt')\n",
    "ner_list = list(ner_data)\n",
    "print(ner_list[:5])\n",
    "ner_data.close()\n",
    "\n",
    "pos_data = open('telem460917.txt','rt')\n",
    "pos_list = list(pos_data)\n",
    "print(pos_list[:5])\n",
    "pos_data.close()\n",
    "\n"
   ]
  },
  {
   "cell_type": "code",
   "execution_count": 118,
   "metadata": {},
   "outputs": [
    {
     "name": "stdout",
     "output_type": "stream",
     "text": [
      "['WordBindings.py 0.15 15 1 ner 0.0 True True\\n', 'iterations\\taccuracy\\tavg_loss\\tsecs_per_1000\\n', '20000\\t0.147777651472\\t0.503842906317\\t0.303125\\n', '40000\\t0.355304648561\\t0.46529595936\\t0.2203125\\n', '60000\\t0.369928400955\\t0.440847526828\\t0.18203125\\n']\n",
      "['./WordBindings.py 0.18 300 1 pos 0.0 True True\\n', 'iterations\\taccuracy\\tavg_loss\\tsecs_per_1000\\n', '20000\\t0.773413518762\\t1.27571998622\\t1.215625\\n', '40000\\t0.831547954645\\t1.06019991427\\t0.590625\\n', '60000\\t0.870638351187\\t0.949086060289\\t0.51015625\\n']\n"
     ]
    }
   ],
   "source": [
    "# ner best run in part 4 - prefix/suffix plus embeddings\n",
    "ner_data = open('telem267946.txt','rt')\n",
    "ner_list = list(ner_data)\n",
    "print(ner_list[:5])\n",
    "ner_data.close()\n",
    "\n",
    "pos_data = open('telem157425.txt','rt')\n",
    "pos_list = list(pos_data)\n",
    "print(pos_list[:5])\n",
    "pos_data.close()\n",
    "\n"
   ]
  },
  {
   "cell_type": "code",
   "execution_count": 120,
   "metadata": {},
   "outputs": [],
   "source": [
    "from collections import namedtuple\n",
    "tele_tuple = namedtuple('tele',['iterations','accuracy','avg_loss','secs_per_1000'])\n",
    "\n",
    "ner_tuples = [tele_tuple(*map(float,row.split('\\t'))) for row in ner_list[2:]]\n",
    "\n",
    "pos_tuples = [tele_tuple(*map(float,row.split('\\t'))) for row in pos_list[2:]]\n"
   ]
  },
  {
   "cell_type": "code",
   "execution_count": 107,
   "metadata": {},
   "outputs": [
    {
     "data": {
      "text/plain": [
       "[tele(iterations=20000.0, accuracy=0.839044456973, avg_loss=0.899896555381, secs_per_1000=0.41796875),\n",
       " tele(iterations=40000.0, accuracy=0.878260143248, avg_loss=0.705654710317, secs_per_1000=0.7296875),\n",
       " tele(iterations=60000.0, accuracy=0.893900478189, avg_loss=0.619120419067, secs_per_1000=0.6078125),\n",
       " tele(iterations=80000.0, accuracy=0.889410929441, avg_loss=0.567995560963, secs_per_1000=0.60390625)]"
      ]
     },
     "execution_count": 107,
     "metadata": {},
     "output_type": "execute_result"
    }
   ],
   "source": [
    "pos_tuples[:4]"
   ]
  },
  {
   "cell_type": "code",
   "execution_count": 108,
   "metadata": {},
   "outputs": [],
   "source": [
    "# graph ner data\n",
    "ner_x = np.array([t.iterations for t in ner_tuples])\n",
    "ner_acc = np.array([t.accuracy for t in ner_tuples])\n",
    "ner_loss = np.array([t.avg_loss for t in ner_tuples])\n",
    "\n",
    "\n",
    "incr = 0\n",
    "curr_val = [ner_x[0]]\n",
    "for i in range(0,ner_x.shape[0]-1):\n",
    "    curr_val.append(ner_x[i+1])\n",
    "    if curr_val[1] < curr_val[0]:\n",
    "        incr = incr+220000\n",
    "    ner_x[i+1] = ner_x[i+1] + incr\n",
    "    curr_val.pop(0)"
   ]
  },
  {
   "cell_type": "code",
   "execution_count": 121,
   "metadata": {},
   "outputs": [],
   "source": [
    "# graph pos data\n",
    "pos_x = np.array([t.iterations for t in pos_tuples])\n",
    "pos_acc = np.array([t.accuracy for t in pos_tuples])\n",
    "pos_loss = np.array([t.avg_loss for t in pos_tuples])\n",
    "\n",
    "incr = 0\n",
    "curr_val = [pos_x[0]]\n",
    "for i in range(0,pos_x.shape[0]-1):\n",
    "    curr_val.append(pos_x[i+1])\n",
    "    if curr_val[1] < curr_val[0]:\n",
    "        incr = incr+920000\n",
    "    pos_x[i+1] = pos_x[i+1] + incr\n",
    "    curr_val.pop(0)"
   ]
  },
  {
   "cell_type": "code",
   "execution_count": 109,
   "metadata": {},
   "outputs": [
    {
     "data": {
      "text/plain": [
       "Text(0, 0.5, '% correct label')"
      ]
     },
     "execution_count": 109,
     "metadata": {},
     "output_type": "execute_result"
    },
    {
     "data": {
      "image/png": "[encoded data removed]",
      "text/plain": [
       "<Figure size 432x288 with 1 Axes>"
      ]
     },
     "metadata": {
      "needs_background": "light"
     },
     "output_type": "display_data"
    }
   ],
   "source": [
    "fig = plt.figure()\n",
    "plt.plot(ner_x/1000, 100*ner_acc)\n",
    "plt.title(\"NER best run Accuracy\")\n",
    "plt.xlabel(\"Iterations [Thousands]\")\n",
    "plt.ylabel(\"% correct label\")\n"
   ]
  },
  {
   "cell_type": "code",
   "execution_count": 110,
   "metadata": {},
   "outputs": [
    {
     "data": {
      "text/plain": [
       "Text(0, 0.5, 'Avg. Negative Log-Loss')"
      ]
     },
     "execution_count": 110,
     "metadata": {},
     "output_type": "execute_result"
    },
    {
     "data": {
      "image/png": "[encoded data removed]",
      "text/plain": [
       "<Figure size 432x288 with 1 Axes>"
      ]
     },
     "metadata": {
      "needs_background": "light"
     },
     "output_type": "display_data"
    }
   ],
   "source": [
    "fig = plt.figure()\n",
    "plt.plot(ner_x/1000, ner_loss)\n",
    "plt.title(\"NER best run Loss\")\n",
    "plt.xlabel(\"Iterations [Thousands]\")\n",
    "plt.ylabel(\"Avg. Negative Log-Loss\")\n"
   ]
  },
  {
   "cell_type": "code",
   "execution_count": 122,
   "metadata": {},
   "outputs": [
    {
     "data": {
      "text/plain": [
       "Text(0, 0.5, '% correct label')"
      ]
     },
     "execution_count": 122,
     "metadata": {},
     "output_type": "execute_result"
    },
    {
     "data": {
      "image/png": "[encoded data removed]",
      "text/plain": [
       "<Figure size 432x288 with 1 Axes>"
      ]
     },
     "metadata": {
      "needs_background": "light"
     },
     "output_type": "display_data"
    }
   ],
   "source": [
    "fig = plt.figure()\n",
    "plt.plot(pos_x/1e3, 100*pos_acc)\n",
    "plt.title(\"POS best run Accuracy\")\n",
    "plt.xlabel(\"Iterations [Thousands]\")\n",
    "plt.ylabel(\"% correct label\")\n"
   ]
  },
  {
   "cell_type": "code",
   "execution_count": 124,
   "metadata": {},
   "outputs": [
    {
     "data": {
      "text/plain": [
       "Text(0, 0.5, 'Avg. Negative Log-Loss')"
      ]
     },
     "execution_count": 124,
     "metadata": {},
     "output_type": "execute_result"
    },
    {
     "data": {
      "image/png": "[encoded data removed]",
      "text/plain": [
       "<Figure size 432x288 with 1 Axes>"
      ]
     },
     "metadata": {
      "needs_background": "light"
     },
     "output_type": "display_data"
    }
   ],
   "source": [
    "fig = plt.figure()\n",
    "plt.plot(pos_x/1e3, 100*pos_loss)\n",
    "plt.title(\"POS best run Loss\")\n",
    "plt.xlabel(\"Iterations [Thousands]\")\n",
    "plt.ylabel(\"Avg. Negative Log-Loss\")\n"
   ]
  },
  {
   "cell_type": "code",
   "execution_count": 26,
   "metadata": {},
   "outputs": [
    {
     "data": {
      "text/plain": [
       "'3.0.0'"
      ]
     },
     "execution_count": 26,
     "metadata": {},
     "output_type": "execute_result"
    }
   ],
   "source": [
    "from matplotlib import __version__\n",
    "__version__"
   ]
  },
  {
   "cell_type": "code",
   "execution_count": 85,
   "metadata": {},
   "outputs": [
    {
     "data": {
      "text/plain": [
       "array([20000., 20000., 20000., 20000., 20000., 20000., 20000., 20000.,\n",
       "       20000., 20000., 20000., 20000., 20000., 20000., 20000., 20000.,\n",
       "       20000., 20000., 20000., 20000., 20000., 20000., 20000., 20000.,\n",
       "       20000., 20000., 20000., 20000., 20000., 20000., 20000., 20000.,\n",
       "       20000., 20000., 20000., 20000., 20000., 20000., 20000., 20000.,\n",
       "       20000., 20000., 20000., 20000., 40000., 20000., 20000., 20000.,\n",
       "       20000., 20000., 20000., 20000., 20000., 20000., 20000., 20000.,\n",
       "       20000., 20000., 20000., 20000., 20000., 20000., 20000., 20000.,\n",
       "       20000., 20000., 20000., 20000., 20000., 20000., 20000., 20000.,\n",
       "       20000., 20000., 20000., 20000., 20000., 20000., 20000., 20000.,\n",
       "       20000., 20000., 20000., 20000., 20000., 20000., 20000., 20000.,\n",
       "       20000., 40000., 20000., 20000., 20000., 20000., 20000., 20000.,\n",
       "       20000., 20000., 20000., 20000., 20000., 20000., 20000., 20000.,\n",
       "       20000., 20000., 20000., 20000., 20000., 20000., 20000., 20000.,\n",
       "       20000., 20000., 20000., 20000., 20000., 20000., 20000., 20000.,\n",
       "       20000., 20000., 20000., 20000., 20000., 20000., 20000., 20000.,\n",
       "       20000., 20000., 20000., 20000., 20000., 20000., 40000., 20000.,\n",
       "       20000., 20000., 20000., 20000., 20000., 20000., 20000., 20000.,\n",
       "       20000., 20000., 20000., 20000., 20000., 20000., 20000., 20000.,\n",
       "       20000., 20000., 20000., 20000., 20000., 20000., 20000., 20000.,\n",
       "       20000., 20000., 20000., 20000., 20000., 20000., 20000., 20000.,\n",
       "       20000., 20000., 20000., 20000., 20000., 20000., 20000., 20000.,\n",
       "       20000., 20000., 20000., 40000., 20000., 20000., 20000., 20000.,\n",
       "       20000., 20000., 20000., 20000., 20000., 20000., 20000., 20000.,\n",
       "       20000., 20000., 20000., 20000., 20000., 20000., 20000., 20000.,\n",
       "       20000., 20000., 20000., 20000., 20000., 20000., 20000., 20000.,\n",
       "       20000., 20000., 20000., 20000., 20000., 20000., 20000., 20000.,\n",
       "       20000., 20000., 20000., 20000., 20000., 20000., 20000., 20000.,\n",
       "       40000., 20000., 20000., 20000., 20000., 20000., 20000., 20000.,\n",
       "       20000., 20000., 20000., 20000., 20000., 20000., 20000., 20000.,\n",
       "       20000., 20000., 20000., 20000., 20000., 20000., 20000., 20000.,\n",
       "       20000., 20000., 20000., 20000., 20000., 20000., 20000., 20000.,\n",
       "       20000., 20000., 20000., 20000., 20000., 20000., 20000., 20000.,\n",
       "       20000., 20000., 20000., 20000., 20000., 40000., 20000., 20000.,\n",
       "       20000., 20000., 20000., 20000., 20000., 20000., 20000., 20000.,\n",
       "       20000., 20000., 20000., 20000., 20000., 20000., 20000., 20000.,\n",
       "       20000., 20000., 20000., 20000., 20000., 20000., 20000., 20000.,\n",
       "       20000., 20000., 20000., 20000., 20000., 20000., 20000., 20000.,\n",
       "       20000., 20000., 20000., 20000., 20000., 20000., 20000., 20000.,\n",
       "       20000., 20000., 40000., 20000., 20000., 20000., 20000., 20000.,\n",
       "       20000., 20000., 20000., 20000., 20000., 20000., 20000., 20000.,\n",
       "       20000., 20000., 20000., 20000., 20000., 20000., 20000., 20000.,\n",
       "       20000., 20000., 20000., 20000., 20000., 20000., 20000., 20000.,\n",
       "       20000., 20000., 20000., 20000., 20000., 20000., 20000., 20000.,\n",
       "       20000., 20000., 20000., 20000., 20000., 20000., 20000., 40000.,\n",
       "       20000., 20000., 20000., 20000., 20000., 20000., 20000., 20000.,\n",
       "       20000., 20000., 20000., 20000., 20000., 20000., 20000., 20000.,\n",
       "       20000., 20000., 20000., 20000., 20000., 20000., 20000., 20000.,\n",
       "       20000., 20000., 20000., 20000., 20000., 20000., 20000., 20000.,\n",
       "       20000., 20000., 20000., 20000., 20000., 20000., 20000., 20000.,\n",
       "       20000., 20000., 20000., 20000., 40000., 20000., 20000., 20000.,\n",
       "       20000., 20000., 20000., 20000., 20000., 20000., 20000., 20000.,\n",
       "       20000., 20000., 20000., 20000., 20000., 20000., 20000., 20000.,\n",
       "       20000., 20000., 20000., 20000., 20000., 20000., 20000., 20000.,\n",
       "       20000., 20000., 20000., 20000., 20000., 20000., 20000., 20000.,\n",
       "       20000., 20000., 20000., 20000., 20000., 20000., 20000., 20000.,\n",
       "       20000.])"
      ]
     },
     "execution_count": 85,
     "metadata": {},
     "output_type": "execute_result"
    }
   ],
   "source": [
    "np.diff(pos_x)\n"
   ]
  },
  {
   "cell_type": "code",
   "execution_count": null,
   "metadata": {},
   "outputs": [],
   "source": []
  }
 ],
 "metadata": {
  "kernelspec": {
   "display_name": "bari_env",
   "language": "python",
   "name": "bari_env"
  },
  "language_info": {
   "codemirror_mode": {
    "name": "ipython",
    "version": 3
   },
   "file_extension": ".py",
   "mimetype": "text/x-python",
   "name": "python",
   "nbconvert_exporter": "python",
   "pygments_lexer": "ipython3",
   "version": "3.6.6"
  }
 },
 "nbformat": 4,
 "nbformat_minor": 2
}
