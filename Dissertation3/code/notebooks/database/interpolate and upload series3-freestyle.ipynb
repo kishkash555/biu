{
 "cells": [
  {
   "cell_type": "code",
   "execution_count": 1,
   "metadata": {},
   "outputs": [],
   "source": [
    "import sqlalchemy as sql\n",
    "import pandas as pd\n",
    "import glob\n",
    "from os import path, sep\n",
    "import numpy as np\n",
    "import matplotlib.pyplot as plt\n",
    "from numpy.fft import fft, fftshift\n",
    "from scipy.signal import oaconvolve\n",
    "from scipy.signal import remez\n",
    "import time\n",
    "import decimate as d\n",
    "from importlib import reload\n",
    "reload(d);"
   ]
  },
  {
   "cell_type": "code",
   "execution_count": 2,
   "metadata": {},
   "outputs": [
    {
     "data": {
      "text/plain": [
       "7912.382542937"
      ]
     },
     "execution_count": 2,
     "metadata": {},
     "output_type": "execute_result"
    }
   ],
   "source": [
    "time.perf_counter()"
   ]
  },
  {
   "cell_type": "code",
   "execution_count": 3,
   "metadata": {},
   "outputs": [],
   "source": [
    "f3 = remez(4000,[0., 0.5, 1., 250.],[1.,0.],fs=500)\n"
   ]
  },
  {
   "cell_type": "code",
   "execution_count": 4,
   "metadata": {},
   "outputs": [],
   "source": [
    "server = \"thesis.ca6j6heoraog.eu-central-1.rds.amazonaws.com\"\n",
    "engine = sql.create_engine(f\"mysql+pymysql://admin:FphvsYQek4@{server}/thesis_db\")"
   ]
  },
  {
   "cell_type": "code",
   "execution_count": 5,
   "metadata": {},
   "outputs": [],
   "source": [
    "con = engine.connect()"
   ]
  },
  {
   "cell_type": "markdown",
   "metadata": {},
   "source": [
    "```SQL\n",
    "create table interpolation_types (\n",
    "\tid int(11) NOT NULL PRIMARY KEY AUTO_INCREMENT,\n",
    "    interp_algo varchar(45),\n",
    "    algo_version varchar(20),\n",
    "    notebook_name varchar(45),\n",
    "    sampling_rate float(6,4)\n",
    "    )\n",
    "```"
   ]
  },
  {
   "cell_type": "raw",
   "metadata": {},
   "source": [
    "\n",
    "stmnt =\"\"\"\n",
    "INSERT IGNORE INTO interpolation_series\n",
    "values \n",
    "    (1, \"legacy\", \"\", NULL, 0.5),\n",
    "    (2, \"piecewise\", \"ec31c78\", \"interpolate and upload\", 0.25),\n",
    "    (3, \"piecewise\", \"716f804\", \"interpolate and upload\", 0.25)\n",
    "\"\"\"\n",
    "\n",
    "con.execute(stmnt)"
   ]
  },
  {
   "cell_type": "code",
   "execution_count": 12,
   "metadata": {},
   "outputs": [],
   "source": [
    "stmnt = \"\"\"\n",
    "SELECT DISTINCT series_type_id, group_id, participant_id\n",
    "FROM raw_interval_data\n",
    "\"\"\"\n",
    "\n",
    "raw_series = con.execute(stmnt)"
   ]
  },
  {
   "cell_type": "code",
   "execution_count": 7,
   "metadata": {},
   "outputs": [
    {
     "data": {
      "text/plain": [
       "<sqlalchemy.engine.result.ResultProxy at 0x7f53bb9b6410>"
      ]
     },
     "execution_count": 7,
     "metadata": {},
     "output_type": "execute_result"
    }
   ],
   "source": [
    "raw_series"
   ]
  },
  {
   "cell_type": "code",
   "execution_count": null,
   "metadata": {},
   "outputs": [],
   "source": []
  },
  {
   "cell_type": "code",
   "execution_count": 9,
   "metadata": {},
   "outputs": [],
   "source": [
    "get_series = sql.text(\"\"\"\n",
    "SELECT data_time\n",
    "FROM raw_interval_data\n",
    "WHERE series_type_id = :sti\n",
    "AND group_id = :gi\n",
    "AND participant_id = :pi\"\"\")"
   ]
  },
  {
   "cell_type": "code",
   "execution_count": 13,
   "metadata": {},
   "outputs": [
    {
     "name": "stdout",
     "output_type": "stream",
     "text": [
      "4 1001 101 0.0\n",
      "4 1001 102 0.38\n",
      "4 1001 103 0.74\n",
      "4 1003 108 1.12\n",
      "4 1003 109 1.44\n",
      "4 1004 110 1.79\n",
      "4 1004 111 2.15\n",
      "4 1004 112 2.5\n",
      "4 1005 113 2.86\n",
      "4 1005 114 3.22\n",
      "4 1005 115 3.53\n",
      "4 1006 116 3.88\n",
      "4 1006 117 4.24\n",
      "4 1006 118 4.6\n",
      "4 1007 119 5.02\n",
      "4 1007 120 5.39\n",
      "4 1007 121 5.76\n",
      "4 1008 122 6.11\n",
      "4 1008 123 6.44\n",
      "4 1008 124 6.8\n",
      "4 1009 125 7.17\n",
      "4 1009 126 7.53\n",
      "4 1009 127 7.89\n",
      "4 1010 128 8.29\n",
      "4 1010 129 8.62\n",
      "4 1010 130 8.96\n",
      "4 1011 131 9.31\n",
      "4 1011 132 9.64\n",
      "4 1011 133 9.99\n",
      "4 1012 134 10.33\n",
      "4 1012 135 10.66\n",
      "4 1012 136 11.01\n",
      "4 1013 137 11.35\n",
      "4 1013 138 11.69\n",
      "4 1013 139 12.07\n",
      "4 1014 140 12.43\n",
      "4 1014 141 12.76\n",
      "4 1014 142 13.12\n",
      "4 1015 144 13.48\n",
      "4 1015 145 13.82\n",
      "4 1016 146 14.18\n",
      "4 1016 147 14.55\n",
      "4 1016 148 14.88\n",
      "4 1017 149 15.26\n",
      "4 1017 151 15.59\n",
      "4 1019 155 15.92\n",
      "4 1019 156 16.28\n",
      "4 1019 157 16.62\n",
      "4 1020 158 16.96\n",
      "4 1020 159 17.32\n",
      "4 1020 160 17.65\n",
      "4 1022 164 17.98\n",
      "4 1022 165 18.31\n",
      "4 1022 166 18.72\n",
      "4 1023 167 19.06\n",
      "4 1023 169 19.43\n",
      "4 1024 170 19.78\n",
      "4 1024 171 20.14\n",
      "4 1024 172 20.5\n",
      "4 1025 173 20.86\n",
      "4 1025 174 21.19\n",
      "4 1025 175 21.55\n",
      "4 1026 176 21.91\n",
      "4 1026 177 22.29\n",
      "4 1026 178 22.64\n",
      "4 1027 179 22.97\n",
      "4 1027 180 23.32\n",
      "4 1027 181 23.68\n",
      "4 1028 182 24.01\n",
      "4 1028 183 24.36\n",
      "4 1028 184 24.69\n",
      "4 1029 185 25.03\n",
      "4 1029 186 25.35\n",
      "4 1029 187 25.71\n",
      "4 1030 188 26.11\n",
      "4 1030 189 26.47\n",
      "4 1030 190 26.82\n",
      "4 1031 191 27.16\n",
      "4 1031 192 27.52\n",
      "4 1031 193 27.87\n",
      "4 1032 194 28.24\n",
      "4 1032 195 28.59\n",
      "4 1032 196 28.94\n",
      "4 1033 200 29.26\n",
      "4 1033 201 29.64\n",
      "4 1033 202 30.0\n",
      "4 1034 203 30.36\n",
      "4 1034 204 30.72\n",
      "4 1034 205 31.07\n",
      "4 1035 206 31.4\n",
      "4 1035 207 31.73\n",
      "4 1035 208 32.06\n",
      "4 1036 209 32.42\n",
      "4 1036 210 32.77\n",
      "4 1036 211 33.17\n",
      "4 1037 212 33.53\n",
      "4 1037 213 33.9\n",
      "4 1037 214 34.26\n",
      "4 1038 215 34.59\n",
      "4 1038 216 34.93\n",
      "4 1038 217 35.29\n",
      "4 1039 218 35.63\n",
      "4 1039 219 35.98\n",
      "4 1039 220 36.33\n",
      "4 1040 221 36.74\n",
      "4 1040 222 37.07\n",
      "4 1040 223 37.4\n",
      "4 1041 224 37.73\n",
      "4 1041 225 38.07\n",
      "4 1041 226 38.39\n",
      "4 1042 227 38.72\n",
      "4 1042 228 39.08\n",
      "4 1042 229 39.41\n",
      "4 1043 230 39.76\n",
      "4 1043 231 40.13\n",
      "4 1043 232 40.49\n",
      "4 1044 233 40.82\n",
      "4 1044 234 41.16\n",
      "4 1044 235 41.53\n",
      "4 1045 236 41.9\n",
      "4 1045 237 42.26\n",
      "4 1045 238 42.59\n",
      "4 1046 239 42.91\n",
      "4 1046 240 43.27\n",
      "4 1046 241 43.67\n",
      "4 1047 242 44.03\n",
      "4 1047 243 44.39\n",
      "4 1047 244 44.74\n",
      "4 1048 245 45.08\n",
      "4 1048 246 45.43\n",
      "4 1048 247 45.77\n",
      "4 1049 248 46.12\n",
      "4 1049 249 46.47\n",
      "4 1049 250 46.83\n",
      "4 1050 251 47.23\n",
      "4 1050 252 47.59\n",
      "4 1050 253 47.94\n",
      "4 1051 254 48.28\n",
      "4 1051 255 48.63\n",
      "4 1051 256 48.97\n"
     ]
    }
   ],
   "source": [
    "tref = time.perf_counter()\n",
    "for series_type_id, group_id, participant_id in raw_series:\n",
    "    if series_type_id != 4:\n",
    "        continue\n",
    "    print(series_type_id, group_id, participant_id, np.around(time.perf_counter()-tref,2) ) \n",
    "    q = con.execute(get_series, sti=series_type_id, gi= group_id, pi=participant_id)\n",
    "    t = np.array(q.fetchall()).astype(float).squeeze()\n",
    "    x = t[:-1] # don't use the point which marks the end of the experiment\n",
    "    y = np.diff(t)\n",
    "    x_pw = np.arange(0,t[-1],0.5)\n",
    "    y_pw = d.pw_constant_convolve(x, y, t[-1], f3, 4, 3, x_pw)\n",
    "    nx = len(x_pw)\n",
    "    interpolated_data = pd.DataFrame({\n",
    "        'series_type_id': [series_type_id]*nx,\n",
    "        'interpolation_series_id': [3]*nx,\n",
    "        'group_id': [group_id]*nx,\n",
    "        'participant_id': [participant_id]*nx,\n",
    "        'data_ordinal': range(nx),\n",
    "        'data_time': x_pw,\n",
    "        'data_value': np.around(y_pw,5)\n",
    "    })\n",
    "    interpolated_data.to_sql(name='interpolated_interval_data', con=con, if_exists='append', index=False, method='multi')   \n"
   ]
  },
  {
   "cell_type": "code",
   "execution_count": null,
   "metadata": {},
   "outputs": [],
   "source": [
    "y_pw = d.pw_constant_convolve(x, y, t[-1], f3, 4, 3, x_pw)\n",
    "nx = len(x_pw)\n",
    "interpolated_data = pd.DataFrame({\n",
    "    'series_type_id': [series_type_id]*nx,\n",
    "    'group_id': [group_id]*nx,\n",
    "    'participant_id': [participant_id]*nx,\n",
    "    'data_ordinal': range(nx),\n",
    "    'data_time': x_pw,\n",
    "    'data_value': np.around(y_pw,5)\n",
    "})\n",
    "interpolated_data.to_sql(name='interpolated_interval_data', con=con, if_exists='append', index=False, method='multi')   \n"
   ]
  },
  {
   "cell_type": "code",
   "execution_count": null,
   "metadata": {},
   "outputs": [],
   "source": [
    "df"
   ]
  },
  {
   "cell_type": "code",
   "execution_count": null,
   "metadata": {},
   "outputs": [],
   "source": [
    "(t[-1], f3, 4, 3, x_pw)"
   ]
  },
  {
   "cell_type": "code",
   "execution_count": null,
   "metadata": {},
   "outputs": [],
   "source": [
    "x"
   ]
  },
  {
   "cell_type": "code",
   "execution_count": null,
   "metadata": {},
   "outputs": [],
   "source": [
    "y"
   ]
  },
  {
   "cell_type": "code",
   "execution_count": null,
   "metadata": {},
   "outputs": [],
   "source": []
  }
 ],
 "metadata": {
  "kernelspec": {
   "display_name": "Python 3.7.4 64-bit ('base': conda)",
   "language": "python",
   "name": "python37464bitbaseconda865b03b3ea5d4f4bb8519af201560b69"
  },
  "language_info": {
   "codemirror_mode": {
    "name": "ipython",
    "version": 3
   },
   "file_extension": ".py",
   "mimetype": "text/x-python",
   "name": "python",
   "nbconvert_exporter": "python",
   "pygments_lexer": "ipython3",
   "version": "3.7.9"
  }
 },
 "nbformat": 4,
 "nbformat_minor": 4
}
