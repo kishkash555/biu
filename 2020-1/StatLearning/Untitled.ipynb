{
 "cells": [
  {
   "cell_type": "code",
   "execution_count": 26,
   "metadata": {},
   "outputs": [],
   "source": [
    "import numpy as np\n",
    "from scipy.signal import lfilter\n",
    "import matplotlib.pyplot as plt"
   ]
  },
  {
   "cell_type": "code",
   "execution_count": 4,
   "metadata": {},
   "outputs": [],
   "source": [
    "t = np.ones(1,dtype=np.uint32)"
   ]
  },
  {
   "cell_type": "code",
   "execution_count": 5,
   "metadata": {},
   "outputs": [
    {
     "data": {
      "text/plain": [
       "array([1], dtype=uint32)"
      ]
     },
     "execution_count": 5,
     "metadata": {},
     "output_type": "execute_result"
    }
   ],
   "source": [
    "t\n"
   ]
  },
  {
   "cell_type": "code",
   "execution_count": 6,
   "metadata": {},
   "outputs": [],
   "source": [
    "t[0] = 6543211"
   ]
  },
  {
   "cell_type": "code",
   "execution_count": 7,
   "metadata": {},
   "outputs": [
    {
     "data": {
      "text/plain": [
       "array([6543211], dtype=uint32)"
      ]
     },
     "execution_count": 7,
     "metadata": {},
     "output_type": "execute_result"
    }
   ],
   "source": [
    "t\n"
   ]
  },
  {
   "cell_type": "code",
   "execution_count": 8,
   "metadata": {},
   "outputs": [
    {
     "data": {
      "text/plain": [
       "6344800"
      ]
     },
     "execution_count": 8,
     "metadata": {},
     "output_type": "execute_result"
    }
   ],
   "source": [
    "t[0] & 0xF0F0F0"
   ]
  },
  {
   "cell_type": "code",
   "execution_count": 11,
   "metadata": {},
   "outputs": [],
   "source": [
    "v = np.random.rand(5,5)>0.5"
   ]
  },
  {
   "cell_type": "code",
   "execution_count": 12,
   "metadata": {},
   "outputs": [
    {
     "data": {
      "text/plain": [
       "array([[False,  True,  True,  True, False],\n",
       "       [ True, False, False, False, False],\n",
       "       [False,  True,  True,  True, False],\n",
       "       [False, False,  True,  True,  True],\n",
       "       [False,  True, False,  True, False]])"
      ]
     },
     "execution_count": 12,
     "metadata": {},
     "output_type": "execute_result"
    }
   ],
   "source": [
    "v"
   ]
  },
  {
   "cell_type": "code",
   "execution_count": 13,
   "metadata": {},
   "outputs": [
    {
     "ename": "ValueError",
     "evalue": "invalid number of arguments",
     "output_type": "error",
     "traceback": [
      "\u001b[0;31m---------------------------------------------------------------------------\u001b[0m",
      "\u001b[0;31mValueError\u001b[0m                                Traceback (most recent call last)",
      "\u001b[0;32m<ipython-input-13-8d2c22c5bed4>\u001b[0m in \u001b[0;36m<module>\u001b[0;34m\u001b[0m\n\u001b[0;32m----> 1\u001b[0;31m \u001b[0mnp\u001b[0m\u001b[0;34m.\u001b[0m\u001b[0mlogical_xor\u001b[0m\u001b[0;34m(\u001b[0m\u001b[0mv\u001b[0m\u001b[0;34m[\u001b[0m\u001b[0;34m:\u001b[0m\u001b[0;34m,\u001b[0m\u001b[0;36m4\u001b[0m\u001b[0;34m]\u001b[0m\u001b[0;34m)\u001b[0m\u001b[0;34m\u001b[0m\u001b[0;34m\u001b[0m\u001b[0m\n\u001b[0m",
      "\u001b[0;31mValueError\u001b[0m: invalid number of arguments"
     ]
    }
   ],
   "source": [
    "np.logical_xor(v[:,4])"
   ]
  },
  {
   "cell_type": "code",
   "execution_count": 18,
   "metadata": {},
   "outputs": [
    {
     "data": {
      "text/plain": [
       "10"
      ]
     },
     "execution_count": 18,
     "metadata": {},
     "output_type": "execute_result"
    }
   ],
   "source": [
    "np.logical_not(np.logical_xor(v[:,:4],v[:,1:])).sum()"
   ]
  },
  {
   "cell_type": "code",
   "execution_count": 36,
   "metadata": {},
   "outputs": [],
   "source": [
    "from bitarray import bitarray\n",
    "import bitarray.util as bau"
   ]
  },
  {
   "cell_type": "code",
   "execution_count": 25,
   "metadata": {},
   "outputs": [
    {
     "ename": "ValueError",
     "evalue": "character must be '0' or '1', found '2'",
     "output_type": "error",
     "traceback": [
      "\u001b[0;31m---------------------------------------------------------------------------\u001b[0m",
      "\u001b[0;31mValueError\u001b[0m                                Traceback (most recent call last)",
      "\u001b[0;32m<ipython-input-25-a4ef03b4569b>\u001b[0m in \u001b[0;36m<module>\u001b[0;34m\u001b[0m\n\u001b[0;32m----> 1\u001b[0;31m \u001b[0ma\u001b[0m\u001b[0;34m=\u001b[0m\u001b[0mbitarray\u001b[0m\u001b[0;34m(\u001b[0m\u001b[0;34m'1234'\u001b[0m\u001b[0;34m)\u001b[0m\u001b[0;34m\u001b[0m\u001b[0;34m\u001b[0m\u001b[0m\n\u001b[0m",
      "\u001b[0;31mValueError\u001b[0m: character must be '0' or '1', found '2'"
     ]
    }
   ],
   "source": [
    "a=bitarray('1234')\n"
   ]
  },
  {
   "cell_type": "code",
   "execution_count": 22,
   "metadata": {},
   "outputs": [
    {
     "data": {
      "text/plain": [
       "bitarray('0001000000111100010001011101001110101000011111110000000000000000110000001101000000011001010100011110101101010101000000000000000001101111000000000000000000000000000000000000000000000000000000001111111111111111111111111111111111111111111111111111111111111111111001001100010100000011110101001010100001111111000000000000000000000000000000000000000000000000000000000000000000000000000000000101111101100101011110000110010101100011010111110111001001100101011100110111010101101100011101000101111101100011011010000110000101101110011001110110010101100100001011010010110100101101001011010000000000000000000000000000000000000000000000000000000000000000000100100000000100101101001011010010110100101101001011010010110100000000000000000000000000000000000000000000000000000000000000000000000100000000000000000000000000000010000000000000000000000000000000010000000000000000000000000010110100101101001011010010110110100000110011100000001111010100101010000111111100000000000000000010110100101101001011010010110100101101001011010010110100101101001011010010110100011011010110110011000001101101000000000101111100110110001101000010110101101100011010010110111001110101011110000010110101100111011011100111010100101110011100110110111100000000000000000000000000')"
      ]
     },
     "execution_count": 22,
     "metadata": {},
     "output_type": "execute_result"
    }
   ],
   "source": [
    "a"
   ]
  },
  {
   "cell_type": "code",
   "execution_count": 30,
   "metadata": {},
   "outputs": [
    {
     "data": {
      "text/plain": [
       "array([ True, False, False, False, False, False,  True])"
      ]
     },
     "execution_count": 30,
     "metadata": {},
     "output_type": "execute_result"
    }
   ],
   "source": [
    "np.array(list(bitarray(\"{0:b}\".format(65))))"
   ]
  },
  {
   "cell_type": "code",
   "execution_count": 31,
   "metadata": {},
   "outputs": [],
   "source": [
    "a = bitarray(\"{0:b}\".format(65))"
   ]
  },
  {
   "cell_type": "code",
   "execution_count": 32,
   "metadata": {},
   "outputs": [
    {
     "data": {
      "text/plain": [
       "bitarray('1000001')"
      ]
     },
     "execution_count": 32,
     "metadata": {},
     "output_type": "execute_result"
    }
   ],
   "source": [
    "a"
   ]
  },
  {
   "cell_type": "code",
   "execution_count": 33,
   "metadata": {},
   "outputs": [
    {
     "data": {
      "text/plain": [
       "bitarray('000001')"
      ]
     },
     "execution_count": 33,
     "metadata": {},
     "output_type": "execute_result"
    }
   ],
   "source": [
    "a[1:]"
   ]
  },
  {
   "cell_type": "code",
   "execution_count": 39,
   "metadata": {},
   "outputs": [
    {
     "data": {
      "text/plain": [
       "2"
      ]
     },
     "execution_count": 39,
     "metadata": {},
     "output_type": "execute_result"
    }
   ],
   "source": [
    "bau.count_xor(a[1:],a[:-1])"
   ]
  },
  {
   "cell_type": "code",
   "execution_count": 40,
   "metadata": {},
   "outputs": [],
   "source": [
    "res = np.zeros((7,2))"
   ]
  },
  {
   "cell_type": "code",
   "execution_count": 42,
   "metadata": {},
   "outputs": [
    {
     "data": {
      "text/plain": [
       "array([[0., 0.],\n",
       "       [0., 0.],\n",
       "       [0., 0.],\n",
       "       [0., 0.],\n",
       "       [0., 0.],\n",
       "       [0., 0.],\n",
       "       [0., 0.]])"
      ]
     },
     "execution_count": 42,
     "metadata": {},
     "output_type": "execute_result"
    }
   ],
   "source": [
    "res"
   ]
  },
  {
   "cell_type": "code",
   "execution_count": 43,
   "metadata": {},
   "outputs": [],
   "source": [
    "res[:,[0,1,0,0,0,1]] +=5"
   ]
  },
  {
   "cell_type": "code",
   "execution_count": 44,
   "metadata": {},
   "outputs": [
    {
     "data": {
      "text/plain": [
       "array([[5., 5.],\n",
       "       [5., 5.],\n",
       "       [5., 5.],\n",
       "       [5., 5.],\n",
       "       [5., 5.],\n",
       "       [5., 5.],\n",
       "       [5., 5.]])"
      ]
     },
     "execution_count": 44,
     "metadata": {},
     "output_type": "execute_result"
    }
   ],
   "source": [
    "res"
   ]
  },
  {
   "cell_type": "code",
   "execution_count": 2,
   "metadata": {},
   "outputs": [
    {
     "data": {
      "text/plain": [
       "False"
      ]
     },
     "execution_count": 2,
     "metadata": {},
     "output_type": "execute_result"
    }
   ],
   "source": [
    "bool(int('0'))"
   ]
  },
  {
   "cell_type": "code",
   "execution_count": 11,
   "metadata": {},
   "outputs": [],
   "source": [
    "b = np.zeros((5,5,50),dtype=bool)\n",
    "for i in range(50):\n",
    "    v = np.random.rand(5,5)>0.5\n",
    "    b[:,:,i]= v"
   ]
  },
  {
   "cell_type": "code",
   "execution_count": 16,
   "metadata": {},
   "outputs": [
    {
     "data": {
      "text/plain": [
       "array([[ True, False,  True, False, False],\n",
       "       [False, False,  True, False,  True],\n",
       "       [ True,  True,  True, False, False],\n",
       "       [ True,  True, False, False,  True],\n",
       "       [ True, False, False, False,  True]])"
      ]
     },
     "execution_count": 16,
     "metadata": {},
     "output_type": "execute_result"
    }
   ],
   "source": [
    "b[:,:,39]"
   ]
  },
  {
   "cell_type": "code",
   "execution_count": 17,
   "metadata": {},
   "outputs": [
    {
     "data": {
      "text/plain": [
       "18.0"
      ]
     },
     "execution_count": 17,
     "metadata": {},
     "output_type": "execute_result"
    }
   ],
   "source": [
    "0.5 * 6 **2"
   ]
  },
  {
   "cell_type": "code",
   "execution_count": 29,
   "metadata": {},
   "outputs": [
    {
     "data": {
      "text/plain": [
       "array([ 0.06834092,  0.03237865, -0.29183909, -0.01997855, -0.14213307,\n",
       "       -0.11828486,  0.21288252, -0.04747897, -0.22529304,  0.18439351,\n",
       "       -0.27641847, -0.04919971,  0.15707481,  0.17492785,  0.38680401,\n",
       "        0.464546  ,  0.09612485,  0.12604268,  0.01405928,  0.00429121,\n",
       "        0.06217344,  0.41343151,  0.28729689,  0.25999528,  0.47794484,\n",
       "        0.10642219,  0.15082807, -0.18789433, -0.1352661 ,  0.15689541,\n",
       "       -0.17526883,  0.27970875,  0.17680355,  0.52703585,  0.33004466,\n",
       "        0.29814328, -0.03402288,  0.15020408,  0.09617366, -0.06635213,\n",
       "        0.37941694,  0.21176359, -0.09582356,  0.20543127, -0.03341108,\n",
       "        0.12476177,  0.25791662,  0.01849671, -0.08947619,  0.03666506,\n",
       "        0.17144724,  0.20938931, -0.12941078,  0.32647627, -0.11436084,\n",
       "        0.67234828,  0.00776151,  0.02738927,  0.31121338,  0.26169962,\n",
       "        0.30502452,  0.26345511,  0.20360246,  0.28484542,  0.21279939,\n",
       "        0.28776313, -0.10676879,  0.12221655,  0.04664935,  0.27781212,\n",
       "        0.5286739 ,  0.22005952,  0.31979903,  0.01882991,  0.12601702,\n",
       "        0.07849293,  0.43730266,  0.29031399,  0.18559353, -0.02935767,\n",
       "        0.47462155,  0.12941541,  0.43465498, -0.10372563,  0.42642809,\n",
       "        0.81198351,  0.24542232,  0.66181633, -0.13047856,  0.55751538,\n",
       "        0.30775749,  0.37881789,  0.37761205,  0.39559484,  0.45035731,\n",
       "        0.61672056,  0.28221008,  0.28087869,  0.22522818,  0.3483786 ,\n",
       "        0.67984237,  0.09333064,  0.24059353,  0.08492462,  0.44788475,\n",
       "        0.35425278,  0.45837622,  0.21250575,  0.31302653,  0.57982341,\n",
       "        0.35200757,  0.59868655,  0.59115955,  0.33313686,  0.3707029 ,\n",
       "        0.29029088,  0.26381089,  0.45026395,  0.34070682,  0.36902251,\n",
       "        0.12254789,  0.96170441,  0.60587905,  0.56143367,  0.34816158,\n",
       "        0.22948974,  0.61241227,  0.59264314,  0.46728973,  0.65688269,\n",
       "        0.2640068 ,  0.32955045,  0.56406016,  0.19185254,  0.48517828,\n",
       "        0.11044864,  0.4408168 ,  0.60364262,  0.64316842,  0.57135982,\n",
       "        0.54708249,  0.22748286,  0.25558727,  0.45460312,  0.78736113,\n",
       "        0.91628593,  0.48714959,  0.396609  ,  0.34019187,  0.59455887,\n",
       "        0.66105595,  0.28631493,  0.42775562,  0.72910543,  0.58012502,\n",
       "        0.31266709,  0.2730933 ,  0.33156586,  0.4830328 ,  0.86733438,\n",
       "        0.7067666 ,  0.78790747,  0.61258693,  0.68765877,  0.51390727,\n",
       "        0.70524655,  0.92311106,  0.84057783,  0.86125289,  0.59683134,\n",
       "        0.67427117,  0.63297168,  0.20511194,  0.46550438,  0.75489979,\n",
       "        0.99887044,  0.5044427 ,  0.57438736,  0.3984268 ,  0.75205133,\n",
       "        0.52979926,  0.46197274,  0.81950173,  0.76353817,  0.34673016,\n",
       "        0.66801483,  0.67602364,  0.5250097 ,  0.54801117,  0.56745513,\n",
       "        0.7650295 ,  0.7641907 ,  0.86897663,  0.46854499,  0.65114984,\n",
       "        0.70863753,  0.7487825 ,  0.50900032,  0.78226315,  0.54306441,\n",
       "        0.81059127,  0.54350055,  0.77860455,  0.47182761,  0.79551132,\n",
       "        0.9613063 ,  0.48672696,  0.72224936,  0.38680666,  0.74042358,\n",
       "        0.90336936,  0.46205889,  0.99051166,  0.59930914,  0.64536764,\n",
       "        0.83880987,  0.72390858,  0.71005125,  0.47307746,  0.63738305,\n",
       "        0.54198539,  0.80023906,  0.69519181,  1.10255623,  0.9310495 ,\n",
       "        0.74815698,  0.61827023,  0.54482223,  0.70377563,  0.76729103,\n",
       "        0.9754076 ,  0.62226601,  1.15006737,  1.03372451,  0.78742153,\n",
       "        0.5274472 ,  0.82335054,  0.83176893,  0.96700552,  1.25296441,\n",
       "        1.08580138,  0.73358763,  0.87698116,  0.51565612,  0.45353386,\n",
       "        0.78618367,  0.90451   ,  0.75697037,  1.11771901,  0.88383163,\n",
       "        0.74643753,  0.70578035,  0.48593149,  1.12726211,  0.94910571,\n",
       "        0.54017035,  0.84301813,  1.09780457,  1.07889232,  1.2334517 ,\n",
       "        1.23828027,  1.04308978,  1.11457523,  1.02443713,  1.10776334,\n",
       "        0.76921479,  1.40743741,  1.04498058,  1.0214396 ,  0.97787401,\n",
       "        0.8059485 ,  1.03658381,  1.04211878,  0.8461976 ,  1.01069018,\n",
       "        0.76467644,  0.71918134,  0.95657263,  0.60594653,  0.84791776,\n",
       "        0.82274767,  1.01709825,  1.08011155,  1.05424621,  0.91857293,\n",
       "        0.82766587,  0.50910994,  0.62554846,  0.63666364,  0.67164489,\n",
       "        1.27283145,  0.94153398,  0.89668406,  0.94077466,  1.227663  ,\n",
       "        1.12340994,  1.19486296,  1.2275497 ,  1.20484878,  1.19318485,\n",
       "        1.2667091 ,  0.97266608,  1.27930885,  0.92150922,  1.40736233,\n",
       "        0.98953453,  1.22452017,  0.81242731,  0.95064347,  0.77960895,\n",
       "        1.13960452,  0.7000922 ,  1.13924453,  1.09586484,  0.79195335,\n",
       "        1.1652416 ,  0.84223859,  1.19223866,  1.30349829,  1.33140258,\n",
       "        1.20231482,  1.06583294,  1.20573988,  0.77990365,  1.08431049,\n",
       "        1.1635952 ,  1.20157316,  0.84258752,  0.69177614,  1.28484804,\n",
       "        1.16050959,  1.26204984,  0.98891976,  1.20499902,  1.13420533,\n",
       "        1.09217056,  1.32080049,  1.01848292,  1.20093761,  1.66111334,\n",
       "        0.90345022,  1.28471465,  0.94308233,  0.75654049,  1.09383159,\n",
       "        1.4124129 ,  1.4800172 ,  0.97649099,  1.29918357,  0.82133225,\n",
       "        1.30389312,  1.38050687,  0.87520819,  1.19648202,  1.51627289,\n",
       "        1.01424741,  0.86380639,  1.03530584,  1.11215505,  1.38026567,\n",
       "        1.02773214,  1.15556868,  1.14534962,  1.39197644,  1.46569589,\n",
       "        0.86441943,  1.18703097,  1.28835458,  1.58589061,  1.02183386,\n",
       "        1.21239576,  1.324403  ,  1.18710469,  1.10814502,  1.25843131,\n",
       "        0.90915482,  1.358784  ,  1.05424449,  1.11598385,  1.58165208,\n",
       "        1.31220428,  1.57793279,  1.32739342,  1.4609166 ,  0.74996059,\n",
       "        1.08608066,  1.29859362,  1.4855927 ,  1.40454951,  1.48486308,\n",
       "        1.44940335,  1.12453979,  1.3294874 ,  1.39784027,  1.35439831,\n",
       "        1.35768785,  1.57411707,  1.37296766,  1.47477852,  1.61691696,\n",
       "        1.44157547,  1.46322903,  1.53247821,  1.49158055,  1.37395849,\n",
       "        1.19809403,  1.17878396,  1.2655096 ,  0.88906615,  1.3135441 ,\n",
       "        1.44158566,  1.50480528,  1.43760852,  1.28916784,  1.54721233,\n",
       "        1.57815018,  1.29204834,  1.01429013,  1.21450631,  1.52270454,\n",
       "        1.158565  ,  1.54438454,  1.12315502,  1.32202071,  1.36325215,\n",
       "        1.47674755,  1.7945063 ,  1.52313711,  1.25188353,  1.54709986,\n",
       "        1.2758026 ,  1.54324935,  1.45377228,  1.67900339,  1.3870664 ,\n",
       "        1.64979109,  1.48705027,  1.35268755,  1.36767415,  1.71931401,\n",
       "        1.67014075,  1.44893767,  1.43522418,  1.54575096,  1.50576407,\n",
       "        1.29394467,  1.24329018,  1.25142886,  1.39916423,  1.55522349,\n",
       "        1.44865014,  1.48040204,  1.71869484,  1.68289247,  1.31892659,\n",
       "        1.78988444,  1.38950476,  1.3261837 ,  1.87818716,  1.78347922,\n",
       "        1.90377374,  1.51535572,  1.8022901 ,  1.86715135,  1.56603527,\n",
       "        1.6627737 ,  1.50741735,  1.73742891,  1.35233766,  1.45226839,\n",
       "        1.7691759 ,  1.15859508,  1.39068952,  1.50731996,  1.74630117,\n",
       "        1.50720771,  1.7253961 ,  1.63712373,  1.80400245,  1.82669692,\n",
       "        1.52006211,  1.51769134,  1.19413843,  1.41093117,  1.52510292,\n",
       "        1.27623419,  1.32450902,  1.66928171,  1.76966503,  1.55354806,\n",
       "        1.25945735,  1.29152603,  1.79542573,  1.58909106,  1.60487613,\n",
       "        1.68026153,  1.69328778,  1.88068931,  1.40972109,  1.9213798 ,\n",
       "        1.87780725,  1.76865412,  1.66511043,  1.70643848,  1.78741779,\n",
       "        1.81311537,  1.72693788,  1.63963856,  1.41773954,  1.82697989,\n",
       "        1.81092094,  1.67270928,  1.22654058,  1.53843993,  1.27054426,\n",
       "        1.72845468,  1.49549451,  1.65069603,  1.96749634,  1.79196989,\n",
       "        1.67129587,  1.82889096,  1.67921965,  1.60358485,  1.32642064,\n",
       "        1.63503319,  1.65214318,  1.79046686,  1.63743186,  1.95486174,\n",
       "        1.62490681,  1.75797217,  2.05771987,  1.51237772,  1.76923983,\n",
       "        1.88866225,  1.82880833,  1.44624881,  1.76731276,  1.96828452,\n",
       "        1.85752485,  1.8722731 ,  1.97041299,  1.81811993,  1.52510158,\n",
       "        1.82237965,  1.62271196,  1.99630076,  1.69921208,  1.31162564,\n",
       "        2.1012434 ,  1.49776009,  1.85039221,  2.09210476,  2.13131572,\n",
       "        1.97199591,  1.74818125,  1.64251132,  2.00213794,  1.81702339,\n",
       "        1.72840163,  1.73066693,  1.9630871 ,  1.61391254,  1.99173951,\n",
       "        2.2686318 ,  1.83239918,  1.85631895,  1.85680456,  1.85806069,\n",
       "        1.80409042,  1.89815725,  2.03879689,  1.91525213,  1.8639217 ,\n",
       "        1.78275677,  2.18172954,  1.96438157,  1.98561865,  1.61207864,\n",
       "        2.02019093,  1.86810557,  2.12091718,  2.1438006 ,  1.82807064,\n",
       "        1.72333963,  2.13077584,  1.96377937,  1.78490554,  1.33994423,\n",
       "        1.7613749 ,  1.78272784,  2.16064944,  2.13995046,  2.41680132,\n",
       "        1.67570047,  1.93183205,  2.11003947,  2.04366477,  1.83802955,\n",
       "        2.03257087,  1.83488745,  2.01199445,  2.17002812,  2.37379178,\n",
       "        1.85127464,  1.94362025,  2.23881241,  1.70930803,  1.71714179,\n",
       "        2.12835626,  2.03333079,  1.77094132,  2.2078623 ,  1.79422906,\n",
       "        2.18048831,  2.03030784,  2.06882527,  2.02137753,  1.8010145 ,\n",
       "        1.94855172,  2.02179309,  2.23261069,  1.93154439,  2.49356597,\n",
       "        2.14608232,  1.9998834 ,  2.11831238,  2.23410004,  1.98365034,\n",
       "        1.93864104,  1.88298895,  1.79339164,  2.29951507,  2.01751261,\n",
       "        2.01512951,  1.92479975,  2.15271851,  2.21663154,  1.8926577 ,\n",
       "        2.02103305,  2.24883231,  1.82686926,  1.97699651,  2.14004873,\n",
       "        2.19251494,  2.19950637,  1.93728088,  2.03046906,  2.10354869,\n",
       "        2.00922547,  1.95198977,  2.26751604,  2.15062588,  2.27179909,\n",
       "        1.67957696,  1.88683857,  2.05842671,  1.929492  ,  1.83653222,\n",
       "        2.01687484,  2.00046387,  1.93972514,  1.7404035 ,  1.81874822,\n",
       "        1.81462679,  2.14516773,  1.87323711,  2.01277904,  1.9179013 ,\n",
       "        2.63108191,  2.0386748 ,  2.0418303 ,  1.86689209,  1.826105  ,\n",
       "        2.02315558,  1.65151897,  2.18787425,  2.06861584,  2.34045926,\n",
       "        1.72534877,  2.4301926 ,  1.71565215,  1.95599871,  1.85666834,\n",
       "        1.72519356,  1.98293013,  1.9177079 ,  1.73445206,  2.03293872,\n",
       "        2.15739775,  2.25425314,  2.06377327,  1.7637469 ,  1.87279949,\n",
       "        2.54213529,  1.88539065,  2.09835755,  2.17381573,  1.95387394,\n",
       "        2.09212819,  2.07143077,  1.76131581,  2.14591145,  1.80737593,\n",
       "        2.17165735,  1.99517161,  1.71490119,  2.23345373,  2.10045941,\n",
       "        1.78390004,  1.82509107,  2.16433088,  1.9114172 ,  1.93537243,\n",
       "        1.96736314,  2.05086846,  1.85706105,  1.69376214,  1.79061554,\n",
       "        2.16838532,  2.01201599,  1.95388244,  2.02901038,  1.86409579,\n",
       "        2.15228504,  1.92070908,  2.27129271,  1.93201859,  1.88933664,\n",
       "        2.31095373,  2.06175754,  2.00813329,  2.32815706,  1.68808194,\n",
       "        2.15352697,  1.79068924,  1.79295041,  2.19374748,  2.02651514,\n",
       "        2.04138868,  2.00005437,  2.17080297,  2.12494145,  1.89376847,\n",
       "        1.7611883 ,  1.84063599,  2.15026785,  2.04556658,  1.99559768,\n",
       "        1.78070223,  2.02687962,  1.97836365,  2.16717436,  2.04114793,\n",
       "        2.0384246 ,  2.00146303,  2.39247463,  2.20897637,  1.93147087,\n",
       "        1.70495643,  1.84967038,  1.85711938,  1.82129979,  2.29446766,\n",
       "        2.1173432 ,  1.87036522,  1.9292616 ,  2.19441444,  2.21469508,\n",
       "        2.11578598,  2.11802535,  1.99425046,  2.01396044,  2.03049674,\n",
       "        1.76412932,  2.01324479,  2.02505433,  1.54199177,  1.88813538,\n",
       "        2.07825978,  2.48253956,  2.16866327,  1.86425328,  2.05019295,\n",
       "        1.78847378,  1.84271167,  2.18788509,  1.67374275,  1.5698793 ,\n",
       "        1.8080809 ,  1.98428396,  1.61693352,  2.19612217,  1.89930361,\n",
       "        2.24059039,  1.81601145,  2.29024936,  2.01322067,  1.83104474,\n",
       "        2.29769954,  1.78885641,  2.12671063,  1.95975522,  2.34974259,\n",
       "        1.96545628,  1.75500952,  1.73097938,  2.04096009,  2.02723522,\n",
       "        1.54105924,  1.97975804,  2.17457835,  2.20561051,  1.99187965,\n",
       "        1.79570704,  2.16026613,  2.10036519,  2.24360995,  1.98515746,\n",
       "        1.95200214,  2.02163442,  2.01584189,  2.087451  ,  2.13860088,\n",
       "        2.24684818,  2.26884013,  1.82434861,  1.70435544,  2.04486083,\n",
       "        2.10365544,  1.57601664,  1.92873426,  2.11480939,  2.14188037,\n",
       "        1.93718479,  2.11277938,  1.70875138,  2.1257157 ,  1.59444715,\n",
       "        2.28468802,  1.67796271,  2.17437977,  1.89134111,  2.11428484,\n",
       "        1.85153505,  1.75303243,  1.89819195,  1.82638862,  2.2627876 ,\n",
       "        1.97476646,  2.07155294,  1.97271617,  2.07321018,  2.08731863,\n",
       "        2.03773084,  2.13768205,  1.89379604,  1.94154375,  2.32679341,\n",
       "        2.10764097,  2.08764354,  1.92402057,  2.33933177,  2.05831478,\n",
       "        1.85472245,  2.37853662,  2.01383822,  2.0020644 ,  2.05339249,\n",
       "        1.99275859,  1.86019276,  1.82665433,  2.1031653 ,  2.28190537,\n",
       "        1.94758535,  2.18945736,  2.32845627,  1.74533843,  2.05825135,\n",
       "        2.08088219,  2.22910825,  1.78374093,  2.07671881,  2.05726501,\n",
       "        2.2787544 ,  1.97927148,  2.05632579,  1.50870293,  2.10772838,\n",
       "        2.10204832,  2.0465882 ,  2.05306711,  1.82364558,  2.10196266,\n",
       "        2.18236824,  2.13776681,  1.82240642,  2.49972154,  1.8721936 ,\n",
       "        1.67945474,  1.8671077 ,  2.18139498,  2.08914261,  1.94847581,\n",
       "        2.36192665,  1.82449756,  2.30732082,  1.77842484,  2.15033204,\n",
       "        2.02533878,  2.12316915,  1.95097164,  1.85281749,  1.6950985 ,\n",
       "        1.93974148,  2.1714445 ,  2.06481583,  1.91287348,  1.67679774,\n",
       "        1.31068266,  1.84261683,  1.96723991,  2.11773389,  2.0463732 ,\n",
       "        1.87893117,  2.15365746,  2.01697648,  2.5341578 ,  1.81083383,\n",
       "        1.8881194 ,  2.2087265 ,  2.20254391,  1.93995561,  2.27896947,\n",
       "        2.14765642,  1.89095544,  2.08773746,  2.47592001,  1.79350102,\n",
       "        1.73605839,  1.76996642,  2.45416696,  2.25569878,  1.54537726,\n",
       "        2.08101748,  2.09440513,  2.08993452,  1.7954577 ,  2.01982294,\n",
       "        2.09995478,  2.04290205,  2.15247301,  2.08536889,  1.7853366 ,\n",
       "        2.32495485,  2.14962714,  1.88247662,  1.88234462,  1.75926116,\n",
       "        1.85037708,  2.2633263 ,  2.1138509 ,  2.31241693,  2.04781597,\n",
       "        1.9239056 ,  2.12712421,  2.24268554,  1.93497237,  1.84451126,\n",
       "        1.98539583,  2.09636725,  1.9942903 ,  1.96807989,  1.97381534,\n",
       "        2.04436463,  1.8882399 ,  1.85739994,  2.02359936,  2.18407915,\n",
       "        1.76524167,  2.00417288,  2.12680505,  1.68027188,  1.80954473,\n",
       "        1.9910022 ,  2.35053616,  2.16151829,  2.11468598,  1.57515459,\n",
       "        2.12838702,  2.18937862,  2.17274645,  2.03292416,  1.891827  ,\n",
       "        1.97728586,  1.91771043,  2.06712274,  1.79618179,  2.0709775 ])"
      ]
     },
     "execution_count": 29,
     "metadata": {},
     "output_type": "execute_result"
    }
   ],
   "source": [
    "a = np.concatenate([np.linspace(0,2,600),2*np.ones(400)])+0.2*np.random.randn(1000)\n",
    "a"
   ]
  },
  {
   "cell_type": "code",
   "execution_count": 30,
   "metadata": {},
   "outputs": [
    {
     "data": {
      "text/plain": [
       "[<matplotlib.lines.Line2D at 0x7f6bf5055e10>]"
      ]
     },
     "execution_count": 30,
     "metadata": {},
     "output_type": "execute_result"
    },
    {
     "data": {
      "image/png": "[encoded data removed]",
      "text/plain": [
       "<Figure size 432x288 with 1 Axes>"
      ]
     },
     "metadata": {
      "needs_background": "light"
     },
     "output_type": "display_data"
    }
   ],
   "source": [
    "plt.plot(a)"
   ]
  },
  {
   "cell_type": "code",
   "execution_count": 40,
   "metadata": {},
   "outputs": [
    {
     "data": {
      "text/plain": [
       "[<matplotlib.lines.Line2D at 0x7f6bf4c4af50>]"
      ]
     },
     "execution_count": 40,
     "metadata": {},
     "output_type": "execute_result"
    },
    {
     "data": {
      "image/png": "[encoded data removed]",
      "text/plain": [
       "<Figure size 432x288 with 1 Axes>"
      ]
     },
     "metadata": {
      "needs_background": "light"
     },
     "output_type": "display_data"
    }
   ],
   "source": [
    "y=lfilter([0.1],[1, -0.9],a)\n",
    "plt.plot(y)\n",
    "#plt.plot(a.cumsum())"
   ]
  },
  {
   "cell_type": "code",
   "execution_count": null,
   "metadata": {},
   "outputs": [],
   "source": [
    "y[0] - y[-1] = x ==> y[0] = 0.1x+0.9y[-1]"
   ]
  }
 ],
 "metadata": {
  "kernelspec": {
   "display_name": "Python 3",
   "language": "python",
   "name": "python3"
  },
  "language_info": {
   "codemirror_mode": {
    "name": "ipython",
    "version": 3
   },
   "file_extension": ".py",
   "mimetype": "text/x-python",
   "name": "python",
   "nbconvert_exporter": "python",
   "pygments_lexer": "ipython3",
   "version": "3.7.4"
  }
 },
 "nbformat": 4,
 "nbformat_minor": 2
}
