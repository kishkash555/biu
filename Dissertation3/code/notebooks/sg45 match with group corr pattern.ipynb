{
 "cells": [
  {
   "cell_type": "code",
   "execution_count": null,
   "metadata": {},
   "outputs": [],
   "source": [
    "import smooth_component_analysis as sca\n",
    "from importlib import reload\n",
    "reload(sca)\n",
    "import numpy as np\n",
    "import pandas as pd\n",
    "import get_db_data as gdd\n",
    "\n",
    "from scipy.stats import zscore\n",
    "import matplotlib.pyplot as plt\n",
    "\n",
    "import seaborn as sns\n",
    "\n",
    "from sklearn.decomposition import FastICA, PCA"
   ]
  },
  {
   "cell_type": "code",
   "execution_count": null,
   "metadata": {},
   "outputs": [],
   "source": [
    "sago = sca.savitzky_golay([1001, 1004, 1006, 1007, 1008, 1009, 1010, 1011, 1012, 1013,\n",
    "                          1042, 1043, 1044, 1045, 1046, 1047, 1048, 1049, 1050, 1051],\n",
    "                          21,11,2,3)"
   ]
  },
  {
   "cell_type": "code",
   "execution_count": null,
   "metadata": {},
   "outputs": [],
   "source": [
    "df = sago.get_aligned_signal_componets()"
   ]
  },
  {
   "cell_type": "code",
   "execution_count": null,
   "metadata": {},
   "outputs": [],
   "source": [
    "corrs = list(sago.yield_crossgroup_corr(True,'Sg_',True))\n",
    "\n",
    "corrs[:5]"
   ]
  },
  {
   "cell_type": "code",
   "execution_count": null,
   "metadata": {},
   "outputs": [],
   "source": [
    "group_corrs = {}\n",
    "for o, item in enumerate(corrs):\n",
    "    group_corrs[item[0][0][0]] = group_corrs.get(item[0][0][0],[])+ [item[1]]\n",
    "#    if o == 29: \n",
    "#        break\n",
    "group_corrs"
   ]
  },
  {
   "cell_type": "code",
   "execution_count": null,
   "metadata": {},
   "outputs": [],
   "source": [
    "group_corr_dir = { k: tuple(sorted([ c < -0.15 and -1 or (c > 0.15) and 1 or 0 for c in v])) for k, v in group_corrs.items()}"
   ]
  },
  {
   "cell_type": "code",
   "execution_count": null,
   "metadata": {},
   "outputs": [],
   "source": [
    "from collections import Counter\n",
    "Counter(group_corr_dir.values()).most_common()"
   ]
  },
  {
   "cell_type": "code",
   "execution_count": null,
   "metadata": {},
   "outputs": [],
   "source": [
    "data = gdd.get_db_data()\n",
    "patric = data.get_participants(True, True)"
   ]
  },
  {
   "cell_type": "code",
   "execution_count": null,
   "metadata": {},
   "outputs": [],
   "source": [
    "patric = data.participants\n",
    "patric"
   ]
  },
  {
   "cell_type": "code",
   "execution_count": null,
   "metadata": {},
   "outputs": [],
   "source": [
    "group_cohes = {}\n",
    "for item in patric:\n",
    "    group_cohes[item[0]] = group_cohes.get(item[0],[]) + [float(item[2])]\n",
    "group_cohes"
   ]
  },
  {
   "cell_type": "code",
   "execution_count": null,
   "metadata": {},
   "outputs": [],
   "source": [
    "group_corr_dir"
   ]
  },
  {
   "cell_type": "code",
   "execution_count": null,
   "metadata": {},
   "outputs": [],
   "source": [
    "corr_dir_cohes = {}\n",
    "for gr, sgn in group_corr_dir.items():\n",
    "    corr_dir_cohes[sgn] = corr_dir_cohes.get(sgn,[])+group_cohes[gr]\n",
    "\n",
    "sorted([(k, (np.array(v)).max()) for k, v in corr_dir_cohes.items()], key=lambda x: x[0], reverse=True)"
   ]
  },
  {
   "cell_type": "code",
   "execution_count": null,
   "metadata": {},
   "outputs": [],
   "source": [
    "sorted([(k, (np.array(v)).min()) for k, v in corr_dir_cohes.items()], key=lambda x: x[0], reverse=True)"
   ]
  },
  {
   "cell_type": "code",
   "execution_count": null,
   "metadata": {},
   "outputs": [],
   "source": [
    "group_cohes_df = pd.DataFrame(data=group_cohes.items(), columns = ['GroupId','all'])\n",
    "group_cohes_df.head()"
   ]
  },
  {
   "cell_type": "code",
   "execution_count": null,
   "metadata": {},
   "outputs": [],
   "source": [
    "group_cohes_df = pd.DataFrame(data=group_cohes.items(), columns = ['GroupId','all'])\n",
    "\n",
    "group_cohes_df['Coher'] = group_cohes_df['all'].map(np.array)\n",
    "group_cohes_df['MinCoh'] =group_cohes_df['all'].map(np.min)\n",
    "group_cohes_df['MidCoh'] =group_cohes_df['all'].map(lambda v: np.sort(v)[1])\n",
    "group_cohes_df['MaxCoh'] =group_cohes_df['all'].map(np.max)\n",
    "\n",
    "group_cohes_df['CorrDir'] = group_cohes_df.apply(lambda r: group_corr_dir.get(r[0]), axis=1)\n",
    "group_cohes_df.head()"
   ]
  },
  {
   "cell_type": "code",
   "execution_count": null,
   "metadata": {},
   "outputs": [],
   "source": [
    "group_cohes_df.groupby('CorrDir')['MaxCoh'].mean()"
   ]
  },
  {
   "cell_type": "code",
   "execution_count": null,
   "metadata": {},
   "outputs": [],
   "source": [
    "group_cohes_df.groupby('CorrDir')['MinCoh'].mean()"
   ]
  },
  {
   "cell_type": "code",
   "execution_count": null,
   "metadata": {},
   "outputs": [],
   "source": [
    "group_cohes_df.groupby('CorrDir')['MidCoh'].mean() "
   ]
  },
  {
   "cell_type": "code",
   "execution_count": null,
   "metadata": {},
   "outputs": [],
   "source": [
    "group_corr_dir"
   ]
  },
  {
   "cell_type": "code",
   "execution_count": null,
   "metadata": {},
   "outputs": [],
   "source": [
    "group_sg = lambda g:  [a for a in df.columns if a[0]==g and a[1].startswith('Sg_')]"
   ]
  },
  {
   "cell_type": "code",
   "execution_count": null,
   "metadata": {},
   "outputs": [],
   "source": [
    "cols = group_sg(1010)\n",
    "for col in cols:\n",
    "    plt.plot(df[col])\n",
    "    \n",
    "plt.legend(cols)"
   ]
  },
  {
   "cell_type": "code",
   "execution_count": 4,
   "metadata": {},
   "outputs": [
    {
     "data": {
      "text/plain": [
       "Decimal('2.4444')"
      ]
     },
     "execution_count": 4,
     "metadata": {},
     "output_type": "execute_result"
    }
   ],
   "source": [
    "import decimal\n",
    "decimal.Decimal('2.4444')"
   ]
  },
  {
   "cell_type": "code",
   "execution_count": 6,
   "metadata": {},
   "outputs": [],
   "source": [
    "d1 = decimal.Decimal('nan')\n",
    "d2 = decimal.Decimal('1.5')"
   ]
  },
  {
   "cell_type": "code",
   "execution_count": 8,
   "metadata": {},
   "outputs": [
    {
     "data": {
      "text/plain": [
       "False"
      ]
     },
     "execution_count": 8,
     "metadata": {},
     "output_type": "execute_result"
    }
   ],
   "source": [
    "d1==d1"
   ]
  },
  {
   "cell_type": "code",
   "execution_count": null,
   "metadata": {},
   "outputs": [],
   "source": []
  }
 ],
 "metadata": {
  "kernelspec": {
   "display_name": "Python 3.7.4 64-bit ('base': conda)",
   "language": "python",
   "name": "python37464bitbaseconda865b03b3ea5d4f4bb8519af201560b69"
  },
  "language_info": {
   "codemirror_mode": {
    "name": "ipython",
    "version": 3
   },
   "file_extension": ".py",
   "mimetype": "text/x-python",
   "name": "python",
   "nbconvert_exporter": "python",
   "pygments_lexer": "ipython3",
   "version": "3.7.7"
  }
 },
 "nbformat": 4,
 "nbformat_minor": 4
}
