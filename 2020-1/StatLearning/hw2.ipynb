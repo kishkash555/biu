{
 "cells": [
  {
   "cell_type": "code",
   "execution_count": 1,
   "metadata": {},
   "outputs": [],
   "source": [
    "import numpy as np\n",
    "import pandas as pd"
   ]
  },
  {
   "cell_type": "code",
   "execution_count": 2,
   "metadata": {},
   "outputs": [],
   "source": [
    "\n",
    "emit = pd.DataFrame([\n",
    "    {\"State\": \"A\", \"output\":0, \"probability\": 0.8},\n",
    "    {\"State\": \"A\", \"output\":1, \"probability\": 0.2},\n",
    "    {\"State\": \"B\", \"output\":0, \"probability\": 0.7},\n",
    "    {\"State\": \"B\", \"output\":1, \"probability\": 0.3},\n",
    "])\n",
    "\n",
    "transit = pd.DataFrame([\n",
    "    {\"from\": \"A\", \"to\": \"A\", \"probability\": 0.2},\n",
    "    {\"from\": \"A\", \"to\": \"B\", \"probability\": 0.8},\n",
    "    {\"from\": \"B\", \"to\": \"A\", \"probability\": 0.1},\n",
    "    {\"from\": \"B\", \"to\": \"B\", \"probability\": 0.9},\n",
    "])\n",
    "\n",
    "init = {\"A\": 0.5, \"B\": 0.5}\n",
    "states = [\"A\", \"B\"]\n",
    "\n",
    "class hmm:\n",
    "    def __init__(self, states, outputs, init, emit, transit):\n",
    "        self.states = states\n",
    "        self.outputs = outputs\n",
    "        self.init = init\n",
    "        self.emit = emit\n",
    "        self.transit = transit\n",
    "    def get_transit(self, prev,current):\n",
    "        return self.transit[np.logical_and(self.transit[\"from\"]==prev, self.transit[\"to\"]==current)][\"probability\"].iloc[0]\n",
    "    def get_emit(self, current):\n",
    "        a = self.emit[self.emit[\"State\"]==current]\n",
    "        return { o: p for o,p in zip(a[\"output\"], a[\"probability\"]) }"
   ]
  },
  {
   "cell_type": "code",
   "execution_count": 10,
   "metadata": {},
   "outputs": [],
   "source": [
    "def forward(x_list):\n",
    "    for \n",
    "def z_given_x(x_list, state_list):\n",
    "    for x in x_list:\n",
    "        curr =[]\n",
    "        for state in state_list:\n",
    "            if len(curr)==0:\n",
    "                p = init[state]\n",
    "            else:\n",
    "                p = p*get_transit[curr[-1],state]\n",
    "            curr.append(state)\n",
    "            \n",
    "        \n"
   ]
  },
  {
   "cell_type": "code",
   "execution_count": 11,
   "metadata": {},
   "outputs": [
    {
     "data": {
      "text/plain": [
       "0.8"
      ]
     },
     "execution_count": 11,
     "metadata": {},
     "output_type": "execute_result"
    }
   ],
   "source": [
    "get_transit(\"A\",\"B\")"
   ]
  },
  {
   "cell_type": "code",
   "execution_count": null,
   "metadata": {},
   "outputs": [],
   "source": []
  }
 ],
 "metadata": {
  "kernelspec": {
   "display_name": "Python 3",
   "language": "python",
   "name": "python3"
  },
  "language_info": {
   "codemirror_mode": {
    "name": "ipython",
    "version": 3
   },
   "file_extension": ".py",
   "mimetype": "text/x-python",
   "name": "python",
   "nbconvert_exporter": "python",
   "pygments_lexer": "ipython3",
   "version": "3.7.3"
  }
 },
 "nbformat": 4,
 "nbformat_minor": 2
}
