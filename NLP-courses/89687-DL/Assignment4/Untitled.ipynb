{
 "cells": [
  {
   "cell_type": "code",
   "execution_count": 2,
   "metadata": {},
   "outputs": [],
   "source": [
    "import dynet as dy"
   ]
  },
  {
   "cell_type": "code",
   "execution_count": 3,
   "metadata": {},
   "outputs": [],
   "source": [
    "import numpy as np"
   ]
  },
  {
   "cell_type": "code",
   "execution_count": 4,
   "metadata": {},
   "outputs": [],
   "source": [
    "pc = dy.ParameterCollection()"
   ]
  },
  {
   "cell_type": "code",
   "execution_count": 5,
   "metadata": {},
   "outputs": [
    {
     "data": {
      "text/plain": [
       "[LookupParameter /_1,\n",
       " Parameter /_0,\n",
       " Parameter /W00,\n",
       " Parameter /b00,\n",
       " Parameter /W01,\n",
       " Parameter /b01,\n",
       " Parameter /W00_1,\n",
       " Parameter /b00_1,\n",
       " Parameter /W01_1,\n",
       " Parameter /b01_1,\n",
       " Parameter /W00_2,\n",
       " Parameter /b00_2,\n",
       " Parameter /W01_2,\n",
       " Parameter /b01_2]"
      ]
     },
     "execution_count": 5,
     "metadata": {},
     "output_type": "execute_result"
    }
   ],
   "source": [
    "dy.load(\"save/network1143\",pc)"
   ]
  },
  {
   "cell_type": "code",
   "execution_count": 6,
   "metadata": {},
   "outputs": [
    {
     "data": {
      "text/plain": [
       "(200, 300)"
      ]
     },
     "execution_count": 6,
     "metadata": {},
     "output_type": "execute_result"
    }
   ],
   "source": [
    "pc.parameters_list()[0].npvalue().shape\n"
   ]
  },
  {
   "cell_type": "code",
   "execution_count": 7,
   "metadata": {},
   "outputs": [
    {
     "name": "stdout",
     "output_type": "stream",
     "text": [
      "/mnt/c/Shahar/BarIlan/NLP-courses/89687-DL/Assignment4/code\n"
     ]
    }
   ],
   "source": [
    "cd code"
   ]
  },
  {
   "cell_type": "code",
   "execution_count": 8,
   "metadata": {},
   "outputs": [
    {
     "data": {
      "text/plain": [
       "<module 'network' from 'network.pyc'>"
      ]
     },
     "execution_count": 8,
     "metadata": {},
     "output_type": "execute_result"
    }
   ],
   "source": [
    "import decomposable as de\n",
    "import parsers \n",
    "GLOVE_FILE = '../glove_filtered00.txt'\n",
    "SNLI_TRAIN = '../snli_1.0/snli_1.0_train_stripped.txt'\n",
    "SNLI_DEV = '../snli_1.0/snli_1.0_dev_stripped.txt'\n",
    "max_cases = 0\n",
    "reload(de)\n",
    "reload(de.net)"
   ]
  },
  {
   "cell_type": "code",
   "execution_count": 9,
   "metadata": {},
   "outputs": [],
   "source": [
    "train_data, labels = parsers.load_snli(SNLI_TRAIN, max_cases)\n",
    "dev_data, labels = parsers.load_snli(SNLI_DEV, labels=labels)\n",
    "    "
   ]
  },
  {
   "cell_type": "code",
   "execution_count": 10,
   "metadata": {},
   "outputs": [
    {
     "name": "stdout",
     "output_type": "stream",
     "text": [
      "['La', 'Lo', 'glassblowers', 'want', 'absolute', 'wracked', 'LA', 'travel', 'shirked', 'copious']\n"
     ]
    }
   ],
   "source": [
    "with open(GLOVE_FILE, 'rt') as a:\n",
    "    glove = parsers.glove_embeddings(a)\n"
   ]
  },
  {
   "cell_type": "code",
   "execution_count": 11,
   "metadata": {},
   "outputs": [],
   "source": [
    "matrices = pc.lookup_parameters_list() + pc.parameters_list()"
   ]
  },
  {
   "cell_type": "code",
   "execution_count": 12,
   "metadata": {},
   "outputs": [
    {
     "name": "stdout",
     "output_type": "stream",
     "text": [
      "loading pretrained inputs\n",
      "dimension reducer [1]\n",
      "attend [2, 3, 4, 5]\n",
      "compare [6, 7, 8, 9]\n",
      "aggregate [10, 11, 12, 13]\n",
      "layer sizes [200, 200, 200]\n",
      "layer sizes [400, 200, 200]\n",
      "layer sizes [400, 400, 3]\n"
     ]
    }
   ],
   "source": [
    "myde = de.decomposable(glove, 300,200, 3, pc, matrices)"
   ]
  },
  {
   "cell_type": "code",
   "execution_count": 13,
   "metadata": {},
   "outputs": [
    {
     "name": "stdout",
     "output_type": "stream",
     "text": [
      "attend [(200, 200), (200, 200)]\n",
      "attend [(200,), (200,)]\n",
      "compare [(200, 400), (200, 200)]\n",
      "aggregate [(400, 400), (3, 400)]\n"
     ]
    }
   ],
   "source": [
    "print \"attend\", [x.npvalue().shape for x in myde.attend.params[\"W\"]]\n",
    "print \"attend\", [x.npvalue().shape for x in myde.attend.params[\"b\"]]\n",
    "print \"compare\", [x.npvalue().shape for x in myde.compare.params[\"W\"]]\n",
    "print \"aggregate\", [x.npvalue().shape for x in myde.aggregate.params[\"W\"]]"
   ]
  },
  {
   "cell_type": "code",
   "execution_count": 14,
   "metadata": {},
   "outputs": [
    {
     "data": {
      "text/plain": [
       "[(1, (200, 300)),\n",
       " (2, (200, 200)),\n",
       " (3, (200,)),\n",
       " (4, (200, 200)),\n",
       " (5, (200,)),\n",
       " (6, (200, 400)),\n",
       " (7, (200,)),\n",
       " (8, (200, 200)),\n",
       " (9, (200,)),\n",
       " (10, (400, 400)),\n",
       " (11, (400,)),\n",
       " (12, (3, 400)),\n",
       " (13, (3,))]"
      ]
     },
     "execution_count": 14,
     "metadata": {},
     "output_type": "execute_result"
    }
   ],
   "source": [
    "[(i, x.npvalue().shape)  for i, x in enumerate(matrices[1:],1)] "
   ]
  },
  {
   "cell_type": "code",
   "execution_count": 15,
   "metadata": {},
   "outputs": [
    {
     "name": "stdout",
     "output_type": "stream",
     "text": [
      "attend [200, 200, 200]\n",
      "compare [400, 200, 200]\n",
      "aggregate [400, 400, 3]\n"
     ]
    }
   ],
   "source": [
    "print \"attend\", myde.attend.layer_sizes\n",
    "print \"compare\", myde.compare.layer_sizes\n",
    "print \"aggregate\", myde.aggregate.layer_sizes"
   ]
  },
  {
   "cell_type": "code",
   "execution_count": 16,
   "metadata": {},
   "outputs": [],
   "source": [
    "def evaluate_accuracy(deco, dataset):\n",
    "    i = 0\n",
    "    mloss = 0.\n",
    "    goods = 0\n",
    "    for x, y in dataset:\n",
    "        i = i + 1\n",
    "        mloss = mloss + deco.eval_loss(x, y).npvalue()\n",
    "        good = y == deco.last_case_class\n",
    "        goods += int(good)\n",
    "        dy.renew_cg()\n",
    "        if i % 10000 == 1000:\n",
    "            print \"{} cases\".format(i)\n",
    "    return goods, i, mloss\n"
   ]
  },
  {
   "cell_type": "code",
   "execution_count": 17,
   "metadata": {},
   "outputs": [
    {
     "name": "stdout",
     "output_type": "stream",
     "text": [
      "1000 cases\n",
      "(4193, 9842, array([13118.62008694]))\n"
     ]
    }
   ],
   "source": [
    "ret = evaluate_accuracy(myde, dev_data)\n",
    "print ret"
   ]
  },
  {
   "cell_type": "code",
   "execution_count": 98,
   "metadata": {},
   "outputs": [
    {
     "ename": "ValueError",
     "evalue": "Failed dimension check in MatrixMultiply::forward",
     "output_type": "error",
     "traceback": [
      "\u001b[0;31m---------------------------------------------------------------------------\u001b[0m",
      "\u001b[0;31mValueError\u001b[0m                                Traceback (most recent call last)",
      "\u001b[0;32m<ipython-input-98-eda1efb9c004>\u001b[0m in \u001b[0;36m<module>\u001b[0;34m()\u001b[0m\n\u001b[0;32m----> 1\u001b[0;31m \u001b[0mmyde\u001b[0m\u001b[0;34m.\u001b[0m\u001b[0mparams\u001b[0m\u001b[0;34m[\u001b[0m\u001b[0;34m\"E\"\u001b[0m\u001b[0;34m]\u001b[0m\u001b[0;34m.\u001b[0m\u001b[0mnpvalue\u001b[0m\u001b[0;34m(\u001b[0m\u001b[0;34m)\u001b[0m\u001b[0;34m.\u001b[0m\u001b[0mshape\u001b[0m\u001b[0;34m\u001b[0m\u001b[0m\n\u001b[0m",
      "\u001b[0;32m_dynet.pyx\u001b[0m in \u001b[0;36m_dynet.LookupParameters.npvalue\u001b[0;34m()\u001b[0m\n",
      "\u001b[0;32m_dynet.pyx\u001b[0m in \u001b[0;36m_dynet.LookupParameters.npvalue\u001b[0;34m()\u001b[0m\n",
      "\u001b[0;32m_dynet.pyx\u001b[0m in \u001b[0;36m_dynet.Expression.npvalue\u001b[0;34m()\u001b[0m\n",
      "\u001b[0;31mValueError\u001b[0m: Failed dimension check in MatrixMultiply::forward"
     ]
    }
   ],
   "source": [
    "myde.params[\"E\"].npvalue().shape"
   ]
  },
  {
   "cell_type": "code",
   "execution_count": 18,
   "metadata": {},
   "outputs": [
    {
     "data": {
      "text/plain": [
       "0.4260312944523471"
      ]
     },
     "execution_count": 18,
     "metadata": {},
     "output_type": "execute_result"
    }
   ],
   "source": [
    "4193./9842\n"
   ]
  },
  {
   "cell_type": "code",
   "execution_count": null,
   "metadata": {},
   "outputs": [],
   "source": []
  }
 ],
 "metadata": {
  "kernelspec": {
   "display_name": "Python 2",
   "language": "python",
   "name": "python2"
  },
  "language_info": {
   "codemirror_mode": {
    "name": "ipython",
    "version": 2
   },
   "file_extension": ".py",
   "mimetype": "text/x-python",
   "name": "python",
   "nbconvert_exporter": "python",
   "pygments_lexer": "ipython2",
   "version": "2.7.15rc1"
  }
 },
 "nbformat": 4,
 "nbformat_minor": 2
}
