{
 "cells": [
  {
   "cell_type": "code",
   "execution_count": 1,
   "metadata": {},
   "outputs": [],
   "source": [
    "\n",
    "from importlib import reload\n",
    "import numpy as np\n",
    "from collections import Counter"
   ]
  },
  {
   "cell_type": "markdown",
   "metadata": {},
   "source": [
    "### Testing the processing of the input\n",
    "from the text file to countrs"
   ]
  },
  {
   "cell_type": "code",
   "execution_count": 2,
   "metadata": {},
   "outputs": [
    {
     "data": {
      "text/plain": [
       "<module 'training' from 'C:\\\\Shahar\\\\BarIlan\\\\NLP-courses\\\\89680-NLP\\\\assignment1\\\\code\\\\training.py'>"
      ]
     },
     "execution_count": 2,
     "metadata": {},
     "output_type": "execute_result"
    }
   ],
   "source": [
    "import training\n",
    "reload(training)"
   ]
  },
  {
   "cell_type": "code",
   "execution_count": 3,
   "metadata": {},
   "outputs": [],
   "source": [
    "train_data = training.read_input('..\\\\data\\\\ass1-tagger-train')"
   ]
  },
  {
   "cell_type": "code",
   "execution_count": 4,
   "metadata": {},
   "outputs": [
    {
     "data": {
      "text/plain": [
       "array([[16241, 35537,  1296, ...,     0,     4,     0],\n",
       "       [11422,  2228, 15759, ...,     2,     2,     1],\n",
       "       [ 5335,  3882, 34465, ...,     0,     1,     0],\n",
       "       ...,\n",
       "       [    2,     7,     0, ...,     3,     0,     0],\n",
       "       [    3,     2,     2, ...,     0,     0,     0],\n",
       "       [    0,     0,     0, ...,     0,     0,     0]])"
      ]
     },
     "execution_count": 4,
     "metadata": {},
     "output_type": "execute_result"
    }
   ],
   "source": [
    "train_data.pos_counter1"
   ]
  },
  {
   "cell_type": "code",
   "execution_count": 7,
   "metadata": {},
   "outputs": [
    {
     "data": {
      "text/plain": [
       "(47, 47)"
      ]
     },
     "execution_count": 7,
     "metadata": {},
     "output_type": "execute_result"
    }
   ],
   "source": [
    "train_data.pos_counter1.shape"
   ]
  },
  {
   "cell_type": "code",
   "execution_count": 8,
   "metadata": {},
   "outputs": [
    {
     "data": {
      "text/plain": [
       "array([132935, 107862,  91466,  81832,  61217,  59856,  48727,      0,\n",
       "        39832,  39478,  36568,  30970,  29889,  26438,  23959,  21672,\n",
       "        20024,  17436,  14846,  13049,  12491,   9803,   8701,   8407,\n",
       "         7372,   7092,   6919,   4772,   4294,   3238,   2673,   2662,\n",
       "         2363,   2143,   1947,   1768,   1376,   1366,    863,    451,\n",
       "          368,    234,    168,    142,     97,     58,     36])"
      ]
     },
     "execution_count": 8,
     "metadata": {},
     "output_type": "execute_result"
    }
   ],
   "source": [
    "np.sum(train_data.pos_counter1, axis=0)"
   ]
  },
  {
   "cell_type": "code",
   "execution_count": 10,
   "metadata": {},
   "outputs": [
    {
     "data": {
      "text/plain": [
       "array([132869, 107830,  91342,  81825,  61213,  59797,  48721,  39832,\n",
       "        39832,   2765,  36545,  30956,  29886,  26434,  23959,  21671,\n",
       "        20020,  17436,  14846,  13049,  12490,   9803,   8701,   8407,\n",
       "         7372,   7076,   4640,   4473,   4294,   3237,   2652,   2661,\n",
       "         2363,   2143,   1947,   1768,   1227,   1366,    863,    451,\n",
       "          368,    234,    168,    142,     97,     53,     36])"
      ]
     },
     "execution_count": 10,
     "metadata": {},
     "output_type": "execute_result"
    }
   ],
   "source": [
    "np.sum(train_data.pos_counter1, axis=1)"
   ]
  },
  {
   "cell_type": "code",
   "execution_count": 9,
   "metadata": {},
   "outputs": [
    {
     "data": {
      "text/plain": [
       "OrderedDict([('NN', 0),\n",
       "             ('IN', 1),\n",
       "             ('NNP', 2),\n",
       "             ('DT', 3),\n",
       "             ('JJ', 4),\n",
       "             ('NNS', 5),\n",
       "             (',', 6),\n",
       "             ('*', 7),\n",
       "             ('**', 8),\n",
       "             ('.', 9),\n",
       "             ('CD', 10),\n",
       "             ('RB', 11),\n",
       "             ('VBD', 12),\n",
       "             ('VB', 13),\n",
       "             ('CC', 14),\n",
       "             ('VBZ', 15),\n",
       "             ('VBN', 16),\n",
       "             ('PRP', 17),\n",
       "             ('VBG', 18),\n",
       "             ('TO', 19),\n",
       "             ('VBP', 20),\n",
       "             ('MD', 21),\n",
       "             ('POS', 22),\n",
       "             ('PRP$', 23),\n",
       "             ('$', 24),\n",
       "             ('``', 25),\n",
       "             (\"''\", 26),\n",
       "             (':', 27),\n",
       "             ('WDT', 28),\n",
       "             ('JJR', 29),\n",
       "             ('NNPS', 30),\n",
       "             ('RP', 31),\n",
       "             ('WP', 32),\n",
       "             ('WRB', 33),\n",
       "             ('JJS', 34),\n",
       "             ('RBR', 35),\n",
       "             (')', 36),\n",
       "             ('(', 37),\n",
       "             ('EX', 38),\n",
       "             ('RBS', 39),\n",
       "             ('PDT', 40),\n",
       "             ('FW', 41),\n",
       "             ('WP$', 42),\n",
       "             ('#', 43),\n",
       "             ('UH', 44),\n",
       "             ('SYM', 45),\n",
       "             ('LS', 46)])"
      ]
     },
     "execution_count": 9,
     "metadata": {},
     "output_type": "execute_result"
    }
   ],
   "source": [
    "train_data.pos_items"
   ]
  },
  {
   "cell_type": "code",
   "execution_count": 12,
   "metadata": {},
   "outputs": [
    {
     "data": {
      "text/plain": [
       "16252"
      ]
     },
     "execution_count": 12,
     "metadata": {},
     "output_type": "execute_result"
    }
   ],
   "source": [
    "train_data.pos_counter1[0,0]\n"
   ]
  },
  {
   "cell_type": "code",
   "execution_count": 15,
   "metadata": {},
   "outputs": [],
   "source": [
    "with open('..\\\\data\\\\ass1-tagger-train','rt',encoding='utf8') as a:\n",
    "        file_as_string = a.read()\n",
    "\n",
    "    # single counters\n",
    "word_pos_pairs = [w.rsplit(\"/\",1) for w in file_as_string.split()] #rsplit(\"/\",1): split on the first slash from the right\n",
    "   "
   ]
  },
  {
   "cell_type": "code",
   "execution_count": 20,
   "metadata": {},
   "outputs": [
    {
     "name": "stdout",
     "output_type": "stream",
     "text": [
      "1307\n"
     ]
    }
   ],
   "source": [
    "c = 0\n",
    "prev = False\n",
    "for p in word_pos_pairs:\n",
    "    if p[1]=='NNP':\n",
    "        if prev:\n",
    "            c +=1\n",
    "    if p[1]=='NN':\n",
    "        prev=True\n",
    "    else:\n",
    "        prev=False\n",
    "print(c)"
   ]
  },
  {
   "cell_type": "code",
   "execution_count": 16,
   "metadata": {},
   "outputs": [
    {
     "data": {
      "text/plain": [
       "{'NN': 0,\n",
       " 'IN': 1,\n",
       " 'NNP': 2,\n",
       " 'DT': 3,\n",
       " 'JJ': 4,\n",
       " 'NNS': 5,\n",
       " ',': 6,\n",
       " '.': 7,\n",
       " 'CD': 8,\n",
       " 'RB': 9,\n",
       " 'VBD': 10,\n",
       " 'VB': 11,\n",
       " 'CC': 12,\n",
       " 'VBZ': 13,\n",
       " 'VBN': 14,\n",
       " 'PRP': 15,\n",
       " 'VBG': 16,\n",
       " 'TO': 17,\n",
       " 'VBP': 18,\n",
       " 'MD': 19,\n",
       " 'POS': 20,\n",
       " 'PRP$': 21,\n",
       " '$': 22,\n",
       " '``': 23,\n",
       " \"''\": 24,\n",
       " ':': 25,\n",
       " 'WDT': 26,\n",
       " 'JJR': 27,\n",
       " 'NNPS': 28,\n",
       " 'RP': 29,\n",
       " 'WP': 30,\n",
       " 'WRB': 31,\n",
       " 'JJS': 32,\n",
       " 'RBR': 33,\n",
       " ')': 34,\n",
       " '(': 35,\n",
       " 'EX': 36,\n",
       " 'RBS': 37,\n",
       " 'PDT': 38,\n",
       " 'FW': 39,\n",
       " 'WP$': 40,\n",
       " '#': 41,\n",
       " 'UH': 42,\n",
       " 'SYM': 43,\n",
       " 'LS': 44}"
      ]
     },
     "execution_count": 16,
     "metadata": {},
     "output_type": "execute_result"
    }
   ],
   "source": [
    "train_data.pos_items"
   ]
  },
  {
   "cell_type": "code",
   "execution_count": 44,
   "metadata": {},
   "outputs": [
    {
     "data": {
      "text/plain": [
       "[(('IN', 'DT', 'NN'), 15800),\n",
       " (('DT', 'JJ', 'NN'), 12188),\n",
       " (('DT', 'NN', 'IN'), 11674),\n",
       " (('NN', 'IN', 'DT'), 11498),\n",
       " (('NNP', 'NNP', 'NNP'), 9212),\n",
       " (('IN', 'DT', 'JJ'), 8086),\n",
       " (('JJ', 'NN', 'IN'), 7652),\n",
       " (('NNP', 'NNP', ','), 6971),\n",
       " (('IN', 'NNP', 'NNP'), 6242),\n",
       " (('NN', 'IN', 'NNP'), 6046)]"
      ]
     },
     "execution_count": 44,
     "metadata": {},
     "output_type": "execute_result"
    }
   ],
   "source": [
    "train_data.pos_counter2.most_common(10)"
   ]
  },
  {
   "cell_type": "code",
   "execution_count": 5,
   "metadata": {},
   "outputs": [
    {
     "data": {
      "text/plain": [
       "[(('IN', 'DT', 'NN'), 15796),\n",
       " (('DT', 'JJ', 'NN'), 12188),\n",
       " (('DT', 'NN', 'IN'), 11674),\n",
       " (('NN', 'IN', 'DT'), 11495),\n",
       " (('NNP', 'NNP', 'NNP'), 9129),\n",
       " (('*', '**', 'DT'), 8645),\n",
       " (('IN', 'DT', 'JJ'), 8084),\n",
       " (('*', '**', 'NNP'), 8036),\n",
       " (('JJ', 'NN', 'IN'), 7652),\n",
       " (('NNP', 'NNP', ','), 6961)]"
      ]
     },
     "execution_count": 5,
     "metadata": {},
     "output_type": "execute_result"
    }
   ],
   "source": [
    "train_data.pos_counter2.most_common(10)"
   ]
  },
  {
   "cell_type": "code",
   "execution_count": 47,
   "metadata": {},
   "outputs": [
    {
     "name": "stdout",
     "output_type": "stream",
     "text": [
      "6971\n"
     ]
    }
   ],
   "source": [
    "c = 0\n",
    "prev = ['start']*3\n",
    "for p in word_pos_pairs:\n",
    "    prev.append(p[1])\n",
    "    prev = prev[1:]\n",
    "    if all([x==y for x,y in zip(prev, ['NNP','NNP',','])]):\n",
    "            c +=1\n",
    "print(c)"
   ]
  },
  {
   "cell_type": "code",
   "execution_count": 6,
   "metadata": {},
   "outputs": [
    {
     "name": "stdout",
     "output_type": "stream",
     "text": [
      "('', array([    0,     0,     0,     0,     0,     0,     0, 39832, 39832,\n",
      "           0,     0,     0,     0,     0,     0,     0,     0,     0,\n",
      "           0,     0,     0,     0,     0,     0,     0,     0,     0,\n",
      "           0,     0,     0,     0,     0,     0,     0,     0,     0,\n",
      "           0,     0,     0,     0,     0,     0,     0,     0,     0,\n",
      "           0,     0]))\n",
      "('In', array([   0, 1735,    3,    0,    0,    0,    0,    0,    0,    0,    0,\n",
      "          1,    0,    0,    0,    0,    0,    0,    0,    0,    0,    0,\n",
      "          0,    0,    0,    0,    0,    0,    0,    0,    0,    0,    0,\n",
      "          0,    0,    1,    0,    0,    0,    0,    0,    0,    0,    0,\n",
      "          0,    0,    0]))\n",
      "('an', array([   0,    0,    0, 3142,    0,    0,    1,    0,    0,    0,    0,\n",
      "          0,    0,    0,    0,    0,    0,    0,    0,    0,    0,    0,\n",
      "          0,    0,    0,    0,    0,    0,    0,    0,    0,    0,    0,\n",
      "          0,    0,    0,    0,    0,    0,    0,    0,    0,    0,    0,\n",
      "          0,    0,    0]))\n",
      "('Oct.', array([  1,   0, 317,   0,   0,   0,   0,   0,   0,   0,   0,   0,   0,\n",
      "         0,   0,   0,   0,   0,   0,   0,   0,   0,   0,   0,   0,   0,\n",
      "         0,   0,   0,   0,   0,   0,   0,   0,   0,   0,   0,   0,   0,\n",
      "         0,   0,   0,   0,   0,   0,   0,   0]))\n",
      "('19', array([  0,   0,   0,   0,   0,   0,   0,   0,   0,   0, 100,   0,   0,\n",
      "         0,   0,   0,   0,   0,   0,   0,   0,   0,   0,   0,   0,   0,\n",
      "         0,   0,   0,   0,   0,   0,   0,   0,   0,   0,   0,   0,   0,\n",
      "         0,   0,   0,   0,   0,   0,   0,   0]))\n"
     ]
    }
   ],
   "source": [
    "a=iter(train_data.word_counts.items())\n",
    "print(next(a))\n",
    "print(next(a))\n",
    "print(next(a))\n",
    "print(next(a))\n",
    "print(next(a))\n"
   ]
  },
  {
   "cell_type": "code",
   "execution_count": 64,
   "metadata": {},
   "outputs": [
    {
     "name": "stdout",
     "output_type": "stream",
     "text": [
      "('for', array([   0, 7971,    0,    0,    0,    0,    0,    0,    0,    1,    0,\n",
      "          0,    0,    0,    0,    0,    0,    0,    0,    0,    0,    0,\n",
      "          0,    0,    0,    0,    0,    0,    0,    4,    0,    0,    0,\n",
      "          0,    0,    0,    0,    0,    0,    0,    0,    0,    0,    0,\n",
      "          0]))\n",
      "('$', array([   0,    0,    0,    0,    0,    0,    0,    0,    0,    0,    0,\n",
      "          0,    0,    0,    0,    0,    0,    0,    0,    0,    0,    0,\n",
      "       7184,    0,    0,    0,    0,    0,    0,    0,    0,    0,    0,\n",
      "          0,    0,    0,    0,    0,    0,    0,    0,    0,    0,    0,\n",
      "          0]))\n",
      "('``', array([   0,    0,    0,    0,    0,    0,    0,    0,    0,    0,    0,\n",
      "          0,    0,    0,    0,    0,    0,    0,    0,    0,    0,    0,\n",
      "          0, 6967,    0,    0,    0,    0,    0,    0,    0,    0,    0,\n",
      "          0,    0,    0,    0,    0,    0,    0,    0,    0,    0,    0,\n",
      "          0]))\n",
      "('is', array([   0,    0,    0,    0,    0,    2,    0,    0,    0,    0,    0,\n",
      "          0,    0, 6936,    0,    0,    0,    0,    0,    0,    0,    0,\n",
      "          0,    0,    0,    0,    0,    0,    0,    0,    0,    0,    0,\n",
      "          0,    0,    0,    0,    0,    0,    0,    0,    0,    0,    0,\n",
      "          0]))\n"
     ]
    }
   ],
   "source": [
    "print(next(a))\n",
    "print(next(a))\n",
    "print(next(a))\n",
    "print(next(a))"
   ]
  },
  {
   "cell_type": "markdown",
   "metadata": {},
   "source": [
    "### testing getQ"
   ]
  },
  {
   "cell_type": "code",
   "execution_count": 106,
   "metadata": {},
   "outputs": [
    {
     "data": {
      "text/plain": [
       "<module 'config' from 'C:\\\\Shahar\\\\BarIlan\\\\NLP-courses\\\\89680-NLP\\\\assignment1\\\\code\\\\config.py'>"
      ]
     },
     "execution_count": 106,
     "metadata": {},
     "output_type": "execute_result"
    }
   ],
   "source": [
    "import training\n",
    "import config\n",
    "reload(training)\n",
    "reload(config)"
   ]
  },
  {
   "cell_type": "code",
   "execution_count": 107,
   "metadata": {},
   "outputs": [
    {
     "name": "stdout",
     "output_type": "stream",
     "text": [
      "count_abc: 1880\t count_ab: 34528\n",
      "count_bc: 3889\tcount_b:91466\n",
      "count_c:107862\tnumwods:950028\n",
      "ret:0.06031972574374116\n"
     ]
    },
    {
     "data": {
      "text/plain": [
       "0.06031972574374116"
      ]
     },
     "execution_count": 107,
     "metadata": {},
     "output_type": "execute_result"
    }
   ],
   "source": [
    "training.getQ(('NNP', 'NNP', 'IN'),train_data)"
   ]
  },
  {
   "cell_type": "code",
   "execution_count": 95,
   "metadata": {},
   "outputs": [
    {
     "data": {
      "text/plain": [
       "0.06031972333333333"
      ]
     },
     "execution_count": 95,
     "metadata": {},
     "output_type": "execute_result"
    }
   ],
   "source": [
    "np.array([0.05444856, 0.04251853, 0.1135356 ]).dot(np.array([3,2,1]))/(6)"
   ]
  },
  {
   "cell_type": "code",
   "execution_count": 85,
   "metadata": {},
   "outputs": [
    {
     "data": {
      "text/plain": [
       "array([[0.488167  , 0.72041033, 0.69743804],\n",
       "       [0.40514067, 0.59788459, 0.57881937],\n",
       "       [0.03069406, 0.04529662, 0.04385221]])"
      ]
     },
     "execution_count": 85,
     "metadata": {},
     "output_type": "execute_result"
    }
   ],
   "source": [
    "v = np.outer(np.random.rand(3),np.random.rand(3))\n",
    "v"
   ]
  },
  {
   "cell_type": "code",
   "execution_count": 96,
   "metadata": {},
   "outputs": [
    {
     "name": "stdout",
     "output_type": "stream",
     "text": [
      "count_abc: 1880\t count_ab: 34528\n",
      "count_bc: 3889\tcount_b:91466\n",
      "count_c:107862\tnumwods:950028\n",
      "ret:0.06031972574374116\n"
     ]
    },
    {
     "data": {
      "text/plain": [
       "2.808096101981414"
      ]
     },
     "execution_count": 96,
     "metadata": {},
     "output_type": "execute_result"
    }
   ],
   "source": [
    "training.getLogQ(('NNP', 'NNP', 'IN'),train_data)"
   ]
  },
  {
   "cell_type": "code",
   "execution_count": 97,
   "metadata": {},
   "outputs": [
    {
     "data": {
      "text/plain": [
       "-2.808096101981414"
      ]
     },
     "execution_count": 97,
     "metadata": {},
     "output_type": "execute_result"
    }
   ],
   "source": [
    "np.log(0.06031972574374116)"
   ]
  },
  {
   "cell_type": "code",
   "execution_count": 108,
   "metadata": {},
   "outputs": [
    {
     "data": {
      "text/plain": [
       "array([7.52247339e-06, 0.00000000e+00, 0.00000000e+00, 0.00000000e+00,\n",
       "       0.00000000e+00, 0.00000000e+00, 0.00000000e+00, 0.00000000e+00,\n",
       "       0.00000000e+00, 0.00000000e+00, 0.00000000e+00, 1.87608745e-02,\n",
       "       0.00000000e+00, 0.00000000e+00, 0.00000000e+00, 0.00000000e+00,\n",
       "       0.00000000e+00, 0.00000000e+00, 7.36530302e-03, 0.00000000e+00,\n",
       "       0.00000000e+00, 0.00000000e+00, 0.00000000e+00, 0.00000000e+00,\n",
       "       0.00000000e+00, 0.00000000e+00, 0.00000000e+00, 0.00000000e+00,\n",
       "       0.00000000e+00, 0.00000000e+00, 0.00000000e+00, 0.00000000e+00,\n",
       "       0.00000000e+00, 0.00000000e+00, 0.00000000e+00, 0.00000000e+00,\n",
       "       0.00000000e+00, 0.00000000e+00, 0.00000000e+00, 0.00000000e+00,\n",
       "       0.00000000e+00, 0.00000000e+00, 0.00000000e+00, 0.00000000e+00,\n",
       "       0.00000000e+00])"
      ]
     },
     "execution_count": 108,
     "metadata": {},
     "output_type": "execute_result"
    }
   ],
   "source": [
    "training.getEs('make',train_data)"
   ]
  },
  {
   "cell_type": "code",
   "execution_count": 109,
   "metadata": {},
   "outputs": [
    {
     "name": "stderr",
     "output_type": "stream",
     "text": [
      "C:\\Shahar\\BarIlan\\NLP-courses\\89680-NLP\\assignment1\\code\\training.py:82: RuntimeWarning: divide by zero encountered in log\n"
     ]
    },
    {
     "data": {
      "text/plain": [
       "array([11.79761557,         inf,         inf,         inf,         inf,\n",
       "               inf,         inf,         inf,         inf,         inf,\n",
       "               inf,  3.97598172,         inf,         inf,         inf,\n",
       "               inf,         inf,         inf,  4.91097509,         inf,\n",
       "               inf,         inf,         inf,         inf,         inf,\n",
       "               inf,         inf,         inf,         inf,         inf,\n",
       "               inf,         inf,         inf,         inf,         inf,\n",
       "               inf,         inf,         inf,         inf,         inf,\n",
       "               inf,         inf,         inf,         inf,         inf])"
      ]
     },
     "execution_count": 109,
     "metadata": {},
     "output_type": "execute_result"
    }
   ],
   "source": [
    "training.getLogEs('make',train_data)"
   ]
  },
  {
   "cell_type": "code",
   "execution_count": 103,
   "metadata": {},
   "outputs": [
    {
     "data": {
      "text/plain": [
       "45"
      ]
     },
     "execution_count": 103,
     "metadata": {},
     "output_type": "execute_result"
    }
   ],
   "source": [
    "len(train_data.word_counts['make'])"
   ]
  },
  {
   "cell_type": "code",
   "execution_count": 104,
   "metadata": {},
   "outputs": [
    {
     "data": {
      "text/plain": [
       "45"
      ]
     },
     "execution_count": 104,
     "metadata": {},
     "output_type": "execute_result"
    }
   ],
   "source": [
    "len(train_data.pos_counter)"
   ]
  },
  {
   "cell_type": "code",
   "execution_count": 195,
   "metadata": {},
   "outputs": [
    {
     "data": {
      "text/plain": [
       "[3, 2, 1]"
      ]
     },
     "execution_count": 195,
     "metadata": {},
     "output_type": "execute_result"
    }
   ],
   "source": [
    "a=[1,2,3]\n",
    "a.reverse()\n",
    "a\n"
   ]
  },
  {
   "cell_type": "code",
   "execution_count": 92,
   "metadata": {},
   "outputs": [
    {
     "name": "stdout",
     "output_type": "stream",
     "text": [
      "[0.03069406 0.04529662 0.04385221]\n",
      "[[0.03069406 0.04529662 0.04385221]\n",
      " [0.03069406 0.04529662 0.04385221]\n",
      " [0.03069406 0.04529662 0.04385221]\n",
      " [0.03069406 0.04529662 0.04385221]\n",
      " [0.03069406 0.04529662 0.04385221]]\n"
     ]
    }
   ],
   "source": [
    "e=np.min(v,axis=0)\n",
    "print(e.T)\n",
    "print(np.tile(e,(5,1)))"
   ]
  },
  {
   "cell_type": "markdown",
   "metadata": {},
   "source": [
    "### testing viterbi"
   ]
  },
  {
   "cell_type": "code",
   "execution_count": 284,
   "metadata": {},
   "outputs": [],
   "source": [
    "import config\n",
    "reload(config)\n",
    "import training\n",
    "reload(training)\n",
    "import viterbi\n",
    "reload(viterbi)\n",
    "trigram_viterbi = viterbi.trigram_viterbi\n",
    "another_viterbi = viterbi.another_viterbi"
   ]
  },
  {
   "cell_type": "code",
   "execution_count": 180,
   "metadata": {},
   "outputs": [],
   "source": [
    "train_data_partial = training.read_input('..\\\\data\\\\ass1-tagger-train',['VBD','JJ','PRP$','VBZ'])"
   ]
  },
  {
   "cell_type": "code",
   "execution_count": 207,
   "metadata": {},
   "outputs": [],
   "source": [
    "train_data = training.read_input('..\\\\data\\\\ass1-tagger-train')"
   ]
  },
  {
   "cell_type": "code",
   "execution_count": 219,
   "metadata": {},
   "outputs": [
    {
     "data": {
      "text/plain": [
       "array([0.00011284, 0.        , 0.        , 0.        , 0.        ,\n",
       "       0.        , 0.00056803, 0.        , 0.        , 0.        ,\n",
       "       0.        , 0.        , 0.        , 0.        , 0.        ,\n",
       "       0.        , 0.        , 0.        , 0.        , 0.        ,\n",
       "       0.        , 0.        , 0.        , 0.        , 0.        ,\n",
       "       0.        , 0.        , 0.        , 0.        , 0.        ,\n",
       "       0.        , 0.        , 0.        , 0.        , 0.        ,\n",
       "       0.        , 0.        , 0.        , 0.        , 0.        ,\n",
       "       0.        , 0.        , 0.        , 0.        , 0.        ,\n",
       "       0.        ])"
      ]
     },
     "execution_count": 219,
     "metadata": {},
     "output_type": "execute_result"
    }
   ],
   "source": [
    "training.getEs('electronics',train_data)"
   ]
  },
  {
   "cell_type": "code",
   "execution_count": 181,
   "metadata": {},
   "outputs": [
    {
     "data": {
      "text/plain": [
       "OrderedDict([('*', 0), ('JJ', 1), ('VBD', 2), ('VBZ', 3), ('PRP$', 4)])"
      ]
     },
     "execution_count": 181,
     "metadata": {},
     "output_type": "execute_result"
    }
   ],
   "source": [
    "train_data_partial.pos_items"
   ]
  },
  {
   "cell_type": "code",
   "execution_count": 285,
   "metadata": {},
   "outputs": [
    {
     "name": "stdout",
     "output_type": "stream",
     "text": [
      "first_word_state_probabilities [       inf        inf 9.23115567        inf        inf        inf\n",
      "        inf        inf        inf        inf        inf        inf\n",
      "        inf        inf        inf        inf        inf        inf\n",
      "        inf        inf        inf        inf        inf        inf\n",
      "        inf        inf        inf        inf        inf        inf\n",
      "        inf        inf        inf        inf        inf        inf\n",
      "        inf        inf        inf        inf        inf        inf\n",
      "        inf        inf        inf        inf]\n"
     ]
    },
    {
     "data": {
      "text/plain": [
       "[2, 14, 13, 14, 6]"
      ]
     },
     "execution_count": 285,
     "metadata": {},
     "output_type": "execute_result"
    }
   ],
   "source": [
    "v, bp, y =another_viterbi(['Bell', 'makes','and','distributes','electronics'], train_data)\n",
    "y"
   ]
  },
  {
   "cell_type": "code",
   "execution_count": 280,
   "metadata": {},
   "outputs": [
    {
     "name": "stdout",
     "output_type": "stream",
     "text": [
      "first_word_state_probabilities [        inf         inf 10.32976796         inf         inf 14.29561545\n",
      "         inf         inf         inf         inf         inf         inf\n",
      "         inf         inf         inf         inf         inf         inf\n",
      "         inf         inf         inf         inf         inf         inf\n",
      "         inf         inf         inf         inf         inf         inf\n",
      "         inf         inf         inf         inf         inf         inf\n",
      "         inf         inf         inf         inf         inf         inf\n",
      "         inf         inf         inf         inf]\n"
     ]
    },
    {
     "data": {
      "text/plain": [
       "[-1, -1, -1, 5, 0]"
      ]
     },
     "execution_count": 280,
     "metadata": {},
     "output_type": "execute_result"
    }
   ],
   "source": [
    "v, bp, y = another_viterbi(['Chief', 'analyst','says','group','likely'], train_data)\n",
    "y"
   ]
  },
  {
   "cell_type": "code",
   "execution_count": 287,
   "metadata": {},
   "outputs": [
    {
     "data": {
      "text/plain": [
       "'(.{,2}\\\\.)+'"
      ]
     },
     "execution_count": 287,
     "metadata": {},
     "output_type": "execute_result"
    }
   ],
   "source": [
    "\"(.{,2}\\.)+\""
   ]
  },
  {
   "cell_type": "code",
   "execution_count": 273,
   "metadata": {},
   "outputs": [
    {
     "data": {
      "text/plain": [
       "[2, 0, 14, 25, 21]"
      ]
     },
     "execution_count": 273,
     "metadata": {},
     "output_type": "execute_result"
    }
   ],
   "source": [
    "y\n"
   ]
  },
  {
   "cell_type": "code",
   "execution_count": 263,
   "metadata": {},
   "outputs": [
    {
     "data": {
      "text/plain": [
       "OrderedDict([('NN', 0),\n",
       "             ('IN', 1),\n",
       "             ('NNP', 2),\n",
       "             ('DT', 3),\n",
       "             ('*', 4),\n",
       "             ('JJ', 5),\n",
       "             ('NNS', 6),\n",
       "             (',', 7),\n",
       "             ('.', 8),\n",
       "             ('CD', 9),\n",
       "             ('RB', 10),\n",
       "             ('VBD', 11),\n",
       "             ('VB', 12),\n",
       "             ('CC', 13),\n",
       "             ('VBZ', 14),\n",
       "             ('VBN', 15),\n",
       "             ('PRP', 16),\n",
       "             ('VBG', 17),\n",
       "             ('TO', 18),\n",
       "             ('VBP', 19),\n",
       "             ('MD', 20),\n",
       "             ('POS', 21),\n",
       "             ('PRP$', 22),\n",
       "             ('$', 23),\n",
       "             ('``', 24),\n",
       "             (\"''\", 25),\n",
       "             (':', 26),\n",
       "             ('WDT', 27),\n",
       "             ('JJR', 28),\n",
       "             ('NNPS', 29),\n",
       "             ('RP', 30),\n",
       "             ('WP', 31),\n",
       "             ('WRB', 32),\n",
       "             ('JJS', 33),\n",
       "             ('RBR', 34),\n",
       "             (')', 35),\n",
       "             ('(', 36),\n",
       "             ('EX', 37),\n",
       "             ('RBS', 38),\n",
       "             ('PDT', 39),\n",
       "             ('FW', 40),\n",
       "             ('WP$', 41),\n",
       "             ('#', 42),\n",
       "             ('UH', 43),\n",
       "             ('SYM', 44),\n",
       "             ('LS', 45)])"
      ]
     },
     "execution_count": 263,
     "metadata": {},
     "output_type": "execute_result"
    }
   ],
   "source": [
    "train_data.pos_items"
   ]
  },
  {
   "cell_type": "code",
   "execution_count": 259,
   "metadata": {},
   "outputs": [
    {
     "data": {
      "text/plain": [
       "[array([[-1, -1, -1, ..., -1, -1, -1],\n",
       "        [-1, -1, -1, ..., -1, -1, -1],\n",
       "        [-1, -1, -1, ..., -1, -1, -1],\n",
       "        ...,\n",
       "        [-1, -1, -1, ..., -1, -1, -1],\n",
       "        [-1, -1, -1, ..., -1, -1, -1],\n",
       "        [-1, -1, -1, ..., -1, -1, -1]]), array([[-1, -1, -1, ..., -1, -1, -1],\n",
       "        [-1, -1, -1, ..., -1, -1, -1],\n",
       "        [-1, -1, -1, ..., -1, -1, -1],\n",
       "        ...,\n",
       "        [-1, -1, -1, ..., -1, -1, -1],\n",
       "        [-1, -1, -1, ..., -1, -1, -1],\n",
       "        [-1, -1, -1, ..., -1, -1, -1]]), array([[-1, -1, -1, ..., -1, -1, -1],\n",
       "        [-1, -1, -1, ..., -1, -1, -1],\n",
       "        [-1, -1, -1, ..., -1, -1, -1],\n",
       "        ...,\n",
       "        [-1, -1, -1, ..., -1, -1, -1],\n",
       "        [-1, -1, -1, ..., -1, -1, -1],\n",
       "        [-1, -1, -1, ..., -1, -1, -1]])]"
      ]
     },
     "execution_count": 259,
     "metadata": {},
     "output_type": "execute_result"
    }
   ],
   "source": [
    "bp"
   ]
  },
  {
   "cell_type": "code",
   "execution_count": 203,
   "metadata": {},
   "outputs": [
    {
     "name": "stdout",
     "output_type": "stream",
     "text": [
      "y: [0, 0]\n"
     ]
    }
   ],
   "source": [
    "\n",
    "# v, bp, y =another_viterbi(['proposed', 'limited','protected','experienced'], train_data_partial)\n",
    "v, bp, y =another_viterbi(['last', 'new','chief','payable'], train_data_partial)\n"
   ]
  },
  {
   "cell_type": "code",
   "execution_count": 242,
   "metadata": {},
   "outputs": [
    {
     "data": {
      "text/plain": [
       "17.091471500836086"
      ]
     },
     "execution_count": 242,
     "metadata": {},
     "output_type": "execute_result"
    }
   ],
   "source": [
    "v[1][2,14]"
   ]
  },
  {
   "cell_type": "code",
   "execution_count": 244,
   "metadata": {},
   "outputs": [
    {
     "data": {
      "text/plain": [
       "OrderedDict([('NN', 0),\n",
       "             ('IN', 1),\n",
       "             ('NNP', 2),\n",
       "             ('DT', 3),\n",
       "             ('*', 4),\n",
       "             ('JJ', 5),\n",
       "             ('NNS', 6),\n",
       "             (',', 7),\n",
       "             ('.', 8),\n",
       "             ('CD', 9),\n",
       "             ('RB', 10),\n",
       "             ('VBD', 11),\n",
       "             ('VB', 12),\n",
       "             ('CC', 13),\n",
       "             ('VBZ', 14),\n",
       "             ('VBN', 15),\n",
       "             ('PRP', 16),\n",
       "             ('VBG', 17),\n",
       "             ('TO', 18),\n",
       "             ('VBP', 19),\n",
       "             ('MD', 20),\n",
       "             ('POS', 21),\n",
       "             ('PRP$', 22),\n",
       "             ('$', 23),\n",
       "             ('``', 24),\n",
       "             (\"''\", 25),\n",
       "             (':', 26),\n",
       "             ('WDT', 27),\n",
       "             ('JJR', 28),\n",
       "             ('NNPS', 29),\n",
       "             ('RP', 30),\n",
       "             ('WP', 31),\n",
       "             ('WRB', 32),\n",
       "             ('JJS', 33),\n",
       "             ('RBR', 34),\n",
       "             (')', 35),\n",
       "             ('(', 36),\n",
       "             ('EX', 37),\n",
       "             ('RBS', 38),\n",
       "             ('PDT', 39),\n",
       "             ('FW', 40),\n",
       "             ('WP$', 41),\n",
       "             ('#', 42),\n",
       "             ('UH', 43),\n",
       "             ('SYM', 44),\n",
       "             ('LS', 45)])"
      ]
     },
     "execution_count": 244,
     "metadata": {},
     "output_type": "execute_result"
    }
   ],
   "source": [
    "train_data.pos_items"
   ]
  },
  {
   "cell_type": "code",
   "execution_count": 189,
   "metadata": {
    "collapsed": true
   },
   "outputs": [
    {
     "name": "stdout",
     "output_type": "stream",
     "text": [
      "increased [  0  17 128   0   0]\n",
      "proposed [ 0 40 32  0  0]\n",
      "disputed [0 2 4 0 0]\n",
      "required [ 0 10 15  0  0]\n",
      "added [  0   7 261   0   0]\n",
      "limited [ 0 60  4  0  0]\n",
      "announced [  0   4 153   0   0]\n",
      "offered [ 0  4 69  0  0]\n",
      "followed [ 0  1 40  0  0]\n",
      "featured [0 1 4 0 0]\n",
      "recorded [ 0  3 11  0  0]\n",
      "liberated [0 1 1 0 0]\n",
      "left [ 0  6 66  0  0]\n",
      "converted [0 2 4 0 0]\n",
      "continued [ 0 31 88  0  0]\n",
      "cut [ 0  1 36  0  0]\n",
      "attached [0 1 4 0 0]\n",
      "supposed [0 1 2 0 0]\n",
      "triggered [ 0  1 20  0  0]\n",
      "injured [0 5 1 0 0]\n",
      "protected [0 2 3 0 0]\n",
      "allowed [ 0  1 26  0  0]\n",
      "reported [  0   6 305   0   0]\n",
      "resigned [ 0  1 74  0  0]\n",
      "retired [ 0  8 10  0  0]\n",
      "tried [ 0  1 41  0  0]\n",
      "forced [ 0  5 19  0  0]\n",
      "used [ 0  7 77  0  0]\n",
      "worried [ 0 15  4  0  0]\n",
      "received [  0   1 115   0   0]\n",
      "troubled [ 0 38  2  0  0]\n",
      "traded [ 0  4 31  0  0]\n",
      "capped [ 0  3 14  0  0]\n",
      "prepared [ 0 21  6  0  0]\n",
      "closed [  0  29 286   0   0]\n",
      "observed [ 0  2 10  0  0]\n",
      "agreed [  0   1 211   0   0]\n",
      "noted [  0   1 128   0   0]\n",
      "suggested [ 0  1 31  0  0]\n",
      "calculated [0 3 1 0 0]\n",
      "promised [ 0  2 18  0  0]\n",
      "fell [  0   1 429   0   0]\n",
      "failed [ 0  6 80  0  0]\n",
      "finished [ 0  1 42  0  0]\n",
      "reserved [0 1 1 0 0]\n",
      "revised [ 0 14  7  0  0]\n",
      "held [ 0 20 67  0  0]\n",
      "adjusted [ 0 10  1  0  0]\n",
      "my [  0   1   0   0 212]\n",
      "asked [  0   2 101   0   0]\n",
      "wanted [ 0  1 91  0  0]\n",
      "signed [ 0  1 49  0  0]\n",
      "watched [0 1 8 0 0]\n",
      "included [  0   1 115   0   0]\n",
      "convinced [0 9 1 0 0]\n",
      "involved [ 0 11 15  0  0]\n",
      "acknowledged [ 0  1 25  0  0]\n",
      "complicated [0 6 1 0 0]\n",
      "unraveled [0 1 1 0 0]\n",
      "preferred [ 0 48  8  0  0]\n",
      "set [ 0  1 49  0  0]\n",
      "softened [0 1 1 0 0]\n",
      "delighted [0 3 1 0 0]\n",
      "opposed [ 0  2 15  0  0]\n",
      "secured [ 0 10  1  0  0]\n",
      "estimated [ 0 32 52  0  0]\n",
      "planned [ 0 28 27  0  0]\n",
      "expected [ 0 37 49  0  0]\n",
      "manufactured [0 3 4 0 0]\n",
      "suspected [0 1 2 0 0]\n",
      "reduced [ 0 15 34  0  0]\n",
      "established [ 0  5 12  0  0]\n",
      "applied [0 1 9 0 0]\n",
      "stewed [0 1 1 0 0]\n",
      "acquired [ 0  1 57  0  0]\n",
      "advanced [ 0 22 46  0  0]\n",
      "purchased [ 0  1 19  0  0]\n",
      "pleased [ 0 11  2  0  0]\n",
      "listed [0 7 5 0 0]\n",
      "isolated [0 2 3 0 0]\n",
      "depressed [ 0 11  2  0  0]\n",
      "owned [ 0  2 20  0  0]\n",
      "alleged [ 0 18 11  0  0]\n",
      "abused [0 2 1 0 0]\n",
      "put [ 0  4 69  0  0]\n",
      "married [0 9 1 0 0]\n",
      "practiced [0 1 3 0 0]\n",
      "sweetened [0 1 5 0 0]\n",
      "jailed [0 1 1 0 0]\n",
      "focused [0 1 8 0 0]\n",
      "accepted [ 0  2 24  0  0]\n",
      "beat [0 1 5 0 0]\n",
      "disappointed [0 9 1 0 0]\n",
      "approved [ 0  2 64  0  0]\n",
      "subordinated [ 0 38  3  0  0]\n",
      "insured [ 0 16  1  0  0]\n",
      "combined [ 0 14  2  0  0]\n",
      "backed [ 0  1 19  0  0]\n",
      "surprised [ 0 10 11  0  0]\n",
      "specified [0 5 1 0 0]\n",
      "extended [ 0  7 13  0  0]\n",
      "elected [ 0  3 11  0  0]\n",
      "needed [ 0  5 36  0  0]\n",
      "indicated [ 0  9 42  0  0]\n",
      "lost [ 0  5 84  0  0]\n",
      "settled [ 0  1 23  0  0]\n",
      "organized [0 5 2 0 0]\n",
      "targeted [0 3 1 0 0]\n",
      "published [0 1 3 0 0]\n",
      "ousted [0 1 3 0 0]\n",
      "sealed [0 1 1 0 0]\n",
      "segregated [0 1 1 0 0]\n",
      "altered [0 2 2 0 0]\n",
      "threatened [ 0  1 15  0  0]\n",
      "developed [ 0  4 25  0  0]\n",
      "inspired [0 1 3 0 0]\n",
      "structured [0 4 1 0 0]\n",
      "concerned [ 0 25  1  0  0]\n",
      "affected [ 0 15  7  0  0]\n",
      "weakened [0 2 5 0 0]\n",
      "informed [0 3 5 0 0]\n",
      "related [ 0 28  4  0  0]\n",
      "covered [0 2 6 0 0]\n",
      "satisfied [0 4 1 0 0]\n",
      "delayed [0 3 5 0 0]\n",
      "enhanced [0 5 1 0 0]\n",
      "spent [ 0  1 44  0  0]\n",
      "issued [ 0  1 40  0  0]\n",
      "changed [ 0  7 36  0  0]\n",
      "distinguished [0 2 2 0 0]\n",
      "negotiated [0 1 7 0 0]\n",
      "frustrated [0 4 1 0 0]\n",
      "intended [ 0  4 13  0  0]\n",
      "encouraged [0 3 5 0 0]\n",
      "rounded [0 1 1 0 0]\n",
      "diminished [0 4 1 0 0]\n",
      "galvanized [0 7 3 0 0]\n",
      "scheduled [0 9 2 0 0]\n",
      "fixed [ 0 17  1  0  0]\n",
      "marked [ 0  3 15  0  0]\n",
      "restated [0 2 1 0 0]\n",
      "disclosed [ 0  1 41  0  0]\n",
      "stated [0 5 6 0 0]\n",
      "busted [0 1 1 0 0]\n",
      "hung [0 1 1 0 0]\n",
      "expanded [0 3 7 0 0]\n",
      "undercut [0 3 2 0 0]\n",
      "staggered [0 1 1 0 0]\n",
      "granted [0 1 4 0 0]\n",
      "licensed [0 3 4 0 0]\n",
      "collapsed [ 0  7 23  0  0]\n",
      "consolidated [ 0 17  1  0  0]\n",
      "diluted [0 5 2 0 0]\n",
      "determined [0 1 7 0 0]\n",
      "improved [ 0 20 19  0  0]\n",
      "scared [0 3 2 0 0]\n",
      "halved [0 1 1 0 0]\n",
      "committed [ 0 10  2  0  0]\n",
      "doomed [0 1 1 0 0]\n",
      "favored [0 2 6 0 0]\n",
      "implied [0 1 1 0 0]\n",
      "attempted [0 2 5 0 0]\n",
      "shredded [0 2 1 0 0]\n",
      "pointed [ 0  2 14  0  0]\n",
      "abandoned [ 0  1 12  0  0]\n",
      "formed [ 0  1 14  0  0]\n",
      "proved [ 0  1 14  0  0]\n",
      "sustained [ 0  3 14  0  0]\n",
      "recommended [ 0  3 15  0  0]\n",
      "rumored [0 3 1 0 0]\n",
      "repurchase [0 2 5 0 0]\n",
      "occupied [0 3 3 0 0]\n",
      "considered [ 0  2 13  0  0]\n",
      "projected [0 1 7 0 0]\n",
      "contemplated [0 1 1 0 0]\n",
      "controlled [0 4 6 0 0]\n",
      "monitored [0 1 5 0 0]\n",
      "advertised [0 1 2 0 0]\n",
      "frightened [0 2 2 0 0]\n",
      "unsettled [0 8 1 0 0]\n",
      "inflated [0 3 2 0 0]\n",
      "funded [0 4 1 0 0]\n",
      "registered [0 5 8 0 0]\n",
      "spotted [0 1 5 0 0]\n",
      "selected [0 3 4 0 0]\n",
      "concentrated [0 4 4 0 0]\n",
      "divested [0 1 1 0 0]\n",
      "authorized [ 0  2 13  0  0]\n",
      "reversed [0 1 6 0 0]\n",
      "hooked [0 2 1 0 0]\n",
      "experienced [0 9 9 0 0]\n",
      "suspended [ 0  1 17  0  0]\n",
      "installed [0 2 2 0 0]\n",
      "shared [0 1 4 0 0]\n",
      "assumed [ 0  1 12  0  0]\n",
      "painted [0 1 2 0 0]\n",
      "repeated [0 1 9 0 0]\n",
      "uncovered [0 1 3 0 0]\n",
      "rolled [0 1 8 0 0]\n",
      "stuck [0 2 6 0 0]\n",
      "capitalized [0 2 1 0 0]\n",
      "canceled [0 1 7 0 0]\n",
      "tendered [0 1 1 0 0]\n",
      "regarded [0 2 3 0 0]\n",
      "hurt [0 2 8 0 0]\n",
      "proclaimed [0 1 6 0 0]\n",
      "stunned [0 1 5 0 0]\n",
      "shuttered [0 1 1 0 0]\n",
      "slackened [0 1 1 0 0]\n",
      "snapped [0 1 5 0 0]\n",
      "respected [0 4 1 0 0]\n",
      "confused [0 1 1 0 0]\n",
      "angered [0 1 3 0 0]\n",
      "crowded [0 5 2 0 0]\n",
      "equipped [0 1 1 0 0]\n",
      "classified [0 3 1 0 0]\n",
      "strengthened [0 1 6 0 0]\n",
      "elevated [0 1 2 0 0]\n",
      "anticipated [ 0 10  4  0  0]\n",
      "tarnished [0 1 1 0 0]\n",
      "imported [0 2 1 0 0]\n",
      "exposed [0 1 2 0 0]\n",
      "pronounced [0 2 1 0 0]\n",
      "defaulted [0 2 2 0 0]\n",
      "processed [0 2 1 0 0]\n",
      "Put [0 3 2 0 0]\n",
      "patented [0 1 1 0 0]\n",
      "loaded [0 1 1 0 0]\n",
      "damaged [ 0 13  5  0  0]\n",
      "split [0 1 9 0 0]\n",
      "pursued [0 1 3 0 0]\n",
      "appointed [0 2 3 0 0]\n",
      "overwhelmed [0 1 1 0 0]\n",
      "dedicated [0 1 1 0 0]\n",
      "buckled [0 2 1 0 0]\n",
      "shattered [0 1 3 0 0]\n",
      "chartered [0 4 2 0 0]\n",
      "shocked [0 3 1 0 0]\n",
      "impressed [0 3 1 0 0]\n",
      "guaranteed [0 2 2 0 0]\n",
      "modernized [0 3 1 0 0]\n",
      "merged [0 7 7 0 0]\n",
      "outlawed [0 1 1 0 0]\n",
      "strapped [0 2 1 0 0]\n",
      "renewed [0 5 2 0 0]\n",
      "peaked [0 2 4 0 0]\n",
      "re-elected [0 1 1 0 0]\n",
      "transmitted [0 1 2 0 0]\n",
      "spoiled [0 1 1 0 0]\n",
      "unnerved [0 1 1 0 0]\n",
      "discounted [0 1 3 0 0]\n",
      "assured [0 1 2 0 0]\n",
      "accelerated [0 1 2 0 0]\n",
      "shelved [0 1 1 0 0]\n",
      "noticed [0 1 7 0 0]\n",
      "pitched [0 1 3 0 0]\n",
      "paved [0 2 1 0 0]\n",
      "battered [0 2 1 0 0]\n",
      "celebrated [0 2 2 0 0]\n",
      "relieved [0 2 1 0 0]\n",
      "reconstructed [0 1 1 0 0]\n",
      "arched [0 1 1 0 0]\n",
      "cheated [0 1 2 0 0]\n",
      "infected [0 8 1 0 0]\n",
      "deteriorated [0 1 1 0 0]\n",
      "crumpled [0 1 1 0 0]\n",
      "audited [0 1 1 0 0]\n",
      "foiled [0 1 1 0 0]\n",
      "restrained [0 2 1 0 0]\n",
      "drowned [0 1 1 0 0]\n",
      "supervised [0 2 2 0 0]\n",
      "annoyed [0 2 1 0 0]\n",
      "heightened [0 2 1 0 0]\n",
      "discouraged [0 1 1 0 0]\n",
      "fractured [0 1 1 0 0]\n",
      "measured [0 1 3 0 0]\n",
      "burned [0 1 2 0 0]\n",
      "stretched [0 2 1 0 0]\n",
      "dogged [0 1 1 0 0]\n",
      "qualified [0 1 2 0 0]\n",
      "pressured [0 2 2 0 0]\n",
      "ruptured [0 1 3 0 0]\n",
      "ground [0 1 1 0 0]\n",
      "tracked [0 1 2 0 0]\n",
      "contested [0 1 1 0 0]\n"
     ]
    }
   ],
   "source": [
    "for w, v in train_data_partial.word_counts.items():\n",
    "    if np.sum(v>0)>1:\n",
    "        print(w, v)"
   ]
  },
  {
   "cell_type": "code",
   "execution_count": 206,
   "metadata": {},
   "outputs": [
    {
     "name": "stdout",
     "output_type": "stream",
     "text": [
      "[[       inf 5.39895641        inf        inf        inf]\n",
      " [       inf 5.39895641        inf        inf        inf]\n",
      " [       inf 5.39895641        inf        inf        inf]\n",
      " [       inf 5.39895641        inf        inf        inf]\n",
      " [       inf 5.39895641        inf        inf        inf]]\n",
      "\n",
      "[[        inf         inf         inf         inf         inf]\n",
      " [        inf 10.19460437         inf         inf         inf]\n",
      " [        inf         inf         inf         inf         inf]\n",
      " [        inf         inf         inf         inf         inf]\n",
      " [        inf         inf         inf         inf         inf]]\n",
      "\n",
      "[[       inf        inf        inf        inf        inf]\n",
      " [       inf 16.5211737        inf        inf        inf]\n",
      " [       inf        inf        inf        inf        inf]\n",
      " [       inf        inf        inf        inf        inf]\n",
      " [       inf        inf        inf        inf        inf]]\n",
      "\n",
      "[[        inf         inf         inf         inf         inf]\n",
      " [        inf 25.08028427         inf         inf         inf]\n",
      " [        inf         inf         inf         inf         inf]\n",
      " [        inf         inf         inf         inf         inf]\n",
      " [        inf         inf         inf         inf         inf]]\n",
      "\n"
     ]
    }
   ],
   "source": [
    "for a in v:\n",
    "    print(f'{a}\\n')"
   ]
  },
  {
   "cell_type": "code",
   "execution_count": 192,
   "metadata": {},
   "outputs": [
    {
     "name": "stdout",
     "output_type": "stream",
     "text": [
      "[[       inf 8.62480785 8.2721253         inf        inf]\n",
      " [       inf 8.62480785 8.2721253         inf        inf]\n",
      " [       inf 8.62480785 8.2721253         inf        inf]\n",
      " [       inf 8.62480785 8.2721253         inf        inf]\n",
      " [       inf 8.62480785 8.2721253         inf        inf]]\n",
      "\n",
      "[[        inf         inf         inf         inf         inf]\n",
      " [        inf 16.57247933 19.11194738         inf         inf]\n",
      " [        inf 16.149827   18.864671           inf         inf]\n",
      " [        inf         inf         inf         inf         inf]\n",
      " [        inf         inf         inf         inf         inf]]\n",
      "\n",
      "[[        inf         inf         inf         inf         inf]\n",
      " [        inf 24.54261576 24.78613899         inf         inf]\n",
      " [        inf 27.1923619  27.50676067         inf         inf]\n",
      " [        inf         inf         inf         inf         inf]\n",
      " [        inf         inf         inf         inf         inf]]\n",
      "\n",
      "[[        inf         inf         inf         inf         inf]\n",
      " [        inf 32.53374229 35.43613716         inf         inf]\n",
      " [        inf 32.72044263 35.59211942         inf         inf]\n",
      " [        inf         inf         inf         inf         inf]\n",
      " [        inf         inf         inf         inf         inf]]\n",
      "\n",
      "[[        inf         inf         inf         inf         inf]\n",
      " [        inf 43.92606621 43.71494577         inf         inf]\n",
      " [        inf 46.77163818 46.52979966         inf         inf]\n",
      " [        inf         inf         inf         inf         inf]\n",
      " [        inf         inf         inf         inf         inf]]\n",
      "\n",
      "[[        inf         inf         inf         inf         inf]\n",
      " [        inf 53.81431273 54.0086574          inf         inf]\n",
      " [        inf 53.54636939 53.70999598         inf         inf]\n",
      " [        inf         inf         inf         inf         inf]\n",
      " [        inf         inf         inf         inf         inf]]\n",
      "\n"
     ]
    }
   ],
   "source": [
    "for a in v:\n",
    "    print(f'{a}\\n')"
   ]
  },
  {
   "cell_type": "code",
   "execution_count": 150,
   "metadata": {},
   "outputs": [
    {
     "name": "stdout",
     "output_type": "stream",
     "text": [
      "1\n",
      "2\n",
      "3\n"
     ]
    }
   ],
   "source": [
    "for x in np.array([1,2,3]):\n",
    "    print(x)"
   ]
  },
  {
   "cell_type": "code",
   "execution_count": 131,
   "metadata": {},
   "outputs": [
    {
     "data": {
      "text/plain": [
       "OrderedDict([('NN', 0),\n",
       "             ('JJ', 1),\n",
       "             ('*', 2),\n",
       "             ('**', 3),\n",
       "             ('VBZ', 4),\n",
       "             ('PRP$', 5)])"
      ]
     },
     "execution_count": 131,
     "metadata": {},
     "output_type": "execute_result"
    }
   ],
   "source": [
    "train_data_partial.pos_items"
   ]
  },
  {
   "cell_type": "code",
   "execution_count": 132,
   "metadata": {},
   "outputs": [
    {
     "name": "stdout",
     "output_type": "stream",
     "text": [
      "[['a', 'b', 'c'], ['d', 'e', 'f']]\n"
     ]
    }
   ],
   "source": [
    "t =[['a','b','c'],['d','e','f']]\n",
    "x = [f for f in t]\n",
    "print(x)"
   ]
  },
  {
   "cell_type": "code",
   "execution_count": 134,
   "metadata": {},
   "outputs": [
    {
     "name": "stdout",
     "output_type": "stream",
     "text": [
      "Counter({'a': 2, 'b': 2, 'c': 1})\n"
     ]
    }
   ],
   "source": [
    "a = Counter()\n",
    "a.update(['a','b','c'])\n",
    "a.update('b')\n",
    "a.update('a')\n",
    "print(a)"
   ]
  },
  {
   "cell_type": "code",
   "execution_count": 137,
   "metadata": {},
   "outputs": [
    {
     "name": "stdout",
     "output_type": "stream",
     "text": [
      "('a', 2)\n",
      "('b', 2)\n",
      "('c', 1)\n"
     ]
    }
   ],
   "source": [
    "for t in a.most_common():\n",
    "    print(t)"
   ]
  },
  {
   "cell_type": "code",
   "execution_count": 14,
   "metadata": {},
   "outputs": [],
   "source": [
    "import test\n",
    "reload(test)\n",
    "food_train_data = test.food_train_data"
   ]
  },
  {
   "cell_type": "markdown",
   "metadata": {},
   "source": [
    "#### test using food train data"
   ]
  },
  {
   "cell_type": "code",
   "execution_count": 15,
   "metadata": {},
   "outputs": [
    {
     "data": {
      "text/plain": [
       "training_data(pos_items=OrderedDict([('start', 0), ('oeuvre', 1), ('main', 2), ('side', 3), ('drink', 4), ('dessert', 5)]), pos_counter=array([30, 15, 43, 30, 31, 22]), pos_counter1=array([[ 0, 10, 10,  4,  4,  2],\n",
       "       [ 0,  1,  8,  2,  4,  0],\n",
       "       [ 0,  1,  9, 10,  8, 12],\n",
       "       [ 0,  0,  2, 10,  5,  5],\n",
       "       [ 0,  3, 11,  4,  4,  1],\n",
       "       [ 0,  0,  3,  0,  6,  2]]), pos_counter2=Counter({('oeuvre', 'oeuvre', 'oeuvre'): 16, ('oeuvre', 'oeuvre', 'side'): 7, ('oeuvre', 'side', 'main'): 6, ('start', 'oeuvre', 'side'): 5, ('start', 'drink', 'oeuvre'): 5, ('start', 'oeuvre', 'oeuvre'): 4, ('start', 'side', 'main'): 4, ('side', 'main', 'drink'): 4, ('drink', 'oeuvre', 'oeuvre'): 4, ('start', 'start', 'oeuvre'): 3, ('start', 'oeuvre', 'main'): 3, ('start', 'side', 'drink'): 3, ('oeuvre', 'oeuvre', 'dessert'): 3, ('oeuvre', 'main', 'oeuvre'): 3, ('side', 'main', 'oeuvre'): 3, ('dessert', 'oeuvre', 'oeuvre'): 3, ('start', 'start', 'start'): 2, ('start', 'start', 'side'): 2, ('start', 'main', 'main'): 2, ('start', 'main', 'side'): 2, ('start', 'dessert', 'side'): 2, ('oeuvre', 'main', 'side'): 2, ('oeuvre', 'side', 'side'): 2, ('oeuvre', 'side', 'drink'): 2, ('oeuvre', 'dessert', 'drink'): 2, ('main', 'drink', 'drink'): 2, ('side', 'main', 'main'): 2, ('side', 'side', 'main'): 2, ('side', 'side', 'side'): 2, ('side', 'drink', 'oeuvre'): 2, ('side', 'drink', 'main'): 2, ('side', 'dessert', 'oeuvre'): 2, ('dessert', 'side', 'main'): 2, ('start', 'start', 'drink'): 1, ('start', 'start', 'dessert'): 1, ('start', 'main', 'oeuvre'): 1, ('start', 'main', 'drink'): 1, ('oeuvre', 'main', 'drink'): 1, ('oeuvre', 'main', 'dessert'): 1, ('oeuvre', 'dessert', 'side'): 1, ('main', 'oeuvre', 'oeuvre'): 1, ('main', 'oeuvre', 'main'): 1, ('main', 'oeuvre', 'side'): 1, ('main', 'main', 'oeuvre'): 1, ('main', 'side', 'main'): 1, ('main', 'side', 'dessert'): 1, ('main', 'drink', 'start'): 1, ('main', 'drink', 'oeuvre'): 1, ('main', 'drink', 'main'): 1, ('main', 'drink', 'side'): 1, ('main', 'dessert', 'side'): 1, ('side', 'main', 'side'): 1, ('side', 'main', 'dessert'): 1, ('side', 'drink', 'side'): 1, ('side', 'drink', 'dessert'): 1, ('drink', 'start', 'side'): 1, ('drink', 'oeuvre', 'main'): 1, ('drink', 'oeuvre', 'side'): 1, ('drink', 'oeuvre', 'dessert'): 1, ('drink', 'main', 'main'): 1, ('drink', 'main', 'side'): 1, ('drink', 'dessert', 'side'): 1, ('dessert', 'side', 'drink'): 1, ('dessert', 'side', 'dessert'): 1}), word_counts={'egg': array([0, 1, 0, 0, 3, 0]), 'salad': array([0, 2, 0, 4, 0, 0]), 'cookie': array([0, 0, 0, 0, 0, 2]), 'milk': array([0, 0, 0, 0, 5, 0]), 'cheese': array([0, 4, 0, 4, 0, 1]), 'soup': array([ 0,  3, 10,  4,  4,  0]), 'coke': array([0, 0, 0, 3, 8, 1]), 'ham': array([ 0,  5, 10,  1,  0,  0]), 'rice': array([0, 0, 3, 4, 0, 0]), 'quinoa': array([0, 0, 9, 2, 0, 0]), 'tuna': array([0, 0, 6, 0, 0, 0]), 'honey': array([0, 0, 0, 0, 3, 5]), 'nuts': array([0, 0, 2, 0, 0, 2])})"
      ]
     },
     "execution_count": 15,
     "metadata": {},
     "output_type": "execute_result"
    }
   ],
   "source": [
    "food_train_data"
   ]
  },
  {
   "cell_type": "code",
   "execution_count": 146,
   "metadata": {},
   "outputs": [],
   "source": [
    "import training\n",
    "reload(training)\n",
    "\n",
    "import viterbi\n",
    "reload(viterbi)\n",
    "trigram_viterbi = viterbi.trigram_viterbi\n",
    "\n",
    "\n",
    "import config\n",
    "reload(config)\n",
    "config.period='start'"
   ]
  },
  {
   "cell_type": "code",
   "execution_count": 21,
   "metadata": {},
   "outputs": [
    {
     "name": "stderr",
     "output_type": "stream",
     "text": [
      "C:\\Shahar\\BarIlan\\NLP-courses\\89680-NLP\\assignment1\\code\\training.py:94: RuntimeWarning: divide by zero encountered in log\n",
      "  return -np.log(train_data.word_counts[word]) + np.log(train_data.pos_counter)\n",
      "C:\\Shahar\\BarIlan\\NLP-courses\\89680-NLP\\assignment1\\code\\training.py:82: RuntimeWarning: divide by zero encountered in long_scalars\n",
      "  components = np.array([count_abc/count_ab, count_bc/count_b, count_c/numwords])\n",
      "C:\\Shahar\\BarIlan\\NLP-courses\\89680-NLP\\assignment1\\code\\training.py:82: RuntimeWarning: invalid value encountered in long_scalars\n",
      "  components = np.array([count_abc/count_ab, count_bc/count_b, count_c/numwords])\n",
      "C:\\Shahar\\BarIlan\\NLP-courses\\89680-NLP\\assignment1\\code\\viterbi.py:64: RuntimeWarning: invalid value encountered in add\n",
      "  V_r_tp = q_r_tp + np.tile(e_w_r,(T,1))\n",
      "C:\\ProgramData\\Anaconda3\\envs\\bari_env\\lib\\site-packages\\numpy\\core\\fromnumeric.py:83: RuntimeWarning: invalid value encountered in reduce\n",
      "  return ufunc.reduce(obj, axis, dtype, out, **passkwargs)\n"
     ]
    },
    {
     "data": {
      "text/plain": [
       "[0, 0, 0, 0, 0]"
      ]
     },
     "execution_count": 21,
     "metadata": {},
     "output_type": "execute_result"
    }
   ],
   "source": [
    "trigram_viterbi(['soup','egg','ham'],food_train_data)"
   ]
  },
  {
   "cell_type": "code",
   "execution_count": 86,
   "metadata": {},
   "outputs": [],
   "source": [
    "train_data = food_train_data\n",
    "sentence = ['soup','egg','ham']\n",
    "\n",
    "period = config.period\n",
    "pos_items = train_data.pos_items\n",
    "T = len(train_data.pos_items)\n",
    "V = np.zeros((T,T),np.double)\n",
    "V[pos_items[period],pos_items[period]] = 1\n",
    "bp = []\n"
   ]
  },
  {
   "cell_type": "code",
   "execution_count": 64,
   "metadata": {},
   "outputs": [],
   "source": [
    "siter = iter(sentence)\n"
   ]
  },
  {
   "cell_type": "code",
   "execution_count": 65,
   "metadata": {},
   "outputs": [],
   "source": [
    "#for word in sentence:\n",
    "word = next(siter)\n",
    "piiter = iter(enumerate(pos_items))"
   ]
  },
  {
   "cell_type": "code",
   "execution_count": 66,
   "metadata": {},
   "outputs": [],
   "source": [
    "citer = iter(enumerate(pos_items))\n",
    "bp_n = -np.ones((T,T),np.int)\n",
    "e_w_r = training.getLogEs(word,train_data) # return a vector with entry per POS"
   ]
  },
  {
   "cell_type": "code",
   "execution_count": 67,
   "metadata": {},
   "outputs": [],
   "source": [
    "\n",
    "\n",
    "\n",
    "\n",
    "\n",
    "# for t,b in enumerate(pos_items):\n",
    "t, b = next(piiter)\n",
    "q_r_tp = np.zeros((T,T),np.double)\n",
    "#for r,c in enumerate(pos_items):\n",
    "\n",
    "\n"
   ]
  },
  {
   "cell_type": "code",
   "execution_count": 75,
   "metadata": {},
   "outputs": [
    {
     "ename": "StopIteration",
     "evalue": "",
     "output_type": "error",
     "traceback": [
      "\u001b[1;31m---------------------------------------------------------------------------\u001b[0m",
      "\u001b[1;31mStopIteration\u001b[0m                             Traceback (most recent call last)",
      "\u001b[1;32m<ipython-input-75-46404316fefe>\u001b[0m in \u001b[0;36m<module>\u001b[1;34m\u001b[0m\n\u001b[1;32m----> 1\u001b[1;33m \u001b[0mr\u001b[0m\u001b[1;33m,\u001b[0m\u001b[0mc\u001b[0m \u001b[1;33m=\u001b[0m \u001b[0mnext\u001b[0m\u001b[1;33m(\u001b[0m\u001b[0mciter\u001b[0m\u001b[1;33m)\u001b[0m\u001b[1;33m\u001b[0m\u001b[0m\n\u001b[0m\u001b[0;32m      2\u001b[0m \u001b[0msearch_triplets\u001b[0m \u001b[1;33m=\u001b[0m \u001b[1;33m[\u001b[0m\u001b[1;33m(\u001b[0m\u001b[0mtp\u001b[0m\u001b[1;33m,\u001b[0m\u001b[0mb\u001b[0m\u001b[1;33m,\u001b[0m\u001b[0mc\u001b[0m\u001b[1;33m)\u001b[0m \u001b[1;32mfor\u001b[0m \u001b[0mtp\u001b[0m \u001b[1;32min\u001b[0m \u001b[0mpos_items\u001b[0m\u001b[1;33m]\u001b[0m\u001b[1;33m\u001b[0m\u001b[0m\n\u001b[0;32m      3\u001b[0m \u001b[0mq_r_tp\u001b[0m\u001b[1;33m[\u001b[0m\u001b[0mr\u001b[0m\u001b[1;33m,\u001b[0m\u001b[1;33m:\u001b[0m\u001b[1;33m]\u001b[0m \u001b[1;33m=\u001b[0m \u001b[0mnp\u001b[0m\u001b[1;33m.\u001b[0m\u001b[0marray\u001b[0m\u001b[1;33m(\u001b[0m\u001b[1;33m[\u001b[0m\u001b[0mtraining\u001b[0m\u001b[1;33m.\u001b[0m\u001b[0mgetLogQ\u001b[0m\u001b[1;33m(\u001b[0m\u001b[0mtriplet\u001b[0m\u001b[1;33m,\u001b[0m\u001b[0mtrain_data\u001b[0m\u001b[1;33m)\u001b[0m \u001b[1;32mfor\u001b[0m \u001b[0mtriplet\u001b[0m \u001b[1;32min\u001b[0m \u001b[0msearch_triplets\u001b[0m\u001b[1;33m]\u001b[0m\u001b[1;33m)\u001b[0m\u001b[1;33m\u001b[0m\u001b[0m\n\u001b[0;32m      4\u001b[0m \u001b[1;33m\u001b[0m\u001b[0m\n\u001b[0;32m      5\u001b[0m \u001b[0mprint\u001b[0m\u001b[1;33m(\u001b[0m\u001b[0mr\u001b[0m\u001b[1;33m,\u001b[0m\u001b[0mc\u001b[0m\u001b[1;33m)\u001b[0m\u001b[1;33m\u001b[0m\u001b[0m\n",
      "\u001b[1;31mStopIteration\u001b[0m: "
     ]
    }
   ],
   "source": [
    "r,c = next(citer)\n",
    "search_triplets = [(tp,b,c) for tp in pos_items]\n",
    "q_r_tp[r,:] = np.array([training.getLogQ(triplet,train_data) for triplet in search_triplets])\n",
    "    \n",
    "print(r,c)"
   ]
  },
  {
   "cell_type": "code",
   "execution_count": 87,
   "metadata": {},
   "outputs": [
    {
     "data": {
      "text/plain": [
       "array([[       inf, 2.65675691, 2.50593402, 3.06222201, 3.09501184,\n",
       "               inf],\n",
       "       [       inf, 2.53159376, 2.38077087, 2.93705887, 2.96984869,\n",
       "               inf],\n",
       "       [       inf, 1.9308199 , 1.77999701, 2.33628501, 2.36907483,\n",
       "               inf],\n",
       "       [       inf, 2.43095024, 2.28012735, 2.83641535, 2.86920517,\n",
       "               inf],\n",
       "       [       inf, 2.40470201, 2.25387912, 2.81016712, 2.84295694,\n",
       "               inf],\n",
       "       [       inf, 2.8075798 , 2.65675691, 3.2130449 , 3.24583473,\n",
       "               inf]])"
      ]
     },
     "execution_count": 87,
     "metadata": {},
     "output_type": "execute_result"
    }
   ],
   "source": [
    "V_r_tp = q_r_tp + np.tile(e_w_r,(T,1))\n",
    "V_r_tp"
   ]
  },
  {
   "cell_type": "code",
   "execution_count": 88,
   "metadata": {},
   "outputs": [
    {
     "data": {
      "text/plain": [
       "array([[1., 0., 0., 0., 0., 0.],\n",
       "       [0., 0., 0., 0., 0., 0.],\n",
       "       [0., 0., 0., 0., 0., 0.],\n",
       "       [0., 0., 0., 0., 0., 0.],\n",
       "       [0., 0., 0., 0., 0., 0.],\n",
       "       [0., 0., 0., 0., 0., 0.]])"
      ]
     },
     "execution_count": 88,
     "metadata": {},
     "output_type": "execute_result"
    }
   ],
   "source": [
    "V"
   ]
  },
  {
   "cell_type": "code",
   "execution_count": 90,
   "metadata": {},
   "outputs": [
    {
     "data": {
      "text/plain": [
       "0"
      ]
     },
     "execution_count": 90,
     "metadata": {},
     "output_type": "execute_result"
    }
   ],
   "source": [
    "t"
   ]
  },
  {
   "cell_type": "code",
   "execution_count": 89,
   "metadata": {},
   "outputs": [
    {
     "data": {
      "text/plain": [
       "array([[       inf, 3.65675691, 3.50593402, 4.06222201, 4.09501184,\n",
       "               inf],\n",
       "       [       inf, 2.53159376, 2.38077087, 2.93705887, 2.96984869,\n",
       "               inf],\n",
       "       [       inf, 1.9308199 , 1.77999701, 2.33628501, 2.36907483,\n",
       "               inf],\n",
       "       [       inf, 2.43095024, 2.28012735, 2.83641535, 2.86920517,\n",
       "               inf],\n",
       "       [       inf, 2.40470201, 2.25387912, 2.81016712, 2.84295694,\n",
       "               inf],\n",
       "       [       inf, 2.8075798 , 2.65675691, 3.2130449 , 3.24583473,\n",
       "               inf]])"
      ]
     },
     "execution_count": 89,
     "metadata": {},
     "output_type": "execute_result"
    }
   ],
   "source": [
    "V_r_tp += np.tile(V[t,:],(T,1)).T\n",
    "V_r_tp"
   ]
  },
  {
   "cell_type": "code",
   "execution_count": 91,
   "metadata": {},
   "outputs": [],
   "source": [
    "\n",
    "V_r = np.min(V_r_tp, axis=0)\n",
    "V[t,:] = V_r\n",
    "bp_n[t,:]=np.argmin(V_r_tp,axis=0)\n",
    "\n",
    "bp.append(bp_n)"
   ]
  },
  {
   "cell_type": "code",
   "execution_count": 92,
   "metadata": {},
   "outputs": [
    {
     "data": {
      "text/plain": [
       "array([       inf, 1.9308199 , 1.77999701, 2.33628501, 2.36907483,\n",
       "              inf])"
      ]
     },
     "execution_count": 92,
     "metadata": {},
     "output_type": "execute_result"
    }
   ],
   "source": [
    "V_r"
   ]
  },
  {
   "cell_type": "code",
   "execution_count": 93,
   "metadata": {},
   "outputs": [
    {
     "data": {
      "text/plain": [
       "array([[       inf, 1.9308199 , 1.77999701, 2.33628501, 2.36907483,\n",
       "               inf],\n",
       "       [0.        , 0.        , 0.        , 0.        , 0.        ,\n",
       "        0.        ],\n",
       "       [0.        , 0.        , 0.        , 0.        , 0.        ,\n",
       "        0.        ],\n",
       "       [0.        , 0.        , 0.        , 0.        , 0.        ,\n",
       "        0.        ],\n",
       "       [0.        , 0.        , 0.        , 0.        , 0.        ,\n",
       "        0.        ],\n",
       "       [0.        , 0.        , 0.        , 0.        , 0.        ,\n",
       "        0.        ]])"
      ]
     },
     "execution_count": 93,
     "metadata": {},
     "output_type": "execute_result"
    }
   ],
   "source": [
    "V"
   ]
  },
  {
   "cell_type": "code",
   "execution_count": 94,
   "metadata": {},
   "outputs": [
    {
     "data": {
      "text/plain": [
       "array([0, 2, 2, 2, 2, 0], dtype=int64)"
      ]
     },
     "execution_count": 94,
     "metadata": {},
     "output_type": "execute_result"
    }
   ],
   "source": [
    "np.argmin(V_r_tp,axis=0)"
   ]
  },
  {
   "cell_type": "code",
   "execution_count": 82,
   "metadata": {},
   "outputs": [
    {
     "data": {
      "text/plain": [
       "array([       inf, 1.60943791, 1.45861502, 2.01490302, 2.04769284,\n",
       "              inf])"
      ]
     },
     "execution_count": 82,
     "metadata": {},
     "output_type": "execute_result"
    }
   ],
   "source": [
    "e_w_r"
   ]
  },
  {
   "cell_type": "code",
   "execution_count": 59,
   "metadata": {},
   "outputs": [
    {
     "name": "stdout",
     "output_type": "stream",
     "text": [
      "[       inf 1.60943791 1.45861502 2.01490302 2.04769284        inf]\n"
     ]
    }
   ],
   "source": [
    "e_w_r = training.getLogEs('soup',train_data)\n",
    "print(e_w_r)"
   ]
  },
  {
   "cell_type": "code",
   "execution_count": 60,
   "metadata": {},
   "outputs": [
    {
     "data": {
      "text/plain": [
       "(0, 'start')"
      ]
     },
     "execution_count": 60,
     "metadata": {},
     "output_type": "execute_result"
    }
   ],
   "source": [
    "t,b"
   ]
  },
  {
   "cell_type": "code",
   "execution_count": 61,
   "metadata": {},
   "outputs": [
    {
     "data": {
      "text/plain": [
       "(0, 'start')"
      ]
     },
     "execution_count": 61,
     "metadata": {},
     "output_type": "execute_result"
    }
   ],
   "source": [
    "r,c"
   ]
  },
  {
   "cell_type": "code",
   "execution_count": 78,
   "metadata": {},
   "outputs": [
    {
     "data": {
      "text/plain": [
       "[('start', 'start', 'dessert'),\n",
       " ('oeuvre', 'start', 'dessert'),\n",
       " ('main', 'start', 'dessert'),\n",
       " ('side', 'start', 'dessert'),\n",
       " ('drink', 'start', 'dessert'),\n",
       " ('dessert', 'start', 'dessert')]"
      ]
     },
     "execution_count": 78,
     "metadata": {},
     "output_type": "execute_result"
    }
   ],
   "source": [
    "search_triplets"
   ]
  },
  {
   "cell_type": "code",
   "execution_count": 76,
   "metadata": {},
   "outputs": [
    {
     "data": {
      "text/plain": [
       "array([[1.04731899, 1.04731899, 1.04731899, 1.04731899, 1.04731899,\n",
       "        1.04731899],\n",
       "       [0.92215585, 0.92215585, 0.92215585, 0.92215585, 0.92215585,\n",
       "        0.92215585],\n",
       "       [0.32138199, 0.32138199, 0.32138199, 0.32138199, 0.32138199,\n",
       "        0.32138199],\n",
       "       [0.82151233, 0.82151233, 0.82151233, 0.82151233, 0.82151233,\n",
       "        0.82151233],\n",
       "       [0.7952641 , 0.7952641 , 0.7952641 , 0.7952641 , 0.7952641 ,\n",
       "        0.7952641 ],\n",
       "       [1.19814188, 1.19814188, 1.19814188, 1.19814188, 1.19814188,\n",
       "        1.19814188]])"
      ]
     },
     "execution_count": 76,
     "metadata": {},
     "output_type": "execute_result"
    }
   ],
   "source": [
    "q_r_tp"
   ]
  },
  {
   "cell_type": "code",
   "execution_count": 33,
   "metadata": {},
   "outputs": [
    {
     "data": {
      "text/plain": [
       "[('start', 'start', 'dessert'),\n",
       " ('oeuvre', 'start', 'dessert'),\n",
       " ('main', 'start', 'dessert'),\n",
       " ('side', 'start', 'dessert'),\n",
       " ('drink', 'start', 'dessert'),\n",
       " ('dessert', 'start', 'dessert')]"
      ]
     },
     "execution_count": 33,
     "metadata": {},
     "output_type": "execute_result"
    }
   ],
   "source": [
    "search_triplets"
   ]
  },
  {
   "cell_type": "code",
   "execution_count": 54,
   "metadata": {},
   "outputs": [
    {
     "data": {
      "text/plain": [
       "[0.3508771929824561,\n",
       " 0.3508771929824561,\n",
       " 0.3508771929824561,\n",
       " 0.3508771929824561,\n",
       " 0.3508771929824561,\n",
       " 0.3508771929824561]"
      ]
     },
     "execution_count": 54,
     "metadata": {},
     "output_type": "execute_result"
    }
   ],
   "source": [
    "[ training.getQ(t,food_train_data) for t in search_triplets]"
   ]
  },
  {
   "cell_type": "code",
   "execution_count": 98,
   "metadata": {},
   "outputs": [
    {
     "data": {
      "text/plain": [
       "[array([[ 0,  2,  2,  2,  2,  0],\n",
       "        [-1, -1, -1, -1, -1, -1],\n",
       "        [-1, -1, -1, -1, -1, -1],\n",
       "        [-1, -1, -1, -1, -1, -1],\n",
       "        [-1, -1, -1, -1, -1, -1],\n",
       "        [-1, -1, -1, -1, -1, -1]])]"
      ]
     },
     "execution_count": 98,
     "metadata": {},
     "output_type": "execute_result"
    }
   ],
   "source": [
    "bp"
   ]
  },
  {
   "cell_type": "code",
   "execution_count": 144,
   "metadata": {},
   "outputs": [
    {
     "name": "stdout",
     "output_type": "stream",
     "text": [
      "[1. 1. 1. 1. 1.]\n",
      "[[1. 1. 1. 1. 1. 1. 1. 1. 1. 1.]]\n"
     ]
    }
   ],
   "source": [
    "a=np.ones((5,5))\n",
    "print(a[:,3].T)\n",
    "print(np.tile(a[:,3],(1,2)))"
   ]
  },
  {
   "cell_type": "code",
   "execution_count": null,
   "metadata": {},
   "outputs": [],
   "source": [
    "y_n = [np.argmin(V), np.argmin(V)]\n",
    "for bp_i in bp[2::-1]:\n",
    "    y_n = [bp_i[y_n[0],y_n[1]]] + y_n"
   ]
  }
 ],
 "metadata": {
  "kernelspec": {
   "display_name": "bari_env",
   "language": "python",
   "name": "bari_env"
  },
  "language_info": {
   "codemirror_mode": {
    "name": "ipython",
    "version": 3
   },
   "file_extension": ".py",
   "mimetype": "text/x-python",
   "name": "python",
   "nbconvert_exporter": "python",
   "pygments_lexer": "ipython3",
   "version": "3.6.6"
  }
 },
 "nbformat": 4,
 "nbformat_minor": 2
}
