{
 "cells": [
  {
   "cell_type": "code",
   "execution_count": 1,
   "id": "matched-elimination",
   "metadata": {},
   "outputs": [],
   "source": [
    "import music21 as m2\n",
    "import glob\n",
    "import matplotlib.pyplot as plt\n",
    "import pandas as pd\n",
    "import seaborn as sns\n",
    "import numpy as np\n",
    "from scipy.signal import windows, oaconvolve"
   ]
  },
  {
   "cell_type": "code",
   "execution_count": 7,
   "id": "israeli-scale",
   "metadata": {},
   "outputs": [
    {
     "name": "stdout",
     "output_type": "stream",
     "text": [
      "/home/siegman/Documents/Shahar/BarIlan/Dissertation3/code/diss3_code/midi True\n"
     ]
    }
   ],
   "source": [
    "import sys\n",
    "from os import path\n",
    "\n",
    "code_path = path.abspath(path.join('..','..','diss3_code','midi'))\n",
    "print(code_path, path.exists(code_path))\n",
    "\n",
    "sys.path.append(code_path)\n",
    "import midi_utils as mu"
   ]
  },
  {
   "cell_type": "code",
   "execution_count": 3,
   "id": "falling-mechanics",
   "metadata": {},
   "outputs": [],
   "source": [
    "ngw = windows.gaussian(2001,200)\n",
    "ngw = ngw/ngw.sum()"
   ]
  },
  {
   "cell_type": "code",
   "execution_count": 8,
   "id": "fabulous-alabama",
   "metadata": {},
   "outputs": [
    {
     "name": "stdout",
     "output_type": "stream",
     "text": [
      "[True, True]\n"
     ]
    },
    {
     "data": {
      "text/plain": [
       "['/home/siegman/Documents/Shahar/BarIlan/Dissertation3/data/MIDI-Interaction/Interaction_1025.mid',\n",
       " '/home/siegman/Documents/Shahar/BarIlan/Dissertation3/data/MIDI-Interaction/Interaction_1026.mid',\n",
       " '/home/siegman/Documents/Shahar/BarIlan/Dissertation3/data/MIDI-Interaction/Interaction_1031.mid',\n",
       " '/home/siegman/Documents/Shahar/BarIlan/Dissertation3/data/MIDI-Interaction/Interaction_1027.mid',\n",
       " '/home/siegman/Documents/Shahar/BarIlan/Dissertation3/data/MIDI-Interaction/Interaction_1046.mid']"
      ]
     },
     "execution_count": 8,
     "metadata": {},
     "output_type": "execute_result"
    }
   ],
   "source": [
    "midi_paths = ['MIDI-Freestyle', 'MIDI-Interaction']\n",
    "midi_paths = [path.abspath(path.join('..','..','..','data',p)) for p in midi_paths]\n",
    "print([path.exists(p) for p in midi_paths])\n",
    "\n",
    "midi_files = sum([glob.glob(path.join(mp,'*.mid')) for mp in midi_paths],[] )\n",
    "midi_files[-5:]"
   ]
  },
  {
   "cell_type": "code",
   "execution_count": 42,
   "id": "narrative-rescue",
   "metadata": {},
   "outputs": [],
   "source": [
    "def populate_music_dictionary(midi_files):\n",
    "    all_ticks = {}\n",
    "    for mf in midi_files:\n",
    "        group_num = path.basename(mf).split('_')[1].split('.')[0]\n",
    "        session = path.basename(mf).split('_')[0]\n",
    "        group_ticks = mu.get_drumbeat_ticks_for_midi(mf)\n",
    "        for track, ticks in group_ticks.items():\n",
    "            print((group_num, session, track))\n",
    "            assert (group_num, session, track) not in all_ticks\n",
    "            all_ticks[(group_num, session, track)]= [t[0] for t in ticks if t[1]-t[0]>10] \n",
    "    return all_ticks\n",
    "\n",
    "def get_signals_for_group_session(all_ticks,group,session,kernel):\n",
    "    arrays = [to_dense(np.array(all_ticks[(group,session,par)])) for par in [43,45,48]]\n",
    "    arrays = [oaconvolve(t,kernel) for t in arrays]\n",
    "    la = min([len(a) for a in arrays])\n",
    "    ret = np.zeros((3,la))\n",
    "    for i in range(3):\n",
    "        ret[i,:] =arrays[i][:la]\n",
    "    return ret\n",
    "\n",
    "def export_graphs_to_js_object(all_ticks, groups=None, kernel=ngw):\n",
    "    data_obj = {}\n",
    "    for k, v in all_ticks:\n",
    "        gr = k[0]\n",
    "        if groups is not None and gr not in groups:\n",
    "            continue\n",
    "        data_obj[gr] = data_obj.get(gr,{})\n",
    "        array = np.round(oaconvolve(to_dense(np.array(v)),ngw)*100[::100], 3)\n",
    "        \n",
    "        ss = get_signals_for_group_session(all_ticks,'1009', 'Interaction' ,ngw)\n",
    "        data_obj_k2 = {'Freestyle': 'FS', 'Interaction': 'IN'}[k[1]] \n",
    "        data_obj[gr][data_obj_k2][k[2]] = {'x': list(range(len(array))), 'y':list(array), 'type': 'scatter'}\n",
    "    return data_obj\n",
    "        \n",
    "def get_signals_for_group_session(all_ticks,group,session,kernel):\n",
    "    arrays = [to_dense(np.array(all_ticks[(group,session,par)])) for par in [43,45,48]]\n",
    "    arrays = [oaconvolve(t,kernel) for t in arrays]\n",
    "    la = min([len(a) for a in arrays])\n",
    "    ret = np.zeros((3,la))\n",
    "    for i in range(3):\n",
    "        ret[i,:] =arrays[i][:la]\n",
    "    return ret\n",
    "\n",
    "\n",
    "def to_dense(t,max_len=None):\n",
    "    max_len = max_len or t[-1]\n",
    "    ret = np.zeros(max_len)\n",
    "    max_index_to_include = np.sum(t<max_len).astype(int)\n",
    "    ret[t[:max_index_to_include]]=1.\n",
    "    return ret\n",
    "\n",
    "def as_plotly_obj(all_ticks, group, session, n_points=100, plot_type='scatter'):\n",
    "    kernel = ngw\n",
    "    arrays = [to_dense(np.array(all_ticks[(group,session,par)])) for par in [43,45,48]]\n",
    "    arrays = [oaconvolve(t,kernel) for t in arrays]\n",
    "    shortest = min([len(a) for a in arrays])\n",
    "    sampling_index = np.round(np.linspace(0,shortest-1,n_points)).astype(int)\n",
    "    ret = [{\n",
    "        \"x\": list(range(n_points)),\n",
    "        \"y\": list(np.round(array[sampling_index],4)),\n",
    "        \"type\": plot_type,\n",
    "        \"name\": f\"Participant {i}\"\n",
    "    } for i, array in enumerate(arrays,1)]\n",
    "    return ret\n",
    "    "
   ]
  },
  {
   "cell_type": "code",
   "execution_count": 10,
   "id": "wireless-supply",
   "metadata": {
    "collapsed": true
   },
   "outputs": [
    {
     "name": "stdout",
     "output_type": "stream",
     "text": [
      "('1009', 'Freestyle', 43)\n",
      "('1009', 'Freestyle', 45)\n",
      "('1009', 'Freestyle', 48)\n",
      "('1025', 'Freestyle', 43)\n",
      "('1025', 'Freestyle', 48)\n",
      "('1025', 'Freestyle', 45)\n",
      "('1021', 'Freestyle', 45)\n",
      "('1021', 'Freestyle', 48)\n",
      "('1021', 'Freestyle', 43)\n",
      "('1018', 'Freestyle', 43)\n",
      "('1018', 'Freestyle', 48)\n",
      "('1018', 'Freestyle', 45)\n",
      "('1008', 'Freestyle', 48)\n",
      "('1008', 'Freestyle', 45)\n",
      "('1008', 'Freestyle', 43)\n",
      "('1048', 'Freestyle', 45)\n",
      "('1048', 'Freestyle', 43)\n",
      "('1048', 'Freestyle', 48)\n",
      "('1026', 'Freestyle', 43)\n",
      "('1026', 'Freestyle', 45)\n",
      "('1026', 'Freestyle', 48)\n",
      "('1024', 'Freestyle', 43)\n",
      "('1024', 'Freestyle', 48)\n",
      "('1024', 'Freestyle', 45)\n",
      "('1023', 'Freestyle', 48)\n",
      "('1023', 'Freestyle', 43)\n",
      "('1023', 'Freestyle', 45)\n",
      "('1033', 'Freestyle', 45)\n",
      "('1033', 'Freestyle', 43)\n",
      "('1033', 'Freestyle', 48)\n",
      "('1045', 'Freestyle', 48)\n",
      "('1045', 'Freestyle', 43)\n",
      "('1045', 'Freestyle', 45)\n",
      "('1034', 'Freestyle', 45)\n",
      "('1034', 'Freestyle', 48)\n",
      "('1034', 'Freestyle', 43)\n",
      "('1046', 'Freestyle', 48)\n",
      "('1046', 'Freestyle', 45)\n",
      "('1046', 'Freestyle', 43)\n",
      "('1035', 'Freestyle', 45)\n",
      "('1035', 'Freestyle', 43)\n",
      "('1035', 'Freestyle', 48)\n",
      "('1030', 'Freestyle', 43)\n",
      "('1030', 'Freestyle', 48)\n",
      "('1030', 'Freestyle', 45)\n",
      "('1031', 'Freestyle', 43)\n",
      "('1031', 'Freestyle', 48)\n",
      "('1031', 'Freestyle', 45)\n",
      "('1032', 'Freestyle', 43)\n",
      "('1032', 'Freestyle', 48)\n",
      "('1032', 'Freestyle', 45)\n",
      "('1014', 'Freestyle', 45)\n",
      "('1014', 'Freestyle', 43)\n",
      "('1014', 'Freestyle', 48)\n",
      "('1002', 'Freestyle', 48)\n",
      "('1002', 'Freestyle', 43)\n",
      "('1002', 'Freestyle', 45)\n",
      "('1016', 'Freestyle', 45)\n",
      "('1016', 'Freestyle', 43)\n",
      "('1016', 'Freestyle', 48)\n",
      "('1042', 'Freestyle', 45)\n",
      "('1042', 'Freestyle', 48)\n",
      "('1042', 'Freestyle', 43)\n",
      "('1013', 'Freestyle', 45)\n",
      "('1013', 'Freestyle', 48)\n",
      "('1013', 'Freestyle', 43)\n",
      "('1029', 'Freestyle', 45)\n",
      "('1029', 'Freestyle', 48)\n",
      "('1029', 'Freestyle', 43)\n",
      "('1047', 'Freestyle', 43)\n",
      "('1047', 'Freestyle', 45)\n",
      "('1047', 'Freestyle', 48)\n",
      "('1050', 'Freestyle', 48)\n",
      "('1050', 'Freestyle', 43)\n",
      "('1050', 'Freestyle', 45)\n",
      "('1049', 'Freestyle', 45)\n",
      "('1049', 'Freestyle', 48)\n",
      "('1049', 'Freestyle', 43)\n",
      "('1003', 'Freestyle', 45)\n",
      "('1003', 'Freestyle', 48)\n",
      "('1003', 'Freestyle', 43)\n",
      "('1004', 'Freestyle', 48)\n",
      "('1004', 'Freestyle', 45)\n",
      "('1004', 'Freestyle', 43)\n",
      "('1038', 'Freestyle', 45)\n",
      "('1038', 'Freestyle', 43)\n",
      "('1038', 'Freestyle', 48)\n",
      "('1022', 'Freestyle', 43)\n",
      "('1022', 'Freestyle', 48)\n",
      "('1022', 'Freestyle', 45)\n",
      "('1015', 'Freestyle', 48)\n",
      "('1015', 'Freestyle', 43)\n",
      "('1015', 'Freestyle', 45)\n",
      "('1007', 'Freestyle', 48)\n",
      "('1007', 'Freestyle', 45)\n",
      "('1007', 'Freestyle', 43)\n",
      "('1051', 'Freestyle', 45)\n",
      "('1051', 'Freestyle', 43)\n",
      "('1051', 'Freestyle', 48)\n",
      "('1044', 'Freestyle', 45)\n",
      "('1044', 'Freestyle', 48)\n",
      "('1044', 'Freestyle', 43)\n",
      "('1041', 'Freestyle', 43)\n",
      "('1041', 'Freestyle', 45)\n",
      "('1041', 'Freestyle', 48)\n",
      "('1019', 'Freestyle', 43)\n",
      "('1019', 'Freestyle', 45)\n",
      "('1019', 'Freestyle', 48)\n",
      "('1010', 'Freestyle', 45)\n",
      "('1010', 'Freestyle', 43)\n",
      "('1010', 'Freestyle', 48)\n",
      "('1027', 'Freestyle', 43)\n",
      "('1027', 'Freestyle', 45)\n",
      "('1027', 'Freestyle', 48)\n",
      "('1040', 'Freestyle', 45)\n",
      "('1040', 'Freestyle', 48)\n",
      "('1040', 'Freestyle', 43)\n",
      "('1011', 'Freestyle', 45)\n",
      "('1011', 'Freestyle', 48)\n",
      "('1011', 'Freestyle', 43)\n",
      "('1039', 'Freestyle', 48)\n",
      "('1039', 'Freestyle', 45)\n",
      "('1039', 'Freestyle', 43)\n",
      "('1001', 'Freestyle', 43)\n",
      "('1001', 'Freestyle', 45)\n",
      "('1001', 'Freestyle', 48)\n",
      "('1005', 'Freestyle', 45)\n",
      "('1005', 'Freestyle', 48)\n",
      "('1005', 'Freestyle', 43)\n",
      "('1012', 'Freestyle', 45)\n",
      "('1012', 'Freestyle', 48)\n",
      "('1012', 'Freestyle', 43)\n",
      "('1017', 'Freestyle', 43)\n",
      "('1017', 'Freestyle', 48)\n",
      "('1017', 'Freestyle', 45)\n",
      "('1006', 'Freestyle', 45)\n",
      "('1006', 'Freestyle', 48)\n",
      "('1006', 'Freestyle', 43)\n",
      "('1028', 'Freestyle', 45)\n",
      "('1028', 'Freestyle', 48)\n",
      "('1028', 'Freestyle', 43)\n",
      "('1037', 'Freestyle', 45)\n",
      "('1037', 'Freestyle', 43)\n",
      "('1037', 'Freestyle', 48)\n",
      "('1036', 'Freestyle', 48)\n",
      "('1036', 'Freestyle', 45)\n",
      "('1036', 'Freestyle', 43)\n",
      "('1043', 'Freestyle', 45)\n",
      "('1043', 'Freestyle', 48)\n",
      "('1043', 'Freestyle', 43)\n",
      "('1020', 'Freestyle', 43)\n",
      "('1020', 'Freestyle', 48)\n",
      "('1020', 'Freestyle', 45)\n",
      "('1039', 'Interaction', 43)\n",
      "('1039', 'Interaction', 48)\n",
      "('1039', 'Interaction', 45)\n",
      "('1011', 'Interaction', 43)\n",
      "('1011', 'Interaction', 45)\n",
      "('1011', 'Interaction', 48)\n",
      "('1045', 'Interaction', 43)\n",
      "('1045', 'Interaction', 45)\n",
      "('1045', 'Interaction', 48)\n",
      "('1034', 'Interaction', 43)\n",
      "('1034', 'Interaction', 48)\n",
      "('1034', 'Interaction', 45)\n",
      "('1017', 'Interaction', 45)\n",
      "('1017', 'Interaction', 48)\n",
      "('1017', 'Interaction', 43)\n",
      "('1006', 'Interaction', 43)\n",
      "('1006', 'Interaction', 48)\n",
      "('1006', 'Interaction', 45)\n",
      "('1036', 'Interaction', 48)\n",
      "('1036', 'Interaction', 43)\n",
      "('1036', 'Interaction', 45)\n",
      "('1018', 'Interaction', 45)\n",
      "('1018', 'Interaction', 48)\n",
      "('1018', 'Interaction', 43)\n",
      "('1033', 'Interaction', 48)\n",
      "('1033', 'Interaction', 45)\n",
      "('1033', 'Interaction', 43)\n",
      "('1024', 'Interaction', 48)\n",
      "('1024', 'Interaction', 45)\n",
      "('1024', 'Interaction', 43)\n",
      "('1032', 'Interaction', 43)\n",
      "('1032', 'Interaction', 48)\n",
      "('1032', 'Interaction', 45)\n",
      "('1050', 'Interaction', 45)\n",
      "('1050', 'Interaction', 48)\n",
      "('1050', 'Interaction', 43)\n",
      "('1051', 'Interaction', 45)\n",
      "('1051', 'Interaction', 48)\n",
      "('1051', 'Interaction', 43)\n",
      "('1016', 'Interaction', 45)\n",
      "('1016', 'Interaction', 43)\n",
      "('1016', 'Interaction', 48)\n",
      "('1009', 'Interaction', 45)\n",
      "('1009', 'Interaction', 48)\n",
      "('1009', 'Interaction', 43)\n",
      "('1020', 'Interaction', 43)\n",
      "('1020', 'Interaction', 45)\n",
      "('1020', 'Interaction', 48)\n",
      "('1048', 'Interaction', 48)\n",
      "('1048', 'Interaction', 45)\n",
      "('1048', 'Interaction', 43)\n",
      "('1041', 'Interaction', 43)\n",
      "('1041', 'Interaction', 45)\n",
      "('1041', 'Interaction', 48)\n",
      "('1035', 'Interaction', 43)\n",
      "('1035', 'Interaction', 48)\n",
      "('1035', 'Interaction', 45)\n",
      "('1030', 'Interaction', 48)\n",
      "('1030', 'Interaction', 43)\n",
      "('1030', 'Interaction', 45)\n",
      "('1005', 'Interaction', 43)\n",
      "('1005', 'Interaction', 48)\n",
      "('1005', 'Interaction', 45)\n",
      "('1005', 'Interaction', 51)\n",
      "('1022', 'Interaction', 45)\n",
      "('1022', 'Interaction', 43)\n",
      "('1022', 'Interaction', 48)\n",
      "('1044', 'Interaction', 45)\n",
      "('1044', 'Interaction', 43)\n",
      "('1044', 'Interaction', 48)\n",
      "('1010', 'Interaction', 48)\n",
      "('1010', 'Interaction', 43)\n",
      "('1010', 'Interaction', 45)\n",
      "('1013', 'Interaction', 45)\n",
      "('1013', 'Interaction', 43)\n",
      "('1013', 'Interaction', 48)\n",
      "('1012', 'Interaction', 45)\n",
      "('1012', 'Interaction', 48)\n",
      "('1012', 'Interaction', 43)\n",
      "('1040', 'Interaction', 43)\n",
      "('1040', 'Interaction', 45)\n",
      "('1040', 'Interaction', 48)\n",
      "('1003', 'Interaction', 43)\n",
      "('1003', 'Interaction', 45)\n",
      "('1003', 'Interaction', 48)\n",
      "('1001', 'Interaction', 43)\n",
      "('1001', 'Interaction', 45)\n",
      "('1001', 'Interaction', 48)\n",
      "('1015', 'Interaction', 48)\n",
      "('1015', 'Interaction', 43)\n",
      "('1015', 'Interaction', 45)\n",
      "('1042', 'Interaction', 48)\n",
      "('1042', 'Interaction', 45)\n",
      "('1042', 'Interaction', 43)\n",
      "('1021', 'Interaction', 43)\n",
      "('1021', 'Interaction', 48)\n",
      "('1021', 'Interaction', 45)\n",
      "('1047', 'Interaction', 48)\n",
      "('1047', 'Interaction', 43)\n",
      "('1047', 'Interaction', 45)\n",
      "('1008', 'Interaction', 43)\n",
      "('1008', 'Interaction', 45)\n",
      "('1008', 'Interaction', 48)\n",
      "('1014', 'Interaction', 45)\n",
      "('1014', 'Interaction', 43)\n",
      "('1014', 'Interaction', 48)\n",
      "('1019', 'Interaction', 45)\n",
      "('1019', 'Interaction', 48)\n",
      "('1019', 'Interaction', 43)\n",
      "('1038', 'Interaction', 45)\n",
      "('1038', 'Interaction', 48)\n",
      "('1038', 'Interaction', 43)\n",
      "('1049', 'Interaction', 48)\n",
      "('1049', 'Interaction', 45)\n",
      "('1049', 'Interaction', 43)\n",
      "('1004', 'Interaction', 48)\n",
      "('1004', 'Interaction', 45)\n",
      "('1004', 'Interaction', 43)\n",
      "('1023', 'Interaction', 48)\n",
      "('1023', 'Interaction', 43)\n",
      "('1023', 'Interaction', 45)\n",
      "('1043', 'Interaction', 45)\n",
      "('1043', 'Interaction', 43)\n",
      "('1043', 'Interaction', 48)\n",
      "('1007', 'Interaction', 48)\n",
      "('1007', 'Interaction', 43)\n",
      "('1007', 'Interaction', 45)\n",
      "('1037', 'Interaction', 43)\n",
      "('1037', 'Interaction', 48)\n",
      "('1037', 'Interaction', 45)\n",
      "('1025', 'Interaction', 43)\n",
      "('1025', 'Interaction', 45)\n",
      "('1025', 'Interaction', 48)\n",
      "('1026', 'Interaction', 43)\n",
      "('1026', 'Interaction', 48)\n",
      "('1026', 'Interaction', 45)\n",
      "('1031', 'Interaction', 48)\n",
      "('1031', 'Interaction', 43)\n",
      "('1031', 'Interaction', 45)\n",
      "('1027', 'Interaction', 43)\n",
      "('1027', 'Interaction', 48)\n",
      "('1027', 'Interaction', 45)\n",
      "('1046', 'Interaction', 45)\n",
      "('1046', 'Interaction', 48)\n",
      "('1046', 'Interaction', 43)\n"
     ]
    }
   ],
   "source": [
    "all_ticks = populate_music_dictionary(midi_files)"
   ]
  },
  {
   "cell_type": "code",
   "execution_count": 11,
   "id": "jewish-haiti",
   "metadata": {},
   "outputs": [
    {
     "data": {
      "text/plain": [
       "\"{('1009', 'Freestyle', 43): [1013, 1107, 1194, 1295, 1390, 2252, 2566, 2627, 2758, 2822, 2857, 2889, 2956, 3169, 3513, 3574, 3631, 3729, 3815, 3900, 4001, 4136, 5269, 5413, 6155, 6746, 7204, 7287, 7718, 7771, 8595, 8784, 9581, 9762, 9885, 10004, 10103, 10176, 10286, 10386, 10478, 10853, 10951, 11299, 12247, 12655, 12790, 12911, 13030, 13571, 13817, 13846, 13896, 13940, 13991, 14044, 14098, 14154, 14221, 14288, 14343, 14407, 14468, 14563, 14629, 14680, 14783, 14854, 14914, 14988, 15013, 15130, 15\""
      ]
     },
     "execution_count": 11,
     "metadata": {},
     "output_type": "execute_result"
    }
   ],
   "source": [
    "all_ticks.__repr__()[:500]"
   ]
  },
  {
   "cell_type": "code",
   "execution_count": 14,
   "id": "seeing-pixel",
   "metadata": {},
   "outputs": [
    {
     "data": {
      "text/plain": [
       "array([5])"
      ]
     },
     "execution_count": 14,
     "metadata": {},
     "output_type": "execute_result"
    }
   ],
   "source": [
    "np.array([5.5]).astype(int)"
   ]
  },
  {
   "cell_type": "code",
   "execution_count": 33,
   "id": "loving-crazy",
   "metadata": {},
   "outputs": [],
   "source": [
    "groups = ['1001', '1003', '1004', '1005', '1006', '1007', '1008', '1009', '1010', '1011', '1012', '1013', '1014', '1015', '1016', '1017', '1018', '1019', '1020', '1021', '1022', '1023', '1024', '1025', '1026', '1027',  '1030', '1031', '1032', '1033', '1034', '1035', '1036', '1037', '1038', '1039', '1040', '1041', '1042', '1043', '1044', '1045', '1046', '1047', '1048', '1049', '1050', '1051']"
   ]
  },
  {
   "cell_type": "code",
   "execution_count": 45,
   "id": "arbitrary-optimization",
   "metadata": {},
   "outputs": [],
   "source": [
    "all_inter_data = {gr: as_plotly_obj(all_ticks, gr, 'Interaction', 250) for gr in groups}"
   ]
  },
  {
   "cell_type": "code",
   "execution_count": 46,
   "id": "binary-bermuda",
   "metadata": {},
   "outputs": [],
   "source": [
    "import json"
   ]
  },
  {
   "cell_type": "code",
   "execution_count": 47,
   "id": "variable-tennis",
   "metadata": {},
   "outputs": [],
   "source": [
    "with open('session_data_interaction.json','wt') as a:\n",
    "    json.dump(all_inter_data,a)"
   ]
  },
  {
   "cell_type": "code",
   "execution_count": 40,
   "id": "received-puzzle",
   "metadata": {},
   "outputs": [
    {
     "data": {
      "text/plain": [
       "0.14285714285714285"
      ]
     },
     "execution_count": 40,
     "metadata": {},
     "output_type": "execute_result"
    }
   ],
   "source": [
    "1/7"
   ]
  },
  {
   "cell_type": "code",
   "execution_count": 41,
   "id": "typical-tunnel",
   "metadata": {},
   "outputs": [
    {
     "data": {
      "text/plain": [
       "0.14"
      ]
     },
     "execution_count": 41,
     "metadata": {},
     "output_type": "execute_result"
    }
   ],
   "source": [
    "np.round(1/7,2)"
   ]
  },
  {
   "cell_type": "code",
   "execution_count": null,
   "id": "dominican-intent",
   "metadata": {},
   "outputs": [],
   "source": []
  }
 ],
 "metadata": {
  "kernelspec": {
   "display_name": "Python 3.7.4 64-bit ('base': conda)",
   "language": "python",
   "name": "python37464bitbaseconda865b03b3ea5d4f4bb8519af201560b69"
  },
  "language_info": {
   "codemirror_mode": {
    "name": "ipython",
    "version": 3
   },
   "file_extension": ".py",
   "mimetype": "text/x-python",
   "name": "python",
   "nbconvert_exporter": "python",
   "pygments_lexer": "ipython3",
   "version": "3.7.9"
  }
 },
 "nbformat": 4,
 "nbformat_minor": 5
}
