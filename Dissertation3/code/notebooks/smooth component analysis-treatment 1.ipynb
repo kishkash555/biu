{
 "cells": [
  {
   "cell_type": "code",
   "execution_count": 1,
   "metadata": {},
   "outputs": [],
   "source": [
    "import smooth_component_analysis as sca\n",
    "from importlib import reload\n",
    "reload(sca)\n",
    "import numpy as np\n",
    "import pandas as pd\n",
    "import get_db_data as gdd\n",
    "import matplotlib.pyplot as plt\n",
    "from scipy.stats import zscore\n"
   ]
  },
  {
   "cell_type": "code",
   "execution_count": 2,
   "metadata": {},
   "outputs": [],
   "source": [
    "import seaborn as sns"
   ]
  },
  {
   "cell_type": "code",
   "execution_count": 3,
   "metadata": {},
   "outputs": [],
   "source": [
    "sago = sca.savitzky_golay([1008, 1010, 1012, 1042, 1044, 1046, 1048, 1050],21,11,2,3)"
   ]
  },
  {
   "cell_type": "code",
   "execution_count": 4,
   "metadata": {},
   "outputs": [
    {
     "name": "stdout",
     "output_type": "stream",
     "text": [
      "x range: 4.0 282.0\n"
     ]
    }
   ],
   "source": [
    "df = sago.get_aligned_signal_componets()"
   ]
  },
  {
   "cell_type": "code",
   "execution_count": 5,
   "metadata": {},
   "outputs": [
    {
     "data": {
      "text/plain": [
       "MultiIndex([(1008,   'Raw_122'),\n",
       "            (1008,    'Sg_122'),\n",
       "            (1008, 'resid_122'),\n",
       "            (1008,   'rms_122'),\n",
       "            (1008,  'rmso_122'),\n",
       "            (1008,   'Raw_123'),\n",
       "            (1008,    'Sg_123'),\n",
       "            (1008, 'resid_123'),\n",
       "            (1008,   'rms_123'),\n",
       "            (1008,  'rmso_123'),\n",
       "            ...\n",
       "            (1050,   'Raw_252'),\n",
       "            (1050,    'Sg_252'),\n",
       "            (1050, 'resid_252'),\n",
       "            (1050,   'rms_252'),\n",
       "            (1050,  'rmso_252'),\n",
       "            (1050,   'Raw_253'),\n",
       "            (1050,    'Sg_253'),\n",
       "            (1050, 'resid_253'),\n",
       "            (1050,   'rms_253'),\n",
       "            (1050,  'rmso_253')],\n",
       "           length=120)"
      ]
     },
     "execution_count": 5,
     "metadata": {},
     "output_type": "execute_result"
    }
   ],
   "source": [
    "df.columns = pd.MultiIndex.from_tuples(df.columns)\n",
    "df.columns"
   ]
  },
  {
   "cell_type": "code",
   "execution_count": 6,
   "metadata": {},
   "outputs": [],
   "source": [
    "cdf = df.corr()"
   ]
  },
  {
   "cell_type": "code",
   "execution_count": 7,
   "metadata": {},
   "outputs": [],
   "source": [
    "\n",
    "def yield_rmso_crossgroup_corr(same_group=False, col_type=\"rmso_\",yield_with_colnames = False):\n",
    "    cols = [c for c in cdf.columns if c[1].startswith(col_type)]\n",
    "    for i in range(len(cols)):\n",
    "        for j in range(i+1, len(cols)):\n",
    "            if (cols[i][0] == cols[j][0])==same_group: # different groups\n",
    "                print(cols[i], cols[j])\n",
    "                if yield_with_colnames:\n",
    "                    yield ((cols[i], cols[j]), cdf.loc[cols[i],cols[j]])\n",
    "                else:\n",
    "                    yield cdf.loc[cols[i],cols[j]]"
   ]
  },
  {
   "cell_type": "code",
   "execution_count": 8,
   "metadata": {},
   "outputs": [
    {
     "name": "stdout",
     "output_type": "stream",
     "text": [
      "(1008, 'rmso_122') (1010, 'rmso_128')\n",
      "(1008, 'rmso_122') (1010, 'rmso_129')\n",
      "(1008, 'rmso_122') (1010, 'rmso_130')\n",
      "(1008, 'rmso_122') (1012, 'rmso_134')\n",
      "(1008, 'rmso_122') (1012, 'rmso_135')\n",
      "(1008, 'rmso_122') (1012, 'rmso_136')\n",
      "(1008, 'rmso_122') (1042, 'rmso_227')\n",
      "(1008, 'rmso_122') (1042, 'rmso_228')\n",
      "(1008, 'rmso_122') (1042, 'rmso_229')\n",
      "(1008, 'rmso_122') (1044, 'rmso_233')\n",
      "(1008, 'rmso_122') (1044, 'rmso_234')\n",
      "(1008, 'rmso_122') (1044, 'rmso_235')\n",
      "(1008, 'rmso_122') (1046, 'rmso_239')\n",
      "(1008, 'rmso_122') (1046, 'rmso_240')\n",
      "(1008, 'rmso_122') (1046, 'rmso_241')\n",
      "(1008, 'rmso_122') (1048, 'rmso_245')\n",
      "(1008, 'rmso_122') (1048, 'rmso_246')\n",
      "(1008, 'rmso_122') (1048, 'rmso_247')\n",
      "(1008, 'rmso_122') (1050, 'rmso_251')\n",
      "(1008, 'rmso_122') (1050, 'rmso_252')\n",
      "(1008, 'rmso_122') (1050, 'rmso_253')\n",
      "(1008, 'rmso_123') (1010, 'rmso_128')\n",
      "(1008, 'rmso_123') (1010, 'rmso_129')\n",
      "(1008, 'rmso_123') (1010, 'rmso_130')\n",
      "(1008, 'rmso_123') (1012, 'rmso_134')\n",
      "(1008, 'rmso_123') (1012, 'rmso_135')\n",
      "(1008, 'rmso_123') (1012, 'rmso_136')\n",
      "(1008, 'rmso_123') (1042, 'rmso_227')\n",
      "(1008, 'rmso_123') (1042, 'rmso_228')\n",
      "(1008, 'rmso_123') (1042, 'rmso_229')\n",
      "(1008, 'rmso_123') (1044, 'rmso_233')\n",
      "(1008, 'rmso_123') (1044, 'rmso_234')\n",
      "(1008, 'rmso_123') (1044, 'rmso_235')\n",
      "(1008, 'rmso_123') (1046, 'rmso_239')\n",
      "(1008, 'rmso_123') (1046, 'rmso_240')\n",
      "(1008, 'rmso_123') (1046, 'rmso_241')\n",
      "(1008, 'rmso_123') (1048, 'rmso_245')\n",
      "(1008, 'rmso_123') (1048, 'rmso_246')\n",
      "(1008, 'rmso_123') (1048, 'rmso_247')\n",
      "(1008, 'rmso_123') (1050, 'rmso_251')\n",
      "(1008, 'rmso_123') (1050, 'rmso_252')\n",
      "(1008, 'rmso_123') (1050, 'rmso_253')\n",
      "(1008, 'rmso_124') (1010, 'rmso_128')\n",
      "(1008, 'rmso_124') (1010, 'rmso_129')\n",
      "(1008, 'rmso_124') (1010, 'rmso_130')\n",
      "(1008, 'rmso_124') (1012, 'rmso_134')\n",
      "(1008, 'rmso_124') (1012, 'rmso_135')\n",
      "(1008, 'rmso_124') (1012, 'rmso_136')\n",
      "(1008, 'rmso_124') (1042, 'rmso_227')\n",
      "(1008, 'rmso_124') (1042, 'rmso_228')\n",
      "(1008, 'rmso_124') (1042, 'rmso_229')\n",
      "(1008, 'rmso_124') (1044, 'rmso_233')\n",
      "(1008, 'rmso_124') (1044, 'rmso_234')\n",
      "(1008, 'rmso_124') (1044, 'rmso_235')\n",
      "(1008, 'rmso_124') (1046, 'rmso_239')\n",
      "(1008, 'rmso_124') (1046, 'rmso_240')\n",
      "(1008, 'rmso_124') (1046, 'rmso_241')\n",
      "(1008, 'rmso_124') (1048, 'rmso_245')\n",
      "(1008, 'rmso_124') (1048, 'rmso_246')\n",
      "(1008, 'rmso_124') (1048, 'rmso_247')\n",
      "(1008, 'rmso_124') (1050, 'rmso_251')\n",
      "(1008, 'rmso_124') (1050, 'rmso_252')\n",
      "(1008, 'rmso_124') (1050, 'rmso_253')\n",
      "(1010, 'rmso_128') (1012, 'rmso_134')\n",
      "(1010, 'rmso_128') (1012, 'rmso_135')\n",
      "(1010, 'rmso_128') (1012, 'rmso_136')\n",
      "(1010, 'rmso_128') (1042, 'rmso_227')\n",
      "(1010, 'rmso_128') (1042, 'rmso_228')\n",
      "(1010, 'rmso_128') (1042, 'rmso_229')\n",
      "(1010, 'rmso_128') (1044, 'rmso_233')\n",
      "(1010, 'rmso_128') (1044, 'rmso_234')\n",
      "(1010, 'rmso_128') (1044, 'rmso_235')\n",
      "(1010, 'rmso_128') (1046, 'rmso_239')\n",
      "(1010, 'rmso_128') (1046, 'rmso_240')\n",
      "(1010, 'rmso_128') (1046, 'rmso_241')\n",
      "(1010, 'rmso_128') (1048, 'rmso_245')\n",
      "(1010, 'rmso_128') (1048, 'rmso_246')\n",
      "(1010, 'rmso_128') (1048, 'rmso_247')\n",
      "(1010, 'rmso_128') (1050, 'rmso_251')\n",
      "(1010, 'rmso_128') (1050, 'rmso_252')\n",
      "(1010, 'rmso_128') (1050, 'rmso_253')\n",
      "(1010, 'rmso_129') (1012, 'rmso_134')\n",
      "(1010, 'rmso_129') (1012, 'rmso_135')\n",
      "(1010, 'rmso_129') (1012, 'rmso_136')\n",
      "(1010, 'rmso_129') (1042, 'rmso_227')\n",
      "(1010, 'rmso_129') (1042, 'rmso_228')\n",
      "(1010, 'rmso_129') (1042, 'rmso_229')\n",
      "(1010, 'rmso_129') (1044, 'rmso_233')\n",
      "(1010, 'rmso_129') (1044, 'rmso_234')\n",
      "(1010, 'rmso_129') (1044, 'rmso_235')\n",
      "(1010, 'rmso_129') (1046, 'rmso_239')\n",
      "(1010, 'rmso_129') (1046, 'rmso_240')\n",
      "(1010, 'rmso_129') (1046, 'rmso_241')\n",
      "(1010, 'rmso_129') (1048, 'rmso_245')\n",
      "(1010, 'rmso_129') (1048, 'rmso_246')\n",
      "(1010, 'rmso_129') (1048, 'rmso_247')\n",
      "(1010, 'rmso_129') (1050, 'rmso_251')\n",
      "(1010, 'rmso_129') (1050, 'rmso_252')\n",
      "(1010, 'rmso_129') (1050, 'rmso_253')\n",
      "(1010, 'rmso_130') (1012, 'rmso_134')\n",
      "(1010, 'rmso_130') (1012, 'rmso_135')\n",
      "(1010, 'rmso_130') (1012, 'rmso_136')\n",
      "(1010, 'rmso_130') (1042, 'rmso_227')\n",
      "(1010, 'rmso_130') (1042, 'rmso_228')\n",
      "(1010, 'rmso_130') (1042, 'rmso_229')\n",
      "(1010, 'rmso_130') (1044, 'rmso_233')\n",
      "(1010, 'rmso_130') (1044, 'rmso_234')\n",
      "(1010, 'rmso_130') (1044, 'rmso_235')\n",
      "(1010, 'rmso_130') (1046, 'rmso_239')\n",
      "(1010, 'rmso_130') (1046, 'rmso_240')\n",
      "(1010, 'rmso_130') (1046, 'rmso_241')\n",
      "(1010, 'rmso_130') (1048, 'rmso_245')\n",
      "(1010, 'rmso_130') (1048, 'rmso_246')\n",
      "(1010, 'rmso_130') (1048, 'rmso_247')\n",
      "(1010, 'rmso_130') (1050, 'rmso_251')\n",
      "(1010, 'rmso_130') (1050, 'rmso_252')\n",
      "(1010, 'rmso_130') (1050, 'rmso_253')\n",
      "(1012, 'rmso_134') (1042, 'rmso_227')\n",
      "(1012, 'rmso_134') (1042, 'rmso_228')\n",
      "(1012, 'rmso_134') (1042, 'rmso_229')\n",
      "(1012, 'rmso_134') (1044, 'rmso_233')\n",
      "(1012, 'rmso_134') (1044, 'rmso_234')\n",
      "(1012, 'rmso_134') (1044, 'rmso_235')\n",
      "(1012, 'rmso_134') (1046, 'rmso_239')\n",
      "(1012, 'rmso_134') (1046, 'rmso_240')\n",
      "(1012, 'rmso_134') (1046, 'rmso_241')\n",
      "(1012, 'rmso_134') (1048, 'rmso_245')\n",
      "(1012, 'rmso_134') (1048, 'rmso_246')\n",
      "(1012, 'rmso_134') (1048, 'rmso_247')\n",
      "(1012, 'rmso_134') (1050, 'rmso_251')\n",
      "(1012, 'rmso_134') (1050, 'rmso_252')\n",
      "(1012, 'rmso_134') (1050, 'rmso_253')\n",
      "(1012, 'rmso_135') (1042, 'rmso_227')\n",
      "(1012, 'rmso_135') (1042, 'rmso_228')\n",
      "(1012, 'rmso_135') (1042, 'rmso_229')\n",
      "(1012, 'rmso_135') (1044, 'rmso_233')\n",
      "(1012, 'rmso_135') (1044, 'rmso_234')\n",
      "(1012, 'rmso_135') (1044, 'rmso_235')\n",
      "(1012, 'rmso_135') (1046, 'rmso_239')\n",
      "(1012, 'rmso_135') (1046, 'rmso_240')\n",
      "(1012, 'rmso_135') (1046, 'rmso_241')\n",
      "(1012, 'rmso_135') (1048, 'rmso_245')\n",
      "(1012, 'rmso_135') (1048, 'rmso_246')\n",
      "(1012, 'rmso_135') (1048, 'rmso_247')\n",
      "(1012, 'rmso_135') (1050, 'rmso_251')\n",
      "(1012, 'rmso_135') (1050, 'rmso_252')\n",
      "(1012, 'rmso_135') (1050, 'rmso_253')\n",
      "(1012, 'rmso_136') (1042, 'rmso_227')\n",
      "(1012, 'rmso_136') (1042, 'rmso_228')\n",
      "(1012, 'rmso_136') (1042, 'rmso_229')\n",
      "(1012, 'rmso_136') (1044, 'rmso_233')\n",
      "(1012, 'rmso_136') (1044, 'rmso_234')\n",
      "(1012, 'rmso_136') (1044, 'rmso_235')\n",
      "(1012, 'rmso_136') (1046, 'rmso_239')\n",
      "(1012, 'rmso_136') (1046, 'rmso_240')\n",
      "(1012, 'rmso_136') (1046, 'rmso_241')\n",
      "(1012, 'rmso_136') (1048, 'rmso_245')\n",
      "(1012, 'rmso_136') (1048, 'rmso_246')\n",
      "(1012, 'rmso_136') (1048, 'rmso_247')\n",
      "(1012, 'rmso_136') (1050, 'rmso_251')\n",
      "(1012, 'rmso_136') (1050, 'rmso_252')\n",
      "(1012, 'rmso_136') (1050, 'rmso_253')\n",
      "(1042, 'rmso_227') (1044, 'rmso_233')\n",
      "(1042, 'rmso_227') (1044, 'rmso_234')\n",
      "(1042, 'rmso_227') (1044, 'rmso_235')\n",
      "(1042, 'rmso_227') (1046, 'rmso_239')\n",
      "(1042, 'rmso_227') (1046, 'rmso_240')\n",
      "(1042, 'rmso_227') (1046, 'rmso_241')\n",
      "(1042, 'rmso_227') (1048, 'rmso_245')\n",
      "(1042, 'rmso_227') (1048, 'rmso_246')\n",
      "(1042, 'rmso_227') (1048, 'rmso_247')\n",
      "(1042, 'rmso_227') (1050, 'rmso_251')\n",
      "(1042, 'rmso_227') (1050, 'rmso_252')\n",
      "(1042, 'rmso_227') (1050, 'rmso_253')\n",
      "(1042, 'rmso_228') (1044, 'rmso_233')\n",
      "(1042, 'rmso_228') (1044, 'rmso_234')\n",
      "(1042, 'rmso_228') (1044, 'rmso_235')\n",
      "(1042, 'rmso_228') (1046, 'rmso_239')\n",
      "(1042, 'rmso_228') (1046, 'rmso_240')\n",
      "(1042, 'rmso_228') (1046, 'rmso_241')\n",
      "(1042, 'rmso_228') (1048, 'rmso_245')\n",
      "(1042, 'rmso_228') (1048, 'rmso_246')\n",
      "(1042, 'rmso_228') (1048, 'rmso_247')\n",
      "(1042, 'rmso_228') (1050, 'rmso_251')\n",
      "(1042, 'rmso_228') (1050, 'rmso_252')\n",
      "(1042, 'rmso_228') (1050, 'rmso_253')\n",
      "(1042, 'rmso_229') (1044, 'rmso_233')\n",
      "(1042, 'rmso_229') (1044, 'rmso_234')\n",
      "(1042, 'rmso_229') (1044, 'rmso_235')\n",
      "(1042, 'rmso_229') (1046, 'rmso_239')\n",
      "(1042, 'rmso_229') (1046, 'rmso_240')\n",
      "(1042, 'rmso_229') (1046, 'rmso_241')\n",
      "(1042, 'rmso_229') (1048, 'rmso_245')\n",
      "(1042, 'rmso_229') (1048, 'rmso_246')\n",
      "(1042, 'rmso_229') (1048, 'rmso_247')\n",
      "(1042, 'rmso_229') (1050, 'rmso_251')\n",
      "(1042, 'rmso_229') (1050, 'rmso_252')\n",
      "(1042, 'rmso_229') (1050, 'rmso_253')\n",
      "(1044, 'rmso_233') (1046, 'rmso_239')\n",
      "(1044, 'rmso_233') (1046, 'rmso_240')\n",
      "(1044, 'rmso_233') (1046, 'rmso_241')\n",
      "(1044, 'rmso_233') (1048, 'rmso_245')\n",
      "(1044, 'rmso_233') (1048, 'rmso_246')\n",
      "(1044, 'rmso_233') (1048, 'rmso_247')\n",
      "(1044, 'rmso_233') (1050, 'rmso_251')\n",
      "(1044, 'rmso_233') (1050, 'rmso_252')\n",
      "(1044, 'rmso_233') (1050, 'rmso_253')\n",
      "(1044, 'rmso_234') (1046, 'rmso_239')\n",
      "(1044, 'rmso_234') (1046, 'rmso_240')\n",
      "(1044, 'rmso_234') (1046, 'rmso_241')\n",
      "(1044, 'rmso_234') (1048, 'rmso_245')\n",
      "(1044, 'rmso_234') (1048, 'rmso_246')\n",
      "(1044, 'rmso_234') (1048, 'rmso_247')\n",
      "(1044, 'rmso_234') (1050, 'rmso_251')\n",
      "(1044, 'rmso_234') (1050, 'rmso_252')\n",
      "(1044, 'rmso_234') (1050, 'rmso_253')\n",
      "(1044, 'rmso_235') (1046, 'rmso_239')\n",
      "(1044, 'rmso_235') (1046, 'rmso_240')\n",
      "(1044, 'rmso_235') (1046, 'rmso_241')\n",
      "(1044, 'rmso_235') (1048, 'rmso_245')\n",
      "(1044, 'rmso_235') (1048, 'rmso_246')\n",
      "(1044, 'rmso_235') (1048, 'rmso_247')\n",
      "(1044, 'rmso_235') (1050, 'rmso_251')\n",
      "(1044, 'rmso_235') (1050, 'rmso_252')\n",
      "(1044, 'rmso_235') (1050, 'rmso_253')\n",
      "(1046, 'rmso_239') (1048, 'rmso_245')\n",
      "(1046, 'rmso_239') (1048, 'rmso_246')\n",
      "(1046, 'rmso_239') (1048, 'rmso_247')\n",
      "(1046, 'rmso_239') (1050, 'rmso_251')\n",
      "(1046, 'rmso_239') (1050, 'rmso_252')\n",
      "(1046, 'rmso_239') (1050, 'rmso_253')\n",
      "(1046, 'rmso_240') (1048, 'rmso_245')\n",
      "(1046, 'rmso_240') (1048, 'rmso_246')\n",
      "(1046, 'rmso_240') (1048, 'rmso_247')\n",
      "(1046, 'rmso_240') (1050, 'rmso_251')\n",
      "(1046, 'rmso_240') (1050, 'rmso_252')\n",
      "(1046, 'rmso_240') (1050, 'rmso_253')\n",
      "(1046, 'rmso_241') (1048, 'rmso_245')\n",
      "(1046, 'rmso_241') (1048, 'rmso_246')\n",
      "(1046, 'rmso_241') (1048, 'rmso_247')\n",
      "(1046, 'rmso_241') (1050, 'rmso_251')\n",
      "(1046, 'rmso_241') (1050, 'rmso_252')\n",
      "(1046, 'rmso_241') (1050, 'rmso_253')\n",
      "(1048, 'rmso_245') (1050, 'rmso_251')\n",
      "(1048, 'rmso_245') (1050, 'rmso_252')\n",
      "(1048, 'rmso_245') (1050, 'rmso_253')\n",
      "(1048, 'rmso_246') (1050, 'rmso_251')\n",
      "(1048, 'rmso_246') (1050, 'rmso_252')\n",
      "(1048, 'rmso_246') (1050, 'rmso_253')\n",
      "(1048, 'rmso_247') (1050, 'rmso_251')\n",
      "(1048, 'rmso_247') (1050, 'rmso_252')\n",
      "(1048, 'rmso_247') (1050, 'rmso_253')\n"
     ]
    }
   ],
   "source": [
    "rm_cg = list(yield_rmso_crossgroup_corr())"
   ]
  },
  {
   "cell_type": "code",
   "execution_count": 9,
   "metadata": {},
   "outputs": [
    {
     "name": "stdout",
     "output_type": "stream",
     "text": [
      "(1008, 'rmso_122') (1008, 'rmso_123')\n",
      "(1008, 'rmso_122') (1008, 'rmso_124')\n",
      "(1008, 'rmso_123') (1008, 'rmso_124')\n",
      "(1010, 'rmso_128') (1010, 'rmso_129')\n",
      "(1010, 'rmso_128') (1010, 'rmso_130')\n",
      "(1010, 'rmso_129') (1010, 'rmso_130')\n",
      "(1012, 'rmso_134') (1012, 'rmso_135')\n",
      "(1012, 'rmso_134') (1012, 'rmso_136')\n",
      "(1012, 'rmso_135') (1012, 'rmso_136')\n",
      "(1042, 'rmso_227') (1042, 'rmso_228')\n",
      "(1042, 'rmso_227') (1042, 'rmso_229')\n",
      "(1042, 'rmso_228') (1042, 'rmso_229')\n",
      "(1044, 'rmso_233') (1044, 'rmso_234')\n",
      "(1044, 'rmso_233') (1044, 'rmso_235')\n",
      "(1044, 'rmso_234') (1044, 'rmso_235')\n",
      "(1046, 'rmso_239') (1046, 'rmso_240')\n",
      "(1046, 'rmso_239') (1046, 'rmso_241')\n",
      "(1046, 'rmso_240') (1046, 'rmso_241')\n",
      "(1048, 'rmso_245') (1048, 'rmso_246')\n",
      "(1048, 'rmso_245') (1048, 'rmso_247')\n",
      "(1048, 'rmso_246') (1048, 'rmso_247')\n",
      "(1050, 'rmso_251') (1050, 'rmso_252')\n",
      "(1050, 'rmso_251') (1050, 'rmso_253')\n",
      "(1050, 'rmso_252') (1050, 'rmso_253')\n"
     ]
    }
   ],
   "source": [
    "rm_same = list(yield_rmso_crossgroup_corr(True))"
   ]
  },
  {
   "cell_type": "code",
   "execution_count": 10,
   "metadata": {},
   "outputs": [
    {
     "name": "stdout",
     "output_type": "stream",
     "text": [
      "RMS-O cross-group corr: 0.066 ± 0.17\n",
      "RMS-O within-group corr:\n",
      "      0.157 ± 0.18\n"
     ]
    },
    {
     "data": {
      "image/png": "[encoded data removed]",
      "text/plain": [
       "<Figure size 432x288 with 1 Axes>"
      ]
     },
     "metadata": {
      "needs_background": "light"
     },
     "output_type": "display_data"
    }
   ],
   "source": [
    "sns.distplot(rm_cg, bins=12)\n",
    "sns.distplot(rm_same,bins=8)\n",
    "stats = lambda v: (np.array(v).mean(), np.array(v).std())\n",
    "str1 = \"RMS-O cross-group corr: {:.3f} \\u00b1 {:.2f}\".format(*stats(rm_cg)) \n",
    "str2 = \"RMS-O within-group corr:\\n      {:.3f} \\u00b1 {:.2f}\".format(*stats(rm_same))\n",
    "plt.text(-0.68,2.5, str1,color=(0,0,1))\n",
    "plt.text(0.12,0.7, str2,color=(0.5,0,1))\n",
    "print(str1)\n",
    "print(str2)"
   ]
  },
  {
   "cell_type": "code",
   "execution_count": 11,
   "metadata": {},
   "outputs": [
    {
     "name": "stdout",
     "output_type": "stream",
     "text": [
      "(1008, 'rms_122') (1010, 'rms_128')\n",
      "(1008, 'rms_122') (1010, 'rms_129')\n",
      "(1008, 'rms_122') (1010, 'rms_130')\n",
      "(1008, 'rms_122') (1012, 'rms_134')\n",
      "(1008, 'rms_122') (1012, 'rms_135')\n",
      "(1008, 'rms_122') (1012, 'rms_136')\n",
      "(1008, 'rms_122') (1042, 'rms_227')\n",
      "(1008, 'rms_122') (1042, 'rms_228')\n",
      "(1008, 'rms_122') (1042, 'rms_229')\n",
      "(1008, 'rms_122') (1044, 'rms_233')\n",
      "(1008, 'rms_122') (1044, 'rms_234')\n",
      "(1008, 'rms_122') (1044, 'rms_235')\n",
      "(1008, 'rms_122') (1046, 'rms_239')\n",
      "(1008, 'rms_122') (1046, 'rms_240')\n",
      "(1008, 'rms_122') (1046, 'rms_241')\n",
      "(1008, 'rms_122') (1048, 'rms_245')\n",
      "(1008, 'rms_122') (1048, 'rms_246')\n",
      "(1008, 'rms_122') (1048, 'rms_247')\n",
      "(1008, 'rms_122') (1050, 'rms_251')\n",
      "(1008, 'rms_122') (1050, 'rms_252')\n",
      "(1008, 'rms_122') (1050, 'rms_253')\n",
      "(1008, 'rms_123') (1010, 'rms_128')\n",
      "(1008, 'rms_123') (1010, 'rms_129')\n",
      "(1008, 'rms_123') (1010, 'rms_130')\n",
      "(1008, 'rms_123') (1012, 'rms_134')\n",
      "(1008, 'rms_123') (1012, 'rms_135')\n",
      "(1008, 'rms_123') (1012, 'rms_136')\n",
      "(1008, 'rms_123') (1042, 'rms_227')\n",
      "(1008, 'rms_123') (1042, 'rms_228')\n",
      "(1008, 'rms_123') (1042, 'rms_229')\n",
      "(1008, 'rms_123') (1044, 'rms_233')\n",
      "(1008, 'rms_123') (1044, 'rms_234')\n",
      "(1008, 'rms_123') (1044, 'rms_235')\n",
      "(1008, 'rms_123') (1046, 'rms_239')\n",
      "(1008, 'rms_123') (1046, 'rms_240')\n",
      "(1008, 'rms_123') (1046, 'rms_241')\n",
      "(1008, 'rms_123') (1048, 'rms_245')\n",
      "(1008, 'rms_123') (1048, 'rms_246')\n",
      "(1008, 'rms_123') (1048, 'rms_247')\n",
      "(1008, 'rms_123') (1050, 'rms_251')\n",
      "(1008, 'rms_123') (1050, 'rms_252')\n",
      "(1008, 'rms_123') (1050, 'rms_253')\n",
      "(1008, 'rms_124') (1010, 'rms_128')\n",
      "(1008, 'rms_124') (1010, 'rms_129')\n",
      "(1008, 'rms_124') (1010, 'rms_130')\n",
      "(1008, 'rms_124') (1012, 'rms_134')\n",
      "(1008, 'rms_124') (1012, 'rms_135')\n",
      "(1008, 'rms_124') (1012, 'rms_136')\n",
      "(1008, 'rms_124') (1042, 'rms_227')\n",
      "(1008, 'rms_124') (1042, 'rms_228')\n",
      "(1008, 'rms_124') (1042, 'rms_229')\n",
      "(1008, 'rms_124') (1044, 'rms_233')\n",
      "(1008, 'rms_124') (1044, 'rms_234')\n",
      "(1008, 'rms_124') (1044, 'rms_235')\n",
      "(1008, 'rms_124') (1046, 'rms_239')\n",
      "(1008, 'rms_124') (1046, 'rms_240')\n",
      "(1008, 'rms_124') (1046, 'rms_241')\n",
      "(1008, 'rms_124') (1048, 'rms_245')\n",
      "(1008, 'rms_124') (1048, 'rms_246')\n",
      "(1008, 'rms_124') (1048, 'rms_247')\n",
      "(1008, 'rms_124') (1050, 'rms_251')\n",
      "(1008, 'rms_124') (1050, 'rms_252')\n",
      "(1008, 'rms_124') (1050, 'rms_253')\n",
      "(1010, 'rms_128') (1012, 'rms_134')\n",
      "(1010, 'rms_128') (1012, 'rms_135')\n",
      "(1010, 'rms_128') (1012, 'rms_136')\n",
      "(1010, 'rms_128') (1042, 'rms_227')\n",
      "(1010, 'rms_128') (1042, 'rms_228')\n",
      "(1010, 'rms_128') (1042, 'rms_229')\n",
      "(1010, 'rms_128') (1044, 'rms_233')\n",
      "(1010, 'rms_128') (1044, 'rms_234')\n",
      "(1010, 'rms_128') (1044, 'rms_235')\n",
      "(1010, 'rms_128') (1046, 'rms_239')\n",
      "(1010, 'rms_128') (1046, 'rms_240')\n",
      "(1010, 'rms_128') (1046, 'rms_241')\n",
      "(1010, 'rms_128') (1048, 'rms_245')\n",
      "(1010, 'rms_128') (1048, 'rms_246')\n",
      "(1010, 'rms_128') (1048, 'rms_247')\n",
      "(1010, 'rms_128') (1050, 'rms_251')\n",
      "(1010, 'rms_128') (1050, 'rms_252')\n",
      "(1010, 'rms_128') (1050, 'rms_253')\n",
      "(1010, 'rms_129') (1012, 'rms_134')\n",
      "(1010, 'rms_129') (1012, 'rms_135')\n",
      "(1010, 'rms_129') (1012, 'rms_136')\n",
      "(1010, 'rms_129') (1042, 'rms_227')\n",
      "(1010, 'rms_129') (1042, 'rms_228')\n",
      "(1010, 'rms_129') (1042, 'rms_229')\n",
      "(1010, 'rms_129') (1044, 'rms_233')\n",
      "(1010, 'rms_129') (1044, 'rms_234')\n",
      "(1010, 'rms_129') (1044, 'rms_235')\n",
      "(1010, 'rms_129') (1046, 'rms_239')\n",
      "(1010, 'rms_129') (1046, 'rms_240')\n",
      "(1010, 'rms_129') (1046, 'rms_241')\n",
      "(1010, 'rms_129') (1048, 'rms_245')\n",
      "(1010, 'rms_129') (1048, 'rms_246')\n",
      "(1010, 'rms_129') (1048, 'rms_247')\n",
      "(1010, 'rms_129') (1050, 'rms_251')\n",
      "(1010, 'rms_129') (1050, 'rms_252')\n",
      "(1010, 'rms_129') (1050, 'rms_253')\n",
      "(1010, 'rms_130') (1012, 'rms_134')\n",
      "(1010, 'rms_130') (1012, 'rms_135')\n",
      "(1010, 'rms_130') (1012, 'rms_136')\n",
      "(1010, 'rms_130') (1042, 'rms_227')\n",
      "(1010, 'rms_130') (1042, 'rms_228')\n",
      "(1010, 'rms_130') (1042, 'rms_229')\n",
      "(1010, 'rms_130') (1044, 'rms_233')\n",
      "(1010, 'rms_130') (1044, 'rms_234')\n",
      "(1010, 'rms_130') (1044, 'rms_235')\n",
      "(1010, 'rms_130') (1046, 'rms_239')\n",
      "(1010, 'rms_130') (1046, 'rms_240')\n",
      "(1010, 'rms_130') (1046, 'rms_241')\n",
      "(1010, 'rms_130') (1048, 'rms_245')\n",
      "(1010, 'rms_130') (1048, 'rms_246')\n",
      "(1010, 'rms_130') (1048, 'rms_247')\n",
      "(1010, 'rms_130') (1050, 'rms_251')\n",
      "(1010, 'rms_130') (1050, 'rms_252')\n",
      "(1010, 'rms_130') (1050, 'rms_253')\n",
      "(1012, 'rms_134') (1042, 'rms_227')\n",
      "(1012, 'rms_134') (1042, 'rms_228')\n",
      "(1012, 'rms_134') (1042, 'rms_229')\n",
      "(1012, 'rms_134') (1044, 'rms_233')\n",
      "(1012, 'rms_134') (1044, 'rms_234')\n",
      "(1012, 'rms_134') (1044, 'rms_235')\n",
      "(1012, 'rms_134') (1046, 'rms_239')\n",
      "(1012, 'rms_134') (1046, 'rms_240')\n",
      "(1012, 'rms_134') (1046, 'rms_241')\n",
      "(1012, 'rms_134') (1048, 'rms_245')\n",
      "(1012, 'rms_134') (1048, 'rms_246')\n",
      "(1012, 'rms_134') (1048, 'rms_247')\n",
      "(1012, 'rms_134') (1050, 'rms_251')\n",
      "(1012, 'rms_134') (1050, 'rms_252')\n",
      "(1012, 'rms_134') (1050, 'rms_253')\n",
      "(1012, 'rms_135') (1042, 'rms_227')\n",
      "(1012, 'rms_135') (1042, 'rms_228')\n",
      "(1012, 'rms_135') (1042, 'rms_229')\n",
      "(1012, 'rms_135') (1044, 'rms_233')\n",
      "(1012, 'rms_135') (1044, 'rms_234')\n",
      "(1012, 'rms_135') (1044, 'rms_235')\n",
      "(1012, 'rms_135') (1046, 'rms_239')\n",
      "(1012, 'rms_135') (1046, 'rms_240')\n",
      "(1012, 'rms_135') (1046, 'rms_241')\n",
      "(1012, 'rms_135') (1048, 'rms_245')\n",
      "(1012, 'rms_135') (1048, 'rms_246')\n",
      "(1012, 'rms_135') (1048, 'rms_247')\n",
      "(1012, 'rms_135') (1050, 'rms_251')\n",
      "(1012, 'rms_135') (1050, 'rms_252')\n",
      "(1012, 'rms_135') (1050, 'rms_253')\n",
      "(1012, 'rms_136') (1042, 'rms_227')\n",
      "(1012, 'rms_136') (1042, 'rms_228')\n",
      "(1012, 'rms_136') (1042, 'rms_229')\n",
      "(1012, 'rms_136') (1044, 'rms_233')\n",
      "(1012, 'rms_136') (1044, 'rms_234')\n",
      "(1012, 'rms_136') (1044, 'rms_235')\n",
      "(1012, 'rms_136') (1046, 'rms_239')\n",
      "(1012, 'rms_136') (1046, 'rms_240')\n",
      "(1012, 'rms_136') (1046, 'rms_241')\n",
      "(1012, 'rms_136') (1048, 'rms_245')\n",
      "(1012, 'rms_136') (1048, 'rms_246')\n",
      "(1012, 'rms_136') (1048, 'rms_247')\n",
      "(1012, 'rms_136') (1050, 'rms_251')\n",
      "(1012, 'rms_136') (1050, 'rms_252')\n",
      "(1012, 'rms_136') (1050, 'rms_253')\n",
      "(1042, 'rms_227') (1044, 'rms_233')\n",
      "(1042, 'rms_227') (1044, 'rms_234')\n",
      "(1042, 'rms_227') (1044, 'rms_235')\n",
      "(1042, 'rms_227') (1046, 'rms_239')\n",
      "(1042, 'rms_227') (1046, 'rms_240')\n",
      "(1042, 'rms_227') (1046, 'rms_241')\n",
      "(1042, 'rms_227') (1048, 'rms_245')\n",
      "(1042, 'rms_227') (1048, 'rms_246')\n",
      "(1042, 'rms_227') (1048, 'rms_247')\n",
      "(1042, 'rms_227') (1050, 'rms_251')\n",
      "(1042, 'rms_227') (1050, 'rms_252')\n",
      "(1042, 'rms_227') (1050, 'rms_253')\n",
      "(1042, 'rms_228') (1044, 'rms_233')\n",
      "(1042, 'rms_228') (1044, 'rms_234')\n",
      "(1042, 'rms_228') (1044, 'rms_235')\n",
      "(1042, 'rms_228') (1046, 'rms_239')\n",
      "(1042, 'rms_228') (1046, 'rms_240')\n",
      "(1042, 'rms_228') (1046, 'rms_241')\n",
      "(1042, 'rms_228') (1048, 'rms_245')\n",
      "(1042, 'rms_228') (1048, 'rms_246')\n",
      "(1042, 'rms_228') (1048, 'rms_247')\n",
      "(1042, 'rms_228') (1050, 'rms_251')\n",
      "(1042, 'rms_228') (1050, 'rms_252')\n",
      "(1042, 'rms_228') (1050, 'rms_253')\n",
      "(1042, 'rms_229') (1044, 'rms_233')\n",
      "(1042, 'rms_229') (1044, 'rms_234')\n",
      "(1042, 'rms_229') (1044, 'rms_235')\n",
      "(1042, 'rms_229') (1046, 'rms_239')\n",
      "(1042, 'rms_229') (1046, 'rms_240')\n",
      "(1042, 'rms_229') (1046, 'rms_241')\n",
      "(1042, 'rms_229') (1048, 'rms_245')\n",
      "(1042, 'rms_229') (1048, 'rms_246')\n",
      "(1042, 'rms_229') (1048, 'rms_247')\n",
      "(1042, 'rms_229') (1050, 'rms_251')\n",
      "(1042, 'rms_229') (1050, 'rms_252')\n",
      "(1042, 'rms_229') (1050, 'rms_253')\n",
      "(1044, 'rms_233') (1046, 'rms_239')\n",
      "(1044, 'rms_233') (1046, 'rms_240')\n",
      "(1044, 'rms_233') (1046, 'rms_241')\n",
      "(1044, 'rms_233') (1048, 'rms_245')\n",
      "(1044, 'rms_233') (1048, 'rms_246')\n",
      "(1044, 'rms_233') (1048, 'rms_247')\n",
      "(1044, 'rms_233') (1050, 'rms_251')\n",
      "(1044, 'rms_233') (1050, 'rms_252')\n",
      "(1044, 'rms_233') (1050, 'rms_253')\n",
      "(1044, 'rms_234') (1046, 'rms_239')\n",
      "(1044, 'rms_234') (1046, 'rms_240')\n",
      "(1044, 'rms_234') (1046, 'rms_241')\n",
      "(1044, 'rms_234') (1048, 'rms_245')\n",
      "(1044, 'rms_234') (1048, 'rms_246')\n",
      "(1044, 'rms_234') (1048, 'rms_247')\n",
      "(1044, 'rms_234') (1050, 'rms_251')\n",
      "(1044, 'rms_234') (1050, 'rms_252')\n",
      "(1044, 'rms_234') (1050, 'rms_253')\n",
      "(1044, 'rms_235') (1046, 'rms_239')\n",
      "(1044, 'rms_235') (1046, 'rms_240')\n",
      "(1044, 'rms_235') (1046, 'rms_241')\n",
      "(1044, 'rms_235') (1048, 'rms_245')\n",
      "(1044, 'rms_235') (1048, 'rms_246')\n",
      "(1044, 'rms_235') (1048, 'rms_247')\n",
      "(1044, 'rms_235') (1050, 'rms_251')\n",
      "(1044, 'rms_235') (1050, 'rms_252')\n",
      "(1044, 'rms_235') (1050, 'rms_253')\n",
      "(1046, 'rms_239') (1048, 'rms_245')\n",
      "(1046, 'rms_239') (1048, 'rms_246')\n",
      "(1046, 'rms_239') (1048, 'rms_247')\n",
      "(1046, 'rms_239') (1050, 'rms_251')\n",
      "(1046, 'rms_239') (1050, 'rms_252')\n",
      "(1046, 'rms_239') (1050, 'rms_253')\n",
      "(1046, 'rms_240') (1048, 'rms_245')\n",
      "(1046, 'rms_240') (1048, 'rms_246')\n",
      "(1046, 'rms_240') (1048, 'rms_247')\n",
      "(1046, 'rms_240') (1050, 'rms_251')\n",
      "(1046, 'rms_240') (1050, 'rms_252')\n",
      "(1046, 'rms_240') (1050, 'rms_253')\n",
      "(1046, 'rms_241') (1048, 'rms_245')\n",
      "(1046, 'rms_241') (1048, 'rms_246')\n",
      "(1046, 'rms_241') (1048, 'rms_247')\n",
      "(1046, 'rms_241') (1050, 'rms_251')\n",
      "(1046, 'rms_241') (1050, 'rms_252')\n",
      "(1046, 'rms_241') (1050, 'rms_253')\n",
      "(1048, 'rms_245') (1050, 'rms_251')\n",
      "(1048, 'rms_245') (1050, 'rms_252')\n",
      "(1048, 'rms_245') (1050, 'rms_253')\n",
      "(1048, 'rms_246') (1050, 'rms_251')\n",
      "(1048, 'rms_246') (1050, 'rms_252')\n",
      "(1048, 'rms_246') (1050, 'rms_253')\n",
      "(1048, 'rms_247') (1050, 'rms_251')\n",
      "(1048, 'rms_247') (1050, 'rms_252')\n",
      "(1048, 'rms_247') (1050, 'rms_253')\n",
      "(1008, 'rms_122') (1008, 'rms_123')\n",
      "(1008, 'rms_122') (1008, 'rms_124')\n",
      "(1008, 'rms_123') (1008, 'rms_124')\n",
      "(1010, 'rms_128') (1010, 'rms_129')\n",
      "(1010, 'rms_128') (1010, 'rms_130')\n",
      "(1010, 'rms_129') (1010, 'rms_130')\n",
      "(1012, 'rms_134') (1012, 'rms_135')\n",
      "(1012, 'rms_134') (1012, 'rms_136')\n",
      "(1012, 'rms_135') (1012, 'rms_136')\n",
      "(1042, 'rms_227') (1042, 'rms_228')\n",
      "(1042, 'rms_227') (1042, 'rms_229')\n",
      "(1042, 'rms_228') (1042, 'rms_229')\n",
      "(1044, 'rms_233') (1044, 'rms_234')\n",
      "(1044, 'rms_233') (1044, 'rms_235')\n",
      "(1044, 'rms_234') (1044, 'rms_235')\n",
      "(1046, 'rms_239') (1046, 'rms_240')\n",
      "(1046, 'rms_239') (1046, 'rms_241')\n",
      "(1046, 'rms_240') (1046, 'rms_241')\n",
      "(1048, 'rms_245') (1048, 'rms_246')\n",
      "(1048, 'rms_245') (1048, 'rms_247')\n",
      "(1048, 'rms_246') (1048, 'rms_247')\n",
      "(1050, 'rms_251') (1050, 'rms_252')\n",
      "(1050, 'rms_251') (1050, 'rms_253')\n",
      "(1050, 'rms_252') (1050, 'rms_253')\n"
     ]
    }
   ],
   "source": [
    "rm1_cg = list(yield_rmso_crossgroup_corr(False,\"rms_\"))\n",
    "rm1_same = list(yield_rmso_crossgroup_corr(True,\"rms_\"))"
   ]
  },
  {
   "cell_type": "code",
   "execution_count": 12,
   "metadata": {},
   "outputs": [
    {
     "data": {
      "text/plain": [
       "<AxesSubplot:>"
      ]
     },
     "execution_count": 12,
     "metadata": {},
     "output_type": "execute_result"
    },
    {
     "data": {
      "image/png": "[encoded data removed]",
      "text/plain": [
       "<Figure size 432x288 with 1 Axes>"
      ]
     },
     "metadata": {
      "needs_background": "light"
     },
     "output_type": "display_data"
    }
   ],
   "source": [
    "sns.distplot(rm1_cg, bins=12)\n",
    "sns.distplot(rm1_same,bins=8)\n"
   ]
  },
  {
   "cell_type": "code",
   "execution_count": 13,
   "metadata": {},
   "outputs": [
    {
     "name": "stdout",
     "output_type": "stream",
     "text": [
      "(1008, 'Raw_122') (1008, 'Raw_123')\n",
      "(1008, 'Raw_122') (1008, 'Raw_124')\n",
      "(1008, 'Raw_123') (1008, 'Raw_124')\n",
      "(1010, 'Raw_128') (1010, 'Raw_129')\n",
      "(1010, 'Raw_128') (1010, 'Raw_130')\n",
      "(1010, 'Raw_129') (1010, 'Raw_130')\n",
      "(1012, 'Raw_134') (1012, 'Raw_135')\n",
      "(1012, 'Raw_134') (1012, 'Raw_136')\n",
      "(1012, 'Raw_135') (1012, 'Raw_136')\n",
      "(1042, 'Raw_227') (1042, 'Raw_228')\n",
      "(1042, 'Raw_227') (1042, 'Raw_229')\n",
      "(1042, 'Raw_228') (1042, 'Raw_229')\n",
      "(1044, 'Raw_233') (1044, 'Raw_234')\n",
      "(1044, 'Raw_233') (1044, 'Raw_235')\n",
      "(1044, 'Raw_234') (1044, 'Raw_235')\n",
      "(1046, 'Raw_239') (1046, 'Raw_240')\n",
      "(1046, 'Raw_239') (1046, 'Raw_241')\n",
      "(1046, 'Raw_240') (1046, 'Raw_241')\n",
      "(1048, 'Raw_245') (1048, 'Raw_246')\n",
      "(1048, 'Raw_245') (1048, 'Raw_247')\n",
      "(1048, 'Raw_246') (1048, 'Raw_247')\n",
      "(1050, 'Raw_251') (1050, 'Raw_252')\n",
      "(1050, 'Raw_251') (1050, 'Raw_253')\n",
      "(1050, 'Raw_252') (1050, 'Raw_253')\n",
      "(1008, 'Sg_122') (1008, 'Sg_123')\n",
      "(1008, 'Sg_122') (1008, 'Sg_124')\n",
      "(1008, 'Sg_123') (1008, 'Sg_124')\n",
      "(1010, 'Sg_128') (1010, 'Sg_129')\n",
      "(1010, 'Sg_128') (1010, 'Sg_130')\n",
      "(1010, 'Sg_129') (1010, 'Sg_130')\n",
      "(1012, 'Sg_134') (1012, 'Sg_135')\n",
      "(1012, 'Sg_134') (1012, 'Sg_136')\n",
      "(1012, 'Sg_135') (1012, 'Sg_136')\n",
      "(1042, 'Sg_227') (1042, 'Sg_228')\n",
      "(1042, 'Sg_227') (1042, 'Sg_229')\n",
      "(1042, 'Sg_228') (1042, 'Sg_229')\n",
      "(1044, 'Sg_233') (1044, 'Sg_234')\n",
      "(1044, 'Sg_233') (1044, 'Sg_235')\n",
      "(1044, 'Sg_234') (1044, 'Sg_235')\n",
      "(1046, 'Sg_239') (1046, 'Sg_240')\n",
      "(1046, 'Sg_239') (1046, 'Sg_241')\n",
      "(1046, 'Sg_240') (1046, 'Sg_241')\n",
      "(1048, 'Sg_245') (1048, 'Sg_246')\n",
      "(1048, 'Sg_245') (1048, 'Sg_247')\n",
      "(1048, 'Sg_246') (1048, 'Sg_247')\n",
      "(1050, 'Sg_251') (1050, 'Sg_252')\n",
      "(1050, 'Sg_251') (1050, 'Sg_253')\n",
      "(1050, 'Sg_252') (1050, 'Sg_253')\n"
     ]
    }
   ],
   "source": [
    "raw_same = list(yield_rmso_crossgroup_corr(True,\"Raw_\"))\n",
    "sg_same = list(yield_rmso_crossgroup_corr(True,\"Sg_\")) \n"
   ]
  },
  {
   "cell_type": "code",
   "execution_count": 14,
   "metadata": {},
   "outputs": [
    {
     "name": "stdout",
     "output_type": "stream",
     "text": [
      "Raw intra-group corr: 0.131 ± 0.19\n",
      "sg intra-group corr: 0.170 ± 0.32\n"
     ]
    },
    {
     "data": {
      "image/png": "[encoded data removed]",
      "text/plain": [
       "<Figure size 432x288 with 1 Axes>"
      ]
     },
     "metadata": {
      "needs_background": "light"
     },
     "output_type": "display_data"
    }
   ],
   "source": [
    "sns.distplot(raw_same)\n",
    "sns.distplot(sg_same)\n",
    "\n",
    "stats = lambda v: (np.array(v).mean(), np.array(v).std())\n",
    "str1 = \"Raw intra-group corr: {:.3f} \\u00b1 {:.2f}\".format(*stats(raw_same)) \n",
    "str2 = \"sg intra-group corr: {:.3f} \\u00b1 {:.2f}\".format(*stats(sg_same))\n",
    "plt.text(-0.68,1.5, str1,color=(0,0,1))\n",
    "plt.text(-0.12,1., str2,color=(0.5,0,1))\n",
    "print(str1)\n",
    "print(str2)"
   ]
  },
  {
   "cell_type": "code",
   "execution_count": 15,
   "metadata": {},
   "outputs": [
    {
     "data": {
      "text/plain": [
       "<matplotlib.collections.PathCollection at 0x7f82ec5e5d90>"
      ]
     },
     "execution_count": 15,
     "metadata": {},
     "output_type": "execute_result"
    },
    {
     "data": {
      "image/png": "[encoded data removed]",
      "text/plain": [
       "<Figure size 432x288 with 1 Axes>"
      ]
     },
     "metadata": {
      "needs_background": "light"
     },
     "output_type": "display_data"
    }
   ],
   "source": [
    "plt.scatter(rm1_same, rm_same)"
   ]
  },
  {
   "cell_type": "code",
   "execution_count": 16,
   "metadata": {},
   "outputs": [
    {
     "data": {
      "text/plain": [
       "<matplotlib.collections.PathCollection at 0x7f82eaea1f90>"
      ]
     },
     "execution_count": 16,
     "metadata": {},
     "output_type": "execute_result"
    },
    {
     "data": {
      "image/png": "[encoded data removed]",
      "text/plain": [
       "<Figure size 432x288 with 1 Axes>"
      ]
     },
     "metadata": {
      "needs_background": "light"
     },
     "output_type": "display_data"
    }
   ],
   "source": [
    "plt.scatter(rm1_cg, rm_cg)"
   ]
  },
  {
   "cell_type": "code",
   "execution_count": null,
   "metadata": {},
   "outputs": [],
   "source": [
    "sum((x-y)**2 for x, y in zip(rm1_cg,rm_cg))"
   ]
  },
  {
   "cell_type": "code",
   "execution_count": 20,
   "metadata": {},
   "outputs": [
    {
     "name": "stdout",
     "output_type": "stream",
     "text": [
      "(1008, 'rmso_122') (1008, 'rmso_123')\n",
      "(1008, 'rmso_122') (1008, 'rmso_124')\n",
      "(1008, 'rmso_123') (1008, 'rmso_124')\n",
      "(1010, 'rmso_128') (1010, 'rmso_129')\n",
      "(1010, 'rmso_128') (1010, 'rmso_130')\n",
      "(1010, 'rmso_129') (1010, 'rmso_130')\n",
      "(1012, 'rmso_134') (1012, 'rmso_135')\n",
      "(1012, 'rmso_134') (1012, 'rmso_136')\n",
      "(1012, 'rmso_135') (1012, 'rmso_136')\n",
      "(1042, 'rmso_227') (1042, 'rmso_228')\n",
      "(1042, 'rmso_227') (1042, 'rmso_229')\n",
      "(1042, 'rmso_228') (1042, 'rmso_229')\n",
      "(1044, 'rmso_233') (1044, 'rmso_234')\n",
      "(1044, 'rmso_233') (1044, 'rmso_235')\n",
      "(1044, 'rmso_234') (1044, 'rmso_235')\n",
      "(1046, 'rmso_239') (1046, 'rmso_240')\n",
      "(1046, 'rmso_239') (1046, 'rmso_241')\n",
      "(1046, 'rmso_240') (1046, 'rmso_241')\n",
      "(1048, 'rmso_245') (1048, 'rmso_246')\n",
      "(1048, 'rmso_245') (1048, 'rmso_247')\n",
      "(1048, 'rmso_246') (1048, 'rmso_247')\n",
      "(1050, 'rmso_251') (1050, 'rmso_252')\n",
      "(1050, 'rmso_251') (1050, 'rmso_253')\n",
      "(1050, 'rmso_252') (1050, 'rmso_253')\n"
     ]
    }
   ],
   "source": [
    "high_rmso = [(cols, corr) for (cols,corr) in yield_rmso_crossgroup_corr(same_group=True,yield_with_colnames=True) if corr > 0.35]"
   ]
  },
  {
   "cell_type": "code",
   "execution_count": 21,
   "metadata": {},
   "outputs": [
    {
     "data": {
      "text/plain": [
       "[(((1044, 'rmso_233'), (1044, 'rmso_234')), 0.3990615121063543),\n",
       " (((1046, 'rmso_239'), (1046, 'rmso_240')), 0.40315603053167404),\n",
       " (((1046, 'rmso_239'), (1046, 'rmso_241')), 0.46553413750443223)]"
      ]
     },
     "execution_count": 21,
     "metadata": {},
     "output_type": "execute_result"
    }
   ],
   "source": [
    "high_rmso"
   ]
  },
  {
   "cell_type": "code",
   "execution_count": 19,
   "metadata": {},
   "outputs": [
    {
     "data": {
      "text/plain": [
       "[<matplotlib.lines.Line2D at 0x7f82eae1a790>]"
      ]
     },
     "execution_count": 19,
     "metadata": {},
     "output_type": "execute_result"
    },
    {
     "data": {
      "image/png": "[encoded data removed]",
      "text/plain": [
       "<Figure size 432x288 with 1 Axes>"
      ]
     },
     "metadata": {
      "needs_background": "light"
     },
     "output_type": "display_data"
    }
   ],
   "source": [
    "plt.plot(df[(1046, 'rmso_239')])\n",
    "plt.plot(df[(1046, 'rmso_240')])\n",
    "plt.plot(df[(1046, 'rmso_241')])\n"
   ]
  },
  {
   "cell_type": "code",
   "execution_count": 23,
   "metadata": {},
   "outputs": [
    {
     "data": {
      "text/plain": [
       "[<matplotlib.lines.Line2D at 0x7f82eab0edd0>]"
      ]
     },
     "execution_count": 23,
     "metadata": {},
     "output_type": "execute_result"
    },
    {
     "data": {
      "image/png": "[encoded data removed]",
      "text/plain": [
       "<Figure size 432x288 with 1 Axes>"
      ]
     },
     "metadata": {
      "needs_background": "light"
     },
     "output_type": "display_data"
    }
   ],
   "source": [
    "plt.plot(df[(1044, 'rmso_233')])\n",
    "plt.plot(df[(1044, 'rmso_235')])\n",
    "plt.plot(df[(1044, 'rmso_234')])\n"
   ]
  },
  {
   "cell_type": "code",
   "execution_count": 24,
   "metadata": {},
   "outputs": [
    {
     "name": "stdout",
     "output_type": "stream",
     "text": [
      "(1008, 'resid_122') (1008, 'resid_123')\n",
      "(1008, 'resid_122') (1008, 'resid_124')\n",
      "(1008, 'resid_123') (1008, 'resid_124')\n",
      "(1010, 'resid_128') (1010, 'resid_129')\n",
      "(1010, 'resid_128') (1010, 'resid_130')\n",
      "(1010, 'resid_129') (1010, 'resid_130')\n",
      "(1012, 'resid_134') (1012, 'resid_135')\n",
      "(1012, 'resid_134') (1012, 'resid_136')\n",
      "(1012, 'resid_135') (1012, 'resid_136')\n",
      "(1042, 'resid_227') (1042, 'resid_228')\n",
      "(1042, 'resid_227') (1042, 'resid_229')\n",
      "(1042, 'resid_228') (1042, 'resid_229')\n",
      "(1044, 'resid_233') (1044, 'resid_234')\n",
      "(1044, 'resid_233') (1044, 'resid_235')\n",
      "(1044, 'resid_234') (1044, 'resid_235')\n",
      "(1046, 'resid_239') (1046, 'resid_240')\n",
      "(1046, 'resid_239') (1046, 'resid_241')\n",
      "(1046, 'resid_240') (1046, 'resid_241')\n",
      "(1048, 'resid_245') (1048, 'resid_246')\n",
      "(1048, 'resid_245') (1048, 'resid_247')\n",
      "(1048, 'resid_246') (1048, 'resid_247')\n",
      "(1050, 'resid_251') (1050, 'resid_252')\n",
      "(1050, 'resid_251') (1050, 'resid_253')\n",
      "(1050, 'resid_252') (1050, 'resid_253')\n",
      "(1008, 'resid_122') (1010, 'resid_128')\n",
      "(1008, 'resid_122') (1010, 'resid_129')\n",
      "(1008, 'resid_122') (1010, 'resid_130')\n",
      "(1008, 'resid_122') (1012, 'resid_134')\n",
      "(1008, 'resid_122') (1012, 'resid_135')\n",
      "(1008, 'resid_122') (1012, 'resid_136')\n",
      "(1008, 'resid_122') (1042, 'resid_227')\n",
      "(1008, 'resid_122') (1042, 'resid_228')\n",
      "(1008, 'resid_122') (1042, 'resid_229')\n",
      "(1008, 'resid_122') (1044, 'resid_233')\n",
      "(1008, 'resid_122') (1044, 'resid_234')\n",
      "(1008, 'resid_122') (1044, 'resid_235')\n",
      "(1008, 'resid_122') (1046, 'resid_239')\n",
      "(1008, 'resid_122') (1046, 'resid_240')\n",
      "(1008, 'resid_122') (1046, 'resid_241')\n",
      "(1008, 'resid_122') (1048, 'resid_245')\n",
      "(1008, 'resid_122') (1048, 'resid_246')\n",
      "(1008, 'resid_122') (1048, 'resid_247')\n",
      "(1008, 'resid_122') (1050, 'resid_251')\n",
      "(1008, 'resid_122') (1050, 'resid_252')\n",
      "(1008, 'resid_122') (1050, 'resid_253')\n",
      "(1008, 'resid_123') (1010, 'resid_128')\n",
      "(1008, 'resid_123') (1010, 'resid_129')\n",
      "(1008, 'resid_123') (1010, 'resid_130')\n",
      "(1008, 'resid_123') (1012, 'resid_134')\n",
      "(1008, 'resid_123') (1012, 'resid_135')\n",
      "(1008, 'resid_123') (1012, 'resid_136')\n",
      "(1008, 'resid_123') (1042, 'resid_227')\n",
      "(1008, 'resid_123') (1042, 'resid_228')\n",
      "(1008, 'resid_123') (1042, 'resid_229')\n",
      "(1008, 'resid_123') (1044, 'resid_233')\n",
      "(1008, 'resid_123') (1044, 'resid_234')\n",
      "(1008, 'resid_123') (1044, 'resid_235')\n",
      "(1008, 'resid_123') (1046, 'resid_239')\n",
      "(1008, 'resid_123') (1046, 'resid_240')\n",
      "(1008, 'resid_123') (1046, 'resid_241')\n",
      "(1008, 'resid_123') (1048, 'resid_245')\n",
      "(1008, 'resid_123') (1048, 'resid_246')\n",
      "(1008, 'resid_123') (1048, 'resid_247')\n",
      "(1008, 'resid_123') (1050, 'resid_251')\n",
      "(1008, 'resid_123') (1050, 'resid_252')\n",
      "(1008, 'resid_123') (1050, 'resid_253')\n",
      "(1008, 'resid_124') (1010, 'resid_128')\n",
      "(1008, 'resid_124') (1010, 'resid_129')\n",
      "(1008, 'resid_124') (1010, 'resid_130')\n",
      "(1008, 'resid_124') (1012, 'resid_134')\n",
      "(1008, 'resid_124') (1012, 'resid_135')\n",
      "(1008, 'resid_124') (1012, 'resid_136')\n",
      "(1008, 'resid_124') (1042, 'resid_227')\n",
      "(1008, 'resid_124') (1042, 'resid_228')\n",
      "(1008, 'resid_124') (1042, 'resid_229')\n",
      "(1008, 'resid_124') (1044, 'resid_233')\n",
      "(1008, 'resid_124') (1044, 'resid_234')\n",
      "(1008, 'resid_124') (1044, 'resid_235')\n",
      "(1008, 'resid_124') (1046, 'resid_239')\n",
      "(1008, 'resid_124') (1046, 'resid_240')\n",
      "(1008, 'resid_124') (1046, 'resid_241')\n",
      "(1008, 'resid_124') (1048, 'resid_245')\n",
      "(1008, 'resid_124') (1048, 'resid_246')\n",
      "(1008, 'resid_124') (1048, 'resid_247')\n",
      "(1008, 'resid_124') (1050, 'resid_251')\n",
      "(1008, 'resid_124') (1050, 'resid_252')\n",
      "(1008, 'resid_124') (1050, 'resid_253')\n",
      "(1010, 'resid_128') (1012, 'resid_134')\n",
      "(1010, 'resid_128') (1012, 'resid_135')\n",
      "(1010, 'resid_128') (1012, 'resid_136')\n",
      "(1010, 'resid_128') (1042, 'resid_227')\n",
      "(1010, 'resid_128') (1042, 'resid_228')\n",
      "(1010, 'resid_128') (1042, 'resid_229')\n",
      "(1010, 'resid_128') (1044, 'resid_233')\n",
      "(1010, 'resid_128') (1044, 'resid_234')\n",
      "(1010, 'resid_128') (1044, 'resid_235')\n",
      "(1010, 'resid_128') (1046, 'resid_239')\n",
      "(1010, 'resid_128') (1046, 'resid_240')\n",
      "(1010, 'resid_128') (1046, 'resid_241')\n",
      "(1010, 'resid_128') (1048, 'resid_245')\n",
      "(1010, 'resid_128') (1048, 'resid_246')\n",
      "(1010, 'resid_128') (1048, 'resid_247')\n",
      "(1010, 'resid_128') (1050, 'resid_251')\n",
      "(1010, 'resid_128') (1050, 'resid_252')\n",
      "(1010, 'resid_128') (1050, 'resid_253')\n",
      "(1010, 'resid_129') (1012, 'resid_134')\n",
      "(1010, 'resid_129') (1012, 'resid_135')\n",
      "(1010, 'resid_129') (1012, 'resid_136')\n",
      "(1010, 'resid_129') (1042, 'resid_227')\n",
      "(1010, 'resid_129') (1042, 'resid_228')\n",
      "(1010, 'resid_129') (1042, 'resid_229')\n",
      "(1010, 'resid_129') (1044, 'resid_233')\n",
      "(1010, 'resid_129') (1044, 'resid_234')\n",
      "(1010, 'resid_129') (1044, 'resid_235')\n",
      "(1010, 'resid_129') (1046, 'resid_239')\n",
      "(1010, 'resid_129') (1046, 'resid_240')\n",
      "(1010, 'resid_129') (1046, 'resid_241')\n",
      "(1010, 'resid_129') (1048, 'resid_245')\n",
      "(1010, 'resid_129') (1048, 'resid_246')\n",
      "(1010, 'resid_129') (1048, 'resid_247')\n",
      "(1010, 'resid_129') (1050, 'resid_251')\n",
      "(1010, 'resid_129') (1050, 'resid_252')\n",
      "(1010, 'resid_129') (1050, 'resid_253')\n",
      "(1010, 'resid_130') (1012, 'resid_134')\n",
      "(1010, 'resid_130') (1012, 'resid_135')\n",
      "(1010, 'resid_130') (1012, 'resid_136')\n",
      "(1010, 'resid_130') (1042, 'resid_227')\n",
      "(1010, 'resid_130') (1042, 'resid_228')\n",
      "(1010, 'resid_130') (1042, 'resid_229')\n",
      "(1010, 'resid_130') (1044, 'resid_233')\n",
      "(1010, 'resid_130') (1044, 'resid_234')\n",
      "(1010, 'resid_130') (1044, 'resid_235')\n",
      "(1010, 'resid_130') (1046, 'resid_239')\n",
      "(1010, 'resid_130') (1046, 'resid_240')\n",
      "(1010, 'resid_130') (1046, 'resid_241')\n",
      "(1010, 'resid_130') (1048, 'resid_245')\n",
      "(1010, 'resid_130') (1048, 'resid_246')\n",
      "(1010, 'resid_130') (1048, 'resid_247')\n",
      "(1010, 'resid_130') (1050, 'resid_251')\n",
      "(1010, 'resid_130') (1050, 'resid_252')\n",
      "(1010, 'resid_130') (1050, 'resid_253')\n",
      "(1012, 'resid_134') (1042, 'resid_227')\n",
      "(1012, 'resid_134') (1042, 'resid_228')\n",
      "(1012, 'resid_134') (1042, 'resid_229')\n",
      "(1012, 'resid_134') (1044, 'resid_233')\n",
      "(1012, 'resid_134') (1044, 'resid_234')\n",
      "(1012, 'resid_134') (1044, 'resid_235')\n",
      "(1012, 'resid_134') (1046, 'resid_239')\n",
      "(1012, 'resid_134') (1046, 'resid_240')\n",
      "(1012, 'resid_134') (1046, 'resid_241')\n",
      "(1012, 'resid_134') (1048, 'resid_245')\n",
      "(1012, 'resid_134') (1048, 'resid_246')\n",
      "(1012, 'resid_134') (1048, 'resid_247')\n",
      "(1012, 'resid_134') (1050, 'resid_251')\n",
      "(1012, 'resid_134') (1050, 'resid_252')\n",
      "(1012, 'resid_134') (1050, 'resid_253')\n",
      "(1012, 'resid_135') (1042, 'resid_227')\n",
      "(1012, 'resid_135') (1042, 'resid_228')\n",
      "(1012, 'resid_135') (1042, 'resid_229')\n",
      "(1012, 'resid_135') (1044, 'resid_233')\n",
      "(1012, 'resid_135') (1044, 'resid_234')\n",
      "(1012, 'resid_135') (1044, 'resid_235')\n",
      "(1012, 'resid_135') (1046, 'resid_239')\n",
      "(1012, 'resid_135') (1046, 'resid_240')\n",
      "(1012, 'resid_135') (1046, 'resid_241')\n",
      "(1012, 'resid_135') (1048, 'resid_245')\n",
      "(1012, 'resid_135') (1048, 'resid_246')\n",
      "(1012, 'resid_135') (1048, 'resid_247')\n",
      "(1012, 'resid_135') (1050, 'resid_251')\n",
      "(1012, 'resid_135') (1050, 'resid_252')\n",
      "(1012, 'resid_135') (1050, 'resid_253')\n",
      "(1012, 'resid_136') (1042, 'resid_227')\n",
      "(1012, 'resid_136') (1042, 'resid_228')\n",
      "(1012, 'resid_136') (1042, 'resid_229')\n",
      "(1012, 'resid_136') (1044, 'resid_233')\n",
      "(1012, 'resid_136') (1044, 'resid_234')\n",
      "(1012, 'resid_136') (1044, 'resid_235')\n",
      "(1012, 'resid_136') (1046, 'resid_239')\n",
      "(1012, 'resid_136') (1046, 'resid_240')\n",
      "(1012, 'resid_136') (1046, 'resid_241')\n",
      "(1012, 'resid_136') (1048, 'resid_245')\n",
      "(1012, 'resid_136') (1048, 'resid_246')\n",
      "(1012, 'resid_136') (1048, 'resid_247')\n",
      "(1012, 'resid_136') (1050, 'resid_251')\n",
      "(1012, 'resid_136') (1050, 'resid_252')\n",
      "(1012, 'resid_136') (1050, 'resid_253')\n",
      "(1042, 'resid_227') (1044, 'resid_233')\n",
      "(1042, 'resid_227') (1044, 'resid_234')\n",
      "(1042, 'resid_227') (1044, 'resid_235')\n",
      "(1042, 'resid_227') (1046, 'resid_239')\n",
      "(1042, 'resid_227') (1046, 'resid_240')\n",
      "(1042, 'resid_227') (1046, 'resid_241')\n",
      "(1042, 'resid_227') (1048, 'resid_245')\n",
      "(1042, 'resid_227') (1048, 'resid_246')\n",
      "(1042, 'resid_227') (1048, 'resid_247')\n",
      "(1042, 'resid_227') (1050, 'resid_251')\n",
      "(1042, 'resid_227') (1050, 'resid_252')\n",
      "(1042, 'resid_227') (1050, 'resid_253')\n",
      "(1042, 'resid_228') (1044, 'resid_233')\n",
      "(1042, 'resid_228') (1044, 'resid_234')\n",
      "(1042, 'resid_228') (1044, 'resid_235')\n",
      "(1042, 'resid_228') (1046, 'resid_239')\n",
      "(1042, 'resid_228') (1046, 'resid_240')\n",
      "(1042, 'resid_228') (1046, 'resid_241')\n",
      "(1042, 'resid_228') (1048, 'resid_245')\n",
      "(1042, 'resid_228') (1048, 'resid_246')\n",
      "(1042, 'resid_228') (1048, 'resid_247')\n",
      "(1042, 'resid_228') (1050, 'resid_251')\n",
      "(1042, 'resid_228') (1050, 'resid_252')\n",
      "(1042, 'resid_228') (1050, 'resid_253')\n",
      "(1042, 'resid_229') (1044, 'resid_233')\n",
      "(1042, 'resid_229') (1044, 'resid_234')\n",
      "(1042, 'resid_229') (1044, 'resid_235')\n",
      "(1042, 'resid_229') (1046, 'resid_239')\n",
      "(1042, 'resid_229') (1046, 'resid_240')\n",
      "(1042, 'resid_229') (1046, 'resid_241')\n",
      "(1042, 'resid_229') (1048, 'resid_245')\n",
      "(1042, 'resid_229') (1048, 'resid_246')\n",
      "(1042, 'resid_229') (1048, 'resid_247')\n",
      "(1042, 'resid_229') (1050, 'resid_251')\n",
      "(1042, 'resid_229') (1050, 'resid_252')\n",
      "(1042, 'resid_229') (1050, 'resid_253')\n",
      "(1044, 'resid_233') (1046, 'resid_239')\n",
      "(1044, 'resid_233') (1046, 'resid_240')\n",
      "(1044, 'resid_233') (1046, 'resid_241')\n",
      "(1044, 'resid_233') (1048, 'resid_245')\n",
      "(1044, 'resid_233') (1048, 'resid_246')\n",
      "(1044, 'resid_233') (1048, 'resid_247')\n",
      "(1044, 'resid_233') (1050, 'resid_251')\n",
      "(1044, 'resid_233') (1050, 'resid_252')\n",
      "(1044, 'resid_233') (1050, 'resid_253')\n",
      "(1044, 'resid_234') (1046, 'resid_239')\n",
      "(1044, 'resid_234') (1046, 'resid_240')\n",
      "(1044, 'resid_234') (1046, 'resid_241')\n",
      "(1044, 'resid_234') (1048, 'resid_245')\n",
      "(1044, 'resid_234') (1048, 'resid_246')\n",
      "(1044, 'resid_234') (1048, 'resid_247')\n",
      "(1044, 'resid_234') (1050, 'resid_251')\n",
      "(1044, 'resid_234') (1050, 'resid_252')\n",
      "(1044, 'resid_234') (1050, 'resid_253')\n",
      "(1044, 'resid_235') (1046, 'resid_239')\n",
      "(1044, 'resid_235') (1046, 'resid_240')\n",
      "(1044, 'resid_235') (1046, 'resid_241')\n",
      "(1044, 'resid_235') (1048, 'resid_245')\n",
      "(1044, 'resid_235') (1048, 'resid_246')\n",
      "(1044, 'resid_235') (1048, 'resid_247')\n",
      "(1044, 'resid_235') (1050, 'resid_251')\n",
      "(1044, 'resid_235') (1050, 'resid_252')\n",
      "(1044, 'resid_235') (1050, 'resid_253')\n",
      "(1046, 'resid_239') (1048, 'resid_245')\n",
      "(1046, 'resid_239') (1048, 'resid_246')\n",
      "(1046, 'resid_239') (1048, 'resid_247')\n",
      "(1046, 'resid_239') (1050, 'resid_251')\n",
      "(1046, 'resid_239') (1050, 'resid_252')\n",
      "(1046, 'resid_239') (1050, 'resid_253')\n",
      "(1046, 'resid_240') (1048, 'resid_245')\n",
      "(1046, 'resid_240') (1048, 'resid_246')\n",
      "(1046, 'resid_240') (1048, 'resid_247')\n",
      "(1046, 'resid_240') (1050, 'resid_251')\n",
      "(1046, 'resid_240') (1050, 'resid_252')\n",
      "(1046, 'resid_240') (1050, 'resid_253')\n",
      "(1046, 'resid_241') (1048, 'resid_245')\n",
      "(1046, 'resid_241') (1048, 'resid_246')\n",
      "(1046, 'resid_241') (1048, 'resid_247')\n",
      "(1046, 'resid_241') (1050, 'resid_251')\n",
      "(1046, 'resid_241') (1050, 'resid_252')\n",
      "(1046, 'resid_241') (1050, 'resid_253')\n",
      "(1048, 'resid_245') (1050, 'resid_251')\n",
      "(1048, 'resid_245') (1050, 'resid_252')\n",
      "(1048, 'resid_245') (1050, 'resid_253')\n",
      "(1048, 'resid_246') (1050, 'resid_251')\n",
      "(1048, 'resid_246') (1050, 'resid_252')\n",
      "(1048, 'resid_246') (1050, 'resid_253')\n",
      "(1048, 'resid_247') (1050, 'resid_251')\n",
      "(1048, 'resid_247') (1050, 'resid_252')\n",
      "(1048, 'resid_247') (1050, 'resid_253')\n"
     ]
    }
   ],
   "source": [
    "resid_sg = list(yield_rmso_crossgroup_corr(same_group=True,yield_with_colnames=False,col_type='resid_'))\n",
    "resid_cg = list(yield_rmso_crossgroup_corr(same_group=False,yield_with_colnames=False,col_type='resid_'))"
   ]
  },
  {
   "cell_type": "code",
   "execution_count": 25,
   "metadata": {},
   "outputs": [],
   "source": [
    "resid_sg = np.array(resid_sg)\n",
    "resid_cg = np.array(resid_cg)"
   ]
  },
  {
   "cell_type": "code",
   "execution_count": 26,
   "metadata": {},
   "outputs": [
    {
     "name": "stdout",
     "output_type": "stream",
     "text": [
      "Resid cross-group corr:\n",
      "0.004 ± 0.10\n",
      "Resid within-group corr:\n",
      "      0.095 ± 0.13\n"
     ]
    },
    {
     "data": {
      "image/png": "[encoded data removed]",
      "text/plain": [
       "<Figure size 432x288 with 1 Axes>"
      ]
     },
     "metadata": {
      "needs_background": "light"
     },
     "output_type": "display_data"
    }
   ],
   "source": [
    "sns.distplot(resid_cg)\n",
    "\n",
    "sns.distplot(resid_sg)\n",
    "\n",
    "str1 = \"Resid cross-group corr:\\n{:.3f} \\u00b1 {:.2f}\".format(*stats(resid_cg)) \n",
    "str2 = \"Resid within-group corr:\\n      {:.3f} \\u00b1 {:.2f}\".format(*stats(resid_sg))\n",
    "plt.text(-0.4,3.1, str1,color=(0,0,1))\n",
    "plt.text(0.1,2.2, str2,color=(0.5,0,1))\n",
    "print(str1)\n",
    "print(str2)"
   ]
  },
  {
   "cell_type": "code",
   "execution_count": null,
   "metadata": {},
   "outputs": [],
   "source": [
    "from scipy.stats import ttest_ind\n",
    "\n",
    "ttest_ind(resid_cg, resid_sg, equal_var=False)"
   ]
  },
  {
   "cell_type": "code",
   "execution_count": null,
   "metadata": {},
   "outputs": [],
   "source": [
    "print(\"same group: {:.3f} \\u00b1 {:.2f}\".format(resid_sg.mean(), resid_sg.std()))\n",
    "print(\"cross group: {:.3f} \\u00b1 {:.2f}\".format(resid_cg.mean(), resid_cg.std()))"
   ]
  },
  {
   "cell_type": "code",
   "execution_count": null,
   "metadata": {},
   "outputs": [],
   "source": [
    "high_resid = [(cols, corr) for (cols,corr) in yield_rmso_crossgroup_corr(same_group=True,yield_with_colnames=True,col_type='resid_') if corr > 0.2]"
   ]
  },
  {
   "cell_type": "code",
   "execution_count": null,
   "metadata": {},
   "outputs": [],
   "source": [
    "\n",
    "high_resid"
   ]
  },
  {
   "cell_type": "code",
   "execution_count": null,
   "metadata": {},
   "outputs": [],
   "source": [
    "print(dfc[(1008,'rmso_122')][(1008,'rmso_123')])\n",
    "print(dfc[(1010,'rmso_128')][(1010,'rmso_130')])"
   ]
  },
  {
   "cell_type": "code",
   "execution_count": null,
   "metadata": {},
   "outputs": [],
   "source": [
    "plt.plot(df[(1008, 'resid_122')])\n",
    "plt.plot(df[(1008, 'resid_123')])"
   ]
  },
  {
   "cell_type": "code",
   "execution_count": null,
   "metadata": {},
   "outputs": [],
   "source": [
    "plt.plot(df[(1001, 'resid_101')])\n",
    "plt.plot(df[(1001, 'resid_103')])"
   ]
  },
  {
   "cell_type": "code",
   "execution_count": null,
   "metadata": {},
   "outputs": [],
   "source": [
    "plt.plot(df[(1010, 'rmso_128')])\n",
    "plt.plot(df[(1010, 'rmso_130')])"
   ]
  },
  {
   "cell_type": "code",
   "execution_count": null,
   "metadata": {},
   "outputs": [],
   "source": [
    "sns.set()"
   ]
  },
  {
   "cell_type": "code",
   "execution_count": null,
   "metadata": {},
   "outputs": [],
   "source": [
    "sns.lineplot(np.arange(len(df)), df[(1007,'resid_120')])\n",
    "sns.lineplot(np.arange(len(df)), df[(1007,'rms_120')])\n",
    "plt.legend(['residual','rms'])"
   ]
  },
  {
   "cell_type": "code",
   "execution_count": null,
   "metadata": {},
   "outputs": [],
   "source": []
  },
  {
   "cell_type": "code",
   "execution_count": null,
   "metadata": {},
   "outputs": [],
   "source": [
    "data = gdd.get_db_data()\n",
    "test_pars = list(data.get_signal_by_series_type_and_interp_type([112,117],2,3))\n",
    "test_pars"
   ]
  },
  {
   "cell_type": "code",
   "execution_count": null,
   "metadata": {},
   "outputs": [],
   "source": [
    "plt.plot(test_pars[0][1][:,1])\n",
    "plt.plot(test_pars[1][1][:,1])"
   ]
  },
  {
   "cell_type": "code",
   "execution_count": null,
   "metadata": {},
   "outputs": [],
   "source": [
    "group_compts1004 = sago.group_signal_components(1004)\n",
    "group_compts1006 = sago.group_signal_components(1006)"
   ]
  },
  {
   "cell_type": "code",
   "execution_count": null,
   "metadata": {},
   "outputs": [],
   "source": [
    "plt.plot(zscore(test_pars[0][1][:,1]))\n",
    "plt.plot(group_compts1004['Raw_112']+2)\n",
    "\n",
    "plt.plot(group_compts1004['Sg_112']+group_compts1004['resid_112']+4)\n",
    "\n",
    "plt.plot(df[(1004,'Raw_112')]+6)"
   ]
  },
  {
   "cell_type": "code",
   "execution_count": null,
   "metadata": {},
   "outputs": [],
   "source": [
    "plt.plot(zscore(test_pars[1][1][:,1]))\n",
    "plt.plot(group_compts1006['Raw_117']+2)\n",
    "\n",
    "plt.plot(group_compts1006['Sg_117']+group_compts1006['resid_117']+4)\n",
    "\n",
    "plt.plot(df[(1006,'Raw_117')]+6)"
   ]
  },
  {
   "cell_type": "code",
   "execution_count": null,
   "metadata": {},
   "outputs": [],
   "source": [
    "plt.plot(zscore(test_pars[1][1][:,1]))\n",
    "plt.plot(group_compts1006['rms_117']+2)\n",
    "\n",
    "#plt.plot(group_compts1006['Sg_117']+group_compts1006['resid_117']+4)\n",
    "\n",
    "plt.plot(df[(1006,'rms_117')]+6)"
   ]
  },
  {
   "cell_type": "code",
   "execution_count": null,
   "metadata": {},
   "outputs": [],
   "source": [
    "np.corrcoef(df[(1006,'rms_117')], df[(1004,'rms_112')])"
   ]
  },
  {
   "cell_type": "code",
   "execution_count": null,
   "metadata": {},
   "outputs": [],
   "source": [
    "rm_same = list(yield_rmso_crossgroup_corr(True))"
   ]
  },
  {
   "cell_type": "code",
   "execution_count": null,
   "metadata": {},
   "outputs": [],
   "source": [
    "np.corrcoef(group_compts1004['rmso_112'],group_compts1006['rmso_117'])"
   ]
  },
  {
   "cell_type": "code",
   "execution_count": null,
   "metadata": {},
   "outputs": [],
   "source": [
    "[len(x) for x in group_compts1004.values()]"
   ]
  },
  {
   "cell_type": "code",
   "execution_count": null,
   "metadata": {},
   "outputs": [],
   "source": [
    "p1 = list(sca.yield_group_signals(1004,2,3))\n",
    "p1"
   ]
  },
  {
   "cell_type": "code",
   "execution_count": null,
   "metadata": {},
   "outputs": [],
   "source": [
    "dfc = df.corr()"
   ]
  },
  {
   "cell_type": "code",
   "execution_count": null,
   "metadata": {},
   "outputs": [],
   "source": [
    "dfc.columns"
   ]
  },
  {
   "cell_type": "code",
   "execution_count": null,
   "metadata": {},
   "outputs": [],
   "source": [
    "dfc[(1006,'rms_117')].index"
   ]
  },
  {
   "cell_type": "code",
   "execution_count": null,
   "metadata": {},
   "outputs": [],
   "source": [
    "dfc.index"
   ]
  },
  {
   "cell_type": "code",
   "execution_count": null,
   "metadata": {},
   "outputs": [],
   "source": []
  }
 ],
 "metadata": {
  "kernelspec": {
   "display_name": "Python 3.7.4 64-bit ('base': conda)",
   "language": "python",
   "name": "python37464bitbaseconda865b03b3ea5d4f4bb8519af201560b69"
  },
  "language_info": {
   "codemirror_mode": {
    "name": "ipython",
    "version": 3
   },
   "file_extension": ".py",
   "mimetype": "text/x-python",
   "name": "python",
   "nbconvert_exporter": "python",
   "pygments_lexer": "ipython3",
   "version": "3.7.7"
  }
 },
 "nbformat": 4,
 "nbformat_minor": 4
}
