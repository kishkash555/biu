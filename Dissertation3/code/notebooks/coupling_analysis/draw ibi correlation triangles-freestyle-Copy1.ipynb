{
 "cells": [
  {
   "cell_type": "code",
   "execution_count": 1,
   "metadata": {},
   "outputs": [
    {
     "data": {
      "text/plain": [
       "['/home/siegman/Documents/Shahar/BarIlan/Dissertation3/code/notebooks/coupling_analysis',\n",
       " '/home/siegman/miniconda3/lib/python37.zip',\n",
       " '/home/siegman/miniconda3/lib/python3.7',\n",
       " '/home/siegman/miniconda3/lib/python3.7/lib-dynload',\n",
       " '',\n",
       " '/home/siegman/miniconda3/lib/python3.7/site-packages',\n",
       " '/home/siegman/miniconda3/lib/python3.7/site-packages/IPython/extensions',\n",
       " '/home/siegman/.ipython',\n",
       " '/home/siegman/Documents/Shahar/BarIlan/Dissertation3/code']"
      ]
     },
     "execution_count": 1,
     "metadata": {},
     "output_type": "execute_result"
    }
   ],
   "source": [
    "import os\n",
    "import sys\n",
    "sys.path.append(os.path.abspath('../../'))\n",
    "\n",
    "sys.path"
   ]
  },
  {
   "cell_type": "code",
   "execution_count": 5,
   "metadata": {},
   "outputs": [],
   "source": [
    "from diss3_code.signal import smooth_component_analysis as sca\n",
    "from diss3_code.database import get_db_data as gdd"
   ]
  },
  {
   "cell_type": "code",
   "execution_count": 6,
   "metadata": {},
   "outputs": [],
   "source": [
    "\n",
    "from importlib import reload\n",
    "reload(sca)\n",
    "import numpy as np\n",
    "import pandas as pd\n",
    "\n",
    "from scipy.stats import zscore\n",
    "import matplotlib.pyplot as plt\n",
    "\n",
    "import seaborn as sns\n"
   ]
  },
  {
   "cell_type": "code",
   "execution_count": 2,
   "metadata": {},
   "outputs": [],
   "source": [
    "sago = sca.savitzky_golay([1001, 1004, 1006, 1007, 1008, 1009, 1010, 1011, 1012, 1013,\n",
    "                          1042, 1043, 1044, 1045, 1046, 1047, 1048, 1049, 1050, 1051],\n",
    "                          21,11,4,3)"
   ]
  },
  {
   "cell_type": "code",
   "execution_count": 3,
   "metadata": {},
   "outputs": [
    {
     "name": "stdout",
     "output_type": "stream",
     "text": [
      "x range: 4.5 236.5\n"
     ]
    }
   ],
   "source": [
    "df= sago.get_aligned_signal_componets()"
   ]
  },
  {
   "cell_type": "code",
   "execution_count": 38,
   "metadata": {},
   "outputs": [
    {
     "data": {
      "text/plain": [
       "[                 1001                    \n",
       "                Sg_101    Sg_102    Sg_103\n",
       " 1001 Sg_101  1.000000 -0.012278 -0.101538\n",
       "      Sg_102 -0.012278  1.000000  0.693945\n",
       "      Sg_103 -0.101538  0.693945  1.000000,\n",
       "                  1004                    \n",
       "                Sg_110    Sg_111    Sg_112\n",
       " 1004 Sg_110  1.000000  0.210432 -0.012798\n",
       "      Sg_111  0.210432  1.000000  0.168019\n",
       "      Sg_112 -0.012798  0.168019  1.000000,\n",
       "                  1006                    \n",
       "                Sg_116    Sg_117    Sg_118\n",
       " 1006 Sg_116  1.000000 -0.242000 -0.127094\n",
       "      Sg_117 -0.242000  1.000000  0.325994\n",
       "      Sg_118 -0.127094  0.325994  1.000000,\n",
       "                  1007                    \n",
       "                Sg_119    Sg_120    Sg_121\n",
       " 1007 Sg_119  1.000000  0.462451  0.323332\n",
       "      Sg_120  0.462451  1.000000  0.669456\n",
       "      Sg_121  0.323332  0.669456  1.000000,\n",
       "                  1008                    \n",
       "                Sg_122    Sg_123    Sg_124\n",
       " 1008 Sg_122  1.000000  0.280729  0.129356\n",
       "      Sg_123  0.280729  1.000000  0.352997\n",
       "      Sg_124  0.129356  0.352997  1.000000,\n",
       "                  1009                    \n",
       "                Sg_125    Sg_126    Sg_127\n",
       " 1009 Sg_125  1.000000  0.413783 -0.011384\n",
       "      Sg_126  0.413783  1.000000 -0.246270\n",
       "      Sg_127 -0.011384 -0.246270  1.000000,\n",
       "                  1010                    \n",
       "                Sg_128    Sg_129    Sg_130\n",
       " 1010 Sg_128  1.000000  0.154124 -0.067392\n",
       "      Sg_129  0.154124  1.000000  0.779995\n",
       "      Sg_130 -0.067392  0.779995  1.000000,\n",
       "                  1011                    \n",
       "                Sg_131    Sg_132    Sg_133\n",
       " 1011 Sg_131  1.000000  0.632836  0.623166\n",
       "      Sg_132  0.632836  1.000000  0.490614\n",
       "      Sg_133  0.623166  0.490614  1.000000,\n",
       "                  1012                    \n",
       "                Sg_134    Sg_135    Sg_136\n",
       " 1012 Sg_134  1.000000 -0.113436  0.188058\n",
       "      Sg_135 -0.113436  1.000000  0.341787\n",
       "      Sg_136  0.188058  0.341787  1.000000,\n",
       "                  1013                    \n",
       "                Sg_137    Sg_138    Sg_139\n",
       " 1013 Sg_137  1.000000  0.087496 -0.355343\n",
       "      Sg_138  0.087496  1.000000  0.283021\n",
       "      Sg_139 -0.355343  0.283021  1.000000,\n",
       "                  1042                   \n",
       "                Sg_227    Sg_228   Sg_229\n",
       " 1042 Sg_227  1.000000 -0.042271 -0.10036\n",
       "      Sg_228 -0.042271  1.000000 -0.05195\n",
       "      Sg_229 -0.100360 -0.051950  1.00000,\n",
       "                  1043                    \n",
       "                Sg_230    Sg_231    Sg_232\n",
       " 1043 Sg_230  1.000000  0.094385  0.310984\n",
       "      Sg_231  0.094385  1.000000 -0.451724\n",
       "      Sg_232  0.310984 -0.451724  1.000000,\n",
       "                  1044                    \n",
       "                Sg_233    Sg_234    Sg_235\n",
       " 1044 Sg_233  1.000000  0.386733  0.147601\n",
       "      Sg_234  0.386733  1.000000  0.453562\n",
       "      Sg_235  0.147601  0.453562  1.000000,\n",
       "                  1045                    \n",
       "                Sg_236    Sg_237    Sg_238\n",
       " 1045 Sg_236  1.000000 -0.419615  0.109046\n",
       "      Sg_237 -0.419615  1.000000 -0.271070\n",
       "      Sg_238  0.109046 -0.271070  1.000000,\n",
       "                  1046                    \n",
       "                Sg_239    Sg_240    Sg_241\n",
       " 1046 Sg_239  1.000000  0.167666  0.267616\n",
       "      Sg_240  0.167666  1.000000  0.380291\n",
       "      Sg_241  0.267616  0.380291  1.000000,\n",
       "                  1047                    \n",
       "                Sg_242    Sg_243    Sg_244\n",
       " 1047 Sg_242  1.000000  0.439984 -0.035520\n",
       "      Sg_243  0.439984  1.000000 -0.266325\n",
       "      Sg_244 -0.035520 -0.266325  1.000000,\n",
       "                  1048                    \n",
       "                Sg_245    Sg_246    Sg_247\n",
       " 1048 Sg_245  1.000000  0.064022  0.227832\n",
       "      Sg_246  0.064022  1.000000  0.304602\n",
       "      Sg_247  0.227832  0.304602  1.000000,\n",
       "                  1049                    \n",
       "                Sg_248    Sg_249    Sg_250\n",
       " 1049 Sg_248  1.000000  0.550953  0.034425\n",
       "      Sg_249  0.550953  1.000000 -0.250325\n",
       "      Sg_250  0.034425 -0.250325  1.000000,\n",
       "                  1050                    \n",
       "                Sg_251    Sg_252    Sg_253\n",
       " 1050 Sg_251  1.000000  0.437137  0.701333\n",
       "      Sg_252  0.437137  1.000000  0.547097\n",
       "      Sg_253  0.701333  0.547097  1.000000,\n",
       "                  1051                    \n",
       "                Sg_254    Sg_255    Sg_256\n",
       " 1051 Sg_254  1.000000 -0.305490 -0.100945\n",
       "      Sg_255 -0.305490  1.000000  0.542234\n",
       "      Sg_256 -0.100945  0.542234  1.000000]"
      ]
     },
     "execution_count": 38,
     "metadata": {},
     "output_type": "execute_result"
    }
   ],
   "source": [
    "groups = [1001, 1004, 1006, 1007, 1008, 1009, 1010, 1011, 1012, 1013,\n",
    "                          1042, 1043, 1044, 1045, 1046, 1047, 1048, 1049, 1050, 1051]\n",
    "corrs = [df[[c for c in df.columns if c[0]==group and c[1].startswith('Sg_')]].corr() for group in groups]\n",
    "corrs"
   ]
  },
  {
   "cell_type": "code",
   "execution_count": 43,
   "metadata": {},
   "outputs": [
    {
     "data": {
      "text/plain": [
       "array([[ 1.        ,  0.55095251,  0.03442465],\n",
       "       [ 0.55095251,  1.        , -0.25032538],\n",
       "       [ 0.03442465, -0.25032538,  1.        ]])"
      ]
     },
     "execution_count": 43,
     "metadata": {},
     "output_type": "execute_result"
    }
   ],
   "source": [
    "np.corrcoef(df[[(1049,'Sg_248'),(1049,'Sg_249'),(1049,'Sg_250')]].values.T)"
   ]
  },
  {
   "cell_type": "code",
   "execution_count": 46,
   "metadata": {},
   "outputs": [
    {
     "data": {
      "text/plain": [
       "array([[0.   , 0.314, 0.489],\n",
       "       [0.314, 0.   , 0.581],\n",
       "       [0.489, 0.581, 0.   ]])"
      ]
     },
     "execution_count": 46,
     "metadata": {},
     "output_type": "execute_result"
    }
   ],
   "source": [
    "np.set_printoptions(precision=3, suppress=True)\n",
    "np.arccos(np.corrcoef(df[[(1049,'Sg_248'),(1049,'Sg_249'),(1049,'Sg_250')]].values.T))/np.pi"
   ]
  },
  {
   "cell_type": "code",
   "execution_count": 59,
   "metadata": {},
   "outputs": [
    {
     "data": {
      "text/plain": [
       "Text(0.5, 0, 'correlation coefficient $\\\\rho$')"
      ]
     },
     "execution_count": 59,
     "metadata": {},
     "output_type": "execute_result"
    },
    {
     "data": {
      "image/png": "[encoded data removed]",
      "text/plain": [
       "<Figure size 432x288 with 1 Axes>"
      ]
     },
     "metadata": {
      "needs_background": "light"
     },
     "output_type": "display_data"
    }
   ],
   "source": [
    "x = np.linspace(-1., 1., 80)\n",
    "plt.plot(x,np.arccos(x)/np.pi)\n",
    "plt.plot(x,1/2-x/np.pi)\n",
    "plt.xlabel(r'correlation coefficient $\\rho$')"
   ]
  },
  {
   "cell_type": "code",
   "execution_count": 39,
   "metadata": {},
   "outputs": [
    {
     "data": {
      "text/plain": [
       "[0.3142645334808142, 0.48904012836715643, 0.5805375970220241]"
      ]
     },
     "execution_count": 39,
     "metadata": {},
     "output_type": "execute_result"
    }
   ],
   "source": [
    "triad(df,1049,'Sg_').corrs"
   ]
  },
  {
   "cell_type": "code",
   "execution_count": 34,
   "metadata": {},
   "outputs": [],
   "source": [
    "class triad:\n",
    "    def __init__(self, df, group, signal_type):\n",
    "        cols = [c for c in df.columns if c[0]==group and c[1].startswith(signal_type)]\n",
    "        #print(cols)\n",
    "        cosine_simi = np.corrcoef(df[cols].values.T)\n",
    "        angular_dist = np.arccos(cosine_simi)/np.pi\n",
    "        self.corrs = sorted([angular_dist[0,1], angular_dist[1,2], angular_dist[2,0]])\n",
    "        \n",
    "        self._triangle_vertices()\n",
    "    \n",
    "    def _triangle_vertices(self):\n",
    "        corrs = self.corrs\n",
    "        a,b,c = corrs[1], corrs[2], corrs[0]\n",
    "        cos_alpha = (b**2 + c**2 - a**2)/(2*b*c)\n",
    "        if cos_alpha > 1:\n",
    "            print(corrs)\n",
    "            raise ValueError(\"Triangle vertices encountered miscalculation\")\n",
    "        sin_alpha = np.sqrt(1-cos_alpha**2)\n",
    "        A = np.zeros(2)\n",
    "        C = np.array((b*cos_alpha, b*sin_alpha))\n",
    "        B = np.array((c,0))\n",
    "        self.vertices = np.vstack([A,B,C,A])\n",
    "\n",
    "    def to_2d_point(self):\n",
    "        return np.array([ self.corrs[0], (self.corrs[1]+self.corrs[2])/2 ])\n",
    "    \n",
    "    def to_triangle(self, plt=False):\n",
    "        if plt:\n",
    "            return self.vertices[:,0], self.vertices[:,1]\n",
    "        return self.vertices;\n",
    "    \n",
    "    def triangle_ratio(self):\n",
    "        p = self.to_2d_point()\n",
    "        return p[1]/p[0]"
   ]
  },
  {
   "cell_type": "code",
   "execution_count": 5,
   "metadata": {},
   "outputs": [],
   "source": [
    "def triangle_vertices(df, group,signal_type):\n",
    "    # Using the order of vertices in wikipedia under \"Law of Cosines\"\n",
    "    # A = (0,0)\n",
    "    # B = (x1,0)\n",
    "    # a < b\n",
    "    cols = [c for c in df.columns if c[0]==group and c[1].startswith(signal_type)]\n",
    "    #print(cols)\n",
    "    cosine_simi = np.corrcoef(df[cols].values.T)\n",
    "    angular_dist = np.arccos(cosine_simi)/np.pi\n",
    "    corrs = sorted([angular_dist[0,1], angular_dist[1,2], angular_dist[2,0]])\n",
    "    #print(corrs)\n",
    "    a,b,c = corrs[1], corrs[2], corrs[0]\n",
    "    #print(\"{:.2f}\".format((a+b)/(a+c)))\n",
    "    cos_alpha = (b**2 + c**2 - a**2)/(2*b*c)\n",
    "    if cos_alpha > 1:\n",
    "        print(corrs)\n",
    "        return\n",
    "    sin_alpha = np.sqrt(1-cos_alpha**2)\n",
    "    A = np.zeros(2)\n",
    "    C = np.array((b*cos_alpha, b*sin_alpha))\n",
    "    B = np.array((c,0))\n",
    "    return np.vstack([A,B,C,A])\n",
    "    \n",
    "    "
   ]
  },
  {
   "cell_type": "code",
   "execution_count": 6,
   "metadata": {},
   "outputs": [],
   "source": [
    "def extract_ratio(p):\n",
    "    a = np.linalg.norm(np.diff(p,axis=0),axis=1) # The lengths of the sides\n",
    "    return np.array([a.mean(), (a[2]+a[1])/(a[1]+a[0])]) # side length and long-to-short sides ratio"
   ]
  },
  {
   "cell_type": "code",
   "execution_count": 7,
   "metadata": {},
   "outputs": [],
   "source": [
    "def plot_for_groups(signal_type):\n",
    "    plt.subplots(7,3, figsize=(8,16))\n",
    "    triangs = np.empty((4,2,20))\n",
    "    rats = np.empty((20,2))\n",
    "    for i,g in enumerate([1001, 1004, 1006, 1007, 1008, 1009, 1010, 1011, 1012, 1013,\n",
    "                         1042, 1043, 1044, 1045, 1046, 1047, 1048, 1049, 1050, 1051],1):\n",
    "        p = triangle_vertices(df,g,signal_type)\n",
    "        plt.subplot(7,3,i)\n",
    "        plt.plot(p[:,0],p[:,1],'.-')\n",
    "        plt.title(\"{}\".format(g))\n",
    "        rat =extract_ratio(p)\n",
    "        plt.text(p[:,0].max()/2, p[:,1].max()*0.2,\"{:.3f}\".format(rat[1]))\n",
    "        plt.gca().set_aspect('equal') \n",
    "        triangs[:,:,i-1]=p\n",
    "        rats[i-1,:] = rat\n",
    "    plt.tight_layouclasst()\n",
    "    print(\"{:.3}  ± {:.2f} \".format(rats[:,1].mean(),rats[:,1].std()))\n",
    "    return triangs, rats"
   ]
  },
  {
   "cell_type": "code",
   "execution_count": 29,
   "metadata": {},
   "outputs": [],
   "source": [
    "tr={}\n",
    "tr[1001] =  triad(df, 1001, 'Sg_')"
   ]
  },
  {
   "cell_type": "code",
   "execution_count": 20,
   "metadata": {},
   "outputs": [
    {
     "data": {
      "text/plain": [
       "[<matplotlib.lines.Line2D at 0x7f1ae62c4f10>]"
      ]
     },
     "execution_count": 20,
     "metadata": {},
     "output_type": "execute_result"
    },
    {
     "data": {
      "image/png": "[encoded data removed]",
      "text/plain": [
       "<Figure size 432x288 with 1 Axes>"
      ]
     },
     "metadata": {
      "needs_background": "light"
     },
     "output_type": "display_data"
    }
   ],
   "source": [
    "plt.plot(*tr[1001].to_triangle(True))"
   ]
  },
  {
   "cell_type": "code",
   "execution_count": 35,
   "metadata": {},
   "outputs": [
    {
     "data": {
      "text/plain": [
       "2.025013353447371"
      ]
     },
     "execution_count": 35,
     "metadata": {},
     "output_type": "execute_result"
    }
   ],
   "source": [
    "tr[1001].to_2d_point()\n",
    "tr[1001].corrs\n",
    "tr[1001].traingle_ratio()"
   ]
  },
  {
   "cell_type": "code",
   "execution_count": 30,
   "metadata": {},
   "outputs": [
    {
     "data": {
      "text/plain": [
       "array([[0.        , 0.        ],\n",
       "       [0.25587108, 0.        ],\n",
       "       [0.1855842 , 0.4989822 ],\n",
       "       [0.        , 0.        ]])"
      ]
     },
     "execution_count": 30,
     "metadata": {},
     "output_type": "execute_result"
    }
   ],
   "source": [
    "tr[1001].to_triangle()"
   ]
  },
  {
   "cell_type": "code",
   "execution_count": 27,
   "metadata": {},
   "outputs": [
    {
     "data": {
      "text/plain": [
       "array([[0.        , 0.        ],\n",
       "       [0.25587108, 0.        ],\n",
       "       [0.1855842 , 0.4989822 ],\n",
       "       [0.        , 0.        ]])"
      ]
     },
     "execution_count": 27,
     "metadata": {},
     "output_type": "execute_result"
    }
   ],
   "source": [
    "triangle_vertices(df,1001,'Sg_')"
   ]
  },
  {
   "cell_type": "code",
   "execution_count": 32,
   "metadata": {},
   "outputs": [
    {
     "data": {
      "text/plain": [
       "array([0.25587108, 0.50390821, 0.5323765 ])"
      ]
     },
     "execution_count": 32,
     "metadata": {},
     "output_type": "execute_result"
    }
   ],
   "source": [
    "np.linalg.norm(np.diff(tr[1001].to_triangle(),axis=0),axis=1)"
   ]
  },
  {
   "cell_type": "code",
   "execution_count": null,
   "metadata": {},
   "outputs": [],
   "source": [
    "triangs_freestyle, rats_freestyle = plot_for_groups('Sg_')"
   ]
  },
  {
   "cell_type": "code",
   "execution_count": null,
   "metadata": {},
   "outputs": [],
   "source": [
    "#bases_fs = triangs_freestyle[1,0,:]\n",
    "plt.scatter(rats_freestyle[:,0], rats_freestyle[:,1])"
   ]
  },
  {
   "cell_type": "code",
   "execution_count": null,
   "metadata": {},
   "outputs": [],
   "source": [
    "rats_freestyle"
   ]
  },
  {
   "cell_type": "code",
   "execution_count": null,
   "metadata": {},
   "outputs": [],
   "source": [
    "triangs_resid, rats_resid  = plot_for_groups('resid')"
   ]
  },
  {
   "cell_type": "code",
   "execution_count": null,
   "metadata": {},
   "outputs": [],
   "source": [
    "plt.scatter(rats_resid[:,0], rats_resid[:,1])"
   ]
  },
  {
   "cell_type": "code",
   "execution_count": null,
   "metadata": {},
   "outputs": [],
   "source": [
    "plot_for_groups('rms_')"
   ]
  },
  {
   "cell_type": "code",
   "execution_count": null,
   "metadata": {},
   "outputs": [],
   "source": [
    "plot_for_groups('Raw_')"
   ]
  },
  {
   "cell_type": "code",
   "execution_count": null,
   "metadata": {},
   "outputs": [],
   "source": [
    "sg_rats_interaction = np.array([1.28589801, 1.08080804, 1.30721235, 1.25149081, 1.08867095,\n",
    "       1.07652876, 1.19221213, 1.21842693, 1.03906657, 1.05316082,\n",
    "       1.42415502, 1.41584971, 1.0520917 , 1.05667846, 1.09212165,\n",
    "       1.14198762, 1.23782323, 1.28673302, 1.08631927, 1.1771771 ])"
   ]
  },
  {
   "cell_type": "code",
   "execution_count": null,
   "metadata": {},
   "outputs": [],
   "source": [
    "plt.scatter(sg_rats_interaction, sg_rats_freestyle)"
   ]
  },
  {
   "cell_type": "code",
   "execution_count": null,
   "metadata": {},
   "outputs": [],
   "source": [
    "print(np.array2string(np.vstack([zscore(sg_rats_interaction), zscore(sg_rats_freestyle)]),\n",
    "                      precision=3))\n"
   ]
  },
  {
   "cell_type": "code",
   "execution_count": null,
   "metadata": {},
   "outputs": [],
   "source": [
    "sg_rats_freestyle.shape, sg_rats_interaction.shape"
   ]
  },
  {
   "cell_type": "code",
   "execution_count": null,
   "metadata": {},
   "outputs": [],
   "source": [
    "plt.scatter(zscore(sg_rats_interaction), zscore(sg_rats_freestyle))"
   ]
  },
  {
   "cell_type": "code",
   "execution_count": null,
   "metadata": {},
   "outputs": [],
   "source": []
  }
 ],
 "metadata": {
  "kernelspec": {
   "display_name": "Python 3.7.4 64-bit ('base': conda)",
   "language": "python",
   "name": "python37464bitbaseconda865b03b3ea5d4f4bb8519af201560b69"
  },
  "language_info": {
   "codemirror_mode": {
    "name": "ipython",
    "version": 3
   },
   "file_extension": ".py",
   "mimetype": "text/x-python",
   "name": "python",
   "nbconvert_exporter": "python",
   "pygments_lexer": "ipython3",
   "version": "3.7.9"
  }
 },
 "nbformat": 4,
 "nbformat_minor": 4
}
