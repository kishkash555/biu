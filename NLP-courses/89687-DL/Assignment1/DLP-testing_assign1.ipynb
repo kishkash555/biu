{
 "cells": [
  {
   "cell_type": "code",
   "execution_count": 1,
   "metadata": {},
   "outputs": [],
   "source": [
    "import importlib\n",
    "import numpy as np"
   ]
  },
  {
   "cell_type": "code",
   "execution_count": 2,
   "metadata": {},
   "outputs": [
    {
     "name": "stdout",
     "output_type": "stream",
     "text": [
      "['', 'C:\\\\Shahar\\\\BarIlan\\\\NLP-courses\\\\89687-DL\\\\Assignment1\\\\code', 'C:\\\\Shahar\\\\BarIlan\\\\NLP-courses\\\\89687-DL\\\\Assignment1', 'C:\\\\ProgramData\\\\Anaconda3\\\\envs\\\\bari_env\\\\python36.zip', 'C:\\\\ProgramData\\\\Anaconda3\\\\envs\\\\bari_env\\\\DLLs', 'C:\\\\ProgramData\\\\Anaconda3\\\\envs\\\\bari_env\\\\lib', 'C:\\\\ProgramData\\\\Anaconda3\\\\envs\\\\bari_env', 'C:\\\\ProgramData\\\\Anaconda3\\\\envs\\\\bari_env\\\\lib\\\\site-packages', 'C:\\\\ProgramData\\\\Anaconda3\\\\envs\\\\bari_env\\\\lib\\\\site-packages\\\\IPython\\\\extensions', 'C:\\\\Users\\\\Shahar\\\\.ipython']\n"
     ]
    }
   ],
   "source": [
    "import sys\n",
    "print(sys.path)"
   ]
  },
  {
   "cell_type": "code",
   "execution_count": 3,
   "metadata": {},
   "outputs": [],
   "source": [
    "sys.path.append('C:\\\\Shahar\\\\BarIlan\\\\NLP-courses\\\\89687-DL\\\\Assignment1\\\\code')"
   ]
  },
  {
   "cell_type": "code",
   "execution_count": 4,
   "metadata": {},
   "outputs": [
    {
     "name": "stdout",
     "output_type": "stream",
     "text": [
      "['', 'C:\\\\Shahar\\\\BarIlan\\\\NLP-courses\\\\89687-DL\\\\Assignment1\\\\code', 'C:\\\\Shahar\\\\BarIlan\\\\NLP-courses\\\\89687-DL\\\\Assignment1', 'C:\\\\ProgramData\\\\Anaconda3\\\\envs\\\\bari_env\\\\python36.zip', 'C:\\\\ProgramData\\\\Anaconda3\\\\envs\\\\bari_env\\\\DLLs', 'C:\\\\ProgramData\\\\Anaconda3\\\\envs\\\\bari_env\\\\lib', 'C:\\\\ProgramData\\\\Anaconda3\\\\envs\\\\bari_env', 'C:\\\\ProgramData\\\\Anaconda3\\\\envs\\\\bari_env\\\\lib\\\\site-packages', 'C:\\\\ProgramData\\\\Anaconda3\\\\envs\\\\bari_env\\\\lib\\\\site-packages\\\\IPython\\\\extensions', 'C:\\\\Users\\\\Shahar\\\\.ipython', 'C:\\\\Shahar\\\\BarIlan\\\\NLP-courses\\\\89687-DL\\\\Assignment1\\\\code']\n"
     ]
    }
   ],
   "source": [
    "print(sys.path)"
   ]
  },
  {
   "cell_type": "code",
   "execution_count": 5,
   "metadata": {},
   "outputs": [
    {
     "data": {
      "text/plain": [
       "<module 'grad_check' from 'C:\\\\Shahar\\\\BarIlan\\\\NLP-courses\\\\89687-DL\\\\Assignment1\\\\code\\\\grad_check.py'>"
      ]
     },
     "execution_count": 5,
     "metadata": {},
     "output_type": "execute_result"
    }
   ],
   "source": [
    "import testing\n",
    "importlib.reload(testing)\n",
    "import loglinear\n",
    "importlib.reload(loglinear)\n",
    "import grad_check\n",
    "importlib.reload(grad_check)\n"
   ]
  },
  {
   "cell_type": "code",
   "execution_count": 7,
   "metadata": {},
   "outputs": [
    {
     "name": "stdout",
     "output_type": "stream",
     "text": [
      "Gradient check passed!\n",
      "Gradient check passed!\n",
      "Gradient check passed!\n",
      "Gradient check passed!\n",
      "Gradient check passed!\n",
      "Gradient check passed!\n",
      "Gradient check passed!\n",
      "Gradient check passed!\n",
      "Gradient check passed!\n",
      "Gradient check passed!\n",
      "Gradient check passed!\n",
      "Gradient check passed!\n",
      "Gradient check passed!\n",
      "Gradient check passed!\n",
      "Gradient check passed!\n",
      "Gradient check passed!\n",
      "Gradient check passed!\n",
      "Gradient check passed!\n",
      "Gradient check passed!\n",
      "Gradient check passed!\n",
      "[[0. 0. 0. 0. 0. 0.]\n",
      " [0. 0. 0. 0. 0. 0.]\n",
      " [0. 0. 0. 0. 0. 0.]]\n"
     ]
    }
   ],
   "source": [
    "loss_gb = testing.grad_sanity()\n",
    "W,b = testing.create_classifier(3,6)\n",
    "print(W)\n"
   ]
  },
  {
   "cell_type": "code",
   "execution_count": 10,
   "metadata": {},
   "outputs": [
    {
     "data": {
      "text/plain": [
       "0.8363249502362733"
      ]
     },
     "execution_count": 10,
     "metadata": {},
     "output_type": "execute_result"
    }
   ],
   "source": [
    "loglinear.logloss(np.array([0,1,0]),np.array([0.333333,0.4333,0.2333]))"
   ]
  },
  {
   "cell_type": "code",
   "execution_count": 12,
   "metadata": {},
   "outputs": [
    {
     "name": "stdout",
     "output_type": "stream",
     "text": [
      "Gradient check passed!\n",
      "Gradient check passed!\n",
      "Gradient check passed!\n",
      "Gradient check passed!\n",
      "Gradient check passed!\n",
      "Gradient check passed!\n",
      "Gradient check passed!\n",
      "Gradient check passed!\n",
      "Gradient check passed!\n",
      "Gradient check passed!\n",
      "Gradient check passed!\n",
      "Gradient check passed!\n",
      "Gradient check passed!\n",
      "Gradient check passed!\n",
      "Gradient check passed!\n",
      "Gradient check passed!\n",
      "Gradient check passed!\n",
      "Gradient check passed!\n",
      "Gradient check passed!\n",
      "Gradient check passed!\n"
     ]
    }
   ],
   "source": [
    "importlib.reload(testing)\n",
    "#importlib.reload(loglinear)\n",
    "#importlib.reload(grad_check)\n",
    "p = testing.grad_sanity()"
   ]
  },
  {
   "cell_type": "code",
   "execution_count": null,
   "metadata": {},
   "outputs": [],
   "source": []
  },
  {
   "cell_type": "code",
   "execution_count": null,
   "metadata": {},
   "outputs": [],
   "source": []
  },
  {
   "cell_type": "code",
   "execution_count": 13,
   "metadata": {},
   "outputs": [
    {
     "data": {
      "text/plain": [
       "<module 'config' from 'C:\\\\Shahar\\\\BarIlan\\\\NLP-courses\\\\89687-DL\\\\Assignment1\\\\code\\\\config.py'>"
      ]
     },
     "execution_count": 13,
     "metadata": {},
     "output_type": "execute_result"
    }
   ],
   "source": [
    "import utils\n",
    "import config\n",
    "importlib.reload(utils)\n",
    "importlib.reload(config)"
   ]
  },
  {
   "cell_type": "code",
   "execution_count": 107,
   "metadata": {},
   "outputs": [],
   "source": [
    "a=utils.read_data(config.filename_dev)"
   ]
  },
  {
   "cell_type": "code",
   "execution_count": 109,
   "metadata": {},
   "outputs": [
    {
     "data": {
      "text/plain": [
       "[('it', '@_marrymezayn sì, perché non suoni abbastanza con lui çç (?)'),\n",
       " ('nl', 'sooo ik heb ook lang niet meer met @yordyadacruz getakkie'),\n",
       " ('es', 'desde arriba se ve todo mejor  http://t.co/cwogyapy'),\n",
       " ('de', 'lieder. erinnerungen. freude & wehmut.'),\n",
       " ('nl',\n",
       "  '@debatop2 dat is tevens ook de kracht van het #cda dat het een middenpartij is, gewoon 1 cda houden dus!'),\n",
       " ('nl',\n",
       "  'rt @tienerhumor_: beste gangsters, als jullie je broek eens omhoog zouden trekken zouden jullie harder weg kunnen rennen voor de politie ...'),\n",
       " ('it',\n",
       "  '@klairehumanoid oddio mi dispiace, io ho visto mia madre per un periodo, per fortuna è passato'),\n",
       " ('de',\n",
       "  '@yini78 das ist aber in ganz de so. im winter werden die gräber fast überall mit tanne abgedeckt. wohnst du in finsterwalde? :))'),\n",
       " ('nl', '@talkrih_hirtalk had het over mensen van me klas'),\n",
       " ('it', \"ok prossima missione:comprare sorrisi e canzoni :')\")]"
      ]
     },
     "execution_count": 109,
     "metadata": {},
     "output_type": "execute_result"
    }
   ],
   "source": [
    "a[:10]"
   ]
  },
  {
   "cell_type": "code",
   "execution_count": 110,
   "metadata": {},
   "outputs": [
    {
     "data": {
      "text/plain": [
       "['@_',\n",
       " '_m',\n",
       " 'ma',\n",
       " 'ar',\n",
       " 'rr',\n",
       " 'ry',\n",
       " 'ym',\n",
       " 'me',\n",
       " 'ez',\n",
       " 'za',\n",
       " 'ay',\n",
       " 'yn',\n",
       " 'n ',\n",
       " ' s',\n",
       " 'sì',\n",
       " 'ì,',\n",
       " ', ',\n",
       " ' p',\n",
       " 'pe',\n",
       " 'er',\n",
       " 'rc',\n",
       " 'ch',\n",
       " 'hé',\n",
       " 'é ',\n",
       " ' n',\n",
       " 'no',\n",
       " 'on',\n",
       " 'n ',\n",
       " ' s',\n",
       " 'su',\n",
       " 'uo',\n",
       " 'on',\n",
       " 'ni',\n",
       " 'i ',\n",
       " ' a',\n",
       " 'ab',\n",
       " 'bb',\n",
       " 'ba',\n",
       " 'as',\n",
       " 'st',\n",
       " 'ta',\n",
       " 'an',\n",
       " 'nz',\n",
       " 'za',\n",
       " 'a ',\n",
       " ' c',\n",
       " 'co',\n",
       " 'on',\n",
       " 'n ',\n",
       " ' l',\n",
       " 'lu',\n",
       " 'ui',\n",
       " 'i ',\n",
       " ' ç',\n",
       " 'çç',\n",
       " 'ç ',\n",
       " ' (',\n",
       " '(?',\n",
       " '?)']"
      ]
     },
     "execution_count": 110,
     "metadata": {},
     "output_type": "execute_result"
    }
   ],
   "source": [
    "utils.text_to_bigrams(a[0][1])"
   ]
  },
  {
   "cell_type": "code",
   "execution_count": 117,
   "metadata": {},
   "outputs": [
    {
     "name": "stdout",
     "output_type": "stream",
     "text": [
      "Counter({'a': 2, 'b': 1, 'c': 1, 'd': 1, 'x': 1})\n"
     ]
    }
   ],
   "source": [
    "from collections import Counter\n",
    "f=Counter()\n",
    "f.update(['a','b','c'])\n",
    "f.update(['a','d','x'])\n",
    "print(f)"
   ]
  },
  {
   "cell_type": "code",
   "execution_count": 116,
   "metadata": {},
   "outputs": [
    {
     "data": {
      "text/plain": [
       "{0: 'a', 1: 'c', 2: 'x', 3: 'b', 4: 'd'}"
      ]
     },
     "execution_count": 116,
     "metadata": {},
     "output_type": "execute_result"
    }
   ],
   "source": [
    "{i:x for i,x in enumerate(f)}"
   ]
  },
  {
   "cell_type": "code",
   "execution_count": 119,
   "metadata": {},
   "outputs": [
    {
     "data": {
      "text/plain": [
       "{'a': 2}"
      ]
     },
     "execution_count": 119,
     "metadata": {},
     "output_type": "execute_result"
    }
   ],
   "source": [
    "{x:y for x,y in f.most_common(1)}"
   ]
  },
  {
   "cell_type": "code",
   "execution_count": 120,
   "metadata": {},
   "outputs": [
    {
     "data": {
      "text/plain": [
       "array([0., 0., 0., 0., 0.])"
      ]
     },
     "execution_count": 120,
     "metadata": {},
     "output_type": "execute_result"
    }
   ],
   "source": [
    "np.zeros(5, np.double)"
   ]
  },
  {
   "cell_type": "code",
   "execution_count": 212,
   "metadata": {},
   "outputs": [
    {
     "data": {
      "text/plain": [
       "<module 'loglinear' from 'C:\\\\Shahar\\\\BarIlan\\\\NLP-courses\\\\89687-DL\\\\Assignment1\\\\code\\\\loglinear.py'>"
      ]
     },
     "execution_count": 212,
     "metadata": {},
     "output_type": "execute_result"
    }
   ],
   "source": [
    "import utils\n",
    "import train_loglin as tl\n",
    "import config\n",
    "import loglinear as ll\n",
    "importlib.reload(utils)\n",
    "importlib.reload(tl)\n",
    "importlib.reload(config)\n",
    "importlib.reload(ll)"
   ]
  },
  {
   "cell_type": "code",
   "execution_count": 213,
   "metadata": {},
   "outputs": [
    {
     "name": "stdout",
     "output_type": "stream",
     "text": [
      "problem dimensions are: (600, 6)\n"
     ]
    }
   ],
   "source": [
    "train_data = utils.read_data(config.filename_train)\n",
    "symbol_dict = tl.initialize_symbol_dict(train_data)\n",
    "label_dict = tl.initialize_label_dict(train_data)\n",
    "xy_train = list(tl.xy_generator(train_data, utils.text_to_bigrams, symbol_dict, label_dict))\n",
    "\n",
    "dev_data = utils.read_data(config.filename_dev)\n",
    "xy_dev = list(tl.xy_generator(dev_data, utils.text_to_bigrams, symbol_dict, label_dict))\n",
    "in_dim = min(config.max_count, len(symbol_dict))\n",
    "out_dim = len(label_dict)\n",
    "print(\"problem dimensions are: {}\".format((in_dim, out_dim)))\n"
   ]
  },
  {
   "cell_type": "code",
   "execution_count": 214,
   "metadata": {},
   "outputs": [
    {
     "name": "stdout",
     "output_type": "stream",
     "text": [
      "yhat counter: Counter({4: 417, 3: 394, 5: 387, 0: 382, 1: 382, 2: 372})\n",
      "yhat counter: Counter({2: 56, 1: 51, 3: 50, 4: 49, 0: 47, 5: 47})\n",
      "I 0, train_loss [[0.177866]], train_accuracy 0.9451585261353899, dev_accuracy 0.8666666666666667, grads [[ 0.01268527 -0.16294542  0.00279707  0.12843345  0.00060814  0.01842149]]\n",
      "yhat counter: Counter({0: 396, 3: 394, 1: 393, 2: 389, 5: 384, 4: 378})\n",
      "yhat counter: Counter({1: 60, 2: 55, 0: 50, 3: 48, 5: 45, 4: 42})\n",
      "I 1, train_loss [[0.17209816]], train_accuracy 0.967866323907455, dev_accuracy 0.8433333333333334, grads [[ 0.00601897  0.00272223  0.1094102   0.0261935   0.01375858 -0.15810347]]\n",
      "yhat counter: Counter({5: 402, 3: 396, 4: 392, 0: 390, 2: 383, 1: 371})\n",
      "yhat counter: Counter({2: 53, 5: 53, 1: 51, 3: 50, 0: 48, 4: 45})\n",
      "I 2, train_loss [[0.02091245]], train_accuracy 0.9772922022279349, dev_accuracy 0.84, grads [[ 1.55871821e-06  6.76082927e-08  2.03227678e-02  2.96948030e-05\n",
      "  -2.06953056e-02  3.41216600e-04]]\n",
      "yhat counter: Counter({5: 408, 1: 390, 4: 386, 3: 385, 2: 385, 0: 380})\n",
      "yhat counter: Counter({2: 56, 5: 55, 1: 53, 0: 46, 3: 46, 4: 44})\n",
      "I 3, train_loss [[0.01099574]], train_accuracy 0.9832904884318766, dev_accuracy 0.8633333333333333, grads [[ 0.00813365  0.00034547  0.00057817  0.0002781  -0.0109355   0.00160012]]\n",
      "yhat counter: Counter({0: 396, 5: 394, 3: 393, 2: 387, 4: 385, 1: 379})\n",
      "yhat counter: Counter({1: 56, 2: 53, 0: 53, 3: 49, 5: 45, 4: 44})\n",
      "I 4, train_loss [[0.00121073]], train_accuracy 0.9892887746358183, dev_accuracy 0.8466666666666667, grads [[ 1.62394535e-04  2.76757063e-05 -1.20999841e-03  7.57682301e-04\n",
      "   7.73394985e-07  2.61472471e-04]]\n",
      "yhat counter: Counter({3: 397, 5: 392, 0: 390, 1: 388, 4: 384, 2: 383})\n",
      "yhat counter: Counter({1: 57, 2: 53, 0: 53, 3: 48, 5: 45, 4: 44})\n",
      "I 5, train_loss [[4.77992963e-08]], train_accuracy 0.9940017137960583, dev_accuracy 0.8533333333333334, grads [[ 4.75615338e-08  1.16224302e-10  4.83261369e-13  1.21912403e-11\n",
      "   1.08862616e-10 -4.77992952e-08]]\n",
      "yhat counter: Counter({5: 393, 3: 393, 0: 388, 1: 388, 2: 387, 4: 385})\n",
      "yhat counter: Counter({1: 56, 2: 54, 0: 51, 5: 48, 3: 48, 4: 43})\n",
      "I 6, train_loss [[1.33594025e-10]], train_accuracy 0.9961439588688946, dev_accuracy 0.8533333333333334, grads [[ 9.45689739e-11  3.78977037e-11  1.93333824e-13  9.21447566e-13\n",
      "   1.25621071e-14 -1.33594025e-10]]\n",
      "yhat counter: Counter({5: 393, 3: 391, 2: 389, 1: 388, 0: 388, 4: 385})\n",
      "yhat counter: Counter({1: 57, 2: 56, 0: 53, 3: 47, 5: 46, 4: 41})\n",
      "I 7, train_loss [[0.00071513]], train_accuracy 0.9970008568980291, dev_accuracy 0.84, grads [[-7.14872205e-04  3.10652740e-09  3.81228096e-06  1.88700350e-07\n",
      "   1.06362765e-05  7.00231841e-04]]\n",
      "yhat counter: Counter({3: 393, 5: 392, 2: 390, 0: 389, 1: 386, 4: 384})\n",
      "yhat counter: Counter({2: 56, 1: 55, 0: 52, 5: 49, 3: 46, 4: 42})\n",
      "I 8, train_loss [[7.17253789e-05]], train_accuracy 0.998286203941731, dev_accuracy 0.8566666666666667, grads [[-7.17228067e-05  7.05727948e-05  8.52828331e-08  1.03860945e-08\n",
      "   2.22721492e-09  1.05211571e-06]]\n",
      "yhat counter: Counter({5: 393, 3: 392, 0: 389, 2: 389, 1: 386, 4: 385})\n",
      "yhat counter: Counter({2: 58, 1: 57, 0: 51, 5: 47, 3: 45, 4: 42})\n",
      "I 9, train_loss [[0.00187934]], train_accuracy 0.9991431019708654, dev_accuracy 0.85, grads [[-1.87757126e-03  1.85115329e-03  4.48005951e-06  8.57782899e-06\n",
      "   1.07875262e-08  1.33492885e-05]]\n",
      "yhat counter: Counter({5: 394, 2: 392, 3: 392, 0: 389, 4: 385, 1: 382})\n",
      "yhat counter: Counter({1: 56, 2: 56, 0: 50, 5: 49, 3: 46, 4: 43})\n",
      "I 10, train_loss [[1.76537859e-05]], train_accuracy 0.9978577549271637, dev_accuracy 0.85, grads [[ 7.30210455e-12  4.81580787e-06  9.65581671e-06 -1.76536301e-05\n",
      "   3.03328995e-06  1.48708226e-07]]\n",
      "yhat counter: Counter({5: 393, 3: 392, 0: 389, 2: 389, 1: 386, 4: 385})\n",
      "yhat counter: Counter({1: 59, 2: 58, 0: 49, 3: 47, 5: 45, 4: 42})\n",
      "I 11, train_loss [[0.01944857]], train_accuracy 0.9991431019708654, dev_accuracy 0.8466666666666667, grads [[ 2.85314738e-04  1.17663852e-02  9.31651646e-06  7.19565519e-03\n",
      "   3.99029472e-06 -1.92606620e-02]]\n",
      "yhat counter: Counter({5: 394, 3: 392, 2: 389, 0: 389, 1: 385, 4: 385})\n",
      "yhat counter: Counter({1: 57, 2: 57, 0: 51, 3: 47, 5: 46, 4: 42})\n",
      "I 12, train_loss [[0.00454801]], train_accuracy 0.9995715509854327, dev_accuracy 0.8433333333333334, grads [[ 0.00192498 -0.00453769  0.00021625  0.00040415  0.00015803  0.00183428]]\n",
      "yhat counter: Counter({5: 394, 3: 392, 2: 389, 0: 389, 4: 385, 1: 385})\n",
      "yhat counter: Counter({1: 58, 2: 58, 0: 50, 5: 47, 3: 45, 4: 42})\n",
      "I 13, train_loss [[4.57162469e-07]], train_accuracy 0.9995715509854327, dev_accuracy 0.8533333333333334, grads [[ 4.57154544e-07 -4.57162365e-07  6.57824633e-18  7.82096206e-12\n",
      "   1.00668797e-20  9.11018718e-17]]\n",
      "yhat counter: Counter({5: 394, 3: 392, 0: 389, 2: 389, 1: 385, 4: 385})\n",
      "yhat counter: Counter({1: 58, 2: 57, 0: 50, 5: 47, 3: 46, 4: 42})\n",
      "I 14, train_loss [[0.02580197]], train_accuracy 0.9995715509854327, dev_accuracy 0.85, grads [[ 4.11451710e-06  2.28010644e-02 -2.54719423e-02  3.90336240e-04\n",
      "   2.20459814e-03  7.18290247e-05]]\n",
      "yhat counter: Counter({5: 394, 3: 392, 2: 389, 0: 389, 4: 385, 1: 385})\n",
      "yhat counter: Counter({1: 58, 2: 57, 0: 50, 5: 47, 3: 45, 4: 43})\n",
      "I 15, train_loss [[1.22973762e-06]], train_accuracy 0.9995715509854327, dev_accuracy 0.8566666666666667, grads [[-1.22973686e-06  9.47230197e-07  2.31765924e-07  4.92872857e-08\n",
      "   9.53426342e-11  1.35811312e-09]]\n",
      "yhat counter: Counter({5: 394, 3: 392, 2: 389, 0: 389, 1: 385, 4: 385})\n",
      "yhat counter: Counter({1: 58, 2: 57, 0: 50, 5: 47, 3: 46, 4: 42})\n",
      "I 16, train_loss [[0.0323805]], train_accuracy 0.9995715509854327, dev_accuracy 0.85, grads [[ 0.0124781  -0.03186187  0.00114228  0.0085078   0.00143623  0.00829746]]\n",
      "yhat counter: Counter({5: 394, 3: 392, 0: 389, 2: 389, 1: 385, 4: 385})\n",
      "yhat counter: Counter({1: 58, 2: 57, 0: 50, 5: 47, 3: 45, 4: 43})\n",
      "I 17, train_loss [[0.46560835]], train_accuracy 0.9995715509854327, dev_accuracy 0.8566666666666667, grads [[-3.72246904e-01  3.40440649e-01  2.53042859e-02  3.02989404e-04\n",
      "   2.39408354e-04  5.95957158e-03]]\n",
      "yhat counter: Counter({5: 394, 3: 392, 2: 389, 0: 389, 1: 385, 4: 385})\n",
      "yhat counter: Counter({1: 58, 2: 58, 0: 50, 5: 47, 3: 45, 4: 42})\n",
      "I 18, train_loss [[3.43836071e-13]], train_accuracy 0.9995715509854327, dev_accuracy 0.8533333333333334, grads [[ 4.88389995e-22  7.98207319e-16  3.25630770e-13 -3.43836071e-13\n",
      "   3.46507979e-20  1.72899552e-14]]\n",
      "yhat counter: Counter({5: 394, 3: 392, 0: 389, 2: 389, 4: 385, 1: 385})\n",
      "yhat counter: Counter({1: 58, 2: 57, 0: 50, 5: 47, 3: 46, 4: 42})\n",
      "I 19, train_loss [[0.01109219]], train_accuracy 0.9995715509854327, dev_accuracy 0.85, grads [[ 5.06556359e-07  1.03617998e-02  1.18789131e-04 -1.10308965e-02\n",
      "   9.36467698e-05  4.56154284e-04]]\n"
     ]
    }
   ],
   "source": [
    "params = ll.create_classifier(in_dim, out_dim)\n",
    "trained_params = tl.train_classifier(xy_train, xy_dev, config.num_iterations, config.learning_rate, params)\n"
   ]
  },
  {
   "cell_type": "code",
   "execution_count": 205,
   "metadata": {},
   "outputs": [
    {
     "data": {
      "text/plain": [
       "numpy.matrixlib.defmatrix.matrix"
      ]
     },
     "execution_count": 205,
     "metadata": {},
     "output_type": "execute_result"
    }
   ],
   "source": [
    "type(grad)"
   ]
  },
  {
   "cell_type": "code",
   "execution_count": 134,
   "metadata": {},
   "outputs": [
    {
     "name": "stdout",
     "output_type": "stream",
     "text": [
      "(array([2., 0., 0., 1., 0., 0., 0., 2., 2., 0., 0., 1., 1., 2., 0., 0., 1.,\n",
      "       0., 0., 1., 0., 0., 1., 1., 0., 1., 0., 0., 0., 1., 1., 1., 0., 0.,\n",
      "       0., 0., 0., 0., 0., 0., 1., 0., 0., 0., 0., 0., 1., 0., 0., 0., 0.,\n",
      "       1., 1., 1., 0., 2., 1., 0., 0., 0., 1., 0., 0., 1., 0., 0., 0., 0.,\n",
      "       1., 0., 0., 1., 1., 0., 0., 0., 0., 0., 0., 0., 0., 0., 0., 0., 1.,\n",
      "       0., 0., 0., 0., 2., 0., 0., 0., 0., 0., 0., 0., 1., 0., 0., 0., 0.,\n",
      "       0., 0., 0., 0., 0., 0., 0., 0., 0., 0., 0., 0., 0., 0., 0., 0., 0.,\n",
      "       0., 0., 0., 0., 0., 0., 0., 0., 0., 0., 0., 3., 0., 0., 0., 0., 0.,\n",
      "       1., 0., 0., 0., 2., 0., 0., 0., 0., 0., 0., 1., 0., 0., 0., 0., 0.,\n",
      "       1., 0., 0., 0., 0., 0., 0., 0., 0., 0., 0., 0., 0., 0., 0., 0., 1.,\n",
      "       0., 0., 0., 0., 0., 0., 0., 0., 0., 0., 0., 1., 0., 0., 0., 1., 0.,\n",
      "       0., 0., 0., 0., 0., 0., 0., 0., 0., 0., 1., 0., 0., 0., 0., 0., 0.,\n",
      "       1., 0., 0., 0., 0., 0., 0., 0., 0., 0., 0., 0., 0., 0., 0., 0., 0.,\n",
      "       0., 0., 0., 0., 0., 0., 0., 0., 0., 0., 0., 0., 0., 0., 0., 0., 0.,\n",
      "       0., 0., 0., 0., 0., 0., 0., 0., 0., 0., 0., 0., 0., 0., 0., 0., 0.,\n",
      "       0., 0., 0., 0., 0., 0., 0., 0., 0., 0., 1., 0., 0., 0., 1., 0., 0.,\n",
      "       0., 0., 0., 0., 0., 0., 0., 0., 0., 0., 0., 0., 0., 0., 1., 0., 0.,\n",
      "       2., 0., 0., 0., 0., 0., 0., 0., 0., 0., 0., 1., 0., 0., 0., 0., 0.,\n",
      "       1., 0., 0., 0., 0., 0., 0., 0., 0., 0., 0., 0., 0., 0., 0., 0., 0.,\n",
      "       0., 0., 0., 0., 0., 0., 0., 0., 0., 0., 0., 0., 1., 0., 0., 0., 0.,\n",
      "       0., 0., 0., 0., 0., 0., 0., 0., 0., 0., 0., 0., 0., 0., 0., 0., 0.,\n",
      "       1., 0., 0., 0., 0., 0., 0., 0., 0., 0., 0., 0., 0., 0., 0., 0., 0.,\n",
      "       0., 0., 0., 0., 0., 0., 0., 0., 0., 0., 0., 0., 0., 0., 0., 0., 0.,\n",
      "       0., 0., 1., 0., 0., 0., 0., 0., 0., 0., 0., 0., 0., 0., 0., 0., 0.,\n",
      "       0., 0., 0., 0., 0., 0., 0., 0., 0., 0., 0., 0., 0., 0., 0., 0., 0.,\n",
      "       0., 0., 0., 0., 0., 0., 1., 0., 0., 0., 0., 0., 0., 0., 0., 0., 0.,\n",
      "       0., 0., 0., 0., 0., 0., 0., 0., 0., 0., 0., 0., 0., 0., 0., 0., 0.,\n",
      "       0., 0., 0., 0., 0., 0., 0., 0., 0., 0., 0., 0., 0., 0., 0., 0., 0.,\n",
      "       0., 0., 0., 0., 0., 0., 0., 0., 0., 0., 0., 0., 0., 0., 0., 0., 0.,\n",
      "       0., 0., 0., 0., 0., 0., 0., 0., 0., 0., 0., 0., 0., 0., 0., 0., 0.,\n",
      "       0., 0., 0., 0., 0., 0., 0., 0., 0., 0., 0., 0., 0., 0., 0., 0., 0.,\n",
      "       0., 0., 0., 0., 0., 0., 0., 0., 0., 0., 0., 0., 0., 0., 0., 0., 0.,\n",
      "       0., 0., 0., 0., 0., 0., 0., 0., 0., 0., 0., 0., 0., 0., 0., 0., 0.,\n",
      "       0., 0., 0., 0., 0., 0., 0., 0., 0., 0., 0., 0., 0., 0., 0., 0., 0.,\n",
      "       0., 0., 0., 0., 0., 0., 0., 0., 0., 0., 0., 0., 0., 0., 0., 0., 0.,\n",
      "       0., 0., 0., 0., 0.]), array([0., 0., 0., 0., 1., 0.]))\n"
     ]
    }
   ],
   "source": [
    "x,y=next(xy)\n",
    "print((x,y))"
   ]
  },
  {
   "cell_type": "code",
   "execution_count": 132,
   "metadata": {},
   "outputs": [
    {
     "data": {
      "text/plain": [
       "('it', 'voglio cantare anche io: \"celerino, figlio di putt**a!\" (acab docet)')"
      ]
     },
     "execution_count": 132,
     "metadata": {},
     "output_type": "execute_result"
    }
   ],
   "source": [
    "train_data[0]"
   ]
  },
  {
   "cell_type": "code",
   "execution_count": 135,
   "metadata": {},
   "outputs": [
    {
     "data": {
      "text/plain": [
       "(array([  0,   3,   7,   8,  11,  12,  13,  16,  19,  22,  23,  25,  29,\n",
       "         30,  31,  40,  46,  51,  52,  53,  55,  56,  60,  63,  68,  71,\n",
       "         72,  84,  89,  97, 130, 136, 140, 147, 153, 169, 181, 185, 197,\n",
       "        204, 265, 269, 286, 289, 300, 306, 335, 357, 393, 431], dtype=int64),)"
      ]
     },
     "execution_count": 135,
     "metadata": {},
     "output_type": "execute_result"
    }
   ],
   "source": [
    "np.where(x)"
   ]
  },
  {
   "cell_type": "code",
   "execution_count": 143,
   "metadata": {},
   "outputs": [
    {
     "data": {
      "text/plain": [
       "[('e ', 0),\n",
       " ('er', 3),\n",
       " ('o ', 7),\n",
       " (' d', 8),\n",
       " ('in', 11),\n",
       " (' a', 12),\n",
       " ('an', 13),\n",
       " ('ch', 16),\n",
       " ('re', 19),\n",
       " (' c', 22),\n",
       " ('i ', 23),\n",
       " ('ar', 25),\n",
       " ('le', 29),\n",
       " ('se', 54)]"
      ]
     },
     "execution_count": 143,
     "metadata": {},
     "output_type": "execute_result"
    }
   ],
   "source": [
    "[(k,v) for k,v in symbol_dict.items() if v in [  0,   3,   7,   8,  11,  12,  13,  16,  19,  22,  23,  25,  29, 54]]"
   ]
  },
  {
   "cell_type": "code",
   "execution_count": 144,
   "metadata": {},
   "outputs": [],
   "source": [
    "big_xy=list(xy)"
   ]
  },
  {
   "cell_type": "code",
   "execution_count": 145,
   "metadata": {},
   "outputs": [
    {
     "data": {
      "text/plain": [
       "2333"
      ]
     },
     "execution_count": 145,
     "metadata": {},
     "output_type": "execute_result"
    }
   ],
   "source": [
    "len(big_xy)"
   ]
  },
  {
   "cell_type": "code",
   "execution_count": 147,
   "metadata": {},
   "outputs": [
    {
     "data": {
      "text/plain": [
       "(array([2., 0., 0., 0., 0., 1., 3., 0., 1., 3., 3., 5., 0., 1., 1., 0., 1.,\n",
       "        0., 1., 1., 0., 0., 0., 0., 1., 1., 0., 2., 0., 1., 0., 0., 0., 0.,\n",
       "        1., 0., 1., 2., 3., 0., 0., 1., 0., 1., 0., 0., 0., 1., 1., 1., 2.,\n",
       "        0., 0., 0., 0., 0., 0., 3., 0., 0., 0., 1., 0., 1., 2., 0., 0., 1.,\n",
       "        0., 0., 0., 1., 0., 0., 1., 1., 0., 0., 0., 0., 2., 2., 1., 0., 0.,\n",
       "        0., 1., 0., 1., 0., 0., 3., 2., 0., 0., 0., 1., 0., 1., 1., 0., 0.,\n",
       "        0., 1., 0., 0., 0., 0., 0., 0., 0., 0., 1., 0., 1., 1., 1., 0., 0.,\n",
       "        0., 0., 0., 2., 0., 0., 0., 0., 0., 0., 0., 0., 0., 0., 0., 0., 0.,\n",
       "        1., 0., 1., 0., 0., 0., 0., 0., 0., 0., 0., 0., 0., 0., 0., 1., 0.,\n",
       "        0., 0., 0., 0., 0., 1., 0., 0., 0., 0., 0., 0., 0., 0., 0., 0., 1.,\n",
       "        0., 0., 0., 0., 1., 0., 0., 0., 0., 0., 0., 0., 0., 0., 1., 0., 0.,\n",
       "        0., 0., 0., 0., 0., 0., 0., 0., 0., 0., 0., 0., 0., 0., 0., 0., 0.,\n",
       "        0., 0., 0., 0., 0., 0., 0., 0., 0., 0., 0., 0., 0., 0., 0., 0., 0.,\n",
       "        0., 0., 1., 0., 0., 0., 0., 0., 0., 0., 0., 0., 0., 0., 0., 1., 0.,\n",
       "        0., 0., 0., 0., 0., 0., 0., 0., 0., 0., 0., 0., 0., 0., 0., 0., 0.,\n",
       "        0., 0., 0., 0., 0., 0., 0., 0., 0., 0., 0., 0., 0., 0., 0., 0., 0.,\n",
       "        0., 0., 0., 0., 0., 0., 0., 0., 0., 0., 0., 0., 0., 0., 1., 0., 1.,\n",
       "        0., 0., 0., 0., 0., 0., 0., 1., 1., 0., 0., 0., 0., 0., 0., 1., 0.,\n",
       "        0., 0., 0., 0., 0., 0., 0., 0., 0., 0., 0., 0., 0., 0., 0., 0., 0.,\n",
       "        0., 0., 0., 0., 0., 0., 0., 0., 0., 0., 0., 0., 0., 0., 0., 0., 0.,\n",
       "        0., 0., 0., 0., 0., 0., 0., 0., 0., 0., 0., 0., 0., 0., 0., 0., 0.,\n",
       "        1., 0., 0., 0., 0., 0., 0., 0., 0., 0., 0., 0., 0., 0., 1., 0., 0.,\n",
       "        0., 0., 0., 0., 0., 1., 0., 0., 0., 0., 0., 0., 0., 0., 0., 0., 0.,\n",
       "        0., 0., 0., 0., 0., 0., 0., 1., 0., 0., 0., 0., 0., 1., 0., 0., 0.,\n",
       "        0., 0., 0., 0., 0., 0., 0., 0., 0., 0., 0., 0., 0., 0., 0., 0., 0.,\n",
       "        0., 0., 0., 0., 0., 0., 0., 0., 0., 0., 0., 0., 0., 0., 0., 0., 0.,\n",
       "        0., 0., 0., 1., 0., 0., 0., 0., 0., 0., 0., 0., 0., 0., 0., 0., 0.,\n",
       "        0., 0., 0., 0., 0., 0., 0., 0., 0., 0., 0., 0., 0., 0., 0., 0., 0.,\n",
       "        0., 0., 0., 0., 0., 0., 0., 0., 0., 0., 0., 0., 0., 0., 0., 0., 0.,\n",
       "        0., 0., 0., 0., 0., 0., 0., 0., 0., 0., 0., 0., 0., 0., 0., 0., 0.,\n",
       "        0., 0., 0., 0., 0., 0., 0., 0., 0., 0., 0., 0., 0., 0., 0., 0., 0.,\n",
       "        0., 1., 0., 0., 0., 0., 0., 0., 0., 0., 0., 0., 0., 0., 0., 0., 0.,\n",
       "        0., 0., 0., 0., 0., 0., 0., 0., 0., 0., 0., 0., 0., 0., 0., 0., 0.,\n",
       "        0., 0., 0., 0., 0., 0., 0., 0., 0., 0., 0., 0., 0., 0., 0., 0., 0.,\n",
       "        0., 0., 0., 0., 0., 0., 0., 0., 0., 0., 0., 0., 0., 0., 0., 0., 0.,\n",
       "        0., 0., 0., 0., 0.]), array([1., 0., 0., 0., 0., 0.]))"
      ]
     },
     "execution_count": 147,
     "metadata": {},
     "output_type": "execute_result"
    }
   ],
   "source": [
    "big_xy[1]"
   ]
  },
  {
   "cell_type": "code",
   "execution_count": 165,
   "metadata": {},
   "outputs": [],
   "source": [
    "x=np.array([1., 2., 3.])"
   ]
  },
  {
   "cell_type": "code",
   "execution_count": 166,
   "metadata": {},
   "outputs": [
    {
     "data": {
      "text/plain": [
       "array([1., 2., 3.])"
      ]
     },
     "execution_count": 166,
     "metadata": {},
     "output_type": "execute_result"
    }
   ],
   "source": [
    "x\n"
   ]
  },
  {
   "cell_type": "code",
   "execution_count": 171,
   "metadata": {},
   "outputs": [
    {
     "data": {
      "text/plain": [
       "array([[1., 2., 3.]])"
      ]
     },
     "execution_count": 171,
     "metadata": {},
     "output_type": "execute_result"
    }
   ],
   "source": [
    "np.array(x,ndmin=2)"
   ]
  },
  {
   "cell_type": "code",
   "execution_count": 179,
   "metadata": {},
   "outputs": [],
   "source": [
    "a=np.array([1,2,3])\n",
    "b=np.array([4,5,6])\n",
    "p=(a,b)"
   ]
  },
  {
   "cell_type": "code",
   "execution_count": 180,
   "metadata": {},
   "outputs": [],
   "source": [
    "for t in p:\n",
    "    t[2]=10"
   ]
  },
  {
   "cell_type": "code",
   "execution_count": 181,
   "metadata": {},
   "outputs": [
    {
     "data": {
      "text/plain": [
       "array([ 1,  2, 10])"
      ]
     },
     "execution_count": 181,
     "metadata": {},
     "output_type": "execute_result"
    }
   ],
   "source": [
    "a"
   ]
  },
  {
   "cell_type": "code",
   "execution_count": 182,
   "metadata": {},
   "outputs": [
    {
     "data": {
      "text/plain": [
       "array([ 4,  5, 10])"
      ]
     },
     "execution_count": 182,
     "metadata": {},
     "output_type": "execute_result"
    }
   ],
   "source": [
    "b"
   ]
  },
  {
   "cell_type": "code",
   "execution_count": 183,
   "metadata": {},
   "outputs": [
    {
     "data": {
      "text/plain": [
       "(array([ 1,  2, 10]), array([ 4,  5, 10]))"
      ]
     },
     "execution_count": 183,
     "metadata": {},
     "output_type": "execute_result"
    }
   ],
   "source": [
    "p\n"
   ]
  },
  {
   "cell_type": "code",
   "execution_count": 186,
   "metadata": {},
   "outputs": [
    {
     "data": {
      "text/plain": [
       "2"
      ]
     },
     "execution_count": 186,
     "metadata": {},
     "output_type": "execute_result"
    }
   ],
   "source": [
    "sum([True, True ,False])"
   ]
  },
  {
   "cell_type": "markdown",
   "metadata": {},
   "source": [
    "#### testing mlp1.py"
   ]
  },
  {
   "cell_type": "code",
   "execution_count": 68,
   "metadata": {},
   "outputs": [
    {
     "data": {
      "text/plain": [
       "<module 'loglinear' from 'C:\\\\Shahar\\\\BarIlan\\\\NLP-courses\\\\89687-DL\\\\Assignment1\\\\code\\\\loglinear.py'>"
      ]
     },
     "execution_count": 68,
     "metadata": {},
     "output_type": "execute_result"
    }
   ],
   "source": [
    "import mlp1\n",
    "importlib.reload(mlp1)\n",
    "import testing\n",
    "importlib.reload(testing)\n",
    "import loglinear as ll\n",
    "importlib.reload(ll)"
   ]
  },
  {
   "cell_type": "code",
   "execution_count": 26,
   "metadata": {},
   "outputs": [],
   "source": [
    "W,b,U, b_tag = mlp1.create_classifier(12,4,6)\n"
   ]
  },
  {
   "cell_type": "code",
   "execution_count": 46,
   "metadata": {},
   "outputs": [],
   "source": [
    "x = np.ones((1,12), np.double)\n",
    "y = 4"
   ]
  },
  {
   "cell_type": "code",
   "execution_count": 56,
   "metadata": {},
   "outputs": [],
   "source": [
    "W = testing.randomize_array(W)\n",
    "b = testing.randomize_array(b)\n",
    "U = testing.randomize_array(U)\n",
    "b_tag = testing.randomize_array(b_tag)"
   ]
  },
  {
   "cell_type": "code",
   "execution_count": 57,
   "metadata": {},
   "outputs": [],
   "source": [
    "y_e, y_hat, loss, y_diff = mlp1.loss_and_gradients(x,y,(W,b,U,b_tag))"
   ]
  },
  {
   "cell_type": "code",
   "execution_count": 58,
   "metadata": {},
   "outputs": [
    {
     "name": "stdout",
     "output_type": "stream",
     "text": [
      "[[0. 0. 0. 0. 1. 0.]]\n",
      "[[0.04327826 0.0152138  0.0089677  0.00102924 0.92939732 0.00211369]]\n",
      "[[0.07321895]]\n",
      "[[ 0.04327826  0.0152138   0.0089677   0.00102924 -0.07060268  0.00211369]]\n"
     ]
    }
   ],
   "source": [
    "print(y_e)\n",
    "print(y_hat)\n",
    "print(loss)\n",
    "print(y_diff)"
   ]
  },
  {
   "cell_type": "code",
   "execution_count": 51,
   "metadata": {},
   "outputs": [
    {
     "data": {
      "text/plain": [
       "array([[7.16703788],\n",
       "       [7.16703788],\n",
       "       [7.16703788],\n",
       "       [7.16703788],\n",
       "       [7.16703788],\n",
       "       [7.16703788]])"
      ]
     },
     "execution_count": 51,
     "metadata": {},
     "output_type": "execute_result"
    }
   ],
   "source": [
    "ll.logloss(y, y_hat)"
   ]
  },
  {
   "cell_type": "code",
   "execution_count": 52,
   "metadata": {},
   "outputs": [
    {
     "name": "stdout",
     "output_type": "stream",
     "text": [
      "4\n",
      "[[0.16666667 0.16666667 0.16666667 0.16666667 0.16666667 0.16666667]]\n"
     ]
    }
   ],
   "source": [
    "print(y)\n",
    "print(y_hat)"
   ]
  },
  {
   "cell_type": "markdown",
   "metadata": {},
   "source": [
    "for small x, with W = I (the unit matrix) and b=0, we expect the result to be the same as for loglinear classifier\n"
   ]
  },
  {
   "cell_type": "code",
   "execution_count": 74,
   "metadata": {},
   "outputs": [
    {
     "name": "stdout",
     "output_type": "stream",
     "text": [
      "v1\n",
      "loss: [[3.32499902]]\n",
      "[[3.32521307]] [[3.32499902]]\n"
     ]
    }
   ],
   "source": [
    "W,b,U, b_tag = mlp1.create_classifier(12,12,6)\n",
    "W = np.eye(12)\n",
    "x = np.random.rand(1,12)*0.1\n",
    "U = testing.randomize_array(U)\n",
    "b_tag = testing.randomize_array(b_tag)\n",
    "loss2 = mlp1.loss_and_gradients(x,4,(W,b,U,b_tag))\n",
    "loss1,_ = ll.loss_and_gradients(x,4,(U,b_tag))\n",
    "print(loss1, loss2)"
   ]
  },
  {
   "cell_type": "code",
   "execution_count": 78,
   "metadata": {},
   "outputs": [
    {
     "data": {
      "text/plain": [
       "array([[ 0., -3., -8.]])"
      ]
     },
     "execution_count": 78,
     "metadata": {},
     "output_type": "execute_result"
    }
   ],
   "source": [
    "1 - np.array([[1.,2.,3.]]) ** 2"
   ]
  },
  {
   "cell_type": "markdown",
   "metadata": {},
   "source": [
    "#### now testing the gradient calculation"
   ]
  },
  {
   "cell_type": "code",
   "execution_count": 125,
   "metadata": {},
   "outputs": [
    {
     "data": {
      "text/plain": [
       "<module 'grad_check' from 'C:\\\\Shahar\\\\BarIlan\\\\NLP-courses\\\\89687-DL\\\\Assignment1\\\\code\\\\grad_check.py'>"
      ]
     },
     "execution_count": 125,
     "metadata": {},
     "output_type": "execute_result"
    }
   ],
   "source": [
    "import testing\n",
    "importlib.reload(testing)\n",
    "import mlp1\n",
    "importlib.reload(mlp1)\n",
    "import loglinear as ll\n",
    "importlib.reload(ll)\n",
    "import grad_check\n",
    "importlib.reload(grad_check)"
   ]
  },
  {
   "cell_type": "code",
   "execution_count": 126,
   "metadata": {},
   "outputs": [
    {
     "name": "stdout",
     "output_type": "stream",
     "text": [
      "b_tag\n",
      "Gradient check complete \n",
      "U:\n",
      "Gradient check complete \n",
      "b:\n",
      "Gradient check complete \n",
      "W:\n",
      "Gradient check complete \n",
      "b_tag\n",
      "Gradient check complete \n",
      "U:\n",
      "Gradient check complete \n",
      "b:\n",
      "Gradient check complete \n",
      "W:\n",
      "Gradient check complete \n",
      "b_tag\n",
      "Gradient check complete \n",
      "U:\n",
      "Gradient check complete \n",
      "b:\n",
      "Gradient check complete \n",
      "W:\n",
      "Gradient check complete \n",
      "b_tag\n",
      "Gradient check complete \n",
      "U:\n",
      "Gradient check complete \n",
      "b:\n",
      "Gradient check complete \n",
      "W:\n",
      "Gradient check complete \n",
      "b_tag\n",
      "Gradient check complete \n",
      "U:\n",
      "Gradient check complete \n",
      "b:\n",
      "Gradient check complete \n",
      "W:\n",
      "Gradient check complete \n",
      "b_tag\n",
      "Gradient check complete \n",
      "U:\n",
      "Gradient check complete \n",
      "b:\n",
      "Gradient check complete \n",
      "W:\n",
      "Gradient check complete \n",
      "b_tag\n",
      "Gradient check complete \n",
      "U:\n",
      "Gradient check complete \n",
      "b:\n",
      "Gradient check complete \n",
      "W:\n",
      "Gradient check complete \n",
      "b_tag\n",
      "Gradient check complete \n",
      "U:\n",
      "Gradient check complete \n",
      "b:\n",
      "Gradient check complete \n",
      "W:\n",
      "Gradient check complete \n",
      "b_tag\n",
      "Gradient check complete \n",
      "U:\n",
      "Gradient check complete \n",
      "b:\n",
      "Gradient check complete \n",
      "W:\n",
      "Gradient check complete \n",
      "b_tag\n",
      "Gradient check complete \n",
      "U:\n",
      "Gradient check complete \n",
      "b:\n",
      "Gradient check complete \n",
      "W:\n",
      "Gradient check complete \n"
     ]
    }
   ],
   "source": [
    "testing.mlp1_grad_sanity()"
   ]
  },
  {
   "cell_type": "code",
   "execution_count": 117,
   "metadata": {},
   "outputs": [
    {
     "data": {
      "text/plain": [
       "array([[-1000,     0,     0],\n",
       "       [    0,     1,     0],\n",
       "       [    0,     0,  1000]])"
      ]
     },
     "execution_count": 117,
     "metadata": {},
     "output_type": "execute_result"
    }
   ],
   "source": [
    "np.diag(np.array([-1000,1\n",
    "                  ,1000]))"
   ]
  },
  {
   "cell_type": "code",
   "execution_count": 33,
   "metadata": {},
   "outputs": [
    {
     "data": {
      "text/plain": [
       "array([[-15.,   0.,   0.,   0.,   0.,   0.],\n",
       "       [  0., -48.,   0.,   0.,   0.,   0.],\n",
       "       [  0.,   0.,   0.,   0.,   0.,   0.],\n",
       "       [  0.,   0.,   0.,   1.,   0.,   0.],\n",
       "       [  0.,   0.,   0.,   0., -63.,   0.],\n",
       "       [  0.,   0.,   0.,   0.,   0., -15.]])"
      ]
     },
     "execution_count": 33,
     "metadata": {},
     "output_type": "execute_result"
    }
   ],
   "source": [
    "np.diag(np.squeeze(1- np.round(a[0]) ** 2))"
   ]
  },
  {
   "cell_type": "code",
   "execution_count": 37,
   "metadata": {},
   "outputs": [
    {
     "data": {
      "text/plain": [
       "(array([[1.79175947]]), [array([[0., 0., 0.],\n",
       "         [0., 0., 0.],\n",
       "         [0., 0., 0.],\n",
       "         [0., 0., 0.],\n",
       "         [0., 0., 0.],\n",
       "         [0., 0., 0.]]),\n",
       "  array([[0., 0., 0., 0., 0., 0.]]),\n",
       "  array([[ 0.82654857,  0.83329157, -0.83333315, -0.61660245, -0.8306838 ,\n",
       "           0.11179183],\n",
       "         [-0.16530971, -0.16665831,  0.16666663,  0.12332049,  0.16613676,\n",
       "          -0.02235837],\n",
       "         [-0.16530971, -0.16665831,  0.16666663,  0.12332049,  0.16613676,\n",
       "          -0.02235837],\n",
       "         [-0.16530971, -0.16665831,  0.16666663,  0.12332049,  0.16613676,\n",
       "          -0.02235837],\n",
       "         [-0.16530971, -0.16665831,  0.16666663,  0.12332049,  0.16613676,\n",
       "          -0.02235837],\n",
       "         [-0.16530971, -0.16665831,  0.16666663,  0.12332049,  0.16613676,\n",
       "          -0.02235837]]),\n",
       "  array([[-0.83333333,  0.16666667,  0.16666667,  0.16666667,  0.16666667,\n",
       "           0.16666667]])])"
      ]
     },
     "execution_count": 37,
     "metadata": {},
     "output_type": "execute_result"
    }
   ],
   "source": [
    "a"
   ]
  },
  {
   "cell_type": "code",
   "execution_count": 18,
   "metadata": {},
   "outputs": [
    {
     "name": "stdout",
     "output_type": "stream",
     "text": [
      "[[-3.58872272 -0.52344462 -1.6341967  -3.80449101  0.22498835 -5.66938495]]\n"
     ]
    },
    {
     "ename": "StopIteration",
     "evalue": "(array([[-3.58872272, -0.52344462, -1.6341967 , -3.80449101,  0.22498835,\n        -5.66938495]]), [0, 0])",
     "output_type": "error",
     "traceback": [
      "\u001b[1;31m---------------------------------------------------------------------------\u001b[0m",
      "\u001b[1;31mStopIteration\u001b[0m                             Traceback (most recent call last)",
      "\u001b[1;32m<ipython-input-18-15841f3f11d4>\u001b[0m in \u001b[0;36m<module>\u001b[1;34m\u001b[0m\n\u001b[1;32m----> 1\u001b[1;33m \u001b[0mnext\u001b[0m\u001b[1;33m(\u001b[0m\u001b[0ma\u001b[0m\u001b[1;33m)\u001b[0m\u001b[1;33m\u001b[0m\u001b[0m\n\u001b[0m",
      "\u001b[1;31mStopIteration\u001b[0m: (array([[-3.58872272, -0.52344462, -1.6341967 , -3.80449101,  0.22498835,\n        -5.66938495]]), [0, 0])"
     ]
    }
   ],
   "source": [
    "next(a)"
   ]
  },
  {
   "cell_type": "code",
   "execution_count": 98,
   "metadata": {},
   "outputs": [
    {
     "data": {
      "text/plain": [
       "array([[1, 2, 3],\n",
       "       [1, 2, 3],\n",
       "       [1, 2, 3]])"
      ]
     },
     "execution_count": 98,
     "metadata": {},
     "output_type": "execute_result"
    }
   ],
   "source": [
    "np.tile(np.array([[1,2,3]]),(3,1))"
   ]
  },
  {
   "cell_type": "code",
   "execution_count": 11,
   "metadata": {},
   "outputs": [
    {
     "ename": "StopIteration",
     "evalue": "a",
     "output_type": "error",
     "traceback": [
      "\u001b[1;31m---------------------------------------------------------------------------\u001b[0m",
      "\u001b[1;31mStopIteration\u001b[0m                             Traceback (most recent call last)",
      "\u001b[1;32m<ipython-input-11-cf9ac561a401>\u001b[0m in \u001b[0;36m<module>\u001b[1;34m\u001b[0m\n\u001b[1;32m----> 1\u001b[1;33m \u001b[0mnext\u001b[0m\u001b[1;33m(\u001b[0m\u001b[0mz\u001b[0m\u001b[1;33m)\u001b[0m\u001b[1;33m\u001b[0m\u001b[0m\n\u001b[0m",
      "\u001b[1;31mStopIteration\u001b[0m: a"
     ]
    }
   ],
   "source": [
    "next(z)"
   ]
  },
  {
   "cell_type": "code",
   "execution_count": 120,
   "metadata": {},
   "outputs": [
    {
     "data": {
      "text/plain": [
       "array([[ 4., 10., 18.]])"
      ]
     },
     "execution_count": 120,
     "metadata": {},
     "output_type": "execute_result"
    }
   ],
   "source": [
    "np.array([[1.,2.,3.]]) * np.array([[4.,5.,6.]])"
   ]
  },
  {
   "cell_type": "markdown",
   "metadata": {},
   "source": [
    "#### training mlp1"
   ]
  },
  {
   "cell_type": "code",
   "execution_count": 160,
   "metadata": {},
   "outputs": [
    {
     "name": "stdout",
     "output_type": "stream",
     "text": [
      "problem dimensions are: (600, 150, 6)\n",
      "yhat counter: Counter({5: 433, 4: 423, 0: 391, 2: 373, 1: 364, 3: 350})\n",
      "yhat counter: Counter({0: 59, 2: 58, 4: 53, 5: 51, 1: 46, 3: 33})\n",
      "I 0, train_loss [[3.76904825]], train_accuracy 0.85690, dev_accuracy 0.71000\n",
      "yhat counter: Counter({2: 430, 3: 413, 1: 400, 4: 394, 0: 349, 5: 348})\n",
      "yhat counter: Counter({2: 61, 3: 58, 1: 49, 4: 48, 0: 43, 5: 41})\n",
      "I 1, train_loss [[0.86920169]], train_accuracy 0.92502, dev_accuracy 0.72333\n",
      "yhat counter: Counter({1: 400, 0: 399, 4: 392, 2: 389, 5: 378, 3: 376})\n",
      "yhat counter: Counter({0: 62, 2: 58, 1: 51, 4: 49, 5: 43, 3: 37})\n",
      "I 2, train_loss [[0.25449428]], train_accuracy 0.97943, dev_accuracy 0.74333\n",
      "yhat counter: Counter({1: 394, 4: 392, 2: 391, 0: 389, 5: 385, 3: 383})\n",
      "yhat counter: Counter({0: 61, 2: 53, 1: 53, 4: 47, 5: 46, 3: 40})\n",
      "I 3, train_loss [[0.07514877]], train_accuracy 0.99786, dev_accuracy 0.75667\n",
      "yhat counter: Counter({1: 395, 4: 393, 2: 389, 0: 389, 3: 384, 5: 384})\n",
      "yhat counter: Counter({0: 58, 2: 53, 1: 50, 4: 49, 5: 48, 3: 42})\n",
      "I 4, train_loss [[0.01851629]], train_accuracy 0.99957, dev_accuracy 0.75667\n",
      "yhat counter: Counter({1: 395, 4: 392, 0: 389, 2: 389, 3: 385, 5: 384})\n",
      "yhat counter: Counter({0: 59, 2: 55, 1: 50, 5: 49, 4: 48, 3: 39})\n",
      "I 5, train_loss [[0.00774729]], train_accuracy 1.00000, dev_accuracy 0.75667\n",
      "yhat counter: Counter({1: 395, 4: 392, 2: 389, 0: 389, 3: 385, 5: 384})\n",
      "yhat counter: Counter({0: 58, 2: 56, 1: 50, 5: 48, 4: 48, 3: 40})\n",
      "I 6, train_loss [[0.00507709]], train_accuracy 1.00000, dev_accuracy 0.76333\n",
      "yhat counter: Counter({1: 395, 4: 392, 0: 389, 2: 389, 3: 385, 5: 384})\n",
      "yhat counter: Counter({0: 58, 2: 56, 1: 50, 5: 48, 4: 48, 3: 40})\n",
      "I 7, train_loss [[0.00420955]], train_accuracy 1.00000, dev_accuracy 0.76333\n",
      "yhat counter: Counter({1: 395, 4: 392, 2: 389, 0: 389, 3: 385, 5: 384})\n",
      "yhat counter: Counter({0: 58, 2: 56, 1: 50, 5: 48, 4: 48, 3: 40})\n",
      "I 8, train_loss [[0.00370323]], train_accuracy 1.00000, dev_accuracy 0.76333\n",
      "yhat counter: Counter({1: 395, 4: 392, 2: 389, 0: 389, 3: 385, 5: 384})\n",
      "yhat counter: Counter({0: 58, 2: 56, 1: 50, 5: 48, 4: 48, 3: 40})\n",
      "I 9, train_loss [[0.00330831]], train_accuracy 1.00000, dev_accuracy 0.76333\n",
      "yhat counter: Counter({1: 395, 4: 392, 2: 389, 0: 389, 3: 385, 5: 384})\n",
      "yhat counter: Counter({0: 58, 2: 56, 1: 50, 5: 48, 4: 48, 3: 40})\n",
      "I 10, train_loss [[0.00301738]], train_accuracy 1.00000, dev_accuracy 0.76333\n",
      "yhat counter: Counter({1: 395, 4: 392, 2: 389, 0: 389, 3: 385, 5: 384})\n",
      "yhat counter: Counter({0: 58, 2: 56, 1: 50, 5: 48, 4: 48, 3: 40})\n",
      "I 11, train_loss [[0.00277281]], train_accuracy 1.00000, dev_accuracy 0.76333\n",
      "yhat counter: Counter({1: 395, 4: 392, 0: 389, 2: 389, 3: 385, 5: 384})\n",
      "yhat counter: Counter({0: 58, 2: 56, 1: 50, 5: 48, 4: 48, 3: 40})\n",
      "I 12, train_loss [[0.00257391]], train_accuracy 1.00000, dev_accuracy 0.76333\n",
      "yhat counter: Counter({1: 395, 4: 392, 0: 389, 2: 389, 3: 385, 5: 384})\n",
      "yhat counter: Counter({0: 58, 2: 56, 1: 50, 5: 48, 4: 48, 3: 40})\n",
      "I 13, train_loss [[0.00240272]], train_accuracy 1.00000, dev_accuracy 0.76333\n",
      "yhat counter: Counter({1: 395, 4: 392, 2: 389, 0: 389, 3: 385, 5: 384})\n",
      "yhat counter: Counter({0: 58, 2: 56, 1: 50, 5: 48, 4: 48, 3: 40})\n",
      "I 14, train_loss [[0.00225773]], train_accuracy 1.00000, dev_accuracy 0.76333\n",
      "yhat counter: Counter({1: 395, 4: 392, 0: 389, 2: 389, 3: 385, 5: 384})\n",
      "yhat counter: Counter({0: 58, 2: 56, 1: 50, 5: 48, 4: 48, 3: 40})\n",
      "I 15, train_loss [[0.00212973]], train_accuracy 1.00000, dev_accuracy 0.76333\n",
      "yhat counter: Counter({1: 395, 4: 392, 0: 389, 2: 389, 3: 385, 5: 384})\n",
      "yhat counter: Counter({0: 58, 2: 56, 1: 50, 5: 48, 4: 48, 3: 40})\n",
      "I 16, train_loss [[0.0020155]], train_accuracy 1.00000, dev_accuracy 0.76333\n",
      "yhat counter: Counter({1: 395, 4: 392, 2: 389, 0: 389, 3: 385, 5: 384})\n",
      "yhat counter: Counter({0: 58, 2: 56, 1: 50, 5: 48, 4: 48, 3: 40})\n",
      "I 17, train_loss [[0.00191683]], train_accuracy 1.00000, dev_accuracy 0.76333\n",
      "yhat counter: Counter({1: 395, 4: 392, 2: 389, 0: 389, 3: 385, 5: 384})\n",
      "yhat counter: Counter({0: 59, 2: 55, 1: 50, 5: 48, 4: 48, 3: 40})\n",
      "I 18, train_loss [[0.00182809]], train_accuracy 1.00000, dev_accuracy 0.76333\n",
      "yhat counter: Counter({1: 395, 4: 392, 2: 389, 0: 389, 3: 385, 5: 384})\n",
      "yhat counter: Counter({0: 60, 2: 55, 1: 50, 5: 48, 4: 48, 3: 39})\n",
      "I 19, train_loss [[0.00174709]], train_accuracy 1.00000, dev_accuracy 0.76000\n"
     ]
    }
   ],
   "source": [
    "import config\n",
    "importlib.reload(config)\n",
    "import train_loglin\n",
    "importlib.reload(train_loglin)\n",
    "import mlp1\n",
    "importlib.reload(mlp1)\n",
    "import train_mlp1\n",
    "importlib.reload(train_mlp1)\n",
    "trained_params = train_mlp1.main()\n"
   ]
  },
  {
   "cell_type": "code",
   "execution_count": null,
   "metadata": {},
   "outputs": [],
   "source": []
  },
  {
   "cell_type": "code",
   "execution_count": 161,
   "metadata": {},
   "outputs": [
    {
     "name": "stdout",
     "output_type": "stream",
     "text": [
      "problem dimensions are: (600, 150, 6)\n",
      "yhat counter: Counter({0: 493, 2: 465, 5: 419, 1: 331, 4: 326, 3: 300})\n",
      "yhat counter: Counter({0: 67, 5: 62, 2: 58, 4: 44, 1: 40, 3: 29})\n",
      "I 0, train_loss [[4.35594434]], train_accuracy 0.82776, dev_accuracy 0.71333\n",
      "yhat counter: Counter({5: 402, 1: 398, 3: 394, 4: 391, 2: 378, 0: 371})\n",
      "yhat counter: Counter({5: 62, 4: 53, 0: 52, 1: 51, 2: 44, 3: 38})\n",
      "I 1, train_loss [[0.80002854]], train_accuracy 0.94602, dev_accuracy 0.74333\n",
      "yhat counter: Counter({2: 404, 0: 401, 4: 394, 5: 386, 1: 376, 3: 373})\n",
      "yhat counter: Counter({4: 59, 0: 58, 5: 55, 2: 53, 1: 43, 3: 32})\n",
      "I 2, train_loss [[0.28160941]], train_accuracy 0.97558, dev_accuracy 0.75333\n",
      "yhat counter: Counter({1: 395, 4: 392, 2: 388, 5: 388, 0: 386, 3: 385})\n",
      "yhat counter: Counter({5: 57, 4: 56, 0: 55, 1: 52, 2: 45, 3: 35})\n",
      "I 3, train_loss [[0.07914927]], train_accuracy 0.99700, dev_accuracy 0.75667\n",
      "yhat counter: Counter({1: 394, 4: 392, 2: 390, 0: 388, 3: 386, 5: 384})\n",
      "yhat counter: Counter({0: 56, 4: 56, 5: 54, 2: 49, 1: 48, 3: 37})\n",
      "I 4, train_loss [[0.02359066]], train_accuracy 0.99871, dev_accuracy 0.76667\n",
      "yhat counter: Counter({1: 395, 4: 392, 2: 389, 0: 389, 3: 385, 5: 384})\n",
      "yhat counter: Counter({4: 57, 0: 56, 5: 53, 1: 49, 2: 48, 3: 37})\n",
      "I 5, train_loss [[0.01078557]], train_accuracy 1.00000, dev_accuracy 0.76333\n",
      "yhat counter: Counter({1: 395, 4: 392, 2: 389, 0: 389, 3: 385, 5: 384})\n",
      "yhat counter: Counter({0: 56, 4: 56, 5: 53, 1: 51, 2: 47, 3: 37})\n",
      "I 6, train_loss [[0.0059501]], train_accuracy 1.00000, dev_accuracy 0.77000\n",
      "yhat counter: Counter({1: 395, 4: 392, 2: 389, 0: 389, 3: 385, 5: 384})\n",
      "yhat counter: Counter({4: 56, 5: 55, 0: 55, 1: 51, 2: 45, 3: 38})\n",
      "I 7, train_loss [[0.00437489]], train_accuracy 1.00000, dev_accuracy 0.77333\n",
      "yhat counter: Counter({1: 395, 4: 392, 2: 389, 0: 389, 3: 385, 5: 384})\n",
      "yhat counter: Counter({0: 56, 4: 56, 5: 55, 1: 50, 2: 46, 3: 37})\n",
      "I 8, train_loss [[0.00376512]], train_accuracy 1.00000, dev_accuracy 0.77000\n",
      "yhat counter: Counter({1: 395, 4: 392, 0: 389, 2: 389, 3: 385, 5: 384})\n",
      "yhat counter: Counter({0: 56, 4: 56, 5: 54, 1: 51, 2: 46, 3: 37})\n",
      "I 9, train_loss [[0.00333038]], train_accuracy 1.00000, dev_accuracy 0.77333\n",
      "yhat counter: Counter({1: 395, 4: 392, 0: 389, 2: 389, 3: 385, 5: 384})\n",
      "yhat counter: Counter({0: 56, 4: 56, 5: 54, 1: 51, 2: 46, 3: 37})\n",
      "I 10, train_loss [[0.00301303]], train_accuracy 1.00000, dev_accuracy 0.77333\n",
      "yhat counter: Counter({1: 395, 4: 392, 2: 389, 0: 389, 3: 385, 5: 384})\n",
      "yhat counter: Counter({0: 56, 4: 56, 5: 54, 1: 51, 2: 46, 3: 37})\n",
      "I 11, train_loss [[0.00275962]], train_accuracy 1.00000, dev_accuracy 0.77333\n",
      "yhat counter: Counter({1: 395, 4: 392, 0: 389, 2: 389, 3: 385, 5: 384})\n",
      "yhat counter: Counter({0: 56, 4: 56, 5: 54, 1: 51, 2: 46, 3: 37})\n",
      "I 12, train_loss [[0.00254685]], train_accuracy 1.00000, dev_accuracy 0.77333\n",
      "yhat counter: Counter({1: 395, 4: 392, 2: 389, 0: 389, 3: 385, 5: 384})\n",
      "yhat counter: Counter({0: 57, 4: 56, 5: 54, 1: 51, 2: 46, 3: 36})\n",
      "I 13, train_loss [[0.00237108]], train_accuracy 1.00000, dev_accuracy 0.77000\n",
      "yhat counter: Counter({1: 395, 4: 392, 2: 389, 0: 389, 3: 385, 5: 384})\n",
      "yhat counter: Counter({0: 57, 4: 56, 5: 54, 1: 51, 2: 46, 3: 36})\n",
      "I 14, train_loss [[0.00222303]], train_accuracy 1.00000, dev_accuracy 0.77000\n",
      "yhat counter: Counter({1: 395, 4: 392, 0: 389, 2: 389, 3: 385, 5: 384})\n",
      "yhat counter: Counter({0: 57, 4: 56, 5: 54, 1: 51, 2: 46, 3: 36})\n",
      "I 15, train_loss [[0.00209501]], train_accuracy 1.00000, dev_accuracy 0.77000\n",
      "yhat counter: Counter({1: 395, 4: 392, 2: 389, 0: 389, 3: 385, 5: 384})\n",
      "yhat counter: Counter({0: 57, 4: 56, 5: 54, 1: 51, 2: 46, 3: 36})\n",
      "I 16, train_loss [[0.00198138]], train_accuracy 1.00000, dev_accuracy 0.77000\n",
      "yhat counter: Counter({1: 395, 4: 392, 2: 389, 0: 389, 3: 385, 5: 384})\n",
      "yhat counter: Counter({0: 56, 4: 56, 5: 54, 1: 52, 2: 46, 3: 36})\n",
      "I 17, train_loss [[0.00187906]], train_accuracy 1.00000, dev_accuracy 0.77000\n",
      "yhat counter: Counter({1: 395, 4: 392, 0: 389, 2: 389, 3: 385, 5: 384})\n",
      "yhat counter: Counter({0: 56, 4: 56, 5: 54, 1: 52, 2: 46, 3: 36})\n",
      "I 18, train_loss [[0.00179268]], train_accuracy 1.00000, dev_accuracy 0.77000\n",
      "yhat counter: Counter({1: 395, 4: 392, 0: 389, 2: 389, 3: 385, 5: 384})\n",
      "yhat counter: Counter({0: 56, 4: 56, 5: 54, 1: 52, 2: 46, 3: 36})\n",
      "I 19, train_loss [[0.00171148]], train_accuracy 1.00000, dev_accuracy 0.77000\n"
     ]
    }
   ],
   "source": [
    "codepath = 'C:\\\\Shahar\\\\BarIlan\\\\NLP-courses\\\\89687-DL\\\\Assignment1\\\\code'\n",
    "from os import path\n",
    "exec(open(path.join(codepath,'train_mlp1.py')).read())"
   ]
  },
  {
   "cell_type": "markdown",
   "metadata": {},
   "source": [
    "#### testing parts of mlpn"
   ]
  },
  {
   "cell_type": "code",
   "execution_count": 247,
   "metadata": {},
   "outputs": [
    {
     "data": {
      "text/plain": [
       "<module 'mlpn' from 'C:\\\\Shahar\\\\BarIlan\\\\NLP-courses\\\\89687-DL\\\\Assignment1\\\\code\\\\mlpn.py'>"
      ]
     },
     "execution_count": 247,
     "metadata": {},
     "output_type": "execute_result"
    }
   ],
   "source": [
    "import mlpn\n",
    "importlib.reload(mlpn)"
   ]
  },
  {
   "cell_type": "code",
   "execution_count": null,
   "metadata": {},
   "outputs": [],
   "source": []
  },
  {
   "cell_type": "code",
   "execution_count": 166,
   "metadata": {},
   "outputs": [],
   "source": [
    "params = mlpn.create_classifier([5,6,7,8])"
   ]
  },
  {
   "cell_type": "code",
   "execution_count": 167,
   "metadata": {},
   "outputs": [
    {
     "data": {
      "text/plain": [
       "[(5, 6), (1, 6), (6, 7), (1, 7), (7, 8), (1, 8)]"
      ]
     },
     "execution_count": 167,
     "metadata": {},
     "output_type": "execute_result"
    }
   ],
   "source": []
  },
  {
   "cell_type": "code",
   "execution_count": 172,
   "metadata": {},
   "outputs": [
    {
     "data": {
      "text/plain": [
       "[(5, 5), (1, 5), (5, 5), (1, 5), (5, 5), (1, 5)]"
      ]
     },
     "execution_count": 172,
     "metadata": {},
     "output_type": "execute_result"
    }
   ],
   "source": [
    "params = mlpn.create_classifier([5,5,5,5])\n",
    "[p.shape for p in params]"
   ]
  },
  {
   "cell_type": "code",
   "execution_count": 176,
   "metadata": {},
   "outputs": [
    {
     "data": {
      "text/plain": [
       "[(5, 5), (1, 5), (5, 5), (1, 5), (5, 5), (1, 5)]"
      ]
     },
     "execution_count": 176,
     "metadata": {},
     "output_type": "execute_result"
    }
   ],
   "source": [
    "params[::2]=[np.eye(5) for i in range(3)] \n",
    "[p.shape for p in params]"
   ]
  },
  {
   "cell_type": "markdown",
   "metadata": {},
   "source": [
    "###### test feedforward step"
   ]
  },
  {
   "cell_type": "code",
   "execution_count": 197,
   "metadata": {},
   "outputs": [
    {
     "name": "stdout",
     "output_type": "stream",
     "text": [
      "a_in: [[0.  0.1 0.2 0.3 0.4]]\n",
      " z:[[0.  0.1 0.2 0.3 0.4]]\n",
      " a_out: [[0.         0.09966799 0.19737532 0.29131261 0.37994896]]\n"
     ]
    }
   ],
   "source": [
    "W=np.eye(5)\n",
    "b=np.zeros((1,5))\n",
    "a_in = np.array(np.arange(0,0.5,0.1), np.double, ndmin=2)\n",
    "\n",
    "z,a_out = mlpn.layer_ff(a_in,(W,b),np.tanh)\n",
    "\n",
    "print(\"a_in: {}\\n z:{}\\n a_out: {}\".format(a_in, z, a_out))"
   ]
  },
  {
   "cell_type": "code",
   "execution_count": 211,
   "metadata": {},
   "outputs": [
    {
     "data": {
      "text/plain": [
       "numpy.ndarray"
      ]
     },
     "execution_count": 211,
     "metadata": {},
     "output_type": "execute_result"
    }
   ],
   "source": [
    "type(a_in)"
   ]
  },
  {
   "cell_type": "code",
   "execution_count": 218,
   "metadata": {},
   "outputs": [
    {
     "name": "stdout",
     "output_type": "stream",
     "text": [
      "x: [ 0.22510243 -0.07632781  0.14063318 -0.02407293 -0.05131847], \n",
      "softmax: [0.23828267 0.17627186 0.21898176 0.18572783 0.18073589]\n",
      "0\n",
      "a:\n",
      "[[ 0.22510243 -0.07632781  0.14063318 -0.02407293 -0.05131847]]\n",
      "z:\n",
      "[[ 0.22137588 -0.07617993  0.13971332 -0.02406828 -0.05127346]]\n",
      "1\n",
      "a:\n",
      "[[ 0.22137588 -0.07617993  0.13971332 -0.02406828 -0.05127346]]\n",
      "z:\n",
      "[[ 0.21782905 -0.0760329   0.1388113  -0.02406363 -0.05122858]]\n",
      "2\n",
      "a:\n",
      "[[ 0.21782905 -0.0760329   0.1388113  -0.02406363 -0.05122858]]\n",
      "z:\n",
      "[[0.23704307 0.17668702 0.21903338 0.1861121  0.18112443]]\n"
     ]
    },
    {
     "data": {
      "text/plain": [
       "[((1, 5), (1, 5)), ((1, 5), (1, 5)), ((1, 5), (1, 5))]"
      ]
     },
     "execution_count": 218,
     "metadata": {},
     "output_type": "execute_result"
    }
   ],
   "source": [
    "# this tests the feedforward code by building a \n",
    "# network of 3 identity (eye matrix) hidden layers\n",
    "x = np.random.randn(5)*0.1\n",
    "print(\"x: {}, \\nsoftmax: {}\".format(x, ll.softmax(x)))\n",
    "\n",
    "y = mlpn.feedforward_loop(x, params)\n",
    "\n",
    "for i, az in enumerate(y):\n",
    "    a, z = az\n",
    "    print(\"{}\\na:\\n{}\\nz:\\n{}\".format(i,a,z))\n",
    "[(t[0].shape, t[1].shape) for t in y]"
   ]
  },
  {
   "cell_type": "code",
   "execution_count": 221,
   "metadata": {},
   "outputs": [
    {
     "data": {
      "text/plain": [
       "array([[0.23704307, 0.17668702, 0.21903338, 0.1861121 , 0.18112443]])"
      ]
     },
     "execution_count": 221,
     "metadata": {},
     "output_type": "execute_result"
    }
   ],
   "source": [
    "# after seeing the whole feedforward progression, let's check the \n",
    "# small function that gets x and returns the final a\n",
    "mlpn.classifier_output(x,params)"
   ]
  },
  {
   "cell_type": "markdown",
   "metadata": {},
   "source": [
    "##### testing the backpropagation"
   ]
  },
  {
   "cell_type": "code",
   "execution_count": 225,
   "metadata": {},
   "outputs": [
    {
     "data": {
      "text/plain": [
       "array([[0.32206907, 0.16948273, 0.16948273, 0.16948273, 0.16948273]])"
      ]
     },
     "execution_count": 225,
     "metadata": {},
     "output_type": "execute_result"
    }
   ],
   "source": [
    "mlpn.classifier_output(np.array([[1.,0.,0.,0.,0.]]),params)"
   ]
  },
  {
   "cell_type": "code",
   "execution_count": 249,
   "metadata": {},
   "outputs": [
    {
     "name": "stdout",
     "output_type": "stream",
     "text": [
      "len z_and_a: 4\n",
      "layer: 3\n",
      "layer: 1\n"
     ]
    },
    {
     "data": {
      "text/plain": [
       "(array([[1.27499765]]),\n",
       " [array([[-0.42649373,  0.16539143,  0.0923642 ,  0.0923642 ,  0.0923642 ],\n",
       "         [-0.42649373,  0.16539143,  0.0923642 ,  0.0923642 ,  0.0923642 ],\n",
       "         [-0.        ,  0.        ,  0.        ,  0.        ,  0.        ],\n",
       "         [-0.        ,  0.        ,  0.        ,  0.        ,  0.        ],\n",
       "         [-0.        ,  0.        ,  0.        ,  0.        ,  0.        ]]),\n",
       "  array([[-0.66430493,  0.25761303,  0.1438661 ,  0.1438661 ,  0.1438661 ]]),\n",
       "  array([[-0.27899103,  0.10819086,  0.1438661 ,  0.1438661 ,  0.1438661 ],\n",
       "         [-0.27899103,  0.10819086,  0.1438661 ,  0.1438661 ,  0.1438661 ],\n",
       "         [-0.        ,  0.        ,  0.        ,  0.        ,  0.        ],\n",
       "         [-0.        ,  0.        ,  0.        ,  0.        ,  0.        ],\n",
       "         [-0.        ,  0.        ,  0.        ,  0.        ,  0.        ]]),\n",
       "  array([[-0.27899103,  0.10819086,  0.1438661 ,  0.1438661 ,  0.1438661 ]])])"
      ]
     },
     "execution_count": 249,
     "metadata": {},
     "output_type": "execute_result"
    }
   ],
   "source": [
    "mlpn.loss_and_gradients(np.array([[1.,1.,0.,0.,0.]]),0,params)    "
   ]
  },
  {
   "cell_type": "code",
   "execution_count": 250,
   "metadata": {},
   "outputs": [
    {
     "ename": "AttributeError",
     "evalue": "'list' object has no attribute '__length__'",
     "output_type": "error",
     "traceback": [
      "\u001b[1;31m---------------------------------------------------------------------------\u001b[0m",
      "\u001b[1;31mAttributeError\u001b[0m                            Traceback (most recent call last)",
      "\u001b[1;32m<ipython-input-250-693c4fedf676>\u001b[0m in \u001b[0;36m<module>\u001b[1;34m\u001b[0m\n\u001b[1;32m----> 1\u001b[1;33m \u001b[0mparams\u001b[0m\u001b[1;33m.\u001b[0m\u001b[0m__length__\u001b[0m\u001b[1;33m\u001b[0m\u001b[0m\n\u001b[0m",
      "\u001b[1;31mAttributeError\u001b[0m: 'list' object has no attribute '__length__'"
     ]
    }
   ],
   "source": [
    "len"
   ]
  },
  {
   "cell_type": "code",
   "execution_count": null,
   "metadata": {},
   "outputs": [],
   "source": []
  },
  {
   "cell_type": "code",
   "execution_count": null,
   "metadata": {},
   "outputs": [],
   "source": []
  },
  {
   "cell_type": "code",
   "execution_count": null,
   "metadata": {},
   "outputs": [],
   "source": []
  },
  {
   "cell_type": "code",
   "execution_count": null,
   "metadata": {},
   "outputs": [],
   "source": []
  },
  {
   "cell_type": "code",
   "execution_count": null,
   "metadata": {},
   "outputs": [],
   "source": []
  }
 ],
 "metadata": {
  "kernelspec": {
   "display_name": "bari_env",
   "language": "python",
   "name": "bari_env"
  },
  "language_info": {
   "codemirror_mode": {
    "name": "ipython",
    "version": 3
   },
   "file_extension": ".py",
   "mimetype": "text/x-python",
   "name": "python",
   "nbconvert_exporter": "python",
   "pygments_lexer": "ipython3",
   "version": "3.6.6"
  }
 },
 "nbformat": 4,
 "nbformat_minor": 2
}
