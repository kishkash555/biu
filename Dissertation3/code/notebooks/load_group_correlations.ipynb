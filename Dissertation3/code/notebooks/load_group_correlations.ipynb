{
 "cells": [
  {
   "cell_type": "code",
   "execution_count": 89,
   "metadata": {},
   "outputs": [],
   "source": [
    "import get_db_data as gdd\n",
    "import analyze_signal as anaz\n",
    "import numpy as np\n",
    "import pandas as pd\n",
    "import matplotlib.pyplot as plt\n",
    "from importlib import reload\n",
    "reload(gdd);\n",
    "reload(anaz);\n",
    "from sqlalchemy.engine.result import RowProxy\n",
    "import sqlalchemy as sql\n",
    "from numpy.linalg import norm\n",
    "from sklearn.linear_model import LinearRegression \n",
    "from decimal import Decimal"
   ]
  },
  {
   "cell_type": "code",
   "execution_count": 2,
   "metadata": {},
   "outputs": [],
   "source": [
    "con = gdd.get_db_data()"
   ]
  },
  {
   "cell_type": "code",
   "execution_count": 150,
   "metadata": {},
   "outputs": [],
   "source": [
    "def get_signal_triplets(groups, con):\n",
    "    for group_id in groups:\n",
    "        if type(group_id) == RowProxy:\n",
    "            group_id = group_id[0] #un-tuple\n",
    "        group_signals = list(con.get_signal_by_series_type_and_interp_type([group_id],2,4))[0]\n",
    "        yield reshape_group_result(group_signals)\n",
    "        \n",
    "\n",
    "def within_group_corr(triplets, detrend_signal=False):\n",
    "    for trip in triplets:\n",
    "        #print(trip)\n",
    "        signals = trip\n",
    "        if detrend_signal:\n",
    "           # print(\"de-trending\")\n",
    "            signals = [detrend(x) for x in signals]\n",
    "        corrs = np.corrcoef(signals)\n",
    "        corr_vals = [corrs[0,1], corrs[0,2], corrs[1,2]]\n",
    "        yield corr_vals\n",
    "\n",
    "        \n",
    "def groups_to_corr_df(groups,con):\n",
    "    group_signals =get_signal_triplets(groups,con)\n",
    "    group_corrs = within_group_corr(group_signals, True)\n",
    "    for gr, corr_vals in zip(groups, group_corrs):\n",
    "        for z, val in enumerate(corr_vals):\n",
    "            yield gr[0], z, val\n",
    "\n",
    "            \n",
    "def detrend(signal):\n",
    "    x = np.arange(len(signal)).reshape(-1,1)\n",
    "    y_hat = LinearRegression().fit(x,signal.reshape(-1,1)).predict(x)\n",
    "    return signal-y_hat.squeeze()\n",
    "\n",
    "\n",
    "def reshape_group_result(res):\n",
    "    #print(res)\n",
    "    _, ind = np.unique(res[:,0],return_index=True)\n",
    "    ind = list(ind)+[res.shape[0]]\n",
    "    return [res[ind[i]:ind[i+1],2] for i in range(len(ind)-1)]"
   ]
  },
  {
   "cell_type": "code",
   "execution_count": 6,
   "metadata": {},
   "outputs": [
    {
     "data": {
      "text/plain": [
       "<sqlalchemy.engine.result.ResultProxy at 0x7f700dec0c10>"
      ]
     },
     "execution_count": 6,
     "metadata": {},
     "output_type": "execute_result"
    }
   ],
   "source": [
    "con.con.execute(\"\"\"\n",
    "INSERT INTO correlation_series\n",
    "VALUES (null,2,4,null,null,true)\n",
    "\"\"\")"
   ]
  },
  {
   "cell_type": "code",
   "execution_count": 11,
   "metadata": {},
   "outputs": [],
   "source": [
    "groups = con.con.execute(\"\"\"\n",
    "SELECT group_id\n",
    "FROM participants\n",
    "GROUP BY group_id\n",
    "Having count(1)=3\"\"\").fetchall()"
   ]
  },
  {
   "cell_type": "code",
   "execution_count": 51,
   "metadata": {},
   "outputs": [],
   "source": [
    "csg_insert = sql.text(\"\"\"\n",
    "INSERT IGNORE INTO correlation_series_groups\n",
    "VALUES (null,1,:gr,null)\"\"\")\n",
    "\n",
    "csg_id = sql.text(\"\"\"\n",
    "SELECT correlation_group_id\n",
    "FROM correlation_series_groups\n",
    "WHERE corr_series_id=1\n",
    "AND group_id=:gr\n",
    "and group_id_1 IS NULL\n",
    "LIMIT 1\"\"\")\n",
    "\n",
    "cd_insert = sql.text(\"\"\"\n",
    "INSERT INTO correlation_data \n",
    "VALUES (null, 1, :cg_id, :data_ord, :data_val)\n",
    "\"\"\")"
   ]
  },
  {
   "cell_type": "code",
   "execution_count": 55,
   "metadata": {},
   "outputs": [],
   "source": [
    "df = pd.DataFrame(columns = ['correlation_series_id','correlation_group_id','data_ordinal','data_value'])"
   ]
  },
  {
   "cell_type": "code",
   "execution_count": 151,
   "metadata": {},
   "outputs": [
    {
     "name": "stdout",
     "output_type": "stream",
     "text": [
      "group 1001\n",
      "group 1001\n",
      "group 1001\n",
      "group 1004\n",
      "group 1004\n",
      "group 1004\n",
      "group 1005\n",
      "group 1005\n",
      "group 1005\n",
      "group 1006\n",
      "group 1006\n",
      "group 1006\n",
      "group 1007\n",
      "group 1007\n",
      "group 1007\n",
      "group 1008\n",
      "group 1008\n",
      "group 1008\n",
      "group 1009\n",
      "group 1009\n",
      "group 1009\n",
      "group 1010\n",
      "group 1010\n",
      "group 1010\n",
      "group 1011\n",
      "group 1011\n",
      "group 1011\n",
      "group 1012\n",
      "group 1012\n",
      "group 1012\n",
      "group 1013\n",
      "group 1013\n",
      "group 1013\n",
      "group 1014\n",
      "group 1014\n",
      "group 1014\n",
      "group 1016\n",
      "group 1016\n",
      "group 1016\n",
      "group 1019\n",
      "group 1019\n",
      "group 1019\n",
      "group 1020\n",
      "group 1020\n",
      "group 1020\n",
      "group 1022\n",
      "group 1022\n",
      "group 1022\n",
      "group 1023\n",
      "group 1023\n",
      "group 1023\n",
      "group 1024\n",
      "group 1024\n",
      "group 1024\n",
      "group 1025\n",
      "group 1025\n",
      "group 1025\n",
      "group 1026\n",
      "group 1026\n",
      "group 1026\n",
      "group 1027\n",
      "group 1027\n",
      "group 1027\n",
      "group 1028\n",
      "group 1028\n",
      "group 1028\n",
      "group 1029\n",
      "group 1029\n",
      "group 1029\n",
      "group 1030\n",
      "group 1030\n",
      "group 1030\n",
      "group 1031\n",
      "group 1031\n",
      "group 1031\n",
      "group 1032\n",
      "group 1032\n",
      "group 1032\n",
      "group 1033\n",
      "group 1033\n",
      "group 1033\n",
      "group 1034\n",
      "group 1034\n",
      "group 1034\n",
      "group 1035\n",
      "group 1035\n",
      "group 1035\n",
      "group 1036\n",
      "group 1036\n",
      "group 1036\n",
      "group 1037\n",
      "group 1037\n",
      "group 1037\n",
      "group 1038\n",
      "group 1038\n",
      "group 1038\n",
      "group 1039\n",
      "group 1039\n",
      "group 1039\n",
      "group 1040\n",
      "group 1040\n",
      "group 1040\n",
      "group 1041\n",
      "group 1041\n",
      "group 1041\n",
      "group 1042\n",
      "group 1042\n",
      "group 1042\n",
      "group 1043\n",
      "group 1043\n",
      "group 1043\n",
      "group 1044\n",
      "group 1044\n",
      "group 1044\n",
      "group 1045\n",
      "group 1045\n",
      "group 1045\n",
      "group 1046\n",
      "group 1046\n",
      "group 1046\n",
      "group 1047\n",
      "group 1047\n",
      "group 1047\n",
      "group 1048\n",
      "group 1048\n",
      "group 1048\n",
      "group 1049\n",
      "group 1049\n",
      "group 1049\n",
      "group 1050\n",
      "group 1050\n",
      "group 1050\n",
      "group 1051\n",
      "group 1051\n",
      "group 1051\n"
     ]
    }
   ],
   "source": [
    "rows =[]\n",
    "for gr, z, val in groups_to_corr_df(groups,con):\n",
    "    con.con.execute(csg_insert, gr=gr)\n",
    "    print(\"group {}\".format(gr))\n",
    "    cg_id = con.con.execute(csg_id, gr=gr).fetchall()[0][0]\n",
    "    rows.append({\n",
    "        'correlation_series_id': 1,\n",
    "        'correlation_group_id': cg_id,\n",
    "        'data_ordinal': z,\n",
    "        'data_value': Decimal(val)\n",
    "    })\n",
    "    #res2=con.con.execute(cd_insert, cg_id=cg_id, data_ord=z, data_val=Decimal(val))\n",
    "    "
   ]
  },
  {
   "cell_type": "code",
   "execution_count": 153,
   "metadata": {},
   "outputs": [
    {
     "data": {
      "text/html": [
       "<div>\n",
       "<style scoped>\n",
       "    .dataframe tbody tr th:only-of-type {\n",
       "        vertical-align: middle;\n",
       "    }\n",
       "\n",
       "    .dataframe tbody tr th {\n",
       "        vertical-align: top;\n",
       "    }\n",
       "\n",
       "    .dataframe thead th {\n",
       "        text-align: right;\n",
       "    }\n",
       "</style>\n",
       "<table border=\"1\" class=\"dataframe\">\n",
       "  <thead>\n",
       "    <tr style=\"text-align: right;\">\n",
       "      <th></th>\n",
       "      <th>correlation_series_id</th>\n",
       "      <th>correlation_group_id</th>\n",
       "      <th>data_ordinal</th>\n",
       "      <th>data_value</th>\n",
       "    </tr>\n",
       "  </thead>\n",
       "  <tbody>\n",
       "    <tr>\n",
       "      <th>0</th>\n",
       "      <td>1</td>\n",
       "      <td>1</td>\n",
       "      <td>0</td>\n",
       "      <td>-0.0152454411609797679111322210587786685209721...</td>\n",
       "    </tr>\n",
       "    <tr>\n",
       "      <th>1</th>\n",
       "      <td>1</td>\n",
       "      <td>1</td>\n",
       "      <td>1</td>\n",
       "      <td>0.42985565438233502844056488356727641075849533...</td>\n",
       "    </tr>\n",
       "    <tr>\n",
       "      <th>2</th>\n",
       "      <td>1</td>\n",
       "      <td>1</td>\n",
       "      <td>2</td>\n",
       "      <td>0.27752776025774189561090565803169738501310348...</td>\n",
       "    </tr>\n",
       "    <tr>\n",
       "      <th>3</th>\n",
       "      <td>1</td>\n",
       "      <td>11</td>\n",
       "      <td>0</td>\n",
       "      <td>0.08386017129292226701675616595821338705718517...</td>\n",
       "    </tr>\n",
       "    <tr>\n",
       "      <th>4</th>\n",
       "      <td>1</td>\n",
       "      <td>11</td>\n",
       "      <td>1</td>\n",
       "      <td>0.12848801782832691698033045213378500193357467...</td>\n",
       "    </tr>\n",
       "    <tr>\n",
       "      <th>...</th>\n",
       "      <td>...</td>\n",
       "      <td>...</td>\n",
       "      <td>...</td>\n",
       "      <td>...</td>\n",
       "    </tr>\n",
       "    <tr>\n",
       "      <th>130</th>\n",
       "      <td>1</td>\n",
       "      <td>296</td>\n",
       "      <td>1</td>\n",
       "      <td>0.13527484903567238427868346661853138357400894...</td>\n",
       "    </tr>\n",
       "    <tr>\n",
       "      <th>131</th>\n",
       "      <td>1</td>\n",
       "      <td>296</td>\n",
       "      <td>2</td>\n",
       "      <td>0.02280557715508369290291490472100122133269906...</td>\n",
       "    </tr>\n",
       "    <tr>\n",
       "      <th>132</th>\n",
       "      <td>1</td>\n",
       "      <td>299</td>\n",
       "      <td>0</td>\n",
       "      <td>-0.0198276162357206020558919590257573872804641...</td>\n",
       "    </tr>\n",
       "    <tr>\n",
       "      <th>133</th>\n",
       "      <td>1</td>\n",
       "      <td>299</td>\n",
       "      <td>1</td>\n",
       "      <td>0.06116512244004239373662556999988737516105175...</td>\n",
       "    </tr>\n",
       "    <tr>\n",
       "      <th>134</th>\n",
       "      <td>1</td>\n",
       "      <td>299</td>\n",
       "      <td>2</td>\n",
       "      <td>0.04699127925867906119261618869131780229508876...</td>\n",
       "    </tr>\n",
       "  </tbody>\n",
       "</table>\n",
       "<p>135 rows × 4 columns</p>\n",
       "</div>"
      ],
      "text/plain": [
       "    correlation_series_id correlation_group_id data_ordinal  \\\n",
       "0                       1                    1            0   \n",
       "1                       1                    1            1   \n",
       "2                       1                    1            2   \n",
       "3                       1                   11            0   \n",
       "4                       1                   11            1   \n",
       "..                    ...                  ...          ...   \n",
       "130                     1                  296            1   \n",
       "131                     1                  296            2   \n",
       "132                     1                  299            0   \n",
       "133                     1                  299            1   \n",
       "134                     1                  299            2   \n",
       "\n",
       "                                            data_value  \n",
       "0    -0.0152454411609797679111322210587786685209721...  \n",
       "1    0.42985565438233502844056488356727641075849533...  \n",
       "2    0.27752776025774189561090565803169738501310348...  \n",
       "3    0.08386017129292226701675616595821338705718517...  \n",
       "4    0.12848801782832691698033045213378500193357467...  \n",
       "..                                                 ...  \n",
       "130  0.13527484903567238427868346661853138357400894...  \n",
       "131  0.02280557715508369290291490472100122133269906...  \n",
       "132  -0.0198276162357206020558919590257573872804641...  \n",
       "133  0.06116512244004239373662556999988737516105175...  \n",
       "134  0.04699127925867906119261618869131780229508876...  \n",
       "\n",
       "[135 rows x 4 columns]"
      ]
     },
     "execution_count": 153,
     "metadata": {},
     "output_type": "execute_result"
    }
   ],
   "source": [
    "df=df.append(rows)\n",
    "df"
   ]
  },
  {
   "cell_type": "code",
   "execution_count": 160,
   "metadata": {},
   "outputs": [
    {
     "name": "stderr",
     "output_type": "stream",
     "text": [
      "/home/siegman/miniconda3/lib/python3.7/site-packages/pymysql/cursors.py:170: Warning: (1265, \"Data truncated for column 'data_value' at row 1\")\n",
      "  result = self._query(query)\n",
      "/home/siegman/miniconda3/lib/python3.7/site-packages/pymysql/cursors.py:170: Warning: (1265, \"Data truncated for column 'data_value' at row 2\")\n",
      "  result = self._query(query)\n",
      "/home/siegman/miniconda3/lib/python3.7/site-packages/pymysql/cursors.py:170: Warning: (1265, \"Data truncated for column 'data_value' at row 3\")\n",
      "  result = self._query(query)\n",
      "/home/siegman/miniconda3/lib/python3.7/site-packages/pymysql/cursors.py:170: Warning: (1265, \"Data truncated for column 'data_value' at row 4\")\n",
      "  result = self._query(query)\n",
      "/home/siegman/miniconda3/lib/python3.7/site-packages/pymysql/cursors.py:170: Warning: (1265, \"Data truncated for column 'data_value' at row 5\")\n",
      "  result = self._query(query)\n",
      "/home/siegman/miniconda3/lib/python3.7/site-packages/pymysql/cursors.py:170: Warning: (1265, \"Data truncated for column 'data_value' at row 6\")\n",
      "  result = self._query(query)\n",
      "/home/siegman/miniconda3/lib/python3.7/site-packages/pymysql/cursors.py:170: Warning: (1265, \"Data truncated for column 'data_value' at row 7\")\n",
      "  result = self._query(query)\n",
      "/home/siegman/miniconda3/lib/python3.7/site-packages/pymysql/cursors.py:170: Warning: (1265, \"Data truncated for column 'data_value' at row 8\")\n",
      "  result = self._query(query)\n",
      "/home/siegman/miniconda3/lib/python3.7/site-packages/pymysql/cursors.py:170: Warning: (1265, \"Data truncated for column 'data_value' at row 9\")\n",
      "  result = self._query(query)\n",
      "/home/siegman/miniconda3/lib/python3.7/site-packages/pymysql/cursors.py:170: Warning: (1265, \"Data truncated for column 'data_value' at row 10\")\n",
      "  result = self._query(query)\n",
      "/home/siegman/miniconda3/lib/python3.7/site-packages/pymysql/cursors.py:170: Warning: (1265, \"Data truncated for column 'data_value' at row 11\")\n",
      "  result = self._query(query)\n",
      "/home/siegman/miniconda3/lib/python3.7/site-packages/pymysql/cursors.py:170: Warning: (1265, \"Data truncated for column 'data_value' at row 12\")\n",
      "  result = self._query(query)\n",
      "/home/siegman/miniconda3/lib/python3.7/site-packages/pymysql/cursors.py:170: Warning: (1265, \"Data truncated for column 'data_value' at row 13\")\n",
      "  result = self._query(query)\n",
      "/home/siegman/miniconda3/lib/python3.7/site-packages/pymysql/cursors.py:170: Warning: (1265, \"Data truncated for column 'data_value' at row 14\")\n",
      "  result = self._query(query)\n",
      "/home/siegman/miniconda3/lib/python3.7/site-packages/pymysql/cursors.py:170: Warning: (1265, \"Data truncated for column 'data_value' at row 15\")\n",
      "  result = self._query(query)\n",
      "/home/siegman/miniconda3/lib/python3.7/site-packages/pymysql/cursors.py:170: Warning: (1265, \"Data truncated for column 'data_value' at row 16\")\n",
      "  result = self._query(query)\n",
      "/home/siegman/miniconda3/lib/python3.7/site-packages/pymysql/cursors.py:170: Warning: (1265, \"Data truncated for column 'data_value' at row 17\")\n",
      "  result = self._query(query)\n",
      "/home/siegman/miniconda3/lib/python3.7/site-packages/pymysql/cursors.py:170: Warning: (1265, \"Data truncated for column 'data_value' at row 18\")\n",
      "  result = self._query(query)\n",
      "/home/siegman/miniconda3/lib/python3.7/site-packages/pymysql/cursors.py:170: Warning: (1265, \"Data truncated for column 'data_value' at row 19\")\n",
      "  result = self._query(query)\n",
      "/home/siegman/miniconda3/lib/python3.7/site-packages/pymysql/cursors.py:170: Warning: (1265, \"Data truncated for column 'data_value' at row 20\")\n",
      "  result = self._query(query)\n",
      "/home/siegman/miniconda3/lib/python3.7/site-packages/pymysql/cursors.py:170: Warning: (1265, \"Data truncated for column 'data_value' at row 21\")\n",
      "  result = self._query(query)\n",
      "/home/siegman/miniconda3/lib/python3.7/site-packages/pymysql/cursors.py:170: Warning: (1265, \"Data truncated for column 'data_value' at row 22\")\n",
      "  result = self._query(query)\n",
      "/home/siegman/miniconda3/lib/python3.7/site-packages/pymysql/cursors.py:170: Warning: (1265, \"Data truncated for column 'data_value' at row 23\")\n",
      "  result = self._query(query)\n",
      "/home/siegman/miniconda3/lib/python3.7/site-packages/pymysql/cursors.py:170: Warning: (1265, \"Data truncated for column 'data_value' at row 24\")\n",
      "  result = self._query(query)\n",
      "/home/siegman/miniconda3/lib/python3.7/site-packages/pymysql/cursors.py:170: Warning: (1265, \"Data truncated for column 'data_value' at row 25\")\n",
      "  result = self._query(query)\n",
      "/home/siegman/miniconda3/lib/python3.7/site-packages/pymysql/cursors.py:170: Warning: (1265, \"Data truncated for column 'data_value' at row 26\")\n",
      "  result = self._query(query)\n",
      "/home/siegman/miniconda3/lib/python3.7/site-packages/pymysql/cursors.py:170: Warning: (1265, \"Data truncated for column 'data_value' at row 27\")\n",
      "  result = self._query(query)\n",
      "/home/siegman/miniconda3/lib/python3.7/site-packages/pymysql/cursors.py:170: Warning: (1265, \"Data truncated for column 'data_value' at row 28\")\n",
      "  result = self._query(query)\n",
      "/home/siegman/miniconda3/lib/python3.7/site-packages/pymysql/cursors.py:170: Warning: (1265, \"Data truncated for column 'data_value' at row 29\")\n",
      "  result = self._query(query)\n",
      "/home/siegman/miniconda3/lib/python3.7/site-packages/pymysql/cursors.py:170: Warning: (1265, \"Data truncated for column 'data_value' at row 30\")\n",
      "  result = self._query(query)\n",
      "/home/siegman/miniconda3/lib/python3.7/site-packages/pymysql/cursors.py:170: Warning: (1265, \"Data truncated for column 'data_value' at row 31\")\n",
      "  result = self._query(query)\n",
      "/home/siegman/miniconda3/lib/python3.7/site-packages/pymysql/cursors.py:170: Warning: (1265, \"Data truncated for column 'data_value' at row 32\")\n",
      "  result = self._query(query)\n",
      "/home/siegman/miniconda3/lib/python3.7/site-packages/pymysql/cursors.py:170: Warning: (1265, \"Data truncated for column 'data_value' at row 33\")\n",
      "  result = self._query(query)\n",
      "/home/siegman/miniconda3/lib/python3.7/site-packages/pymysql/cursors.py:170: Warning: (1265, \"Data truncated for column 'data_value' at row 34\")\n",
      "  result = self._query(query)\n",
      "/home/siegman/miniconda3/lib/python3.7/site-packages/pymysql/cursors.py:170: Warning: (1265, \"Data truncated for column 'data_value' at row 35\")\n",
      "  result = self._query(query)\n",
      "/home/siegman/miniconda3/lib/python3.7/site-packages/pymysql/cursors.py:170: Warning: (1265, \"Data truncated for column 'data_value' at row 36\")\n",
      "  result = self._query(query)\n",
      "/home/siegman/miniconda3/lib/python3.7/site-packages/pymysql/cursors.py:170: Warning: (1265, \"Data truncated for column 'data_value' at row 37\")\n",
      "  result = self._query(query)\n",
      "/home/siegman/miniconda3/lib/python3.7/site-packages/pymysql/cursors.py:170: Warning: (1265, \"Data truncated for column 'data_value' at row 38\")\n",
      "  result = self._query(query)\n",
      "/home/siegman/miniconda3/lib/python3.7/site-packages/pymysql/cursors.py:170: Warning: (1265, \"Data truncated for column 'data_value' at row 39\")\n",
      "  result = self._query(query)\n",
      "/home/siegman/miniconda3/lib/python3.7/site-packages/pymysql/cursors.py:170: Warning: (1265, \"Data truncated for column 'data_value' at row 40\")\n",
      "  result = self._query(query)\n",
      "/home/siegman/miniconda3/lib/python3.7/site-packages/pymysql/cursors.py:170: Warning: (1265, \"Data truncated for column 'data_value' at row 41\")\n",
      "  result = self._query(query)\n",
      "/home/siegman/miniconda3/lib/python3.7/site-packages/pymysql/cursors.py:170: Warning: (1265, \"Data truncated for column 'data_value' at row 42\")\n",
      "  result = self._query(query)\n",
      "/home/siegman/miniconda3/lib/python3.7/site-packages/pymysql/cursors.py:170: Warning: (1265, \"Data truncated for column 'data_value' at row 43\")\n",
      "  result = self._query(query)\n",
      "/home/siegman/miniconda3/lib/python3.7/site-packages/pymysql/cursors.py:170: Warning: (1265, \"Data truncated for column 'data_value' at row 44\")\n",
      "  result = self._query(query)\n",
      "/home/siegman/miniconda3/lib/python3.7/site-packages/pymysql/cursors.py:170: Warning: (1265, \"Data truncated for column 'data_value' at row 45\")\n",
      "  result = self._query(query)\n",
      "/home/siegman/miniconda3/lib/python3.7/site-packages/pymysql/cursors.py:170: Warning: (1265, \"Data truncated for column 'data_value' at row 46\")\n",
      "  result = self._query(query)\n",
      "/home/siegman/miniconda3/lib/python3.7/site-packages/pymysql/cursors.py:170: Warning: (1265, \"Data truncated for column 'data_value' at row 47\")\n",
      "  result = self._query(query)\n",
      "/home/siegman/miniconda3/lib/python3.7/site-packages/pymysql/cursors.py:170: Warning: (1265, \"Data truncated for column 'data_value' at row 48\")\n",
      "  result = self._query(query)\n",
      "/home/siegman/miniconda3/lib/python3.7/site-packages/pymysql/cursors.py:170: Warning: (1265, \"Data truncated for column 'data_value' at row 49\")\n",
      "  result = self._query(query)\n",
      "/home/siegman/miniconda3/lib/python3.7/site-packages/pymysql/cursors.py:170: Warning: (1265, \"Data truncated for column 'data_value' at row 50\")\n",
      "  result = self._query(query)\n",
      "/home/siegman/miniconda3/lib/python3.7/site-packages/pymysql/cursors.py:170: Warning: (1265, \"Data truncated for column 'data_value' at row 51\")\n",
      "  result = self._query(query)\n",
      "/home/siegman/miniconda3/lib/python3.7/site-packages/pymysql/cursors.py:170: Warning: (1265, \"Data truncated for column 'data_value' at row 52\")\n",
      "  result = self._query(query)\n",
      "/home/siegman/miniconda3/lib/python3.7/site-packages/pymysql/cursors.py:170: Warning: (1265, \"Data truncated for column 'data_value' at row 53\")\n",
      "  result = self._query(query)\n",
      "/home/siegman/miniconda3/lib/python3.7/site-packages/pymysql/cursors.py:170: Warning: (1265, \"Data truncated for column 'data_value' at row 54\")\n",
      "  result = self._query(query)\n",
      "/home/siegman/miniconda3/lib/python3.7/site-packages/pymysql/cursors.py:170: Warning: (1265, \"Data truncated for column 'data_value' at row 55\")\n",
      "  result = self._query(query)\n",
      "/home/siegman/miniconda3/lib/python3.7/site-packages/pymysql/cursors.py:170: Warning: (1265, \"Data truncated for column 'data_value' at row 56\")\n",
      "  result = self._query(query)\n",
      "/home/siegman/miniconda3/lib/python3.7/site-packages/pymysql/cursors.py:170: Warning: (1265, \"Data truncated for column 'data_value' at row 57\")\n",
      "  result = self._query(query)\n",
      "/home/siegman/miniconda3/lib/python3.7/site-packages/pymysql/cursors.py:170: Warning: (1265, \"Data truncated for column 'data_value' at row 58\")\n",
      "  result = self._query(query)\n",
      "/home/siegman/miniconda3/lib/python3.7/site-packages/pymysql/cursors.py:170: Warning: (1265, \"Data truncated for column 'data_value' at row 59\")\n",
      "  result = self._query(query)\n",
      "/home/siegman/miniconda3/lib/python3.7/site-packages/pymysql/cursors.py:170: Warning: (1265, \"Data truncated for column 'data_value' at row 60\")\n",
      "  result = self._query(query)\n",
      "/home/siegman/miniconda3/lib/python3.7/site-packages/pymysql/cursors.py:170: Warning: (1265, \"Data truncated for column 'data_value' at row 61\")\n",
      "  result = self._query(query)\n",
      "/home/siegman/miniconda3/lib/python3.7/site-packages/pymysql/cursors.py:170: Warning: (1265, \"Data truncated for column 'data_value' at row 62\")\n",
      "  result = self._query(query)\n",
      "/home/siegman/miniconda3/lib/python3.7/site-packages/pymysql/cursors.py:170: Warning: (1265, \"Data truncated for column 'data_value' at row 63\")\n",
      "  result = self._query(query)\n",
      "/home/siegman/miniconda3/lib/python3.7/site-packages/pymysql/cursors.py:170: Warning: (1265, \"Data truncated for column 'data_value' at row 64\")\n",
      "  result = self._query(query)\n"
     ]
    }
   ],
   "source": [
    "df.to_sql('correlation_data',con.con,if_exists='append',index=False)"
   ]
  },
  {
   "cell_type": "code",
   "execution_count": 147,
   "metadata": {},
   "outputs": [
    {
     "ename": "IndexError",
     "evalue": "list index out of range",
     "output_type": "error",
     "traceback": [
      "\u001b[0;31m---------------------------------------------------------------------------\u001b[0m",
      "\u001b[0;31mIndexError\u001b[0m                                Traceback (most recent call last)",
      "\u001b[0;32m<ipython-input-147-f3cdd08505c9>\u001b[0m in \u001b[0;36m<module>\u001b[0;34m\u001b[0m\n\u001b[0;32m----> 1\u001b[0;31m \u001b[0ma\u001b[0m\u001b[0;34m[\u001b[0m\u001b[0;36m3\u001b[0m\u001b[0;34m]\u001b[0m\u001b[0;34m.\u001b[0m\u001b[0mshape\u001b[0m\u001b[0;34m\u001b[0m\u001b[0;34m\u001b[0m\u001b[0m\n\u001b[0m",
      "\u001b[0;31mIndexError\u001b[0m: list index out of range"
     ]
    }
   ],
   "source": [
    "a[3].shape"
   ]
  },
  {
   "cell_type": "code",
   "execution_count": 48,
   "metadata": {},
   "outputs": [
    {
     "data": {
      "text/plain": [
       "Decimal('3.141599999999999948130380289512686431407928466796875')"
      ]
     },
     "execution_count": 48,
     "metadata": {},
     "output_type": "execute_result"
    }
   ],
   "source": [
    "Decimal(round(np.pi,4))"
   ]
  },
  {
   "cell_type": "code",
   "execution_count": 57,
   "metadata": {},
   "outputs": [
    {
     "data": {
      "text/html": [
       "<div>\n",
       "<style scoped>\n",
       "    .dataframe tbody tr th:only-of-type {\n",
       "        vertical-align: middle;\n",
       "    }\n",
       "\n",
       "    .dataframe tbody tr th {\n",
       "        vertical-align: top;\n",
       "    }\n",
       "\n",
       "    .dataframe thead th {\n",
       "        text-align: right;\n",
       "    }\n",
       "</style>\n",
       "<table border=\"1\" class=\"dataframe\">\n",
       "  <thead>\n",
       "    <tr style=\"text-align: right;\">\n",
       "      <th></th>\n",
       "      <th>0</th>\n",
       "      <th>correlation_group_id</th>\n",
       "      <th>correlation_series_id</th>\n",
       "      <th>data_ordinal</th>\n",
       "      <th>data_value</th>\n",
       "    </tr>\n",
       "  </thead>\n",
       "  <tbody>\n",
       "    <tr>\n",
       "      <th>0</th>\n",
       "      <td>1.0</td>\n",
       "      <td>NaN</td>\n",
       "      <td>NaN</td>\n",
       "      <td>NaN</td>\n",
       "      <td>NaN</td>\n",
       "    </tr>\n",
       "    <tr>\n",
       "      <th>1</th>\n",
       "      <td>2.0</td>\n",
       "      <td>NaN</td>\n",
       "      <td>NaN</td>\n",
       "      <td>NaN</td>\n",
       "      <td>NaN</td>\n",
       "    </tr>\n",
       "    <tr>\n",
       "      <th>2</th>\n",
       "      <td>3.0</td>\n",
       "      <td>NaN</td>\n",
       "      <td>NaN</td>\n",
       "      <td>NaN</td>\n",
       "      <td>NaN</td>\n",
       "    </tr>\n",
       "    <tr>\n",
       "      <th>3</th>\n",
       "      <td>4.0</td>\n",
       "      <td>NaN</td>\n",
       "      <td>NaN</td>\n",
       "      <td>NaN</td>\n",
       "      <td>NaN</td>\n",
       "    </tr>\n",
       "  </tbody>\n",
       "</table>\n",
       "</div>"
      ],
      "text/plain": [
       "     0 correlation_group_id correlation_series_id data_ordinal data_value\n",
       "0  1.0                  NaN                   NaN          NaN        NaN\n",
       "1  2.0                  NaN                   NaN          NaN        NaN\n",
       "2  3.0                  NaN                   NaN          NaN        NaN\n",
       "3  4.0                  NaN                   NaN          NaN        NaN"
      ]
     },
     "execution_count": 57,
     "metadata": {},
     "output_type": "execute_result"
    }
   ],
   "source": [
    "df.append([1,2,3,4])"
   ]
  },
  {
   "cell_type": "code",
   "execution_count": 58,
   "metadata": {},
   "outputs": [
    {
     "data": {
      "text/html": [
       "<div>\n",
       "<style scoped>\n",
       "    .dataframe tbody tr th:only-of-type {\n",
       "        vertical-align: middle;\n",
       "    }\n",
       "\n",
       "    .dataframe tbody tr th {\n",
       "        vertical-align: top;\n",
       "    }\n",
       "\n",
       "    .dataframe thead th {\n",
       "        text-align: right;\n",
       "    }\n",
       "</style>\n",
       "<table border=\"1\" class=\"dataframe\">\n",
       "  <thead>\n",
       "    <tr style=\"text-align: right;\">\n",
       "      <th></th>\n",
       "      <th>correlation_series_id</th>\n",
       "      <th>correlation_group_id</th>\n",
       "      <th>data_ordinal</th>\n",
       "      <th>data_value</th>\n",
       "    </tr>\n",
       "  </thead>\n",
       "  <tbody>\n",
       "  </tbody>\n",
       "</table>\n",
       "</div>"
      ],
      "text/plain": [
       "Empty DataFrame\n",
       "Columns: [correlation_series_id, correlation_group_id, data_ordinal, data_value]\n",
       "Index: []"
      ]
     },
     "execution_count": 58,
     "metadata": {},
     "output_type": "execute_result"
    }
   ],
   "source": [
    "df"
   ]
  },
  {
   "cell_type": "code",
   "execution_count": 62,
   "metadata": {},
   "outputs": [],
   "source": [
    "\n",
    "g1020 = list(con.get_signal_by_series_type_and_interp_type([158,159,160],2,4))\n"
   ]
  },
  {
   "cell_type": "code",
   "execution_count": 103,
   "metadata": {},
   "outputs": [],
   "source": [
    "\n",
    "gp= list(con.get_signal_by_series_type_and_interp_type([1016],2,4))\n"
   ]
  },
  {
   "cell_type": "code",
   "execution_count": 66,
   "metadata": {},
   "outputs": [
    {
     "data": {
      "text/plain": [
       "[3]"
      ]
     },
     "execution_count": 66,
     "metadata": {},
     "output_type": "execute_result"
    }
   ],
   "source": [
    "[len(h[1]) for h in gp]"
   ]
  },
  {
   "cell_type": "code",
   "execution_count": 104,
   "metadata": {},
   "outputs": [
    {
     "data": {
      "text/plain": [
       "[array([[146.     ,   2.25   ,   0.66349],\n",
       "        [146.     ,   2.5    ,   0.66605],\n",
       "        [146.     ,   2.75   ,   0.6648 ],\n",
       "        ...,\n",
       "        [148.     , 287.75   ,   0.51924],\n",
       "        [148.     , 288.     ,   0.52103],\n",
       "        [148.     , 288.25   ,   0.52161]])]"
      ]
     },
     "execution_count": 104,
     "metadata": {},
     "output_type": "execute_result"
    }
   ],
   "source": [
    "gp"
   ]
  },
  {
   "cell_type": "code",
   "execution_count": 123,
   "metadata": {},
   "outputs": [],
   "source": [
    "def reshape_group_result(res):\n",
    "    res=res[0]\n",
    "    _, ind = np.unique(res[:,0],return_index=True)\n",
    "    ind = list(ind)+[res.shape[0]]\n",
    "    return np.vstack([res[ind[i]:ind[i+1],2] for i in range(len(ind)-1)]).T"
   ]
  },
  {
   "cell_type": "code",
   "execution_count": 124,
   "metadata": {},
   "outputs": [
    {
     "name": "stdout",
     "output_type": "stream",
     "text": [
      "[   0 1145 2290]\n",
      "[0, 1145, 2290, 3437]\n"
     ]
    },
    {
     "data": {
      "text/plain": [
       "array([[0.66349, 0.67993, 0.52406],\n",
       "       [0.66605, 0.6805 , 0.52969],\n",
       "       [0.6648 , 0.67925, 0.53713],\n",
       "       ...,\n",
       "       [0.64535, 0.71506, 0.51924],\n",
       "       [0.63103, 0.70503, 0.52103],\n",
       "       [0.60919, 0.70549, 0.52161]])"
      ]
     },
     "execution_count": 124,
     "metadata": {},
     "output_type": "execute_result"
    }
   ],
   "source": [
    "reshape_group_result(gp).T"
   ]
  },
  {
   "cell_type": "code",
   "execution_count": 125,
   "metadata": {},
   "outputs": [
    {
     "data": {
      "text/plain": [
       "3435"
      ]
     },
     "execution_count": 125,
     "metadata": {},
     "output_type": "execute_result"
    }
   ],
   "source": [
    "gp[0].shape[0]"
   ]
  },
  {
   "cell_type": "code",
   "execution_count": 107,
   "metadata": {},
   "outputs": [],
   "source": [
    "par, ind = np.unique(gp[0][:,0],return_index=True)"
   ]
  },
  {
   "cell_type": "code",
   "execution_count": 117,
   "metadata": {},
   "outputs": [],
   "source": [
    "_, ind = np.unique(gp[0][:,0],return_index=True)"
   ]
  },
  {
   "cell_type": "code",
   "execution_count": 118,
   "metadata": {},
   "outputs": [
    {
     "data": {
      "text/plain": [
       "array([   0, 1145, 2290])"
      ]
     },
     "execution_count": 118,
     "metadata": {},
     "output_type": "execute_result"
    }
   ],
   "source": [
    "ind"
   ]
  },
  {
   "cell_type": "code",
   "execution_count": 82,
   "metadata": {},
   "outputs": [
    {
     "data": {
      "text/plain": [
       "[<matplotlib.lines.Line2D at 0x7f6ff893b690>]"
      ]
     },
     "execution_count": 82,
     "metadata": {},
     "output_type": "execute_result"
    },
    {
     "data": {
      "image/png": "[encoded data removed]",
      "text/plain": [
       "<Figure size 432x288 with 1 Axes>"
      ]
     },
     "metadata": {
      "needs_background": "light"
     },
     "output_type": "display_data"
    }
   ],
   "source": [
    "plt.plot(gp[0][:,1])"
   ]
  },
  {
   "cell_type": "code",
   "execution_count": 83,
   "metadata": {},
   "outputs": [
    {
     "data": {
      "text/plain": [
       "array([-2.78e+02, -2.76e+02,  2.50e-01])"
      ]
     },
     "execution_count": 83,
     "metadata": {},
     "output_type": "execute_result"
    }
   ],
   "source": [
    "np.unique(np.diff(gp[0][:,1]))"
   ]
  },
  {
   "cell_type": "code",
   "execution_count": 87,
   "metadata": {},
   "outputs": [
    {
     "data": {
      "text/plain": [
       "(2.5, 2.5, 2.5)"
      ]
     },
     "execution_count": 87,
     "metadata": {},
     "output_type": "execute_result"
    }
   ],
   "source": [
    "gp0 = gp[0]\n",
    "np.min(gp0[:1105,1]),np.min(gp0[1105:2218,1]),np.min(gp0[2218:,1])"
   ]
  },
  {
   "cell_type": "code",
   "execution_count": 88,
   "metadata": {},
   "outputs": [
    {
     "data": {
      "text/plain": [
       "(278.5, 280.5, 278.5)"
      ]
     },
     "execution_count": 88,
     "metadata": {},
     "output_type": "execute_result"
    }
   ],
   "source": [
    "np.max(gp0[:1105,1]),np.max(gp0[1105:2218,1]),np.max(gp0[2218:,1])"
   ]
  },
  {
   "cell_type": "code",
   "execution_count": 126,
   "metadata": {},
   "outputs": [
    {
     "data": {
      "text/plain": [
       "array([0, 1, 2])"
      ]
     },
     "execution_count": 126,
     "metadata": {},
     "output_type": "execute_result"
    }
   ],
   "source": [
    "np.arange(3)[:3]"
   ]
  },
  {
   "cell_type": "code",
   "execution_count": null,
   "metadata": {},
   "outputs": [],
   "source": []
  }
 ],
 "metadata": {
  "kernelspec": {
   "display_name": "Python 3.7.4 64-bit ('base': conda)",
   "language": "python",
   "name": "python37464bitbaseconda865b03b3ea5d4f4bb8519af201560b69"
  },
  "language_info": {
   "codemirror_mode": {
    "name": "ipython",
    "version": 3
   },
   "file_extension": ".py",
   "mimetype": "text/x-python",
   "name": "python",
   "nbconvert_exporter": "python",
   "pygments_lexer": "ipython3",
   "version": "3.7.4"
  }
 },
 "nbformat": 4,
 "nbformat_minor": 4
}
