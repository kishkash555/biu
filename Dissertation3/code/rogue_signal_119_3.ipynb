{
 "cells": [
  {
   "cell_type": "code",
   "execution_count": 22,
   "metadata": {},
   "outputs": [
    {
     "data": {
      "text/plain": [
       "<module 'loader' from '/home/siegman/Documents/Shahar/BarIlan/Dissertation3/code/loader.py'>"
      ]
     },
     "execution_count": 22,
     "metadata": {},
     "output_type": "execute_result"
    }
   ],
   "source": [
    "#import sparse_ae as sae\n",
    "import time\n",
    "from importlib import reload\n",
    "from scipy.linalg import norm\n",
    "import loader\n",
    "import pandas as pd\n",
    "import matplotlib.pyplot as plt\n",
    "reload(loader)\n",
    "#import sqlalchemy as sql"
   ]
  },
  {
   "cell_type": "code",
   "execution_count": 11,
   "metadata": {},
   "outputs": [],
   "source": [
    "con = loader.engine.connect()"
   ]
  },
  {
   "cell_type": "code",
   "execution_count": 17,
   "metadata": {},
   "outputs": [],
   "source": [
    "data = loader.loader(con,split=True)\n"
   ]
  },
  {
   "cell_type": "code",
   "execution_count": 18,
   "metadata": {},
   "outputs": [],
   "source": [
    "t1 = data.generator(training=True)\n",
    "t2 = data.generator(training=False)"
   ]
  },
  {
   "cell_type": "code",
   "execution_count": 19,
   "metadata": {},
   "outputs": [
    {
     "data": {
      "text/plain": [
       "729"
      ]
     },
     "execution_count": 19,
     "metadata": {},
     "output_type": "execute_result"
    }
   ],
   "source": [
    "len(list(t1))"
   ]
  },
  {
   "cell_type": "code",
   "execution_count": 20,
   "metadata": {},
   "outputs": [
    {
     "data": {
      "text/plain": [
       "212"
      ]
     },
     "execution_count": 20,
     "metadata": {},
     "output_type": "execute_result"
    }
   ],
   "source": [
    "len(list(t2))"
   ]
  },
  {
   "cell_type": "code",
   "execution_count": 23,
   "metadata": {},
   "outputs": [],
   "source": [
    "all_data = pd.read_pickle('all_data.pkl')"
   ]
  },
  {
   "cell_type": "code",
   "execution_count": 25,
   "metadata": {},
   "outputs": [
    {
     "data": {
      "text/html": [
       "<div>\n",
       "<style scoped>\n",
       "    .dataframe tbody tr th:only-of-type {\n",
       "        vertical-align: middle;\n",
       "    }\n",
       "\n",
       "    .dataframe tbody tr th {\n",
       "        vertical-align: top;\n",
       "    }\n",
       "\n",
       "    .dataframe thead th {\n",
       "        text-align: right;\n",
       "    }\n",
       "</style>\n",
       "<table border=\"1\" class=\"dataframe\">\n",
       "  <thead>\n",
       "    <tr style=\"text-align: right;\">\n",
       "      <th></th>\n",
       "      <th>signal_id</th>\n",
       "      <th>data_time</th>\n",
       "      <th>data_ordinal</th>\n",
       "      <th>data_value</th>\n",
       "    </tr>\n",
       "  </thead>\n",
       "  <tbody>\n",
       "    <tr>\n",
       "      <th>45688</th>\n",
       "      <td>119_3</td>\n",
       "      <td>1.75</td>\n",
       "      <td>7</td>\n",
       "      <td>0.72504</td>\n",
       "    </tr>\n",
       "    <tr>\n",
       "      <th>45689</th>\n",
       "      <td>119_3</td>\n",
       "      <td>2.00</td>\n",
       "      <td>8</td>\n",
       "      <td>0.71818</td>\n",
       "    </tr>\n",
       "    <tr>\n",
       "      <th>45690</th>\n",
       "      <td>119_3</td>\n",
       "      <td>2.25</td>\n",
       "      <td>9</td>\n",
       "      <td>0.75465</td>\n",
       "    </tr>\n",
       "    <tr>\n",
       "      <th>45691</th>\n",
       "      <td>119_3</td>\n",
       "      <td>2.50</td>\n",
       "      <td>10</td>\n",
       "      <td>0.79962</td>\n",
       "    </tr>\n",
       "    <tr>\n",
       "      <th>45692</th>\n",
       "      <td>119_3</td>\n",
       "      <td>2.75</td>\n",
       "      <td>11</td>\n",
       "      <td>0.80406</td>\n",
       "    </tr>\n",
       "    <tr>\n",
       "      <th>...</th>\n",
       "      <td>...</td>\n",
       "      <td>...</td>\n",
       "      <td>...</td>\n",
       "      <td>...</td>\n",
       "    </tr>\n",
       "    <tr>\n",
       "      <th>46943</th>\n",
       "      <td>119_3</td>\n",
       "      <td>315.50</td>\n",
       "      <td>1262</td>\n",
       "      <td>167.76598</td>\n",
       "    </tr>\n",
       "    <tr>\n",
       "      <th>46944</th>\n",
       "      <td>119_3</td>\n",
       "      <td>315.75</td>\n",
       "      <td>1263</td>\n",
       "      <td>167.76598</td>\n",
       "    </tr>\n",
       "    <tr>\n",
       "      <th>46945</th>\n",
       "      <td>119_3</td>\n",
       "      <td>316.00</td>\n",
       "      <td>1264</td>\n",
       "      <td>167.76598</td>\n",
       "    </tr>\n",
       "    <tr>\n",
       "      <th>46946</th>\n",
       "      <td>119_3</td>\n",
       "      <td>316.25</td>\n",
       "      <td>1265</td>\n",
       "      <td>167.76598</td>\n",
       "    </tr>\n",
       "    <tr>\n",
       "      <th>46947</th>\n",
       "      <td>119_3</td>\n",
       "      <td>316.50</td>\n",
       "      <td>1266</td>\n",
       "      <td>167.76598</td>\n",
       "    </tr>\n",
       "  </tbody>\n",
       "</table>\n",
       "<p>1260 rows × 4 columns</p>\n",
       "</div>"
      ],
      "text/plain": [
       "      signal_id  data_time  data_ordinal  data_value\n",
       "45688     119_3       1.75             7     0.72504\n",
       "45689     119_3       2.00             8     0.71818\n",
       "45690     119_3       2.25             9     0.75465\n",
       "45691     119_3       2.50            10     0.79962\n",
       "45692     119_3       2.75            11     0.80406\n",
       "...         ...        ...           ...         ...\n",
       "46943     119_3     315.50          1262   167.76598\n",
       "46944     119_3     315.75          1263   167.76598\n",
       "46945     119_3     316.00          1264   167.76598\n",
       "46946     119_3     316.25          1265   167.76598\n",
       "46947     119_3     316.50          1266   167.76598\n",
       "\n",
       "[1260 rows x 4 columns]"
      ]
     },
     "execution_count": 25,
     "metadata": {},
     "output_type": "execute_result"
    }
   ],
   "source": [
    "all_data[all_data.signal_id=='119_3']"
   ]
  },
  {
   "cell_type": "code",
   "execution_count": 26,
   "metadata": {},
   "outputs": [
    {
     "data": {
      "text/plain": [
       "[<matplotlib.lines.Line2D at 0x7fa735eaf190>]"
      ]
     },
     "execution_count": 26,
     "metadata": {},
     "output_type": "execute_result"
    },
    {
     "data": {
      "image/png": "[encoded data removed]",
      "text/plain": [
       "<Figure size 432x288 with 1 Axes>"
      ]
     },
     "metadata": {
      "needs_background": "light"
     },
     "output_type": "display_data"
    }
   ],
   "source": [
    "x = all_data[all_data.signal_id=='119_3'].data_value.values\n",
    "plt.plot(x)"
   ]
  },
  {
   "cell_type": "code",
   "execution_count": null,
   "metadata": {},
   "outputs": [],
   "source": []
  }
 ],
 "metadata": {
  "kernelspec": {
   "display_name": "Python 3.7.4 64-bit ('base': conda)",
   "language": "python",
   "name": "python37464bitbaseconda865b03b3ea5d4f4bb8519af201560b69"
  },
  "language_info": {
   "codemirror_mode": {
    "name": "ipython",
    "version": 3
   },
   "file_extension": ".py",
   "mimetype": "text/x-python",
   "name": "python",
   "nbconvert_exporter": "python",
   "pygments_lexer": "ipython3",
   "version": "3.7.7"
  }
 },
 "nbformat": 4,
 "nbformat_minor": 4
}
