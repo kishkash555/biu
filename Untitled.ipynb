{
 "cells": [
  {
   "cell_type": "code",
   "execution_count": 1,
   "metadata": {},
   "outputs": [],
   "source": [
    "import numpy as np"
   ]
  },
  {
   "cell_type": "code",
   "execution_count": 26,
   "metadata": {},
   "outputs": [],
   "source": [
    "import numpy as np\n",
    "\n",
    "STUDENT={'name': 'Shahar Siegman',\n",
    "         'ID': '011862141'}\n",
    "\n",
    "def gradient_check(f, x):\n",
    "    \"\"\" \n",
    "    Gradient check for a function f \n",
    "    - f should be a function that takes a single argument and outputs the cost and its gradients\n",
    "    - x is the point (numpy array) to check the gradient at\n",
    "    \"\"\" \n",
    "    fx, grad = f(x) # Evaluate function value at original point\n",
    "    h = 1e-4\n",
    "\n",
    "    # Iterate over all indexes in x\n",
    "    it = np.nditer(x, flags=['multi_index'], op_flags=['readwrite'])\n",
    "    while not it.finished:\n",
    "        ix = it.multi_index\n",
    "\n",
    "        ### modify x[ix] with h defined above to compute the numerical gradient.\n",
    "        ### if you change x, make sure to return it back to its original state for the next iteration.\n",
    "        print(\"ix: {} ; x[ix]: {}\".format(ix, x[ix]))\n",
    "        v = x[ix] \n",
    "        x[ix] = v + h/2\n",
    "        f2,_ = f(x)\n",
    "        x[ix] = v - h/2\n",
    "        f1,_ = f(x)\n",
    "        x[ix] = v\n",
    "        print(\"f1: {}, f2: {}\".format(f1,f2))\n",
    "        numeric_gradient = (f2-f1)/h\n",
    "        # Compare gradients\n",
    "        reldiff = abs(numeric_gradient - grad[ix]) / max(1, abs(numeric_gradient), abs(grad[ix]))\n",
    "        print(\"gradient: {}, numeric gradient: {}, reldiff: {}\".format(grad[ix],numeric_gradient, reldiff))\n",
    "        if reldiff > 1e-5:\n",
    "            print(\"Gradient check failed.\")\n",
    "            print(\"First gradient error found at index %s\" % str(ix))\n",
    "            print(\"Your gradient: %f \\t Numerical gradient: %f\" % (grad[ix], numeric_gradient))\n",
    "            return\n",
    "    \n",
    "        it.iternext() # Step to next index\n",
    "\n",
    "    print(\"Gradient check passed!\")\n",
    "\n",
    "def sanity_check():\n",
    "    \"\"\"\n",
    "    Some basic sanity checks.\n",
    "    \"\"\"\n",
    "    quad = lambda x: (np.sum(x ** 2), x * 2)\n",
    "\n",
    "    print(\"Running sanity checks...\")\n",
    "    gradient_check(quad, np.array(123.456))      # scalar test\n",
    "    x = np.random.randn(3,)\n",
    "    print(\"x is {}\".format(x))\n",
    "    gradient_check(quad, x)    # 1-D test\n",
    "    gradient_check(quad, np.random.randn(4,5))   # 2-D test\n",
    "    print(\"\")\n",
    "\n",
    "\n",
    "    "
   ]
  },
  {
   "cell_type": "code",
   "execution_count": 27,
   "metadata": {},
   "outputs": [
    {
     "name": "stdout",
     "output_type": "stream",
     "text": [
      "Running sanity checks...\n",
      "ix: () ; x[ix]: 123.456\n",
      "f1: 15241.371590402501, f2: 15241.396281602501\n",
      "gradient: 246.912, numeric gradient: 246.91200000233948, reldiff: 9.474939121317225e-12\n",
      "Gradient check passed!\n",
      "x is [ 0.06052824 -1.54810045 -1.35322636]\n",
      "ix: (0,) ; x[ix]: 0.06052824268702437\n",
      "f1: 4.23149418848279, f2: 4.231506294131328\n",
      "gradient: 0.12105648537404874, numeric gradient: 0.12105648537819036, reldiff: 4.141617604425107e-12\n",
      "ix: (1,) ; x[ix]: -1.548100447943509\n",
      "f1: 4.231655051351853, f2: 4.231345431262264\n",
      "gradient: -3.096200895887018, numeric gradient: -3.0962008958912435, reldiff: 1.3647398776128285e-12\n",
      "ix: (2,) ; x[ix]: -1.3532263571632746\n",
      "f1: 4.231635563942776, f2: 4.231364918671343\n",
      "gradient: -2.706452714326549, numeric gradient: -2.7064527143316752, reldiff: 1.89403706266677e-12\n",
      "Gradient check passed!\n",
      "ix: (0, 0) ; x[ix]: 0.08137524138833885\n",
      "f1: 21.653405524138424, f2: 21.653421799186702\n",
      "gradient: 0.1627504827766777, numeric gradient: 0.16275048277947235, reldiff: 2.794653397586444e-12\n",
      "ix: (0, 1) ; x[ix]: -1.690618113199233\n",
      "f1: 21.653582723473882, f2: 21.65324459985124\n",
      "gradient: -3.381236226398466, numeric gradient: -3.3812362264029616, reldiff: 1.3295477660531923e-12\n",
      "ix: (0, 2) ; x[ix]: 0.04356689702109637\n",
      "f1: 21.65340930497286, f2: 21.653418018352266\n",
      "gradient: 0.08713379404219274, numeric gradient: 0.08713379404667876, reldiff: 4.486022664451639e-12\n",
      "ix: (0, 3) ; x[ix]: -0.5307294858240161\n",
      "f1: 21.653466734611143, f2: 21.65336058871398\n",
      "gradient: -1.0614589716480323, numeric gradient: -1.0614589716340106, reldiff: 1.3209811294011375e-11\n",
      "ix: (0, 4) ; x[ix]: -0.44041710572693954\n",
      "f1: 21.653457703373135, f2: 21.65336961995199\n",
      "gradient: -0.8808342114538791, numeric gradient: -0.8808342114363654, reldiff: 1.7513657191159382e-11\n",
      "ix: (1, 0) ; x[ix]: -0.34697941394615284\n",
      "f1: 21.653448359603956, f2: 21.653378963721167\n",
      "gradient: -0.6939588278923057, numeric gradient: -0.6939588278953579, reldiff: 3.0522251392994804e-12\n",
      "ix: (1, 1) ; x[ix]: 0.18931696698968464\n",
      "f1: 21.653394729965864, f2: 21.653432593359263\n",
      "gradient: 0.3786339339793693, numeric gradient: 0.37863393398396283, reldiff: 4.593547764386585e-12\n",
      "ix: (1, 2) ; x[ix]: -2.0950322087259807\n",
      "f1: 21.653623164883435, f2: 21.653204158441692\n",
      "gradient: -4.1900644174519615, numeric gradient: -4.190064417421979, reldiff: 7.1555556017083284e-12\n",
      "ix: (1, 3) ; x[ix]: -1.433024892624174\n",
      "f1: 21.653556964151825, f2: 21.6532703591733\n",
      "gradient: -2.866049785248348, numeric gradient: -2.8660497852683875, reldiff: 6.992036808811924e-12\n",
      "ix: (1, 4) ; x[ix]: 1.8548479104449351\n",
      "f1: 21.65322817687152, f2: 21.653599146453608\n",
      "gradient: 3.7096958208898703, numeric gradient: 3.709695820894865, reldiff: 1.3463829878048662e-12\n",
      "ix: (2, 0) ; x[ix]: 0.7793723612835677\n",
      "f1: 21.653335724426434, f2: 21.65349159889869\n",
      "gradient: 1.5587447225671354, numeric gradient: 1.5587447225584583, reldiff: 5.566696679472896e-12\n",
      "ix: (2, 1) ; x[ix]: 1.289432235892072\n",
      "f1: 21.653284718438975, f2: 21.65354260488615\n",
      "gradient: 2.578864471784144, numeric gradient: 2.57886447176503, reldiff: 7.411806200088063e-12\n",
      "ix: (2, 2) ; x[ix]: 0.16786153597902495\n",
      "f1: 21.653396875508967, f2: 21.653430447816163\n",
      "gradient: 0.3357230719580499, numeric gradient: 0.33572307195584017, reldiff: 2.2097323970626803e-12\n",
      "ix: (2, 3) ; x[ix]: 0.7777775423398302\n",
      "f1: 21.65333588390833, f2: 21.653491439416797\n",
      "gradient: 1.5555550846796604, numeric gradient: 1.5555550846713118, reldiff: 5.366994189277144e-12\n",
      "ix: (2, 4) ; x[ix]: 0.753486279899674\n",
      "f1: 21.653338313034574, f2: 21.653489010290553\n",
      "gradient: 1.506972559799348, numeric gradient: 1.5069725597882666, reldiff: 7.353390731191606e-12\n",
      "ix: (3, 0) ; x[ix]: -0.5838848998653682\n",
      "f1: 21.65347205015255, f2: 21.65335527317258\n",
      "gradient: -1.1677697997307364, numeric gradient: -1.167769799721441, reldiff: 7.960004872638362e-12\n",
      "ix: (3, 1) ; x[ix]: 0.8154685804327387\n",
      "f1: 21.65333211480452, f2: 21.653495208520606\n",
      "gradient: 1.6309371608654775, numeric gradient: 1.6309371608613787, reldiff: 2.5131080832912744e-12\n",
      "ix: (3, 2) ; x[ix]: -1.1112542849193547\n",
      "f1: 21.653524787091055, f2: 21.653302536234072\n",
      "gradient: -2.2225085698387095, numeric gradient: -2.2225085698224234, reldiff: 7.327793383497842e-12\n",
      "ix: (3, 3) ; x[ix]: 1.599251190403785\n",
      "f1: 21.653253736543522, f2: 21.653573586781604\n",
      "gradient: 3.19850238080757, numeric gradient: 3.1985023808189794, reldiff: 3.567150691489054e-12\n",
      "ix: (3, 4) ; x[ix]: 0.048286209457603924\n",
      "f1: 21.653408833041617, f2: 21.65341849028351\n",
      "gradient: 0.09657241891520785, numeric gradient: 0.09657241893279433, reldiff: 1.7586487821574792e-11\n",
      "Gradient check passed!\n",
      "\n"
     ]
    }
   ],
   "source": [
    "sanity_check()"
   ]
  },
  {
   "cell_type": "code",
   "execution_count": 31,
   "metadata": {},
   "outputs": [
    {
     "data": {
      "text/plain": [
       "array([ 1.,  0., -1.])"
      ]
     },
     "execution_count": 31,
     "metadata": {},
     "output_type": "execute_result"
    }
   ],
   "source": [
    "np.log(np.exp(-np.array([-1,0,1])))"
   ]
  },
  {
   "cell_type": "code",
   "execution_count": null,
   "metadata": {},
   "outputs": [],
   "source": []
  }
 ],
 "metadata": {
  "kernelspec": {
   "display_name": "bari_env",
   "language": "python",
   "name": "bari_env"
  },
  "language_info": {
   "codemirror_mode": {
    "name": "ipython",
    "version": 3
   },
   "file_extension": ".py",
   "mimetype": "text/x-python",
   "name": "python",
   "nbconvert_exporter": "python",
   "pygments_lexer": "ipython3",
   "version": "3.6.6"
  }
 },
 "nbformat": 4,
 "nbformat_minor": 2
}
